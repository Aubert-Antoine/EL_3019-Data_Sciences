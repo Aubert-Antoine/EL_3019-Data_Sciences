{
 "cells": [
  {
   "cell_type": "markdown",
   "metadata": {},
   "source": [
    "# <center>Feature engineering : étude de cas</center>\n",
    "<center>Prédiction de prix de voitures</center>"
   ]
  },
  {
   "cell_type": "markdown",
   "metadata": {},
   "source": [
    "*Objectifs* : \n",
    "\n",
    "Ce TP a pour but de mettre en oeuvre les méthodes relatives au feature engineering présentées en cours afin d'améliorer la prédiction du prix d'une voiture. Plus particulièrement :\n",
    "- Identifier le type de chaque variable (quantitative/ordinale/catégorielle) et les transformer de façon adéquate (one hot encoding, standardisation, ...).\n",
    "- Etudier les relations entre variables pour ajouter de nouvelles features.\n",
    "- Comprendre la nature des features pour en ajouter de nouvelles.\n",
    "- Mettre en évidence la pertinence de ces manipulations."
   ]
  },
  {
   "cell_type": "markdown",
   "metadata": {},
   "source": [
    "Dans cette séance, les librairies suivantes seront utilisées : installez-les si nécessaire et chargez-les"
   ]
  },
  {
   "cell_type": "code",
   "execution_count": 2,
   "metadata": {},
   "outputs": [],
   "source": [
    "import pandas as pd\n",
    "import numpy as np\n",
    "import seaborn as sns\n",
    "from sklearn import preprocessing\n",
    "from matplotlib import pyplot as plt\n",
    "import time"
   ]
  },
  {
   "cell_type": "markdown",
   "metadata": {},
   "source": [
    "## Table des matières\n",
    "\n",
    "<p><div class=\"lev1\"><a href=\"#1-Jeu-de-données-:-présentation-et-analyse\"><span class=\"toc-item-num\">1 - </span>Jeu de données : présentation et analyse</a></div>\n",
    "<p><div class=\"lev1\"><a href=\"#2-Transformations-essentielles\"><span class=\"toc-item-num\">2 - </span>Transformations essentielles</a></div>\n",
    "<p><div class=\"lev2\"><a href=\"#2-1-One-hot-encoding\"><span class=\"toc-item-num\">2-1 </span>One-hot encoding</a></div>\n",
    "<p><div class=\"lev2\"><a href=\"#2-2-Mise-à-l'échelle\"><span class=\"toc-item-num\"> 2-2 </span>Mise à l'échelle</a></div>\n",
    "<p><div class=\"lev2\"><a href=\"#2-3-Résultat-de-référence\"><span class=\"toc-item-num\"> 2-3 </span>Résultat de référence</a></div>\n",
    "<p><div class=\"lev2\"><a href=\"#2-4-One-hot-encoding-vs-label-encoding\"><span class=\"toc-item-num\"> 2-4 </span>One-hot encoding vs label encoding</a></div>\n",
    "<p><div class=\"lev2\"><a href=\"#2-5-Oubli-de-mise-à-l'échelle\"><span class=\"toc-item-num\"> 2-5 </span>Oubli de mise à l'échelle</a></div>\n",
    "<p><div class=\"lev2\"><a href=\"#2-6-Sur-les-données-non-standardisées-et-mal-encodées\"><span class=\"toc-item-num\"> 2-6 </span>Sur les données non standardisées et mal encodées</a></div>\n",
    "<p><div class=\"lev1\"><a href=\"#3-Création-de-features\"><span class=\"toc-item-num\">3 </span>Création de features</a></div>\n",
    "<p><div class=\"lev1\"><a href=\"#3-1-Le-cas-de-la-variable-'Year'\"><span class=\"toc-item-num\"> 2-1 </span>Le cas de la variable 'Year'</a></div>\n",
    "<p><div class=\"lev2\"><a href=\"#3-2-Le-cas-de-la-variable-'highway-MPG'-:-première-approche\"><span class=\"toc-item-num\"> 3-2 </span>Le cas de la variable 'highway MPG' : première approche</a></div>\n",
    "<p><div class=\"lev2\"><a href=\"#3-3-Terme-d'interaction\"><span class=\"toc-item-num\"> 3-3 </span>Terme d'interaction</a></div>\n",
    "<p><div class=\"lev2\"><a href=\"#3-4-Encore-des-transformations-...\"><span class=\"toc-item-num\"> 3-4 </span>Encore des transformations ...</a></div>\n",
    "<p><div class=\"lev1\"><a href=\"#4-Et-les-variables-catégorielles-?\"><span class=\"toc-item-num\"> 4 </span>Et les variables catégorielles ?</a></div>\n",
    "<p><div class=\"lev2\"><a href=\"#4-1-Sont-elles-toutes-déterminantes-?\"><span class=\"toc-item-num\"> 4-1 </span>Sont-elles toutes déterminantes ?</a></div>\n",
    "<p><div class=\"lev1\"><a href=\"#5-OneHotEncoder-vs-get_dummies\"><span class=\"toc-item-num\"> 5 </span>OneHotEncoder vs get_dummies</a></div>"
   ]
  },
  {
   "cell_type": "markdown",
   "metadata": {},
   "source": [
    "## 1 Jeu de données : présentation et analyse\n",
    "\n",
    "Cette séance est inspirée de [ce travail](https://www.kaggle.com/anirbank/usedcarpriceprediction) et de [celui-ci](https://www.kaggle.com/bryanb/simple-and-quick-eda) et étudie le jeu de données disponible sur [Kaggle](https://www.kaggle.com/CooperUnion/cardataset). Il contient $11902$ observations de $14$ features présentées dans le tableau ci-dessous. Il s'agit de pouvoir prédire le prix de voitures à partir de certaines de leur caractéristiques.\n",
    "\n",
    "\n",
    "|Nom  |Description|Valeurs|\n",
    "|-----|-----------|--------------------|\n",
    "|Make  | marque | {BMW, FIAT, Mercedes-Benz, Chrysler, Nissan, Volvo,|\n",
    "|   | |    Mazda, Mitsubishi, Ferrari, Alfa Romeo, Toyota,|\n",
    "|   | |         McLaren, Maybach, Pontiac, Porsche, Saab, Audi, GMC,|\n",
    "|   | |       Hyundai, Plymouth, Honda, Oldsmobile, Suzuki, Ford,|\n",
    "|   | |       Cadillac, Kia, Bentley, Chevrolet, Dodge, Lamborghini,|\n",
    "|   | |       Lincoln, Subaru, Volkswagen, Spyker, Buick, Acura,|\n",
    "|   | |       Rolls-Royce, Maserati, Lexus, Aston Martin, Land Rover,|\n",
    "|   | |       Lotus, Infiniti, Scion, Genesis, HUMMER, Tesla,|\n",
    "|   | |       Bugatti}||\n",
    "|Year| année de fabrication  |$\\mathbb{N}$|\n",
    "|Engine Fuel Type| type de carburant |  {0 : 'unleaded', 1 : 'flex-fuel', 2 : 'diesel',|\n",
    "| |  | 3 : 'electric',4 : 'natural gas'} |\n",
    "|Engine HP| puissance du moteur (hp) | $\\mathbb{R}$|\n",
    "|Engine Cylinders | nombre de cylindre |$\\mathbb{N}$|\n",
    "|Transmission Type | type de transmission |'MANUAL', 'AUTOMATIC', 'AUTOMATED_MANUAL', 'DIRECT_DRIVE',\n",
    " |   | |      'UNKNOWN'|\n",
    "|Driven_Wheels| roues motrices |{rear wheel drive, all wheel drive, front wheel drive,four wheel drive}|\n",
    "|Number of Doors| nombre de portes | $\\mathbb{N}$|\n",
    "|Vehicle Size| taille du véhicule | {Compact, Midsize, Large}|\n",
    "|highway MPG| consommation sur route (en mpg)| $\\mathbb{R}$|\n",
    "|city mpg| consommation en ville (en mpg) |  $\\mathbb{R}$|\n",
    "|Popularity| popularité (via twitter) | $\\mathbb{R}$|\n",
    "|MSRP| prix (en \\\\$) | $\\mathbb{R}$|"
   ]
  },
  {
   "cell_type": "markdown",
   "metadata": {},
   "source": [
    "><u>Tâche 1</u>. Importez et visualisez les données se trouvant dans le fichier *data_cars.csv* fourni. Vous pouvez utiliser pour cela les méthodes suivantes, se trouvant dans la librairie <u>pandas</u> :\n",
    ">- <span style=\"border:1px; border-style:solid\">read_csv</span> \n",
    ">- <span style=\"border:1px; border-style:solid\">head</span> \n",
    ">- <span style=\"border:1px; border-style:solid\">describe</span>, en particulier, vous pouvez donner à cette fonction le paramètre suivant : *include = 'object'* ou *include = 'int64'* ou *include = 'float64'*,etc ... pour isoler un certain groupe de features.\n",
    ">\n",
    ">ainsi que les attributs :\n",
    ">- <span style=\"border:1px; border-style:solid\">dtypes</span> \n",
    ">- <span style=\"border:1px; border-style:solid\">shape</span>\n",
    ">\n",
    "> Assurez-vous que le nombre d'observations et de variables correspond bien à ce qui vous a été annoncé en introduction.\n",
    ">\n",
    "> Pensez à utiliser autant de cellules de code que nécessaire pour avoir un document agréable à lire et bien organisé."
   ]
  },
  {
   "cell_type": "code",
   "execution_count": 3,
   "metadata": {},
   "outputs": [
    {
     "data": {
      "text/html": [
       "<div>\n",
       "<style scoped>\n",
       "    .dataframe tbody tr th:only-of-type {\n",
       "        vertical-align: middle;\n",
       "    }\n",
       "\n",
       "    .dataframe tbody tr th {\n",
       "        vertical-align: top;\n",
       "    }\n",
       "\n",
       "    .dataframe thead th {\n",
       "        text-align: right;\n",
       "    }\n",
       "</style>\n",
       "<table border=\"1\" class=\"dataframe\">\n",
       "  <thead>\n",
       "    <tr style=\"text-align: right;\">\n",
       "      <th></th>\n",
       "      <th>Make</th>\n",
       "      <th>Year</th>\n",
       "      <th>Engine Fuel Type</th>\n",
       "      <th>Engine HP</th>\n",
       "      <th>Engine Cylinders</th>\n",
       "      <th>Transmission Type</th>\n",
       "      <th>Driven_Wheels</th>\n",
       "      <th>Number of Doors</th>\n",
       "      <th>Vehicle Size</th>\n",
       "      <th>Vehicle Style</th>\n",
       "      <th>highway MPG</th>\n",
       "      <th>city mpg</th>\n",
       "      <th>Popularity</th>\n",
       "      <th>MSRP</th>\n",
       "    </tr>\n",
       "  </thead>\n",
       "  <tbody>\n",
       "    <tr>\n",
       "      <th>0</th>\n",
       "      <td>BMW</td>\n",
       "      <td>2011</td>\n",
       "      <td>0</td>\n",
       "      <td>335.0</td>\n",
       "      <td>6.0</td>\n",
       "      <td>MANUAL</td>\n",
       "      <td>rear wheel drive</td>\n",
       "      <td>2.0</td>\n",
       "      <td>Compact</td>\n",
       "      <td>Coupe</td>\n",
       "      <td>26</td>\n",
       "      <td>19</td>\n",
       "      <td>3916</td>\n",
       "      <td>46135</td>\n",
       "    </tr>\n",
       "    <tr>\n",
       "      <th>1</th>\n",
       "      <td>BMW</td>\n",
       "      <td>2011</td>\n",
       "      <td>0</td>\n",
       "      <td>300.0</td>\n",
       "      <td>6.0</td>\n",
       "      <td>MANUAL</td>\n",
       "      <td>rear wheel drive</td>\n",
       "      <td>2.0</td>\n",
       "      <td>Compact</td>\n",
       "      <td>Convertible</td>\n",
       "      <td>28</td>\n",
       "      <td>19</td>\n",
       "      <td>3916</td>\n",
       "      <td>40650</td>\n",
       "    </tr>\n",
       "    <tr>\n",
       "      <th>2</th>\n",
       "      <td>BMW</td>\n",
       "      <td>2011</td>\n",
       "      <td>0</td>\n",
       "      <td>300.0</td>\n",
       "      <td>6.0</td>\n",
       "      <td>MANUAL</td>\n",
       "      <td>rear wheel drive</td>\n",
       "      <td>2.0</td>\n",
       "      <td>Compact</td>\n",
       "      <td>Coupe</td>\n",
       "      <td>28</td>\n",
       "      <td>20</td>\n",
       "      <td>3916</td>\n",
       "      <td>36350</td>\n",
       "    </tr>\n",
       "    <tr>\n",
       "      <th>3</th>\n",
       "      <td>BMW</td>\n",
       "      <td>2011</td>\n",
       "      <td>0</td>\n",
       "      <td>230.0</td>\n",
       "      <td>6.0</td>\n",
       "      <td>MANUAL</td>\n",
       "      <td>rear wheel drive</td>\n",
       "      <td>2.0</td>\n",
       "      <td>Compact</td>\n",
       "      <td>Coupe</td>\n",
       "      <td>28</td>\n",
       "      <td>18</td>\n",
       "      <td>3916</td>\n",
       "      <td>29450</td>\n",
       "    </tr>\n",
       "    <tr>\n",
       "      <th>4</th>\n",
       "      <td>BMW</td>\n",
       "      <td>2011</td>\n",
       "      <td>0</td>\n",
       "      <td>230.0</td>\n",
       "      <td>6.0</td>\n",
       "      <td>MANUAL</td>\n",
       "      <td>rear wheel drive</td>\n",
       "      <td>2.0</td>\n",
       "      <td>Compact</td>\n",
       "      <td>Convertible</td>\n",
       "      <td>28</td>\n",
       "      <td>18</td>\n",
       "      <td>3916</td>\n",
       "      <td>34500</td>\n",
       "    </tr>\n",
       "  </tbody>\n",
       "</table>\n",
       "</div>"
      ],
      "text/plain": [
       "  Make  Year  Engine Fuel Type  Engine HP  Engine Cylinders Transmission Type  \\\n",
       "0  BMW  2011                 0      335.0               6.0            MANUAL   \n",
       "1  BMW  2011                 0      300.0               6.0            MANUAL   \n",
       "2  BMW  2011                 0      300.0               6.0            MANUAL   \n",
       "3  BMW  2011                 0      230.0               6.0            MANUAL   \n",
       "4  BMW  2011                 0      230.0               6.0            MANUAL   \n",
       "\n",
       "      Driven_Wheels  Number of Doors Vehicle Size Vehicle Style  highway MPG  \\\n",
       "0  rear wheel drive              2.0      Compact         Coupe           26   \n",
       "1  rear wheel drive              2.0      Compact   Convertible           28   \n",
       "2  rear wheel drive              2.0      Compact         Coupe           28   \n",
       "3  rear wheel drive              2.0      Compact         Coupe           28   \n",
       "4  rear wheel drive              2.0      Compact   Convertible           28   \n",
       "\n",
       "   city mpg  Popularity   MSRP  \n",
       "0        19        3916  46135  \n",
       "1        19        3916  40650  \n",
       "2        20        3916  36350  \n",
       "3        18        3916  29450  \n",
       "4        18        3916  34500  "
      ]
     },
     "execution_count": 3,
     "metadata": {},
     "output_type": "execute_result"
    }
   ],
   "source": [
    "data = pd.read_csv('data_cars.csv',index_col=0)\n",
    "data.head()"
   ]
  },
  {
   "cell_type": "code",
   "execution_count": 4,
   "metadata": {},
   "outputs": [
    {
     "data": {
      "text/plain": [
       "(11902, 14)"
      ]
     },
     "execution_count": 4,
     "metadata": {},
     "output_type": "execute_result"
    }
   ],
   "source": [
    "data.shape"
   ]
  },
  {
   "cell_type": "code",
   "execution_count": 5,
   "metadata": {},
   "outputs": [
    {
     "data": {
      "text/plain": [
       "0"
      ]
     },
     "execution_count": 5,
     "metadata": {},
     "output_type": "execute_result"
    }
   ],
   "source": [
    "data.isna().sum().sum()"
   ]
  },
  {
   "cell_type": "code",
   "execution_count": 6,
   "metadata": {},
   "outputs": [
    {
     "data": {
      "text/plain": [
       "Make                  object\n",
       "Year                   int64\n",
       "Engine Fuel Type       int64\n",
       "Engine HP            float64\n",
       "Engine Cylinders     float64\n",
       "Transmission Type     object\n",
       "Driven_Wheels         object\n",
       "Number of Doors      float64\n",
       "Vehicle Size          object\n",
       "Vehicle Style         object\n",
       "highway MPG            int64\n",
       "city mpg               int64\n",
       "Popularity             int64\n",
       "MSRP                   int64\n",
       "dtype: object"
      ]
     },
     "execution_count": 6,
     "metadata": {},
     "output_type": "execute_result"
    }
   ],
   "source": [
    "data.dtypes"
   ]
  },
  {
   "cell_type": "code",
   "execution_count": 7,
   "metadata": {},
   "outputs": [
    {
     "data": {
      "text/html": [
       "<div>\n",
       "<style scoped>\n",
       "    .dataframe tbody tr th:only-of-type {\n",
       "        vertical-align: middle;\n",
       "    }\n",
       "\n",
       "    .dataframe tbody tr th {\n",
       "        vertical-align: top;\n",
       "    }\n",
       "\n",
       "    .dataframe thead th {\n",
       "        text-align: right;\n",
       "    }\n",
       "</style>\n",
       "<table border=\"1\" class=\"dataframe\">\n",
       "  <thead>\n",
       "    <tr style=\"text-align: right;\">\n",
       "      <th></th>\n",
       "      <th>Make</th>\n",
       "      <th>Transmission Type</th>\n",
       "      <th>Driven_Wheels</th>\n",
       "      <th>Vehicle Size</th>\n",
       "      <th>Vehicle Style</th>\n",
       "    </tr>\n",
       "  </thead>\n",
       "  <tbody>\n",
       "    <tr>\n",
       "      <th>count</th>\n",
       "      <td>11902</td>\n",
       "      <td>11902</td>\n",
       "      <td>11902</td>\n",
       "      <td>11902</td>\n",
       "      <td>11902</td>\n",
       "    </tr>\n",
       "    <tr>\n",
       "      <th>unique</th>\n",
       "      <td>48</td>\n",
       "      <td>5</td>\n",
       "      <td>4</td>\n",
       "      <td>3</td>\n",
       "      <td>16</td>\n",
       "    </tr>\n",
       "    <tr>\n",
       "      <th>top</th>\n",
       "      <td>Chevrolet</td>\n",
       "      <td>AUTOMATIC</td>\n",
       "      <td>front wheel drive</td>\n",
       "      <td>Compact</td>\n",
       "      <td>Sedan</td>\n",
       "    </tr>\n",
       "    <tr>\n",
       "      <th>freq</th>\n",
       "      <td>1123</td>\n",
       "      <td>8261</td>\n",
       "      <td>4787</td>\n",
       "      <td>4752</td>\n",
       "      <td>3048</td>\n",
       "    </tr>\n",
       "  </tbody>\n",
       "</table>\n",
       "</div>"
      ],
      "text/plain": [
       "             Make Transmission Type      Driven_Wheels Vehicle Size  \\\n",
       "count       11902             11902              11902        11902   \n",
       "unique         48                 5                  4            3   \n",
       "top     Chevrolet         AUTOMATIC  front wheel drive      Compact   \n",
       "freq         1123              8261               4787         4752   \n",
       "\n",
       "       Vehicle Style  \n",
       "count          11902  \n",
       "unique            16  \n",
       "top            Sedan  \n",
       "freq            3048  "
      ]
     },
     "execution_count": 7,
     "metadata": {},
     "output_type": "execute_result"
    }
   ],
   "source": [
    "data.describe(include='object')"
   ]
  },
  {
   "cell_type": "code",
   "execution_count": 8,
   "metadata": {},
   "outputs": [
    {
     "data": {
      "text/html": [
       "<div>\n",
       "<style scoped>\n",
       "    .dataframe tbody tr th:only-of-type {\n",
       "        vertical-align: middle;\n",
       "    }\n",
       "\n",
       "    .dataframe tbody tr th {\n",
       "        vertical-align: top;\n",
       "    }\n",
       "\n",
       "    .dataframe thead th {\n",
       "        text-align: right;\n",
       "    }\n",
       "</style>\n",
       "<table border=\"1\" class=\"dataframe\">\n",
       "  <thead>\n",
       "    <tr style=\"text-align: right;\">\n",
       "      <th></th>\n",
       "      <th>Year</th>\n",
       "      <th>Engine Fuel Type</th>\n",
       "      <th>highway MPG</th>\n",
       "      <th>city mpg</th>\n",
       "      <th>Popularity</th>\n",
       "      <th>MSRP</th>\n",
       "    </tr>\n",
       "  </thead>\n",
       "  <tbody>\n",
       "    <tr>\n",
       "      <th>count</th>\n",
       "      <td>11902.000000</td>\n",
       "      <td>11902.000000</td>\n",
       "      <td>11902.000000</td>\n",
       "      <td>11902.000000</td>\n",
       "      <td>11902.000000</td>\n",
       "      <td>1.190200e+04</td>\n",
       "    </tr>\n",
       "    <tr>\n",
       "      <th>mean</th>\n",
       "      <td>2010.397832</td>\n",
       "      <td>0.126197</td>\n",
       "      <td>26.644850</td>\n",
       "      <td>19.738615</td>\n",
       "      <td>1555.278441</td>\n",
       "      <td>4.061092e+04</td>\n",
       "    </tr>\n",
       "    <tr>\n",
       "      <th>std</th>\n",
       "      <td>7.571463</td>\n",
       "      <td>0.414068</td>\n",
       "      <td>8.863755</td>\n",
       "      <td>8.990560</td>\n",
       "      <td>1442.285873</td>\n",
       "      <td>6.013677e+04</td>\n",
       "    </tr>\n",
       "    <tr>\n",
       "      <th>min</th>\n",
       "      <td>1990.000000</td>\n",
       "      <td>0.000000</td>\n",
       "      <td>12.000000</td>\n",
       "      <td>7.000000</td>\n",
       "      <td>2.000000</td>\n",
       "      <td>2.000000e+03</td>\n",
       "    </tr>\n",
       "    <tr>\n",
       "      <th>25%</th>\n",
       "      <td>2007.000000</td>\n",
       "      <td>0.000000</td>\n",
       "      <td>22.000000</td>\n",
       "      <td>16.000000</td>\n",
       "      <td>549.000000</td>\n",
       "      <td>2.101750e+04</td>\n",
       "    </tr>\n",
       "    <tr>\n",
       "      <th>50%</th>\n",
       "      <td>2015.000000</td>\n",
       "      <td>0.000000</td>\n",
       "      <td>26.000000</td>\n",
       "      <td>18.000000</td>\n",
       "      <td>1385.000000</td>\n",
       "      <td>2.999500e+04</td>\n",
       "    </tr>\n",
       "    <tr>\n",
       "      <th>75%</th>\n",
       "      <td>2016.000000</td>\n",
       "      <td>0.000000</td>\n",
       "      <td>30.000000</td>\n",
       "      <td>22.000000</td>\n",
       "      <td>2009.000000</td>\n",
       "      <td>4.226500e+04</td>\n",
       "    </tr>\n",
       "    <tr>\n",
       "      <th>max</th>\n",
       "      <td>2017.000000</td>\n",
       "      <td>4.000000</td>\n",
       "      <td>354.000000</td>\n",
       "      <td>137.000000</td>\n",
       "      <td>5657.000000</td>\n",
       "      <td>2.065902e+06</td>\n",
       "    </tr>\n",
       "  </tbody>\n",
       "</table>\n",
       "</div>"
      ],
      "text/plain": [
       "               Year  Engine Fuel Type   highway MPG      city mpg  \\\n",
       "count  11902.000000      11902.000000  11902.000000  11902.000000   \n",
       "mean    2010.397832          0.126197     26.644850     19.738615   \n",
       "std        7.571463          0.414068      8.863755      8.990560   \n",
       "min     1990.000000          0.000000     12.000000      7.000000   \n",
       "25%     2007.000000          0.000000     22.000000     16.000000   \n",
       "50%     2015.000000          0.000000     26.000000     18.000000   \n",
       "75%     2016.000000          0.000000     30.000000     22.000000   \n",
       "max     2017.000000          4.000000    354.000000    137.000000   \n",
       "\n",
       "         Popularity          MSRP  \n",
       "count  11902.000000  1.190200e+04  \n",
       "mean    1555.278441  4.061092e+04  \n",
       "std     1442.285873  6.013677e+04  \n",
       "min        2.000000  2.000000e+03  \n",
       "25%      549.000000  2.101750e+04  \n",
       "50%     1385.000000  2.999500e+04  \n",
       "75%     2009.000000  4.226500e+04  \n",
       "max     5657.000000  2.065902e+06  "
      ]
     },
     "execution_count": 8,
     "metadata": {},
     "output_type": "execute_result"
    }
   ],
   "source": [
    "data.describe(include='int64')"
   ]
  },
  {
   "cell_type": "code",
   "execution_count": 9,
   "metadata": {},
   "outputs": [
    {
     "data": {
      "text/html": [
       "<div>\n",
       "<style scoped>\n",
       "    .dataframe tbody tr th:only-of-type {\n",
       "        vertical-align: middle;\n",
       "    }\n",
       "\n",
       "    .dataframe tbody tr th {\n",
       "        vertical-align: top;\n",
       "    }\n",
       "\n",
       "    .dataframe thead th {\n",
       "        text-align: right;\n",
       "    }\n",
       "</style>\n",
       "<table border=\"1\" class=\"dataframe\">\n",
       "  <thead>\n",
       "    <tr style=\"text-align: right;\">\n",
       "      <th></th>\n",
       "      <th>Engine HP</th>\n",
       "      <th>Engine Cylinders</th>\n",
       "      <th>Number of Doors</th>\n",
       "    </tr>\n",
       "  </thead>\n",
       "  <tbody>\n",
       "    <tr>\n",
       "      <th>count</th>\n",
       "      <td>11902.000000</td>\n",
       "      <td>11902.000000</td>\n",
       "      <td>11902.000000</td>\n",
       "    </tr>\n",
       "    <tr>\n",
       "      <th>mean</th>\n",
       "      <td>249.397363</td>\n",
       "      <td>5.616955</td>\n",
       "      <td>3.438162</td>\n",
       "    </tr>\n",
       "    <tr>\n",
       "      <th>std</th>\n",
       "      <td>108.916386</td>\n",
       "      <td>1.792268</td>\n",
       "      <td>0.880947</td>\n",
       "    </tr>\n",
       "    <tr>\n",
       "      <th>min</th>\n",
       "      <td>55.000000</td>\n",
       "      <td>0.000000</td>\n",
       "      <td>2.000000</td>\n",
       "    </tr>\n",
       "    <tr>\n",
       "      <th>25%</th>\n",
       "      <td>170.000000</td>\n",
       "      <td>4.000000</td>\n",
       "      <td>2.000000</td>\n",
       "    </tr>\n",
       "    <tr>\n",
       "      <th>50%</th>\n",
       "      <td>227.000000</td>\n",
       "      <td>6.000000</td>\n",
       "      <td>4.000000</td>\n",
       "    </tr>\n",
       "    <tr>\n",
       "      <th>75%</th>\n",
       "      <td>300.000000</td>\n",
       "      <td>6.000000</td>\n",
       "      <td>4.000000</td>\n",
       "    </tr>\n",
       "    <tr>\n",
       "      <th>max</th>\n",
       "      <td>1001.000000</td>\n",
       "      <td>16.000000</td>\n",
       "      <td>5.000000</td>\n",
       "    </tr>\n",
       "  </tbody>\n",
       "</table>\n",
       "</div>"
      ],
      "text/plain": [
       "          Engine HP  Engine Cylinders  Number of Doors\n",
       "count  11902.000000      11902.000000     11902.000000\n",
       "mean     249.397363          5.616955         3.438162\n",
       "std      108.916386          1.792268         0.880947\n",
       "min       55.000000          0.000000         2.000000\n",
       "25%      170.000000          4.000000         2.000000\n",
       "50%      227.000000          6.000000         4.000000\n",
       "75%      300.000000          6.000000         4.000000\n",
       "max     1001.000000         16.000000         5.000000"
      ]
     },
     "execution_count": 9,
     "metadata": {},
     "output_type": "execute_result"
    }
   ],
   "source": [
    "data.describe(include='float64')"
   ]
  },
  {
   "cell_type": "markdown",
   "metadata": {},
   "source": [
    "><u>Tâche 2</u>. Repérer la feature qui est de type 'int64' mais qu'il serait plus logique de transformer en 'object' car c'est une variable catégorielle.\n",
    ">\n",
    "> Effectuez cette transformation à l'aide du code proposé ci-dessous."
   ]
  },
  {
   "cell_type": "code",
   "execution_count": 10,
   "metadata": {},
   "outputs": [],
   "source": [
    "#mettre au bon format\n",
    "mapping_fuel = {\n",
    "        0 : 'unleaded',\n",
    "        1 : 'flex-fuel',\n",
    "        2 : 'diesel',\n",
    "        3 : 'electric',\n",
    "        4 : 'natural gas'\n",
    "}\n",
    "data['Engine Fuel Type']=data['Engine Fuel Type'].replace(mapping_fuel)"
   ]
  },
  {
   "cell_type": "code",
   "execution_count": 11,
   "metadata": {},
   "outputs": [
    {
     "data": {
      "text/html": [
       "<div>\n",
       "<style scoped>\n",
       "    .dataframe tbody tr th:only-of-type {\n",
       "        vertical-align: middle;\n",
       "    }\n",
       "\n",
       "    .dataframe tbody tr th {\n",
       "        vertical-align: top;\n",
       "    }\n",
       "\n",
       "    .dataframe thead th {\n",
       "        text-align: right;\n",
       "    }\n",
       "</style>\n",
       "<table border=\"1\" class=\"dataframe\">\n",
       "  <thead>\n",
       "    <tr style=\"text-align: right;\">\n",
       "      <th></th>\n",
       "      <th>Make</th>\n",
       "      <th>Year</th>\n",
       "      <th>Engine Fuel Type</th>\n",
       "      <th>Engine HP</th>\n",
       "      <th>Engine Cylinders</th>\n",
       "      <th>Transmission Type</th>\n",
       "      <th>Driven_Wheels</th>\n",
       "      <th>Number of Doors</th>\n",
       "      <th>Vehicle Size</th>\n",
       "      <th>Vehicle Style</th>\n",
       "      <th>highway MPG</th>\n",
       "      <th>city mpg</th>\n",
       "      <th>Popularity</th>\n",
       "      <th>MSRP</th>\n",
       "    </tr>\n",
       "  </thead>\n",
       "  <tbody>\n",
       "    <tr>\n",
       "      <th>0</th>\n",
       "      <td>BMW</td>\n",
       "      <td>2011</td>\n",
       "      <td>unleaded</td>\n",
       "      <td>335.0</td>\n",
       "      <td>6.0</td>\n",
       "      <td>MANUAL</td>\n",
       "      <td>rear wheel drive</td>\n",
       "      <td>2.0</td>\n",
       "      <td>Compact</td>\n",
       "      <td>Coupe</td>\n",
       "      <td>26</td>\n",
       "      <td>19</td>\n",
       "      <td>3916</td>\n",
       "      <td>46135</td>\n",
       "    </tr>\n",
       "    <tr>\n",
       "      <th>1</th>\n",
       "      <td>BMW</td>\n",
       "      <td>2011</td>\n",
       "      <td>unleaded</td>\n",
       "      <td>300.0</td>\n",
       "      <td>6.0</td>\n",
       "      <td>MANUAL</td>\n",
       "      <td>rear wheel drive</td>\n",
       "      <td>2.0</td>\n",
       "      <td>Compact</td>\n",
       "      <td>Convertible</td>\n",
       "      <td>28</td>\n",
       "      <td>19</td>\n",
       "      <td>3916</td>\n",
       "      <td>40650</td>\n",
       "    </tr>\n",
       "    <tr>\n",
       "      <th>2</th>\n",
       "      <td>BMW</td>\n",
       "      <td>2011</td>\n",
       "      <td>unleaded</td>\n",
       "      <td>300.0</td>\n",
       "      <td>6.0</td>\n",
       "      <td>MANUAL</td>\n",
       "      <td>rear wheel drive</td>\n",
       "      <td>2.0</td>\n",
       "      <td>Compact</td>\n",
       "      <td>Coupe</td>\n",
       "      <td>28</td>\n",
       "      <td>20</td>\n",
       "      <td>3916</td>\n",
       "      <td>36350</td>\n",
       "    </tr>\n",
       "    <tr>\n",
       "      <th>3</th>\n",
       "      <td>BMW</td>\n",
       "      <td>2011</td>\n",
       "      <td>unleaded</td>\n",
       "      <td>230.0</td>\n",
       "      <td>6.0</td>\n",
       "      <td>MANUAL</td>\n",
       "      <td>rear wheel drive</td>\n",
       "      <td>2.0</td>\n",
       "      <td>Compact</td>\n",
       "      <td>Coupe</td>\n",
       "      <td>28</td>\n",
       "      <td>18</td>\n",
       "      <td>3916</td>\n",
       "      <td>29450</td>\n",
       "    </tr>\n",
       "    <tr>\n",
       "      <th>4</th>\n",
       "      <td>BMW</td>\n",
       "      <td>2011</td>\n",
       "      <td>unleaded</td>\n",
       "      <td>230.0</td>\n",
       "      <td>6.0</td>\n",
       "      <td>MANUAL</td>\n",
       "      <td>rear wheel drive</td>\n",
       "      <td>2.0</td>\n",
       "      <td>Compact</td>\n",
       "      <td>Convertible</td>\n",
       "      <td>28</td>\n",
       "      <td>18</td>\n",
       "      <td>3916</td>\n",
       "      <td>34500</td>\n",
       "    </tr>\n",
       "  </tbody>\n",
       "</table>\n",
       "</div>"
      ],
      "text/plain": [
       "  Make  Year Engine Fuel Type  Engine HP  Engine Cylinders Transmission Type  \\\n",
       "0  BMW  2011         unleaded      335.0               6.0            MANUAL   \n",
       "1  BMW  2011         unleaded      300.0               6.0            MANUAL   \n",
       "2  BMW  2011         unleaded      300.0               6.0            MANUAL   \n",
       "3  BMW  2011         unleaded      230.0               6.0            MANUAL   \n",
       "4  BMW  2011         unleaded      230.0               6.0            MANUAL   \n",
       "\n",
       "      Driven_Wheels  Number of Doors Vehicle Size Vehicle Style  highway MPG  \\\n",
       "0  rear wheel drive              2.0      Compact         Coupe           26   \n",
       "1  rear wheel drive              2.0      Compact   Convertible           28   \n",
       "2  rear wheel drive              2.0      Compact         Coupe           28   \n",
       "3  rear wheel drive              2.0      Compact         Coupe           28   \n",
       "4  rear wheel drive              2.0      Compact   Convertible           28   \n",
       "\n",
       "   city mpg  Popularity   MSRP  \n",
       "0        19        3916  46135  \n",
       "1        19        3916  40650  \n",
       "2        20        3916  36350  \n",
       "3        18        3916  29450  \n",
       "4        18        3916  34500  "
      ]
     },
     "execution_count": 11,
     "metadata": {},
     "output_type": "execute_result"
    }
   ],
   "source": [
    "data.head()"
   ]
  },
  {
   "cell_type": "markdown",
   "metadata": {},
   "source": [
    "><u>Tâche 3</u>. Quelles sont les données :\n",
    ">- quantitatives ? \n",
    ">- catégorielles ? \n",
    ">- ordinales ? \n",
    ">\n",
    "> Compléter les listes suivantes."
   ]
  },
  {
   "cell_type": "code",
   "execution_count": 12,
   "metadata": {},
   "outputs": [],
   "source": [
    "list_q=['Year','highway MPG','city mpg','Engine HP', 'Engine Cylinders','Number of Doors','Popularity']#variables quantitatives sans la variable à prédire 'price' \n",
    "list_c=['Make','Transmission Type','Driven_Wheels','Vehicle Style','Engine Fuel Type']#variables catégorielles\n",
    "list_o=['Vehicle Size']#variables ordinales"
   ]
  },
  {
   "cell_type": "markdown",
   "metadata": {},
   "source": [
    "><u>Tâche 4</u>. Labelliser la variable ordinale à l'aide du code ci-dessous :"
   ]
  },
  {
   "cell_type": "code",
   "execution_count": 13,
   "metadata": {},
   "outputs": [
    {
     "data": {
      "text/plain": [
       "array(['Compact', 'Midsize', 'Large'], dtype=object)"
      ]
     },
     "execution_count": 13,
     "metadata": {},
     "output_type": "execute_result"
    }
   ],
   "source": [
    "data['Vehicle Size'].unique()"
   ]
  },
  {
   "cell_type": "code",
   "execution_count": 14,
   "metadata": {},
   "outputs": [],
   "source": [
    "#mettre au bon format\n",
    "mapping_ordinal = {\n",
    "        'Compact': 0,\n",
    "        'Midsize' : 1,\n",
    "        'Large': 2\n",
    "}\n",
    "data['Vehicle Size']=data['Vehicle Size'].replace(mapping_ordinal)"
   ]
  },
  {
   "cell_type": "code",
   "execution_count": 15,
   "metadata": {},
   "outputs": [
    {
     "data": {
      "text/plain": [
       "dtype('int64')"
      ]
     },
     "execution_count": 15,
     "metadata": {},
     "output_type": "execute_result"
    }
   ],
   "source": [
    "data['Vehicle Size'].dtypes"
   ]
  },
  {
   "cell_type": "code",
   "execution_count": 16,
   "metadata": {},
   "outputs": [
    {
     "data": {
      "text/plain": [
       "Make                  object\n",
       "Year                   int64\n",
       "Engine Fuel Type      object\n",
       "Engine HP            float64\n",
       "Engine Cylinders     float64\n",
       "Transmission Type     object\n",
       "Driven_Wheels         object\n",
       "Number of Doors      float64\n",
       "Vehicle Size           int64\n",
       "Vehicle Style         object\n",
       "highway MPG            int64\n",
       "city mpg               int64\n",
       "Popularity             int64\n",
       "MSRP                   int64\n",
       "dtype: object"
      ]
     },
     "execution_count": 16,
     "metadata": {},
     "output_type": "execute_result"
    }
   ],
   "source": [
    "data.dtypes"
   ]
  },
  {
   "cell_type": "markdown",
   "metadata": {},
   "source": [
    "><u> Tâche 5</u>. Visualiser les gammes de prix des différentes marques de véhicule à l'aide de la fonction <span style=\"border:1px; border-style:solid\">boxplot</span> de la librairie <u>seaborn</u>."
   ]
  },
  {
   "cell_type": "code",
   "execution_count": 17,
   "metadata": {},
   "outputs": [
    {
     "data": {
      "image/png": "[encoded data removed]",
      "text/plain": [
       "<Figure size 1600x1200 with 1 Axes>"
      ]
     },
     "metadata": {},
     "output_type": "display_data"
    }
   ],
   "source": [
    "plt.figure(figsize=(16, 12))\n",
    "ax = sns.boxplot(x='Make', y='MSRP', data=data)\n",
    "ax.set_xticklabels(ax.get_xticklabels(),rotation=90);"
   ]
  },
  {
   "cell_type": "markdown",
   "metadata": {},
   "source": [
    "<u> Tâche 6</u>. Il apparaît que ce jeu de données renferme des marques aux gammes de prix très hétérogènes. Visualiser le prix médian de chaque marque à l'aide de la fonction <span style=\"border:1px; border-style:solid\">groupby</span> de la librairie <u>pandas</u>."
   ]
  },
  {
   "cell_type": "code",
   "execution_count": 18,
   "metadata": {},
   "outputs": [
    {
     "data": {
      "text/plain": [
       "<AxesSubplot:xlabel='Make'>"
      ]
     },
     "execution_count": 18,
     "metadata": {},
     "output_type": "execute_result"
    },
    {
     "data": {
      "image/png": "[encoded data removed]",
      "text/plain": [
       "<Figure size 1600x1200 with 1 Axes>"
      ]
     },
     "metadata": {},
     "output_type": "display_data"
    }
   ],
   "source": [
    "Make=data.groupby(['Make'])['MSRP'].median()\n",
    "plt.figure(figsize=(16, 12))\n",
    "Make.plot(kind='bar', stacked=True)"
   ]
  },
  {
   "cell_type": "markdown",
   "metadata": {},
   "source": [
    "<u> Tâche 7</u>. Il semble judicieux de traiter des groupes de marques différemment selon leur gamme de prix. A l'aide des fonctions <span style=\"border:1px; border-style:solid\">groupby</span> et <span style=\"border:1px; border-style:solid\">join</span> de la librairie <u>pandas</u>, garder uniquement dans le jeu de données les marques de prix médian inférieur à $30000$\\\\$."
   ]
  },
  {
   "cell_type": "code",
   "execution_count": 19,
   "metadata": {},
   "outputs": [],
   "source": [
    "data=data.join(data.groupby('Make')['MSRP'].median(), on='Make', rsuffix='_Median')\n",
    "data=data[data['MSRP_Median']<30000]\n",
    "data=data.drop(['MSRP_Median'],axis=1)\n",
    "data.reset_index(drop=True,inplace=True)\n",
    "\n",
    "#Autre possibilité (sans utiliser 'join') :\n",
    "#marquesAConserver = data.groupby(by='Make')['MSRP'].median()<30000\n",
    "#marquesAConserver # marque True/False\n",
    "#idxAConserver = data['Make'].apply(lambda x: marquesAConserver[x])\n",
    "#data=data[idxAConserver]"
   ]
  },
  {
   "cell_type": "code",
   "execution_count": 20,
   "metadata": {},
   "outputs": [
    {
     "data": {
      "text/html": [
       "<div>\n",
       "<style scoped>\n",
       "    .dataframe tbody tr th:only-of-type {\n",
       "        vertical-align: middle;\n",
       "    }\n",
       "\n",
       "    .dataframe tbody tr th {\n",
       "        vertical-align: top;\n",
       "    }\n",
       "\n",
       "    .dataframe thead th {\n",
       "        text-align: right;\n",
       "    }\n",
       "</style>\n",
       "<table border=\"1\" class=\"dataframe\">\n",
       "  <thead>\n",
       "    <tr style=\"text-align: right;\">\n",
       "      <th></th>\n",
       "      <th>Make</th>\n",
       "      <th>Year</th>\n",
       "      <th>Engine Fuel Type</th>\n",
       "      <th>Engine HP</th>\n",
       "      <th>Engine Cylinders</th>\n",
       "      <th>Transmission Type</th>\n",
       "      <th>Driven_Wheels</th>\n",
       "      <th>Number of Doors</th>\n",
       "      <th>Vehicle Size</th>\n",
       "      <th>Vehicle Style</th>\n",
       "      <th>highway MPG</th>\n",
       "      <th>city mpg</th>\n",
       "      <th>Popularity</th>\n",
       "      <th>MSRP</th>\n",
       "    </tr>\n",
       "  </thead>\n",
       "  <tbody>\n",
       "    <tr>\n",
       "      <th>0</th>\n",
       "      <td>FIAT</td>\n",
       "      <td>2017</td>\n",
       "      <td>unleaded</td>\n",
       "      <td>160.0</td>\n",
       "      <td>4.0</td>\n",
       "      <td>MANUAL</td>\n",
       "      <td>rear wheel drive</td>\n",
       "      <td>2.0</td>\n",
       "      <td>0</td>\n",
       "      <td>Convertible</td>\n",
       "      <td>35</td>\n",
       "      <td>26</td>\n",
       "      <td>819</td>\n",
       "      <td>27495</td>\n",
       "    </tr>\n",
       "    <tr>\n",
       "      <th>1</th>\n",
       "      <td>FIAT</td>\n",
       "      <td>2017</td>\n",
       "      <td>unleaded</td>\n",
       "      <td>160.0</td>\n",
       "      <td>4.0</td>\n",
       "      <td>MANUAL</td>\n",
       "      <td>rear wheel drive</td>\n",
       "      <td>2.0</td>\n",
       "      <td>0</td>\n",
       "      <td>Convertible</td>\n",
       "      <td>35</td>\n",
       "      <td>26</td>\n",
       "      <td>819</td>\n",
       "      <td>24995</td>\n",
       "    </tr>\n",
       "    <tr>\n",
       "      <th>2</th>\n",
       "      <td>FIAT</td>\n",
       "      <td>2017</td>\n",
       "      <td>unleaded</td>\n",
       "      <td>160.0</td>\n",
       "      <td>4.0</td>\n",
       "      <td>MANUAL</td>\n",
       "      <td>rear wheel drive</td>\n",
       "      <td>2.0</td>\n",
       "      <td>0</td>\n",
       "      <td>Convertible</td>\n",
       "      <td>35</td>\n",
       "      <td>26</td>\n",
       "      <td>819</td>\n",
       "      <td>28195</td>\n",
       "    </tr>\n",
       "    <tr>\n",
       "      <th>3</th>\n",
       "      <td>Chrysler</td>\n",
       "      <td>2015</td>\n",
       "      <td>flex-fuel</td>\n",
       "      <td>184.0</td>\n",
       "      <td>4.0</td>\n",
       "      <td>AUTOMATIC</td>\n",
       "      <td>front wheel drive</td>\n",
       "      <td>4.0</td>\n",
       "      <td>1</td>\n",
       "      <td>Sedan</td>\n",
       "      <td>36</td>\n",
       "      <td>23</td>\n",
       "      <td>1013</td>\n",
       "      <td>25170</td>\n",
       "    </tr>\n",
       "    <tr>\n",
       "      <th>4</th>\n",
       "      <td>Chrysler</td>\n",
       "      <td>2015</td>\n",
       "      <td>flex-fuel</td>\n",
       "      <td>184.0</td>\n",
       "      <td>4.0</td>\n",
       "      <td>AUTOMATIC</td>\n",
       "      <td>front wheel drive</td>\n",
       "      <td>4.0</td>\n",
       "      <td>1</td>\n",
       "      <td>Sedan</td>\n",
       "      <td>36</td>\n",
       "      <td>23</td>\n",
       "      <td>1013</td>\n",
       "      <td>23950</td>\n",
       "    </tr>\n",
       "  </tbody>\n",
       "</table>\n",
       "</div>"
      ],
      "text/plain": [
       "       Make  Year Engine Fuel Type  Engine HP  Engine Cylinders  \\\n",
       "0      FIAT  2017         unleaded      160.0               4.0   \n",
       "1      FIAT  2017         unleaded      160.0               4.0   \n",
       "2      FIAT  2017         unleaded      160.0               4.0   \n",
       "3  Chrysler  2015        flex-fuel      184.0               4.0   \n",
       "4  Chrysler  2015        flex-fuel      184.0               4.0   \n",
       "\n",
       "  Transmission Type      Driven_Wheels  Number of Doors  Vehicle Size  \\\n",
       "0            MANUAL   rear wheel drive              2.0             0   \n",
       "1            MANUAL   rear wheel drive              2.0             0   \n",
       "2            MANUAL   rear wheel drive              2.0             0   \n",
       "3         AUTOMATIC  front wheel drive              4.0             1   \n",
       "4         AUTOMATIC  front wheel drive              4.0             1   \n",
       "\n",
       "  Vehicle Style  highway MPG  city mpg  Popularity   MSRP  \n",
       "0   Convertible           35        26         819  27495  \n",
       "1   Convertible           35        26         819  24995  \n",
       "2   Convertible           35        26         819  28195  \n",
       "3         Sedan           36        23        1013  25170  \n",
       "4         Sedan           36        23        1013  23950  "
      ]
     },
     "execution_count": 20,
     "metadata": {},
     "output_type": "execute_result"
    }
   ],
   "source": [
    "data.head()"
   ]
  },
  {
   "cell_type": "code",
   "execution_count": 21,
   "metadata": {},
   "outputs": [
    {
     "data": {
      "text/plain": [
       "RangeIndex(start=0, stop=6948, step=1)"
      ]
     },
     "execution_count": 21,
     "metadata": {},
     "output_type": "execute_result"
    }
   ],
   "source": [
    "data.index"
   ]
  },
  {
   "cell_type": "code",
   "execution_count": 22,
   "metadata": {},
   "outputs": [
    {
     "data": {
      "text/plain": [
       "(6948, 14)"
      ]
     },
     "execution_count": 22,
     "metadata": {},
     "output_type": "execute_result"
    }
   ],
   "source": [
    "data.shape"
   ]
  },
  {
   "cell_type": "markdown",
   "metadata": {},
   "source": [
    "><u> Tâche 8</u>. Vérifier qu'il n'il y pas d'outliers dans les valeurs des prix que nous avons gardé avec la fonction <span style=\"border:1px; border-style:solid\">boxplot</span> de la librairie <u>seaborn</u> et enlevez-les le cas échéant. Combien de marques avons-nous gardées jusqu'à présent ?"
   ]
  },
  {
   "cell_type": "code",
   "execution_count": 23,
   "metadata": {},
   "outputs": [
    {
     "data": {
      "text/plain": [
       "<AxesSubplot:xlabel='MSRP'>"
      ]
     },
     "execution_count": 23,
     "metadata": {},
     "output_type": "execute_result"
    },
    {
     "data": {
      "image/png": "[encoded data removed]",
      "text/plain": [
       "<Figure size 640x480 with 1 Axes>"
      ]
     },
     "metadata": {},
     "output_type": "display_data"
    }
   ],
   "source": [
    "sns.boxplot(x=data['MSRP'])"
   ]
  },
  {
   "cell_type": "code",
   "execution_count": 24,
   "metadata": {},
   "outputs": [],
   "source": [
    "data=data[data['MSRP']<140000]\n",
    "data.reset_index(drop=True,inplace=True)"
   ]
  },
  {
   "cell_type": "code",
   "execution_count": 25,
   "metadata": {},
   "outputs": [
    {
     "data": {
      "text/plain": [
       "(6944, 14)"
      ]
     },
     "execution_count": 25,
     "metadata": {},
     "output_type": "execute_result"
    }
   ],
   "source": [
    "data.shape"
   ]
  },
  {
   "cell_type": "code",
   "execution_count": 26,
   "metadata": {},
   "outputs": [
    {
     "data": {
      "text/plain": [
       "RangeIndex(start=0, stop=6944, step=1)"
      ]
     },
     "execution_count": 26,
     "metadata": {},
     "output_type": "execute_result"
    }
   ],
   "source": [
    "data.index"
   ]
  },
  {
   "cell_type": "code",
   "execution_count": 27,
   "metadata": {},
   "outputs": [
    {
     "data": {
      "text/plain": [
       "18"
      ]
     },
     "execution_count": 27,
     "metadata": {},
     "output_type": "execute_result"
    }
   ],
   "source": [
    "data['Make'].nunique()"
   ]
  },
  {
   "cell_type": "markdown",
   "metadata": {},
   "source": [
    "On restreint encore le nombre catégories en sélectionnant uniquement les marques suivantes : 'Ford', 'Chevrolet', 'Chrysler','Pontiac', 'Subaru', 'Hyundai', 'Honda', 'Mazda', 'Nissan' et 'Suzuki'."
   ]
  },
  {
   "cell_type": "code",
   "execution_count": 28,
   "metadata": {},
   "outputs": [],
   "source": [
    "Makes=['Ford','Chevrolet','Chrysler','Pontiac','Subaru',\n",
    "       'Hyundai','Honda','Mazda', 'Nissan','Suzuki']\n",
    "data=data[data.Make.isin(Makes)]\n",
    "data.reset_index(drop=True,inplace=True)"
   ]
  },
  {
   "cell_type": "markdown",
   "metadata": {},
   "source": [
    "><u>Tâche 9</u>. Effectuez une analyse préliminaire des relations entre ces variables, qui pourra nous mettre sur la piste des transformations et créations de feature à réaliser. Pour cela :\n",
    ">\n",
    ">- Regardez quelles sont les corrélations entre les variables quantitatives à l'aide des fonctions <span style=\"border:1px; border-style:solid\">corr</span> de <u>pandas</u> et <span style=\"border:1px; border-style:solid\">heatmap</span> de la librairie <u>seaborn</u>. Même chose pour les variables ordinales.\n",
    ">- Visualiser les nuages de points et leur tendance linéaire ou non entre les différentes variables quantitatives et la variable que l'on veut prédire, 'MSRP', en utilisant la fonction <span style=\"border:1px; border-style:solid\">regplot</span> de la librairie <u>seaborn</u>. Même chose pour les variables ordinales.\n",
    ">- Visualiser les boxplots des différentes variables catégorielles relativement à la variable 'price' en utilisant la fonction <span style=\"border:1px; border-style:solid\">boxplot</span> de la librairie <u>seaborn</u>.\n",
    ">\n",
    "> Pensez à utiliser autant de cellules de code que nécessaire pour avoir un document agréable à lire et bien organisé."
   ]
  },
  {
   "cell_type": "code",
   "execution_count": 29,
   "metadata": {},
   "outputs": [
    {
     "data": {
      "text/plain": [
       "<AxesSubplot:>"
      ]
     },
     "execution_count": 29,
     "metadata": {},
     "output_type": "execute_result"
    },
    {
     "data": {
      "image/png": "[encoded data removed]",
      "text/plain": [
       "<Figure size 640x480 with 2 Axes>"
      ]
     },
     "metadata": {},
     "output_type": "display_data"
    }
   ],
   "source": [
    "#correlation plot\n",
    "corr = data[list_q+['MSRP']].corr()\n",
    "sns.heatmap(corr, vmin=-1, vmax=1,annot=True)"
   ]
  },
  {
   "cell_type": "code",
   "execution_count": 30,
   "metadata": {},
   "outputs": [
    {
     "name": "stdout",
     "output_type": "stream",
     "text": [
      "                      Year  highway MPG  city mpg  Engine HP  \\\n",
      "Year              1.000000     0.273192  0.194467   0.385689   \n",
      "highway MPG       0.273192     1.000000  0.941720  -0.347818   \n",
      "city mpg          0.194467     0.941720  1.000000  -0.311200   \n",
      "Engine HP         0.385689    -0.347818 -0.311200   1.000000   \n",
      "Engine Cylinders -0.076539    -0.669115 -0.609996   0.683590   \n",
      "Number of Doors   0.346771     0.147321  0.131062  -0.068304   \n",
      "Popularity        0.065101    -0.132642 -0.081767   0.181885   \n",
      "MSRP              0.672539    -0.104344 -0.098190   0.801281   \n",
      "\n",
      "                  Engine Cylinders  Number of Doors  Popularity      MSRP  \n",
      "Year                     -0.076539         0.346771    0.065101  0.672539  \n",
      "highway MPG              -0.669115         0.147321   -0.132642 -0.104344  \n",
      "city mpg                 -0.609996         0.131062   -0.081767 -0.098190  \n",
      "Engine HP                 0.683590        -0.068304    0.181885  0.801281  \n",
      "Engine Cylinders          1.000000        -0.135039    0.218940  0.382778  \n",
      "Number of Doors          -0.135039         1.000000   -0.060286  0.150105  \n",
      "Popularity                0.218940        -0.060286    1.000000  0.108686  \n",
      "MSRP                      0.382778         0.150105    0.108686  1.000000  \n"
     ]
    }
   ],
   "source": [
    "print(corr)"
   ]
  },
  {
   "cell_type": "code",
   "execution_count": 29,
   "metadata": {},
   "outputs": [
    {
     "name": "stdout",
     "output_type": "stream",
     "text": [
      "MSRP                1.000000\n",
      "Engine HP           0.801281\n",
      "Year                0.672539\n",
      "Engine Cylinders    0.382778\n",
      "Number of Doors     0.150105\n",
      "Popularity          0.108686\n",
      "highway MPG         0.104344\n",
      "city mpg            0.098190\n",
      "Name: MSRP, dtype: float64\n"
     ]
    }
   ],
   "source": [
    "print(np.abs(corr['MSRP']).sort_values(ascending=False))"
   ]
  },
  {
   "cell_type": "code",
   "execution_count": 30,
   "metadata": {},
   "outputs": [
    {
     "data": {
      "text/plain": [
       "<matplotlib.axes._subplots.AxesSubplot at 0x7f81c8c66d30>"
      ]
     },
     "execution_count": 30,
     "metadata": {},
     "output_type": "execute_result"
    },
    {
     "data": {
      "image/png": "[encoded data removed]",
      "text/plain": [
       "<Figure size 432x288 with 1 Axes>"
      ]
     },
     "metadata": {
      "needs_background": "light"
     },
     "output_type": "display_data"
    }
   ],
   "source": [
    "sns.regplot(x=\"Engine HP\", y=\"MSRP\", data=data)"
   ]
  },
  {
   "cell_type": "code",
   "execution_count": 31,
   "metadata": {},
   "outputs": [
    {
     "data": {
      "image/png": "[encoded data removed]",
      "text/plain": [
       "<Figure size 1080x3600 with 8 Axes>"
      ]
     },
     "metadata": {
      "needs_background": "light"
     },
     "output_type": "display_data"
    }
   ],
   "source": [
    "# subplots for loop to get all the graphs\n",
    "rowCnt = len(list_q+list_o)\n",
    "colCnt = 3  \n",
    "subCnt = 1    \n",
    "\n",
    "fig = plt.figure(figsize=(15,50))\n",
    "fig.subplots_adjust(hspace = .6)\n",
    "\n",
    "for i in (list_q+list_o):\n",
    "    fig.add_subplot(rowCnt, colCnt, subCnt)\n",
    "    plt.xlabel(i, fontsize=12)\n",
    "    sns.regplot(x=data[[i]], y=\"MSRP\", data=data)\n",
    "    subCnt = subCnt + 1\n",
    "\n",
    "plt.show()\n",
    "\n",
    "#Autre possibilité :\n",
    "#sns.pairplot(data, kind='reg')"
   ]
  },
  {
   "cell_type": "code",
   "execution_count": 32,
   "metadata": {},
   "outputs": [
    {
     "data": {
      "image/png": "[encoded data removed]",
      "text/plain": [
       "<Figure size 1152x864 with 1 Axes>"
      ]
     },
     "metadata": {
      "needs_background": "light"
     },
     "output_type": "display_data"
    }
   ],
   "source": [
    "plt.figure(figsize=(16, 12))\n",
    "ax = sns.boxplot(x='Make', y='MSRP', data=data)\n",
    "ax.set_xticklabels(ax.get_xticklabels(),rotation=90);"
   ]
  },
  {
   "cell_type": "code",
   "execution_count": 33,
   "metadata": {},
   "outputs": [
    {
     "data": {
      "image/png": "[encoded data removed]",
      "text/plain": [
       "<Figure size 864x2160 with 5 Axes>"
      ]
     },
     "metadata": {
      "needs_background": "light"
     },
     "output_type": "display_data"
    }
   ],
   "source": [
    "#  subplots for loop to get all the graphs\n",
    "rowCnt = len(list_c)\n",
    "colCnt = 2    \n",
    "subCnt = 1  \n",
    "\n",
    "fig = plt.figure(figsize=(12,30))\n",
    "fig.subplots_adjust(hspace = .6)\n",
    "\n",
    "for i in list_c:\n",
    "    fig.add_subplot(rowCnt, colCnt, subCnt)\n",
    "    plt.xlabel(i, fontsize=12)\n",
    "    ax = sns.boxplot(x=data[i], y='MSRP', data=data)\n",
    "    ax.set_xticklabels(ax.get_xticklabels(),rotation=30);\n",
    "    subCnt = subCnt + 1\n",
    "\n",
    "plt.show()"
   ]
  },
  {
   "cell_type": "markdown",
   "metadata": {},
   "source": [
    "'Highway MPG' et 'city mpg' étant fortement corrélées, on ne garde que 'highway MPG' dans le jeu de données. On écarte également 'Popularity' qui semble peu pertinent."
   ]
  },
  {
   "cell_type": "code",
   "execution_count": 33,
   "metadata": {},
   "outputs": [],
   "source": [
    "data=data.drop(['city mpg','Popularity'],axis=1)"
   ]
  },
  {
   "cell_type": "code",
   "execution_count": 34,
   "metadata": {},
   "outputs": [
    {
     "data": {
      "text/html": [
       "<div>\n",
       "<style scoped>\n",
       "    .dataframe tbody tr th:only-of-type {\n",
       "        vertical-align: middle;\n",
       "    }\n",
       "\n",
       "    .dataframe tbody tr th {\n",
       "        vertical-align: top;\n",
       "    }\n",
       "\n",
       "    .dataframe thead th {\n",
       "        text-align: right;\n",
       "    }\n",
       "</style>\n",
       "<table border=\"1\" class=\"dataframe\">\n",
       "  <thead>\n",
       "    <tr style=\"text-align: right;\">\n",
       "      <th></th>\n",
       "      <th>Make</th>\n",
       "      <th>Year</th>\n",
       "      <th>Engine Fuel Type</th>\n",
       "      <th>Engine HP</th>\n",
       "      <th>Engine Cylinders</th>\n",
       "      <th>Transmission Type</th>\n",
       "      <th>Driven_Wheels</th>\n",
       "      <th>Number of Doors</th>\n",
       "      <th>Vehicle Size</th>\n",
       "      <th>Vehicle Style</th>\n",
       "      <th>highway MPG</th>\n",
       "      <th>MSRP</th>\n",
       "    </tr>\n",
       "  </thead>\n",
       "  <tbody>\n",
       "    <tr>\n",
       "      <th>0</th>\n",
       "      <td>Chrysler</td>\n",
       "      <td>2015</td>\n",
       "      <td>flex-fuel</td>\n",
       "      <td>184.0</td>\n",
       "      <td>4.0</td>\n",
       "      <td>AUTOMATIC</td>\n",
       "      <td>front wheel drive</td>\n",
       "      <td>4.0</td>\n",
       "      <td>1</td>\n",
       "      <td>Sedan</td>\n",
       "      <td>36</td>\n",
       "      <td>25170</td>\n",
       "    </tr>\n",
       "    <tr>\n",
       "      <th>1</th>\n",
       "      <td>Chrysler</td>\n",
       "      <td>2015</td>\n",
       "      <td>flex-fuel</td>\n",
       "      <td>184.0</td>\n",
       "      <td>4.0</td>\n",
       "      <td>AUTOMATIC</td>\n",
       "      <td>front wheel drive</td>\n",
       "      <td>4.0</td>\n",
       "      <td>1</td>\n",
       "      <td>Sedan</td>\n",
       "      <td>36</td>\n",
       "      <td>23950</td>\n",
       "    </tr>\n",
       "    <tr>\n",
       "      <th>2</th>\n",
       "      <td>Chrysler</td>\n",
       "      <td>2015</td>\n",
       "      <td>flex-fuel</td>\n",
       "      <td>295.0</td>\n",
       "      <td>6.0</td>\n",
       "      <td>AUTOMATIC</td>\n",
       "      <td>all wheel drive</td>\n",
       "      <td>4.0</td>\n",
       "      <td>1</td>\n",
       "      <td>Sedan</td>\n",
       "      <td>29</td>\n",
       "      <td>29370</td>\n",
       "    </tr>\n",
       "    <tr>\n",
       "      <th>3</th>\n",
       "      <td>Chrysler</td>\n",
       "      <td>2015</td>\n",
       "      <td>flex-fuel</td>\n",
       "      <td>184.0</td>\n",
       "      <td>4.0</td>\n",
       "      <td>AUTOMATIC</td>\n",
       "      <td>front wheel drive</td>\n",
       "      <td>4.0</td>\n",
       "      <td>1</td>\n",
       "      <td>Sedan</td>\n",
       "      <td>36</td>\n",
       "      <td>21995</td>\n",
       "    </tr>\n",
       "    <tr>\n",
       "      <th>4</th>\n",
       "      <td>Chrysler</td>\n",
       "      <td>2015</td>\n",
       "      <td>flex-fuel</td>\n",
       "      <td>184.0</td>\n",
       "      <td>4.0</td>\n",
       "      <td>AUTOMATIC</td>\n",
       "      <td>front wheel drive</td>\n",
       "      <td>4.0</td>\n",
       "      <td>1</td>\n",
       "      <td>Sedan</td>\n",
       "      <td>36</td>\n",
       "      <td>26625</td>\n",
       "    </tr>\n",
       "  </tbody>\n",
       "</table>\n",
       "</div>"
      ],
      "text/plain": [
       "       Make  Year Engine Fuel Type  Engine HP  Engine Cylinders  \\\n",
       "0  Chrysler  2015        flex-fuel      184.0               4.0   \n",
       "1  Chrysler  2015        flex-fuel      184.0               4.0   \n",
       "2  Chrysler  2015        flex-fuel      295.0               6.0   \n",
       "3  Chrysler  2015        flex-fuel      184.0               4.0   \n",
       "4  Chrysler  2015        flex-fuel      184.0               4.0   \n",
       "\n",
       "  Transmission Type      Driven_Wheels  Number of Doors  Vehicle Size  \\\n",
       "0         AUTOMATIC  front wheel drive              4.0             1   \n",
       "1         AUTOMATIC  front wheel drive              4.0             1   \n",
       "2         AUTOMATIC    all wheel drive              4.0             1   \n",
       "3         AUTOMATIC  front wheel drive              4.0             1   \n",
       "4         AUTOMATIC  front wheel drive              4.0             1   \n",
       "\n",
       "  Vehicle Style  highway MPG   MSRP  \n",
       "0         Sedan           36  25170  \n",
       "1         Sedan           36  23950  \n",
       "2         Sedan           29  29370  \n",
       "3         Sedan           36  21995  \n",
       "4         Sedan           36  26625  "
      ]
     },
     "execution_count": 34,
     "metadata": {},
     "output_type": "execute_result"
    }
   ],
   "source": [
    "data.head()"
   ]
  },
  {
   "cell_type": "markdown",
   "metadata": {},
   "source": [
    "<div class=\"lev1\"><a href=\"#Table-des-matières\"><span class=\"toc-item-num\"></span>Retour à la table des matières</a></div>"
   ]
  },
  {
   "cell_type": "markdown",
   "metadata": {},
   "source": [
    "## 2 Transformations essentielles"
   ]
  },
  {
   "cell_type": "markdown",
   "metadata": {},
   "source": [
    "### 2-1 One-hot encoding"
   ]
  },
  {
   "cell_type": "markdown",
   "metadata": {},
   "source": [
    "Nous allons maintenant transformer les variables catégorielles en utilisant l'encodage one-hot vu en cours. Pour cela nous utiliserons la fonction <span style=\"border:1px; border-style:solid\">OneHotEncoder</span> se trouvant dans le module <u>preprocessing</u> de la librairie <u>sklearn</u>. Installez-la si nécessaire et importez-la :"
   ]
  },
  {
   "cell_type": "code",
   "execution_count": 32,
   "metadata": {},
   "outputs": [],
   "source": [
    "from sklearn.preprocessing import OneHotEncoder"
   ]
  },
  {
   "cell_type": "markdown",
   "metadata": {},
   "source": [
    "><u>Tâche 10</u>. Le code ci-dessous détaille pas-à-pas comment effectuer l'encodage one-hot. Complétez-le. (Pensez à utiliser les listes que nous avons définies). Pouvez-vous expliquez pourquoi nous allons encoder les variables 'Number of Doors', 'Vehicle Size' et 'Engine Cylinders' en one-hot ?"
   ]
  },
  {
   "cell_type": "code",
   "execution_count": 34,
   "metadata": {},
   "outputs": [],
   "source": [
    "list_one_hot=list_c+list_o + ['Number of Doors','Engine Cylinders']\n",
    "#On crée l'objet 'encoder_OH'\n",
    "encoder_OH = OneHotEncoder(handle_unknown='error',sparse=False)\n",
    "#On ajuste nos données à l'objet 'encoder_OH'\n",
    "fit_OH=encoder_OH.fit(data[list_one_hot])\n",
    "#On transforme nos données catégorielles grâce à l'objet 'encoder_OH'\n",
    "fit_data_OH=fit_OH.transform(data[list_one_hot])\n",
    "#On récupère les noms pour nos nouvelles colonnes\n",
    "column_name_OH =fit_OH.get_feature_names_out(list_one_hot)\n",
    "#On met nos données transformées sous forme de Dataframe\n",
    "cols_OH = pd.DataFrame(fit_data_OH,columns=column_name_OH)\n",
    "#on réinitialise l'index\n",
    "cols_OH.reset_index(drop=True, inplace=True)"
   ]
  },
  {
   "cell_type": "code",
   "execution_count": 35,
   "metadata": {},
   "outputs": [
    {
     "data": {
      "text/plain": [
       "['Make',\n",
       " 'Transmission Type',\n",
       " 'Driven_Wheels',\n",
       " 'Vehicle Style',\n",
       " 'Engine Fuel Type',\n",
       " 'Vehicle Size',\n",
       " 'Number of Doors',\n",
       " 'Engine Cylinders']"
      ]
     },
     "execution_count": 35,
     "metadata": {},
     "output_type": "execute_result"
    }
   ],
   "source": [
    "list_one_hot\n"
   ]
  },
  {
   "cell_type": "code",
   "execution_count": 38,
   "metadata": {},
   "outputs": [
    {
     "data": {
      "text/plain": [
       "0"
      ]
     },
     "execution_count": 38,
     "metadata": {},
     "output_type": "execute_result"
    }
   ],
   "source": [
    "cols_OH.isna().sum().sum()"
   ]
  },
  {
   "cell_type": "code",
   "execution_count": 39,
   "metadata": {},
   "outputs": [
    {
     "data": {
      "text/html": [
       "<div>\n",
       "<style scoped>\n",
       "    .dataframe tbody tr th:only-of-type {\n",
       "        vertical-align: middle;\n",
       "    }\n",
       "\n",
       "    .dataframe tbody tr th {\n",
       "        vertical-align: top;\n",
       "    }\n",
       "\n",
       "    .dataframe thead th {\n",
       "        text-align: right;\n",
       "    }\n",
       "</style>\n",
       "<table border=\"1\" class=\"dataframe\">\n",
       "  <thead>\n",
       "    <tr style=\"text-align: right;\">\n",
       "      <th></th>\n",
       "      <th>Make_Chevrolet</th>\n",
       "      <th>Make_Chrysler</th>\n",
       "      <th>Make_Ford</th>\n",
       "      <th>Make_Honda</th>\n",
       "      <th>Make_Hyundai</th>\n",
       "      <th>Make_Mazda</th>\n",
       "      <th>Make_Nissan</th>\n",
       "      <th>Make_Pontiac</th>\n",
       "      <th>Make_Subaru</th>\n",
       "      <th>Make_Suzuki</th>\n",
       "      <th>...</th>\n",
       "      <th>Number of Doors_2.0</th>\n",
       "      <th>Number of Doors_3.0</th>\n",
       "      <th>Number of Doors_4.0</th>\n",
       "      <th>Engine Cylinders_0.0</th>\n",
       "      <th>Engine Cylinders_2.0</th>\n",
       "      <th>Engine Cylinders_3.0</th>\n",
       "      <th>Engine Cylinders_4.0</th>\n",
       "      <th>Engine Cylinders_5.0</th>\n",
       "      <th>Engine Cylinders_6.0</th>\n",
       "      <th>Engine Cylinders_8.0</th>\n",
       "    </tr>\n",
       "  </thead>\n",
       "  <tbody>\n",
       "    <tr>\n",
       "      <th>0</th>\n",
       "      <td>0.0</td>\n",
       "      <td>1.0</td>\n",
       "      <td>0.0</td>\n",
       "      <td>0.0</td>\n",
       "      <td>0.0</td>\n",
       "      <td>0.0</td>\n",
       "      <td>0.0</td>\n",
       "      <td>0.0</td>\n",
       "      <td>0.0</td>\n",
       "      <td>0.0</td>\n",
       "      <td>...</td>\n",
       "      <td>0.0</td>\n",
       "      <td>0.0</td>\n",
       "      <td>1.0</td>\n",
       "      <td>0.0</td>\n",
       "      <td>0.0</td>\n",
       "      <td>0.0</td>\n",
       "      <td>1.0</td>\n",
       "      <td>0.0</td>\n",
       "      <td>0.0</td>\n",
       "      <td>0.0</td>\n",
       "    </tr>\n",
       "    <tr>\n",
       "      <th>1</th>\n",
       "      <td>0.0</td>\n",
       "      <td>1.0</td>\n",
       "      <td>0.0</td>\n",
       "      <td>0.0</td>\n",
       "      <td>0.0</td>\n",
       "      <td>0.0</td>\n",
       "      <td>0.0</td>\n",
       "      <td>0.0</td>\n",
       "      <td>0.0</td>\n",
       "      <td>0.0</td>\n",
       "      <td>...</td>\n",
       "      <td>0.0</td>\n",
       "      <td>0.0</td>\n",
       "      <td>1.0</td>\n",
       "      <td>0.0</td>\n",
       "      <td>0.0</td>\n",
       "      <td>0.0</td>\n",
       "      <td>1.0</td>\n",
       "      <td>0.0</td>\n",
       "      <td>0.0</td>\n",
       "      <td>0.0</td>\n",
       "    </tr>\n",
       "    <tr>\n",
       "      <th>2</th>\n",
       "      <td>0.0</td>\n",
       "      <td>1.0</td>\n",
       "      <td>0.0</td>\n",
       "      <td>0.0</td>\n",
       "      <td>0.0</td>\n",
       "      <td>0.0</td>\n",
       "      <td>0.0</td>\n",
       "      <td>0.0</td>\n",
       "      <td>0.0</td>\n",
       "      <td>0.0</td>\n",
       "      <td>...</td>\n",
       "      <td>0.0</td>\n",
       "      <td>0.0</td>\n",
       "      <td>1.0</td>\n",
       "      <td>0.0</td>\n",
       "      <td>0.0</td>\n",
       "      <td>0.0</td>\n",
       "      <td>0.0</td>\n",
       "      <td>0.0</td>\n",
       "      <td>1.0</td>\n",
       "      <td>0.0</td>\n",
       "    </tr>\n",
       "    <tr>\n",
       "      <th>3</th>\n",
       "      <td>0.0</td>\n",
       "      <td>1.0</td>\n",
       "      <td>0.0</td>\n",
       "      <td>0.0</td>\n",
       "      <td>0.0</td>\n",
       "      <td>0.0</td>\n",
       "      <td>0.0</td>\n",
       "      <td>0.0</td>\n",
       "      <td>0.0</td>\n",
       "      <td>0.0</td>\n",
       "      <td>...</td>\n",
       "      <td>0.0</td>\n",
       "      <td>0.0</td>\n",
       "      <td>1.0</td>\n",
       "      <td>0.0</td>\n",
       "      <td>0.0</td>\n",
       "      <td>0.0</td>\n",
       "      <td>1.0</td>\n",
       "      <td>0.0</td>\n",
       "      <td>0.0</td>\n",
       "      <td>0.0</td>\n",
       "    </tr>\n",
       "    <tr>\n",
       "      <th>4</th>\n",
       "      <td>0.0</td>\n",
       "      <td>1.0</td>\n",
       "      <td>0.0</td>\n",
       "      <td>0.0</td>\n",
       "      <td>0.0</td>\n",
       "      <td>0.0</td>\n",
       "      <td>0.0</td>\n",
       "      <td>0.0</td>\n",
       "      <td>0.0</td>\n",
       "      <td>0.0</td>\n",
       "      <td>...</td>\n",
       "      <td>0.0</td>\n",
       "      <td>0.0</td>\n",
       "      <td>1.0</td>\n",
       "      <td>0.0</td>\n",
       "      <td>0.0</td>\n",
       "      <td>0.0</td>\n",
       "      <td>1.0</td>\n",
       "      <td>0.0</td>\n",
       "      <td>0.0</td>\n",
       "      <td>0.0</td>\n",
       "    </tr>\n",
       "  </tbody>\n",
       "</table>\n",
       "<p>5 rows × 53 columns</p>\n",
       "</div>"
      ],
      "text/plain": [
       "   Make_Chevrolet  Make_Chrysler  Make_Ford  Make_Honda  Make_Hyundai  \\\n",
       "0             0.0            1.0        0.0         0.0           0.0   \n",
       "1             0.0            1.0        0.0         0.0           0.0   \n",
       "2             0.0            1.0        0.0         0.0           0.0   \n",
       "3             0.0            1.0        0.0         0.0           0.0   \n",
       "4             0.0            1.0        0.0         0.0           0.0   \n",
       "\n",
       "   Make_Mazda  Make_Nissan  Make_Pontiac  Make_Subaru  Make_Suzuki  ...  \\\n",
       "0         0.0          0.0           0.0          0.0          0.0  ...   \n",
       "1         0.0          0.0           0.0          0.0          0.0  ...   \n",
       "2         0.0          0.0           0.0          0.0          0.0  ...   \n",
       "3         0.0          0.0           0.0          0.0          0.0  ...   \n",
       "4         0.0          0.0           0.0          0.0          0.0  ...   \n",
       "\n",
       "   Number of Doors_2.0  Number of Doors_3.0  Number of Doors_4.0  \\\n",
       "0                  0.0                  0.0                  1.0   \n",
       "1                  0.0                  0.0                  1.0   \n",
       "2                  0.0                  0.0                  1.0   \n",
       "3                  0.0                  0.0                  1.0   \n",
       "4                  0.0                  0.0                  1.0   \n",
       "\n",
       "   Engine Cylinders_0.0  Engine Cylinders_2.0  Engine Cylinders_3.0  \\\n",
       "0                   0.0                   0.0                   0.0   \n",
       "1                   0.0                   0.0                   0.0   \n",
       "2                   0.0                   0.0                   0.0   \n",
       "3                   0.0                   0.0                   0.0   \n",
       "4                   0.0                   0.0                   0.0   \n",
       "\n",
       "   Engine Cylinders_4.0  Engine Cylinders_5.0  Engine Cylinders_6.0  \\\n",
       "0                   1.0                   0.0                   0.0   \n",
       "1                   1.0                   0.0                   0.0   \n",
       "2                   0.0                   0.0                   1.0   \n",
       "3                   1.0                   0.0                   0.0   \n",
       "4                   1.0                   0.0                   0.0   \n",
       "\n",
       "   Engine Cylinders_8.0  \n",
       "0                   0.0  \n",
       "1                   0.0  \n",
       "2                   0.0  \n",
       "3                   0.0  \n",
       "4                   0.0  \n",
       "\n",
       "[5 rows x 53 columns]"
      ]
     },
     "execution_count": 39,
     "metadata": {},
     "output_type": "execute_result"
    }
   ],
   "source": [
    "cols_OH.head()"
   ]
  },
  {
   "cell_type": "code",
   "execution_count": 40,
   "metadata": {},
   "outputs": [
    {
     "data": {
      "text/plain": [
       "(4713, 53)"
      ]
     },
     "execution_count": 40,
     "metadata": {},
     "output_type": "execute_result"
    }
   ],
   "source": [
    "cols_OH.shape"
   ]
  },
  {
   "cell_type": "code",
   "execution_count": 41,
   "metadata": {},
   "outputs": [
    {
     "data": {
      "text/plain": [
       "(4713, 12)"
      ]
     },
     "execution_count": 41,
     "metadata": {},
     "output_type": "execute_result"
    }
   ],
   "source": [
    "data.shape"
   ]
  },
  {
   "cell_type": "code",
   "execution_count": 42,
   "metadata": {},
   "outputs": [
    {
     "data": {
      "text/plain": [
       "Make                 10\n",
       "Transmission Type     5\n",
       "Driven_Wheels         4\n",
       "Vehicle Style        16\n",
       "Engine Fuel Type      5\n",
       "Vehicle Size          3\n",
       "Number of Doors       3\n",
       "Engine Cylinders      7\n",
       "dtype: int64"
      ]
     },
     "execution_count": 42,
     "metadata": {},
     "output_type": "execute_result"
    }
   ],
   "source": [
    "data[list_one_hot].nunique()"
   ]
  },
  {
   "cell_type": "markdown",
   "metadata": {},
   "source": [
    "><u>Tâche 11</u>. Nous allons vérifier que le code précédent est correct, c'est-à-dire qu'il effectue bien ce qu'on attend de lui. \n",
    ">- Combien de variables catégorielles avions-nous avant transformation ? Avec combien de catégories chacunes ? Combien de variables 'one-hot' avons nous après transformations ? Cela est-il cohérent ?\n",
    ">- Visualisez le nom des colonnes de nos nouvelles variables en utilisant la commande <span style=\"border:1px; border-style:solid\">list(cols_train_OH.columns)</span>. Est-ce que ces noms sont cohérents et utiles ?\n",
    ">\n",
    "> Pensez à utiliser autant de cellules de code que nécessaire pour avoir un document agréable à lire et bien organisé."
   ]
  },
  {
   "cell_type": "code",
   "execution_count": 43,
   "metadata": {},
   "outputs": [
    {
     "data": {
      "text/plain": [
       "['Make_Chevrolet',\n",
       " 'Make_Chrysler',\n",
       " 'Make_Ford',\n",
       " 'Make_Honda',\n",
       " 'Make_Hyundai',\n",
       " 'Make_Mazda',\n",
       " 'Make_Nissan',\n",
       " 'Make_Pontiac',\n",
       " 'Make_Subaru',\n",
       " 'Make_Suzuki',\n",
       " 'Transmission Type_AUTOMATED_MANUAL',\n",
       " 'Transmission Type_AUTOMATIC',\n",
       " 'Transmission Type_DIRECT_DRIVE',\n",
       " 'Transmission Type_MANUAL',\n",
       " 'Transmission Type_UNKNOWN',\n",
       " 'Driven_Wheels_all wheel drive',\n",
       " 'Driven_Wheels_four wheel drive',\n",
       " 'Driven_Wheels_front wheel drive',\n",
       " 'Driven_Wheels_rear wheel drive',\n",
       " 'Vehicle Style_2dr Hatchback',\n",
       " 'Vehicle Style_2dr SUV',\n",
       " 'Vehicle Style_4dr Hatchback',\n",
       " 'Vehicle Style_4dr SUV',\n",
       " 'Vehicle Style_Cargo Minivan',\n",
       " 'Vehicle Style_Cargo Van',\n",
       " 'Vehicle Style_Convertible',\n",
       " 'Vehicle Style_Convertible SUV',\n",
       " 'Vehicle Style_Coupe',\n",
       " 'Vehicle Style_Crew Cab Pickup',\n",
       " 'Vehicle Style_Extended Cab Pickup',\n",
       " 'Vehicle Style_Passenger Minivan',\n",
       " 'Vehicle Style_Passenger Van',\n",
       " 'Vehicle Style_Regular Cab Pickup',\n",
       " 'Vehicle Style_Sedan',\n",
       " 'Vehicle Style_Wagon',\n",
       " 'Engine Fuel Type_diesel',\n",
       " 'Engine Fuel Type_electric',\n",
       " 'Engine Fuel Type_flex-fuel',\n",
       " 'Engine Fuel Type_natural gas',\n",
       " 'Engine Fuel Type_unleaded',\n",
       " 'Vehicle Size_0',\n",
       " 'Vehicle Size_1',\n",
       " 'Vehicle Size_2',\n",
       " 'Number of Doors_2.0',\n",
       " 'Number of Doors_3.0',\n",
       " 'Number of Doors_4.0',\n",
       " 'Engine Cylinders_0.0',\n",
       " 'Engine Cylinders_2.0',\n",
       " 'Engine Cylinders_3.0',\n",
       " 'Engine Cylinders_4.0',\n",
       " 'Engine Cylinders_5.0',\n",
       " 'Engine Cylinders_6.0',\n",
       " 'Engine Cylinders_8.0']"
      ]
     },
     "execution_count": 43,
     "metadata": {},
     "output_type": "execute_result"
    }
   ],
   "source": [
    " list(cols_OH.columns)"
   ]
  },
  {
   "cell_type": "markdown",
   "metadata": {},
   "source": [
    "><u>Commentaires sur l'ensemble de la section 2</u>. Nous avons créé $53$ variables : on passe ainsi de $8$ variables catégorielles à $10$, $5$, $4$, $16$, $5$ $3$ et $7$ catégories à $53$ variables binaires.\n",
    "> \n",
    "> Les nouveaux noms nous aide à identifier clairement la signification de chaque colonne : il est important de les garder pour l'interprétation des résultats après modélisation, pour l'exploitation et l'interprétation du modèle.\n",
    ">\n",
    ">Remarque : en cours, nous avons utilisé la fonction <span style=\"border:1px; border-style:solid\">get_dummies</span> de <u>pandas</u> pour effectuer l'encodage one-hot. Pour une comparaison entre get_dummies et OneHotEncoder, voir la fin."
   ]
  },
  {
   "cell_type": "markdown",
   "metadata": {},
   "source": [
    "<div class=\"lev1\"><a href=\"#Table-des-matières\"><span class=\"toc-item-num\"></span>Retour à la table des matières</a></div>"
   ]
  },
  {
   "cell_type": "markdown",
   "metadata": {},
   "source": [
    "### 2-2 Mise à l'échelle"
   ]
  },
  {
   "cell_type": "markdown",
   "metadata": {},
   "source": [
    "Nous allons maintenant mettre à l'échelle les variables quantitatives restantes en utilisant la standardisation vue en cours. Pour cela nous utiliserons la fonction <span style=\"border:1px; border-style:solid\">StandardScaler</span> se trouvant dans le module <u>preprocessing</u> de la librairie <u>sklearn</u>. Installez-la si nécessaire et importez-la :"
   ]
  },
  {
   "cell_type": "code",
   "execution_count": 44,
   "metadata": {},
   "outputs": [],
   "source": [
    "from sklearn.preprocessing import StandardScaler"
   ]
  },
  {
   "cell_type": "markdown",
   "metadata": {},
   "source": [
    "><u>Tâche 12</u>. Le code ci-dessous détaille pas-à-pas comment effectuer la standardisation. Complétez-le."
   ]
  },
  {
   "cell_type": "code",
   "execution_count": 45,
   "metadata": {},
   "outputs": [],
   "source": [
    "list_std=['Year','Engine HP','highway MPG']\n",
    "#On crée l'objet 'scale'\n",
    "scale = StandardScaler()\n",
    "#On ajuste nos données à l'objet 'scale'\n",
    "fit_scale_OH=scale.fit_transform(data[list_std])\n",
    "#On met sous forme de Dataframe\n",
    "cols_scaled = pd.DataFrame(fit_scale_OH,columns=list_std)\n",
    "cols_scaled.reset_index(drop=True, inplace=True)"
   ]
  },
  {
   "cell_type": "markdown",
   "metadata": {},
   "source": [
    "><u>Tâche 13</u>. Nous allons vérifier que le code précédent est correct, c'est-à-dire qu'il effectue bien ce qu'on attend de lui. \n",
    ">- Combien de variables avions-nous avant transformation ? Combien de variables avons-nous après transformation ?\n",
    ">- Visualisez les nouvelles variables en utilisant la commande <span style=\"border:1px; border-style:solid\">describe</span>. Est-ce que cela est cohérent ?\n",
    ">\n",
    "> Pensez à utiliser autant de cellules de code que nécessaire pour avoir un document agréable à lire et bien organisé."
   ]
  },
  {
   "cell_type": "code",
   "execution_count": 46,
   "metadata": {},
   "outputs": [
    {
     "name": "stdout",
     "output_type": "stream",
     "text": [
      "(4713, 3)\n",
      "0\n"
     ]
    }
   ],
   "source": [
    "print(data[list_std].shape)\n",
    "print(cols_scaled.isna().sum().sum())"
   ]
  },
  {
   "cell_type": "code",
   "execution_count": 47,
   "metadata": {},
   "outputs": [
    {
     "data": {
      "text/html": [
       "<div>\n",
       "<style scoped>\n",
       "    .dataframe tbody tr th:only-of-type {\n",
       "        vertical-align: middle;\n",
       "    }\n",
       "\n",
       "    .dataframe tbody tr th {\n",
       "        vertical-align: top;\n",
       "    }\n",
       "\n",
       "    .dataframe thead th {\n",
       "        text-align: right;\n",
       "    }\n",
       "</style>\n",
       "<table border=\"1\" class=\"dataframe\">\n",
       "  <thead>\n",
       "    <tr style=\"text-align: right;\">\n",
       "      <th></th>\n",
       "      <th>Year</th>\n",
       "      <th>Engine HP</th>\n",
       "      <th>highway MPG</th>\n",
       "    </tr>\n",
       "  </thead>\n",
       "  <tbody>\n",
       "    <tr>\n",
       "      <th>count</th>\n",
       "      <td>4.713000e+03</td>\n",
       "      <td>4.713000e+03</td>\n",
       "      <td>4.713000e+03</td>\n",
       "    </tr>\n",
       "    <tr>\n",
       "      <th>mean</th>\n",
       "      <td>-1.440699e-14</td>\n",
       "      <td>-5.922132e-17</td>\n",
       "      <td>9.498261e-16</td>\n",
       "    </tr>\n",
       "    <tr>\n",
       "      <th>std</th>\n",
       "      <td>1.000106e+00</td>\n",
       "      <td>1.000106e+00</td>\n",
       "      <td>1.000106e+00</td>\n",
       "    </tr>\n",
       "    <tr>\n",
       "      <th>min</th>\n",
       "      <td>-2.716993e+00</td>\n",
       "      <td>-1.906046e+00</td>\n",
       "      <td>-1.686967e+00</td>\n",
       "    </tr>\n",
       "    <tr>\n",
       "      <th>25%</th>\n",
       "      <td>-6.861856e-01</td>\n",
       "      <td>-7.409412e-01</td>\n",
       "      <td>-6.087308e-01</td>\n",
       "    </tr>\n",
       "    <tr>\n",
       "      <th>50%</th>\n",
       "      <td>5.322987e-01</td>\n",
       "      <td>-2.166440e-01</td>\n",
       "      <td>-1.295145e-01</td>\n",
       "    </tr>\n",
       "    <tr>\n",
       "      <th>75%</th>\n",
       "      <td>8.030730e-01</td>\n",
       "      <td>6.571846e-01</td>\n",
       "      <td>4.695059e-01</td>\n",
       "    </tr>\n",
       "    <tr>\n",
       "      <th>max</th>\n",
       "      <td>9.384601e-01</td>\n",
       "      <td>5.166140e+00</td>\n",
       "      <td>9.934028e+00</td>\n",
       "    </tr>\n",
       "  </tbody>\n",
       "</table>\n",
       "</div>"
      ],
      "text/plain": [
       "               Year     Engine HP   highway MPG\n",
       "count  4.713000e+03  4.713000e+03  4.713000e+03\n",
       "mean  -1.440699e-14 -5.922132e-17  9.498261e-16\n",
       "std    1.000106e+00  1.000106e+00  1.000106e+00\n",
       "min   -2.716993e+00 -1.906046e+00 -1.686967e+00\n",
       "25%   -6.861856e-01 -7.409412e-01 -6.087308e-01\n",
       "50%    5.322987e-01 -2.166440e-01 -1.295145e-01\n",
       "75%    8.030730e-01  6.571846e-01  4.695059e-01\n",
       "max    9.384601e-01  5.166140e+00  9.934028e+00"
      ]
     },
     "execution_count": 47,
     "metadata": {},
     "output_type": "execute_result"
    }
   ],
   "source": [
    "cols_scaled.describe()"
   ]
  },
  {
   "cell_type": "markdown",
   "metadata": {},
   "source": [
    "><u>Tâche 14</u>. Concaténez les deux parties (variables quantitatives standardisées et variables catégorielles encodées en un seul Dataframe *X_init_OH*."
   ]
  },
  {
   "cell_type": "code",
   "execution_count": 48,
   "metadata": {},
   "outputs": [],
   "source": [
    "X_init_OH = pd.concat([cols_scaled, cols_OH], axis=1)"
   ]
  },
  {
   "cell_type": "code",
   "execution_count": 49,
   "metadata": {},
   "outputs": [
    {
     "data": {
      "text/html": [
       "<div>\n",
       "<style scoped>\n",
       "    .dataframe tbody tr th:only-of-type {\n",
       "        vertical-align: middle;\n",
       "    }\n",
       "\n",
       "    .dataframe tbody tr th {\n",
       "        vertical-align: top;\n",
       "    }\n",
       "\n",
       "    .dataframe thead th {\n",
       "        text-align: right;\n",
       "    }\n",
       "</style>\n",
       "<table border=\"1\" class=\"dataframe\">\n",
       "  <thead>\n",
       "    <tr style=\"text-align: right;\">\n",
       "      <th></th>\n",
       "      <th>Year</th>\n",
       "      <th>Engine HP</th>\n",
       "      <th>highway MPG</th>\n",
       "      <th>Make_Chevrolet</th>\n",
       "      <th>Make_Chrysler</th>\n",
       "      <th>Make_Ford</th>\n",
       "      <th>Make_Honda</th>\n",
       "      <th>Make_Hyundai</th>\n",
       "      <th>Make_Mazda</th>\n",
       "      <th>Make_Nissan</th>\n",
       "      <th>...</th>\n",
       "      <th>Number of Doors_2.0</th>\n",
       "      <th>Number of Doors_3.0</th>\n",
       "      <th>Number of Doors_4.0</th>\n",
       "      <th>Engine Cylinders_0.0</th>\n",
       "      <th>Engine Cylinders_2.0</th>\n",
       "      <th>Engine Cylinders_3.0</th>\n",
       "      <th>Engine Cylinders_4.0</th>\n",
       "      <th>Engine Cylinders_5.0</th>\n",
       "      <th>Engine Cylinders_6.0</th>\n",
       "      <th>Engine Cylinders_8.0</th>\n",
       "    </tr>\n",
       "  </thead>\n",
       "  <tbody>\n",
       "    <tr>\n",
       "      <th>count</th>\n",
       "      <td>4.713000e+03</td>\n",
       "      <td>4.713000e+03</td>\n",
       "      <td>4.713000e+03</td>\n",
       "      <td>4713.000000</td>\n",
       "      <td>4713.000000</td>\n",
       "      <td>4713.000000</td>\n",
       "      <td>4713.000000</td>\n",
       "      <td>4713.000000</td>\n",
       "      <td>4713.000000</td>\n",
       "      <td>4713.000000</td>\n",
       "      <td>...</td>\n",
       "      <td>4713.000000</td>\n",
       "      <td>4713.000000</td>\n",
       "      <td>4713.000000</td>\n",
       "      <td>4713.000000</td>\n",
       "      <td>4713.000000</td>\n",
       "      <td>4713.000000</td>\n",
       "      <td>4713.000000</td>\n",
       "      <td>4713.000000</td>\n",
       "      <td>4713.000000</td>\n",
       "      <td>4713.000000</td>\n",
       "    </tr>\n",
       "    <tr>\n",
       "      <th>mean</th>\n",
       "      <td>-1.440699e-14</td>\n",
       "      <td>-5.922132e-17</td>\n",
       "      <td>9.498261e-16</td>\n",
       "      <td>0.238277</td>\n",
       "      <td>0.039677</td>\n",
       "      <td>0.186505</td>\n",
       "      <td>0.095268</td>\n",
       "      <td>0.064290</td>\n",
       "      <td>0.089752</td>\n",
       "      <td>0.117972</td>\n",
       "      <td>...</td>\n",
       "      <td>0.235731</td>\n",
       "      <td>0.053469</td>\n",
       "      <td>0.710800</td>\n",
       "      <td>0.004880</td>\n",
       "      <td>0.004244</td>\n",
       "      <td>0.002758</td>\n",
       "      <td>0.454275</td>\n",
       "      <td>0.001061</td>\n",
       "      <td>0.401655</td>\n",
       "      <td>0.131127</td>\n",
       "    </tr>\n",
       "    <tr>\n",
       "      <th>std</th>\n",
       "      <td>1.000106e+00</td>\n",
       "      <td>1.000106e+00</td>\n",
       "      <td>1.000106e+00</td>\n",
       "      <td>0.426075</td>\n",
       "      <td>0.195221</td>\n",
       "      <td>0.389555</td>\n",
       "      <td>0.293616</td>\n",
       "      <td>0.245295</td>\n",
       "      <td>0.285856</td>\n",
       "      <td>0.322609</td>\n",
       "      <td>...</td>\n",
       "      <td>0.424500</td>\n",
       "      <td>0.224991</td>\n",
       "      <td>0.453439</td>\n",
       "      <td>0.069695</td>\n",
       "      <td>0.065011</td>\n",
       "      <td>0.052453</td>\n",
       "      <td>0.497958</td>\n",
       "      <td>0.032558</td>\n",
       "      <td>0.490285</td>\n",
       "      <td>0.337575</td>\n",
       "    </tr>\n",
       "    <tr>\n",
       "      <th>min</th>\n",
       "      <td>-2.716993e+00</td>\n",
       "      <td>-1.906046e+00</td>\n",
       "      <td>-1.686967e+00</td>\n",
       "      <td>0.000000</td>\n",
       "      <td>0.000000</td>\n",
       "      <td>0.000000</td>\n",
       "      <td>0.000000</td>\n",
       "      <td>0.000000</td>\n",
       "      <td>0.000000</td>\n",
       "      <td>0.000000</td>\n",
       "      <td>...</td>\n",
       "      <td>0.000000</td>\n",
       "      <td>0.000000</td>\n",
       "      <td>0.000000</td>\n",
       "      <td>0.000000</td>\n",
       "      <td>0.000000</td>\n",
       "      <td>0.000000</td>\n",
       "      <td>0.000000</td>\n",
       "      <td>0.000000</td>\n",
       "      <td>0.000000</td>\n",
       "      <td>0.000000</td>\n",
       "    </tr>\n",
       "    <tr>\n",
       "      <th>25%</th>\n",
       "      <td>-6.861856e-01</td>\n",
       "      <td>-7.409412e-01</td>\n",
       "      <td>-6.087308e-01</td>\n",
       "      <td>0.000000</td>\n",
       "      <td>0.000000</td>\n",
       "      <td>0.000000</td>\n",
       "      <td>0.000000</td>\n",
       "      <td>0.000000</td>\n",
       "      <td>0.000000</td>\n",
       "      <td>0.000000</td>\n",
       "      <td>...</td>\n",
       "      <td>0.000000</td>\n",
       "      <td>0.000000</td>\n",
       "      <td>0.000000</td>\n",
       "      <td>0.000000</td>\n",
       "      <td>0.000000</td>\n",
       "      <td>0.000000</td>\n",
       "      <td>0.000000</td>\n",
       "      <td>0.000000</td>\n",
       "      <td>0.000000</td>\n",
       "      <td>0.000000</td>\n",
       "    </tr>\n",
       "    <tr>\n",
       "      <th>50%</th>\n",
       "      <td>5.322987e-01</td>\n",
       "      <td>-2.166440e-01</td>\n",
       "      <td>-1.295145e-01</td>\n",
       "      <td>0.000000</td>\n",
       "      <td>0.000000</td>\n",
       "      <td>0.000000</td>\n",
       "      <td>0.000000</td>\n",
       "      <td>0.000000</td>\n",
       "      <td>0.000000</td>\n",
       "      <td>0.000000</td>\n",
       "      <td>...</td>\n",
       "      <td>0.000000</td>\n",
       "      <td>0.000000</td>\n",
       "      <td>1.000000</td>\n",
       "      <td>0.000000</td>\n",
       "      <td>0.000000</td>\n",
       "      <td>0.000000</td>\n",
       "      <td>0.000000</td>\n",
       "      <td>0.000000</td>\n",
       "      <td>0.000000</td>\n",
       "      <td>0.000000</td>\n",
       "    </tr>\n",
       "    <tr>\n",
       "      <th>75%</th>\n",
       "      <td>8.030730e-01</td>\n",
       "      <td>6.571846e-01</td>\n",
       "      <td>4.695059e-01</td>\n",
       "      <td>0.000000</td>\n",
       "      <td>0.000000</td>\n",
       "      <td>0.000000</td>\n",
       "      <td>0.000000</td>\n",
       "      <td>0.000000</td>\n",
       "      <td>0.000000</td>\n",
       "      <td>0.000000</td>\n",
       "      <td>...</td>\n",
       "      <td>0.000000</td>\n",
       "      <td>0.000000</td>\n",
       "      <td>1.000000</td>\n",
       "      <td>0.000000</td>\n",
       "      <td>0.000000</td>\n",
       "      <td>0.000000</td>\n",
       "      <td>1.000000</td>\n",
       "      <td>0.000000</td>\n",
       "      <td>1.000000</td>\n",
       "      <td>0.000000</td>\n",
       "    </tr>\n",
       "    <tr>\n",
       "      <th>max</th>\n",
       "      <td>9.384601e-01</td>\n",
       "      <td>5.166140e+00</td>\n",
       "      <td>9.934028e+00</td>\n",
       "      <td>1.000000</td>\n",
       "      <td>1.000000</td>\n",
       "      <td>1.000000</td>\n",
       "      <td>1.000000</td>\n",
       "      <td>1.000000</td>\n",
       "      <td>1.000000</td>\n",
       "      <td>1.000000</td>\n",
       "      <td>...</td>\n",
       "      <td>1.000000</td>\n",
       "      <td>1.000000</td>\n",
       "      <td>1.000000</td>\n",
       "      <td>1.000000</td>\n",
       "      <td>1.000000</td>\n",
       "      <td>1.000000</td>\n",
       "      <td>1.000000</td>\n",
       "      <td>1.000000</td>\n",
       "      <td>1.000000</td>\n",
       "      <td>1.000000</td>\n",
       "    </tr>\n",
       "  </tbody>\n",
       "</table>\n",
       "<p>8 rows × 56 columns</p>\n",
       "</div>"
      ],
      "text/plain": [
       "               Year     Engine HP   highway MPG  Make_Chevrolet  \\\n",
       "count  4.713000e+03  4.713000e+03  4.713000e+03     4713.000000   \n",
       "mean  -1.440699e-14 -5.922132e-17  9.498261e-16        0.238277   \n",
       "std    1.000106e+00  1.000106e+00  1.000106e+00        0.426075   \n",
       "min   -2.716993e+00 -1.906046e+00 -1.686967e+00        0.000000   \n",
       "25%   -6.861856e-01 -7.409412e-01 -6.087308e-01        0.000000   \n",
       "50%    5.322987e-01 -2.166440e-01 -1.295145e-01        0.000000   \n",
       "75%    8.030730e-01  6.571846e-01  4.695059e-01        0.000000   \n",
       "max    9.384601e-01  5.166140e+00  9.934028e+00        1.000000   \n",
       "\n",
       "       Make_Chrysler    Make_Ford   Make_Honda  Make_Hyundai   Make_Mazda  \\\n",
       "count    4713.000000  4713.000000  4713.000000   4713.000000  4713.000000   \n",
       "mean        0.039677     0.186505     0.095268      0.064290     0.089752   \n",
       "std         0.195221     0.389555     0.293616      0.245295     0.285856   \n",
       "min         0.000000     0.000000     0.000000      0.000000     0.000000   \n",
       "25%         0.000000     0.000000     0.000000      0.000000     0.000000   \n",
       "50%         0.000000     0.000000     0.000000      0.000000     0.000000   \n",
       "75%         0.000000     0.000000     0.000000      0.000000     0.000000   \n",
       "max         1.000000     1.000000     1.000000      1.000000     1.000000   \n",
       "\n",
       "       Make_Nissan  ...  Number of Doors_2.0  Number of Doors_3.0  \\\n",
       "count  4713.000000  ...          4713.000000          4713.000000   \n",
       "mean      0.117972  ...             0.235731             0.053469   \n",
       "std       0.322609  ...             0.424500             0.224991   \n",
       "min       0.000000  ...             0.000000             0.000000   \n",
       "25%       0.000000  ...             0.000000             0.000000   \n",
       "50%       0.000000  ...             0.000000             0.000000   \n",
       "75%       0.000000  ...             0.000000             0.000000   \n",
       "max       1.000000  ...             1.000000             1.000000   \n",
       "\n",
       "       Number of Doors_4.0  Engine Cylinders_0.0  Engine Cylinders_2.0  \\\n",
       "count          4713.000000           4713.000000           4713.000000   \n",
       "mean              0.710800              0.004880              0.004244   \n",
       "std               0.453439              0.069695              0.065011   \n",
       "min               0.000000              0.000000              0.000000   \n",
       "25%               0.000000              0.000000              0.000000   \n",
       "50%               1.000000              0.000000              0.000000   \n",
       "75%               1.000000              0.000000              0.000000   \n",
       "max               1.000000              1.000000              1.000000   \n",
       "\n",
       "       Engine Cylinders_3.0  Engine Cylinders_4.0  Engine Cylinders_5.0  \\\n",
       "count           4713.000000           4713.000000           4713.000000   \n",
       "mean               0.002758              0.454275              0.001061   \n",
       "std                0.052453              0.497958              0.032558   \n",
       "min                0.000000              0.000000              0.000000   \n",
       "25%                0.000000              0.000000              0.000000   \n",
       "50%                0.000000              0.000000              0.000000   \n",
       "75%                0.000000              1.000000              0.000000   \n",
       "max                1.000000              1.000000              1.000000   \n",
       "\n",
       "       Engine Cylinders_6.0  Engine Cylinders_8.0  \n",
       "count           4713.000000           4713.000000  \n",
       "mean               0.401655              0.131127  \n",
       "std                0.490285              0.337575  \n",
       "min                0.000000              0.000000  \n",
       "25%                0.000000              0.000000  \n",
       "50%                0.000000              0.000000  \n",
       "75%                1.000000              0.000000  \n",
       "max                1.000000              1.000000  \n",
       "\n",
       "[8 rows x 56 columns]"
      ]
     },
     "execution_count": 49,
     "metadata": {},
     "output_type": "execute_result"
    }
   ],
   "source": [
    "X_init_OH.describe()"
   ]
  },
  {
   "cell_type": "code",
   "execution_count": 50,
   "metadata": {},
   "outputs": [
    {
     "data": {
      "text/plain": [
       "(4713, 56)"
      ]
     },
     "execution_count": 50,
     "metadata": {},
     "output_type": "execute_result"
    }
   ],
   "source": [
    "X_init_OH.shape"
   ]
  },
  {
   "cell_type": "code",
   "execution_count": 51,
   "metadata": {},
   "outputs": [
    {
     "data": {
      "text/plain": [
       "0"
      ]
     },
     "execution_count": 51,
     "metadata": {},
     "output_type": "execute_result"
    }
   ],
   "source": [
    "X_init_OH.isna().sum().sum()"
   ]
  },
  {
   "cell_type": "markdown",
   "metadata": {},
   "source": [
    "><u>Commentaire sur la section 2-2</u> On garde le même nombre de variables quantitatives, soit $3$. Au total, notre jeu de données transformé contient $56$ features et $4713$ observations.\n",
    ">\n",
    ">Ici j'ai privilégié la standardisation car c'est la mise à l'échelle la plus couramment recommandée lorsque l'on utilise des algorithmes qui requièrent une mise à l'échelle (ACP, SVM, ...).\n",
    ">\n",
    ">Sur d'autres jeux de données, il peut être plus intéressant d'utiliser la normalisation (pas vue en cours) ou la mise à l'échelle min-max."
   ]
  },
  {
   "cell_type": "markdown",
   "metadata": {},
   "source": [
    "<div class=\"lev1\"><a href=\"#Table-des-matières\"><span class=\"toc-item-num\"></span>Retour à la table des matières</a></div>"
   ]
  },
  {
   "cell_type": "markdown",
   "metadata": {},
   "source": [
    "### 2-3 Résultat de référence"
   ]
  },
  {
   "cell_type": "markdown",
   "metadata": {},
   "source": [
    "Nous souhaitons vérifier que ces transformations sont bien utiles et que l'augmentation de la dimension qui en découle n'est pas délétère.\n",
    "\n",
    "Pour cela nous allons utiliser les fonctions <span style=\"border:1px; border-style:solid\">score_model_1</span> et <span style=\"border:1px; border-style:solid\">score_model_2</span> suivantes. Il n'est pas nécessaire de comprendre exactement de ce que font ces fonctions, vous pouvez vous en servir comme d'une boîte noire qui vous indique à quel point vos données sont bien préparées : plus le score est **petit**, **meilleur** est votre jeu de données.\n",
    "\n",
    "Nous utiliserons aussi les méthodes ci-dessous issues de <u>sklearn</u>. Installez-les si nécessaire et importez-les :"
   ]
  },
  {
   "cell_type": "code",
   "execution_count": 52,
   "metadata": {},
   "outputs": [],
   "source": [
    "from sklearn.linear_model import LinearRegression,SGDRegressor\n",
    "from sklearn.metrics import mean_squared_error,r2_score\n",
    "from sklearn.model_selection import train_test_split"
   ]
  },
  {
   "cell_type": "code",
   "execution_count": 53,
   "metadata": {},
   "outputs": [],
   "source": [
    "def score_model_1(X_train,y_train,X_test,y_test):\n",
    "    #on crée l'objet modèle linéaire\n",
    "    regr = LinearRegression()\n",
    "\n",
    "    #on ajuste le modèle sur les données d'entrainement et on enregistre et affiche le temps nécessaire pour cela\n",
    "    start = time.time()\n",
    "    regr.fit(X_train, y_train)\n",
    "    end = time.time()\n",
    "    print('Temps d execution du modèle 1 : ' \"{:e}\".format(end - start))\n",
    "\n",
    "    #On fait des prédictions sur les données de l'enseble de test\n",
    "    prix_y_pred = regr.predict(X_test)\n",
    "    \n",
    "    #On affiche le score du modèle\n",
    "    print('Score MSE sur le modele 1 : ')\n",
    "    print(\"{:e}\".format(mean_squared_error(y_test, prix_y_pred)))\n",
    "    print('Score R2 sur le modele 1 : ')\n",
    "    print(r2_score(y_test, prix_y_pred))"
   ]
  },
  {
   "cell_type": "code",
   "execution_count": 54,
   "metadata": {},
   "outputs": [],
   "source": [
    "def score_model_2(X_train,y_train,X_test,y_test):\n",
    "    #on crée l'objet modèle linéaire\n",
    "    regr = SGDRegressor(max_iter=500,penalty=None,eta0=0.01,random_state=42)\n",
    "    \n",
    "    #on ajuste le modèle sur les données d'entrainement et on enregistre et affiche le temps nécessaire pour cela\n",
    "    start = time.time()\n",
    "    regr.fit(X_train, y_train)\n",
    "    end = time.time()\n",
    "    print('Temps d execution du modèle 2 : ' \"{:e}\".format(end - start))\n",
    "\n",
    "    #On fait des prédictions sur les données de l'enseble de test\n",
    "    prix_y_pred = regr.predict(X_test)\n",
    "    \n",
    "    #On affiche le score du modèle\n",
    "    print('Score MSE sur le modele 2 : ')\n",
    "    print(\"{:e}\".format(mean_squared_error(y_test, prix_y_pred)))\n",
    "    print('Score R2 sur le modele 2 : ')\n",
    "    print(r2_score(y_test, prix_y_pred))"
   ]
  },
  {
   "cell_type": "markdown",
   "metadata": {},
   "source": [
    ">Expliquons tout de même brièvement en quoi consistent ces fonctions (la lecture de ce paragraphe n'est pas nécessaire à la poursuite du TP et vous pouvez le sauter sans remord). Les deux fonctions prennent en entrée des données d'apprentissage, les prédicteurs (ou variables explicatives) et les réponses (ou variables à expliquer) correspondantes. Avec ces données, on entraîne un modèle, c'est-à-dire qu'on cherche les paramètres optimaux de ce modèle. La fonction *score_model_1* fait une régression linéaire (on étudiera cela bientôt) avec les paramètres par défaut de l'algorithme donné par sklearn et la fonction *score_model_2* fait une régression linéaire plus élaborée. \n",
    ">\n",
    ">Une fois les paramètres trouvés, on veut voir si ce modèle est bon. On va donc lui demander de prédire des prix sur des données qu'il n'a jamais vu avant. Si le modèle est bon, il va trouver à partir de de l'ensemble de test des valeurs plutôt proches des vrais prix. Pour savoir à quel point on est porche de du vrai prix, on calcul [l'erreur quadratique moyenne](https://en.wikipedia.org/wiki/Mean_squared_error#Predictor) entre les prédictions et les vrais prix : plus elle est petite, meilleur est le modèle. Nous donnons aussi le [coefficient de détermination](https://fr.wikipedia.org/wiki/Coefficient_de_d%C3%A9termination) : plus il est proche de un est meilleur est le modèle."
   ]
  },
  {
   "cell_type": "markdown",
   "metadata": {},
   "source": [
    "Enfin, nous avons besoin de séparer *X_init_OH en deux parties (l'ensemble d'apprentissage et l'ensemble de test)."
   ]
  },
  {
   "cell_type": "code",
   "execution_count": 55,
   "metadata": {},
   "outputs": [],
   "source": [
    "X_train, X_test, y_train, y_test  = train_test_split(X_init_OH,data['MSRP'], test_size=0.2,random_state=42)\n",
    "idx=X_train.index.values\n",
    "idxT=X_test.index.values"
   ]
  },
  {
   "cell_type": "markdown",
   "metadata": {},
   "source": [
    "><u>Tâche 15</u>. Tout est prêt pour mesurer la qualité de notre jeu de données. Complétez le code suivant et notez les scores et les temps d'exécution obtenus, cela nous servira à faire des comparaisons plus tard. "
   ]
  },
  {
   "cell_type": "code",
   "execution_count": 56,
   "metadata": {},
   "outputs": [
    {
     "name": "stdout",
     "output_type": "stream",
     "text": [
      "Temps d execution du modèle 1 : 3.056526e-02\n",
      "Score MSE sur le modele 1 : \n",
      "3.257181e+07\n",
      "Score R2 sur le modele 1 : \n",
      "0.8251721059530489\n",
      "\n",
      "\n",
      "Temps d execution du modèle 2 : 1.306889e-01\n",
      "Score MSE sur le modele 2 : \n",
      "3.074164e+07\n",
      "Score R2 sur le modele 2 : \n",
      "0.8349954886303543\n"
     ]
    }
   ],
   "source": [
    "X_train=X_init_OH.iloc[idx]\n",
    "y_train=data['MSRP'].iloc[idx]\n",
    "X_test=X_init_OH.iloc[idxT]\n",
    "y_test=data['MSRP'].iloc[idxT]\n",
    "score_model_1(X_train,y_train,X_test,y_test)\n",
    "print('\\n')\n",
    "score_model_2(X_train,y_train.values.ravel(),X_test,y_test)"
   ]
  },
  {
   "cell_type": "markdown",
   "metadata": {},
   "source": [
    "<div class=\"lev1\"><a href=\"#Table-des-matières\"><span class=\"toc-item-num\"></span>Retour à la table des matières</a></div>"
   ]
  },
  {
   "cell_type": "markdown",
   "metadata": {},
   "source": [
    "### 2-4 One-hot encoding vs label encoding"
   ]
  },
  {
   "cell_type": "markdown",
   "metadata": {},
   "source": [
    "Le but de ce paragraphe est de vous convaincre que l'encodage one-hot est bien utile. A cette fin, nous allons donc faire **<u>ce qu'il ne faut jamais faire en pratique</u>**, à savoir labelliser les variables catégorielles. Nous utilisons pour cela la fonction <span style=\"border:1px; border-style:solid\">OrdinalEncoder</span> de <u>sklearn</u> (et d'ailleurs, comme son nom l'indique, cette fonction doit être réservée aux variables ordinales). Nous garderons <u>les variables quantitatives mises à l'échelle</u> dans cette partie."
   ]
  },
  {
   "cell_type": "code",
   "execution_count": 57,
   "metadata": {},
   "outputs": [],
   "source": [
    "from sklearn.preprocessing import OrdinalEncoder"
   ]
  },
  {
   "cell_type": "markdown",
   "metadata": {},
   "source": [
    "><u>Tâche 16</u>. Complétez le code suivant afin de labelliser les variables catégorielles. Vérifier ensuite, comme dans les tâches précédentes, que le code que vous avez écrit fait bien ce qu'on attend de lui."
   ]
  },
  {
   "cell_type": "code",
   "execution_count": 58,
   "metadata": {},
   "outputs": [],
   "source": [
    "#On crée l'objet 'encoder_O'\n",
    "encoder_O = OrdinalEncoder()\n",
    "#On ajuste nos données à l'objet 'encoder_O'\n",
    "fit_O=encoder_O.fit(data[list_one_hot])\n",
    "#On transforme nos données catégorielles grâce à l'objet 'encoder_OH'\n",
    "fit_data_O=fit_O.transform(data[list_one_hot])\n",
    "#On met nos données transformées sous forme de Dataframe\n",
    "cols_O = pd.DataFrame(fit_data_O,columns=list_one_hot)\n",
    "#on réinitialise l'index\n",
    "cols_O.reset_index(drop=True, inplace=True)"
   ]
  },
  {
   "cell_type": "markdown",
   "metadata": {},
   "source": [
    "><u>Tâche 17</u>. Concaténez les deux parties (variables quantitatives standardisées et variables catégorielles labellisées en un seul Dataframe *X_init_O*."
   ]
  },
  {
   "cell_type": "code",
   "execution_count": 59,
   "metadata": {},
   "outputs": [],
   "source": [
    "X_init_O = pd.concat([cols_scaled, cols_O], axis=1)"
   ]
  },
  {
   "cell_type": "markdown",
   "metadata": {},
   "source": [
    "><u>Tâche 18</u>. Appliquer les fonctions *score_model_1* et *score_model_2* pour connaître les scores et les temps d'éxecution des modèles 1 et 2 en utilisant ces données.  \n",
    ">\n",
    ">Retrouve-t-on ce qu'on a vu en cours, à savoir, que le label encoding est une très mauvaise idée pour des données catégorielles ? Le temps d'exécution est-il impacté par l'encodage one-hot sur ce jeu de données ?\n",
    ">\n",
    "> Pensez à utiliser autant de cellules de code que nécessaire pour avoir un document agréable à lire et bien organisé."
   ]
  },
  {
   "cell_type": "code",
   "execution_count": 60,
   "metadata": {},
   "outputs": [
    {
     "data": {
      "text/plain": [
       "(4713, 11)"
      ]
     },
     "execution_count": 60,
     "metadata": {},
     "output_type": "execute_result"
    }
   ],
   "source": [
    "X_init_O.shape"
   ]
  },
  {
   "cell_type": "code",
   "execution_count": 61,
   "metadata": {},
   "outputs": [
    {
     "name": "stdout",
     "output_type": "stream",
     "text": [
      "Temps d execution du modèle 1 : 3.732204e-03\n",
      "Score MSE sur le modele 1 : \n",
      "3.591171e+07\n",
      "Score R2 sur le modele 1 : \n",
      "0.8072453567982052\n",
      "\n",
      "\n",
      "Temps d execution du modèle 2 : 6.329489e-02\n",
      "Score MSE sur le modele 2 : \n",
      "3.932530e+07\n",
      "Score R2 sur le modele 2 : \n",
      "0.7889230491045544\n"
     ]
    }
   ],
   "source": [
    "X_train=X_init_O.iloc[idx]\n",
    "y_train=data['MSRP'].iloc[idx]\n",
    "X_test=X_init_O.iloc[idxT]\n",
    "y_test=data['MSRP'].iloc[idxT]\n",
    "score_model_1(X_train,y_train,X_test,y_test)\n",
    "print('\\n')\n",
    "score_model_2(X_train,y_train,X_test,y_test)"
   ]
  },
  {
   "cell_type": "markdown",
   "metadata": {},
   "source": [
    "><u>Commentaire sur la section 2-4</u>.Le nombre de features total reste le même qu'initialement : $11$\n",
    ">\n",
    ">Le label encoding donne un résultat moins bon sur les deux modèles : c'est bien ce qu'on avait dit en cours. "
   ]
  },
  {
   "cell_type": "markdown",
   "metadata": {},
   "source": [
    "<div class=\"lev1\"><a href=\"#Table-des-matières\"><span class=\"toc-item-num\"></span>Retour à la table des matières</a></div>"
   ]
  },
  {
   "cell_type": "markdown",
   "metadata": {},
   "source": [
    "### 2-5 Oubli de mise à l'échelle"
   ]
  },
  {
   "cell_type": "markdown",
   "metadata": {},
   "source": [
    "Le but de ce paragraphe est de vous sensibiliser à la mise à l'échelle. A cette fin, nous allons donc faire l'inverse de la partie précédente : garder les variables quantitatives brutes (non mises à l'échelle) et utiliser l'encodage one-hot de la section 2-1.\n",
    "\n",
    "En théorie, on s'attend à ce que le modèle 1 ne soit pas impacté (la régression linéaire ne repose pas sur des distances) alors que le modèle 2 peut l'être (au cause de la régularisation et de la descente de gradient stochastique qui sont sensibles aux ordres de magnitude des features)."
   ]
  },
  {
   "cell_type": "markdown",
   "metadata": {},
   "source": [
    "><u>Tâche 19</u>. Créer un nouveau Dataframe *X_non_scaled* contenant les variables quantitatives non mises à l'échelle et les variables catégorielles one-hot des données d'apprentissage.\n",
    ">\n",
    ">Appliquer les fonctions *score_model_1* et *score_model_2* pour connaître les scores et les temps d'éxecution des modèles 1 et 2 en utilisant ces données.  \n",
    ">\n",
    ">Retrouve-t-on ce à quoi on s'attend en théorie ? Le temps d'exécution est-il impacté ?\n",
    ">\n",
    "> Pensez à utiliser autant de cellules de code que nécessaire pour avoir un document agréable à lire et bien organisé."
   ]
  },
  {
   "cell_type": "code",
   "execution_count": 62,
   "metadata": {},
   "outputs": [],
   "source": [
    "X_non_scaled=pd.concat([data[list_std], cols_OH], axis=1)"
   ]
  },
  {
   "cell_type": "code",
   "execution_count": 63,
   "metadata": {},
   "outputs": [
    {
     "data": {
      "text/plain": [
       "0"
      ]
     },
     "execution_count": 63,
     "metadata": {},
     "output_type": "execute_result"
    }
   ],
   "source": [
    "X_non_scaled.isna().sum().sum()"
   ]
  },
  {
   "cell_type": "code",
   "execution_count": 64,
   "metadata": {},
   "outputs": [
    {
     "name": "stdout",
     "output_type": "stream",
     "text": [
      "Temps d execution du modèle 1 : 9.827614e-03\n",
      "Score MSE sur le modele 1 : \n",
      "3.087586e+07\n",
      "Score R2 sur le modele 1 : \n",
      "0.8342750756730535\n",
      "\n",
      "\n",
      "Temps d execution du modèle 2 : 1.516240e-01\n",
      "Score MSE sur le modele 2 : \n",
      "3.002284e+29\n",
      "Score R2 sur le modele 2 : \n",
      "-1.6114640363028698e+21\n"
     ]
    }
   ],
   "source": [
    "X_train=X_non_scaled.iloc[idx]\n",
    "y_train=data['MSRP'].iloc[idx]\n",
    "X_test=X_non_scaled.iloc[idxT]\n",
    "y_test=data['MSRP'].iloc[idxT]\n",
    "score_model_1(X_train,y_train,X_test,y_test)\n",
    "print('\\n')\n",
    "score_model_2(X_train,y_train,X_test,y_test)"
   ]
  },
  {
   "cell_type": "markdown",
   "metadata": {},
   "source": [
    "><u>Commentaire sur la section 2-5</u>. Le modèle $1$ est amélioré par l'utilisation des données brutes. Cependant le modèle $2$, comme attendu, non seulement ne donne pas de score satisfaisant, mais bien plus que ça : il diverge (il ``crashe'') complètement avec un score en $10^{29}$ et un $R^2$ qui devient même négatif$."
   ]
  },
  {
   "cell_type": "markdown",
   "metadata": {},
   "source": [
    "<div class=\"lev1\"><a href=\"#Table-des-matières\"><span class=\"toc-item-num\"></span>Retour à la table des matières</a></div>"
   ]
  },
  {
   "cell_type": "markdown",
   "metadata": {},
   "source": [
    "### 2-6 Sur les données non standardisées et mal encodées"
   ]
  },
  {
   "cell_type": "markdown",
   "metadata": {},
   "source": [
    "Ce dernier paragraphe de la section a pour objet de bien enfoncer le clou : que se passe-t-il si on oublit les deux points essentiels de ce cours : l'encodage one-hot et la mise à l'échelle ?"
   ]
  },
  {
   "cell_type": "markdown",
   "metadata": {},
   "source": [
    "><u>Tâche 20</u> (facultative). Créer un nouveau Dataframe *X_none* contenant les variables quantitatives non mises à l'échelle et les variables catégorielles labellisées des données d'apprentissage.\n",
    ">\n",
    ">Appliquer les fonctions *score_model_1* et *score_model_2* pour connaître les scores et les temps d'exécution des modèles 1 et 2 en utilisant ces données.  \n",
    ">\n",
    ">Retrouve-t-on ce à quoi on s'attend en théorie ?\n",
    ">\n",
    "> Pensez à utiliser autant de cellules de code que nécessaire pour avoir un document agréable à lire et bien organisé."
   ]
  },
  {
   "cell_type": "code",
   "execution_count": 65,
   "metadata": {},
   "outputs": [],
   "source": [
    "X_none=pd.concat([data[list_std], cols_O], axis=1)"
   ]
  },
  {
   "cell_type": "code",
   "execution_count": 66,
   "metadata": {},
   "outputs": [
    {
     "name": "stdout",
     "output_type": "stream",
     "text": [
      "Temps d execution du modèle 1 : 3.305435e-03\n",
      "Score MSE sur le modele 1 : \n",
      "3.591171e+07\n",
      "Score R2 sur le modele 1 : \n",
      "0.8072453567982046\n",
      "\n",
      "\n",
      "Temps d execution du modèle 2 : 4.666042e-02\n",
      "Score MSE sur le modele 2 : \n",
      "4.583755e+30\n",
      "Score R2 sur le modele 2 : \n",
      "-2.4603120415148677e+22\n"
     ]
    }
   ],
   "source": [
    "X_train=X_none.iloc[idx]\n",
    "y_train=data['MSRP'].iloc[idx]\n",
    "X_test=X_none.iloc[idxT]\n",
    "y_test=data['MSRP'].iloc[idxT]\n",
    "score_model_1(X_train,y_train,X_test,y_test)\n",
    "print('\\n')\n",
    "score_model_2(X_train,y_train,X_test,y_test)"
   ]
  },
  {
   "cell_type": "markdown",
   "metadata": {},
   "source": [
    "<div class=\"lev1\"><a href=\"#Table-des-matières\"><span class=\"toc-item-num\"></span>Retour à la table des matières</a></div>"
   ]
  },
  {
   "cell_type": "markdown",
   "metadata": {},
   "source": [
    "## 3 Création de features"
   ]
  },
  {
   "cell_type": "markdown",
   "metadata": {},
   "source": [
    "### 3-1 Le cas de la variable 'Year'"
   ]
  },
  {
   "cell_type": "markdown",
   "metadata": {},
   "source": [
    "><u>Tâche 21</u>. Quand on cherche à acheter une voiture, on va plutôt considérer l'âge de la voiture. Créez la variable 'Age' à partir de la variable 'Year' et substituez là à celle-ci puis tester cette modification avec *score_model_1* et *score_model_2*"
   ]
  },
  {
   "cell_type": "code",
   "execution_count": 67,
   "metadata": {},
   "outputs": [
    {
     "name": "stdout",
     "output_type": "stream",
     "text": [
      "2017\n"
     ]
    }
   ],
   "source": [
    "print(data['Year'].max())"
   ]
  },
  {
   "cell_type": "code",
   "execution_count": 68,
   "metadata": {},
   "outputs": [],
   "source": [
    "data['Age']=2017-data['Year']"
   ]
  },
  {
   "cell_type": "code",
   "execution_count": 69,
   "metadata": {},
   "outputs": [],
   "source": [
    "data=data.drop('Year',axis=1)"
   ]
  },
  {
   "cell_type": "code",
   "execution_count": 70,
   "metadata": {},
   "outputs": [
    {
     "data": {
      "text/html": [
       "<div>\n",
       "<style scoped>\n",
       "    .dataframe tbody tr th:only-of-type {\n",
       "        vertical-align: middle;\n",
       "    }\n",
       "\n",
       "    .dataframe tbody tr th {\n",
       "        vertical-align: top;\n",
       "    }\n",
       "\n",
       "    .dataframe thead th {\n",
       "        text-align: right;\n",
       "    }\n",
       "</style>\n",
       "<table border=\"1\" class=\"dataframe\">\n",
       "  <thead>\n",
       "    <tr style=\"text-align: right;\">\n",
       "      <th></th>\n",
       "      <th>Make</th>\n",
       "      <th>Engine Fuel Type</th>\n",
       "      <th>Engine HP</th>\n",
       "      <th>Engine Cylinders</th>\n",
       "      <th>Transmission Type</th>\n",
       "      <th>Driven_Wheels</th>\n",
       "      <th>Number of Doors</th>\n",
       "      <th>Vehicle Size</th>\n",
       "      <th>Vehicle Style</th>\n",
       "      <th>highway MPG</th>\n",
       "      <th>MSRP</th>\n",
       "      <th>Age</th>\n",
       "    </tr>\n",
       "  </thead>\n",
       "  <tbody>\n",
       "    <tr>\n",
       "      <th>0</th>\n",
       "      <td>Chrysler</td>\n",
       "      <td>flex-fuel</td>\n",
       "      <td>184.0</td>\n",
       "      <td>4.0</td>\n",
       "      <td>AUTOMATIC</td>\n",
       "      <td>front wheel drive</td>\n",
       "      <td>4.0</td>\n",
       "      <td>1</td>\n",
       "      <td>Sedan</td>\n",
       "      <td>36</td>\n",
       "      <td>25170</td>\n",
       "      <td>2</td>\n",
       "    </tr>\n",
       "    <tr>\n",
       "      <th>1</th>\n",
       "      <td>Chrysler</td>\n",
       "      <td>flex-fuel</td>\n",
       "      <td>184.0</td>\n",
       "      <td>4.0</td>\n",
       "      <td>AUTOMATIC</td>\n",
       "      <td>front wheel drive</td>\n",
       "      <td>4.0</td>\n",
       "      <td>1</td>\n",
       "      <td>Sedan</td>\n",
       "      <td>36</td>\n",
       "      <td>23950</td>\n",
       "      <td>2</td>\n",
       "    </tr>\n",
       "    <tr>\n",
       "      <th>2</th>\n",
       "      <td>Chrysler</td>\n",
       "      <td>flex-fuel</td>\n",
       "      <td>295.0</td>\n",
       "      <td>6.0</td>\n",
       "      <td>AUTOMATIC</td>\n",
       "      <td>all wheel drive</td>\n",
       "      <td>4.0</td>\n",
       "      <td>1</td>\n",
       "      <td>Sedan</td>\n",
       "      <td>29</td>\n",
       "      <td>29370</td>\n",
       "      <td>2</td>\n",
       "    </tr>\n",
       "    <tr>\n",
       "      <th>3</th>\n",
       "      <td>Chrysler</td>\n",
       "      <td>flex-fuel</td>\n",
       "      <td>184.0</td>\n",
       "      <td>4.0</td>\n",
       "      <td>AUTOMATIC</td>\n",
       "      <td>front wheel drive</td>\n",
       "      <td>4.0</td>\n",
       "      <td>1</td>\n",
       "      <td>Sedan</td>\n",
       "      <td>36</td>\n",
       "      <td>21995</td>\n",
       "      <td>2</td>\n",
       "    </tr>\n",
       "    <tr>\n",
       "      <th>4</th>\n",
       "      <td>Chrysler</td>\n",
       "      <td>flex-fuel</td>\n",
       "      <td>184.0</td>\n",
       "      <td>4.0</td>\n",
       "      <td>AUTOMATIC</td>\n",
       "      <td>front wheel drive</td>\n",
       "      <td>4.0</td>\n",
       "      <td>1</td>\n",
       "      <td>Sedan</td>\n",
       "      <td>36</td>\n",
       "      <td>26625</td>\n",
       "      <td>2</td>\n",
       "    </tr>\n",
       "  </tbody>\n",
       "</table>\n",
       "</div>"
      ],
      "text/plain": [
       "       Make Engine Fuel Type  Engine HP  Engine Cylinders Transmission Type  \\\n",
       "0  Chrysler        flex-fuel      184.0               4.0         AUTOMATIC   \n",
       "1  Chrysler        flex-fuel      184.0               4.0         AUTOMATIC   \n",
       "2  Chrysler        flex-fuel      295.0               6.0         AUTOMATIC   \n",
       "3  Chrysler        flex-fuel      184.0               4.0         AUTOMATIC   \n",
       "4  Chrysler        flex-fuel      184.0               4.0         AUTOMATIC   \n",
       "\n",
       "       Driven_Wheels  Number of Doors  Vehicle Size Vehicle Style  \\\n",
       "0  front wheel drive              4.0             1         Sedan   \n",
       "1  front wheel drive              4.0             1         Sedan   \n",
       "2    all wheel drive              4.0             1         Sedan   \n",
       "3  front wheel drive              4.0             1         Sedan   \n",
       "4  front wheel drive              4.0             1         Sedan   \n",
       "\n",
       "   highway MPG   MSRP  Age  \n",
       "0           36  25170    2  \n",
       "1           36  23950    2  \n",
       "2           29  29370    2  \n",
       "3           36  21995    2  \n",
       "4           36  26625    2  "
      ]
     },
     "execution_count": 70,
     "metadata": {},
     "output_type": "execute_result"
    }
   ],
   "source": [
    "data.head()"
   ]
  },
  {
   "cell_type": "code",
   "execution_count": 71,
   "metadata": {},
   "outputs": [],
   "source": [
    "#On crée l'objet 'scale'\n",
    "list_std=['Age','highway MPG', 'Engine HP']\n",
    "scale = StandardScaler()\n",
    "#On ajuste nos données à l'objet 'scale'\n",
    "fit_scale_OH=scale.fit_transform(data[list_std])\n",
    "#On met sous forme de Dataframe\n",
    "cols_scaled = pd.DataFrame(fit_scale_OH,columns=list_std)\n",
    "cols_scaled.reset_index(drop=True, inplace=True)"
   ]
  },
  {
   "cell_type": "code",
   "execution_count": 72,
   "metadata": {},
   "outputs": [],
   "source": [
    "X_age_OH = pd.concat([cols_scaled, cols_OH], axis=1)"
   ]
  },
  {
   "cell_type": "code",
   "execution_count": 73,
   "metadata": {},
   "outputs": [
    {
     "name": "stdout",
     "output_type": "stream",
     "text": [
      "Temps d execution du modèle 1 : 1.083112e-02\n",
      "Score MSE sur le modele 1 : \n",
      "3.830619e+07\n",
      "Score R2 sur le modele 1 : \n",
      "0.7943930415420104\n",
      "\n",
      "\n",
      "Temps d execution du modèle 2 : 1.487923e-01\n",
      "Score MSE sur le modele 2 : \n",
      "3.074164e+07\n",
      "Score R2 sur le modele 2 : \n",
      "0.8349954886303543\n"
     ]
    }
   ],
   "source": [
    "X_train=X_age_OH.iloc[idx]\n",
    "y_train=data['MSRP'].iloc[idx]\n",
    "X_test=X_age_OH.iloc[idxT]\n",
    "y_test=data['MSRP'].iloc[idxT]\n",
    "score_model_1(X_train,y_train,X_test,y_test)\n",
    "print('\\n')\n",
    "score_model_2(X_train,y_train,X_test,y_test)"
   ]
  },
  {
   "cell_type": "markdown",
   "metadata": {},
   "source": [
    "><u>Commentaire sur la section 3-1</u>. On n'observe pas d'amélioration avec cette transformation."
   ]
  },
  {
   "cell_type": "markdown",
   "metadata": {},
   "source": [
    "<div class=\"lev1\"><a href=\"#Table-des-matières\"><span class=\"toc-item-num\"></span>Retour à la table des matières</a></div>"
   ]
  },
  {
   "cell_type": "markdown",
   "metadata": {},
   "source": [
    "### 3-2 Le cas de la variable 'highway MPG' : première approche"
   ]
  },
  {
   "cell_type": "markdown",
   "metadata": {},
   "source": [
    "><u>Tâche 22</u>.L'unité mpg, miles per gallon, est utilisé aux Etats-Unis. En France, on parle plutôt de litre au cent (km). Ajoutez au jeu de données une nouvelle variable 'highway Lkm' qui est donc la consommation en litre aux $100$ kilomètres. Est-ce que cela améliore notre jeu de données (n'oubliez pas de standardiser la nouvelle variable !)."
   ]
  },
  {
   "cell_type": "code",
   "execution_count": 74,
   "metadata": {},
   "outputs": [],
   "source": [
    "data['highway Lkm']=(235/data['highway MPG'])"
   ]
  },
  {
   "cell_type": "code",
   "execution_count": 75,
   "metadata": {},
   "outputs": [],
   "source": [
    "#On crée l'objet 'scale'\n",
    "list_std=['Age','Engine HP','highway Lkm','highway MPG']\n",
    "scale = StandardScaler()\n",
    "#On ajuste nos données à l'objet 'scale'\n",
    "fit_scale_OH=scale.fit_transform(data[list_std])\n",
    "#On met sous forme de Dataframe\n",
    "cols_scaled = pd.DataFrame(fit_scale_OH,columns=list_std)\n",
    "cols_scaled.reset_index(drop=True, inplace=True)"
   ]
  },
  {
   "cell_type": "code",
   "execution_count": 76,
   "metadata": {},
   "outputs": [],
   "source": [
    "X_inv_OH = pd.concat([cols_scaled, cols_OH], axis=1)"
   ]
  },
  {
   "cell_type": "code",
   "execution_count": 77,
   "metadata": {},
   "outputs": [
    {
     "name": "stdout",
     "output_type": "stream",
     "text": [
      "Temps d execution du modèle 1 : 9.817362e-03\n",
      "Score MSE sur le modele 1 : \n",
      "3.084864e+07\n",
      "Score R2 sur le modele 1 : \n",
      "0.8344211439461533\n",
      "\n",
      "\n",
      "Temps d execution du modèle 2 : 9.339237e-02\n",
      "Score MSE sur le modele 2 : \n",
      "3.070092e+07\n",
      "Score R2 sur le modele 2 : \n",
      "0.8352140230801673\n"
     ]
    }
   ],
   "source": [
    "X_train=X_inv_OH.iloc[idx].drop('highway MPG',axis=1)#meilleur résultat si on enlève 'highway MPG'\n",
    "y_train=data['MSRP'].iloc[idx]\n",
    "X_test=X_inv_OH.iloc[idxT].drop('highway MPG',axis=1)\n",
    "y_test=data['MSRP'].iloc[idxT]\n",
    "score_model_1(X_train,y_train,X_test,y_test)\n",
    "print('\\n')\n",
    "score_model_2(X_train,y_train,X_test,y_test)"
   ]
  },
  {
   "cell_type": "markdown",
   "metadata": {},
   "source": [
    "><u>Commentaire sur la section 3-2</u>. On observe une légère amélioration avec cette transformation."
   ]
  },
  {
   "cell_type": "markdown",
   "metadata": {},
   "source": [
    "<div class=\"lev1\"><a href=\"#Table-des-matières\"><span class=\"toc-item-num\"></span>Retour à la table des matières</a></div>"
   ]
  },
  {
   "cell_type": "markdown",
   "metadata": {},
   "source": [
    "### 3-3 Terme d'interaction"
   ]
  },
  {
   "cell_type": "markdown",
   "metadata": {},
   "source": [
    "><u>Tâche 23</u>. Créer une nouvelle variable 'Age_MPG' qui est égale à l'âge du véhicule multiplié par sa consommation en conduite sur route 'Highway MPG'. Cela améliore-t-il notre jeu de données (n'oubliez pas de standardiser la nouvelle variables !) ?"
   ]
  },
  {
   "cell_type": "code",
   "execution_count": 78,
   "metadata": {},
   "outputs": [],
   "source": [
    "data['Age_MPG']=data['highway MPG']*data['Age']"
   ]
  },
  {
   "cell_type": "code",
   "execution_count": 79,
   "metadata": {},
   "outputs": [],
   "source": [
    "#On crée l'objet 'scale'\n",
    "list_std=['Age','Engine HP','highway Lkm','Age_MPG']\n",
    "scale = StandardScaler()\n",
    "#On ajuste nos données à l'objet 'scale'\n",
    "fit_scale_OH=scale.fit_transform(data[list_std])\n",
    "#On met sous forme de Dataframe\n",
    "cols_scaled = pd.DataFrame(fit_scale_OH,columns=list_std)\n",
    "cols_scaled.reset_index(drop=True, inplace=True)"
   ]
  },
  {
   "cell_type": "code",
   "execution_count": 80,
   "metadata": {},
   "outputs": [],
   "source": [
    "X_prod_OH = pd.concat([cols_scaled, cols_OH], axis=1)"
   ]
  },
  {
   "cell_type": "code",
   "execution_count": 81,
   "metadata": {},
   "outputs": [
    {
     "name": "stdout",
     "output_type": "stream",
     "text": [
      "Temps d execution du modèle 1 : 2.470112e-02\n",
      "Score MSE sur le modele 1 : \n",
      "2.842230e+07\n",
      "Score R2 sur le modele 1 : \n",
      "0.8474444419960051\n",
      "\n",
      "\n",
      "Temps d execution du modèle 2 : 1.644914e-01\n",
      "Score MSE sur le modele 2 : \n",
      "2.830696e+07\n",
      "Score R2 sur le modele 2 : \n",
      "0.8480635360044839\n"
     ]
    }
   ],
   "source": [
    "X_train=X_prod_OH .iloc[idx]\n",
    "y_train=data['MSRP'].iloc[idx]\n",
    "X_test=X_prod_OH.iloc[idxT]\n",
    "y_test=data['MSRP'].iloc[idxT]\n",
    "score_model_1(X_train,y_train,X_test,y_test)\n",
    "print('\\n')\n",
    "score_model_2(X_train,y_train,X_test,y_test)"
   ]
  },
  {
   "cell_type": "markdown",
   "metadata": {},
   "source": [
    "<u>Commentaire sur la section 3-3</u> On observe une amélioration."
   ]
  },
  {
   "cell_type": "markdown",
   "metadata": {},
   "source": [
    "<div class=\"lev1\"><a href=\"#Table-des-matières\"><span class=\"toc-item-num\"></span>Retour à la table des matières</a></div>"
   ]
  },
  {
   "cell_type": "markdown",
   "metadata": {},
   "source": [
    "### 3-4 Encore des transformations ..."
   ]
  },
  {
   "cell_type": "markdown",
   "metadata": {},
   "source": [
    "><u>Tâche 24</u>. Trouver quelles feature $f(x)$ ajouter au jeu de données pour $f\\in \\{\\log(\\cdot), \\sqrt{\\cdot}, \\sqrt[3]{\\cdot}\\}$ et $x\\in \\{\\text{'Engine HP', 'highway MPG'}\\}$. Pour cela vous pouvez :\n",
    ">- Tracer les nuages de points $(f(x),\\text{'MSRP'})$\n",
    ">- Regarder les coefficients de corrélations de $f(x)$ avec $\\text{'MSRP'}$.\n",
    "> Une fois votre choix fait, testez votre jeu de données comme précédemment."
   ]
  },
  {
   "cell_type": "code",
   "execution_count": 82,
   "metadata": {},
   "outputs": [
    {
     "data": {
      "text/plain": [
       "<matplotlib.axes._subplots.AxesSubplot at 0x7f8187406160>"
      ]
     },
     "execution_count": 82,
     "metadata": {},
     "output_type": "execute_result"
    },
    {
     "data": {
      "image/png": "[encoded data removed]",
      "text/plain": [
       "<Figure size 432x288 with 1 Axes>"
      ]
     },
     "metadata": {
      "needs_background": "light"
     },
     "output_type": "display_data"
    }
   ],
   "source": [
    "#Pour comparaison, on trace le nuage de points initial\n",
    "sns.regplot((data['Engine HP']), data['MSRP'])"
   ]
  },
  {
   "cell_type": "code",
   "execution_count": 83,
   "metadata": {},
   "outputs": [
    {
     "data": {
      "text/plain": [
       "<matplotlib.axes._subplots.AxesSubplot at 0x7f81872fa630>"
      ]
     },
     "execution_count": 83,
     "metadata": {},
     "output_type": "execute_result"
    },
    {
     "data": {
      "image/png": "[encoded data removed]",
      "text/plain": [
       "<Figure size 1080x216 with 3 Axes>"
      ]
     },
     "metadata": {
      "needs_background": "light"
     },
     "output_type": "display_data"
    }
   ],
   "source": [
    "fig, (ax1, ax2,ax3) = plt.subplots(ncols=3, sharey=True,figsize=(15,3))\n",
    "sns.regplot( np.log(data['Engine HP']), data['MSRP'],ax=ax1)\n",
    "sns.regplot( (data['Engine HP'])**0.5, data['MSRP'],ax=ax2)\n",
    "sns.regplot( np.power(data['Engine HP'],1/3), data['MSRP'],ax=ax3)"
   ]
  },
  {
   "cell_type": "code",
   "execution_count": 84,
   "metadata": {},
   "outputs": [
    {
     "name": "stdout",
     "output_type": "stream",
     "text": [
      "0.8012811278371574\n",
      "0.7709989769617988\n",
      "0.7926713539241399\n",
      "0.7868051965469633\n"
     ]
    }
   ],
   "source": [
    "print(data['Engine HP'].corr(data['MSRP']))\n",
    "print(np.log(data['Engine HP']).corr(data['MSRP']))\n",
    "print(((data['Engine HP'])**0.5).corr(data['MSRP']))\n",
    "print(np.power(data['Engine HP'],1/3).corr(data['MSRP']))"
   ]
  },
  {
   "cell_type": "code",
   "execution_count": 85,
   "metadata": {},
   "outputs": [
    {
     "data": {
      "text/plain": [
       "<matplotlib.axes._subplots.AxesSubplot at 0x7f8187150470>"
      ]
     },
     "execution_count": 85,
     "metadata": {},
     "output_type": "execute_result"
    },
    {
     "data": {
      "image/png": "[encoded data removed]",
      "text/plain": [
       "<Figure size 1080x216 with 3 Axes>"
      ]
     },
     "metadata": {
      "needs_background": "light"
     },
     "output_type": "display_data"
    }
   ],
   "source": [
    "fig, (ax1, ax2,ax3) = plt.subplots(ncols=3, sharey=True,figsize=(15,3))\n",
    "sns.regplot( np.log(data['highway MPG']), data['MSRP'],ax=ax1)\n",
    "sns.regplot( (data['highway MPG'])**0.5, data['MSRP'],ax=ax2)\n",
    "sns.regplot( np.power(data['highway MPG'],1/3), data['MSRP'],ax=ax3)"
   ]
  },
  {
   "cell_type": "code",
   "execution_count": 86,
   "metadata": {},
   "outputs": [
    {
     "name": "stdout",
     "output_type": "stream",
     "text": [
      "-0.10434422120544612\n",
      "-0.11723657488479156\n",
      "-0.11597216424704117\n",
      "-0.11743406017035975\n"
     ]
    }
   ],
   "source": [
    "print(data['highway MPG'].corr(data['MSRP']))\n",
    "print(np.log(data['highway MPG']).corr(data['MSRP']))\n",
    "print(np.power(data['highway MPG'],1/2).corr(data['MSRP']))\n",
    "print(np.power(data['highway MPG'],1/3).corr(data['MSRP']))"
   ]
  },
  {
   "cell_type": "code",
   "execution_count": 87,
   "metadata": {},
   "outputs": [],
   "source": [
    "data['Engine HP r2']=np.power(data['Engine HP'],1/2)\n",
    "data['highway MPG r3']=np.power(data['highway MPG'],1/3)"
   ]
  },
  {
   "cell_type": "code",
   "execution_count": 88,
   "metadata": {},
   "outputs": [],
   "source": [
    "#On crée l'objet 'scale'\n",
    "list_std=['Age','Engine HP','highway Lkm','highway MPG r3','Engine HP r2','Age_MPG']\n",
    "scale = StandardScaler()\n",
    "#On ajuste nos données à l'objet 'scale'\n",
    "fit_scale_OH=scale.fit_transform(data[list_std])\n",
    "#On met sous forme de Dataframe\n",
    "cols_scaled = pd.DataFrame(fit_scale_OH,columns=list_std)\n",
    "cols_scaled.reset_index(drop=True, inplace=True)"
   ]
  },
  {
   "cell_type": "code",
   "execution_count": 89,
   "metadata": {},
   "outputs": [],
   "source": [
    "X_trans_OH = pd.concat([cols_scaled, cols_OH], axis=1)"
   ]
  },
  {
   "cell_type": "code",
   "execution_count": 90,
   "metadata": {},
   "outputs": [
    {
     "name": "stdout",
     "output_type": "stream",
     "text": [
      "Temps d execution du modèle 1 : 1.119351e-02\n",
      "Score MSE sur le modele 1 : \n",
      "2.768938e+07\n",
      "Score R2 sur le modele 1 : \n",
      "0.8513783449914263\n",
      "\n",
      "\n",
      "Temps d execution du modèle 2 : 1.744606e-01\n",
      "Score MSE sur le modele 2 : \n",
      "2.775670e+07\n",
      "Score R2 sur le modele 2 : \n",
      "0.8510170381366852\n"
     ]
    }
   ],
   "source": [
    "X_train=X_trans_OH.iloc[idx]\n",
    "y_train=data['MSRP'].iloc[idx]\n",
    "X_test=X_trans_OH.iloc[idxT]\n",
    "y_test=data['MSRP'].iloc[idxT]\n",
    "score_model_1(X_train,y_train,X_test,y_test)\n",
    "print('\\n')\n",
    "score_model_2(X_train,y_train,X_test,y_test)"
   ]
  },
  {
   "cell_type": "markdown",
   "metadata": {},
   "source": [
    "><u>Commentaire sur la section 3-4</u>. On sélectionne $\\sqrt{\\text{'Engine HP'}}$ et $\\sqrt[3]{\\text{'Engine HP}}$ qui ont les corrélations les plus fortes avec 'MSRP'. Le score des deux modèles est amélioré."
   ]
  },
  {
   "cell_type": "markdown",
   "metadata": {},
   "source": [
    "<div class=\"lev1\"><a href=\"#Table-des-matières\"><span class=\"toc-item-num\"></span>Retour à la table des matières</a></div>"
   ]
  },
  {
   "cell_type": "markdown",
   "metadata": {},
   "source": [
    "## 4 Et les variables catégorielles ?"
   ]
  },
  {
   "cell_type": "markdown",
   "metadata": {},
   "source": [
    "### 4-1 Sont-elles toutes déterminantes ?"
   ]
  },
  {
   "cell_type": "markdown",
   "metadata": {},
   "source": [
    "><u>Tâche 25</u>. Si certaines features sont très corrélées avec d'autres, ou bien si elles sont complètement sans effet sur le prédicteur, cela peut diminuer les résultats d'un modèle. Les résultats sont-ils meilleurs avec ou sans les variables 'Vehicle size' et 'Number of Doors' ? Pouvait-on le prévoir ?"
   ]
  },
  {
   "cell_type": "code",
   "execution_count": 91,
   "metadata": {},
   "outputs": [
    {
     "data": {
      "text/plain": [
       "['Age',\n",
       " 'Engine HP',\n",
       " 'highway Lkm',\n",
       " 'highway MPG r3',\n",
       " 'Engine HP r2',\n",
       " 'Age_MPG',\n",
       " 'Make_Chevrolet',\n",
       " 'Make_Chrysler',\n",
       " 'Make_Ford',\n",
       " 'Make_Honda',\n",
       " 'Make_Hyundai',\n",
       " 'Make_Mazda',\n",
       " 'Make_Nissan',\n",
       " 'Make_Pontiac',\n",
       " 'Make_Subaru',\n",
       " 'Make_Suzuki',\n",
       " 'Transmission Type_AUTOMATED_MANUAL',\n",
       " 'Transmission Type_AUTOMATIC',\n",
       " 'Transmission Type_DIRECT_DRIVE',\n",
       " 'Transmission Type_MANUAL',\n",
       " 'Transmission Type_UNKNOWN',\n",
       " 'Driven_Wheels_all wheel drive',\n",
       " 'Driven_Wheels_four wheel drive',\n",
       " 'Driven_Wheels_front wheel drive',\n",
       " 'Driven_Wheels_rear wheel drive',\n",
       " 'Vehicle Style_2dr Hatchback',\n",
       " 'Vehicle Style_2dr SUV',\n",
       " 'Vehicle Style_4dr Hatchback',\n",
       " 'Vehicle Style_4dr SUV',\n",
       " 'Vehicle Style_Cargo Minivan',\n",
       " 'Vehicle Style_Cargo Van',\n",
       " 'Vehicle Style_Convertible',\n",
       " 'Vehicle Style_Convertible SUV',\n",
       " 'Vehicle Style_Coupe',\n",
       " 'Vehicle Style_Crew Cab Pickup',\n",
       " 'Vehicle Style_Extended Cab Pickup',\n",
       " 'Vehicle Style_Passenger Minivan',\n",
       " 'Vehicle Style_Passenger Van',\n",
       " 'Vehicle Style_Regular Cab Pickup',\n",
       " 'Vehicle Style_Sedan',\n",
       " 'Vehicle Style_Wagon',\n",
       " 'Engine Fuel Type_diesel',\n",
       " 'Engine Fuel Type_electric',\n",
       " 'Engine Fuel Type_flex-fuel',\n",
       " 'Engine Fuel Type_natural gas',\n",
       " 'Engine Fuel Type_unleaded',\n",
       " 'Vehicle Size_0',\n",
       " 'Vehicle Size_1',\n",
       " 'Vehicle Size_2',\n",
       " 'Number of Doors_2.0',\n",
       " 'Number of Doors_3.0',\n",
       " 'Number of Doors_4.0',\n",
       " 'Engine Cylinders_0.0',\n",
       " 'Engine Cylinders_2.0',\n",
       " 'Engine Cylinders_3.0',\n",
       " 'Engine Cylinders_4.0',\n",
       " 'Engine Cylinders_5.0',\n",
       " 'Engine Cylinders_6.0',\n",
       " 'Engine Cylinders_8.0']"
      ]
     },
     "execution_count": 91,
     "metadata": {},
     "output_type": "execute_result"
    }
   ],
   "source": [
    "list(X_trans_OH.columns)"
   ]
  },
  {
   "cell_type": "code",
   "execution_count": 92,
   "metadata": {},
   "outputs": [
    {
     "name": "stdout",
     "output_type": "stream",
     "text": [
      "Temps d execution du modèle 1 : 1.334405e-02\n",
      "Score MSE sur le modele 1 : \n",
      "2.769738e+07\n",
      "Score R2 sur le modele 1 : \n",
      "0.8513354350158457\n",
      "\n",
      "\n",
      "Temps d execution du modèle 2 : 1.287494e-01\n",
      "Score MSE sur le modele 2 : \n",
      "2.772316e+07\n",
      "Score R2 sur le modele 2 : \n",
      "0.8511970278639178\n"
     ]
    }
   ],
   "source": [
    "X_train=X_trans_OH.iloc[idx].drop([ 'Vehicle Size_0',\n",
    " 'Vehicle Size_1',\n",
    " 'Vehicle Size_2',],axis=1)\n",
    "y_train=data['MSRP'].iloc[idx]\n",
    "X_test=X_trans_OH.iloc[idxT].drop([ 'Vehicle Size_0',\n",
    " 'Vehicle Size_1',\n",
    " 'Vehicle Size_2',],axis=1)\n",
    "y_test=data['MSRP'].iloc[idxT]\n",
    "score_model_1(X_train,y_train,X_test,y_test)\n",
    "print('\\n')\n",
    "score_model_2(X_train,y_train,X_test,y_test)"
   ]
  },
  {
   "cell_type": "markdown",
   "metadata": {},
   "source": [
    "><u>Commentaires</u>. Le score est légèrement amélioré sans 'Vehicle Size'. De manière général, retirer ces variables n'a pas d'impact significatif sur le score. On pouvait s'y attendre car dans la section $1$, on voit qu'il n'y a pas de relation entre le prix et ces deux variables (voir la corrélation, le nuage de points et le boxplot).\n",
    ">\n",
    "> Il existe des méthodes rigoureuses pour choisir les variables les plus pertinentes. Cela s'appelle la *sélection de features* et fait l'objet d'un cours en particulier pour ceux d'entre vous qui continueront un cursus data science."
   ]
  },
  {
   "cell_type": "markdown",
   "metadata": {},
   "source": [
    "><u>Tâche 26</u> Tracez le nuage de points de la feature 'MSPR' en fonction de 'highway MPG' avec les labels des classes de 'Transmission Type'. Commentez."
   ]
  },
  {
   "cell_type": "code",
   "execution_count": 93,
   "metadata": {},
   "outputs": [
    {
     "data": {
      "text/plain": [
       "<matplotlib.axes._subplots.AxesSubplot at 0x7f818743f668>"
      ]
     },
     "execution_count": 93,
     "metadata": {},
     "output_type": "execute_result"
    },
    {
     "data": {
      "image/png": "[encoded data removed]",
      "text/plain": [
       "<Figure size 432x288 with 1 Axes>"
      ]
     },
     "metadata": {
      "needs_background": "light"
     },
     "output_type": "display_data"
    }
   ],
   "source": [
    "sns.scatterplot(x=\"MSRP\", y=\"highway MPG\", hue=\"Transmission Type\",data=data)"
   ]
  },
  {
   "cell_type": "markdown",
   "metadata": {},
   "source": [
    "><u>Commentaire</u>. On voit que la catégorie 'DIRECT_DRIVE' de la variable 'Transmission Type' contribue à expliquer la relation entre 'highway MPG' et le prix : elle explique bien le groupe de points avec un 'highway HP' très élevé par rapport au reste du nuage de points. Ainsi, même si à partir du boxplot 'Transmission Type' par 'MSRP', on serait tenté d'enlever la variable 'Transmission Type', on voit qu'elle fait partie d'une relation 'highway MPG'/'MSPR'/'Transmission Type' : on perdrait de l'information en l'enlevant et on dégraderait potentiellement nos scores. "
   ]
  },
  {
   "cell_type": "markdown",
   "metadata": {},
   "source": [
    "<div class=\"lev1\"><a href=\"#Table-des-matières\"><span class=\"toc-item-num\"></span>Retour à la table des matières</a></div>"
   ]
  },
  {
   "cell_type": "markdown",
   "metadata": {},
   "source": [
    "## 5 OneHotEncoder vs get_dummies"
   ]
  },
  {
   "cell_type": "markdown",
   "metadata": {},
   "source": [
    "<span style=\"border:1px; border-style:solid\">OneHotEncoder</span> se trouve dans la librairie de <u>sklearn</u> alors que <span style=\"border:1px; border-style:solid\">get_dummies</span> est une fonction de <u>pandas</u>. Ils ont chacun des avantages et des inconvénients, cependant *à l'heure actuelle* (sous réserve de mise à jour de ces librairies), je vous conseillerais d'utiliser OneHotEncoder.\n",
    "\n",
    "- get_dummies :    \n",
    "    - (+) crée directement un Dataframe à partir du Dataframe à encoder.\n",
    "    - (-) ne prend en entrée que des chaînes de caractère.\n",
    "    - permet de faire un encodage dummy avec l'option 'drop_first=True' (mais pas le choix de quelle variable on enlève).\n",
    "\n",
    "- OneHotEncoder :\n",
    "    - (-) retourne un objet de type 2-d array (ou une matrice), et non pas un Dataframe.\n",
    "    - (+) prend en entrée des chaînes de caractère et des entiers.\n",
    "    - permet de faire un encodage dummy avec l'option 'drop' (et de choisir quelle entrée on enlève).\n",
    "    - **crée une fonction persistente**, de sorte que si vous voulez encoder de nouvelles données, l'utilisation de cette fonction vous assure d'avoir des résultats consistants. Il y a deux options : handle_unknown=\"ignore\" ou handle_unknown=\"error\". Dans le cas handle_unknown=\"error\", si vous donnez à l'encodeur un jeu de données avec une nouvelle catégorie, qui n'était pas dans le premier jeu de données tranformé, alors cela retourne une erreur.\n",
    "    \n",
    "Par exemple : si votre premier jeu de données comporte une variables avec les catégories \"rouge\", \"vert\" et \"jaune\" et que votre deuxième jeu de données contient en plus la catégorie \"bleue\", alors :\n",
    "\n",
    "- get_dummies va créer la colonne 'couleur_bleue' dans l'encodage one-hot, ce qui entraînera des problèmes plus loin dans votre code si vos modèles ont été entraînés sans catégorie 'bleue'.\n",
    "- OneHotEncoder vous signalera une erreur (handle_unknown=\"error\") ou bien ignorera cette nouvelle catégories (handle_unknown=\"ignore\") (c'est-à-dire mettre des $0$ dans les colonnes 'couleur_rouge', 'couleur_vert' et 'couleur_jaune'.\n",
    "    \n",
    "En résumé, get_dummies est facile à manipuler et peut être privilégié pour de l'exploration, avec des petites quantités de données, et OneHotEncoder est préférable dans des projets plus complexes ou l'on veut contrôler avec soin toutes les variables, voir [ici](https://stackoverflow.com/questions/36631163/pandas-get-dummies-vs-sklearns-onehotencoder-what-are-the-pros-and-cons).     "
   ]
  },
  {
   "cell_type": "markdown",
   "metadata": {},
   "source": [
    "<div class=\"lev1\"><a href=\"#Table-des-matières\"><span class=\"toc-item-num\"></span>Retour à la table des matières</a></div>"
   ]
  },
  {
   "cell_type": "code",
   "execution_count": null,
   "metadata": {},
   "outputs": [],
   "source": []
  }
 ],
 "metadata": {
  "kernelspec": {
   "display_name": "Python 3 (ipykernel)",
   "language": "python",
   "name": "python3"
  },
  "language_info": {
   "codemirror_mode": {
    "name": "ipython",
    "version": 3
   },
   "file_extension": ".py",
   "mimetype": "text/x-python",
   "name": "python",
   "nbconvert_exporter": "python",
   "pygments_lexer": "ipython3",
   "version": "3.8.10"
  }
 },
 "nbformat": 4,
 "nbformat_minor": 4
}
