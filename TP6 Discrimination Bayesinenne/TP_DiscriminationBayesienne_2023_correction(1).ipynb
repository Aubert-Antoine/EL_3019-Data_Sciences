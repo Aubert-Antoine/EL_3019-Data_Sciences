{
 "cells": [
  {
   "cell_type": "markdown",
   "id": "fc559e69-13aa-4fa2-b6d9-15f0d0c94021",
   "metadata": {},
   "source": [
    "# TP Discrimination bayésienne"
   ]
  },
  {
   "cell_type": "markdown",
   "id": "b58d55c1-ef79-4ff7-add4-3adcde82e53e",
   "metadata": {},
   "source": [
    "La \"discrimination\" consiste, compte tenu de \"features\" (variables explicatives), à prédire l'appartenance à une classe.  \n",
    "La discrimination bayésienne, en s'appuyant sur une modélisation probabiliste et la règle de Bayes, permet de déterminer quelle est la probabilité d'appartenance à une classe. Après seuillage, on peut affecter un \"exemple\" à une classe. "
   ]
  },
  {
   "cell_type": "markdown",
   "id": "076fb78a-3d49-46b0-9560-ef16ff5a8b56",
   "metadata": {},
   "source": [
    "On peut évaluer les performances grace à la \"matrice de confusion\", qui compare (ci-dessous dans le cas binaire) les prédictions aux valeurs réelles. Le score (ou *accuracy*) est le nombre total d'exmples bien classifiés sur le nombre total d'exemples. "
   ]
  },
  {
   "attachments": {
    "742b6a07-85a6-4532-af5a-e93b2dd24635.png": {
     "image/png": "[encoded data removed]"
    }
   },
   "cell_type": "markdown",
   "id": "ae5a8d26-7a43-4f55-b24c-50454599f14d",
   "metadata": {
    "tags": []
   },
   "source": [
    "\n",
    "### Matrice de confusion\n",
    "![image.png](attachment:742b6a07-85a6-4532-af5a-e93b2dd24635.png)\n",
    "\n",
    "Source : [Wikipedia](https://en.wikipedia.org/wiki/Confusion_matrix)"
   ]
  },
  {
   "cell_type": "markdown",
   "id": "279be070-f6ec-4169-9498-6a5f4c593029",
   "metadata": {},
   "source": [
    "La fonction maison suivante vous permettra de visualiser la matrice de confusion (cas binaire - deux classes)"
   ]
  },
  {
   "cell_type": "markdown",
   "id": "1b21a282-ec9e-4e6c-ba24-2e20d9b966d7",
   "metadata": {},
   "source": [
    "### Fonctions maison"
   ]
  },
  {
   "cell_type": "code",
   "execution_count": 136,
   "id": "14a92f22-622d-4cf5-9f26-18d0094acc87",
   "metadata": {
    "tags": []
   },
   "outputs": [],
   "source": [
    "# %load mycfm.py\n",
    "from IPython.display import HTML, display, display_html \n",
    "import numpy as np\n",
    "import pandas as pd\n",
    "\n",
    "def mycfm(y_true, y_pred):  \n",
    "    \"\"\"\n",
    "    Rend une jolie matrice de confusion (cas binaire) et les principaux scores associés\n",
    "    \n",
    "    Arguments :\n",
    "    -----------\n",
    "    y_true: array\n",
    "         les vraies classes\n",
    "    y_pred: array\n",
    "         les classes prédites \n",
    "    \"\"\"\n",
    "    CC=pd.crosstab(y_true, y_pred, rownames=['True'], colnames=['Predicted'], margins=True)\n",
    "    try:\n",
    "        display_html(CC)\n",
    "    except:\n",
    "        print(CC)\n",
    "       \n",
    "    C=np.array(CC)\n",
    "    score=(C[0,0]+C[1,1])/(C[0,0]+C[1,1]+C[0,1]+C[1,0])\n",
    "    precision=(C[1,1])/(C[1,1]+C[0 ,1])\n",
    "    recall=(C[1,1])/(C[1,1]+C[1,0])\n",
    "    print()\n",
    "    print('{s:{c}<{n}}{num:2.3}'.format(s='Score',n=15,c='', num=score))\n",
    "    print('{s:{c}<{n}}{num:2.3}'.format(s='Precision',n=15,c='', num=precision))\n",
    "    print('{s:{c}<{n}}{num:2.3}'.format(s='Recall',n=15,c='', num=recall))\n"
   ]
  },
  {
   "cell_type": "markdown",
   "id": "1b66c165-37bc-4f2c-9224-04938af9abbc",
   "metadata": {},
   "source": [
    "Vous pourrez éventuellement aussi utiliser la table issue de sklearn (utilisable avec plus de deux classes)\n",
    "```\n",
    "from sklearn.metrics import confusion_matrix\n",
    "```"
   ]
  },
  {
   "cell_type": "code",
   "execution_count": 137,
   "id": "1b31b30c-4f09-481a-b30a-0468e2b3882d",
   "metadata": {},
   "outputs": [],
   "source": [
    "# L'histogramme standard ne permet pas de normalisation à une valeur quelconque\n",
    "# ce qui est nécessaire si on veut intégrer des proportions. D'où cette version rapide. \n",
    "\n",
    "def myhist(x, bins=50, normed=None, color=\"blue\", **kwargs):\n",
    "    # bins peut être un vecteur des positions (gauches) des intervalles\n",
    "    if isinstance(bins, int): bins = np.linspace(x.min(), x.max(), bins)\n",
    "    width = bins[2] - bins[1]\n",
    "    c, b = np.histogram(x, bins=bins)\n",
    "\n",
    "    f = normed / (width * np.size(x)) if isinstance(normed,\n",
    "                                                    (int, float)) else 1\n",
    "    plt.bar(b[:-1], f * c, width=width, color=color, **kwargs)\n",
    "\n",
    "\n",
    "#### Test\n",
    "#bins=np.linspace(-6,6,50)\n",
    "#myhist(X[0:N1], bins, normed=None)"
   ]
  },
  {
   "cell_type": "markdown",
   "id": "bb47c8fd-60a6-448f-8729-83aa9c44acab",
   "metadata": {},
   "source": [
    "### Imports utiles"
   ]
  },
  {
   "cell_type": "code",
   "execution_count": 138,
   "id": "c85061ea-8f42-4c34-8c14-38b605538895",
   "metadata": {},
   "outputs": [],
   "source": [
    "import numpy as np\n",
    "import pandas as pd\n",
    "import scipy.stats as stats\n",
    "\n",
    "from sklearn.discriminant_analysis import LinearDiscriminantAnalysis as LDA\n",
    "import matplotlib.pyplot as plt"
   ]
  },
  {
   "cell_type": "markdown",
   "id": "715a3e69-63bd-4d7d-a91b-913bab62daf8",
   "metadata": {},
   "source": [
    "## Taille et poids"
   ]
  },
  {
   "cell_type": "markdown",
   "id": "a107a4eb-070d-4f43-b02a-bb5987f2c8b1",
   "metadata": {},
   "source": [
    "### Préparation"
   ]
  },
  {
   "cell_type": "markdown",
   "id": "209000cd-c27d-42c5-bea1-ed144b00ba85",
   "metadata": {},
   "source": [
    "Les données peuvent être obtenues [ici](https://raw.githubusercontent.com/johnmyleswhite/ML_for_Hackers/master/02-Exploration/data/01_heights_weights_genders.csv). Vous disposez également du fichier `01_heights_weights_genders.csv` dans le répertoire courant. \n",
    "\n",
    "- Lire le fichier dans une variable heights_and_weights\n",
    "- Afficher les premières lignes"
   ]
  },
  {
   "cell_type": "code",
   "execution_count": 139,
   "id": "6bdaab5b-f511-4f5d-a0c6-136556319348",
   "metadata": {
    "tags": []
   },
   "outputs": [],
   "source": [
    "heights_and_weights = pd.read_csv(\"01_heights_weights_genders.csv\")"
   ]
  },
  {
   "cell_type": "markdown",
   "id": "15c4069f-5f78-4346-b9d1-8673621e5ba6",
   "metadata": {},
   "source": [
    "Le tableau initial se présente comme suit :"
   ]
  },
  {
   "cell_type": "code",
   "execution_count": 140,
   "id": "148f138a-2ff3-486a-848e-91be4d9f4737",
   "metadata": {
    "tags": []
   },
   "outputs": [
    {
     "data": {
      "text/html": [
       "<div>\n",
       "<style scoped>\n",
       "    .dataframe tbody tr th:only-of-type {\n",
       "        vertical-align: middle;\n",
       "    }\n",
       "\n",
       "    .dataframe tbody tr th {\n",
       "        vertical-align: top;\n",
       "    }\n",
       "\n",
       "    .dataframe thead th {\n",
       "        text-align: right;\n",
       "    }\n",
       "</style>\n",
       "<table border=\"1\" class=\"dataframe\">\n",
       "  <thead>\n",
       "    <tr style=\"text-align: right;\">\n",
       "      <th></th>\n",
       "      <th>Gender</th>\n",
       "      <th>Height</th>\n",
       "      <th>Weight</th>\n",
       "    </tr>\n",
       "  </thead>\n",
       "  <tbody>\n",
       "    <tr>\n",
       "      <th>0</th>\n",
       "      <td>Male</td>\n",
       "      <td>73.847017</td>\n",
       "      <td>241.893563</td>\n",
       "    </tr>\n",
       "    <tr>\n",
       "      <th>1</th>\n",
       "      <td>Male</td>\n",
       "      <td>68.781904</td>\n",
       "      <td>162.310473</td>\n",
       "    </tr>\n",
       "    <tr>\n",
       "      <th>2</th>\n",
       "      <td>Male</td>\n",
       "      <td>74.110105</td>\n",
       "      <td>212.740856</td>\n",
       "    </tr>\n",
       "    <tr>\n",
       "      <th>3</th>\n",
       "      <td>Male</td>\n",
       "      <td>71.730978</td>\n",
       "      <td>220.042470</td>\n",
       "    </tr>\n",
       "    <tr>\n",
       "      <th>4</th>\n",
       "      <td>Male</td>\n",
       "      <td>69.881796</td>\n",
       "      <td>206.349801</td>\n",
       "    </tr>\n",
       "  </tbody>\n",
       "</table>\n",
       "</div>"
      ],
      "text/plain": [
       "  Gender     Height      Weight\n",
       "0   Male  73.847017  241.893563\n",
       "1   Male  68.781904  162.310473\n",
       "2   Male  74.110105  212.740856\n",
       "3   Male  71.730978  220.042470\n",
       "4   Male  69.881796  206.349801"
      ]
     },
     "execution_count": 140,
     "metadata": {},
     "output_type": "execute_result"
    }
   ],
   "source": [
    "heights_and_weights.head()"
   ]
  },
  {
   "cell_type": "markdown",
   "id": "1df195d8-30d6-4865-b77c-dadc838f4c2a",
   "metadata": {},
   "source": [
    "Le tableau initial est trié (Hommes/Femmes). On va le mélanger. "
   ]
  },
  {
   "cell_type": "code",
   "execution_count": 141,
   "id": "3aa7dbda-ade6-4b8e-bd52-7ef89ca83e52",
   "metadata": {},
   "outputs": [],
   "source": [
    "np.random.seed(22)\n",
    "I = np.random.choice(np.arange(10000), 10000, replace=False)\n",
    "\n",
    "heights_and_weights = heights_and_weights.loc[I]"
   ]
  },
  {
   "cell_type": "markdown",
   "id": "5f19d56b-c26a-4e83-97b9-99e85825dc97",
   "metadata": {},
   "source": [
    "On commence par appliquer un certain nombre de transformations pour :\n",
    " - convertir le genre en une variable binaire (une variable numérique est nécessaire pour le module `statmodels` que l'on va employer dans la suite -- ce n'est pas nécessaire pour `sklearn`),\n",
    " - les données sont anglo-saxonnes, en tailles en pouces et poids en livres. On convertit en unités métriques,  ce sera plus agréable.\n",
    " \n",
    "Pour ce faire, on utilise les méthodes `map` et  `apply`. Vous n'avez pas besoin de retenir ça. "
   ]
  },
  {
   "cell_type": "code",
   "execution_count": 142,
   "id": "5ff73578-bc1b-40db-8653-caba8515295b",
   "metadata": {
    "tags": []
   },
   "outputs": [],
   "source": [
    "heights_and_weights['Male'] = heights_and_weights['Gender'].map({\n",
    "    'Male': 1,\n",
    "    'Female': 0\n",
    "})\n",
    "heights_and_weights['H (cm)'] = heights_and_weights['Height'].apply(\n",
    "    lambda x: x * 2.54)\n",
    "heights_and_weights['W (kg)'] = heights_and_weights['Weight'].apply(\n",
    "    lambda x: x / 2.205)"
   ]
  },
  {
   "cell_type": "code",
   "execution_count": 143,
   "id": "4431c9ce-aa32-458f-818c-2865fc914722",
   "metadata": {
    "tags": []
   },
   "outputs": [
    {
     "data": {
      "text/html": [
       "<div>\n",
       "<style scoped>\n",
       "    .dataframe tbody tr th:only-of-type {\n",
       "        vertical-align: middle;\n",
       "    }\n",
       "\n",
       "    .dataframe tbody tr th {\n",
       "        vertical-align: top;\n",
       "    }\n",
       "\n",
       "    .dataframe thead th {\n",
       "        text-align: right;\n",
       "    }\n",
       "</style>\n",
       "<table border=\"1\" class=\"dataframe\">\n",
       "  <thead>\n",
       "    <tr style=\"text-align: right;\">\n",
       "      <th></th>\n",
       "      <th>Gender</th>\n",
       "      <th>Height</th>\n",
       "      <th>Weight</th>\n",
       "      <th>Male</th>\n",
       "      <th>H (cm)</th>\n",
       "      <th>W (kg)</th>\n",
       "    </tr>\n",
       "  </thead>\n",
       "  <tbody>\n",
       "    <tr>\n",
       "      <th>2077</th>\n",
       "      <td>Male</td>\n",
       "      <td>69.010642</td>\n",
       "      <td>177.586828</td>\n",
       "      <td>1</td>\n",
       "      <td>175.287030</td>\n",
       "      <td>80.538244</td>\n",
       "    </tr>\n",
       "    <tr>\n",
       "      <th>9207</th>\n",
       "      <td>Female</td>\n",
       "      <td>65.725572</td>\n",
       "      <td>130.568403</td>\n",
       "      <td>0</td>\n",
       "      <td>166.942953</td>\n",
       "      <td>59.214695</td>\n",
       "    </tr>\n",
       "    <tr>\n",
       "      <th>6755</th>\n",
       "      <td>Female</td>\n",
       "      <td>61.835671</td>\n",
       "      <td>118.361357</td>\n",
       "      <td>0</td>\n",
       "      <td>157.062604</td>\n",
       "      <td>53.678620</td>\n",
       "    </tr>\n",
       "    <tr>\n",
       "      <th>6704</th>\n",
       "      <td>Female</td>\n",
       "      <td>63.593709</td>\n",
       "      <td>144.419187</td>\n",
       "      <td>0</td>\n",
       "      <td>161.528021</td>\n",
       "      <td>65.496230</td>\n",
       "    </tr>\n",
       "    <tr>\n",
       "      <th>9528</th>\n",
       "      <td>Female</td>\n",
       "      <td>66.442292</td>\n",
       "      <td>145.653809</td>\n",
       "      <td>0</td>\n",
       "      <td>168.763421</td>\n",
       "      <td>66.056149</td>\n",
       "    </tr>\n",
       "  </tbody>\n",
       "</table>\n",
       "</div>"
      ],
      "text/plain": [
       "      Gender     Height      Weight  Male      H (cm)     W (kg)\n",
       "2077    Male  69.010642  177.586828     1  175.287030  80.538244\n",
       "9207  Female  65.725572  130.568403     0  166.942953  59.214695\n",
       "6755  Female  61.835671  118.361357     0  157.062604  53.678620\n",
       "6704  Female  63.593709  144.419187     0  161.528021  65.496230\n",
       "9528  Female  66.442292  145.653809     0  168.763421  66.056149"
      ]
     },
     "execution_count": 143,
     "metadata": {},
     "output_type": "execute_result"
    }
   ],
   "source": [
    "heights_and_weights.head()"
   ]
  },
  {
   "cell_type": "markdown",
   "id": "43cdd5a8-5474-45ed-9942-a78207112dd0",
   "metadata": {},
   "source": [
    "Tracer les histogrammes de la taille et du poids. "
   ]
  },
  {
   "cell_type": "markdown",
   "id": "4109a9b6-d357-4c32-aa1d-a52419d4fcf5",
   "metadata": {},
   "source": [
    "Exemple po"
   ]
  },
  {
   "cell_type": "code",
   "execution_count": 144,
   "id": "f3c66464-73a3-45df-af2e-fc2b45d77bd9",
   "metadata": {
    "tags": []
   },
   "outputs": [
    {
     "data": {
      "image/png": "[encoded data removed]",
      "text/plain": [
       "<Figure size 900x600 with 1 Axes>"
      ]
     },
     "metadata": {},
     "output_type": "display_data"
    }
   ],
   "source": [
    "# 2cm bins\n",
    "h = heights_and_weights['H (cm)']\n",
    "male = heights_and_weights['Gender'] == 'Male'\n",
    "bins1 = np.arange(h.min(), h.max(), 2.)\n",
    "plt.figure(figsize=[9, 6])\n",
    "h[male].hist(bins=bins1, fc='blue', label=\"Hommes\", alpha=0.5)\n",
    "h[~male].hist(bins=bins1, fc='green', label=\"Femmes\", alpha=0.6)\n",
    "plt.set_xlabel = \"Taille (cm)\"\n",
    "plt.title(\"Taille (cm)\")\n",
    "_ = plt.legend()"
   ]
  },
  {
   "cell_type": "markdown",
   "id": "1ad7fc47-3995-416a-9666-7f099fb5c897",
   "metadata": {},
   "source": [
    "- Faites la même chose pour le poids, avec un pas de 2kg"
   ]
  },
  {
   "cell_type": "code",
   "execution_count": 145,
   "id": "0293dc87-8f21-4aac-a26a-f645dffc4d4f",
   "metadata": {
    "tags": []
   },
   "outputs": [
    {
     "data": {
      "image/png": "[encoded data removed]",
      "text/plain": [
       "<Figure size 1000x700 with 1 Axes>"
      ]
     },
     "metadata": {},
     "output_type": "display_data"
    }
   ],
   "source": [
    "# 2kg bins\n",
    "w = heights_and_weights['W (kg)']\n",
    "male = heights_and_weights['Gender'] == 'Male'\n",
    "bins1 = np.arange(w.min(), w.max(), 2.)\n",
    "plt.figure(figsize=[10, 7])\n",
    "w[male].hist(bins=bins1, fc='blue', label=\"Hommes\", alpha=0.5) #steelblue'\n",
    "w[~male].hist(bins=bins1, fc='green', label=\"Femmes\", alpha=0.6) # pink\n",
    "plt.set_xlabel = \"Poids (kg)\"\n",
    "plt.title(\"Poids (kg)\")\n",
    "plt.legend();"
   ]
  },
  {
   "cell_type": "markdown",
   "id": "2d00e3d6-c289-419b-a0d7-5f943accdf42",
   "metadata": {},
   "source": [
    "- Comment déterminer une valeur seuil qui permettrait de classifier en homme-femme à partir de la seule donnée de la taille ? A quoi vont correspondre les erreurs ? A quelle proportion s'attendre ?  "
   ]
  },
  {
   "cell_type": "markdown",
   "id": "13d6b787-85b3-4122-9586-ad61067650fa",
   "metadata": {
    "tags": []
   },
   "source": [
    "Toujours pour la taille, définir une matrice X de \"features\" et une réponse (*target*) y,   la variable à prédire. \n",
    "\n",
    "X **doit** être une matrice (un objet 2D). Vous pouvez passer par un array en utilisant l'attribut .values. "
   ]
  },
  {
   "cell_type": "code",
   "execution_count": 146,
   "id": "5ebd0253-3a92-42d4-8e50-3de226c3f96d",
   "metadata": {
    "tags": []
   },
   "outputs": [],
   "source": [
    "X = heights_and_weights[['H (cm)']].values\n",
    "#X = heights_and_weights[['W (kg)']].values[I]\n",
    "y = heights_and_weights['Male'].values"
   ]
  },
  {
   "cell_type": "markdown",
   "id": "e14ff3da-ef3b-41b6-bfbc-d6f12f65dc17",
   "metadata": {},
   "source": [
    "### Cas à une seule variable explicative"
   ]
  },
  {
   "cell_type": "markdown",
   "id": "48eadd13-e0cb-417e-a786-ce2436eae40c",
   "metadata": {},
   "source": [
    "#### Apprentissage"
   ]
  },
  {
   "cell_type": "markdown",
   "id": "ef8e02cc-c676-40e5-b3de-c46067d8f6dc",
   "metadata": {
    "tags": []
   },
   "source": [
    "Lire la documentation sur sklearn\n",
    "https://scikit-learn.org/stable/modules/lda_qda.html#lda-qda\n",
    "ainsi que la documenation de la fonction disponible ici :\n",
    "- https://scikit-learn.org/stable/modules/generated/sklearn.discriminant_analysis.LinearDiscriminantAnalysis.html#sklearn.discriminant_analysis.LinearDiscriminantAnalysis"
   ]
  },
  {
   "cell_type": "markdown",
   "id": "636e035a-1744-43b4-9a2b-3ccb23eff71b",
   "metadata": {
    "tags": []
   },
   "source": [
    "- instancier le classifier, sous le nom `clf` par exemple,  \n",
    "- apprendre à partir des données (méthode .fit(.,.))\n"
   ]
  },
  {
   "cell_type": "code",
   "execution_count": 147,
   "id": "c24d6c18-7eca-4a20-a0ec-8169c8eb2a69",
   "metadata": {
    "tags": []
   },
   "outputs": [
    {
     "data": {
      "image/png": "[encoded data removed]",
      "text/plain": [
       "<Figure size 900x600 with 1 Axes>"
      ]
     },
     "metadata": {},
     "output_type": "display_data"
    }
   ],
   "source": [
    "# instanciation du classifieur\n",
    "clf = LDA()\n",
    "# On apprend les choses (fit) sur la base totale -- pas de test ici\n",
    "clf.fit(X, y)\n",
    "\n",
    "# On trace  la frontière \"à la main\" en calculant les prédictions \n",
    "# pour tous les x\n",
    "x = np.linspace(h.min(), h.max(), 1000)\n",
    "xp = clf.predict(np.reshape(x, (len(x), 1)))\n",
    "\n",
    "#**Tracé des résultats *** \n",
    "#\n",
    "bins1 = np.arange(h.min(), h.max(), 2.)\n",
    "plt.figure(figsize=[9, 6])\n",
    "h[male].hist(bins=bins1, fc='blue', label=\"Hommes\", alpha=0.5)\n",
    "h[~male].hist(bins=bins1, fc='green', label=\"Femmes\", alpha=0.6)\n",
    "\n",
    "plt.plot(x, 600 * xp, linewidth=2, color=\"red\", label=\"Affectation\")\n",
    "_ = plt.legend()\n"
   ]
  },
  {
   "cell_type": "markdown",
   "id": "68713d71-c44f-4593-837b-ba96b1fa1190",
   "metadata": {},
   "source": [
    "- Calculer les prédictions données par ce classifieur sur sa base d'apprentissage X\n",
    "- Donner la matrice de confusion correspondante"
   ]
  },
  {
   "cell_type": "code",
   "execution_count": 148,
   "id": "4655ea67-79b5-4c01-b1db-5358f5b102f3",
   "metadata": {
    "tags": []
   },
   "outputs": [
    {
     "data": {
      "text/html": [
       "<div>\n",
       "<style scoped>\n",
       "    .dataframe tbody tr th:only-of-type {\n",
       "        vertical-align: middle;\n",
       "    }\n",
       "\n",
       "    .dataframe tbody tr th {\n",
       "        vertical-align: top;\n",
       "    }\n",
       "\n",
       "    .dataframe thead th {\n",
       "        text-align: right;\n",
       "    }\n",
       "</style>\n",
       "<table border=\"1\" class=\"dataframe\">\n",
       "  <thead>\n",
       "    <tr style=\"text-align: right;\">\n",
       "      <th>Predicted</th>\n",
       "      <th>0</th>\n",
       "      <th>1</th>\n",
       "      <th>All</th>\n",
       "    </tr>\n",
       "    <tr>\n",
       "      <th>True</th>\n",
       "      <th></th>\n",
       "      <th></th>\n",
       "      <th></th>\n",
       "    </tr>\n",
       "  </thead>\n",
       "  <tbody>\n",
       "    <tr>\n",
       "      <th>0</th>\n",
       "      <td>4189</td>\n",
       "      <td>811</td>\n",
       "      <td>5000</td>\n",
       "    </tr>\n",
       "    <tr>\n",
       "      <th>1</th>\n",
       "      <td>861</td>\n",
       "      <td>4139</td>\n",
       "      <td>5000</td>\n",
       "    </tr>\n",
       "    <tr>\n",
       "      <th>All</th>\n",
       "      <td>5050</td>\n",
       "      <td>4950</td>\n",
       "      <td>10000</td>\n",
       "    </tr>\n",
       "  </tbody>\n",
       "</table>\n",
       "</div>"
      ]
     },
     "metadata": {},
     "output_type": "display_data"
    },
    {
     "name": "stdout",
     "output_type": "stream",
     "text": [
      "\n",
      "Score          0.833\n",
      "Precision      0.836\n",
      "Recall         0.828\n"
     ]
    }
   ],
   "source": [
    "preds = clf.predict(X)\n",
    "mycfm(y, preds)"
   ]
  },
  {
   "cell_type": "markdown",
   "id": "e6ea15fc-dbeb-4dfb-ae84-c6095a245d11",
   "metadata": {},
   "source": [
    "#### Généralisation"
   ]
  },
  {
   "cell_type": "markdown",
   "id": "6002732b-963f-4808-8267-013678b970ae",
   "metadata": {},
   "source": [
    "- Définir une base d'apprentissage (Xtrain, ytrain) et une base de test (Xtest, ytest) en prenant par exemple la moitié des données pour le train, et l'autre moitié pour le test. \n",
    "- Apprendre un nouveau classifieur sur train, et calculer la matrice de confusion sur test. \n",
    "- Pensez-vous que le classifieur généralise bien sur de nouvelles donnée s(non vues lors de l'apprentissage ?)"
   ]
  },
  {
   "cell_type": "code",
   "execution_count": 149,
   "id": "bc1935a6-75c7-4bd2-baef-4e3f716772d2",
   "metadata": {
    "tags": []
   },
   "outputs": [],
   "source": [
    "X = heights_and_weights[['W (kg)']].values[I]"
   ]
  },
  {
   "cell_type": "code",
   "execution_count": 150,
   "id": "7c2cd158-3adf-4167-83e7-10ab0bb47b0f",
   "metadata": {
    "tags": []
   },
   "outputs": [
    {
     "data": {
      "text/html": [
       "<div>\n",
       "<style scoped>\n",
       "    .dataframe tbody tr th:only-of-type {\n",
       "        vertical-align: middle;\n",
       "    }\n",
       "\n",
       "    .dataframe tbody tr th {\n",
       "        vertical-align: top;\n",
       "    }\n",
       "\n",
       "    .dataframe thead th {\n",
       "        text-align: right;\n",
       "    }\n",
       "</style>\n",
       "<table border=\"1\" class=\"dataframe\">\n",
       "  <thead>\n",
       "    <tr style=\"text-align: right;\">\n",
       "      <th>Predicted</th>\n",
       "      <th>0</th>\n",
       "      <th>1</th>\n",
       "      <th>All</th>\n",
       "    </tr>\n",
       "    <tr>\n",
       "      <th>True</th>\n",
       "      <th></th>\n",
       "      <th></th>\n",
       "      <th></th>\n",
       "    </tr>\n",
       "  </thead>\n",
       "  <tbody>\n",
       "    <tr>\n",
       "      <th>0</th>\n",
       "      <td>971</td>\n",
       "      <td>1552</td>\n",
       "      <td>2523</td>\n",
       "    </tr>\n",
       "    <tr>\n",
       "      <th>1</th>\n",
       "      <td>980</td>\n",
       "      <td>1497</td>\n",
       "      <td>2477</td>\n",
       "    </tr>\n",
       "    <tr>\n",
       "      <th>All</th>\n",
       "      <td>1951</td>\n",
       "      <td>3049</td>\n",
       "      <td>5000</td>\n",
       "    </tr>\n",
       "  </tbody>\n",
       "</table>\n",
       "</div>"
      ]
     },
     "metadata": {},
     "output_type": "display_data"
    },
    {
     "name": "stdout",
     "output_type": "stream",
     "text": [
      "\n",
      "Score          0.494\n",
      "Precision      0.491\n",
      "Recall         0.604\n"
     ]
    }
   ],
   "source": [
    "M = 5000\n",
    "Xtrain = X[:M, :].reshape(-1,1)\n",
    "Xtest = X[M:,:].reshape(-1,1)\n",
    "ytrain = y[:M]\n",
    "ytest = y[M:]\n",
    "\n",
    "clf2 = LDA()\n",
    "# On apprend les choses (fit) sur la base totale -- pas de test ici\n",
    "clf2.fit(Xtrain, ytrain)\n",
    "preds = clf2.predict(Xtest)\n",
    "mycfm(ytest, preds)"
   ]
  },
  {
   "cell_type": "markdown",
   "id": "64385dd0-f947-4ac4-9162-d5061646d910",
   "metadata": {},
   "source": [
    "#### Fonction discriminante"
   ]
  },
  {
   "cell_type": "markdown",
   "id": "5fcf4d45-5638-4568-b107-08862380f81f",
   "metadata": {},
   "source": [
    "Le modèle, lorqu'on compare les probabilités de deux classes, débouche sur une fonction \"discriminante\" de décision linéaire (une droite donc). f page 18 du poly, ou \n",
    "https://perso.esiee.fr/~bercherj/EL3029/DiscriminationBayesienne.html#Principe-de-la-m%C3%A9thode\n",
    "\n",
    "Les coefficients sont donnés par les attributs `.coef()`et `.intercept()`du classifieur. \n",
    "La frontière de discrimination sera donnée par $w^T x + x_0 = 0$. \n",
    "\n",
    "- En déduire la valeur de seuil qui semble être utilisée pour effectuer la discrimination. "
   ]
  },
  {
   "cell_type": "code",
   "execution_count": 151,
   "id": "86f680b2-408f-481a-8366-4c9c5584ba62",
   "metadata": {
    "tags": []
   },
   "outputs": [
    {
     "data": {
      "text/plain": [
       "array([[0.00315915]])"
      ]
     },
     "execution_count": 151,
     "metadata": {},
     "output_type": "execute_result"
    }
   ],
   "source": [
    "clf2.coef_"
   ]
  },
  {
   "cell_type": "code",
   "execution_count": 152,
   "id": "0f208124-fa7c-4a43-a4a3-30ad8e05b2c7",
   "metadata": {
    "tags": []
   },
   "outputs": [
    {
     "data": {
      "text/plain": [
       "array([-0.21296572])"
      ]
     },
     "execution_count": 152,
     "metadata": {},
     "output_type": "execute_result"
    }
   ],
   "source": [
    "clf2.intercept_"
   ]
  },
  {
   "cell_type": "code",
   "execution_count": 153,
   "id": "0b588f80-6bac-4c2c-ac25-e447f3540e7e",
   "metadata": {
    "tags": []
   },
   "outputs": [
    {
     "data": {
      "text/plain": [
       "array([[168.57360178]])"
      ]
     },
     "execution_count": 153,
     "metadata": {},
     "output_type": "execute_result"
    }
   ],
   "source": [
    "# La frontière de décision est données par coef*x + intercept = 0\n",
    "# Soit\n",
    "\n",
    "seuil = - clf.intercept_/clf.coef_\n",
    "seuil\n"
   ]
  },
  {
   "cell_type": "markdown",
   "id": "83c94d9f-1d02-49b7-bf90-7d6f23447e34",
   "metadata": {},
   "source": [
    "#### Probabilités d'appartenance à une classe"
   ]
  },
  {
   "cell_type": "markdown",
   "id": "cf0cd234-46c6-4c68-b7f3-953816a3ac0a",
   "metadata": {},
   "source": [
    "- Utiliser la méthode `predict_proba`du classifieur pour prédire les probas (de quoi ?) pour une taille de 164 cm. Vous passerez une matrice `[[164]]`"
   ]
  },
  {
   "cell_type": "code",
   "execution_count": 154,
   "id": "de4ce5e7-035a-4537-a602-5857e6f8527e",
   "metadata": {
    "tags": []
   },
   "outputs": [
    {
     "data": {
      "text/plain": [
       "array([[0.77521123, 0.22478877],\n",
       "       [0.72458024, 0.27541976]])"
      ]
     },
     "execution_count": 154,
     "metadata": {},
     "output_type": "execute_result"
    }
   ],
   "source": [
    "clf.predict_proba([[164],[165]] )"
   ]
  },
  {
   "cell_type": "markdown",
   "id": "968fe91c-720b-4280-9e1f-6eeb58a68105",
   "metadata": {},
   "source": [
    "- Pour des tailles allant de 120 à 200 cm, tracer la probabilité que la personne soit un Homme. "
   ]
  },
  {
   "cell_type": "code",
   "execution_count": 155,
   "id": "6e54b8d9-b493-4c45-a9ea-650a76b52d9c",
   "metadata": {
    "tags": []
   },
   "outputs": [],
   "source": [
    "Xtest = np.arange(120, 200).reshape(-1,1)"
   ]
  },
  {
   "cell_type": "code",
   "execution_count": 156,
   "id": "6db549cc-816a-49bd-b48f-52bae32f86d1",
   "metadata": {
    "tags": []
   },
   "outputs": [],
   "source": [
    "probs = clf.predict_proba(Xtest)"
   ]
  },
  {
   "cell_type": "code",
   "execution_count": 157,
   "id": "d7cbfd67-614b-4091-9ede-ef74a1bb1d00",
   "metadata": {
    "tags": []
   },
   "outputs": [
    {
     "data": {
      "text/plain": [
       "Text(0.5, 0, 'Taille')"
      ]
     },
     "execution_count": 157,
     "metadata": {},
     "output_type": "execute_result"
    },
    {
     "data": {
      "image/png": "[encoded data removed]",
      "text/plain": [
       "<Figure size 640x480 with 1 Axes>"
      ]
     },
     "metadata": {},
     "output_type": "display_data"
    }
   ],
   "source": [
    "plt.plot(Xtest, probs[:,1])\n",
    "plt.xlabel(\"Taille\")"
   ]
  },
  {
   "cell_type": "markdown",
   "id": "cbf8bf4d-4e11-4998-b239-a5a259d79aee",
   "metadata": {},
   "source": [
    "- Reprendre rapidement la problème de classification, mais cette fois-ci avec les données de poids (Il faut sélectionner la colonne 'W (kg)')\n",
    "\n",
    "- Calculer la matrice de confusion, quelle est la valeur du score obtenue ?\n",
    "```\n",
    "X = heights_and_weights[['W (kg)']].values[I]\n",
    "```"
   ]
  },
  {
   "cell_type": "markdown",
   "id": "48923b2e-7c17-441f-8330-bce8a4d185b4",
   "metadata": {},
   "source": [
    "### Traitement à deux dimensions"
   ]
  },
  {
   "cell_type": "code",
   "execution_count": 158,
   "id": "a0f82f56-71fc-4b7c-a8e6-3627e9e96018",
   "metadata": {
    "tags": []
   },
   "outputs": [],
   "source": [
    "from sklearn.discriminant_analysis import QuadraticDiscriminantAnalysis as QDA"
   ]
  },
  {
   "cell_type": "markdown",
   "id": "c214ad5e-5789-44b1-b908-62a2aa069206",
   "metadata": {},
   "source": [
    "Il est très simple d'intégrer plus de variables explicatives. Faisons le ici en intégrant à la fois la taille et le poids :\n",
    "\n",
    "- créer une matrice X des tailles et poids, la réponse y correspondante\n",
    "- comme précédemmment, donnez vous une base de train et test de manière à pouvoir mesurer les capacités en généralisation\n",
    "- apprendre une LDA, calculer les performances"
   ]
  },
  {
   "cell_type": "code",
   "execution_count": 159,
   "id": "f37fca8f-cd0b-4dc5-8130-feec496d8860",
   "metadata": {
    "tags": []
   },
   "outputs": [
    {
     "name": "stdout",
     "output_type": "stream",
     "text": [
      "Score sur la base de test :  0.922\n"
     ]
    }
   ],
   "source": [
    "classifier = LDA()\n",
    "X = heights_and_weights[['H (cm)', 'W (kg)']].values\n",
    "y = heights_and_weights['Male'].values\n",
    "# \n",
    "M = 5000\n",
    "Xtrain = X[:M, :]\n",
    "Xtest = X[M:,:]\n",
    "ytrain = y[:M]\n",
    "ytest = y[M:]\n",
    "\n",
    "#Xtrain, Xtest, ytrain, ytest = train_test_split(X, y)\n",
    "\n",
    "# Apprentissage sur la base d'apprentissage\n",
    "classifier.fit(Xtrain, ytrain)\n",
    "score = classifier.score(Xtest, ytest)\n",
    "print(\"Score sur la base de test : \", score)"
   ]
  },
  {
   "cell_type": "markdown",
   "id": "59ba6543-6100-4687-bb62-f3fc33e59a9a",
   "metadata": {},
   "source": [
    "Le score, qui était déjà très bon, a augmenté. Il est utile de raffiner le modèle !"
   ]
  },
  {
   "cell_type": "markdown",
   "id": "c185f747-73d7-4236-afcc-e23f07416d50",
   "metadata": {},
   "source": [
    "#### Fonction discriminante"
   ]
  },
  {
   "cell_type": "markdown",
   "id": "7362722e-4743-499b-9cab-bdaf99443319",
   "metadata": {},
   "source": [
    "La fonction de séparation est cette fois-ci \n",
    "$$\n",
    "\\beta_0 + \\beta_1*\\text{taille} + \\beta_2*\\text{poids}\n",
    "$$\n",
    "On peut donc tracer la droite $\\text{poids}=-\\beta_0/\\beta_2 - \\beta_1/\\beta_2*\\text{taille}$ dans le plan (taille, poids) et comparer aux données répertoriées"
   ]
  },
  {
   "cell_type": "markdown",
   "id": "33bb08bb-52be-49c4-8da8-8b1df4359be6",
   "metadata": {},
   "source": [
    "- A l'aide des coefficients et de l'intercept, tracer sur le même graphe \n",
    "    - les nuages de points (avec des couleurs différentes selon hommes et femmes (par exemple deux plots)\n",
    "    - la droite représentant la frontère de décision"
   ]
  },
  {
   "cell_type": "code",
   "execution_count": 160,
   "id": "247f73e7-04e7-4a4f-b107-c72f4a50d4f5",
   "metadata": {
    "tags": []
   },
   "outputs": [
    {
     "name": "stdout",
     "output_type": "stream",
     "text": [
      "L'intercept identifié [-1.20479853]\n",
      "Les coefficients :  [-0.17568097  0.42088793]\n"
     ]
    }
   ],
   "source": [
    "print(\"L'intercept identifié\", classifier.intercept_)\n",
    "intercept = classifier.intercept_\n",
    "print(\"Les coefficients : \", classifier.coef_[0])\n",
    "coeffs = classifier.coef_[0]"
   ]
  },
  {
   "cell_type": "code",
   "execution_count": 161,
   "id": "87cb671e-d4e4-4864-81b6-1bf0eb0ba800",
   "metadata": {
    "tags": []
   },
   "outputs": [
    {
     "data": {
      "image/png": "[encoded data removed]",
      "text/plain": [
       "<Figure size 1000x700 with 1 Axes>"
      ]
     },
     "metadata": {},
     "output_type": "display_data"
    }
   ],
   "source": [
    "d0 = -intercept / coeffs[1]\n",
    "d1 = -coeffs[0] / coeffs[1]\n",
    "\n",
    "import matplotlib.pyplot as plt\n",
    "#fig = plt.figure(figsize = (8, 6))\n",
    "# Women points (green)\n",
    "plt.figure(figsize=[10, 7])\n",
    "plt.plot(\n",
    "    h[~male][:500],\n",
    "    w[~male][:500],\n",
    "    '.',\n",
    "    label='Femmes',\n",
    "    color='green', #'fuchsia',#'pink',\n",
    "    alpha=0.48)\n",
    "# Men points (blue)\n",
    "plt.plot(\n",
    "    h[male][:500],\n",
    "    w[male][:500],\n",
    "    '.',\n",
    "    label='Hommes',\n",
    "    color='steelblue',\n",
    "    alpha=.76)\n",
    "# The separating line\n",
    "plot_sepline = True\n",
    "if plot_sepline:\n",
    "    plt.plot(np.array([130, 200]), d0 + d1 * np.array([130, 200]), '--', color=\"red\")\n",
    "    plt.xlabel('Taille (cm)')\n",
    "    plt.ylabel('Poids (kg)')\n",
    "    _ = plt.legend(loc='upper left')"
   ]
  },
  {
   "cell_type": "markdown",
   "id": "8abd6780-cdfe-49a6-9dea-e1592c22e2bc",
   "metadata": {},
   "source": [
    "Comme précédemment, il est possible de prédire une classe avec la probabilité correspondante :\n",
    "- Calculer quelles sont les probabilités associées à un individu de taille, poids = 170, 69.6\n",
    "\n",
    "(utiliser `classifier.predict` et `classifier.predict_proba`)"
   ]
  },
  {
   "cell_type": "code",
   "execution_count": 162,
   "id": "68d20d92-5d44-479e-8f23-612e3893c840",
   "metadata": {
    "tags": []
   },
   "outputs": [
    {
     "name": "stdout",
     "output_type": "stream",
     "text": [
      "La classe prédicte est Femme, avec une proba 0.8553\n"
     ]
    }
   ],
   "source": [
    "taille, poids = 170, 69.6\n",
    "test = np.array([taille, poids]).reshape(1, -1)\n",
    "c = classifier.predict(test)\n",
    "p = classifier.predict_proba(test)\n",
    "f = lambda x, p: (\"Femme\", float(p[0][0])) if x == 0 else (\"Homme\", float(p[0][1]))\n",
    "print(\"La classe prédicte est {}, avec une proba {:1.4}\".format(\n",
    "    f(c, p)[0], f(c, p)[1]))"
   ]
  },
  {
   "cell_type": "code",
   "execution_count": null,
   "id": "889eacaa-1fcc-48de-a80f-c332f8f0b7b0",
   "metadata": {},
   "outputs": [],
   "source": []
  },
  {
   "cell_type": "code",
   "execution_count": null,
   "id": "665beff0-7043-4a93-9d7f-8f22d1b7a3ab",
   "metadata": {},
   "outputs": [],
   "source": []
  },
  {
   "cell_type": "code",
   "execution_count": null,
   "id": "8b8ae01a-08ec-4a64-855b-164697fd51b5",
   "metadata": {},
   "outputs": [],
   "source": []
  },
  {
   "cell_type": "code",
   "execution_count": null,
   "id": "d2c21b7a-53b5-42d2-9f1e-1628e6fe2ffa",
   "metadata": {},
   "outputs": [],
   "source": []
  },
  {
   "cell_type": "markdown",
   "id": "10721fcb-e3f6-4cb1-b80f-88cb432e2a49",
   "metadata": {},
   "source": [
    "## Classification de digits"
   ]
  },
  {
   "cell_type": "code",
   "execution_count": null,
   "id": "77836821-bf65-460e-b30a-1138bc050288",
   "metadata": {},
   "outputs": [],
   "source": []
  },
  {
   "cell_type": "markdown",
   "id": "72d3ca4e-ab8b-4727-a6a1-49a4bea3c1e8",
   "metadata": {},
   "source": [
    "On considère maintenant un problème de discrimination de l'écriture manuscrite (chiffres).\n",
    "Pour cela, on utilisera un modèle de Bayes naïf, avec a priori gaussien."
   ]
  },
  {
   "cell_type": "markdown",
   "id": "8790ae86-1e40-44bd-b2de-ac211bae0934",
   "metadata": {},
   "source": [
    "Le code suivant permet de lire les données et d'afficher des exemples"
   ]
  },
  {
   "cell_type": "code",
   "execution_count": 163,
   "id": "73b212a8-4f83-4316-abc0-b04468473487",
   "metadata": {},
   "outputs": [
    {
     "data": {
      "image/png": "[encoded data removed]",
      "text/plain": [
       "<Figure size 640x480 with 8 Axes>"
      ]
     },
     "metadata": {},
     "output_type": "display_data"
    }
   ],
   "source": [
    "# Author: Gael Varoquaux <gael dot varoquaux at normalesup dot org>\n",
    "# minor modifs: jfb\n",
    "# License: Simplified BSD\n",
    "\n",
    "# Standard scientific Python imports\n",
    "import pylab as pl\n",
    "\n",
    "# Import datasets, classifiers and performance metrics\n",
    "from sklearn import datasets, metrics\n",
    "\n",
    "# The digits dataset\n",
    "digits = datasets.load_digits()\n",
    "\n",
    "# The data that we are interested in is made of 8x8 images of digits,\n",
    "# let's have a look at the first 3 images, stored in the `images`\n",
    "# attribute of the dataset. If we were working from image files, we\n",
    "# could load them using pylab.imread. For these images know which\n",
    "# digit they represent: it is given in the 'target' of the dataset.\n",
    "for index, (image, label) in enumerate(zip(digits.images, digits.target)):\n",
    "    if index>7: break\n",
    "    plt.subplot(2, 4, index + 1)\n",
    "    plt.axis('off')\n",
    "    plt.imshow(image, cmap=pl.cm.gray_r, interpolation='nearest')\n",
    "    plt.title('Training: %i' % label)\n"
   ]
  },
  {
   "cell_type": "markdown",
   "id": "4ad605e0-3e6a-4332-9dfc-2664d3c4a457",
   "metadata": {},
   "source": [
    "Chacune des images est 8x8. Si on les redimensionne en vecteurs, quelle est la taille du vecteur correspondant ? Est-il raisonnable de définir et utiliser une matrice de corrélation non diagonale dans le modèle ? (et ce sont de très petites images...). "
   ]
  },
  {
   "cell_type": "markdown",
   "id": "934589f0-810e-4da2-94b6-b68da2f1ab05",
   "metadata": {},
   "source": [
    "- Créer une matrice `data` contenant ces vecteurs. \n",
    "- A partir de cette matrice, créer une base `(X_train, y_train)` pour l'apprentissage à partir de la moitié des données, et une base de test `(X_test, y_test)` à partir de l'autre moitié"
   ]
  },
  {
   "cell_type": "code",
   "execution_count": 164,
   "id": "4c357785-765c-44d4-aee9-9f30898cccf3",
   "metadata": {},
   "outputs": [],
   "source": [
    "n_samples = len(digits.images)\n",
    "data = digits.images.reshape((n_samples, -1))\n",
    "labels = digits.target\n",
    "X_train = data[:n_samples // 2]\n",
    "y_train = labels[:n_samples // 2]\n",
    "X_test = data[n_samples // 2:]\n",
    "y_test = labels[n_samples // 2:]\n"
   ]
  },
  {
   "cell_type": "markdown",
   "id": "018b6b0f-b0a0-4c85-b830-50ebbf7ebe0b",
   "metadata": {},
   "source": [
    "- Instancier un classificateur bayes gaussien naïf `GaussianNB`. Nommer `classifier` ce classifieur. \n",
    "- Apprendre le modèle sur (X_train, y_train)` \n",
    "- Effectuer les prédictions sur le test\n",
    "- Calculer la matrice de confusion sur ces prédictions, par rapport aux véritables valeurs `y_test`. Que pensez-vous de ces résultats ?"
   ]
  },
  {
   "cell_type": "code",
   "execution_count": 165,
   "id": "a402e2f8-2418-47c1-a5bf-071c36d4fe35",
   "metadata": {},
   "outputs": [],
   "source": [
    "from sklearn.naive_bayes import GaussianNB\n",
    "from sklearn.metrics import confusion_matrix"
   ]
  },
  {
   "cell_type": "code",
   "execution_count": 166,
   "id": "2c536335-68f6-42ca-9510-3eec348aa486",
   "metadata": {},
   "outputs": [
    {
     "name": "stdout",
     "output_type": "stream",
     "text": [
      "Confusion matrix:\n",
      "[[84  0  0  0  0  2  0  0  1  1]\n",
      " [ 0 67  2  0  0  0  0  2 13  7]\n",
      " [ 0  8 72  0  0  1  2  0  3  0]\n",
      " [ 0  2  2 72  0  2  0  2  9  2]\n",
      " [ 1  0  0  0 67  0  0 22  1  1]\n",
      " [ 0  2  0  4  0 74  1  3  2  5]\n",
      " [ 0  1  0  0  0  0 90  0  0  0]\n",
      " [ 0  0  2  0  0 12  0 72  2  1]\n",
      " [ 0  2  5  0  0  9  0  4 67  1]\n",
      " [ 1  1  0  6  0  5  1  6 11 61]]\n"
     ]
    }
   ],
   "source": [
    "# Create a classifier: a naive Gauss classifier\n",
    "classifier = GaussianNB()\n",
    "\n",
    "# We learn the digits on the first half of the digits\n",
    "classifier.fit(X_train, y_train)\n",
    "\n",
    "# Now predict the value of the digit on the second half:\n",
    "expected = y_test\n",
    "predicted = classifier.predict(X_test)\n",
    "\n",
    "print(\"Confusion matrix:\\n%s\" % metrics.confusion_matrix(expected, predicted))"
   ]
  },
  {
   "cell_type": "markdown",
   "id": "6026b38d-7849-4138-82d3-550f54a5fbc4",
   "metadata": {},
   "source": [
    "Exécuter le code suivant (éventuellement plusieurs fois) pour visualiser des prédictions sur des éléments pris au hasard"
   ]
  },
  {
   "cell_type": "code",
   "execution_count": 167,
   "id": "ce08e352-47bf-4717-90d6-dd95a7d9c550",
   "metadata": {},
   "outputs": [
    {
     "data": {
      "image/png": "[encoded data removed]",
      "text/plain": [
       "<Figure size 640x480 with 8 Axes>"
      ]
     },
     "metadata": {},
     "output_type": "display_data"
    }
   ],
   "source": [
    "#take 8 examples at random (jfb)\n",
    "I = np.random.choice(int(n_samples // 2), size=8, replace=False)\n",
    "data_test = X_test[I] # we are indeed in the test sample (these data have not been used to learn)\n",
    "data_test_target = y_test[I]\n",
    "\n",
    "for index, (image, label) in enumerate(zip(data_test, data_test_target)):\n",
    "    plt.subplot(2, 4, index + 1)\n",
    "    plt.axis('off')\n",
    "    plt.imshow(image.reshape(8, 8), cmap=pl.cm.gray_r, \n",
    "               interpolation='nearest')\n",
    "    plt.title('Prediction: {0} \\n (true: {1})'.format(\n",
    "        int(classifier.predict(image.reshape(1, -1))), label))"
   ]
  },
  {
   "cell_type": "code",
   "execution_count": null,
   "id": "33af704c-9bfa-41d4-a65d-89078b3b4676",
   "metadata": {},
   "outputs": [],
   "source": []
  },
  {
   "cell_type": "code",
   "execution_count": null,
   "id": "af49f7b2-0ea5-41ef-85ff-4393d8a015ad",
   "metadata": {},
   "outputs": [],
   "source": []
  },
  {
   "cell_type": "markdown",
   "id": "9f253492-67b9-4b08-ac40-63cce63e73aa",
   "metadata": {
    "tags": []
   },
   "source": [
    "## Affairs data (Optionnel)"
   ]
  },
  {
   "cell_type": "markdown",
   "id": "566bc9ca-6393-4a53-9490-49325c6ebf2e",
   "metadata": {},
   "source": [
    "Ce notebook est inspiré des exemples [1](https://github.com/jseabold/pydc) et [2](http://nbviewer.ipython.org/github/justmarkham/gadsdc1/blob/master/logistic_assignment/kevin_logistic_sklearn.ipynb). "
   ]
  },
  {
   "cell_type": "markdown",
   "id": "464d5795-6c34-41ee-946a-7912cc0e2f49",
   "metadata": {},
   "source": [
    "**Données** -- \n",
    "Les données étudiées sont le \"affairs dataset\" fourni avec Statsmodels. les données initiales sont disponibles [ici](http://fairmodel.econ.yale.edu/vote2012/affairs.txt) et analysées dans l'[article](http://fairmodel.econ.yale.edu/rayfair/pdf/1978a200.pdf) du Journal of Political Economy(1978). Les données ont été recueillies lors d'une étude menée en 1974, par le magazine Redbook, lors de laquelle des femmes ont été interrogées sur tout un tas de choses, dont leur participation à des extramarital affairs (adultère). \n",
    "\n",
    "Les données contiennent 6366 observations avec 9 variables :\n",
    "\n",
    "- rate_marriage: woman's rating of her marriage (1 = very poor, 5 = very good)\n",
    "- age: woman's age\n",
    "- yrs_married: number of years married\n",
    "- children: number of children\n",
    "- religious: woman's rating of how religious she is (1 = not religious, 4 = strongly religious)\n",
    "- educ: level of education (9 = grade school, 12 = high school, 14 = some college, 16 = college graduate, 17 = some graduate school, 20 = advanced degree)\n",
    "- occupation: woman's occupation (1 = student, 2 = farming/semi-skilled/unskilled, 3 = \"white collar\", 4 = teacher/nurse/writer/technician/skilled, 5 = managerial/business, 6 = professional with advanced degree)\n",
    "- occupation_husb: husband's occupation (same coding as above)\n",
    "- affairs: time spent in extra-marital affairs\n"
   ]
  },
  {
   "cell_type": "code",
   "execution_count": 168,
   "id": "3da8b66f-874e-4a92-8397-57403cf1b3f4",
   "metadata": {},
   "outputs": [],
   "source": [
    "import numpy as np\n",
    "import pandas as pd\n",
    "import statsmodels.api as sm\n",
    "import matplotlib.pyplot as plt\n",
    "#\n",
    "\n",
    "from sklearn.model_selection import train_test_split\n",
    "from sklearn import metrics"
   ]
  },
  {
   "cell_type": "markdown",
   "id": "de3ebde5-fdb3-4dc7-9d4d-1153666bc7c5",
   "metadata": {},
   "source": [
    "### Préparation"
   ]
  },
  {
   "cell_type": "code",
   "execution_count": 169,
   "id": "c4bd4df0-3482-4a21-bcf3-8fefb81c535e",
   "metadata": {},
   "outputs": [],
   "source": [
    "# load dataset\n",
    "dta = sm.datasets.fair.load_pandas().data"
   ]
  },
  {
   "cell_type": "markdown",
   "id": "69981aff-5a3f-43d2-aba5-895533bb854b",
   "metadata": {},
   "source": [
    "Description du tableau"
   ]
  },
  {
   "cell_type": "code",
   "execution_count": 170,
   "id": "67cf81f5-970e-47c7-8ee6-6b78fcd434a3",
   "metadata": {},
   "outputs": [
    {
     "data": {
      "text/html": [
       "<div>\n",
       "<style scoped>\n",
       "    .dataframe tbody tr th:only-of-type {\n",
       "        vertical-align: middle;\n",
       "    }\n",
       "\n",
       "    .dataframe tbody tr th {\n",
       "        vertical-align: top;\n",
       "    }\n",
       "\n",
       "    .dataframe thead th {\n",
       "        text-align: right;\n",
       "    }\n",
       "</style>\n",
       "<table border=\"1\" class=\"dataframe\">\n",
       "  <thead>\n",
       "    <tr style=\"text-align: right;\">\n",
       "      <th></th>\n",
       "      <th>rate_marriage</th>\n",
       "      <th>age</th>\n",
       "      <th>yrs_married</th>\n",
       "      <th>children</th>\n",
       "      <th>religious</th>\n",
       "      <th>educ</th>\n",
       "      <th>occupation</th>\n",
       "      <th>occupation_husb</th>\n",
       "      <th>affairs</th>\n",
       "    </tr>\n",
       "  </thead>\n",
       "  <tbody>\n",
       "    <tr>\n",
       "      <th>count</th>\n",
       "      <td>6366.000000</td>\n",
       "      <td>6366.000000</td>\n",
       "      <td>6366.000000</td>\n",
       "      <td>6366.000000</td>\n",
       "      <td>6366.000000</td>\n",
       "      <td>6366.000000</td>\n",
       "      <td>6366.000000</td>\n",
       "      <td>6366.000000</td>\n",
       "      <td>6366.000000</td>\n",
       "    </tr>\n",
       "    <tr>\n",
       "      <th>mean</th>\n",
       "      <td>4.109645</td>\n",
       "      <td>29.082862</td>\n",
       "      <td>9.009425</td>\n",
       "      <td>1.396874</td>\n",
       "      <td>2.426170</td>\n",
       "      <td>14.209865</td>\n",
       "      <td>3.424128</td>\n",
       "      <td>3.850141</td>\n",
       "      <td>0.705374</td>\n",
       "    </tr>\n",
       "    <tr>\n",
       "      <th>std</th>\n",
       "      <td>0.961430</td>\n",
       "      <td>6.847882</td>\n",
       "      <td>7.280120</td>\n",
       "      <td>1.433471</td>\n",
       "      <td>0.878369</td>\n",
       "      <td>2.178003</td>\n",
       "      <td>0.942399</td>\n",
       "      <td>1.346435</td>\n",
       "      <td>2.203374</td>\n",
       "    </tr>\n",
       "    <tr>\n",
       "      <th>min</th>\n",
       "      <td>1.000000</td>\n",
       "      <td>17.500000</td>\n",
       "      <td>0.500000</td>\n",
       "      <td>0.000000</td>\n",
       "      <td>1.000000</td>\n",
       "      <td>9.000000</td>\n",
       "      <td>1.000000</td>\n",
       "      <td>1.000000</td>\n",
       "      <td>0.000000</td>\n",
       "    </tr>\n",
       "    <tr>\n",
       "      <th>25%</th>\n",
       "      <td>4.000000</td>\n",
       "      <td>22.000000</td>\n",
       "      <td>2.500000</td>\n",
       "      <td>0.000000</td>\n",
       "      <td>2.000000</td>\n",
       "      <td>12.000000</td>\n",
       "      <td>3.000000</td>\n",
       "      <td>3.000000</td>\n",
       "      <td>0.000000</td>\n",
       "    </tr>\n",
       "    <tr>\n",
       "      <th>50%</th>\n",
       "      <td>4.000000</td>\n",
       "      <td>27.000000</td>\n",
       "      <td>6.000000</td>\n",
       "      <td>1.000000</td>\n",
       "      <td>2.000000</td>\n",
       "      <td>14.000000</td>\n",
       "      <td>3.000000</td>\n",
       "      <td>4.000000</td>\n",
       "      <td>0.000000</td>\n",
       "    </tr>\n",
       "    <tr>\n",
       "      <th>75%</th>\n",
       "      <td>5.000000</td>\n",
       "      <td>32.000000</td>\n",
       "      <td>16.500000</td>\n",
       "      <td>2.000000</td>\n",
       "      <td>3.000000</td>\n",
       "      <td>16.000000</td>\n",
       "      <td>4.000000</td>\n",
       "      <td>5.000000</td>\n",
       "      <td>0.484848</td>\n",
       "    </tr>\n",
       "    <tr>\n",
       "      <th>max</th>\n",
       "      <td>5.000000</td>\n",
       "      <td>42.000000</td>\n",
       "      <td>23.000000</td>\n",
       "      <td>5.500000</td>\n",
       "      <td>4.000000</td>\n",
       "      <td>20.000000</td>\n",
       "      <td>6.000000</td>\n",
       "      <td>6.000000</td>\n",
       "      <td>57.599991</td>\n",
       "    </tr>\n",
       "  </tbody>\n",
       "</table>\n",
       "</div>"
      ],
      "text/plain": [
       "       rate_marriage          age  yrs_married     children    religious  \\\n",
       "count    6366.000000  6366.000000  6366.000000  6366.000000  6366.000000   \n",
       "mean        4.109645    29.082862     9.009425     1.396874     2.426170   \n",
       "std         0.961430     6.847882     7.280120     1.433471     0.878369   \n",
       "min         1.000000    17.500000     0.500000     0.000000     1.000000   \n",
       "25%         4.000000    22.000000     2.500000     0.000000     2.000000   \n",
       "50%         4.000000    27.000000     6.000000     1.000000     2.000000   \n",
       "75%         5.000000    32.000000    16.500000     2.000000     3.000000   \n",
       "max         5.000000    42.000000    23.000000     5.500000     4.000000   \n",
       "\n",
       "              educ   occupation  occupation_husb      affairs  \n",
       "count  6366.000000  6366.000000      6366.000000  6366.000000  \n",
       "mean     14.209865     3.424128         3.850141     0.705374  \n",
       "std       2.178003     0.942399         1.346435     2.203374  \n",
       "min       9.000000     1.000000         1.000000     0.000000  \n",
       "25%      12.000000     3.000000         3.000000     0.000000  \n",
       "50%      14.000000     3.000000         4.000000     0.000000  \n",
       "75%      16.000000     4.000000         5.000000     0.484848  \n",
       "max      20.000000     6.000000         6.000000    57.599991  "
      ]
     },
     "execution_count": 170,
     "metadata": {},
     "output_type": "execute_result"
    }
   ],
   "source": [
    "dta.describe()"
   ]
  },
  {
   "cell_type": "markdown",
   "id": "e2ca40f3-1597-4dea-9a7d-014a8c9632de",
   "metadata": {},
   "source": [
    "On crée une variable binaire: il y a tromperie ou non."
   ]
  },
  {
   "cell_type": "code",
   "execution_count": 171,
   "id": "32703d3a-4092-410d-9b50-568638d10e9a",
   "metadata": {},
   "outputs": [],
   "source": [
    "# add \"affair\" column: 1 represents having affairs, 0 represents not\n",
    "dta['affair'] = (dta.affairs > 0).astype(int)"
   ]
  },
  {
   "cell_type": "markdown",
   "id": "f6c1c8d3-e6e8-4498-9f30-569035b0852b",
   "metadata": {},
   "source": [
    "Analyse rapide des tromperies"
   ]
  },
  {
   "cell_type": "code",
   "execution_count": 172,
   "id": "cbf714ca-d7be-4938-b88a-4a76a5f855df",
   "metadata": {},
   "outputs": [
    {
     "data": {
      "text/html": [
       "<div>\n",
       "<style scoped>\n",
       "    .dataframe tbody tr th:only-of-type {\n",
       "        vertical-align: middle;\n",
       "    }\n",
       "\n",
       "    .dataframe tbody tr th {\n",
       "        vertical-align: top;\n",
       "    }\n",
       "\n",
       "    .dataframe thead th {\n",
       "        text-align: right;\n",
       "    }\n",
       "</style>\n",
       "<table border=\"1\" class=\"dataframe\">\n",
       "  <thead>\n",
       "    <tr style=\"text-align: right;\">\n",
       "      <th></th>\n",
       "      <th>rate_marriage</th>\n",
       "      <th>age</th>\n",
       "      <th>yrs_married</th>\n",
       "      <th>children</th>\n",
       "      <th>religious</th>\n",
       "      <th>educ</th>\n",
       "      <th>occupation</th>\n",
       "      <th>occupation_husb</th>\n",
       "      <th>affairs</th>\n",
       "    </tr>\n",
       "    <tr>\n",
       "      <th>affair</th>\n",
       "      <th></th>\n",
       "      <th></th>\n",
       "      <th></th>\n",
       "      <th></th>\n",
       "      <th></th>\n",
       "      <th></th>\n",
       "      <th></th>\n",
       "      <th></th>\n",
       "      <th></th>\n",
       "    </tr>\n",
       "  </thead>\n",
       "  <tbody>\n",
       "    <tr>\n",
       "      <th>0</th>\n",
       "      <td>4.329701</td>\n",
       "      <td>28.390679</td>\n",
       "      <td>7.989335</td>\n",
       "      <td>1.238813</td>\n",
       "      <td>2.504521</td>\n",
       "      <td>14.322977</td>\n",
       "      <td>3.405286</td>\n",
       "      <td>3.833758</td>\n",
       "      <td>0.000000</td>\n",
       "    </tr>\n",
       "    <tr>\n",
       "      <th>1</th>\n",
       "      <td>3.647345</td>\n",
       "      <td>30.537019</td>\n",
       "      <td>11.152460</td>\n",
       "      <td>1.728933</td>\n",
       "      <td>2.261568</td>\n",
       "      <td>13.972236</td>\n",
       "      <td>3.463712</td>\n",
       "      <td>3.884559</td>\n",
       "      <td>2.187243</td>\n",
       "    </tr>\n",
       "  </tbody>\n",
       "</table>\n",
       "</div>"
      ],
      "text/plain": [
       "        rate_marriage        age  yrs_married  children  religious       educ  \\\n",
       "affair                                                                          \n",
       "0            4.329701  28.390679     7.989335  1.238813   2.504521  14.322977   \n",
       "1            3.647345  30.537019    11.152460  1.728933   2.261568  13.972236   \n",
       "\n",
       "        occupation  occupation_husb   affairs  \n",
       "affair                                         \n",
       "0         3.405286         3.833758  0.000000  \n",
       "1         3.463712         3.884559  2.187243  "
      ]
     },
     "execution_count": 172,
     "metadata": {},
     "output_type": "execute_result"
    }
   ],
   "source": [
    "dta.groupby('affair').mean()"
   ]
  },
  {
   "cell_type": "markdown",
   "id": "dd6225c9-c295-4526-956c-d6fe033c7792",
   "metadata": {},
   "source": [
    "Quand il y a tromperie, le mariage est noté plus faible (attention à la notion de causalité). "
   ]
  },
  {
   "cell_type": "markdown",
   "id": "6c812201-5a08-4555-88bb-c31ad07d007d",
   "metadata": {},
   "source": [
    "Autre vision (à nouveau, attention à la causalité)"
   ]
  },
  {
   "cell_type": "code",
   "execution_count": 173,
   "id": "065e1c50-d54d-44aa-aa5c-83b218b5f817",
   "metadata": {},
   "outputs": [
    {
     "data": {
      "text/html": [
       "<div>\n",
       "<style scoped>\n",
       "    .dataframe tbody tr th:only-of-type {\n",
       "        vertical-align: middle;\n",
       "    }\n",
       "\n",
       "    .dataframe tbody tr th {\n",
       "        vertical-align: top;\n",
       "    }\n",
       "\n",
       "    .dataframe thead th {\n",
       "        text-align: right;\n",
       "    }\n",
       "</style>\n",
       "<table border=\"1\" class=\"dataframe\">\n",
       "  <thead>\n",
       "    <tr style=\"text-align: right;\">\n",
       "      <th></th>\n",
       "      <th>age</th>\n",
       "      <th>yrs_married</th>\n",
       "      <th>children</th>\n",
       "      <th>religious</th>\n",
       "      <th>educ</th>\n",
       "      <th>occupation</th>\n",
       "      <th>occupation_husb</th>\n",
       "      <th>affairs</th>\n",
       "      <th>affair</th>\n",
       "    </tr>\n",
       "    <tr>\n",
       "      <th>rate_marriage</th>\n",
       "      <th></th>\n",
       "      <th></th>\n",
       "      <th></th>\n",
       "      <th></th>\n",
       "      <th></th>\n",
       "      <th></th>\n",
       "      <th></th>\n",
       "      <th></th>\n",
       "      <th></th>\n",
       "    </tr>\n",
       "  </thead>\n",
       "  <tbody>\n",
       "    <tr>\n",
       "      <th>1.0</th>\n",
       "      <td>33.823232</td>\n",
       "      <td>13.914141</td>\n",
       "      <td>2.308081</td>\n",
       "      <td>2.343434</td>\n",
       "      <td>13.848485</td>\n",
       "      <td>3.232323</td>\n",
       "      <td>3.838384</td>\n",
       "      <td>1.201671</td>\n",
       "      <td>0.747475</td>\n",
       "    </tr>\n",
       "    <tr>\n",
       "      <th>2.0</th>\n",
       "      <td>30.471264</td>\n",
       "      <td>10.727011</td>\n",
       "      <td>1.735632</td>\n",
       "      <td>2.330460</td>\n",
       "      <td>13.864943</td>\n",
       "      <td>3.327586</td>\n",
       "      <td>3.764368</td>\n",
       "      <td>1.615745</td>\n",
       "      <td>0.635057</td>\n",
       "    </tr>\n",
       "    <tr>\n",
       "      <th>3.0</th>\n",
       "      <td>30.008056</td>\n",
       "      <td>10.239174</td>\n",
       "      <td>1.638469</td>\n",
       "      <td>2.308157</td>\n",
       "      <td>14.001007</td>\n",
       "      <td>3.402820</td>\n",
       "      <td>3.798590</td>\n",
       "      <td>1.371281</td>\n",
       "      <td>0.550856</td>\n",
       "    </tr>\n",
       "    <tr>\n",
       "      <th>4.0</th>\n",
       "      <td>28.856601</td>\n",
       "      <td>8.816905</td>\n",
       "      <td>1.369536</td>\n",
       "      <td>2.400981</td>\n",
       "      <td>14.144514</td>\n",
       "      <td>3.420161</td>\n",
       "      <td>3.835861</td>\n",
       "      <td>0.674837</td>\n",
       "      <td>0.322926</td>\n",
       "    </tr>\n",
       "    <tr>\n",
       "      <th>5.0</th>\n",
       "      <td>28.574702</td>\n",
       "      <td>8.311662</td>\n",
       "      <td>1.252794</td>\n",
       "      <td>2.506334</td>\n",
       "      <td>14.399776</td>\n",
       "      <td>3.454918</td>\n",
       "      <td>3.892697</td>\n",
       "      <td>0.348174</td>\n",
       "      <td>0.181446</td>\n",
       "    </tr>\n",
       "  </tbody>\n",
       "</table>\n",
       "</div>"
      ],
      "text/plain": [
       "                     age  yrs_married  children  religious       educ  \\\n",
       "rate_marriage                                                           \n",
       "1.0            33.823232    13.914141  2.308081   2.343434  13.848485   \n",
       "2.0            30.471264    10.727011  1.735632   2.330460  13.864943   \n",
       "3.0            30.008056    10.239174  1.638469   2.308157  14.001007   \n",
       "4.0            28.856601     8.816905  1.369536   2.400981  14.144514   \n",
       "5.0            28.574702     8.311662  1.252794   2.506334  14.399776   \n",
       "\n",
       "               occupation  occupation_husb   affairs    affair  \n",
       "rate_marriage                                                   \n",
       "1.0              3.232323         3.838384  1.201671  0.747475  \n",
       "2.0              3.327586         3.764368  1.615745  0.635057  \n",
       "3.0              3.402820         3.798590  1.371281  0.550856  \n",
       "4.0              3.420161         3.835861  0.674837  0.322926  \n",
       "5.0              3.454918         3.892697  0.348174  0.181446  "
      ]
     },
     "execution_count": 173,
     "metadata": {},
     "output_type": "execute_result"
    }
   ],
   "source": [
    "dta.groupby('rate_marriage').mean()"
   ]
  },
  {
   "cell_type": "markdown",
   "id": "cec152e6-3c7c-432a-bf9c-f23b578a7df0",
   "metadata": {},
   "source": [
    "Encoder les variables catégorielles (qualitatives/non quantitatives) et créer un nouveau dataframe. Vous pourrez utiliser `pd.get_dummies`ou un `ÒneHotEncoder`. "
   ]
  },
  {
   "cell_type": "code",
   "execution_count": 174,
   "id": "2fdfde96-f70c-4adc-af5a-ad8e740c5eac",
   "metadata": {},
   "outputs": [],
   "source": [
    "dummy_occup = pd.get_dummies(dta['occupation'], prefix='occupation')\n",
    "dummy_occup_h = pd.get_dummies(dta['occupation_husb'], prefix='occup_h')"
   ]
  },
  {
   "cell_type": "code",
   "execution_count": 175,
   "id": "43acbc7d-1fa6-4530-9abc-9ced0f4fb969",
   "metadata": {},
   "outputs": [
    {
     "data": {
      "text/html": [
       "<div>\n",
       "<style scoped>\n",
       "    .dataframe tbody tr th:only-of-type {\n",
       "        vertical-align: middle;\n",
       "    }\n",
       "\n",
       "    .dataframe tbody tr th {\n",
       "        vertical-align: top;\n",
       "    }\n",
       "\n",
       "    .dataframe thead th {\n",
       "        text-align: right;\n",
       "    }\n",
       "</style>\n",
       "<table border=\"1\" class=\"dataframe\">\n",
       "  <thead>\n",
       "    <tr style=\"text-align: right;\">\n",
       "      <th></th>\n",
       "      <th>occup_h_1.0</th>\n",
       "      <th>occup_h_2.0</th>\n",
       "      <th>occup_h_3.0</th>\n",
       "      <th>occup_h_4.0</th>\n",
       "      <th>occup_h_5.0</th>\n",
       "      <th>occup_h_6.0</th>\n",
       "    </tr>\n",
       "  </thead>\n",
       "  <tbody>\n",
       "    <tr>\n",
       "      <th>0</th>\n",
       "      <td>0</td>\n",
       "      <td>0</td>\n",
       "      <td>0</td>\n",
       "      <td>0</td>\n",
       "      <td>1</td>\n",
       "      <td>0</td>\n",
       "    </tr>\n",
       "    <tr>\n",
       "      <th>1</th>\n",
       "      <td>0</td>\n",
       "      <td>0</td>\n",
       "      <td>0</td>\n",
       "      <td>1</td>\n",
       "      <td>0</td>\n",
       "      <td>0</td>\n",
       "    </tr>\n",
       "    <tr>\n",
       "      <th>2</th>\n",
       "      <td>0</td>\n",
       "      <td>0</td>\n",
       "      <td>0</td>\n",
       "      <td>0</td>\n",
       "      <td>1</td>\n",
       "      <td>0</td>\n",
       "    </tr>\n",
       "    <tr>\n",
       "      <th>3</th>\n",
       "      <td>0</td>\n",
       "      <td>0</td>\n",
       "      <td>0</td>\n",
       "      <td>0</td>\n",
       "      <td>1</td>\n",
       "      <td>0</td>\n",
       "    </tr>\n",
       "    <tr>\n",
       "      <th>4</th>\n",
       "      <td>0</td>\n",
       "      <td>0</td>\n",
       "      <td>0</td>\n",
       "      <td>1</td>\n",
       "      <td>0</td>\n",
       "      <td>0</td>\n",
       "    </tr>\n",
       "  </tbody>\n",
       "</table>\n",
       "</div>"
      ],
      "text/plain": [
       "   occup_h_1.0  occup_h_2.0  occup_h_3.0  occup_h_4.0  occup_h_5.0  \\\n",
       "0            0            0            0            0            1   \n",
       "1            0            0            0            1            0   \n",
       "2            0            0            0            0            1   \n",
       "3            0            0            0            0            1   \n",
       "4            0            0            0            1            0   \n",
       "\n",
       "   occup_h_6.0  \n",
       "0            0  \n",
       "1            0  \n",
       "2            0  \n",
       "3            0  \n",
       "4            0  "
      ]
     },
     "execution_count": 175,
     "metadata": {},
     "output_type": "execute_result"
    }
   ],
   "source": [
    "dummy_occup_h.head()"
   ]
  },
  {
   "cell_type": "code",
   "execution_count": 176,
   "id": "dd949797-a72e-4ad3-a67a-c0d00680c13b",
   "metadata": {},
   "outputs": [],
   "source": [
    "cols_a_garder=['rate_marriage','age','yrs_married','children','religious','educ']\n",
    "dataset=dta[cols_a_garder].join(dummy_occup).join(dummy_occup_h)\n",
    "y=dta['affair']"
   ]
  },
  {
   "cell_type": "markdown",
   "id": "2c3d3718-747d-4e16-ab88-43a872d76cd5",
   "metadata": {},
   "source": [
    "On a donc un tableau avec les colonnes suivantes. "
   ]
  },
  {
   "cell_type": "code",
   "execution_count": 177,
   "id": "4a3a98b0-843c-44ba-9948-195457a8e498",
   "metadata": {},
   "outputs": [
    {
     "data": {
      "text/plain": [
       "Index(['rate_marriage', 'age', 'yrs_married', 'children', 'religious', 'educ',\n",
       "       'occupation_1.0', 'occupation_2.0', 'occupation_3.0', 'occupation_4.0',\n",
       "       'occupation_5.0', 'occupation_6.0', 'occup_h_1.0', 'occup_h_2.0',\n",
       "       'occup_h_3.0', 'occup_h_4.0', 'occup_h_5.0', 'occup_h_6.0'],\n",
       "      dtype='object')"
      ]
     },
     "execution_count": 177,
     "metadata": {},
     "output_type": "execute_result"
    }
   ],
   "source": [
    "dataset.columns"
   ]
  },
  {
   "cell_type": "markdown",
   "id": "3cb9436d-f74b-489b-8550-90b3a01286c9",
   "metadata": {},
   "source": [
    "### Discrimination"
   ]
  },
  {
   "cell_type": "markdown",
   "id": "4e868fe0-d243-4c2c-aeb1-38ff8ab4a51d",
   "metadata": {},
   "source": [
    "Ensuite c'est très facile : on instancie un modèle (par exemple LDA), on \"fit\", on regarde le score"
   ]
  },
  {
   "cell_type": "code",
   "execution_count": 178,
   "id": "028176c5-4e5d-401e-bd6a-b1d6bc9c3db9",
   "metadata": {},
   "outputs": [
    {
     "data": {
      "text/plain": [
       "0.7198492462311558"
      ]
     },
     "execution_count": 178,
     "metadata": {},
     "output_type": "execute_result"
    }
   ],
   "source": [
    "#\n",
    "model = LDA()\n",
    "X_train, X_test, y_train, y_test = train_test_split(dataset,y)\n",
    "\n",
    "res = model.fit(X_train, y_train)\n",
    "#\n",
    "#score - quel score obtenu ?\n",
    "model.score(X_test, y_test)"
   ]
  },
  {
   "cell_type": "markdown",
   "id": "852b9584-db67-4029-a36e-3be7507df210",
   "metadata": {},
   "source": [
    "Les coefficients obtenus sont les suivants"
   ]
  },
  {
   "cell_type": "code",
   "execution_count": 179,
   "id": "742fadd3-0312-41ad-8b29-06ea80a12c1a",
   "metadata": {},
   "outputs": [
    {
     "data": {
      "text/plain": [
       "array([[-0.7861829 , -0.05774841,  0.10778406,  0.02493363, -0.36208042,\n",
       "        -0.00134813, -0.49909846, -0.30590647,  0.08033606, -0.1833631 ,\n",
       "         0.44428382,  0.67754033, -0.12514934,  0.03429402,  0.10850438,\n",
       "         0.00708811, -0.0533587 ,  0.00452911]])"
      ]
     },
     "execution_count": 179,
     "metadata": {},
     "output_type": "execute_result"
    }
   ],
   "source": [
    "res.coef_"
   ]
  },
  {
   "cell_type": "markdown",
   "id": "42dac09e-be8f-4f4f-b7a0-98cda461c50d",
   "metadata": {},
   "source": [
    "On relie les coefficients aux variables. Interprétations ?"
   ]
  },
  {
   "cell_type": "code",
   "execution_count": 180,
   "id": "625e9e33-b06c-48a0-b0ec-e997bea1495b",
   "metadata": {},
   "outputs": [
    {
     "data": {
      "text/html": [
       "<div>\n",
       "<style scoped>\n",
       "    .dataframe tbody tr th:only-of-type {\n",
       "        vertical-align: middle;\n",
       "    }\n",
       "\n",
       "    .dataframe tbody tr th {\n",
       "        vertical-align: top;\n",
       "    }\n",
       "\n",
       "    .dataframe thead th {\n",
       "        text-align: right;\n",
       "    }\n",
       "</style>\n",
       "<table border=\"1\" class=\"dataframe\">\n",
       "  <thead>\n",
       "    <tr style=\"text-align: right;\">\n",
       "      <th></th>\n",
       "      <th>rate_marriage</th>\n",
       "      <th>age</th>\n",
       "      <th>yrs_married</th>\n",
       "      <th>children</th>\n",
       "      <th>religious</th>\n",
       "      <th>educ</th>\n",
       "      <th>occupation_1.0</th>\n",
       "      <th>occupation_2.0</th>\n",
       "      <th>occupation_3.0</th>\n",
       "      <th>occupation_4.0</th>\n",
       "      <th>occupation_5.0</th>\n",
       "      <th>occupation_6.0</th>\n",
       "      <th>occup_h_1.0</th>\n",
       "      <th>occup_h_2.0</th>\n",
       "      <th>occup_h_3.0</th>\n",
       "      <th>occup_h_4.0</th>\n",
       "      <th>occup_h_5.0</th>\n",
       "      <th>occup_h_6.0</th>\n",
       "    </tr>\n",
       "  </thead>\n",
       "  <tbody>\n",
       "    <tr>\n",
       "      <th>0</th>\n",
       "      <td>-0.786183</td>\n",
       "      <td>-0.057748</td>\n",
       "      <td>0.107784</td>\n",
       "      <td>0.024934</td>\n",
       "      <td>-0.36208</td>\n",
       "      <td>-0.001348</td>\n",
       "      <td>-0.499098</td>\n",
       "      <td>-0.305906</td>\n",
       "      <td>0.080336</td>\n",
       "      <td>-0.183363</td>\n",
       "      <td>0.444284</td>\n",
       "      <td>0.67754</td>\n",
       "      <td>-0.125149</td>\n",
       "      <td>0.034294</td>\n",
       "      <td>0.108504</td>\n",
       "      <td>0.007088</td>\n",
       "      <td>-0.053359</td>\n",
       "      <td>0.004529</td>\n",
       "    </tr>\n",
       "  </tbody>\n",
       "</table>\n",
       "</div>"
      ],
      "text/plain": [
       "   rate_marriage       age  yrs_married  children  religious      educ  \\\n",
       "0      -0.786183 -0.057748     0.107784  0.024934   -0.36208 -0.001348   \n",
       "\n",
       "   occupation_1.0  occupation_2.0  occupation_3.0  occupation_4.0  \\\n",
       "0       -0.499098       -0.305906        0.080336       -0.183363   \n",
       "\n",
       "   occupation_5.0  occupation_6.0  occup_h_1.0  occup_h_2.0  occup_h_3.0  \\\n",
       "0        0.444284         0.67754    -0.125149     0.034294     0.108504   \n",
       "\n",
       "   occup_h_4.0  occup_h_5.0  occup_h_6.0  \n",
       "0     0.007088    -0.053359     0.004529  "
      ]
     },
     "execution_count": 180,
     "metadata": {},
     "output_type": "execute_result"
    }
   ],
   "source": [
    "pd.DataFrame(res.coef_, columns=dataset.columns)"
   ]
  },
  {
   "cell_type": "markdown",
   "id": "a4a015c0-35cb-4406-a94e-ff2f62e221e5",
   "metadata": {},
   "source": [
    "mariage bien noté, proba dune \"affaire\" diminue, \n",
    "plus sentiment religieux, plus la proba d'affaire diminue\n",
    "plus occupation 1 (étudiant), plus la proba diminue\n",
    "plus occupation 6, plus la proba augmente"
   ]
  },
  {
   "cell_type": "markdown",
   "id": "4b1855db-70ea-4a57-b7ba-0d424a70bd0e",
   "metadata": {},
   "source": [
    "On peut prédire :"
   ]
  },
  {
   "cell_type": "code",
   "execution_count": 181,
   "id": "0b18b79d-5636-4438-8a6f-4728f802c368",
   "metadata": {},
   "outputs": [],
   "source": [
    "age= 22\n",
    "children= 8\n",
    "educ= 16\n",
    "occup_h_1=0\n",
    "occup_h_2=0\n",
    "occup_h_3=0 \n",
    "occup_h_4=1\n",
    "occup_h_5=0 \n",
    "occup_h_6=0\n",
    "occupation_1= 0\n",
    "occupation_2= 0\n",
    "occupation_3= 1\n",
    "occupation_4= 0\n",
    "occupation_5=0\n",
    "occupation_6= 0\n",
    "rate_marriage= 4\n",
    "religious = 5\n",
    "yrs_married= 7\n",
    "\n",
    "test=[rate_marriage, age, yrs_married, children, religious, educ, occupation_1, occupation_2, occupation_3, occupation_4,occupation_5,\n",
    "occupation_6, occup_h_1, occup_h_2,occup_h_3, occup_h_4, occup_h_5,\n",
    "occup_h_6]"
   ]
  },
  {
   "cell_type": "code",
   "execution_count": 182,
   "id": "d63132e5-d19c-4b2d-8919-8b7beb4fbe95",
   "metadata": {},
   "outputs": [
    {
     "name": "stdout",
     "output_type": "stream",
     "text": [
      "proba d'avoir une 'affaire' :  0.21166250455809943\n"
     ]
    },
    {
     "name": "stderr",
     "output_type": "stream",
     "text": [
      "/opt/anaconda3/lib/python3.9/site-packages/sklearn/base.py:450: UserWarning: X does not have valid feature names, but LinearDiscriminantAnalysis was fitted with feature names\n",
      "  warnings.warn(\n"
     ]
    }
   ],
   "source": [
    "\n",
    "print(\"proba d'avoir une 'affaire' : \", \n",
    "      res.predict_proba(np.array(test).reshape(1, -1))[0][1])"
   ]
  },
  {
   "cell_type": "code",
   "execution_count": null,
   "id": "e2c9db7a-5d37-41ad-af02-bba56e0308c7",
   "metadata": {},
   "outputs": [],
   "source": []
  },
  {
   "cell_type": "code",
   "execution_count": null,
   "id": "bb55134d-b539-4196-851c-b79f78ffb11f",
   "metadata": {},
   "outputs": [],
   "source": []
  }
 ],
 "metadata": {
  "kernelspec": {
   "display_name": "Python 3 (ipykernel)",
   "language": "python",
   "name": "python3"
  },
  "language_info": {
   "codemirror_mode": {
    "name": "ipython",
    "version": 3
   },
   "file_extension": ".py",
   "mimetype": "text/x-python",
   "name": "python",
   "nbconvert_exporter": "python",
   "pygments_lexer": "ipython3",
   "version": "3.9.13"
  },
  "toc-autonumbering": false,
  "toc-showtags": false
 },
 "nbformat": 4,
 "nbformat_minor": 5
}
