{
 "cells": [
  {
   "cell_type": "markdown",
   "id": "fc559e69-13aa-4fa2-b6d9-15f0d0c94021",
   "metadata": {},
   "source": [
    "# TP Discrimination bayésienne"
   ]
  },
  {
   "cell_type": "markdown",
   "id": "b58d55c1-ef79-4ff7-add4-3adcde82e53e",
   "metadata": {},
   "source": [
    "La \"discrimination\" consiste, compte tenu de \"features\" (variables explicatives), à prédire l'appartenance à une classe.  \n",
    "La discrimination bayésienne, en s'appuyant sur une modélisation probabiliste et la règle de Bayes, permet de déterminer quelle est la probabilité d'appartenance à une classe. Après seuillage, on peut affecter un \"exemple\" à une classe. "
   ]
  },
  {
   "cell_type": "markdown",
   "id": "076fb78a-3d49-46b0-9560-ef16ff5a8b56",
   "metadata": {},
   "source": [
    "On peut évaluer les performances grace à la \"matrice de confusion\", qui compare (ci-dessous dans le cas binaire) les prédictions aux valeurs réelles. Le score (ou *accuracy*) est le nombre total d'exmples bien classifiés sur le nombre total d'exemples. "
   ]
  },
  {
   "attachments": {
    "742b6a07-85a6-4532-af5a-e93b2dd24635.png": {
     "image/png": "[encoded data removed]"
    }
   },
   "cell_type": "markdown",
   "id": "ae5a8d26-7a43-4f55-b24c-50454599f14d",
   "metadata": {
    "tags": []
   },
   "source": [
    "\n",
    "### Matrice de confusion\n",
    "![image.png](attachment:742b6a07-85a6-4532-af5a-e93b2dd24635.png)\n",
    "\n",
    "Source : [Wikipedia](https://en.wikipedia.org/wiki/Confusion_matrix)"
   ]
  },
  {
   "cell_type": "markdown",
   "id": "279be070-f6ec-4169-9498-6a5f4c593029",
   "metadata": {},
   "source": [
    "La fonction maison suivante vous permettra de visualiser la matrice de confusion (cas binaire - deux classes)"
   ]
  },
  {
   "cell_type": "markdown",
   "id": "1b21a282-ec9e-4e6c-ba24-2e20d9b966d7",
   "metadata": {},
   "source": [
    "### Fonctions maison"
   ]
  },
  {
   "cell_type": "code",
   "execution_count": null,
   "id": "14a92f22-622d-4cf5-9f26-18d0094acc87",
   "metadata": {
    "tags": []
   },
   "outputs": [],
   "source": [
    "# %load mycfm.py\n",
    "from IPython.display import HTML, display, display_html \n",
    "import numpy as np\n",
    "import pandas as pd\n",
    "\n",
    "def mycfm(y_true, y_pred):  \n",
    "    \"\"\"\n",
    "    Rend une jolie matrice de confusion (cas binaire) et les principaux scores associés\n",
    "    \n",
    "    Arguments :\n",
    "    -----------\n",
    "    y_true: array\n",
    "         les vraies classes\n",
    "    y_pred: array\n",
    "         les classes prédites \n",
    "    \"\"\"\n",
    "    CC=pd.crosstab(y_true, y_pred, rownames=['True'], colnames=['Predicted'], margins=True)\n",
    "    try:\n",
    "        display_html(CC)\n",
    "    except:\n",
    "        print(CC)\n",
    "       \n",
    "    C=np.array(CC)\n",
    "    score=(C[0,0]+C[1,1])/(C[0,0]+C[1,1]+C[0,1]+C[1,0])\n",
    "    precision=(C[1,1])/(C[1,1]+C[0 ,1])\n",
    "    recall=(C[1,1])/(C[1,1]+C[1,0])\n",
    "    print()\n",
    "    print('{s:{c}<{n}}{num:2.3}'.format(s='Score',n=15,c='', num=score))\n",
    "    print('{s:{c}<{n}}{num:2.3}'.format(s='Precision',n=15,c='', num=precision))\n",
    "    print('{s:{c}<{n}}{num:2.3}'.format(s='Recall',n=15,c='', num=recall))\n"
   ]
  },
  {
   "cell_type": "markdown",
   "id": "1b66c165-37bc-4f2c-9224-04938af9abbc",
   "metadata": {},
   "source": [
    "Vous pourrez éventuellement aussi utiliser la table issue de sklearn (utilisable avec plus de deux classes)\n",
    "```\n",
    "from sklearn.metrics import confusion_matrix\n",
    "```"
   ]
  },
  {
   "cell_type": "code",
   "execution_count": null,
   "id": "1b31b30c-4f09-481a-b30a-0468e2b3882d",
   "metadata": {},
   "outputs": [],
   "source": [
    "# L'histogramme standard ne permet pas de normalisation à une valeur quelconque\n",
    "# ce qui est nécessaire si on veut intégrer des proportions. D'où cette version rapide. \n",
    "\n",
    "def myhist(x, bins=50, normed=None, color=\"blue\", **kwargs):\n",
    "    # bins peut être un vecteur des positions (gauches) des intervalles\n",
    "    if isinstance(bins, int): bins = np.linspace(x.min(), x.max(), bins)\n",
    "    width = bins[2] - bins[1]\n",
    "    c, b = np.histogram(x, bins=bins)\n",
    "\n",
    "    f = normed / (width * np.size(x)) if isinstance(normed,\n",
    "                                                    (int, float)) else 1\n",
    "    plt.bar(b[:-1], f * c, width=width, color=color, **kwargs)\n",
    "\n",
    "\n",
    "#### Test\n",
    "#bins=np.linspace(-6,6,50)\n",
    "#myhist(X[0:N1], bins, normed=None)"
   ]
  },
  {
   "cell_type": "markdown",
   "id": "bb47c8fd-60a6-448f-8729-83aa9c44acab",
   "metadata": {},
   "source": [
    "### Imports utiles"
   ]
  },
  {
   "cell_type": "code",
   "execution_count": null,
   "id": "c85061ea-8f42-4c34-8c14-38b605538895",
   "metadata": {},
   "outputs": [],
   "source": [
    "import numpy as np\n",
    "import pandas as pd\n",
    "import scipy.stats as stats\n",
    "\n",
    "from sklearn.discriminant_analysis import LinearDiscriminantAnalysis as LDA\n",
    "import matplotlib.pyplot as plt"
   ]
  },
  {
   "cell_type": "markdown",
   "id": "715a3e69-63bd-4d7d-a91b-913bab62daf8",
   "metadata": {},
   "source": [
    "## Taille et poids"
   ]
  },
  {
   "cell_type": "markdown",
   "id": "a107a4eb-070d-4f43-b02a-bb5987f2c8b1",
   "metadata": {},
   "source": [
    "### Préparation"
   ]
  },
  {
   "cell_type": "markdown",
   "id": "209000cd-c27d-42c5-bea1-ed144b00ba85",
   "metadata": {},
   "source": [
    "Les données peuvent être obtenues [ici](https://raw.githubusercontent.com/johnmyleswhite/ML_for_Hackers/master/02-Exploration/data/01_heights_weights_genders.csv). Vous disposez également du fichier `01_heights_weights_genders.csv` dans le répertoire courant. \n",
    "\n",
    "- Lire le fichier dans une variable heights_and_weights\n",
    "- Afficher les premières lignes"
   ]
  },
  {
   "cell_type": "code",
   "execution_count": null,
   "id": "6bdaab5b-f511-4f5d-a0c6-136556319348",
   "metadata": {
    "tags": []
   },
   "outputs": [],
   "source": [
    "heights_and_weights = ..."
   ]
  },
  {
   "cell_type": "markdown",
   "id": "bc84a6ce-ac8b-44c2-bce0-c81e490ff97d",
   "metadata": {},
   "source": [
    "Examiner les variables (`.head(), .describe()`)"
   ]
  },
  {
   "cell_type": "markdown",
   "id": "1df195d8-30d6-4865-b77c-dadc838f4c2a",
   "metadata": {},
   "source": [
    "Le tableau initial est trié (Hommes/Femmes). On va le mélanger. "
   ]
  },
  {
   "cell_type": "code",
   "execution_count": null,
   "id": "3aa7dbda-ade6-4b8e-bd52-7ef89ca83e52",
   "metadata": {},
   "outputs": [],
   "source": [
    "np.random.seed(22)\n",
    "I = np.random.choice(np.arange(10000), 10000, replace=False)\n",
    "\n",
    "heights_and_weights = heights_and_weights.loc[I]"
   ]
  },
  {
   "cell_type": "markdown",
   "id": "5f19d56b-c26a-4e83-97b9-99e85825dc97",
   "metadata": {},
   "source": [
    "On commence par appliquer un certain nombre de transformations pour :\n",
    " - convertir le genre en une variable binaire (une variable numérique est nécessaire pour le module `statmodels` que l'on va employer dans la suite -- ce n'est pas nécessaire pour `sklearn`),\n",
    " - les données sont anglo-saxonnes, en tailles en pouces et poids en livres. On convertit en unités métriques,  ce sera plus agréable.\n",
    " \n",
    "Pour ce faire, on utilise les méthodes `map` et  `apply`. Vous n'avez pas besoin de retenir ça. "
   ]
  },
  {
   "cell_type": "code",
   "execution_count": null,
   "id": "5ff73578-bc1b-40db-8653-caba8515295b",
   "metadata": {
    "tags": []
   },
   "outputs": [],
   "source": [
    "heights_and_weights['Male'] = heights_and_weights['Gender'].map({\n",
    "    'Male': 1,\n",
    "    'Female': 0\n",
    "})\n",
    "heights_and_weights['H (cm)'] = heights_and_weights['Height'].apply(\n",
    "    lambda x: x * 2.54)\n",
    "heights_and_weights['W (kg)'] = heights_and_weights['Weight'].apply(\n",
    "    lambda x: x / 2.205)"
   ]
  },
  {
   "cell_type": "code",
   "execution_count": null,
   "id": "4431c9ce-aa32-458f-818c-2865fc914722",
   "metadata": {
    "tags": []
   },
   "outputs": [],
   "source": [
    "heights_and_weights.head()"
   ]
  },
  {
   "cell_type": "markdown",
   "id": "43cdd5a8-5474-45ed-9942-a78207112dd0",
   "metadata": {},
   "source": [
    "Tracer les histogrammes de la taille et du poids. "
   ]
  },
  {
   "cell_type": "markdown",
   "id": "faee71db-a0ae-4880-bc43-ad7cd289eaef",
   "metadata": {},
   "source": [
    "Exemple pour le poids : "
   ]
  },
  {
   "cell_type": "code",
   "execution_count": null,
   "id": "f3c66464-73a3-45df-af2e-fc2b45d77bd9",
   "metadata": {
    "tags": []
   },
   "outputs": [],
   "source": [
    "# 2cm bins\n",
    "h = heights_and_weights['H (cm)']\n",
    "male = heights_and_weights['Gender'] == 'Male'\n",
    "bins1 = np.arange(h.min(), h.max(), 2.)\n",
    "plt.figure(figsize=[9, 6])\n",
    "h[male].hist(bins=bins1, fc='blue', label=\"Hommes\", alpha=0.5)\n",
    "h[~male].hist(bins=bins1, fc='green', label=\"Femmes\", alpha=0.6)\n",
    "plt.set_xlabel = \"Taille (cm)\"\n",
    "plt.title(\"Taille (cm)\")\n",
    "_ = plt.legend()"
   ]
  },
  {
   "cell_type": "markdown",
   "id": "1ad7fc47-3995-416a-9666-7f099fb5c897",
   "metadata": {},
   "source": [
    "- Faites la même chose pour le poids, avec un pas de 2kg"
   ]
  },
  {
   "cell_type": "code",
   "execution_count": null,
   "id": "ef6be990-1f19-4e10-91fc-be000c7028ae",
   "metadata": {},
   "outputs": [],
   "source": []
  },
  {
   "cell_type": "markdown",
   "id": "2d00e3d6-c289-419b-a0d7-5f943accdf42",
   "metadata": {},
   "source": [
    "- Comment déterminer une valeur seuil qui permettrait de classifier en homme-femme à partir de la seule donnée de la taille ? A quoi vont correspondre les erreurs ? A quelle proportion s'attendre ?  "
   ]
  },
  {
   "cell_type": "markdown",
   "id": "13d6b787-85b3-4122-9586-ad61067650fa",
   "metadata": {
    "tags": []
   },
   "source": [
    "Toujours pour la taille, définir une matrice X de \"features\" et une réponse (*target*) y,   la variable à prédire. \n",
    "\n",
    "X **doit** être une matrice (un objet 2D). Vous pouvez passer par un array en utilisant l'attribut .values. "
   ]
  },
  {
   "cell_type": "code",
   "execution_count": null,
   "id": "5ebd0253-3a92-42d4-8e50-3de226c3f96d",
   "metadata": {
    "tags": []
   },
   "outputs": [],
   "source": [
    "X = ...\n",
    "y = ..."
   ]
  },
  {
   "cell_type": "markdown",
   "id": "e14ff3da-ef3b-41b6-bfbc-d6f12f65dc17",
   "metadata": {},
   "source": [
    "### Cas à une seule variable explicative"
   ]
  },
  {
   "cell_type": "markdown",
   "id": "48eadd13-e0cb-417e-a786-ce2436eae40c",
   "metadata": {},
   "source": [
    "#### Apprentissage"
   ]
  },
  {
   "cell_type": "markdown",
   "id": "ef8e02cc-c676-40e5-b3de-c46067d8f6dc",
   "metadata": {
    "tags": []
   },
   "source": [
    "Lire la documentation sur sklearn\n",
    "https://scikit-learn.org/stable/modules/lda_qda.html#lda-qda\n",
    "ainsi que la documenation de la fonction disponible ici :\n",
    "- https://scikit-learn.org/stable/modules/generated/sklearn.discriminant_analysis.LinearDiscriminantAnalysis.html#sklearn.discriminant_analysis.LinearDiscriminantAnalysis"
   ]
  },
  {
   "cell_type": "markdown",
   "id": "636e035a-1744-43b4-9a2b-3ccb23eff71b",
   "metadata": {
    "tags": []
   },
   "source": [
    "- instancier le classifier, sous le nom `clf` par exemple,  \n",
    "- apprendre à partir des données (méthode .fit(.,.))\n"
   ]
  },
  {
   "cell_type": "code",
   "execution_count": null,
   "id": "c24d6c18-7eca-4a20-a0ec-8169c8eb2a69",
   "metadata": {
    "tags": []
   },
   "outputs": [],
   "source": [
    "# instanciation du classifieur\n",
    "clf = ...\n",
    "# On apprend les choses (fit) sur la base totale -- pas de test ici\n",
    "clf.fit(...)\n",
    "\n",
    "# On trace  la frontière \"à la main\" en calculant les prédictions \n",
    "# pour tous les x\n",
    "x = np.linspace(h.min(), h.max(), 1000)\n",
    "xp = clf.predict(np.reshape(x, (len(x), 1)))\n",
    "\n",
    "#**Tracé des résultats *** \n",
    "#\n",
    "bins1 = np.arange(h.min(), h.max(), 2.)\n",
    "plt.figure(figsize=[9, 6])\n",
    "h[male].hist(bins=bins1, fc='blue', label=\"Hommes\", alpha=0.5)\n",
    "h[~male].hist(bins=bins1, fc='green', label=\"Femmes\", alpha=0.6)\n",
    "\n",
    "plt.plot(x, 600 * xp, linewidth=2, color=\"red\", label=\"Affectation\")\n",
    "_ = plt.legend()\n"
   ]
  },
  {
   "cell_type": "markdown",
   "id": "68713d71-c44f-4593-837b-ba96b1fa1190",
   "metadata": {},
   "source": [
    "- Calculer les prédictions données par ce classifieur sur sa base d'apprentissage X\n",
    "- Donner la matrice de confusion correspondante"
   ]
  },
  {
   "cell_type": "code",
   "execution_count": null,
   "id": "4655ea67-79b5-4c01-b1db-5358f5b102f3",
   "metadata": {
    "tags": []
   },
   "outputs": [],
   "source": [
    "preds = clf.predict(...)\n",
    "mycfm(...,...)"
   ]
  },
  {
   "cell_type": "markdown",
   "id": "e6ea15fc-dbeb-4dfb-ae84-c6095a245d11",
   "metadata": {},
   "source": [
    "#### Généralisation"
   ]
  },
  {
   "cell_type": "markdown",
   "id": "6002732b-963f-4808-8267-013678b970ae",
   "metadata": {},
   "source": [
    "- Définir une base d'apprentissage (Xtrain, ytrain) et une base de test (Xtest, ytest) en prenant par exemple la moitié des données pour le train, et l'autre moitié pour le test. \n",
    "- Apprendre un nouveau classifieur sur train, et calculer la matrice de confusion sur test. \n",
    "- Pensez-vous que le classifieur généralise bien sur de nouvelles donnée s(non vues lors de l'apprentissage ?)"
   ]
  },
  {
   "cell_type": "code",
   "execution_count": null,
   "id": "7c2cd158-3adf-4167-83e7-10ab0bb47b0f",
   "metadata": {
    "tags": []
   },
   "outputs": [],
   "source": [
    "M = 5000\n",
    "Xtrain = ...\n",
    "Xtest = ...\n",
    "ytrain = ...\n",
    "ytest = ...\n",
    "\n",
    "clf2 = ...\n",
    "# On apprend les choses sur le train\n",
    "clf2.fit(..., ...)\n",
    "# on prédit sur test\n",
    "preds = clf2.predict(...)\n",
    "mycfm(..., ...)"
   ]
  },
  {
   "cell_type": "markdown",
   "id": "64385dd0-f947-4ac4-9162-d5061646d910",
   "metadata": {},
   "source": [
    "#### Fonction discriminante"
   ]
  },
  {
   "cell_type": "markdown",
   "id": "5fcf4d45-5638-4568-b107-08862380f81f",
   "metadata": {},
   "source": [
    "Le modèle, lorqu'on compare les probabilités de deux classes, débouche sur une fonction \"discriminante\" de décision linéaire (une droite donc). f page 18 du poly, ou \n",
    "https://perso.esiee.fr/~bercherj/EL3029/DiscriminationBayesienne.html#Principe-de-la-m%C3%A9thode\n",
    "\n",
    "Les coefficients sont donnés par les attributs `.coef()`et `.intercept()`du classifieur. \n",
    "La frontière de discrimination sera donnée par $w^T x + x_0 = 0$. \n",
    "\n",
    "- En déduire la valeur de seuil qui semble être utilisée pour effectuer la discrimination. "
   ]
  },
  {
   "cell_type": "code",
   "execution_count": null,
   "id": "0b588f80-6bac-4c2c-ac25-e447f3540e7e",
   "metadata": {
    "tags": []
   },
   "outputs": [],
   "source": [
    "# La frontière de décision est données par coef*x + intercept = 0\n",
    "# Soit\n",
    "\n",
    "seuil = ...\n",
    "seuil\n"
   ]
  },
  {
   "cell_type": "markdown",
   "id": "83c94d9f-1d02-49b7-bf90-7d6f23447e34",
   "metadata": {},
   "source": [
    "#### Probabilités d'appartenance à une classe"
   ]
  },
  {
   "cell_type": "markdown",
   "id": "cf0cd234-46c6-4c68-b7f3-953816a3ac0a",
   "metadata": {},
   "source": [
    "- Utiliser la méthode `predict_proba`du classifieur pour prédire les probas (de quoi ?) pour une taille de 164 cm. Vous passerez une matrice `[[164]]`"
   ]
  },
  {
   "cell_type": "code",
   "execution_count": null,
   "id": "de4ce5e7-035a-4537-a602-5857e6f8527e",
   "metadata": {
    "tags": []
   },
   "outputs": [],
   "source": [
    "clf.predict_proba(... )"
   ]
  },
  {
   "cell_type": "markdown",
   "id": "968fe91c-720b-4280-9e1f-6eeb58a68105",
   "metadata": {},
   "source": [
    "- Pour des tailles allant de 120 à 200 cm, tracer la probabilité que la personne soit un Homme. "
   ]
  },
  {
   "cell_type": "code",
   "execution_count": null,
   "id": "6e54b8d9-b493-4c45-a9ea-650a76b52d9c",
   "metadata": {
    "tags": []
   },
   "outputs": [],
   "source": [
    "Xtest = np.arange(120, 200).reshape(-1,1)"
   ]
  },
  {
   "cell_type": "code",
   "execution_count": null,
   "id": "6db549cc-816a-49bd-b48f-52bae32f86d1",
   "metadata": {
    "tags": []
   },
   "outputs": [],
   "source": [
    "probs = clf.predict_proba(...)"
   ]
  },
  {
   "cell_type": "code",
   "execution_count": null,
   "id": "d7cbfd67-614b-4091-9ede-ef74a1bb1d00",
   "metadata": {
    "tags": []
   },
   "outputs": [],
   "source": [
    "plt.plot(...)\n",
    "plt.xlabel(...)"
   ]
  },
  {
   "cell_type": "markdown",
   "id": "cbf8bf4d-4e11-4998-b239-a5a259d79aee",
   "metadata": {},
   "source": [
    "- Reprendre rapidement la problème de classification, mais cette fois-ci avec les données de poids (Il faut sélectionner la colonne 'W (kg)')\n",
    "\n",
    "- Calculer la matrice de confusion, quelle est la valeur du score obtenue ?\n",
    "```\n",
    "X = heights_and_weights[['W (kg)']].values[I]\n",
    "```"
   ]
  },
  {
   "cell_type": "markdown",
   "id": "48923b2e-7c17-441f-8330-bce8a4d185b4",
   "metadata": {},
   "source": [
    "### Traitement à deux dimensions"
   ]
  },
  {
   "cell_type": "markdown",
   "id": "c214ad5e-5789-44b1-b908-62a2aa069206",
   "metadata": {},
   "source": [
    "Il est très simple d'intégrer plus de variables explicatives. Faisons le ici en intégrant à la fois la taille et le poids :\n",
    "\n",
    "- créer une matrice X des tailles et poids, la réponse y correspondante\n",
    "- comme précédemmment, donnez vous une base de train et test de manière à pouvoir mesurer les capacités en généralisation\n",
    "- apprendre une LDA, calculer les performances"
   ]
  },
  {
   "cell_type": "code",
   "execution_count": null,
   "id": "f37fca8f-cd0b-4dc5-8130-feec496d8860",
   "metadata": {
    "tags": []
   },
   "outputs": [],
   "source": [
    "classifier = LDA()\n",
    "X = ...\n",
    "y = ...\n",
    "# \n",
    "M = 5000\n",
    "Xtrain = X[:M, :]\n",
    "Xtest = X[M:,:]\n",
    "ytrain = y[:M]\n",
    "ytest = y[M:]\n",
    "\n",
    "\n",
    "# Apprentissage sur la base d'apprentissage\n",
    "classifier.fit(..., ...)\n",
    "score = classifier.score(..., ...)\n",
    "print(\"Score sur la base de test : \", score)"
   ]
  },
  {
   "cell_type": "markdown",
   "id": "c185f747-73d7-4236-afcc-e23f07416d50",
   "metadata": {},
   "source": [
    "#### Fonction discriminante"
   ]
  },
  {
   "cell_type": "markdown",
   "id": "7362722e-4743-499b-9cab-bdaf99443319",
   "metadata": {},
   "source": [
    "La fonction de séparation est cette fois-ci \n",
    "$$\n",
    "\\beta_0 + \\beta_1*\\text{taille} + \\beta_2*\\text{poids}\n",
    "$$\n",
    "**On peut donc tracer la droite $\\text{poids}=-\\beta_0/\\beta_2 - \\beta_1/\\beta_2*\\text{taille}$ dans le plan (taille, poids) et comparer aux données répertoriées**"
   ]
  },
  {
   "cell_type": "markdown",
   "id": "33bb08bb-52be-49c4-8da8-8b1df4359be6",
   "metadata": {},
   "source": [
    "- A l'aide des coefficients et de l'intercept, tracer sur le même graphe \n",
    "    - les nuages de points (avec des couleurs différentes selon hommes et femmes (par exemple deux plots)\n",
    "    - la droite représentant la frontière de décision"
   ]
  },
  {
   "cell_type": "code",
   "execution_count": null,
   "id": "247f73e7-04e7-4a4f-b107-c72f4a50d4f5",
   "metadata": {
    "tags": []
   },
   "outputs": [],
   "source": [
    "intercept = classifier.intercept_\n",
    "coeffs = classifier.coef_[0]"
   ]
  },
  {
   "cell_type": "code",
   "execution_count": null,
   "id": "eef78bd8-15f7-4723-9ba4-539fc93bbd0b",
   "metadata": {},
   "outputs": [],
   "source": []
  },
  {
   "cell_type": "code",
   "execution_count": null,
   "id": "87cb671e-d4e4-4864-81b6-1bf0eb0ba800",
   "metadata": {
    "tags": []
   },
   "outputs": [],
   "source": [
    "d0 = -intercept / coeffs[1]\n",
    "d1 = -coeffs[0] / coeffs[1]\n",
    "...\n"
   ]
  },
  {
   "cell_type": "markdown",
   "id": "8abd6780-cdfe-49a6-9dea-e1592c22e2bc",
   "metadata": {},
   "source": [
    "Comme précédemment, il est possible de prédire une classe avec la probabilité correspondante :\n",
    "- Calculer quelles sont les probabilités associées à un individu de taille, poids = 170, 69.6\n",
    "\n",
    "(utiliser `classifier.predict` et `classifier.predict_proba`)"
   ]
  },
  {
   "cell_type": "code",
   "execution_count": null,
   "id": "68d20d92-5d44-479e-8f23-612e3893c840",
   "metadata": {
    "tags": []
   },
   "outputs": [],
   "source": [
    "taille, poids = 170, 69.6\n",
    "test = np.array([taille, poids]).reshape(1, -1)\n",
    "..."
   ]
  },
  {
   "cell_type": "code",
   "execution_count": null,
   "id": "889eacaa-1fcc-48de-a80f-c332f8f0b7b0",
   "metadata": {},
   "outputs": [],
   "source": []
  },
  {
   "cell_type": "code",
   "execution_count": null,
   "id": "665beff0-7043-4a93-9d7f-8f22d1b7a3ab",
   "metadata": {},
   "outputs": [],
   "source": []
  },
  {
   "cell_type": "code",
   "execution_count": null,
   "id": "8b8ae01a-08ec-4a64-855b-164697fd51b5",
   "metadata": {},
   "outputs": [],
   "source": []
  },
  {
   "cell_type": "code",
   "execution_count": null,
   "id": "d2c21b7a-53b5-42d2-9f1e-1628e6fe2ffa",
   "metadata": {},
   "outputs": [],
   "source": []
  },
  {
   "cell_type": "markdown",
   "id": "10721fcb-e3f6-4cb1-b80f-88cb432e2a49",
   "metadata": {},
   "source": [
    "## Classification de digits"
   ]
  },
  {
   "cell_type": "code",
   "execution_count": null,
   "id": "77836821-bf65-460e-b30a-1138bc050288",
   "metadata": {},
   "outputs": [],
   "source": []
  },
  {
   "cell_type": "markdown",
   "id": "72d3ca4e-ab8b-4727-a6a1-49a4bea3c1e8",
   "metadata": {},
   "source": [
    "On considère maintenant un problème de discrimination de l'écriture manuscrite (chiffres).\n",
    "Pour cela, on utilisera un modèle de Bayes naïf, avec a priori gaussien."
   ]
  },
  {
   "cell_type": "markdown",
   "id": "8790ae86-1e40-44bd-b2de-ac211bae0934",
   "metadata": {},
   "source": [
    "Le code suivant permet de lire les données et d'afficher des exemples"
   ]
  },
  {
   "cell_type": "code",
   "execution_count": null,
   "id": "73b212a8-4f83-4316-abc0-b04468473487",
   "metadata": {},
   "outputs": [],
   "source": [
    "# Author: Gael Varoquaux <gael dot varoquaux at normalesup dot org>\n",
    "# minor modifs: jfb\n",
    "# License: Simplified BSD\n",
    "\n",
    "# Standard scientific Python imports\n",
    "import pylab as pl\n",
    "\n",
    "# Import datasets, classifiers and performance metrics\n",
    "from sklearn import datasets, metrics\n",
    "\n",
    "# The digits dataset\n",
    "digits = datasets.load_digits()\n",
    "\n",
    "# The data that we are interested in is made of 8x8 images of digits,\n",
    "# let's have a look at the first 3 images, stored in the `images`\n",
    "# attribute of the dataset. If we were working from image files, we\n",
    "# could load them using pylab.imread. For these images know which\n",
    "# digit they represent: it is given in the 'target' of the dataset.\n",
    "for index, (image, label) in enumerate(zip(digits.images, digits.target)):\n",
    "    if index>7: break\n",
    "    plt.subplot(2, 4, index + 1)\n",
    "    plt.axis('off')\n",
    "    plt.imshow(image, cmap=pl.cm.gray_r, interpolation='nearest')\n",
    "    plt.title('Training: %i' % label)\n"
   ]
  },
  {
   "cell_type": "markdown",
   "id": "4ad605e0-3e6a-4332-9dfc-2664d3c4a457",
   "metadata": {},
   "source": [
    "Chacune des images est 8x8. Si on les redimensionne en vecteurs, quelle est la taille du vecteur correspondant ? Est-il raisonnable de définir et utiliser une matrice de corrélation non diagonale dans le modèle ? (et ce sont de très petites images...). "
   ]
  },
  {
   "cell_type": "markdown",
   "id": "934589f0-810e-4da2-94b6-b68da2f1ab05",
   "metadata": {},
   "source": [
    "- Créer une matrice `data` contenant ces vecteurs. \n",
    "- A partir de cette matrice, créer une base `(X_train, y_train)` pour l'apprentissage à partir de la moitié des données, et une base de test `(X_test, y_test)` à partir de l'autre moitié"
   ]
  },
  {
   "cell_type": "code",
   "execution_count": null,
   "id": "4c357785-765c-44d4-aee9-9f30898cccf3",
   "metadata": {},
   "outputs": [],
   "source": []
  },
  {
   "cell_type": "markdown",
   "id": "018b6b0f-b0a0-4c85-b830-50ebbf7ebe0b",
   "metadata": {},
   "source": [
    "- Instancier un classificateur bayes gaussien naïf `GaussianNB`. Nommer `classifier` ce classifieur. \n",
    "- Apprendre le modèle sur (X_train, y_train)` \n",
    "- Effectuer les prédictions sur le test\n",
    "- Calculer la matrice de confusion sur ces prédictions, par rapport aux véritables valeurs `y_test`. Que pensez-vous de ces résultats ?"
   ]
  },
  {
   "cell_type": "code",
   "execution_count": null,
   "id": "a402e2f8-2418-47c1-a5bf-071c36d4fe35",
   "metadata": {},
   "outputs": [],
   "source": [
    "from sklearn.naive_bayes import GaussianNB\n",
    "from sklearn.metrics import confusion_matrix"
   ]
  },
  {
   "cell_type": "code",
   "execution_count": null,
   "id": "2c536335-68f6-42ca-9510-3eec348aa486",
   "metadata": {},
   "outputs": [],
   "source": [
    "# Create a classifier: a naive Gauss classifier\n",
    "classifier = ...\n",
    "\n",
    "# We learn the digits on the first half of the digits\n",
    "classifier.fit(..., ...)\n",
    "\n",
    "# Now predict the value of the digit on the second half:\n",
    "predicted = classifier.predict(...)\n",
    "\n",
    "print(\"Confusion matrix:\\n%s\" % ...)"
   ]
  },
  {
   "cell_type": "markdown",
   "id": "6026b38d-7849-4138-82d3-550f54a5fbc4",
   "metadata": {},
   "source": [
    "Exécuter le code suivant (éventuellement plusieurs fois) pour visualiser des prédictions sur des éléments pris au hasard"
   ]
  },
  {
   "cell_type": "code",
   "execution_count": null,
   "id": "ce08e352-47bf-4717-90d6-dd95a7d9c550",
   "metadata": {},
   "outputs": [],
   "source": [
    "#take 8 examples at random (jfb)\n",
    "I = np.random.choice(int(n_samples // 2), size=8, replace=False)\n",
    "data_test = X_test[I] # we are indeed in the test sample (these data have not been used to learn)\n",
    "data_test_target = y_test[I]\n",
    "\n",
    "for index, (image, label) in enumerate(zip(data_test, data_test_target)):\n",
    "    plt.subplot(2, 4, index + 1)\n",
    "    plt.axis('off')\n",
    "    plt.imshow(image.reshape(8, 8), cmap=pl.cm.gray_r, \n",
    "               interpolation='nearest')\n",
    "    plt.title('Prediction: {0} \\n (true: {1})'.format(\n",
    "        int(classifier.predict(image.reshape(1, -1))), label))"
   ]
  },
  {
   "cell_type": "code",
   "execution_count": null,
   "id": "33af704c-9bfa-41d4-a65d-89078b3b4676",
   "metadata": {},
   "outputs": [],
   "source": []
  },
  {
   "cell_type": "code",
   "execution_count": null,
   "id": "af49f7b2-0ea5-41ef-85ff-4393d8a015ad",
   "metadata": {},
   "outputs": [],
   "source": []
  },
  {
   "cell_type": "markdown",
   "id": "9f253492-67b9-4b08-ac40-63cce63e73aa",
   "metadata": {
    "tags": []
   },
   "source": [
    "## Affairs data (Optionnel)"
   ]
  },
  {
   "cell_type": "markdown",
   "id": "566bc9ca-6393-4a53-9490-49325c6ebf2e",
   "metadata": {},
   "source": [
    "Ce notebook est inspiré des exemples [1](https://github.com/jseabold/pydc) et [2](http://nbviewer.ipython.org/github/justmarkham/gadsdc1/blob/master/logistic_assignment/kevin_logistic_sklearn.ipynb). "
   ]
  },
  {
   "cell_type": "markdown",
   "id": "464d5795-6c34-41ee-946a-7912cc0e2f49",
   "metadata": {},
   "source": [
    "**Données** -- \n",
    "Les données étudiées sont le \"affairs dataset\" fourni avec Statsmodels. les données initiales sont disponibles [ici](http://fairmodel.econ.yale.edu/vote2012/affairs.txt) et analysées dans l'[article](http://fairmodel.econ.yale.edu/rayfair/pdf/1978a200.pdf) du Journal of Political Economy(1978). Les données ont été recueillies lors d'une étude menée en 1974, par le magazine Redbook, lors de laquelle des femmes ont été interrogées sur tout un tas de choses, dont leur participation à des extramarital affairs (adultère). \n",
    "\n",
    "Les données contiennent 6366 observations avec 9 variables :\n",
    "\n",
    "- rate_marriage: woman's rating of her marriage (1 = very poor, 5 = very good)\n",
    "- age: woman's age\n",
    "- yrs_married: number of years married\n",
    "- children: number of children\n",
    "- religious: woman's rating of how religious she is (1 = not religious, 4 = strongly religious)\n",
    "- educ: level of education (9 = grade school, 12 = high school, 14 = some college, 16 = college graduate, 17 = some graduate school, 20 = advanced degree)\n",
    "- occupation: woman's occupation (1 = student, 2 = farming/semi-skilled/unskilled, 3 = \"white collar\", 4 = teacher/nurse/writer/technician/skilled, 5 = managerial/business, 6 = professional with advanced degree)\n",
    "- occupation_husb: husband's occupation (same coding as above)\n",
    "- affairs: time spent in extra-marital affairs\n"
   ]
  },
  {
   "cell_type": "code",
   "execution_count": null,
   "id": "3da8b66f-874e-4a92-8397-57403cf1b3f4",
   "metadata": {},
   "outputs": [],
   "source": [
    "import numpy as np\n",
    "import pandas as pd\n",
    "import statsmodels.api as sm\n",
    "import matplotlib.pyplot as plt\n",
    "#\n",
    "\n",
    "from sklearn.model_selection import train_test_split\n",
    "from sklearn import metrics"
   ]
  },
  {
   "cell_type": "markdown",
   "id": "de3ebde5-fdb3-4dc7-9d4d-1153666bc7c5",
   "metadata": {},
   "source": [
    "### Préparation"
   ]
  },
  {
   "cell_type": "code",
   "execution_count": null,
   "id": "c4bd4df0-3482-4a21-bcf3-8fefb81c535e",
   "metadata": {},
   "outputs": [],
   "source": [
    "# load dataset\n",
    "dta = sm.datasets.fair.load_pandas().data"
   ]
  },
  {
   "cell_type": "markdown",
   "id": "69981aff-5a3f-43d2-aba5-895533bb854b",
   "metadata": {},
   "source": [
    "Description du tableau"
   ]
  },
  {
   "cell_type": "code",
   "execution_count": null,
   "id": "67cf81f5-970e-47c7-8ee6-6b78fcd434a3",
   "metadata": {},
   "outputs": [],
   "source": [
    "..."
   ]
  },
  {
   "cell_type": "markdown",
   "id": "e2ca40f3-1597-4dea-9a7d-014a8c9632de",
   "metadata": {},
   "source": [
    "On crée une variable binaire: il y a tromperie ou non."
   ]
  },
  {
   "cell_type": "code",
   "execution_count": null,
   "id": "32703d3a-4092-410d-9b50-568638d10e9a",
   "metadata": {},
   "outputs": [],
   "source": [
    "# add \"affair\" column: 1 represents having affairs, 0 represents not\n",
    "dta['affair'] = (dta.affairs > 0).astype(int)"
   ]
  },
  {
   "cell_type": "markdown",
   "id": "f6c1c8d3-e6e8-4498-9f30-569035b0852b",
   "metadata": {},
   "source": [
    "Analyse rapide des tromperies"
   ]
  },
  {
   "cell_type": "code",
   "execution_count": null,
   "id": "cbf714ca-d7be-4938-b88a-4a76a5f855df",
   "metadata": {},
   "outputs": [],
   "source": [
    "dta.groupby('affair').mean()"
   ]
  },
  {
   "cell_type": "markdown",
   "id": "dd6225c9-c295-4526-956c-d6fe033c7792",
   "metadata": {},
   "source": [
    "Quand il y a tromperie, le mariage est noté plus faible (attention à la notion de causalité). "
   ]
  },
  {
   "cell_type": "markdown",
   "id": "6c812201-5a08-4555-88bb-c31ad07d007d",
   "metadata": {},
   "source": [
    "Autre vision (à nouveau, attention à la causalité)"
   ]
  },
  {
   "cell_type": "code",
   "execution_count": null,
   "id": "065e1c50-d54d-44aa-aa5c-83b218b5f817",
   "metadata": {},
   "outputs": [],
   "source": [
    "dta.groupby('rate_marriage').mean()"
   ]
  },
  {
   "cell_type": "markdown",
   "id": "cec152e6-3c7c-432a-bf9c-f23b578a7df0",
   "metadata": {},
   "source": [
    "Encoder les variables catégorielles (qualitatives/non quantitatives) et créer un nouveau dataframe. Vous pourrez utiliser `pd.get_dummies`ou un `ÒneHotEncoder`. "
   ]
  },
  {
   "cell_type": "code",
   "execution_count": null,
   "id": "2fdfde96-f70c-4adc-af5a-ad8e740c5eac",
   "metadata": {},
   "outputs": [],
   "source": [
    "..."
   ]
  },
  {
   "cell_type": "code",
   "execution_count": null,
   "id": "43acbc7d-1fa6-4530-9abc-9ced0f4fb969",
   "metadata": {},
   "outputs": [],
   "source": [
    "..."
   ]
  },
  {
   "cell_type": "code",
   "execution_count": null,
   "id": "dd949797-a72e-4ad3-a67a-c0d00680c13b",
   "metadata": {},
   "outputs": [],
   "source": [
    ".."
   ]
  },
  {
   "cell_type": "markdown",
   "id": "3cb9436d-f74b-489b-8550-90b3a01286c9",
   "metadata": {},
   "source": [
    "### Discrimination"
   ]
  },
  {
   "cell_type": "markdown",
   "id": "4e868fe0-d243-4c2c-aeb1-38ff8ab4a51d",
   "metadata": {},
   "source": [
    "Ensuite c'est très facile : on instancie un modèle (par exemple LDA), on \"fit\", on regarde le score"
   ]
  },
  {
   "cell_type": "code",
   "execution_count": null,
   "id": "028176c5-4e5d-401e-bd6a-b1d6bc9c3db9",
   "metadata": {},
   "outputs": [],
   "source": [
    "#\n",
    "model = ..\n",
    "X_train, X_test, y_train, y_test = train_test_split(dataset,y)\n",
    "\n",
    "res = model.fit(...)\n",
    "#\n",
    "#score - quel score obtenu sur test?\n",
    "model.score(...)"
   ]
  },
  {
   "cell_type": "markdown",
   "id": "852b9584-db67-4029-a36e-3be7507df210",
   "metadata": {},
   "source": [
    "Les coefficients obtenus sont les suivants"
   ]
  },
  {
   "cell_type": "code",
   "execution_count": null,
   "id": "742fadd3-0312-41ad-8b29-06ea80a12c1a",
   "metadata": {},
   "outputs": [],
   "source": [
    "res.coef_"
   ]
  },
  {
   "cell_type": "markdown",
   "id": "42dac09e-be8f-4f4f-b7a0-98cda461c50d",
   "metadata": {},
   "source": [
    "On relie les coefficients aux variables. Interprétations ?"
   ]
  },
  {
   "cell_type": "code",
   "execution_count": null,
   "id": "625e9e33-b06c-48a0-b0ec-e997bea1495b",
   "metadata": {},
   "outputs": [],
   "source": [
    "pd.DataFrame(res.coef_, columns=dataset.columns)"
   ]
  },
  {
   "cell_type": "markdown",
   "id": "a4a015c0-35cb-4406-a94e-ff2f62e221e5",
   "metadata": {},
   "source": [
    "mariage bien noté, proba dune \"affaire\" diminue, \n",
    "plus sentiment religieux, plus la proba d'affaire diminue\n",
    "plus occupation 1 (étudiant), plus la proba diminue\n",
    "plus occupation 6, plus la proba augmente"
   ]
  },
  {
   "cell_type": "markdown",
   "id": "4b1855db-70ea-4a57-b7ba-0d424a70bd0e",
   "metadata": {},
   "source": [
    "On peut prédire :"
   ]
  },
  {
   "cell_type": "code",
   "execution_count": null,
   "id": "0b18b79d-5636-4438-8a6f-4728f802c368",
   "metadata": {},
   "outputs": [],
   "source": [
    "age= 22\n",
    "children= 8\n",
    "educ= 16\n",
    "occup_h_1=0\n",
    "occup_h_2=0\n",
    "occup_h_3=0 \n",
    "occup_h_4=1\n",
    "occup_h_5=0 \n",
    "occup_h_6=0\n",
    "occupation_1= 0\n",
    "occupation_2= 0\n",
    "occupation_3= 1\n",
    "occupation_4= 0\n",
    "occupation_5=0\n",
    "occupation_6= 0\n",
    "rate_marriage= 4\n",
    "religious = 5\n",
    "yrs_married= 7\n",
    "\n",
    "test=[rate_marriage, age, yrs_married, children, religious, educ, occupation_1, occupation_2, occupation_3, occupation_4,occupation_5,\n",
    "occupation_6, occup_h_1, occup_h_2,occup_h_3, occup_h_4, occup_h_5,\n",
    "occup_h_6]"
   ]
  },
  {
   "cell_type": "code",
   "execution_count": null,
   "id": "d63132e5-d19c-4b2d-8919-8b7beb4fbe95",
   "metadata": {},
   "outputs": [],
   "source": [
    "\n",
    "print(\"proba d'avoir une 'affaire' : \", \n",
    "     ...)"
   ]
  },
  {
   "cell_type": "code",
   "execution_count": null,
   "id": "e2c9db7a-5d37-41ad-af02-bba56e0308c7",
   "metadata": {},
   "outputs": [],
   "source": []
  },
  {
   "cell_type": "code",
   "execution_count": null,
   "id": "bb55134d-b539-4196-851c-b79f78ffb11f",
   "metadata": {},
   "outputs": [],
   "source": []
  }
 ],
 "metadata": {
  "kernelspec": {
   "display_name": "Python 3 (ipykernel)",
   "language": "python",
   "name": "python3"
  },
  "language_info": {
   "codemirror_mode": {
    "name": "ipython",
    "version": 3
   },
   "file_extension": ".py",
   "mimetype": "text/x-python",
   "name": "python",
   "nbconvert_exporter": "python",
   "pygments_lexer": "ipython3",
   "version": "3.9.13"
  },
  "toc-autonumbering": false,
  "toc-showtags": false
 },
 "nbformat": 4,
 "nbformat_minor": 5
}
