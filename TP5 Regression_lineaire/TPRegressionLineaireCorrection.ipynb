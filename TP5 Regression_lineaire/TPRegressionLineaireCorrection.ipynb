{
 "cells": [
  {
   "cell_type": "markdown",
   "metadata": {},
   "source": [
    "# <center>Régression linéaire</center>\n",
    "<center>Prédiction du prix d'un vin</center>"
   ]
  },
  {
   "cell_type": "markdown",
   "metadata": {},
   "source": [
    "*Objectifs* : \n",
    "\n",
    "Ce TP a pour but de mettre en oeuvre les méthodes relatives à la régression linéaire étudiées en cours afin de prédire la qualité d'un vin. Plus particulièrement :\n",
    "- Identifier les variables explicatives pertinentes.\n",
    "- Identifier les dépendance non-linéaires entre réponse et prédicteurs.\n",
    "- Identifier les interactions entre prédicteurs.\n",
    "- Evaluer la qualité du modèle linéaire.\n",
    "- Faire des prédictions à partir du modèle linéaire."
   ]
  },
  {
   "cell_type": "markdown",
   "metadata": {},
   "source": [
    "Dans cette séance, les librairies suivantes seront utilisées : installez-les si nécessaire et chargez-les"
   ]
  },
  {
   "cell_type": "code",
   "execution_count": 1,
   "metadata": {},
   "outputs": [],
   "source": [
    "import pandas as pd\n",
    "import numpy as np\n",
    "import seaborn as sns\n",
    "from matplotlib import pyplot as plt\n",
    "from mpl_toolkits.mplot3d import axes3d\n",
    "from sklearn.linear_model import LinearRegression\n",
    "from sklearn.metrics import r2_score"
   ]
  },
  {
   "cell_type": "markdown",
   "metadata": {},
   "source": [
    "## Table des matières\n",
    "\n",
    "<p><div class=\"lev1\"><a href=\"#1-Introduction-:-présentation-du-jeu-de données-et-analyse-préliminaire\"><span class=\"toc-item-num\">1 - </span>Introduction : présentation du jeu de données et analyse préliminaire</a></div>\n",
    "<p><div class=\"lev1\"><a href=\"#2-Régression-linéaire-simple\"><span class=\"toc-item-num\">2 - </span>Régression linéaire simple</a></div>\n",
    "<p><div class=\"lev1\"><a href=\"#3-Régression-linéaire-multivariée\"><span class=\"toc-item-num\">3 - </span>Régression linéaire multivariée</a></div>\n",
    "<p><div class=\"lev1\"><a href=\"#4-Recherche-de-colinéarité\"><span class=\"toc-item-num\">4 - </span>Recherche de colinéarité</a></div>\n",
    "<p><div class=\"lev1\"><a href=\"#5-Terme-d'interaction\"><span class=\"toc-item-num\">5 - </span>Terme d'interaction</a></div>\n",
    "<p><div class=\"lev1\"><a href=\"#6-Représentation-diagnostic-et-intervalles-de-confiance\"><span class=\"toc-item-num\">6 - </span>Représentation diagnostic et intervalles de confiance</a></div>\n",
    "<p><div class=\"lev1\"><a href=\"#7-Nouvelles-prédictions\"><span class=\"toc-item-num\">7 - </span>Nouvelles prédictions</a></div>\n",
    "<p><div class=\"lev1\"><a href=\"#Annexe\"><span class=\"toc-item-num\"></span>Annexe</a></div>"
   ]
  },
  {
   "cell_type": "markdown",
   "metadata": {},
   "source": [
    "## 1 Introduction : présentation du jeu de données et analyse préliminaire\n",
    "\n",
    "Ce problème reprend des données et un modèle ayant donné lieu à une intense polémique : en mars\n",
    "1990, Orley Ashenfelter, un professeur d’économie de Princeton publie un article affirmant que l’on peut\n",
    "prédire la qualité du vin, et son prix, sans même le goûter, à partir d’une formule mathématique. Scandale\n",
    "chez les experts de l’œnologie : “Ashenfelter is an absolute total sham” ou “rather like a movie critic who\n",
    "never goes to see the movie but tells you how good it is based on the actors and the director”. Dans les\n",
    "faits, la “Bordeaux-formula” donne des résultats intéressants qui parfois dépassent les prévisions des\n",
    "experts. L’approche analytique est maintenant lentement adoptée par la communauté. \n",
    "\n",
    "Ces données proviennent du site de [Ashenfelter, Liquid Assets](http://liquidasset.com/). Elles comprennent $25$ observations et $7$ variables.\n",
    "\n",
    "|Nom  |Description|\n",
    "|-----|-----------|\n",
    "|Year  |Année de production du vin |\n",
    "|Price|prix de vente (une approximation de la qualité du vin) en 1990|\n",
    "|WinterRain|Précipitations pendant l’hiver|\n",
    "| AGST|Average Growing Season Temperature|\n",
    "|      |Température moyenne pendant la croissance|\n",
    "|HarvestRain|Précipitations pendant l'été|\n",
    "|Age|âge du vin (en général les vins les plus anciens sont plus chers)|\n",
    "|FrancePop|Population française|\n",
    "\n",
    "La variable dépendante est 'Price'.\n",
    "\n",
    "Les variables indépendantes sont 'Year', 'WinterRain', 'AGST', 'HarvestRain', 'Age', 'FrancePop'."
   ]
  },
  {
   "cell_type": "markdown",
   "metadata": {},
   "source": [
    "><u>Tâche 1</u>. Chargez les données. Examinez quelles sont les caractéristiques des variables du jeu de données."
   ]
  },
  {
   "cell_type": "code",
   "execution_count": 2,
   "metadata": {},
   "outputs": [],
   "source": [
    "data=pd.read_csv(\"wine.csv\")"
   ]
  },
  {
   "cell_type": "code",
   "execution_count": 3,
   "metadata": {},
   "outputs": [
    {
     "data": {
      "text/plain": [
       "(25, 7)"
      ]
     },
     "execution_count": 3,
     "metadata": {},
     "output_type": "execute_result"
    }
   ],
   "source": [
    "data.shape"
   ]
  },
  {
   "cell_type": "code",
   "execution_count": 4,
   "metadata": {},
   "outputs": [
    {
     "data": {
      "text/html": [
       "<div>\n",
       "<style scoped>\n",
       "    .dataframe tbody tr th:only-of-type {\n",
       "        vertical-align: middle;\n",
       "    }\n",
       "\n",
       "    .dataframe tbody tr th {\n",
       "        vertical-align: top;\n",
       "    }\n",
       "\n",
       "    .dataframe thead th {\n",
       "        text-align: right;\n",
       "    }\n",
       "</style>\n",
       "<table border=\"1\" class=\"dataframe\">\n",
       "  <thead>\n",
       "    <tr style=\"text-align: right;\">\n",
       "      <th></th>\n",
       "      <th>Year</th>\n",
       "      <th>Price</th>\n",
       "      <th>WinterRain</th>\n",
       "      <th>AGST</th>\n",
       "      <th>HarvestRain</th>\n",
       "      <th>Age</th>\n",
       "      <th>FrancePop</th>\n",
       "    </tr>\n",
       "  </thead>\n",
       "  <tbody>\n",
       "    <tr>\n",
       "      <th>0</th>\n",
       "      <td>1952</td>\n",
       "      <td>7.4950</td>\n",
       "      <td>600</td>\n",
       "      <td>17.1167</td>\n",
       "      <td>160</td>\n",
       "      <td>31</td>\n",
       "      <td>43183.569</td>\n",
       "    </tr>\n",
       "    <tr>\n",
       "      <th>1</th>\n",
       "      <td>1953</td>\n",
       "      <td>8.0393</td>\n",
       "      <td>690</td>\n",
       "      <td>16.7333</td>\n",
       "      <td>80</td>\n",
       "      <td>30</td>\n",
       "      <td>43495.030</td>\n",
       "    </tr>\n",
       "    <tr>\n",
       "      <th>2</th>\n",
       "      <td>1955</td>\n",
       "      <td>7.6858</td>\n",
       "      <td>502</td>\n",
       "      <td>17.1500</td>\n",
       "      <td>130</td>\n",
       "      <td>28</td>\n",
       "      <td>44217.857</td>\n",
       "    </tr>\n",
       "    <tr>\n",
       "      <th>3</th>\n",
       "      <td>1957</td>\n",
       "      <td>6.9845</td>\n",
       "      <td>420</td>\n",
       "      <td>16.1333</td>\n",
       "      <td>110</td>\n",
       "      <td>26</td>\n",
       "      <td>45152.252</td>\n",
       "    </tr>\n",
       "    <tr>\n",
       "      <th>4</th>\n",
       "      <td>1958</td>\n",
       "      <td>6.7772</td>\n",
       "      <td>582</td>\n",
       "      <td>16.4167</td>\n",
       "      <td>187</td>\n",
       "      <td>25</td>\n",
       "      <td>45653.805</td>\n",
       "    </tr>\n",
       "  </tbody>\n",
       "</table>\n",
       "</div>"
      ],
      "text/plain": [
       "   Year   Price  WinterRain     AGST  HarvestRain  Age  FrancePop\n",
       "0  1952  7.4950         600  17.1167          160   31  43183.569\n",
       "1  1953  8.0393         690  16.7333           80   30  43495.030\n",
       "2  1955  7.6858         502  17.1500          130   28  44217.857\n",
       "3  1957  6.9845         420  16.1333          110   26  45152.252\n",
       "4  1958  6.7772         582  16.4167          187   25  45653.805"
      ]
     },
     "execution_count": 4,
     "metadata": {},
     "output_type": "execute_result"
    }
   ],
   "source": [
    "data.head()"
   ]
  },
  {
   "cell_type": "code",
   "execution_count": 5,
   "metadata": {},
   "outputs": [
    {
     "data": {
      "text/html": [
       "<div>\n",
       "<style scoped>\n",
       "    .dataframe tbody tr th:only-of-type {\n",
       "        vertical-align: middle;\n",
       "    }\n",
       "\n",
       "    .dataframe tbody tr th {\n",
       "        vertical-align: top;\n",
       "    }\n",
       "\n",
       "    .dataframe thead th {\n",
       "        text-align: right;\n",
       "    }\n",
       "</style>\n",
       "<table border=\"1\" class=\"dataframe\">\n",
       "  <thead>\n",
       "    <tr style=\"text-align: right;\">\n",
       "      <th></th>\n",
       "      <th>Year</th>\n",
       "      <th>Price</th>\n",
       "      <th>WinterRain</th>\n",
       "      <th>AGST</th>\n",
       "      <th>HarvestRain</th>\n",
       "      <th>Age</th>\n",
       "      <th>FrancePop</th>\n",
       "    </tr>\n",
       "  </thead>\n",
       "  <tbody>\n",
       "    <tr>\n",
       "      <th>count</th>\n",
       "      <td>25.000000</td>\n",
       "      <td>25.000000</td>\n",
       "      <td>25.000000</td>\n",
       "      <td>25.000000</td>\n",
       "      <td>25.000000</td>\n",
       "      <td>25.000000</td>\n",
       "      <td>25.000000</td>\n",
       "    </tr>\n",
       "    <tr>\n",
       "      <th>mean</th>\n",
       "      <td>1965.800000</td>\n",
       "      <td>7.067224</td>\n",
       "      <td>605.280000</td>\n",
       "      <td>16.509336</td>\n",
       "      <td>148.560000</td>\n",
       "      <td>17.200000</td>\n",
       "      <td>49694.436760</td>\n",
       "    </tr>\n",
       "    <tr>\n",
       "      <th>std</th>\n",
       "      <td>7.691987</td>\n",
       "      <td>0.650341</td>\n",
       "      <td>132.277965</td>\n",
       "      <td>0.675397</td>\n",
       "      <td>74.419464</td>\n",
       "      <td>7.691987</td>\n",
       "      <td>3665.270243</td>\n",
       "    </tr>\n",
       "    <tr>\n",
       "      <th>min</th>\n",
       "      <td>1952.000000</td>\n",
       "      <td>6.204900</td>\n",
       "      <td>376.000000</td>\n",
       "      <td>14.983300</td>\n",
       "      <td>38.000000</td>\n",
       "      <td>5.000000</td>\n",
       "      <td>43183.569000</td>\n",
       "    </tr>\n",
       "    <tr>\n",
       "      <th>25%</th>\n",
       "      <td>1960.000000</td>\n",
       "      <td>6.518800</td>\n",
       "      <td>536.000000</td>\n",
       "      <td>16.200000</td>\n",
       "      <td>89.000000</td>\n",
       "      <td>11.000000</td>\n",
       "      <td>46583.995000</td>\n",
       "    </tr>\n",
       "    <tr>\n",
       "      <th>50%</th>\n",
       "      <td>1966.000000</td>\n",
       "      <td>7.121100</td>\n",
       "      <td>600.000000</td>\n",
       "      <td>16.533300</td>\n",
       "      <td>130.000000</td>\n",
       "      <td>17.000000</td>\n",
       "      <td>50254.966000</td>\n",
       "    </tr>\n",
       "    <tr>\n",
       "      <th>75%</th>\n",
       "      <td>1972.000000</td>\n",
       "      <td>7.495000</td>\n",
       "      <td>697.000000</td>\n",
       "      <td>17.066700</td>\n",
       "      <td>187.000000</td>\n",
       "      <td>23.000000</td>\n",
       "      <td>52894.183000</td>\n",
       "    </tr>\n",
       "    <tr>\n",
       "      <th>max</th>\n",
       "      <td>1978.000000</td>\n",
       "      <td>8.493700</td>\n",
       "      <td>830.000000</td>\n",
       "      <td>17.650000</td>\n",
       "      <td>292.000000</td>\n",
       "      <td>31.000000</td>\n",
       "      <td>54602.193000</td>\n",
       "    </tr>\n",
       "  </tbody>\n",
       "</table>\n",
       "</div>"
      ],
      "text/plain": [
       "              Year      Price  WinterRain       AGST  HarvestRain        Age  \\\n",
       "count    25.000000  25.000000   25.000000  25.000000    25.000000  25.000000   \n",
       "mean   1965.800000   7.067224  605.280000  16.509336   148.560000  17.200000   \n",
       "std       7.691987   0.650341  132.277965   0.675397    74.419464   7.691987   \n",
       "min    1952.000000   6.204900  376.000000  14.983300    38.000000   5.000000   \n",
       "25%    1960.000000   6.518800  536.000000  16.200000    89.000000  11.000000   \n",
       "50%    1966.000000   7.121100  600.000000  16.533300   130.000000  17.000000   \n",
       "75%    1972.000000   7.495000  697.000000  17.066700   187.000000  23.000000   \n",
       "max    1978.000000   8.493700  830.000000  17.650000   292.000000  31.000000   \n",
       "\n",
       "          FrancePop  \n",
       "count     25.000000  \n",
       "mean   49694.436760  \n",
       "std     3665.270243  \n",
       "min    43183.569000  \n",
       "25%    46583.995000  \n",
       "50%    50254.966000  \n",
       "75%    52894.183000  \n",
       "max    54602.193000  "
      ]
     },
     "execution_count": 5,
     "metadata": {},
     "output_type": "execute_result"
    }
   ],
   "source": [
    "data.describe()"
   ]
  },
  {
   "cell_type": "code",
   "execution_count": 6,
   "metadata": {},
   "outputs": [
    {
     "data": {
      "text/plain": [
       "0"
      ]
     },
     "execution_count": 6,
     "metadata": {},
     "output_type": "execute_result"
    }
   ],
   "source": [
    "data.isna().sum().sum()"
   ]
  },
  {
   "cell_type": "code",
   "execution_count": 7,
   "metadata": {},
   "outputs": [
    {
     "data": {
      "text/plain": [
       "array([43183.569, 43495.03 , 44217.857, 45152.252, 45653.805, 46128.638,\n",
       "       46583.995, 47128.005, 48088.673, 48798.99 , 49356.943, 49801.821,\n",
       "       50254.966, 50650.406, 51034.413, 51470.276, 51918.389, 52431.647,\n",
       "       52894.183, 53332.805, 53689.61 , 53955.042, 54159.049, 54378.362,\n",
       "       54602.193])"
      ]
     },
     "execution_count": 7,
     "metadata": {},
     "output_type": "execute_result"
    }
   ],
   "source": [
    "data['FrancePop'].values"
   ]
  },
  {
   "cell_type": "markdown",
   "metadata": {},
   "source": [
    "><u>Commentaires</u>. On remarque qu'il n'y a pas de données manquantes. La variable 'FrancePop' est mal formatée (à multiplier par un facteur $10^3$ pour avoir les bons ordres de grandeur)."
   ]
  },
  {
   "cell_type": "markdown",
   "metadata": {},
   "source": [
    "><u>Tâche 2</u>. Regardez la corrélation entre :\n",
    ">- 'AGST' et 'PRICE' d'une part et entre 'AGST' et log('PRICE') d'autre part,\n",
    ">- 'HarvestRain' et 'PRICE' d'une part et entre 'HarvestRain' et log('PRICE') d'autre part.\n",
    ">\n",
    "> A l'aide de la fonction <span style=\"border:1px; border-style:solid\">skew</span>, regardez le coefficent d'asymétrie de 'Price'."
   ]
  },
  {
   "cell_type": "code",
   "execution_count": 8,
   "metadata": {},
   "outputs": [
    {
     "data": {
      "text/plain": [
       "<matplotlib.axes._subplots.AxesSubplot at 0x7f2d694f1c50>"
      ]
     },
     "execution_count": 8,
     "metadata": {},
     "output_type": "execute_result"
    },
    {
     "data": {
      "image/png": "[encoded data removed]",
      "text/plain": [
       "<Figure size 432x288 with 2 Axes>"
      ]
     },
     "metadata": {
      "needs_background": "light"
     },
     "output_type": "display_data"
    }
   ],
   "source": [
    "data['log_price']=np.log(data['Price'])\n",
    "corr = data.corr()\n",
    "sns.heatmap(corr, vmin=-1, vmax=1,annot=True)"
   ]
  },
  {
   "cell_type": "code",
   "execution_count": 9,
   "metadata": {},
   "outputs": [
    {
     "name": "stdout",
     "output_type": "stream",
     "text": [
      "0.369119560072439\n",
      "0.21812050635665506\n"
     ]
    }
   ],
   "source": [
    "print(data['Price'].skew())\n",
    "print(data['log_price'].skew())"
   ]
  },
  {
   "cell_type": "markdown",
   "metadata": {},
   "source": [
    "Dans la suite, nous utiliserons donc la transformation logarithmique de la variable à prédire."
   ]
  },
  {
   "cell_type": "markdown",
   "metadata": {},
   "source": [
    "><u>Tâche 3</u>. Tracer le logarithme du prix de vente en fonction de\n",
    "'AGST' d'une part puis de 'HarvestRain'. Qu'en déduisez-vous sur les relations entre ces variables ?"
   ]
  },
  {
   "cell_type": "code",
   "execution_count": 10,
   "metadata": {},
   "outputs": [
    {
     "data": {
      "image/png": "[encoded data removed]",
      "text/plain": [
       "<Figure size 576x360 with 2 Axes>"
      ]
     },
     "metadata": {
      "needs_background": "light"
     },
     "output_type": "display_data"
    }
   ],
   "source": [
    "sns.pairplot(data, x_vars=[\"AGST\",\"HarvestRain\"], y_vars=[\"log_price\"],height=5, aspect=.8, kind=\"reg\");"
   ]
  },
  {
   "cell_type": "markdown",
   "metadata": {},
   "source": [
    "<div class=\"lev1\"><a href=\"#Table-des-matières\"><span class=\"toc-item-num\"></span>Retour à la table des matières</a></div>"
   ]
  },
  {
   "cell_type": "markdown",
   "metadata": {},
   "source": [
    "## 2 Régression linéaire simple\n",
    "\n",
    "><u>Tâche 4</u>. Quel est le modèle *baseline* par défaut (le modèle prédictif construit sans aucune variables explicatives) ? On l'appelle <span style=\"border:1px; border-style:solid\">model0</span>. \n",
    ">\n",
    ">Effectuer une première régression <span style=\"border:1px; border-style:solid\">model1</span> du (logarithme du) prix en fonction de AGST. Utiliser pour cela la fonction <span style=\"border:1px; border-style:solid\">LinearRegressor</span> se trouvant dans <u>sklearn.linear_model</u>. \n",
    ">    \n",
    "> Calculer le RSS pour ce modèle et comparez le au RSS du modèle baseline (il s'agit alors du TSS). \n",
    ">\n",
    ">Déduisez-en le $R^2$ du modèle, et comparez\n",
    "le à celui qui est fourni par la fonction <span style=\"border:1px; border-style:solid\">r2_score</span> qui se trouve dans <u>sklearn.metrics</u>.\n",
    ">\n",
    "> Calculer le residual standard eror (RSE) des deux modèles."
   ]
  },
  {
   "cell_type": "code",
   "execution_count": 10,
   "metadata": {},
   "outputs": [],
   "source": [
    "y=data['log_price']"
   ]
  },
  {
   "cell_type": "code",
   "execution_count": 11,
   "metadata": {},
   "outputs": [
    {
     "name": "stdout",
     "output_type": "stream",
     "text": [
      "0.19964647667257596\n"
     ]
    }
   ],
   "source": [
    "#Modèle baseline\n",
    "y_pred_baseline=y.mean()\n",
    "TSS=sum( (y-y_pred_baseline)**2)\n",
    "print(TSS)"
   ]
  },
  {
   "cell_type": "code",
   "execution_count": 12,
   "metadata": {},
   "outputs": [
    {
     "name": "stdout",
     "output_type": "stream",
     "text": [
      "[0.08995136]\n",
      "0.46641576624792114\n",
      "0.11106462827059727\n"
     ]
    }
   ],
   "source": [
    "#Modèle 1\n",
    "regr_simple=LinearRegression()\n",
    "X_simple=data[['AGST']]\n",
    "regr_simple.fit(X_simple,y)\n",
    "print(regr_simple.coef_)\n",
    "print(regr_simple.intercept_)\n",
    "y_pred_simple=regr_simple.predict(X_simple)\n",
    "RSS_simple=sum( (y-y_pred_simple)**2)\n",
    "print(RSS_simple)"
   ]
  },
  {
   "cell_type": "code",
   "execution_count": 13,
   "metadata": {},
   "outputs": [
    {
     "name": "stdout",
     "output_type": "stream",
     "text": [
      "0.44369352206127144\n"
     ]
    }
   ],
   "source": [
    "R2=1-RSS_simple/TSS\n",
    "print(R2)"
   ]
  },
  {
   "cell_type": "code",
   "execution_count": 14,
   "metadata": {},
   "outputs": [
    {
     "name": "stdout",
     "output_type": "stream",
     "text": [
      "0.44369352206127133\n"
     ]
    }
   ],
   "source": [
    "R2_autre=r2_score(y,y_pred_simple)\n",
    "print(R2_autre)"
   ]
  },
  {
   "cell_type": "code",
   "execution_count": 15,
   "metadata": {},
   "outputs": [],
   "source": [
    "n=25\n",
    "p=1"
   ]
  },
  {
   "cell_type": "code",
   "execution_count": 16,
   "metadata": {},
   "outputs": [
    {
     "name": "stdout",
     "output_type": "stream",
     "text": [
      "0.04774290210594527\n",
      "0.09316802882137104\n"
     ]
    }
   ],
   "source": [
    "RSE_baseline=np.sqrt( sum((y-y_pred_baseline)**2)/(n-p-1))\n",
    "print(RSE_baseline/np.mean(y))\n",
    "print(RSE_baseline)"
   ]
  },
  {
   "cell_type": "code",
   "execution_count": 17,
   "metadata": {},
   "outputs": [
    {
     "name": "stdout",
     "output_type": "stream",
     "text": [
      "0.03560949978808607\n",
      "0.06949026465146263\n"
     ]
    }
   ],
   "source": [
    "RSE_simple=np.sqrt( sum((y-y_pred_simple)**2)/(n-p-1))\n",
    "print(RSE_simple/np.mean(y))\n",
    "print(RSE_simple)"
   ]
  },
  {
   "cell_type": "markdown",
   "metadata": {},
   "source": [
    "<div class=\"lev1\"><a href=\"#Table-des-matières\"><span class=\"toc-item-num\"></span>Retour à la table des matières</a></div>"
   ]
  },
  {
   "cell_type": "markdown",
   "metadata": {},
   "source": [
    "## 3 Régression linéaire multivariée\n",
    "\n",
    "><u>Tâche 5</u>. Ajouter la nouvelle variable indépendante 'HarvestRain' pour un nouveau modèle <span style=\"border:1px; border-style:solid\">model2</span>. Considérez la nouvelle valeur du $R^2$ : le modèle est il amélioré, cette variable est-elle significative ? Donner à nouveau la valeur du RSE."
   ]
  },
  {
   "cell_type": "code",
   "execution_count": 18,
   "metadata": {},
   "outputs": [
    {
     "name": "stdout",
     "output_type": "stream",
     "text": [
      "0.7202985226007073\n",
      "0.050381009446599165\n"
     ]
    }
   ],
   "source": [
    "#Modèle 2\n",
    "p=2\n",
    "regr_2=LinearRegression()\n",
    "X_2=data[['AGST','HarvestRain']]\n",
    "regr_2.fit(X_2,y)\n",
    "y_pred_2=regr_2.predict(X_2)\n",
    "R2_2=r2_score(y,y_pred_2)\n",
    "print(R2_2)\n",
    "RSE_2=np.sqrt( sum((y-y_pred_2)**2)/(n-p-1))\n",
    "print(RSE_2)"
   ]
  },
  {
   "cell_type": "markdown",
   "metadata": {},
   "source": [
    "><u>Tâche 6</u>. Construire maintenant un modèle avec l'ensemble des variables disponibles. Donnez le $R^2$ et le RSE correspondants."
   ]
  },
  {
   "cell_type": "code",
   "execution_count": 19,
   "metadata": {},
   "outputs": [
    {
     "name": "stdout",
     "output_type": "stream",
     "text": [
      "0.8336335773061088\n",
      "0.042956353900374444\n"
     ]
    }
   ],
   "source": [
    "#Modèle 3\n",
    "p=6\n",
    "regr_tot=LinearRegression()\n",
    "X_tot=data[['Year', 'WinterRain', 'AGST', 'HarvestRain', 'Age', 'FrancePop']]\n",
    "regr_tot.fit(X_tot,y)\n",
    "y_pred_tot=regr_tot.predict(X_tot)\n",
    "R2_tot=r2_score(y,y_pred_tot)\n",
    "print(R2_tot)\n",
    "RSE_tot=np.sqrt( sum((y-y_pred_tot)**2)/(n-p-1))\n",
    "print(RSE_tot)"
   ]
  },
  {
   "cell_type": "markdown",
   "metadata": {},
   "source": [
    "<div class=\"lev1\"><a href=\"#Table-des-matières\"><span class=\"toc-item-num\"></span>Retour à la table des matières</a></div>"
   ]
  },
  {
   "cell_type": "markdown",
   "metadata": {},
   "source": [
    "## 4 Recherche de colinéarité\n",
    "\n",
    "><u>Tâche 7</u>. Les colinarités peuvent impacter négativement les performances du modèle. Repérez-les à l'aide des coefficients de corrélations, des nuages de points et par le raisonnement. Créer un nouveau modèle linéaire sans colinéarité. "
   ]
  },
  {
   "cell_type": "code",
   "execution_count": 20,
   "metadata": {},
   "outputs": [
    {
     "data": {
      "image/png": "[encoded data removed]",
      "text/plain": [
       "<Figure size 864x1080 with 12 Axes>"
      ]
     },
     "metadata": {
      "needs_background": "light"
     },
     "output_type": "display_data"
    }
   ],
   "source": [
    "#on a déjà les corrélations\n",
    "#on trace les nuages de points\n",
    "sns.pairplot(data[['Age','Year','FrancePop']],height=5, aspect=.8, kind=\"reg\");"
   ]
  },
  {
   "cell_type": "markdown",
   "metadata": {},
   "source": [
    "><u>Commentaire</u>. La corrélation ainsi que les nuages de points nous montre que ces variables sont fortement colinéaires. C'était également attendu.\n",
    ">\n",
    ">On ne garde que l'année pour le modèle linéaire."
   ]
  },
  {
   "cell_type": "code",
   "execution_count": 21,
   "metadata": {},
   "outputs": [
    {
     "name": "stdout",
     "output_type": "stream",
     "text": [
      "0.832805201480299\n",
      "0.04085330613453427\n"
     ]
    }
   ],
   "source": [
    "#Modèle 4\n",
    "p=4\n",
    "regr_col=LinearRegression()\n",
    "X_col=data[['Year', 'WinterRain', 'AGST', 'HarvestRain']]\n",
    "regr_col.fit(X_col,y)\n",
    "y_pred_col=regr_col.predict(X_col)\n",
    "R2_col=r2_score(y,y_pred_col)\n",
    "print(R2_col)\n",
    "RSE_col=np.sqrt( sum((y-y_pred_col)**2)/(n-p-1))\n",
    "print(RSE_col)"
   ]
  },
  {
   "cell_type": "markdown",
   "metadata": {},
   "source": [
    "><u>Commentaire</u>. L'algorithme de régression linéaire de LinearRegression() est robuste aux multicolinéarités."
   ]
  },
  {
   "cell_type": "markdown",
   "metadata": {},
   "source": [
    "<div class=\"lev1\"><a href=\"#Table-des-matières\"><span class=\"toc-item-num\"></span>Retour à la table des matières</a></div>"
   ]
  },
  {
   "cell_type": "markdown",
   "metadata": {},
   "source": [
    "## 5 Terme d'interaction\n",
    "\n",
    "><u>Tâche 8</u>. Il est raisonnable de penser que la qualité d'un vin, est donc son prix, peut ếtre impactée par les précipitations hivernales et estivales conjointement. Ajouter au jeu de données la variable 'WinterRain_HarvestRain', produit des variables 'WinterRain' et 'HarvestRain'. Créer le modèle linéaire incluant les variables précédemment sélectionnées et la nouvelle variable d'interaction. Le RSE et le $R^2$ en sont-ils améliorés ?"
   ]
  },
  {
   "cell_type": "code",
   "execution_count": 22,
   "metadata": {},
   "outputs": [],
   "source": [
    "data['WinterRain_HarvestRain']=data['WinterRain']*data['HarvestRain']"
   ]
  },
  {
   "cell_type": "code",
   "execution_count": 23,
   "metadata": {},
   "outputs": [
    {
     "name": "stdout",
     "output_type": "stream",
     "text": [
      "0.8556597745783111\n",
      "0.03894464184992898\n"
     ]
    }
   ],
   "source": [
    "regr_col=LinearRegression()\n",
    "p=5\n",
    "X_col=data[['Year', 'WinterRain', 'AGST', 'HarvestRain','WinterRain_HarvestRain']]\n",
    "regr_col.fit(X_col,y)\n",
    "y_pred_col=regr_col.predict(X_col)\n",
    "R2_col=r2_score(y,y_pred_col)\n",
    "print(R2_col)\n",
    "RSE_col=np.sqrt( sum((y-y_pred_col)**2)/(n-p-1))\n",
    "print(RSE_col)"
   ]
  },
  {
   "cell_type": "markdown",
   "metadata": {},
   "source": [
    "><u>Commentaire</u>. Le modèle est meilleur."
   ]
  },
  {
   "cell_type": "markdown",
   "metadata": {},
   "source": [
    "<div class=\"lev1\"><a href=\"#Table-des-matières\"><span class=\"toc-item-num\"></span>Retour à la table des matières</a></div>"
   ]
  },
  {
   "cell_type": "markdown",
   "metadata": {},
   "source": [
    "## 6 Représentation diagnostic et intervalles de confiance\n",
    "\n",
    "><u>Tâche 9 : test de l'hypothèse d'homoscédasticité</u>.  Tracer le *residual plot*, c'est-à-dire les résidus obtenus en fonction des valeurs prédites (*fitted*) et conclure quant à l'homoscédasticité du modèle."
   ]
  },
  {
   "cell_type": "code",
   "execution_count": 24,
   "metadata": {},
   "outputs": [
    {
     "data": {
      "text/plain": [
       "<matplotlib.collections.PathCollection at 0x7f2d1937d400>"
      ]
     },
     "execution_count": 24,
     "metadata": {},
     "output_type": "execute_result"
    },
    {
     "data": {
      "image/png": "[encoded data removed]",
      "text/plain": [
       "<Figure size 432x288 with 1 Axes>"
      ]
     },
     "metadata": {
      "needs_background": "light"
     },
     "output_type": "display_data"
    }
   ],
   "source": [
    "res=(y-y_pred_col)\n",
    "plt.scatter(y_pred_col, res)"
   ]
  },
  {
   "cell_type": "markdown",
   "metadata": {},
   "source": [
    "><u>Commentaire</u>. Le residual plot n'a pas de tendance particulière : l'hypothèse d'homoscédasticité est vérifée."
   ]
  },
  {
   "cell_type": "markdown",
   "metadata": {},
   "source": [
    "><u>Tâche 10</u>. Afficher l'estimation de l'intercept et des coefficients du modèle linéaire. Donner leur intervalles de confiance à $95$ %."
   ]
  },
  {
   "cell_type": "code",
   "execution_count": 25,
   "metadata": {},
   "outputs": [
    {
     "name": "stdout",
     "output_type": "stream",
     "text": [
      "8.576634735714347\n",
      "[-4.09803999e-03  3.55965226e-04  7.78237300e-02  6.19843869e-04\n",
      " -1.85089666e-06]\n"
     ]
    }
   ],
   "source": [
    "print(regr_col.intercept_)\n",
    "print(regr_col.coef_)"
   ]
  },
  {
   "cell_type": "code",
   "execution_count": 26,
   "metadata": {},
   "outputs": [
    {
     "data": {
      "text/plain": [
       "2.093024054408263"
      ]
     },
     "execution_count": 26,
     "metadata": {},
     "output_type": "execute_result"
    }
   ],
   "source": [
    "from scipy.stats import t\n",
    "t.ppf(0.975,19)"
   ]
  },
  {
   "cell_type": "code",
   "execution_count": 27,
   "metadata": {},
   "outputs": [
    {
     "name": "stdout",
     "output_type": "stream",
     "text": [
      "[-6.52738008e-03  5.83367698e-05  4.90972767e-02 -8.33548491e-04\n",
      " -4.08439628e-06]\n",
      "[-1.66869990e-03  6.53593683e-04  1.06550183e-01  2.07323623e-03\n",
      "  3.82602957e-07]\n"
     ]
    }
   ],
   "source": [
    "#terme v_j\n",
    "X_int=X_col.copy()\n",
    "X_int.insert(loc=0, column='ones', value=1)\n",
    "v=np.linalg.inv(X_int.T@X_int)\n",
    "#estimation de sigma : RSE_col\n",
    "#quantile de la loi de student : quantile 0.975 à n-p-1 degré de liberté = 25-5-1=19\n",
    "q=2.09302\n",
    "#inf\n",
    "inf=regr_col.coef_-np.sqrt(np.diag(v[1:,1:]))*RSE_col*q\n",
    "print(inf)\n",
    "#sup\n",
    "sup=regr_col.coef_+np.sqrt(np.diag(v[1:,1:]))*RSE_col*q\n",
    "print(sup)"
   ]
  },
  {
   "cell_type": "markdown",
   "metadata": {},
   "source": [
    "<div class=\"lev1\"><a href=\"#Table-des-matières\"><span class=\"toc-item-num\"></span>Retour à la table des matières</a></div>"
   ]
  },
  {
   "cell_type": "markdown",
   "metadata": {},
   "source": [
    "## 7 Nouvelles prédictions\n",
    "\n",
    "><u>Tâche 11</u>. Il s'agit enfin de prédire le prix de vente pour les années 1979 et 1980. Ces données sont\n",
    "fournies dans le fichier wine_test.csv. Effectuez la prédiction. Comparez ces deux résultats aux valeurs exactes."
   ]
  },
  {
   "cell_type": "code",
   "execution_count": 28,
   "metadata": {},
   "outputs": [
    {
     "data": {
      "text/html": [
       "<div>\n",
       "<style scoped>\n",
       "    .dataframe tbody tr th:only-of-type {\n",
       "        vertical-align: middle;\n",
       "    }\n",
       "\n",
       "    .dataframe tbody tr th {\n",
       "        vertical-align: top;\n",
       "    }\n",
       "\n",
       "    .dataframe thead th {\n",
       "        text-align: right;\n",
       "    }\n",
       "</style>\n",
       "<table border=\"1\" class=\"dataframe\">\n",
       "  <thead>\n",
       "    <tr style=\"text-align: right;\">\n",
       "      <th></th>\n",
       "      <th>Year</th>\n",
       "      <th>Price</th>\n",
       "      <th>WinterRain</th>\n",
       "      <th>AGST</th>\n",
       "      <th>HarvestRain</th>\n",
       "      <th>Age</th>\n",
       "      <th>FrancePop</th>\n",
       "    </tr>\n",
       "  </thead>\n",
       "  <tbody>\n",
       "    <tr>\n",
       "      <th>0</th>\n",
       "      <td>1979</td>\n",
       "      <td>6.9541</td>\n",
       "      <td>717</td>\n",
       "      <td>16.1667</td>\n",
       "      <td>122</td>\n",
       "      <td>4</td>\n",
       "      <td>54835.832</td>\n",
       "    </tr>\n",
       "    <tr>\n",
       "      <th>1</th>\n",
       "      <td>1980</td>\n",
       "      <td>6.4979</td>\n",
       "      <td>578</td>\n",
       "      <td>16.0000</td>\n",
       "      <td>74</td>\n",
       "      <td>3</td>\n",
       "      <td>55110.236</td>\n",
       "    </tr>\n",
       "  </tbody>\n",
       "</table>\n",
       "</div>"
      ],
      "text/plain": [
       "   Year   Price  WinterRain     AGST  HarvestRain  Age  FrancePop\n",
       "0  1979  6.9541         717  16.1667          122    4  54835.832\n",
       "1  1980  6.4979         578  16.0000           74    3  55110.236"
      ]
     },
     "execution_count": 28,
     "metadata": {},
     "output_type": "execute_result"
    }
   ],
   "source": [
    "test=pd.read_csv('wine_test.csv')\n",
    "test"
   ]
  },
  {
   "cell_type": "code",
   "execution_count": 29,
   "metadata": {},
   "outputs": [],
   "source": [
    "test['WinterRain_HarvestRain']=test['WinterRain']*test['HarvestRain']"
   ]
  },
  {
   "cell_type": "code",
   "execution_count": 30,
   "metadata": {},
   "outputs": [],
   "source": [
    "price_test=regr_col.predict(test[['Year', 'WinterRain', 'AGST', 'HarvestRain','WinterRain_HarvestRain']])"
   ]
  },
  {
   "cell_type": "code",
   "execution_count": 31,
   "metadata": {},
   "outputs": [
    {
     "name": "stdout",
     "output_type": "stream",
     "text": [
      "[1.89370918 1.88014503]\n",
      "[6.64396668 6.5544554 ]\n",
      "0    6.9541\n",
      "1    6.4979\n",
      "Name: Price, dtype: float64\n",
      "0.09938118790982556\n"
     ]
    }
   ],
   "source": [
    "print(price_test)\n",
    "print(np.exp(price_test))\n",
    "print(test['Price'])\n",
    "print(sum((test['Price']-np.exp(price_test))**2))"
   ]
  },
  {
   "cell_type": "markdown",
   "metadata": {},
   "source": [
    "<div class=\"lev1\"><a href=\"#Table-des-matières\"><span class=\"toc-item-num\"></span>Retour à la table des matières</a></div>"
   ]
  },
  {
   "cell_type": "markdown",
   "metadata": {},
   "source": [
    "## Annexe\n",
    "\n",
    "Il existe d'autre librairies de régression linéaire en python, avec des méthodes statistiques plus riches."
   ]
  },
  {
   "cell_type": "code",
   "execution_count": 32,
   "metadata": {},
   "outputs": [],
   "source": [
    "import statsmodels.api as sm"
   ]
  },
  {
   "cell_type": "code",
   "execution_count": 33,
   "metadata": {},
   "outputs": [
    {
     "name": "stdout",
     "output_type": "stream",
     "text": [
      "                                 OLS Regression Results                                \n",
      "=======================================================================================\n",
      "Dep. Variable:              log_price   R-squared (uncentered):                   0.999\n",
      "Model:                            OLS   Adj. R-squared (uncentered):              0.999\n",
      "Method:                 Least Squares   F-statistic:                              7756.\n",
      "Date:                Fri, 26 Feb 2021   Prob (F-statistic):                    3.75e-32\n",
      "Time:                        12:01:33   Log-Likelihood:                          42.416\n",
      "No. Observations:                  25   AIC:                                     -74.83\n",
      "Df Residuals:                      20   BIC:                                     -68.74\n",
      "Df Model:                           5                                                  \n",
      "Covariance Type:            nonrobust                                                  \n",
      "==========================================================================================\n",
      "                             coef    std err          t      P>|t|      [0.025      0.975]\n",
      "------------------------------------------------------------------------------------------\n",
      "Year                       0.0001      0.000      0.910      0.373      -0.000       0.000\n",
      "WinterRain                 0.0002      0.000      1.217      0.238      -0.000       0.001\n",
      "AGST                       0.0993      0.016      6.286      0.000       0.066       0.132\n",
      "HarvestRain               -0.0003      0.001     -0.369      0.716      -0.002       0.001\n",
      "WinterRain_HarvestRain -3.889e-07   1.26e-06     -0.309      0.761   -3.02e-06    2.24e-06\n",
      "==============================================================================\n",
      "Omnibus:                        1.221   Durbin-Watson:                   1.845\n",
      "Prob(Omnibus):                  0.543   Jarque-Bera (JB):                0.927\n",
      "Skew:                          -0.455   Prob(JB):                        0.629\n",
      "Kurtosis:                       2.752   Cond. No.                     1.57e+05\n",
      "==============================================================================\n",
      "\n",
      "Warnings:\n",
      "[1] Standard Errors assume that the covariance matrix of the errors is correctly specified.\n",
      "[2] The condition number is large, 1.57e+05. This might indicate that there are\n",
      "strong multicollinearity or other numerical problems.\n",
      "                               0         1\n",
      "Year                   -0.000173  0.000440\n",
      "WinterRain             -0.000151  0.000575\n",
      "AGST                    0.066354  0.132270\n",
      "HarvestRain            -0.002022  0.001414\n",
      "WinterRain_HarvestRain -0.000003  0.000002\n"
     ]
    }
   ],
   "source": [
    "mod = sm.OLS(y, X_col)\n",
    "res = mod.fit()\n",
    "print(res.summary())\n",
    "print(res.conf_int(0.05))   # 95% confidence interval"
   ]
  },
  {
   "cell_type": "markdown",
   "metadata": {},
   "source": [
    "<div class=\"lev1\"><a href=\"#Table-des-matières\"><span class=\"toc-item-num\"></span>Retour à la table des matières</a></div>"
   ]
  },
  {
   "cell_type": "code",
   "execution_count": null,
   "metadata": {},
   "outputs": [],
   "source": []
  }
 ],
 "metadata": {
  "kernelspec": {
   "display_name": "Python 3",
   "language": "python",
   "name": "python3"
  },
  "language_info": {
   "codemirror_mode": {
    "name": "ipython",
    "version": 3
   },
   "file_extension": ".py",
   "mimetype": "text/x-python",
   "name": "python",
   "nbconvert_exporter": "python",
   "pygments_lexer": "ipython3",
   "version": "3.6.9"
  }
 },
 "nbformat": 4,
 "nbformat_minor": 4
}
