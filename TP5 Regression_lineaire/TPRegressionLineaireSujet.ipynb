{
 "cells": [
  {
   "cell_type": "markdown",
   "metadata": {},
   "source": [
    "# <center>Régression linéaire</center>\n",
    "<center>Prédiction du prix d'un vin</center>"
   ]
  },
  {
   "cell_type": "markdown",
   "metadata": {},
   "source": [
    "*Objectifs* : \n",
    "\n",
    "Ce TP a pour but de mettre en oeuvre les méthodes relatives à la régression linéaire étudiées en cours afin de prédire le prix d'un vin. Plus particulièrement :\n",
    "- Identifier les variables explicatives pertinentes.\n",
    "- Identifier les dépendance non-linéaires entre réponse et prédicteurs.\n",
    "- Identifier les interactions entre prédicteurs.\n",
    "- Evaluer la qualité du modèle linéaire.\n",
    "- Faire des prédictions à partir du modèle linéaire."
   ]
  },
  {
   "cell_type": "markdown",
   "metadata": {},
   "source": [
    "Dans cette séance, les librairies suivantes seront utilisées : installez-les si nécessaire et chargez-les"
   ]
  },
  {
   "cell_type": "code",
   "execution_count": 2,
   "metadata": {},
   "outputs": [],
   "source": [
    "import pandas as pd\n",
    "import numpy as np\n",
    "import seaborn as sns\n",
    "from matplotlib import pyplot as plt\n",
    "from mpl_toolkits.mplot3d import axes3d\n",
    "from sklearn.linear_model import LinearRegression\n",
    "from sklearn.metrics import r2_score"
   ]
  },
  {
   "cell_type": "markdown",
   "metadata": {},
   "source": [
    "## Table des matières\n",
    "\n",
    "<p><div class=\"lev1\"><a href=\"#1-Introduction-:-présentation-du-jeu-de données-et-analyse-préliminaire\"><span class=\"toc-item-num\">1 - </span>Introduction : présentation du jeu de données et analyse préliminaire</a></div>\n",
    "<p><div class=\"lev1\"><a href=\"#2-Régression-linéaire-simple\"><span class=\"toc-item-num\">2 - </span>Régression linéaire simple</a></div>\n",
    "<p><div class=\"lev1\"><a href=\"#3-Régression-linéaire-multivariée\"><span class=\"toc-item-num\">3 - </span>Régression linéaire multivariée</a></div>\n",
    "<p><div class=\"lev1\"><a href=\"#4-Recherche-de-colinéarité\"><span class=\"toc-item-num\">4 - </span>Recherche de colinéarité</a></div>\n",
    "<p><div class=\"lev1\"><a href=\"#5-Terme-d'interaction\"><span class=\"toc-item-num\">5 - </span>Terme d'interaction</a></div>\n",
    "<p><div class=\"lev1\"><a href=\"#6-Représentation-diagnostic-et-intervalles-de-confiance\"><span class=\"toc-item-num\">6 - </span>Représentation diagnostic et intervalles de confiance</a></div>\n",
    "<p><div class=\"lev1\"><a href=\"#7-Nouvelles-prédictions\"><span class=\"toc-item-num\">7 - </span>Nouvelles prédictions</a></div>\n",
    "<p><div class=\"lev1\"><a href=\"#Annexe\"><span class=\"toc-item-num\"></span>Annexe</a></div>"
   ]
  },
  {
   "cell_type": "markdown",
   "metadata": {},
   "source": [
    "## 1 Introduction : présentation du jeu de données et analyse préliminaire\n",
    "\n",
    "Ce problème reprend des données et un modèle ayant donné lieu à une intense polémique : en mars\n",
    "1990, Orley Ashenfelter, un professeur d’économie de Princeton publie un article affirmant que l’on peut\n",
    "prédire la qualité du vin, et son prix, sans même le goûter, à partir d'une formule mathématique. Scandale\n",
    "chez les experts de l’œnologie : “Ashenfelter is an absolute total sham” ou “rather like a movie critic who\n",
    "never goes to see the movie but tells you how good it is based on the actors and the director”. Dans les\n",
    "faits, la “Bordeaux-formula” donne des résultats intéressants qui parfois dépassent les prévisions des\n",
    "experts. L’approche analytique est maintenant lentement adoptée par la communauté. \n",
    "\n",
    "Ces données proviennent du site de [Ashenfelter, Liquid Assets](http://liquidasset.com/). Elles comprennent $25$ observations et $7$ variables.\n",
    "\n",
    "|Nom  |Description|\n",
    "|-----|-----------|\n",
    "|Year  |Année de production du vin |\n",
    "|Price|prix de vente (une approximation de la qualité du vin) en 1990|\n",
    "|WinterRain|Précipitations pendant l’hiver|\n",
    "| AGST|Average Growing Season Temperature|\n",
    "|      |Température moyenne pendant la croissance|\n",
    "|HarvestRain|Précipitations pendant l'été|\n",
    "|Age|âge du vin (en général les vins les plus anciens sont plus chers)|\n",
    "|FrancePop|Population française|\n",
    "\n",
    "La variable dépendante est 'Price'.\n",
    "\n",
    "Les variables indépendantes sont 'Year', 'WinterRain', 'AGST', 'HarvestRain', 'Age', 'FrancePop'."
   ]
  },
  {
   "cell_type": "markdown",
   "metadata": {},
   "source": [
    "><u>Tâche 1</u>. Chargez les données. Examinez quelles sont les caractéristiques des variables du jeu de données."
   ]
  },
  {
   "cell_type": "code",
   "execution_count": 4,
   "metadata": {},
   "outputs": [],
   "source": []
  },
  {
   "cell_type": "markdown",
   "metadata": {},
   "source": [
    "><u>Tâche 2</u>. Regardez la corrélation entre :\n",
    ">- 'AGST' et 'PRICE' d'une part et entre 'AGST' et log('PRICE') d'autre part,\n",
    ">- 'HarvestRain' et 'PRICE' d'une part et entre 'HarvestRain' et log('PRICE') d'autre part.\n",
    ">\n",
    "> A l'aide de la fonction <span style=\"border:1px; border-style:solid\">skew</span>, regardez le coefficent d'asymétrie de 'Price'."
   ]
  },
  {
   "cell_type": "code",
   "execution_count": null,
   "metadata": {},
   "outputs": [],
   "source": []
  },
  {
   "cell_type": "markdown",
   "metadata": {},
   "source": [
    "Dans la suite, nous utiliserons donc la transformation logarithmique de la variable à prédire."
   ]
  },
  {
   "cell_type": "markdown",
   "metadata": {},
   "source": [
    "><u>Tâche 3</u>. Tracer le logarithme du prix de vente en fonction de\n",
    "'AGST' d'une part puis de 'HarvestRain'. Qu'en déduisez-vous sur les relations entre ces variables ?"
   ]
  },
  {
   "cell_type": "code",
   "execution_count": null,
   "metadata": {},
   "outputs": [],
   "source": []
  },
  {
   "cell_type": "markdown",
   "metadata": {},
   "source": [
    "<div class=\"lev1\"><a href=\"#Table-des-matières\"><span class=\"toc-item-num\"></span>Retour à la table des matières</a></div>"
   ]
  },
  {
   "cell_type": "markdown",
   "metadata": {},
   "source": [
    "## 2 Régression linéaire simple\n",
    "\n",
    "><u>Tâche 4</u>. Quel est le modèle *baseline* par défaut (le modèle prédictif construit sans aucune variables explicatives) ? On l'appelle <span style=\"border:1px; border-style:solid\">model0</span>. \n",
    ">\n",
    ">Effectuer une première régression <span style=\"border:1px; border-style:solid\">model1</span> du (logarithme du) prix en fonction de AGST. Utiliser pour cela la fonction <span style=\"border:1px; border-style:solid\">LinearRegressor</span> se trouvant dans <u>sklearn.linear_model</u>. \n",
    ">    \n",
    "> Calculer le RSS pour ce modèle et comparez le au RSS du modèle baseline (il s'agit alors du TSS). \n",
    ">\n",
    ">Déduisez-en le $R^2$ du modèle, et comparez\n",
    "le à celui qui est fourni par la fonction <span style=\"border:1px; border-style:solid\">r2_score</span> qui se trouve dans <u>sklearn.metrics</u>.\n",
    ">\n",
    "> Calculer le residual standard eror (RSE) des deux modèles."
   ]
  },
  {
   "cell_type": "code",
   "execution_count": null,
   "metadata": {},
   "outputs": [],
   "source": []
  },
  {
   "cell_type": "markdown",
   "metadata": {},
   "source": [
    "<div class=\"lev1\"><a href=\"#Table-des-matières\"><span class=\"toc-item-num\"></span>Retour à la table des matières</a></div>"
   ]
  },
  {
   "cell_type": "markdown",
   "metadata": {},
   "source": [
    "## 3 Régression linéaire multivariée\n",
    "\n",
    "><u>Tâche 5</u>. Ajouter la nouvelle variable indépendante 'HarvestRain' pour un nouveau modèle <span style=\"border:1px; border-style:solid\">model2</span>. Considérez la nouvelle valeur du $R^2$ : le modèle est il amélioré, cette variable est-elle significative ? Donner à nouveau la valeur du RSE."
   ]
  },
  {
   "cell_type": "code",
   "execution_count": null,
   "metadata": {},
   "outputs": [],
   "source": []
  },
  {
   "cell_type": "markdown",
   "metadata": {},
   "source": [
    "><u>Tâche 6</u>. Construire maintenant un modèle avec l'ensemble des variables disponibles. Donnez le $R^2$ et le RSE correspondants."
   ]
  },
  {
   "cell_type": "code",
   "execution_count": null,
   "metadata": {},
   "outputs": [],
   "source": []
  },
  {
   "cell_type": "markdown",
   "metadata": {},
   "source": [
    "<div class=\"lev1\"><a href=\"#Table-des-matières\"><span class=\"toc-item-num\"></span>Retour à la table des matières</a></div>"
   ]
  },
  {
   "cell_type": "markdown",
   "metadata": {},
   "source": [
    "## 4 Recherche de colinéarité\n",
    "\n",
    "><u>Tâche 7</u>. Les colinarités peuvent impacter négativement les performances du modèle. Repérez-les à l'aide des coefficients de corrélations, des nuages de points et par le raisonnement. Créer un nouveau modèle linéaire sans colinéarité et évaluez-le. "
   ]
  },
  {
   "cell_type": "code",
   "execution_count": null,
   "metadata": {},
   "outputs": [],
   "source": []
  },
  {
   "cell_type": "markdown",
   "metadata": {},
   "source": [
    "<div class=\"lev1\"><a href=\"#Table-des-matières\"><span class=\"toc-item-num\"></span>Retour à la table des matières</a></div>"
   ]
  },
  {
   "cell_type": "markdown",
   "metadata": {},
   "source": [
    "## 5 Terme d'interaction\n",
    "\n",
    "><u>Tâche 8</u>. Il est raisonnable de penser que la qualité d'un vin, est donc son prix, peut ếtre impactée par les précipitations hivernales et estivales conjointement. Ajouter au jeu de données la variable 'WinterRain_HarvestRain', produit des variables 'WinterRain' et 'HarvestRain'. Créer le modèle linéaire incluant les variables précédemment sélectionnées et la nouvelle variable d'interaction. Le RSE et le $R^2$ en sont-ils améliorés ?"
   ]
  },
  {
   "cell_type": "code",
   "execution_count": null,
   "metadata": {},
   "outputs": [],
   "source": []
  },
  {
   "cell_type": "markdown",
   "metadata": {},
   "source": [
    "<div class=\"lev1\"><a href=\"#Table-des-matières\"><span class=\"toc-item-num\"></span>Retour à la table des matières</a></div>"
   ]
  },
  {
   "cell_type": "markdown",
   "metadata": {},
   "source": [
    "## 6 Représentation diagnostic et intervalles de confiance\n",
    "\n",
    "><u>Tâche 9 : test de l'hypothèse d'homoscédasticité</u>.  Tracer le *residual plot*, c'est-à-dire les résidus obtenus en fonction des valeurs prédites et conclure quant à l'homoscédasticité du modèle."
   ]
  },
  {
   "cell_type": "code",
   "execution_count": null,
   "metadata": {},
   "outputs": [],
   "source": []
  },
  {
   "cell_type": "markdown",
   "metadata": {},
   "source": [
    "><u>Tâche 10</u>. Afficher l'estimation de l'intercept et des coefficients du modèle linéaire. Donner leur intervalles de confiance à $95$ %."
   ]
  },
  {
   "cell_type": "code",
   "execution_count": null,
   "metadata": {},
   "outputs": [],
   "source": []
  },
  {
   "cell_type": "markdown",
   "metadata": {},
   "source": [
    "<div class=\"lev1\"><a href=\"#Table-des-matières\"><span class=\"toc-item-num\"></span>Retour à la table des matières</a></div>"
   ]
  },
  {
   "cell_type": "markdown",
   "metadata": {},
   "source": [
    "## 7 Nouvelles prédictions\n",
    "\n",
    "><u>Tâche 11</u>. Il s'agit enfin de prédire le prix de vente pour les années 1979 et 1980. Ces données sont\n",
    "fournies dans le fichier wine_test.csv. Effectez la prédiction. Comparez ces deux résultats aux valeurs exactes."
   ]
  },
  {
   "cell_type": "code",
   "execution_count": null,
   "metadata": {},
   "outputs": [],
   "source": []
  },
  {
   "cell_type": "markdown",
   "metadata": {},
   "source": [
    "<div class=\"lev1\"><a href=\"#Table-des-matières\"><span class=\"toc-item-num\"></span>Retour à la table des matières</a></div>"
   ]
  },
  {
   "cell_type": "markdown",
   "metadata": {},
   "source": [
    "## Annexe\n",
    "\n",
    "Il existe d'autre librairies de régression linéaire en python, avec des méthodes statistiques plus riches."
   ]
  },
  {
   "cell_type": "code",
   "execution_count": 99,
   "metadata": {},
   "outputs": [],
   "source": [
    "import statsmodels.api as sm"
   ]
  },
  {
   "cell_type": "code",
   "execution_count": 1,
   "metadata": {},
   "outputs": [],
   "source": [
    "#mod = sm.OLS(y,X)\n",
    "#res = mod.fit()\n",
    "#print(res.summary())\n",
    "#print(res.conf_int(0.05))   # 95% confidence interval"
   ]
  },
  {
   "cell_type": "markdown",
   "metadata": {},
   "source": [
    "<div class=\"lev1\"><a href=\"#Table-des-matières\"><span class=\"toc-item-num\"></span>Retour à la table des matières</a></div>"
   ]
  },
  {
   "cell_type": "code",
   "execution_count": null,
   "metadata": {},
   "outputs": [],
   "source": []
  }
 ],
 "metadata": {
  "kernelspec": {
   "display_name": "Python 3",
   "language": "python",
   "name": "python3"
  },
  "language_info": {
   "codemirror_mode": {
    "name": "ipython",
    "version": 3
   },
   "file_extension": ".py",
   "mimetype": "text/x-python",
   "name": "python",
   "nbconvert_exporter": "python",
   "pygments_lexer": "ipython3",
   "version": "3.6.9"
  }
 },
 "nbformat": 4,
 "nbformat_minor": 4
}
