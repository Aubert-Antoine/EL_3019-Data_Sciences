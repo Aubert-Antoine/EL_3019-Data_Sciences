{
 "cells": [
  {
   "cell_type": "markdown",
   "metadata": {},
   "source": [
    "# TP Préparation données et estimation des données manquantes\n",
    "\n",
    "**EL 3019 TP du 16/03/2022 - B.Roudier**\n",
    "\n",
    "\n",
    "**SOMMAIRE**\n",
    "\n",
    "    1. Introduction\n",
    "    2. description des données\n",
    "    3. Importation  \n",
    "      3.1 Importation   \n",
    "      3.2 Transformation de la variable CLASSE en variable catégorielle \n",
    "    4. Valeurs aberrantes\n",
    "    5. Données manquantes \n",
    "        5.1 Visualisation \n",
    "        5.2 Imputation - unique   \n",
    "        5.3 Cold-Deck KNN  \n",
    "\n",
    "\n",
    "**1. Introduction**\n",
    "\n",
    "Le prétraitement des données est un ensemble de techniques qui consiste à transformer\n",
    "des données brutes dans un format lisible et compréhensible pour les méthodes\n",
    "d’apprentissage statistiques. Les données réelles sont souvent incomplètes, incohérentes et\n",
    "/ ou manquantes et/ ou contenir de nombreuses erreurs. Le prétraitement des données est\n",
    "une phase indispensable avant l’utilisation de méthodes et algorithmes de machinelearning et d’IA. En fonction de la nature et de la qualité des données, elle comprend\n",
    "différentes étapes s’articulant autour des problématiques suivantes :\n",
    "\n",
    "• La détection des valeurs aberrantes\n",
    "Comme nous l’avons vu dans le cours précédent, l’inclusion de valeurs aberrantes dans un\n",
    "processus d’apprentissage peut avoir de graves répercussions dans l’interprétation des\n",
    "résultats.\n",
    "\n",
    "• L’estimation des données manquantes\n",
    "La plupart des méthodes et algorithmes d’apprentissage nécessitent des jeux de données\n",
    "complets. Il est donc indispensable d’estimer ces valeurs tout en préservant la distribution\n",
    "de la variable considérée. Il s’agit de méthodes dites ‘d’imputations’. De nombreuses\n",
    "méthodes existent dont certaines sont plus performantes que d’autres. Nous utiliserons\n",
    "dans ce TP des méthodes par remplacement ainsi que des méthodes d’imputations simples\n",
    "(Cold-Deck) par KNN (cf. cours).\n",
    "\n",
    "• La standardisation des données\n",
    "Il s’agit de rendre «indépendantes» les données de leur grandeur (métrique). En effet, de\n",
    "nombreuses méthodes d’apprentissage nécessitent implicitement ou explicitement le calcul\n",
    "de distances entre des individus ou entre les variables. Si, par exemple, une variable d’un\n",
    "jeu de données est exprimée en mètre (taille d’un individu) et que vous la transformiez en \n",
    "cm (donc x 100), les résultats obtenus risques d’être complétement différents (‘effet loupe’).\n",
    "La standardisation permet de rendre les données indépendantes de leur métrique. Cette\n",
    "partie ne sera pas développée dans ce TP. Elle fera l’objet d’un cours et d’un TP ultérieur.\n",
    "\n",
    "• Réaliser les statistiques univariées et bivariées\n",
    "Cette partie est indispensable. Elle permet de “comprendre” les données, de “voir” les liens\n",
    "existants entre les différentes variables / individus et leur nature (lineaires, non linéaires).\n",
    "\n",
    "Elle inclut (au minimum):\n",
    "\n",
    "• Une estimation des moyennes et quartiles\n",
    "\n",
    "• Les distributions (histogrammes et densités de probabilité) de chaque variable\n",
    "\n",
    "• Les correlations entre les variables et les scatter-plots qui permettent de voir la nature\n",
    "des relations existantes (linéaires / non liénaires)\n",
    "\n",
    "**2. DESCRIPTION DES DONNEES**\n",
    "\n",
    "\n",
    "Le jeu de données comprend 700 patientes sur lesquelles il a été réalisée une biopsie du\n",
    "sein pour étudier l’aspect des cellules (sous microscope - cytopathologie). L’objectif est de réaliser, en fonction de différents critères morphologiques (variables du jeu de données), un diagnostic de cancer. Ces critères sont quantifiés par une échelle allant de 1 à 10. La variable CLASSE est le diagnostic réalisé par l’expert qui évalue le caractère de malignité des cellules observées dans la biopsie (Gold Standard - Annotation). Les variables sont les suivantes\n",
    "\n",
    "- E_MASSE : epaisseur (1 = normal+++ , 10 = normale---)\n",
    "- UNI_TAILLE : uniformité de taille des cellules (1 = normal+++ , 10 =\n",
    "normale---)\n",
    "- UNI_FORME : uniformité de la forme des cellules (1 = normal+++ , 10 =\n",
    "normale---)\n",
    "- ADHESION : adhésion des cellules entre elles et à la couche basales (1 =\n",
    "normal+++ , 10 = normale---)\n",
    "- TAILLE_EPI : taille de la couche épithèliale sous jacente (1 = normal+++ ,\n",
    "10 = normale---)\n",
    "- NOYAUX : aspect du noyaux (1 = normal+++ , 10 = normale---)\n",
    "- CHROMATINE : granule dans le noyau (1 = normal+++ , 10 = normale---)\n",
    "- NOR_NUCLUS : aspect du nucleus (élement constitutif du noyau) (1 =\n",
    "normal+++ , 10 = normale---)\n",
    "- MITOSE : division cellulaire (1 = normal+++ , 10 = normale---)\n",
    "- CLASSE : gold standard = annotation : 2 = Benin - 4 = Malin*\n",
    "\n",
    "**3. IMPORTATION DES DONNEES**\n",
    "\n",
    "3.1 Importation\n",
    "\n",
    "3.1.1. Chargement des packages"
   ]
  },
  {
   "cell_type": "code",
   "execution_count": 1,
   "metadata": {},
   "outputs": [],
   "source": [
    "import os\n",
    "import numpy as np\n",
    "import numpy.random as nr\n",
    "import pandas as pd\n",
    "import matplotlib.pyplot as plt\n",
    "import seaborn as sns\n",
    "from sklearn.impute import SimpleImputer\n",
    "from sklearn.impute import KNNImputer\n",
    "import missingno as missviz"
   ]
  },
  {
   "cell_type": "markdown",
   "metadata": {},
   "source": [
    "remarques importantes concernant les packages\n",
    "\n",
    "• le package os est utilisé pouer la gestion des répertoires\n",
    "\n",
    "• le package sklearn est utilisé pour l’imputation des données. Il s’agit d’un package très\n",
    "important et très utilisé en python (scikit-learn) qui inclut un très grand nombre de\n",
    "méthodes d’apprentissage\n",
    "\n",
    "• le package missingno est utilisé pour visualiser le positionnement des données\n",
    "manquantes dans un dataframe pour effectuer un diagnostic MAR/MCAR"
   ]
  },
  {
   "cell_type": "markdown",
   "metadata": {},
   "source": [
    "**3.1.2. Chargement du fichier**"
   ]
  },
  {
   "cell_type": "code",
   "execution_count": 2,
   "metadata": {},
   "outputs": [
    {
     "name": "stdout",
     "output_type": "stream",
     "text": [
      "     E_MASSE  UNI_TAILLE  UNI_FORME  ADHESION  TAILLE_EPITH  NOYAUX  \\\n",
      "0        5.0         1.0        NaN       1.0           2.0     NaN   \n",
      "1        NaN         4.0        4.0       5.0           NaN    10.0   \n",
      "2        3.0         1.0        1.0       1.0           2.0     NaN   \n",
      "3        6.0         8.0        NaN       NaN           NaN     4.0   \n",
      "4        4.0         1.0        1.0       3.0           2.0     1.0   \n",
      "..       ...         ...        ...       ...           ...     ...   \n",
      "694      3.0         1.0        NaN       1.0           3.0     2.0   \n",
      "695      2.0         1.0        NaN       NaN           2.0     NaN   \n",
      "696      NaN        10.0        NaN       3.0           NaN     NaN   \n",
      "697      4.0         8.0        6.0       4.0           3.0     4.0   \n",
      "698      4.0         8.0        8.0       5.0           4.0     5.0   \n",
      "\n",
      "     CHROMATINE  NORM_NUCLUS  MITOSES  CLASSE  \n",
      "0           3.0          1.0      1.0       2  \n",
      "1           3.0          2.0      1.0       2  \n",
      "2           3.0          1.0      NaN       2  \n",
      "3           3.0          7.0      1.0       2  \n",
      "4           3.0          1.0      1.0       2  \n",
      "..          ...          ...      ...     ...  \n",
      "694         1.0          1.0      1.0       2  \n",
      "695         NaN          1.0      1.0       2  \n",
      "696         8.0         10.0      NaN       4  \n",
      "697        10.0          NaN      1.0       4  \n",
      "698        10.0          4.0      1.0       4  \n",
      "\n",
      "[699 rows x 10 columns] 3\n"
     ]
    }
   ],
   "source": [
    "file = \"Breast_MissData.xlsx\"\n",
    "df   = pd.read_excel(file,header = 0, na_values ='')\n",
    "# La première variable correspond à des identifiants: On la supprime par délétion\n",
    "df   = df.iloc[:,1:]\n",
    "# Affichage des 4 premers enregistrements\n",
    "print(df,3)\n"
   ]
  },
  {
   "cell_type": "markdown",
   "metadata": {},
   "source": [
    "**3.2. Transformation de la variable numérique CLASSE en variable catégorielle**\n",
    "    \n",
    "La variable CLASSE est une variable numérique. il convient donc dans un premier temps de\n",
    "modifier les labels (2 et 4) (transformation en variable texte) puis de transfromer cette\n",
    "variable en variable catégorielle. En effet, il est plus facile d’identifier le diagnostic\n",
    "(annotation) des sujets par les labels ’Benin vs Malin\" que par 2 et 4"
   ]
  },
  {
   "cell_type": "code",
   "execution_count": 3,
   "metadata": {},
   "outputs": [
    {
     "name": "stdout",
     "output_type": "stream",
     "text": [
      "['Benin', 'Malin']\n",
      "Categories (2, object): ['Benin', 'Malin']\n"
     ]
    }
   ],
   "source": [
    "#-> 1. Tranformation en caracteres 4 devient 'Malin' et 2 devient 'Benin'\n",
    "new_lab = {'CLASSE': {4 : 'Malin' , 2 : 'Benin'} }\n",
    "\n",
    "#-> 2. Labellisation da la cariable dans le data.frame\n",
    "df.replace(new_lab, inplace = True)\n",
    "\n",
    "#-> 3. Transformation character en catégorie de la variable\n",
    "df['CLASSE'] = df['CLASSE'].astype('category')\n",
    "\n",
    "#-> 4. On vérifie bien que la variable a été transformée\n",
    "print(df['CLASSE'].unique())\n"
   ]
  },
  {
   "cell_type": "markdown",
   "metadata": {},
   "source": [
    "***\n",
    "\n",
    "**4.Valeurs abérrantes**\n",
    "\n",
    "- Dans un premier temps, on identifie les variables susceptibles de contenir des valeurs abbérantes. Pour y parvenir, on utilise la fonction *describe* qui fournit les statistiques descriptives. A partir de ces dernières, Comment procéderiez vous pour identifier la variable possédant des valeurs (très) abbérantes.\n",
    "\n",
    "- Confirmer votre choix avec un box plot\n"
   ]
  },
  {
   "cell_type": "code",
   "execution_count": 4,
   "metadata": {},
   "outputs": [
    {
     "name": "stdout",
     "output_type": "stream",
     "text": [
      "          E_MASSE  UNI_TAILLE   UNI_FORME    ADHESION  TAILLE_EPITH  \\\n",
      "count  552.000000  537.000000  530.000000  549.000000    581.000000   \n",
      "mean     4.447464    3.223464    3.271698    2.865209      3.172117   \n",
      "std      2.824085    3.129418    2.990494    2.853486      2.194346   \n",
      "min      1.000000    1.000000    1.000000    1.000000      1.000000   \n",
      "25%      2.000000    1.000000    1.000000    1.000000      2.000000   \n",
      "50%      4.000000    1.000000    2.000000    1.000000      2.000000   \n",
      "75%      6.000000    5.000000    5.000000    4.000000      4.000000   \n",
      "max     10.000000   10.000000   10.000000   10.000000     10.000000   \n",
      "\n",
      "            NOYAUX  CHROMATINE  NORM_NUCLUS     MITOSES  \n",
      "count   563.000000  560.000000   551.000000  570.000000  \n",
      "mean     24.733570    3.519643     2.794918    1.615789  \n",
      "std     183.090958    2.504302     3.024694    1.769125  \n",
      "min       1.000000    1.000000     1.000000    1.000000  \n",
      "25%       1.000000    2.000000     1.000000    1.000000  \n",
      "50%       1.000000    3.000000     1.000000    1.000000  \n",
      "75%       8.000000    5.000000     3.000000    1.000000  \n",
      "max    2987.000000   10.000000    10.000000   10.000000  \n"
     ]
    },
    {
     "data": {
      "text/plain": [
       "<AxesSubplot:>"
      ]
     },
     "execution_count": 4,
     "metadata": {},
     "output_type": "execute_result"
    },
    {
     "data": {
      "image/png": "[encoded data removed]",
      "text/plain": [
       "<Figure size 432x288 with 1 Axes>"
      ]
     },
     "metadata": {
      "needs_background": "light"
     },
     "output_type": "display_data"
    }
   ],
   "source": [
    "#-> 1.  Statistiques descriptives\n",
    "dec   = df.describe()\n",
    "print(dec)\n",
    "\n",
    "#-> 2. Tracez un simple box plot pour identifier les (la) variable(s) avec\n",
    "sns.boxplot(data = df)\n"
   ]
  },
  {
   "cell_type": "markdown",
   "metadata": {},
   "source": [
    "   - Comme vous l'avez démontré, la variable *NOYAUX* possède des valeurs abbérantes. On considére que si cette variable est supérieure à 20 alors il s'agit d'une données abbérante. \n",
    "    - Ordonner les valeurs par ordre décroissant,\n",
    "    - Compter le nombre de valeurs > 20\n",
    "    - remplacer dans le data.frame les valeurs de la variable NOYAUX qui sont supérieures à 20 par des Na"
   ]
  },
  {
   "cell_type": "code",
   "execution_count": 5,
   "metadata": {},
   "outputs": [
    {
     "data": {
      "text/plain": [
       "321    2987.0\n",
       "145    1500.0\n",
       "23     1500.0\n",
       "139    1300.0\n",
       "411    1230.0\n",
       "40     1200.0\n",
       "249     845.0\n",
       "617     459.0\n",
       "164     242.0\n",
       "315     239.0\n",
       "292     163.0\n",
       "297     146.0\n",
       "235     126.0\n",
       "263      10.0\n",
       "251      10.0\n",
       "252      10.0\n",
       "253      10.0\n",
       "Name: NOYAUX, dtype: float64"
      ]
     },
     "execution_count": 5,
     "metadata": {},
     "output_type": "execute_result"
    }
   ],
   "source": [
    "# Sort .. juste pour voir le nombre de données > 20\n",
    "test_val = df['NOYAUX'].sort_values(ascending = False)\n",
    "test_val.head(17)"
   ]
  },
  {
   "cell_type": "code",
   "execution_count": 6,
   "metadata": {},
   "outputs": [
    {
     "name": "stdout",
     "output_type": "stream",
     "text": [
      "0      False\n",
      "1      False\n",
      "2      False\n",
      "3      False\n",
      "4      False\n",
      "       ...  \n",
      "694    False\n",
      "695    False\n",
      "696    False\n",
      "697    False\n",
      "698    False\n",
      "Name: NOYAUX, Length: 699, dtype: bool\n",
      "\n",
      "\n",
      "nombre de valeur > à 20 = 13\n"
     ]
    }
   ],
   "source": [
    "# nombre de données > 20\n",
    "# idx permet d identifier les lignes ou les valeurs de la varoable NOYAUX sont > 20 DANS le Dataframe ; retourne des booleans\n",
    "idx   = df['NOYAUX'] > 20 ; print(idx)\n",
    "\n",
    "nb_ab = idx.sum()         \n",
    "print('\\n') \n",
    "print('nombre de valeur > à 20 = ' + str(nb_ab))\n"
   ]
  },
  {
   "cell_type": "code",
   "execution_count": 7,
   "metadata": {},
   "outputs": [
    {
     "name": "stdout",
     "output_type": "stream",
     "text": [
      "          E_MASSE  UNI_TAILLE   UNI_FORME    ADHESION  TAILLE_EPITH  \\\n",
      "count  552.000000  537.000000  530.000000  549.000000    581.000000   \n",
      "mean     4.447464    3.223464    3.271698    2.865209      3.172117   \n",
      "std      2.824085    3.129418    2.990494    2.853486      2.194346   \n",
      "min      1.000000    1.000000    1.000000    1.000000      1.000000   \n",
      "25%      2.000000    1.000000    1.000000    1.000000      2.000000   \n",
      "50%      4.000000    1.000000    2.000000    1.000000      2.000000   \n",
      "75%      6.000000    5.000000    5.000000    4.000000      4.000000   \n",
      "max     10.000000   10.000000   10.000000   10.000000     10.000000   \n",
      "\n",
      "           NOYAUX  CHROMATINE  NORM_NUCLUS     MITOSES  \n",
      "count  550.000000  560.000000   551.000000  570.000000  \n",
      "mean     3.614545    3.519643     2.794918    1.615789  \n",
      "std      3.706019    2.504302     3.024694    1.769125  \n",
      "min      1.000000    1.000000     1.000000    1.000000  \n",
      "25%      1.000000    2.000000     1.000000    1.000000  \n",
      "50%      1.000000    3.000000     1.000000    1.000000  \n",
      "75%      7.000000    5.000000     3.000000    1.000000  \n",
      "max     10.000000   10.000000    10.000000   10.000000  \n"
     ]
    }
   ],
   "source": [
    "# remplacer dans le dataframe les données abbérantes par des Na (en utilisant les index des lignes)\n",
    "df.loc[idx,'NOYAUX'] = np.nan\n",
    "\n",
    "# on pourrait aussi écrire directement\n",
    "df.loc[df['NOYAUX'] > 20, 'NOYAUX'] = np.nan\n",
    "\n",
    "# statitiques descriptives\n",
    "rec_drop = df.describe()\n",
    "print(rec_drop)\n"
   ]
  },
  {
   "cell_type": "markdown",
   "metadata": {},
   "source": [
    "**5. Données manquantes**  \n",
    "5.1. Comptage\n",
    "- Comptez le nombre et le pourcentage de valeurs manquantes par variable\n",
    "- Comptez le pourcentage et nombre total de valeurs manquantes\n",
    "- Créer une dataframe que vous appelerez *df_drop* dans laquelle toutes les lignes contenant des valeurs manquantes on été éliminées\n",
    "- Comparez le nombre d'enregistrement entre *df* et *df_drop*. Que remarque t'on ?\n",
    "\n",
    "    "
   ]
  },
  {
   "cell_type": "code",
   "execution_count": 8,
   "metadata": {},
   "outputs": [
    {
     "name": "stdout",
     "output_type": "stream",
     "text": [
      "nombre de valeurs manquantes par variable dans le data.frame\n",
      "E_MASSE         147\n",
      "UNI_TAILLE      162\n",
      "UNI_FORME       169\n",
      "ADHESION        150\n",
      "TAILLE_EPITH    118\n",
      "NOYAUX          149\n",
      "CHROMATINE      139\n",
      "NORM_NUCLUS     148\n",
      "MITOSES         129\n",
      "CLASSE            0\n",
      "dtype: int64\n",
      "\n",
      "\n",
      "pourcentage de valeurs manquantes par variables\n",
      "E_MASSE         21.030043\n",
      "UNI_TAILLE      23.175966\n",
      "UNI_FORME       24.177396\n",
      "ADHESION        21.459227\n",
      "TAILLE_EPITH    16.881259\n",
      "NOYAUX          21.316166\n",
      "CHROMATINE      19.885551\n",
      "NORM_NUCLUS     21.173104\n",
      "MITOSES         18.454936\n",
      "CLASSE           0.000000\n",
      "dtype: float64\n",
      "\n",
      "\n",
      "nombre total de valeurs manquantes dans le data.frame = 1311\n",
      "\n",
      "\n",
      "pourcentage de valeurs manquantes dans le data.frame = 18.755364806866954\n"
     ]
    }
   ],
   "source": [
    "# Nombre de valeurs manquantes et % par variables\n",
    "[nrow, ncol] = df.shape\n",
    "print('nombre de valeurs manquantes par variable dans le data.frame')\n",
    "n_drop  = df.isna().sum() ; print(n_drop)\n",
    "print('\\n')\n",
    "print('pourcentage de valeurs manquantes par variables')\n",
    "pc_drop = n_drop / nrow * 100 ; print(pc_drop)\n",
    "print('\\n')\n",
    "\n",
    "# Nombre de valeurs manquantes et % total\n",
    "print('nombre total de valeurs manquantes dans le data.frame = ' + str(n_drop.sum()))\n",
    "print('\\n')\n",
    "print('pourcentage de valeurs manquantes dans le data.frame = ' + str(n_drop.sum() / (nrow * ncol) * 100  ))\n"
   ]
  },
  {
   "cell_type": "code",
   "execution_count": 9,
   "metadata": {},
   "outputs": [
    {
     "name": "stdout",
     "output_type": "stream",
     "text": [
      "nombre d enregistrement de df_drop = 97\n",
      "nombre d enregistrement de df      = 699\n"
     ]
    }
   ],
   "source": [
    "# Creation du dataframe df_drop\n",
    "# On élimine toutes les lignes(enregistrements) dont un des éléments ont une valeur NA\n",
    "df_drop = df.dropna()\n",
    "[nrow_drop, ncol ] = df_drop.shape\n",
    "print('nombre d enregistrement de df_drop = ' + str(nrow_drop))\n",
    "print('nombre d enregistrement de df      = ' + str(nrow))\n",
    "\n"
   ]
  },
  {
   "cell_type": "markdown",
   "metadata": {},
   "source": [
    "5.2. Visualisation des données manquantes\n",
    "Nous utilisons 3 graphiques :\n",
    "- Visualisation du positionnement des données manquantes dans la dataframe : missviz.matrix(pd.DataFrame(df))\n",
    "- Visualisation du nombre de données non manquantes par variable :missviz.bar(pd.DataFrame(df))\n",
    "- Visualisation de la 'relation' entre les variables pour les données manquantes 0 : pas de relation : 1 et -1 : forte relation  missviz.heatmap(pd.DataFrame(df))\n",
    "\n",
    "• Question : D’après le graphique précèdent, quel est selon vous la typologie des données manquantes ?"
   ]
  },
  {
   "cell_type": "code",
   "execution_count": 10,
   "metadata": {},
   "outputs": [
    {
     "data": {
      "text/plain": [
       "<AxesSubplot:>"
      ]
     },
     "execution_count": 10,
     "metadata": {},
     "output_type": "execute_result"
    },
    {
     "data": {
      "image/png": "[encoded data removed]",
      "text/plain": [
       "<Figure size 1800x720 with 2 Axes>"
      ]
     },
     "metadata": {
      "needs_background": "light"
     },
     "output_type": "display_data"
    }
   ],
   "source": [
    "#-> vizualisation positionnement dans la matrice\n",
    "missviz.matrix(pd.DataFrame(df))"
   ]
  },
  {
   "cell_type": "code",
   "execution_count": 11,
   "metadata": {},
   "outputs": [
    {
     "data": {
      "text/plain": [
       "<AxesSubplot:>"
      ]
     },
     "execution_count": 11,
     "metadata": {},
     "output_type": "execute_result"
    },
    {
     "data": {
      "image/png": "[encoded data removed]",
      "text/plain": [
       "<Figure size 1728x720 with 3 Axes>"
      ]
     },
     "metadata": {
      "needs_background": "light"
     },
     "output_type": "display_data"
    }
   ],
   "source": [
    "#-> nombre de valeurs non Nan par variable\n",
    "missviz.bar(pd.DataFrame(df))"
   ]
  },
  {
   "cell_type": "code",
   "execution_count": 12,
   "metadata": {},
   "outputs": [
    {
     "data": {
      "text/plain": [
       "<AxesSubplot:>"
      ]
     },
     "execution_count": 12,
     "metadata": {},
     "output_type": "execute_result"
    },
    {
     "data": {
      "image/png": "[encoded data removed]",
      "text/plain": [
       "<Figure size 1440x864 with 2 Axes>"
      ]
     },
     "metadata": {
      "needs_background": "light"
     },
     "output_type": "display_data"
    }
   ],
   "source": [
    "#-> dépendance\n",
    "missviz.heatmap(pd.DataFrame(df))"
   ]
  },
  {
   "cell_type": "markdown",
   "metadata": {},
   "source": [
    "***\n",
    "\n",
    "**5.2. Imputation par une valeur unique dans le cas de variable numérique**\n",
    "\n",
    "Il s’agit de remplacer toutes les valeurs *numériques* manquantes par une seule valeur qui peut être (i) la moyenne, (ii) la médiane, (iii)  la valeur la plus fréquente. \n",
    "Dans un premier temps on crée un dataframe *df_num* dans lequel toutes les variable sont numériques (type float64). ce qui \n",
    "équivaut à éliminer la variable CLASSE \n",
    "\n",
    "Dans un second temps, on utilise La méthode SimpleImputer (qui est en fait une classe) et qui fonctionne en 3 phases\n",
    "- on déclare le modèle (appel à un constructeur)\n",
    "- … puis on effectue l’estimation\n",
    "- ….puis on impute les données manquantes dans le dataFrame\n",
    "\n",
    "• Le code suivant effectue les imputations respectivement avec la moyenne, la médiane,\n",
    "et la valeur la plus fréquente\n",
    "\n",
    "• Pour chaque méthode d’estimation, on calcule les statistiques descriptives puis le\n",
    "coefficient de varition (CV) qui correspond au rapport de la déviation standard à la\n",
    "moyenne. ce ceofficient correspond à la dispertion autour de la tendence centrale. Que\n",
    "remarque-t’on ?"
   ]
  },
  {
   "cell_type": "code",
   "execution_count": 13,
   "metadata": {},
   "outputs": [
    {
     "data": {
      "text/html": [
       "<div>\n",
       "<style scoped>\n",
       "    .dataframe tbody tr th:only-of-type {\n",
       "        vertical-align: middle;\n",
       "    }\n",
       "\n",
       "    .dataframe tbody tr th {\n",
       "        vertical-align: top;\n",
       "    }\n",
       "\n",
       "    .dataframe thead th {\n",
       "        text-align: right;\n",
       "    }\n",
       "</style>\n",
       "<table border=\"1\" class=\"dataframe\">\n",
       "  <thead>\n",
       "    <tr style=\"text-align: right;\">\n",
       "      <th></th>\n",
       "      <th>E_MASSE</th>\n",
       "      <th>UNI_TAILLE</th>\n",
       "      <th>UNI_FORME</th>\n",
       "      <th>ADHESION</th>\n",
       "      <th>TAILLE_EPITH</th>\n",
       "      <th>NOYAUX</th>\n",
       "      <th>CHROMATINE</th>\n",
       "      <th>NORM_NUCLUS</th>\n",
       "      <th>MITOSES</th>\n",
       "    </tr>\n",
       "  </thead>\n",
       "  <tbody>\n",
       "    <tr>\n",
       "      <th>0</th>\n",
       "      <td>5.0</td>\n",
       "      <td>1.0</td>\n",
       "      <td>NaN</td>\n",
       "      <td>1.0</td>\n",
       "      <td>2.0</td>\n",
       "      <td>NaN</td>\n",
       "      <td>3.0</td>\n",
       "      <td>1.0</td>\n",
       "      <td>1.0</td>\n",
       "    </tr>\n",
       "    <tr>\n",
       "      <th>1</th>\n",
       "      <td>NaN</td>\n",
       "      <td>4.0</td>\n",
       "      <td>4.0</td>\n",
       "      <td>5.0</td>\n",
       "      <td>NaN</td>\n",
       "      <td>10.0</td>\n",
       "      <td>3.0</td>\n",
       "      <td>2.0</td>\n",
       "      <td>1.0</td>\n",
       "    </tr>\n",
       "    <tr>\n",
       "      <th>2</th>\n",
       "      <td>3.0</td>\n",
       "      <td>1.0</td>\n",
       "      <td>1.0</td>\n",
       "      <td>1.0</td>\n",
       "      <td>2.0</td>\n",
       "      <td>NaN</td>\n",
       "      <td>3.0</td>\n",
       "      <td>1.0</td>\n",
       "      <td>NaN</td>\n",
       "    </tr>\n",
       "    <tr>\n",
       "      <th>3</th>\n",
       "      <td>6.0</td>\n",
       "      <td>8.0</td>\n",
       "      <td>NaN</td>\n",
       "      <td>NaN</td>\n",
       "      <td>NaN</td>\n",
       "      <td>4.0</td>\n",
       "      <td>3.0</td>\n",
       "      <td>7.0</td>\n",
       "      <td>1.0</td>\n",
       "    </tr>\n",
       "    <tr>\n",
       "      <th>4</th>\n",
       "      <td>4.0</td>\n",
       "      <td>1.0</td>\n",
       "      <td>1.0</td>\n",
       "      <td>3.0</td>\n",
       "      <td>2.0</td>\n",
       "      <td>1.0</td>\n",
       "      <td>3.0</td>\n",
       "      <td>1.0</td>\n",
       "      <td>1.0</td>\n",
       "    </tr>\n",
       "  </tbody>\n",
       "</table>\n",
       "</div>"
      ],
      "text/plain": [
       "   E_MASSE  UNI_TAILLE  UNI_FORME  ADHESION  TAILLE_EPITH  NOYAUX  CHROMATINE  \\\n",
       "0      5.0         1.0        NaN       1.0           2.0     NaN         3.0   \n",
       "1      NaN         4.0        4.0       5.0           NaN    10.0         3.0   \n",
       "2      3.0         1.0        1.0       1.0           2.0     NaN         3.0   \n",
       "3      6.0         8.0        NaN       NaN           NaN     4.0         3.0   \n",
       "4      4.0         1.0        1.0       3.0           2.0     1.0         3.0   \n",
       "\n",
       "   NORM_NUCLUS  MITOSES  \n",
       "0          1.0      1.0  \n",
       "1          2.0      1.0  \n",
       "2          1.0      NaN  \n",
       "3          7.0      1.0  \n",
       "4          1.0      1.0  "
      ]
     },
     "execution_count": 13,
     "metadata": {},
     "output_type": "execute_result"
    }
   ],
   "source": [
    "# on crée df_num en sélectionnant uniquement les variables de type : float64\n",
    "df_num = df.select_dtypes(include = ['float64'])\n",
    "df_num.head()"
   ]
  },
  {
   "cell_type": "code",
   "execution_count": 14,
   "metadata": {},
   "outputs": [
    {
     "name": "stdout",
     "output_type": "stream",
     "text": [
      "\n",
      "Statistiques déscriptives: Moyenne\n",
      "                0           1           2           3           4           5  \\\n",
      "count  699.000000  699.000000  699.000000  699.000000  699.000000  699.000000   \n",
      "mean     4.447464    3.223464    3.271698    2.865209    3.172117    3.614545   \n",
      "std      2.509146    2.742320    2.603413    2.528357    2.000282    3.286746   \n",
      "min      1.000000    1.000000    1.000000    1.000000    1.000000    1.000000   \n",
      "25%      3.000000    1.000000    1.000000    1.000000    2.000000    1.000000   \n",
      "50%      4.447464    3.000000    3.271698    2.000000    2.000000    3.000000   \n",
      "75%      5.000000    3.223464    4.000000    3.000000    3.172117    4.000000   \n",
      "max     10.000000   10.000000   10.000000   10.000000   10.000000   10.000000   \n",
      "\n",
      "                6           7           8  \n",
      "count  699.000000  699.000000  699.000000  \n",
      "mean     3.519643    2.794918    1.615789  \n",
      "std      2.241119    2.684943    1.597302  \n",
      "min      1.000000    1.000000    1.000000  \n",
      "25%      2.000000    1.000000    1.000000  \n",
      "50%      3.000000    1.000000    1.000000  \n",
      "75%      4.000000    2.794918    1.615789  \n",
      "max     10.000000   10.000000   10.000000  \n",
      "\n",
      "Coefficients de variation en %\n",
      "E_MASSE         56.417448\n",
      "UNI_TAILLE      85.073719\n",
      "UNI_FORME       79.573750\n",
      "ADHESION        88.243339\n",
      "TAILLE_EPITH    63.058276\n",
      "NOYAUX          90.931099\n",
      "CHROMATINE      63.674606\n",
      "NORM_NUCLUS     96.065172\n",
      "MITOSES         98.855798\n",
      "dtype: float64\n"
     ]
    }
   ],
   "source": [
    "#-> Déclaration du modèle : paramètre la moyenne\n",
    "fun = SimpleImputer(missing_values = np.nan , strategy = 'mean')\n",
    "#-> On effectue l'estimation\n",
    "fun.fit(df_num) \n",
    "#-> on récupère le dataframe avec les valeurs imputées\n",
    "df_mean      = pd.DataFrame(fun.transform(df_num))\n",
    "df_mean_stat = df_mean.describe()\n",
    "\n",
    "print( '\\n' + 'Statistiques déscriptives: Moyenne')\n",
    "print(df_mean_stat)\n",
    "#-> Calcul des % de variation\n",
    "#-> df_mean_stat est un objet Panda: on récupère les lignes 1 et 2\n",
    "mean_CV = df_mean_stat.iloc[2,:] / df_mean_stat.iloc[1,:] *100 \n",
    "\n",
    "print( '\\n' + 'Coefficients de variation en %') \n",
    "mean_CV.index = df_num.columns.tolist()\n",
    "print(mean_CV)"
   ]
  },
  {
   "cell_type": "code",
   "execution_count": 15,
   "metadata": {},
   "outputs": [
    {
     "name": "stdout",
     "output_type": "stream",
     "text": [
      "\n",
      "Statistiques déscriptives : Mediane\n",
      "                0           1           2           3           4           5  \\\n",
      "count  699.000000  699.000000  699.000000  699.000000  699.000000  699.000000   \n",
      "mean     4.353362    2.708155    2.964235    2.464950    2.974249    3.057225   \n",
      "std      2.515772    2.898588    2.659821    2.641929    2.047969    3.457004   \n",
      "min      1.000000    1.000000    1.000000    1.000000    1.000000    1.000000   \n",
      "25%      3.000000    1.000000    1.000000    1.000000    2.000000    1.000000   \n",
      "50%      4.000000    1.000000    2.000000    1.000000    2.000000    1.000000   \n",
      "75%      5.000000    3.000000    4.000000    3.000000    3.000000    4.000000   \n",
      "max     10.000000   10.000000   10.000000   10.000000   10.000000   10.000000   \n",
      "\n",
      "                6           7           8  \n",
      "count  699.000000  699.000000  699.000000  \n",
      "mean     3.416309    2.414878    1.502146  \n",
      "std      2.250710    2.783415    1.615091  \n",
      "min      1.000000    1.000000    1.000000  \n",
      "25%      2.000000    1.000000    1.000000  \n",
      "50%      3.000000    1.000000    1.000000  \n",
      "75%      4.000000    2.000000    1.000000  \n",
      "max     10.000000   10.000000   10.000000  \n",
      "\n",
      "Coefficients de variation en %\n",
      "E_MASSE          57.789187\n",
      "UNI_TAILLE      107.031841\n",
      "UNI_FORME        89.730464\n",
      "ADHESION        107.179809\n",
      "TAILLE_EPITH     68.856689\n",
      "NOYAUX          113.076540\n",
      "CHROMATINE       65.881323\n",
      "NORM_NUCLUS     115.261091\n",
      "MITOSES         107.518932\n",
      "dtype: float64\n"
     ]
    }
   ],
   "source": [
    "#-> Déclaration du modèle : paramètre la médiane\n",
    "fun = SimpleImputer(missing_values = np.nan , strategy = 'median')\n",
    "#-> On effectue l'estimation\n",
    "fun.fit(df_num) \n",
    "\n",
    "#-> on récupère le dataframe avec les valeurs imputées\n",
    "df_median      = pd.DataFrame(fun.transform(df_num))\n",
    "df_median_stat = df_median.describe()\n",
    "print( '\\n' + 'Statistiques déscriptives : Mediane')\n",
    "print(df_median_stat)\n",
    "\n",
    "#-> Calcul des % de variation\n",
    "#-> df_mean_stat est un objet Panda: on récupère les lignes 1 et 2\n",
    "median_CV = df_median_stat.iloc[2,:] / df_median_stat.iloc[1,:] *100 \n",
    "\n",
    "print( '\\n' + 'Coefficients de variation en %') \n",
    "median_CV.index = df_num.columns.tolist()\n",
    "print(median_CV)\n"
   ]
  },
  {
   "cell_type": "code",
   "execution_count": 16,
   "metadata": {},
   "outputs": [
    {
     "name": "stdout",
     "output_type": "stream",
     "text": [
      "\n",
      "Statistiques déscriptives : valeur la plus fréquente\n",
      "                0           1           2           3           4           5  \\\n",
      "count  699.000000  699.000000  699.000000  699.000000  699.000000  699.000000   \n",
      "mean     3.722461    2.708155    2.722461    2.464950    2.974249    3.057225   \n",
      "std      2.876184    2.898588    2.779416    2.641929    2.047969    3.457004   \n",
      "min      1.000000    1.000000    1.000000    1.000000    1.000000    1.000000   \n",
      "25%      1.000000    1.000000    1.000000    1.000000    2.000000    1.000000   \n",
      "50%      3.000000    1.000000    1.000000    1.000000    2.000000    1.000000   \n",
      "75%      5.000000    3.000000    4.000000    3.000000    3.000000    4.000000   \n",
      "max     10.000000   10.000000   10.000000   10.000000   10.000000   10.000000   \n",
      "\n",
      "                6           7           8  \n",
      "count  699.000000  699.000000  699.000000  \n",
      "mean     3.217454    2.414878    1.502146  \n",
      "std      2.321862    2.783415    1.615091  \n",
      "min      1.000000    1.000000    1.000000  \n",
      "25%      2.000000    1.000000    1.000000  \n",
      "50%      2.000000    1.000000    1.000000  \n",
      "75%      4.000000    2.000000    1.000000  \n",
      "max     10.000000   10.000000   10.000000  \n",
      "\n",
      "Coefficients de variation en %\n",
      "E_MASSE          77.265653\n",
      "UNI_TAILLE      107.031841\n",
      "UNI_FORME       102.092057\n",
      "ADHESION        107.179809\n",
      "TAILLE_EPITH     68.856689\n",
      "NOYAUX          113.076540\n",
      "CHROMATINE       72.164576\n",
      "NORM_NUCLUS     115.261091\n",
      "MITOSES         107.518932\n",
      "dtype: float64\n"
     ]
    }
   ],
   "source": [
    "#-> Déclaration du modèle : paramètre la veleur la plus fréquente\n",
    "fun = SimpleImputer(missing_values = np.nan , strategy = 'most_frequent')\n",
    "#-> On effectue l'estimation\n",
    "fun.fit(df_num) \n",
    "#-> on récupère le dataframe avec les valeurs imputées\n",
    "df_freq      = pd.DataFrame(fun.transform(df_num))\n",
    "df_freq_stat = df_freq.describe()\n",
    "\n",
    "print( '\\n' + 'Statistiques déscriptives : valeur la plus fréquente')\n",
    "print(df_freq_stat)\n",
    "\n",
    "#-> Calcul des % de variation\n",
    "#-> df_mean_stat est un objet Panda: on récupère les lignes 1 et 2\n",
    "freq_CV = df_freq_stat.iloc[2,:] / df_freq_stat.iloc[1,:] *100 \n",
    "\n",
    "print( '\\n' + 'Coefficients de variation en %') \n",
    "freq_CV.index = df_num.columns.tolist()\n",
    "print(freq_CV)\n"
   ]
  },
  {
   "cell_type": "markdown",
   "metadata": {},
   "source": [
    "• Question : Comparer les CV% entre les 3 méthodes\n",
    "\n",
    "• Comme on peut le constater, les mêmes programmes sont réalisés 3 fois entrainant un\n",
    "nombre de lignes de code important. Il serait peut être judicieux d’écrire une petite\n",
    "fonction qui encapsule le code par exemple :\n",
    "    "
   ]
  },
  {
   "cell_type": "code",
   "execution_count": 17,
   "metadata": {},
   "outputs": [],
   "source": [
    "def Imputation_Simple(num_ar,miss_val = np.nan, method = 'mean'):\n",
    "    try:\n",
    "        fun = SimpleImputer(missing_values = np.nan , strategy = method)\n",
    "        fun.fit(num_ar) # set\n",
    "        num_ar_imputed = fun.transform(num_ar)\n",
    "\n",
    "    except ValueError:\n",
    "        print(\"l'argument data n'est pas conforme\")\n",
    "        return(999)\n",
    "    else:\n",
    "        return(num_ar_imputed)"
   ]
  },
  {
   "cell_type": "code",
   "execution_count": 18,
   "metadata": {},
   "outputs": [],
   "source": [
    "# Appel de la fonction\n",
    "# Imputation par la moyenne -->\n",
    "df_impMean = Imputation_Simple(num_ar = df_num)\n",
    "# Imputation par la médiane -->\n",
    "df_impMedian = Imputation_Simple(num_ar = df_num, method = 'median')\n",
    "# imputation par la valeur la plus féquente -->\n",
    "df_impMostFreq = Imputation_Simple(num_ar = df_num, method = 'most_frequent')\n",
    "# et voilà"
   ]
  },
  {
   "cell_type": "markdown",
   "metadata": {},
   "source": [
    "**5.3. Cold-Deck : KNN**\n",
    "\n",
    "La méthode d’imputation par les K-plus proches voisins est réalisée par une classe qui\n",
    "fonctionne de manière analogue à celle vue pour l’imputation par une valeur unique. La\n",
    "méthode KNNImputer fonctionne aussi en trois étapes + on déclare le modèle; il s’agit de la\n",
    "fonction KNNImputer dans laquelle on assigne le nombre de K plus proches voisins (appel à\n",
    "un constructeur) + … puis on effectue l’estimation + ….puis on impute les données\n",
    "manquantes dans la dataFrame.\n",
    "Le scriptsuivant réalise une imputation avec les 5 plus proches voisins\n"
   ]
  },
  {
   "cell_type": "code",
   "execution_count": 19,
   "metadata": {},
   "outputs": [
    {
     "data": {
      "text/plain": [
       "0     61.578089\n",
       "1     96.229251\n",
       "2     91.608063\n",
       "3     97.988715\n",
       "4     67.093923\n",
       "5    101.462502\n",
       "6     69.550040\n",
       "7    104.619349\n",
       "8    104.018939\n",
       "dtype: float64"
      ]
     },
     "execution_count": 19,
     "metadata": {},
     "output_type": "execute_result"
    }
   ],
   "source": [
    "fun = KNNImputer(missing_values = np.nan ,n_neighbors = 5)\n",
    "fun.fit(df_num) \n",
    "df_KNN_5   = pd.DataFrame(fun.transform(df_num))\n",
    "stat_KNN_5 = df_KNN_5.describe()\n",
    "stat_KNN_5.loc['std',:] / stat_KNN_5 .loc['mean',:] *100\n"
   ]
  },
  {
   "cell_type": "markdown",
   "metadata": {},
   "source": [
    "Réalisez une fonction qui permet de calculer les imputations de manière automatique.  Cette fonction retourne un dictionnaire avec les éléments suivants :\n",
    " - Le data frame des valeurs imputées\n",
    " - les statistiques descriptives\n",
    " - les coefficients de variations\n"
   ]
  },
  {
   "cell_type": "code",
   "execution_count": 20,
   "metadata": {},
   "outputs": [
    {
     "name": "stdout",
     "output_type": "stream",
     "text": [
      "     E_MASSE  UNI_TAILLE  UNI_FORME  ADHESION  TAILLE_EPITH  NOYAUX  \\\n",
      "0        5.0         1.0        1.0       1.0           2.0     1.0   \n",
      "1        8.0         4.0        4.0       5.0           3.9    10.0   \n",
      "2        3.0         1.0        1.0       1.0           2.0     1.4   \n",
      "3        6.0         8.0        4.9       2.8           4.5     4.0   \n",
      "4        4.0         1.0        1.0       3.0           2.0     1.0   \n",
      "..       ...         ...        ...       ...           ...     ...   \n",
      "694      3.0         1.0        1.3       1.0           3.0     2.0   \n",
      "695      2.0         1.0        1.0       1.1           2.0     1.0   \n",
      "696      7.8        10.0        8.5       3.0           6.3     5.1   \n",
      "697      4.0         8.0        6.0       4.0           3.0     4.0   \n",
      "698      4.0         8.0        8.0       5.0           4.0     5.0   \n",
      "\n",
      "     CHROMATINE  NORM_NUCLUS  MITOSES  \n",
      "0           3.0          1.0      1.0  \n",
      "1           3.0          2.0      1.0  \n",
      "2           3.0          1.0      1.0  \n",
      "3           3.0          7.0      1.0  \n",
      "4           3.0          1.0      1.0  \n",
      "..          ...          ...      ...  \n",
      "694         1.0          1.0      1.0  \n",
      "695         2.1          1.0      1.0  \n",
      "696         8.0         10.0      1.3  \n",
      "697        10.0          4.9      1.0  \n",
      "698        10.0          4.0      1.0  \n",
      "\n",
      "[699 rows x 9 columns]\n",
      "\n",
      "\n",
      "          E_MASSE  UNI_TAILLE   UNI_FORME    ADHESION  TAILLE_EPITH  \\\n",
      "count  699.000000  699.000000  699.000000  699.000000     699.00000   \n",
      "mean     4.426753    3.122175    3.113734    2.770529       3.17010   \n",
      "std      2.699689    3.018545    2.853231    2.703434       2.11426   \n",
      "min      1.000000    1.000000    1.000000    1.000000       1.00000   \n",
      "25%      2.400000    1.000000    1.000000    1.000000       2.00000   \n",
      "50%      4.000000    1.100000    1.400000    1.100000       2.00000   \n",
      "75%      6.000000    5.000000    5.000000    4.000000       4.00000   \n",
      "max     10.000000   10.000000   10.000000   10.000000      10.00000   \n",
      "\n",
      "           NOYAUX  CHROMATINE  NORM_NUCLUS     MITOSES  \n",
      "count  699.000000  699.000000   699.000000  699.000000  \n",
      "mean     3.512446    3.447926     2.825465    1.598283  \n",
      "std      3.560086    2.390695     2.928696    1.650353  \n",
      "min      1.000000    1.000000     1.000000    1.000000  \n",
      "25%      1.000000    2.000000     1.000000    1.000000  \n",
      "50%      1.000000    2.800000     1.000000    1.000000  \n",
      "75%      6.300000    5.000000     4.000000    1.000000  \n",
      "max     10.000000   10.000000    10.000000   10.000000  \n",
      "\n",
      "\n",
      "E_MASSE          60.985779\n",
      "UNI_TAILLE       96.680852\n",
      "UNI_FORME        91.633754\n",
      "ADHESION         97.578261\n",
      "TAILLE_EPITH     66.693777\n",
      "NOYAUX          101.356318\n",
      "CHROMATINE       69.337194\n",
      "NORM_NUCLUS     103.653587\n",
      "MITOSES         103.257847\n",
      "dtype: float64\n"
     ]
    }
   ],
   "source": [
    "# Fonction\n",
    "def KNN(df, n_ppv):\n",
    "    fun = KNNImputer(missing_values = np.nan ,n_neighbors = n_ppv)\n",
    "    fun.fit(df)\n",
    "    df_out  = pd.DataFrame(fun.transform(df))\n",
    "    df_out.columns = df.columns.tolist()\n",
    "    \n",
    "    df_stat = df_out.describe()\n",
    "    \n",
    "    df_CV   = df_stat.iloc[2,:] / df_stat.iloc[1,:] *100 \n",
    "    df_CV.index = df.columns.tolist()\n",
    "\n",
    "    return { 'data' : df_out, 'stat' : df_stat, 'cv' : df_CV  }\n",
    "\n",
    "result = KNN(df_num,  10)\n",
    "\n",
    "print(result['data'])\n",
    "print('\\n')\n",
    "print(result['stat'])\n",
    "print('\\n')\n",
    "print(result['cv'])\n"
   ]
  },
  {
   "cell_type": "markdown",
   "metadata": {},
   "source": [
    "Cette méthode d'imputation pose le problème du choix des k plus proches voisins.\n",
    "Utilisez la fonction pour calculer les valeur imputées avec K = 1, 5, 10, 15, 20, 30, 50 \n",
    "A partir des CV, quelle serait, selon vous le k optimal ?"
   ]
  },
  {
   "cell_type": "code",
   "execution_count": 21,
   "metadata": {},
   "outputs": [
    {
     "name": "stdout",
     "output_type": "stream",
     "text": [
      "                       0           0           0           0           0  \\\n",
      "E_MASSE        62.752079   61.578089   60.985779   60.900523   60.697029   \n",
      "UNI_TAILLE     98.871859   96.229251   96.680852   96.540326   96.540843   \n",
      "UNI_FORME      93.305427   91.608063   91.633754   91.484781   91.238062   \n",
      "ADHESION      101.922697   97.988715   97.578261   97.224058   97.193611   \n",
      "TAILLE_EPITH   69.178046   67.093923   66.693777   66.525871   66.550504   \n",
      "NOYAUX        103.748898  101.462502  101.356318  100.936653  100.787067   \n",
      "CHROMATINE     68.413309   69.550040   69.337194   69.039278   68.972244   \n",
      "NORM_NUCLUS   108.606755  104.619349  103.653587  103.447563  103.085009   \n",
      "MITOSES       107.984052  104.018939  103.257847  102.743928  102.818306   \n",
      "\n",
      "                       0           0  \n",
      "E_MASSE        60.598326   60.498177  \n",
      "UNI_TAILLE     96.552514   96.448982  \n",
      "UNI_FORME      91.037793   90.754064  \n",
      "ADHESION       97.179328   97.004455  \n",
      "TAILLE_EPITH   66.279606   66.226926  \n",
      "NOYAUX        100.569482  100.636105  \n",
      "CHROMATINE     69.038825   68.950296  \n",
      "NORM_NUCLUS   103.005269  102.502553  \n",
      "MITOSES       102.747977  102.768870  \n"
     ]
    }
   ],
   "source": [
    "knn = [1,5,10,15,20,30,50]\n",
    "\n",
    "c = pd.DataFrame()\n",
    "for i in knn:\n",
    "    res = KNN(df_num,  i)\n",
    "    c   = pd.concat([c, res['cv']], axis = 1)\n",
    "print(c)\n",
    " "
   ]
  },
  {
   "cell_type": "code",
   "execution_count": null,
   "metadata": {},
   "outputs": [],
   "source": []
  },
  {
   "cell_type": "code",
   "execution_count": null,
   "metadata": {},
   "outputs": [],
   "source": []
  }
 ],
 "metadata": {
  "hide_input": false,
  "kernelspec": {
   "display_name": "Python 3 (ipykernel)",
   "language": "python",
   "name": "python3"
  },
  "language_info": {
   "codemirror_mode": {
    "name": "ipython",
    "version": 3
   },
   "file_extension": ".py",
   "mimetype": "text/x-python",
   "name": "python",
   "nbconvert_exporter": "python",
   "pygments_lexer": "ipython3",
   "version": "3.9.7"
  },
  "latex_envs": {
   "LaTeX_envs_menu_present": true,
   "autoclose": false,
   "autocomplete": true,
   "bibliofile": "latex_bib.bib",
   "cite_by": "apalike",
   "current_citInitial": 1,
   "eqLabelWithNumbers": true,
   "eqNumInitial": 1,
   "hotkeys": {
    "equation": "ctrl-e"
   },
   "labels_anchors": false,
   "latex_user_defs": false,
   "report_style_numbering": false,
   "user_envs_cfg": false
  },
  "nbTranslate": {
   "displayLangs": [
    "*"
   ],
   "hotkey": "alt-t",
   "langInMainMenu": true,
   "sourceLang": "en",
   "targetLang": "fr",
   "useGoogleTranslate": true
  },
  "toc": {
   "base_numbering": "1",
   "lock_sidebar": true,
   "nav_menu": {},
   "number_sections": true,
   "sideBar": true,
   "skip_h1_title": false,
   "title_cell": "Table of Contents",
   "title_sidebar": "Contents",
   "toc_cell": false,
   "toc_position": {},
   "toc_section_display": true,
   "toc_window_display": true
  },
  "varInspector": {
   "cols": {
    "lenName": 16,
    "lenType": 16,
    "lenVar": 40
   },
   "kernels_config": {
    "python": {
     "delete_cmd_postfix": "",
     "delete_cmd_prefix": "del ",
     "library": "var_list.py",
     "varRefreshCmd": "print(var_dic_list())"
    },
    "r": {
     "delete_cmd_postfix": ") ",
     "delete_cmd_prefix": "rm(",
     "library": "var_list.r",
     "varRefreshCmd": "cat(var_dic_list()) "
    }
   },
   "types_to_exclude": [
    "module",
    "function",
    "builtin_function_or_method",
    "instance",
    "_Feature"
   ],
   "window_display": false
  }
 },
 "nbformat": 4,
 "nbformat_minor": 2
}
