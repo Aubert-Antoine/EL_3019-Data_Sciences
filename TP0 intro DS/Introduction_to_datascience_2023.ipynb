{
 "cells": [
  {
   "cell_type": "code",
   "execution_count": 4,
   "metadata": {},
   "outputs": [],
   "source": [
    "import pandas as pd  # pandas\n",
    "import numpy as np # numpy\n",
    "import seaborn as sns # seaborn\n",
    "import matplotlib.pyplot as plt"
   ]
  },
  {
   "cell_type": "code",
   "execution_count": 5,
   "metadata": {},
   "outputs": [],
   "source": [
    "import warnings\n",
    "warnings.simplefilter(action='ignore', category=FutureWarning)"
   ]
  },
  {
   "cell_type": "markdown",
   "metadata": {},
   "source": [
    "<font size=\"6\" color=\"blue\"> Unité Datascience 'Exploration et correction de données' </font>\n",
    "\n",
    "**Objectif**\n",
    "\n",
    "Dans le domaine des datasciences, il est bien connu que 70 à 80% du travail réside dans l'exploration et la préparation des données, avant même ou conjointement à l'utilisation des méthodes de machine learning.\n",
    "\n",
    "L'objectif de l'unité est d'insister sur cette partie de préparation, mais aussi de présenter quelques méthodes élémentaires de traitement. Il s'agit d'apprendre aux étudiants à lire, nettoyer, transformer un jeu de données avant de les utiliser. Les étudiants apprendront d'abord à lire des données, les caractériser et les décrire, via des statistiques descriptives et des méthodes graphiques. On leur montrera ensuite comment nettoyer, normaliser et transformer ces données, comment détecter et corriger des valeurs aberrantes, comment remplacer ou supprimer les données manquantes. On décrira ensuite comment on pourra combiner ou encoder des variables, comment extraire des informations à partir de données brutes (exemple de textes). Enfin, on décrira quelques méthodes couramment utilisées.\n",
    "Les cours sont largement illustrés par des TD sur machines, souvent avec des données réelles.  \n",
    "\n",
    "Compétences :\n",
    "- savoir caractériser un jeu de données,\n",
    "- savoir détecter et prendre en compte ou corriger des données aberrantes ou manquantes\n",
    "- combiner des données élémentaires\n",
    "- connaître des traitements élémentaires mais puissants d'analyse de données"
   ]
  },
  {
   "cell_type": "markdown",
   "metadata": {},
   "source": [
    "# Introduction et plan"
   ]
  },
  {
   "cell_type": "markdown",
   "metadata": {},
   "source": [
    "*Contenu et planning des enseignements*\n",
    "\n",
    "0 - Présentation générale : La datascience par rapport à l'apprentissage automatique (machine learning) et à l'intelligence artificielle ?\n",
    "0.5C\n",
    "\n",
    "1 - Caractériser les données\n",
    "Data types, variables quantitatives, qualitatives/catégorielles\n",
    "Statistiques descriptives d'un jeu de données.\n",
    "Visualisations. Outils d'exploration des données.\n",
    "2.5C + 3TP\n",
    "\n",
    "2 - Nettoyer et transformer\n",
    "Conversions de types, jouer avec les dates\n",
    "Données manquantes. Techniques d'imputation\n",
    "Détection de données anormales (outliers) ; correction\n",
    "Normaliser et transformer les données (quand, pourquoi, comment)\n",
    "3C + 3TP\n",
    "\n",
    "3 - Compléter\n",
    "Features engineering : Combinaison de variables, regroupements, binarisation, one-hot encoding \n",
    "2C + 3TP\n",
    "\n",
    "QCM\n",
    "\n",
    "4 - Premières applications\n",
    "Exemples d'application et de méthodes couramment utilisées en DS :\n",
    "- ~~plus proches voisins~\n",
    "-  ~~analyse en composante principale. Utilisation en réduction de dimension, regroupements~\n",
    "- régression logistique ou discrimination bayésienne 2C + 3TP \n",
    "- prédiction linéaire multivariée 2C + 3TP \n",
    "\n",
    "5 - TP final synthétique (noté)\n",
    "2TP"
   ]
  },
  {
   "cell_type": "code",
   "execution_count": null,
   "metadata": {},
   "outputs": [],
   "source": [
    "Cours = 3+3+2+2+2\n",
    "TP = 3+4+3+4\n",
    "Contrôles = 3\n",
    "print(Cours, TP, Contrôles, Cours + TP + Contrôles )"
   ]
  },
  {
   "cell_type": "code",
   "execution_count": 6,
   "metadata": {},
   "outputs": [
    {
     "name": "stdout",
     "output_type": "stream",
     "text": [
      "12 15 3 30\n"
     ]
    }
   ],
   "source": [
    "Cours = 3+3+2+2+2\n",
    "TP = 3+3+3+3+3\n",
    "Contrôles = 3\n",
    "print(Cours, TP, Contrôles, Cours + TP + Contrôles )"
   ]
  },
  {
   "cell_type": "markdown",
   "metadata": {},
   "source": [
    "Cette séance :"
   ]
  },
  {
   "cell_type": "markdown",
   "metadata": {
    "toc": true
   },
   "source": [
    "<h1>Table of Contents<span class=\"tocSkip\"></span></h1>\n",
    "<div class=\"toc\"><ul class=\"toc-item\"><li><span><a href=\"#Introduction-et-plan\" data-toc-modified-id=\"Introduction-et-plan-1\"><span class=\"toc-item-num\">1&nbsp;&nbsp;</span>Introduction et plan</a></span><ul class=\"toc-item\"><li><span><a href=\"#La-datascience-par-rapport-à-l'apprentissage-automatique-(machine-learning)-et-à-l'intelligence-artificielle-?\" data-toc-modified-id=\"La-datascience-par-rapport-à-l'apprentissage-automatique-(machine-learning)-et-à-l'intelligence-artificielle-?-1.1\"><span class=\"toc-item-num\">1.1&nbsp;&nbsp;</span>La datascience par rapport à l'apprentissage automatique (machine learning) et à l'intelligence artificielle ?</a></span></li></ul></li><li><span><a href=\"#Préparer,-appréhender,-visualiser\" data-toc-modified-id=\"Préparer,-appréhender,-visualiser-2\"><span class=\"toc-item-num\">2&nbsp;&nbsp;</span>Préparer, appréhender, visualiser</a></span><ul class=\"toc-item\"><li><span><a href=\"#Préparation-des-données,-tidyfication\" data-toc-modified-id=\"Préparation-des-données,-tidyfication-2.1\"><span class=\"toc-item-num\">2.1&nbsp;&nbsp;</span>Préparation des données, tidyfication</a></span></li><li><span><a href=\"#Statistiques-descriptives\" data-toc-modified-id=\"Statistiques-descriptives-2.2\"><span class=\"toc-item-num\">2.2&nbsp;&nbsp;</span>Statistiques descriptives</a></span></li><li><span><a href=\"#La-distribution-des-données\" data-toc-modified-id=\"La-distribution-des-données-2.3\"><span class=\"toc-item-num\">2.3&nbsp;&nbsp;</span>La distribution des données</a></span><ul class=\"toc-item\"><li><span><a href=\"#Distribution-gaussienne\" data-toc-modified-id=\"Distribution-gaussienne-2.3.1\"><span class=\"toc-item-num\">2.3.1&nbsp;&nbsp;</span>Distribution gaussienne</a></span></li><li><span><a href=\"#Histogramme\" data-toc-modified-id=\"Histogramme-2.3.2\"><span class=\"toc-item-num\">2.3.2&nbsp;&nbsp;</span>Histogramme</a></span></li><li><span><a href=\"#Boxplot\" data-toc-modified-id=\"Boxplot-2.3.3\"><span class=\"toc-item-num\">2.3.3&nbsp;&nbsp;</span>Boxplot</a></span></li><li><span><a href=\"#Scatterplots\" data-toc-modified-id=\"Scatterplots-2.3.4\"><span class=\"toc-item-num\">2.3.4&nbsp;&nbsp;</span>Scatterplots</a></span></li><li><span><a href=\"#Rechercher-des-relations-linéaires\" data-toc-modified-id=\"Rechercher-des-relations-linéaires-2.3.5\"><span class=\"toc-item-num\">2.3.5&nbsp;&nbsp;</span>Rechercher des relations linéaires</a></span></li><li><span><a href=\"#Examiner-des-corrélations\" data-toc-modified-id=\"Examiner-des-corrélations-2.3.6\"><span class=\"toc-item-num\">2.3.6&nbsp;&nbsp;</span>Examiner des corrélations</a></span></li><li><span><a href=\"#Visualiser-les-données-conjointement\" data-toc-modified-id=\"Visualiser-les-données-conjointement-2.3.7\"><span class=\"toc-item-num\">2.3.7&nbsp;&nbsp;</span>Visualiser les données conjointement</a></span></li></ul></li></ul></li><li><span><a href=\"#Pandas\" data-toc-modified-id=\"Pandas-3\"><span class=\"toc-item-num\">3&nbsp;&nbsp;</span>Pandas</a></span><ul class=\"toc-item\"><li><span><a href=\"#Rappel---Numpy\" data-toc-modified-id=\"Rappel---Numpy-3.1\"><span class=\"toc-item-num\">3.1&nbsp;&nbsp;</span>Rappel - Numpy</a></span></li><li><span><a href=\"#Quelques-fonctions-utiles-pour-la-présentation\" data-toc-modified-id=\"Quelques-fonctions-utiles-pour-la-présentation-3.2\"><span class=\"toc-item-num\">3.2&nbsp;&nbsp;</span>Quelques fonctions utiles pour la présentation</a></span></li></ul></li><li><span><a href=\"#DataFrames-pandas\" data-toc-modified-id=\"DataFrames-pandas-4\"><span class=\"toc-item-num\">4&nbsp;&nbsp;</span>DataFrames pandas</a></span><ul class=\"toc-item\"><li><span><a href=\"#Introduction\" data-toc-modified-id=\"Introduction-4.1\"><span class=\"toc-item-num\">4.1&nbsp;&nbsp;</span>Introduction</a></span></li><li><span><a href=\"#Accéder-aux-données-:\" data-toc-modified-id=\"Accéder-aux-données-:-4.2\"><span class=\"toc-item-num\">4.2&nbsp;&nbsp;</span>Accéder aux données :</a></span><ul class=\"toc-item\"><li><span><a href=\"#Les-index\" data-toc-modified-id=\"Les-index-4.2.1\"><span class=\"toc-item-num\">4.2.1&nbsp;&nbsp;</span>Les index</a></span></li><li><span><a href=\"#Modifier-un-dataframe-:-affectation,-apply,-applymap\" data-toc-modified-id=\"Modifier-un-dataframe-:-affectation,-apply,-applymap-4.2.2\"><span class=\"toc-item-num\">4.2.2&nbsp;&nbsp;</span>Modifier un dataframe : affectation, apply, applymap</a></span></li><li><span><a href=\"#Concaténer,-joindre,-etc\" data-toc-modified-id=\"Concaténer,-joindre,-etc-4.2.3\"><span class=\"toc-item-num\">4.2.3&nbsp;&nbsp;</span>Concaténer, joindre, etc</a></span></li><li><span><a href=\"#Merge-et-join\" data-toc-modified-id=\"Merge-et-join-4.2.4\"><span class=\"toc-item-num\">4.2.4&nbsp;&nbsp;</span>Merge et join</a></span></li></ul></li><li><span><a href=\"#Les-opérations-sur-les-groupes-:-Split-Apply-Combine\" data-toc-modified-id=\"Les-opérations-sur-les-groupes-:-Split-Apply-Combine-4.3\"><span class=\"toc-item-num\">4.3&nbsp;&nbsp;</span>Les opérations sur les groupes : Split-Apply-Combine</a></span></li><li><span><a href=\"#pivot_table\" data-toc-modified-id=\"pivot_table-4.4\"><span class=\"toc-item-num\">4.4&nbsp;&nbsp;</span>pivot_table</a></span></li><li><span><a href=\"#Non-traité\" data-toc-modified-id=\"Non-traité-4.5\"><span class=\"toc-item-num\">4.5&nbsp;&nbsp;</span>Non traité</a></span></li></ul></li></ul></div>"
   ]
  },
  {
   "cell_type": "markdown",
   "metadata": {
    "slideshow": {
     "slide_type": "slide"
    }
   },
   "source": [
    "## La datascience par rapport à l'apprentissage automatique (machine learning) et à l'intelligence artificielle ?"
   ]
  },
  {
   "cell_type": "markdown",
   "metadata": {
    "slideshow": {
     "slide_type": "fragment"
    }
   },
   "source": [
    "![](images/un.png)\n",
    "\n",
    "Paul van der Laken, 16 janvier 2018, “What’s the difference between data science, machine learning, and artificial intelligence?”, visualized "
   ]
  },
  {
   "cell_type": "markdown",
   "metadata": {},
   "source": [
    "- Data science produces insights\n",
    "- Machine learning produces predictions\n",
    "- Artificial intelligence produces actions\n",
    "\n",
    "These definitions are overly simplistic: “A fortune teller makes predictions, but we’d never say that they’re doing machine learning!”. However, I feel its a great first attempt at demystification"
   ]
  },
  {
   "cell_type": "markdown",
   "metadata": {},
   "source": [
    "**Pour quoi faire ?** \n",
    "\n",
    "- décrire des processus ou des organisations \n",
    "- détecter des anomalies\n",
    "- diagnostiquer les causes des événements et comportements - expliquer\n",
    "- prédire\n",
    "- optimiser\n",
    "- recommander\n",
    "\n",
    "\"*data driven decisions*\"\n"
   ]
  },
  {
   "cell_type": "markdown",
   "metadata": {},
   "source": [
    "![](images/deux.png)\n",
    "\n",
    "[D'après datacamp \"Datascience for everyone\"] Préparation et exploration se mènent csouvent conjointement. "
   ]
  },
  {
   "cell_type": "markdown",
   "metadata": {},
   "source": [
    "***Où trouve-t-on des données, comment les récupérer, les lire***\n"
   ]
  },
  {
   "cell_type": "markdown",
   "metadata": {},
   "source": [
    "- Données d'entreprise\n",
    "    - web, cients, compta (flux financiers), questionnaires\n",
    "- Données publiques\n",
    "    - registres du commerce, insee, état\n",
    "- Open data \n",
    "    - API publiques twitter, wikipedia, google maps, sncf\n",
    "    \n",
    "Forme : structurées (tableaux, bases de données) ou non images, textes, paroles, géolocalisations, ... \n",
    "\n",
    "Formats : multiples csv, xls, db, parquet, json, html, texte... "
   ]
  },
  {
   "cell_type": "markdown",
   "metadata": {},
   "source": [
    "**Types de données**\n",
    "\n",
    "- quantitatives = variables qui peuvent être mesurées numériquement\n",
    "     - température,\n",
    "     - nombre de connexions,\n",
    "     - prix, etc\n",
    "- qualitatives / catégorielles \n",
    "     - groupe sanguin A, B, AB ou O.\n",
    "     - la nationalité \n",
    "     - le type de mot (nom, verbe, adverbe, adjectif..)\n",
    "     - couleur\n",
    "- ordinales = qualitatives mais avec une notion d'ordre\n",
    "     - petit, moyen, grand\n",
    "     - A, B, C, D, E, F (Fx)\n",
    "     "
   ]
  },
  {
   "cell_type": "markdown",
   "metadata": {},
   "source": [
    "# Préparer, appréhender, visualiser"
   ]
  },
  {
   "cell_type": "markdown",
   "metadata": {},
   "source": [
    "## Préparation des données, tidyfication"
   ]
  },
  {
   "cell_type": "markdown",
   "metadata": {},
   "source": [
    "**Exemple 1 (d'après Datacamp - datascience for everyone)**"
   ]
  },
  {
   "cell_type": "markdown",
   "metadata": {},
   "source": [
    "Table initiale\n",
    "\n",
    "![](images/trois.png)\n"
   ]
  },
  {
   "cell_type": "markdown",
   "metadata": {},
   "source": [
    "Tidyfication"
   ]
  },
  {
   "cell_type": "markdown",
   "metadata": {},
   "source": [
    "\n",
    "![](images/4.png)"
   ]
  },
  {
   "cell_type": "markdown",
   "metadata": {},
   "source": [
    "lignes dupliquées"
   ]
  },
  {
   "cell_type": "markdown",
   "metadata": {},
   "source": [
    "![](images/5.png)"
   ]
  },
  {
   "cell_type": "markdown",
   "metadata": {},
   "source": [
    "ID unique..."
   ]
  },
  {
   "cell_type": "markdown",
   "metadata": {},
   "source": [
    "![](images/6.png)"
   ]
  },
  {
   "cell_type": "markdown",
   "metadata": {},
   "source": [
    "Homogénéité (unité de taille pouces --> m)"
   ]
  },
  {
   "cell_type": "markdown",
   "metadata": {},
   "source": [
    "![](images/7.png)"
   ]
  },
  {
   "cell_type": "markdown",
   "metadata": {},
   "source": [
    "Homogénéité (abbréviation des pays)"
   ]
  },
  {
   "cell_type": "markdown",
   "metadata": {},
   "source": [
    "![](images/8.png)"
   ]
  },
  {
   "cell_type": "markdown",
   "metadata": {},
   "source": [
    "Conversion de type (str --> int)"
   ]
  },
  {
   "cell_type": "markdown",
   "metadata": {},
   "source": [
    "![](images/9.png)"
   ]
  },
  {
   "cell_type": "markdown",
   "metadata": {},
   "source": [
    "**Exemple 2**"
   ]
  },
  {
   "cell_type": "code",
   "execution_count": 9,
   "metadata": {},
   "outputs": [
    {
     "data": {
      "text/html": [
       "<div>\n",
       "<style scoped>\n",
       "    .dataframe tbody tr th:only-of-type {\n",
       "        vertical-align: middle;\n",
       "    }\n",
       "\n",
       "    .dataframe tbody tr th {\n",
       "        vertical-align: top;\n",
       "    }\n",
       "\n",
       "    .dataframe thead th {\n",
       "        text-align: right;\n",
       "    }\n",
       "</style>\n",
       "<table border=\"1\" class=\"dataframe\">\n",
       "  <thead>\n",
       "    <tr style=\"text-align: right;\">\n",
       "      <th></th>\n",
       "      <th>Country</th>\n",
       "      <th>Continent</th>\n",
       "      <th>female literacy</th>\n",
       "      <th>fertility</th>\n",
       "      <th>population</th>\n",
       "    </tr>\n",
       "  </thead>\n",
       "  <tbody>\n",
       "    <tr>\n",
       "      <th>158</th>\n",
       "      <td>Vanuatu</td>\n",
       "      <td>OCE</td>\n",
       "      <td>79.5</td>\n",
       "      <td>3.883</td>\n",
       "      <td>233866</td>\n",
       "    </tr>\n",
       "    <tr>\n",
       "      <th>159</th>\n",
       "      <td>Samoa</td>\n",
       "      <td>OCE</td>\n",
       "      <td>98.5</td>\n",
       "      <td>3.852</td>\n",
       "      <td>178869</td>\n",
       "    </tr>\n",
       "    <tr>\n",
       "      <th>160</th>\n",
       "      <td>Sao Tomé-et-Principe</td>\n",
       "      <td>AF</td>\n",
       "      <td>83.3</td>\n",
       "      <td>3.718</td>\n",
       "      <td>160174</td>\n",
       "    </tr>\n",
       "    <tr>\n",
       "      <th>161</th>\n",
       "      <td>Aruba</td>\n",
       "      <td>LAT</td>\n",
       "      <td>98.0</td>\n",
       "      <td>1.732</td>\n",
       "      <td>105455</td>\n",
       "    </tr>\n",
       "    <tr>\n",
       "      <th>162</th>\n",
       "      <td>Tonga</td>\n",
       "      <td>ASI</td>\n",
       "      <td>99.1</td>\n",
       "      <td>3.928</td>\n",
       "      <td>103566</td>\n",
       "    </tr>\n",
       "  </tbody>\n",
       "</table>\n",
       "</div>"
      ],
      "text/plain": [
       "                 Country  Continent  female literacy  fertility  population\n",
       "158               Vanuatu       OCE             79.5      3.883      233866\n",
       "159                 Samoa       OCE             98.5      3.852      178869\n",
       "160  Sao Tomé-et-Principe        AF             83.3      3.718      160174\n",
       "161                 Aruba       LAT             98.0      1.732      105455\n",
       "162                 Tonga       ASI             99.1      3.928      103566"
      ]
     },
     "execution_count": 9,
     "metadata": {},
     "output_type": "execute_result"
    }
   ],
   "source": [
    "literacy = pd.read_csv('literary_birth_rate.csv', sep=\";\", thousands=\",\") # <--- paramètres !\n",
    "literacy.tail()"
   ]
  },
  {
   "cell_type": "markdown",
   "metadata": {},
   "source": [
    "- Inconsistance dans le nom des colonnes (capitalisation, espaces)\n",
    "- Langue, caractères étendus\n"
   ]
  },
  {
   "cell_type": "code",
   "execution_count": 10,
   "metadata": {},
   "outputs": [
    {
     "data": {
      "text/plain": [
       "(163, 5)"
      ]
     },
     "execution_count": 10,
     "metadata": {},
     "output_type": "execute_result"
    }
   ],
   "source": [
    "literacy.shape"
   ]
  },
  {
   "cell_type": "code",
   "execution_count": 11,
   "metadata": {},
   "outputs": [
    {
     "name": "stdout",
     "output_type": "stream",
     "text": [
      "<class 'pandas.core.frame.DataFrame'>\n",
      "RangeIndex: 163 entries, 0 to 162\n",
      "Data columns (total 5 columns):\n",
      " #   Column           Non-Null Count  Dtype  \n",
      "---  ------           --------------  -----  \n",
      " 0   Country          163 non-null    object \n",
      " 1   Continent        163 non-null    object \n",
      " 2   female literacy  163 non-null    float64\n",
      " 3   fertility        163 non-null    float64\n",
      " 4   population       163 non-null    int64  \n",
      "dtypes: float64(2), int64(1), object(2)\n",
      "memory usage: 6.5+ KB\n"
     ]
    }
   ],
   "source": [
    "literacy.info()"
   ]
  },
  {
   "cell_type": "markdown",
   "metadata": {},
   "source": [
    "Object ?"
   ]
  },
  {
   "cell_type": "code",
   "execution_count": 12,
   "metadata": {},
   "outputs": [
    {
     "data": {
      "text/html": [
       "<div>\n",
       "<style scoped>\n",
       "    .dataframe tbody tr th:only-of-type {\n",
       "        vertical-align: middle;\n",
       "    }\n",
       "\n",
       "    .dataframe tbody tr th {\n",
       "        vertical-align: top;\n",
       "    }\n",
       "\n",
       "    .dataframe thead th {\n",
       "        text-align: right;\n",
       "    }\n",
       "</style>\n",
       "<table border=\"1\" class=\"dataframe\">\n",
       "  <thead>\n",
       "    <tr style=\"text-align: right;\">\n",
       "      <th></th>\n",
       "      <th>female literacy</th>\n",
       "      <th>fertility</th>\n",
       "      <th>population</th>\n",
       "    </tr>\n",
       "  </thead>\n",
       "  <tbody>\n",
       "    <tr>\n",
       "      <th>count</th>\n",
       "      <td>163.000000</td>\n",
       "      <td>163.000000</td>\n",
       "      <td>1.630000e+02</td>\n",
       "    </tr>\n",
       "    <tr>\n",
       "      <th>mean</th>\n",
       "      <td>80.223313</td>\n",
       "      <td>2.872491</td>\n",
       "      <td>5.276397e+07</td>\n",
       "    </tr>\n",
       "    <tr>\n",
       "      <th>std</th>\n",
       "      <td>23.028749</td>\n",
       "      <td>1.425371</td>\n",
       "      <td>2.191709e+08</td>\n",
       "    </tr>\n",
       "    <tr>\n",
       "      <th>min</th>\n",
       "      <td>12.600000</td>\n",
       "      <td>0.966000</td>\n",
       "      <td>1.035660e+05</td>\n",
       "    </tr>\n",
       "    <tr>\n",
       "      <th>25%</th>\n",
       "      <td>66.550000</td>\n",
       "      <td>1.824500</td>\n",
       "      <td>3.378469e+06</td>\n",
       "    </tr>\n",
       "    <tr>\n",
       "      <th>50%</th>\n",
       "      <td>90.200000</td>\n",
       "      <td>2.362000</td>\n",
       "      <td>9.694113e+06</td>\n",
       "    </tr>\n",
       "    <tr>\n",
       "      <th>75%</th>\n",
       "      <td>98.500000</td>\n",
       "      <td>3.877500</td>\n",
       "      <td>2.882311e+07</td>\n",
       "    </tr>\n",
       "    <tr>\n",
       "      <th>max</th>\n",
       "      <td>100.000000</td>\n",
       "      <td>7.069000</td>\n",
       "      <td>2.191972e+09</td>\n",
       "    </tr>\n",
       "  </tbody>\n",
       "</table>\n",
       "</div>"
      ],
      "text/plain": [
       "       female literacy   fertility    population\n",
       "count       163.000000  163.000000  1.630000e+02\n",
       "mean         80.223313    2.872491  5.276397e+07\n",
       "std          23.028749    1.425371  2.191709e+08\n",
       "min          12.600000    0.966000  1.035660e+05\n",
       "25%          66.550000    1.824500  3.378469e+06\n",
       "50%          90.200000    2.362000  9.694113e+06\n",
       "75%          98.500000    3.877500  2.882311e+07\n",
       "max         100.000000    7.069000  2.191972e+09"
      ]
     },
     "execution_count": 12,
     "metadata": {},
     "output_type": "execute_result"
    }
   ],
   "source": [
    "literacy.describe()  #variables quantitatives"
   ]
  },
  {
   "cell_type": "code",
   "execution_count": 13,
   "metadata": {},
   "outputs": [
    {
     "data": {
      "text/plain": [
       "AF     49\n",
       "ASI    47\n",
       "EUR    37\n",
       "LAT    24\n",
       "OCE     4\n",
       "NAM     2\n",
       "Name: Continent, dtype: int64"
      ]
     },
     "execution_count": 13,
     "metadata": {},
     "output_type": "execute_result"
    }
   ],
   "source": [
    "literacy['Continent'].value_counts()"
   ]
  },
  {
   "cell_type": "code",
   "execution_count": 15,
   "metadata": {},
   "outputs": [
    {
     "ename": "KeyError",
     "evalue": "'Country'",
     "output_type": "error",
     "traceback": [
      "\u001b[0;31m---------------------------------------------------------------------------\u001b[0m",
      "\u001b[0;31mKeyError\u001b[0m                                  Traceback (most recent call last)",
      "File \u001b[0;32m/opt/anaconda3/lib/python3.9/site-packages/pandas/core/indexes/base.py:3629\u001b[0m, in \u001b[0;36mIndex.get_loc\u001b[0;34m(self, key, method, tolerance)\u001b[0m\n\u001b[1;32m   3628\u001b[0m \u001b[38;5;28;01mtry\u001b[39;00m:\n\u001b[0;32m-> 3629\u001b[0m     \u001b[38;5;28;01mreturn\u001b[39;00m \u001b[38;5;28;43mself\u001b[39;49m\u001b[38;5;241;43m.\u001b[39;49m\u001b[43m_engine\u001b[49m\u001b[38;5;241;43m.\u001b[39;49m\u001b[43mget_loc\u001b[49m\u001b[43m(\u001b[49m\u001b[43mcasted_key\u001b[49m\u001b[43m)\u001b[49m\n\u001b[1;32m   3630\u001b[0m \u001b[38;5;28;01mexcept\u001b[39;00m \u001b[38;5;167;01mKeyError\u001b[39;00m \u001b[38;5;28;01mas\u001b[39;00m err:\n",
      "File \u001b[0;32m/opt/anaconda3/lib/python3.9/site-packages/pandas/_libs/index.pyx:136\u001b[0m, in \u001b[0;36mpandas._libs.index.IndexEngine.get_loc\u001b[0;34m()\u001b[0m\n",
      "File \u001b[0;32m/opt/anaconda3/lib/python3.9/site-packages/pandas/_libs/index.pyx:163\u001b[0m, in \u001b[0;36mpandas._libs.index.IndexEngine.get_loc\u001b[0;34m()\u001b[0m\n",
      "File \u001b[0;32mpandas/_libs/hashtable_class_helper.pxi:5198\u001b[0m, in \u001b[0;36mpandas._libs.hashtable.PyObjectHashTable.get_item\u001b[0;34m()\u001b[0m\n",
      "File \u001b[0;32mpandas/_libs/hashtable_class_helper.pxi:5206\u001b[0m, in \u001b[0;36mpandas._libs.hashtable.PyObjectHashTable.get_item\u001b[0;34m()\u001b[0m\n",
      "\u001b[0;31mKeyError\u001b[0m: 'Country'",
      "\nThe above exception was the direct cause of the following exception:\n",
      "\u001b[0;31mKeyError\u001b[0m                                  Traceback (most recent call last)",
      "Input \u001b[0;32mIn [15]\u001b[0m, in \u001b[0;36m<cell line: 1>\u001b[0;34m()\u001b[0m\n\u001b[0;32m----> 1\u001b[0m \u001b[43mliteracy\u001b[49m\u001b[43m[\u001b[49m\u001b[38;5;124;43m'\u001b[39;49m\u001b[38;5;124;43mCountry\u001b[39;49m\u001b[38;5;124;43m'\u001b[39;49m\u001b[43m]\u001b[49m\u001b[38;5;241m.\u001b[39mvalue_counts(dropna\u001b[38;5;241m=\u001b[39m\u001b[38;5;28;01mFalse\u001b[39;00m)\u001b[38;5;241m.\u001b[39mhead()\n",
      "File \u001b[0;32m/opt/anaconda3/lib/python3.9/site-packages/pandas/core/frame.py:3505\u001b[0m, in \u001b[0;36mDataFrame.__getitem__\u001b[0;34m(self, key)\u001b[0m\n\u001b[1;32m   3503\u001b[0m \u001b[38;5;28;01mif\u001b[39;00m \u001b[38;5;28mself\u001b[39m\u001b[38;5;241m.\u001b[39mcolumns\u001b[38;5;241m.\u001b[39mnlevels \u001b[38;5;241m>\u001b[39m \u001b[38;5;241m1\u001b[39m:\n\u001b[1;32m   3504\u001b[0m     \u001b[38;5;28;01mreturn\u001b[39;00m \u001b[38;5;28mself\u001b[39m\u001b[38;5;241m.\u001b[39m_getitem_multilevel(key)\n\u001b[0;32m-> 3505\u001b[0m indexer \u001b[38;5;241m=\u001b[39m \u001b[38;5;28;43mself\u001b[39;49m\u001b[38;5;241;43m.\u001b[39;49m\u001b[43mcolumns\u001b[49m\u001b[38;5;241;43m.\u001b[39;49m\u001b[43mget_loc\u001b[49m\u001b[43m(\u001b[49m\u001b[43mkey\u001b[49m\u001b[43m)\u001b[49m\n\u001b[1;32m   3506\u001b[0m \u001b[38;5;28;01mif\u001b[39;00m is_integer(indexer):\n\u001b[1;32m   3507\u001b[0m     indexer \u001b[38;5;241m=\u001b[39m [indexer]\n",
      "File \u001b[0;32m/opt/anaconda3/lib/python3.9/site-packages/pandas/core/indexes/base.py:3631\u001b[0m, in \u001b[0;36mIndex.get_loc\u001b[0;34m(self, key, method, tolerance)\u001b[0m\n\u001b[1;32m   3629\u001b[0m     \u001b[38;5;28;01mreturn\u001b[39;00m \u001b[38;5;28mself\u001b[39m\u001b[38;5;241m.\u001b[39m_engine\u001b[38;5;241m.\u001b[39mget_loc(casted_key)\n\u001b[1;32m   3630\u001b[0m \u001b[38;5;28;01mexcept\u001b[39;00m \u001b[38;5;167;01mKeyError\u001b[39;00m \u001b[38;5;28;01mas\u001b[39;00m err:\n\u001b[0;32m-> 3631\u001b[0m     \u001b[38;5;28;01mraise\u001b[39;00m \u001b[38;5;167;01mKeyError\u001b[39;00m(key) \u001b[38;5;28;01mfrom\u001b[39;00m \u001b[38;5;21;01merr\u001b[39;00m\n\u001b[1;32m   3632\u001b[0m \u001b[38;5;28;01mexcept\u001b[39;00m \u001b[38;5;167;01mTypeError\u001b[39;00m:\n\u001b[1;32m   3633\u001b[0m     \u001b[38;5;66;03m# If we have a listlike key, _check_indexing_error will raise\u001b[39;00m\n\u001b[1;32m   3634\u001b[0m     \u001b[38;5;66;03m#  InvalidIndexError. Otherwise we fall through and re-raise\u001b[39;00m\n\u001b[1;32m   3635\u001b[0m     \u001b[38;5;66;03m#  the TypeError.\u001b[39;00m\n\u001b[1;32m   3636\u001b[0m     \u001b[38;5;28mself\u001b[39m\u001b[38;5;241m.\u001b[39m_check_indexing_error(key)\n",
      "\u001b[0;31mKeyError\u001b[0m: 'Country'"
     ]
    }
   ],
   "source": [
    "literacy['Country'].value_counts(dropna=False).head()"
   ]
  },
  {
   "cell_type": "code",
   "execution_count": 16,
   "metadata": {},
   "outputs": [
    {
     "data": {
      "text/plain": [
       "Index(['Country ', 'Continent', 'female literacy', 'fertility', 'population'], dtype='object')"
      ]
     },
     "execution_count": 16,
     "metadata": {},
     "output_type": "execute_result"
    }
   ],
   "source": [
    "literacy.columns"
   ]
  },
  {
   "cell_type": "code",
   "execution_count": 17,
   "metadata": {},
   "outputs": [
    {
     "data": {
      "text/plain": [
       "Sweden          2\n",
       "Chine           1\n",
       "Croatie         1\n",
       "Kirghizistan    1\n",
       "Turkménistan    1\n",
       "Name: Country , dtype: int64"
      ]
     },
     "execution_count": 17,
     "metadata": {},
     "output_type": "execute_result"
    }
   ],
   "source": [
    "literacy[\"Country \"].value_counts(dropna=False).head()"
   ]
  },
  {
   "cell_type": "markdown",
   "metadata": {},
   "source": [
    "Une ligne dupliquée ? un enregistrement redondant ?"
   ]
  },
  {
   "cell_type": "code",
   "execution_count": 18,
   "metadata": {},
   "outputs": [
    {
     "data": {
      "text/plain": [
       "3.371    2\n",
       "1.871    2\n",
       "1.841    2\n",
       "1.854    2\n",
       "1.393    2\n",
       "        ..\n",
       "4.620    1\n",
       "4.541    1\n",
       "5.637    1\n",
       "1.926    1\n",
       "3.928    1\n",
       "Name: fertility, Length: 157, dtype: int64"
      ]
     },
     "execution_count": 18,
     "metadata": {},
     "output_type": "execute_result"
    }
   ],
   "source": [
    "literacy['fertility'].value_counts()"
   ]
  },
  {
   "cell_type": "markdown",
   "metadata": {},
   "source": [
    "C'est donc bien une variable qualitative"
   ]
  },
  {
   "cell_type": "code",
   "execution_count": 19,
   "metadata": {},
   "outputs": [],
   "source": [
    "# Correction des labels des colonnes :\n",
    "literacy.columns = ['country', 'continent', 'female_literacy', 'fertility', 'population']"
   ]
  },
  {
   "cell_type": "code",
   "execution_count": 20,
   "metadata": {},
   "outputs": [
    {
     "name": "stdout",
     "output_type": "stream",
     "text": [
      "country             object\n",
      "continent           object\n",
      "female_literacy    float64\n",
      "fertility          float64\n",
      "population           int64\n",
      "dtype: object\n"
     ]
    }
   ],
   "source": [
    "print(literacy.dtypes)"
   ]
  },
  {
   "cell_type": "markdown",
   "metadata": {},
   "source": [
    "**Types de données**\n",
    "object: string/mixed types\n",
    "int64: integer\n",
    "foat64: float\n",
    "datetime64 (or timedelta):"
   ]
  },
  {
   "cell_type": "code",
   "execution_count": 22,
   "metadata": {},
   "outputs": [
    {
     "data": {
      "text/html": [
       "<div>\n",
       "<style scoped>\n",
       "    .dataframe tbody tr th:only-of-type {\n",
       "        vertical-align: middle;\n",
       "    }\n",
       "\n",
       "    .dataframe tbody tr th {\n",
       "        vertical-align: top;\n",
       "    }\n",
       "\n",
       "    .dataframe thead th {\n",
       "        text-align: right;\n",
       "    }\n",
       "</style>\n",
       "<table border=\"1\" class=\"dataframe\">\n",
       "  <thead>\n",
       "    <tr style=\"text-align: right;\">\n",
       "      <th></th>\n",
       "      <th>country</th>\n",
       "      <th>continent</th>\n",
       "      <th>female_literacy</th>\n",
       "      <th>fertility</th>\n",
       "      <th>population</th>\n",
       "      <th>test</th>\n",
       "    </tr>\n",
       "  </thead>\n",
       "  <tbody>\n",
       "    <tr>\n",
       "      <th>0</th>\n",
       "      <td>Chine</td>\n",
       "      <td>ASI</td>\n",
       "      <td>90.5</td>\n",
       "      <td>1.769</td>\n",
       "      <td>1324655000</td>\n",
       "      <td>42</td>\n",
       "    </tr>\n",
       "    <tr>\n",
       "      <th>1</th>\n",
       "      <td>Inde</td>\n",
       "      <td>ASI</td>\n",
       "      <td>50.8</td>\n",
       "      <td>2.682</td>\n",
       "      <td>1139964932</td>\n",
       "      <td>42</td>\n",
       "    </tr>\n",
       "    <tr>\n",
       "      <th>2</th>\n",
       "      <td>USA</td>\n",
       "      <td>NAM</td>\n",
       "      <td>99.0</td>\n",
       "      <td>2.077</td>\n",
       "      <td>304060000</td>\n",
       "      <td>42</td>\n",
       "    </tr>\n",
       "    <tr>\n",
       "      <th>3</th>\n",
       "      <td>Indonésie</td>\n",
       "      <td>ASI</td>\n",
       "      <td>88.8</td>\n",
       "      <td>2.132</td>\n",
       "      <td>227345082</td>\n",
       "      <td>42</td>\n",
       "    </tr>\n",
       "    <tr>\n",
       "      <th>4</th>\n",
       "      <td>Brésil</td>\n",
       "      <td>LAT</td>\n",
       "      <td>90.2</td>\n",
       "      <td>1.827</td>\n",
       "      <td>2191971506</td>\n",
       "      <td>42</td>\n",
       "    </tr>\n",
       "  </tbody>\n",
       "</table>\n",
       "</div>"
      ],
      "text/plain": [
       "     country continent  female_literacy  fertility  population test\n",
       "0      Chine       ASI             90.5      1.769  1324655000   42\n",
       "1       Inde       ASI             50.8      2.682  1139964932   42\n",
       "2        USA       NAM             99.0      2.077   304060000   42\n",
       "3  Indonésie       ASI             88.8      2.132   227345082   42\n",
       "4     Brésil       LAT             90.2      1.827  2191971506   42"
      ]
     },
     "execution_count": 22,
     "metadata": {},
     "output_type": "execute_result"
    }
   ],
   "source": [
    "literacy.head()"
   ]
  },
  {
   "cell_type": "code",
   "execution_count": 21,
   "metadata": {},
   "outputs": [
    {
     "data": {
      "text/plain": [
       "country             object\n",
       "continent           object\n",
       "female_literacy    float64\n",
       "fertility          float64\n",
       "population           int64\n",
       "test                object\n",
       "dtype: object"
      ]
     },
     "execution_count": 21,
     "metadata": {},
     "output_type": "execute_result"
    }
   ],
   "source": [
    "# Conversion : \n",
    "literacy['test'] = \"42\"\n",
    "literacy.dtypes"
   ]
  },
  {
   "cell_type": "code",
   "execution_count": null,
   "metadata": {},
   "outputs": [],
   "source": [
    "literacy.head()"
   ]
  },
  {
   "cell_type": "code",
   "execution_count": 23,
   "metadata": {},
   "outputs": [
    {
     "data": {
      "text/plain": [
       "country             object\n",
       "continent           object\n",
       "female_literacy    float64\n",
       "fertility          float64\n",
       "population           int64\n",
       "test                 int64\n",
       "dtype: object"
      ]
     },
     "execution_count": 23,
     "metadata": {},
     "output_type": "execute_result"
    }
   ],
   "source": [
    "literacy['test'] = literacy['test'].astype(int)\n",
    "literacy.dtypes"
   ]
  },
  {
   "cell_type": "markdown",
   "metadata": {},
   "source": [
    "## Statistiques descriptives"
   ]
  },
  {
   "cell_type": "markdown",
   "metadata": {},
   "source": [
    "- moyenne, variance, statistiques d'ordre (médiane, min, max, quartiles)"
   ]
  },
  {
   "cell_type": "markdown",
   "metadata": {},
   "source": [
    "Pour des données $x[i]$, $i=0..N-1$\n",
    "\n",
    "- moyenne $\\mu_N = \\frac{1}{N} \\sum_{i=0}^{N-1} x[i]$\n",
    "- variance $\\sigma^2_N = \\frac{1}{N-1} \\sum_{i=0}^{N-1} (x[i]-\\mu_N)^2$\n",
    "- médiane $\\operatorname{P}(X\\leq m) \\geq \\frac{1}{2}\\text{ et }\\operatorname{P}(X\\geq m) \\geq \\frac{1}{2}\\,\\!$"
   ]
  },
  {
   "cell_type": "markdown",
   "metadata": {},
   "source": [
    "Exemple : exécuter ceci plusieurs fois"
   ]
  },
  {
   "cell_type": "code",
   "execution_count": 37,
   "metadata": {},
   "outputs": [
    {
     "name": "stdout",
     "output_type": "stream",
     "text": [
      "0.041340998292912955 1.0663268269675825 0.04745808556455601\n"
     ]
    }
   ],
   "source": [
    "x = np.random.normal(size=1000)\n",
    "mu = np.mean(x)\n",
    "v = np.var(x)\n",
    "m = np.median(x)\n",
    "print(mu, v, m)"
   ]
  },
  {
   "cell_type": "markdown",
   "metadata": {},
   "source": [
    "Autre exemple : le [Anscombe's quartet](https://en.wikipedia.org/wiki/Anscombe's_quartet)\n",
    "\n",
    " Anscombe, F. J. (1973). \"Graphs in Statistical Analysis\". American Statistician. 27 (1): 17–21"
   ]
  },
  {
   "cell_type": "code",
   "execution_count": 38,
   "metadata": {},
   "outputs": [],
   "source": [
    "data = pd.read_csv(\"anscombes.csv\")"
   ]
  },
  {
   "cell_type": "code",
   "execution_count": 39,
   "metadata": {},
   "outputs": [],
   "source": [
    "data.drop(columns='id', inplace=True)"
   ]
  },
  {
   "cell_type": "code",
   "execution_count": null,
   "metadata": {},
   "outputs": [],
   "source": [
    "#np.corrcoef(group['x'], group['y'])[0,1]"
   ]
  },
  {
   "cell_type": "code",
   "execution_count": 41,
   "metadata": {},
   "outputs": [
    {
     "name": "stdout",
     "output_type": "stream",
     "text": [
      "Groupe I\n",
      "   dataset     x      y\n",
      "0        I  10.0   8.04\n",
      "1        I   8.0   6.95\n",
      "2        I  13.0   7.58\n",
      "3        I   9.0   8.81\n",
      "4        I  11.0   8.33\n",
      "5        I  14.0   9.96\n",
      "6        I   6.0   7.24\n",
      "7        I   4.0   4.26\n",
      "8        I  12.0  10.84\n",
      "9        I   7.0   4.82\n",
      "10       I   5.0   5.68\n",
      "               x          y\n",
      "count  11.000000  11.000000\n",
      "mean    9.000000   7.500909\n",
      "std     3.316625   2.031568\n",
      "corr    0.81642051634484\n",
      "============================\n",
      "Groupe II\n",
      "   dataset     x     y\n",
      "11      II  10.0  9.14\n",
      "12      II   8.0  8.14\n",
      "13      II  13.0  8.74\n",
      "14      II   9.0  8.77\n",
      "15      II  11.0  9.26\n",
      "16      II  14.0  8.10\n",
      "17      II   6.0  6.13\n",
      "18      II   4.0  3.10\n",
      "19      II  12.0  9.13\n",
      "20      II   7.0  7.26\n",
      "21      II   5.0  4.74\n",
      "               x          y\n",
      "count  11.000000  11.000000\n",
      "mean    9.000000   7.500909\n",
      "std     3.316625   2.031657\n",
      "corr    0.8162365060002428\n",
      "============================\n",
      "Groupe III\n",
      "   dataset     x      y\n",
      "22     III  10.0   7.46\n",
      "23     III   8.0   6.77\n",
      "24     III  13.0  12.74\n",
      "25     III   9.0   7.11\n",
      "26     III  11.0   7.81\n",
      "27     III  14.0   8.84\n",
      "28     III   6.0   6.08\n",
      "29     III   4.0   5.39\n",
      "30     III  12.0   8.15\n",
      "31     III   7.0   6.42\n",
      "32     III   5.0   5.73\n",
      "               x          y\n",
      "count  11.000000  11.000000\n",
      "mean    9.000000   7.500000\n",
      "std     3.316625   2.030424\n",
      "corr    0.8162867394895984\n",
      "============================\n",
      "Groupe IV\n",
      "   dataset     x      y\n",
      "33      IV   8.0   6.58\n",
      "34      IV   8.0   5.76\n",
      "35      IV   8.0   7.71\n",
      "36      IV   8.0   8.84\n",
      "37      IV   8.0   8.47\n",
      "38      IV   8.0   7.04\n",
      "39      IV   8.0   5.25\n",
      "40      IV  19.0  12.50\n",
      "41      IV   8.0   5.56\n",
      "42      IV   8.0   7.91\n",
      "43      IV   8.0   6.89\n",
      "               x          y\n",
      "count  11.000000  11.000000\n",
      "mean    9.000000   7.500909\n",
      "std     3.316625   2.030579\n",
      "corr    0.8165214368885028\n",
      "============================\n"
     ]
    }
   ],
   "source": [
    "for label in  ['I', 'II', 'III', 'IV']: \n",
    "    group = data[data['dataset']==label]\n",
    "    print(f\"Groupe {label}\")\n",
    "    print(group)\n",
    "    print(group.describe()[0:3])\n",
    "    print('corr   ', np.corrcoef(group['x'], group['y'])[0,1])\n",
    "    print('='*28)"
   ]
  },
  {
   "cell_type": "markdown",
   "metadata": {},
   "source": [
    "Dans les 4 groupes, on a\n",
    "\n",
    "- le même nombre de données\n",
    "- les mêmes moyennes\n",
    "- les mêmes variances\n",
    "- les mêmes coefficients de corrélation\n",
    "\n",
    "Et pourtant, ce ne sont pas les mêmes données !\n",
    "\n",
    "==> Il faut visualiser !\n"
   ]
  },
  {
   "cell_type": "code",
   "execution_count": 42,
   "metadata": {},
   "outputs": [
    {
     "data": {
      "image/png": "[encoded data removed]",
      "text/plain": [
       "<Figure size 900x500 with 4 Axes>"
      ]
     },
     "metadata": {},
     "output_type": "display_data"
    }
   ],
   "source": [
    "fig, ax = plt.subplots(2,2, figsize=(9,5))\n",
    "colors = sns.color_palette('muted')\n",
    "aax = ax.reshape(-1)\n",
    "n = 0\n",
    "for label,group in data.groupby('dataset'):\n",
    "    #print(group)\n",
    "    #sns.scatterplot(x='x', y='y', color = colors[n], data=group, ax=aax[n])\n",
    "    sns.regplot(x='x', y='y', color = colors[n], data=group, ci=None,  ax=aax[n])\n",
    "    aax[n].set_xlim(0,20)\n",
    "    n = n + 1"
   ]
  },
  {
   "cell_type": "markdown",
   "metadata": {},
   "source": [
    "## La distribution des données \n",
    "\n",
    "On examine quelle est la distribution des données, car cela peut être utilisé dans la détection de valeurs aberrantes. On souhaite souvent que les données soient gaussiennes, car l'optimalité de certaines méthodes repose sur cette hypothèse. \n",
    "\n",
    "### Distribution gaussienne\n",
    "Rappelons ce qu'est une distribution gaussienne (ou normale)"
   ]
  },
  {
   "cell_type": "markdown",
   "metadata": {},
   "source": [
    "![](images/10.png)"
   ]
  },
  {
   "cell_type": "markdown",
   "metadata": {},
   "source": [
    "et son importance (seulement deux paramètres, lien avec les moindes carrés, théorème central limite)"
   ]
  },
  {
   "cell_type": "markdown",
   "metadata": {},
   "source": [
    "### Histogramme\n",
    "\n",
    "Pour des données *quantitatives*, on peut utiliser un histogramme. "
   ]
  },
  {
   "cell_type": "markdown",
   "metadata": {},
   "source": [
    "Le \"Iris dataset\" (Fisher 1936)"
   ]
  },
  {
   "cell_type": "code",
   "execution_count": 43,
   "metadata": {},
   "outputs": [
    {
     "data": {
      "text/html": [
       "<div>\n",
       "<style scoped>\n",
       "    .dataframe tbody tr th:only-of-type {\n",
       "        vertical-align: middle;\n",
       "    }\n",
       "\n",
       "    .dataframe tbody tr th {\n",
       "        vertical-align: top;\n",
       "    }\n",
       "\n",
       "    .dataframe thead th {\n",
       "        text-align: right;\n",
       "    }\n",
       "</style>\n",
       "<table border=\"1\" class=\"dataframe\">\n",
       "  <thead>\n",
       "    <tr style=\"text-align: right;\">\n",
       "      <th></th>\n",
       "      <th>sepal_length</th>\n",
       "      <th>sepal_width</th>\n",
       "      <th>petal_length</th>\n",
       "      <th>petal_width</th>\n",
       "      <th>species</th>\n",
       "    </tr>\n",
       "  </thead>\n",
       "  <tbody>\n",
       "    <tr>\n",
       "      <th>0</th>\n",
       "      <td>5.1</td>\n",
       "      <td>3.5</td>\n",
       "      <td>1.4</td>\n",
       "      <td>0.2</td>\n",
       "      <td>setosa</td>\n",
       "    </tr>\n",
       "    <tr>\n",
       "      <th>1</th>\n",
       "      <td>4.9</td>\n",
       "      <td>3.0</td>\n",
       "      <td>1.4</td>\n",
       "      <td>0.2</td>\n",
       "      <td>setosa</td>\n",
       "    </tr>\n",
       "    <tr>\n",
       "      <th>2</th>\n",
       "      <td>4.7</td>\n",
       "      <td>3.2</td>\n",
       "      <td>1.3</td>\n",
       "      <td>0.2</td>\n",
       "      <td>setosa</td>\n",
       "    </tr>\n",
       "    <tr>\n",
       "      <th>3</th>\n",
       "      <td>4.6</td>\n",
       "      <td>3.1</td>\n",
       "      <td>1.5</td>\n",
       "      <td>0.2</td>\n",
       "      <td>setosa</td>\n",
       "    </tr>\n",
       "    <tr>\n",
       "      <th>4</th>\n",
       "      <td>5.0</td>\n",
       "      <td>3.6</td>\n",
       "      <td>1.4</td>\n",
       "      <td>0.2</td>\n",
       "      <td>setosa</td>\n",
       "    </tr>\n",
       "  </tbody>\n",
       "</table>\n",
       "</div>"
      ],
      "text/plain": [
       "   sepal_length  sepal_width  petal_length  petal_width species\n",
       "0           5.1          3.5           1.4          0.2  setosa\n",
       "1           4.9          3.0           1.4          0.2  setosa\n",
       "2           4.7          3.2           1.3          0.2  setosa\n",
       "3           4.6          3.1           1.5          0.2  setosa\n",
       "4           5.0          3.6           1.4          0.2  setosa"
      ]
     },
     "execution_count": 43,
     "metadata": {},
     "output_type": "execute_result"
    }
   ],
   "source": [
    "iris = pd.read_csv(\"iris.csv\")\n",
    "iris.head()"
   ]
  },
  {
   "cell_type": "markdown",
   "metadata": {},
   "source": [
    "![](iris.png)"
   ]
  },
  {
   "cell_type": "code",
   "execution_count": 44,
   "metadata": {},
   "outputs": [
    {
     "data": {
      "text/plain": [
       "<AxesSubplot:ylabel='Frequency'>"
      ]
     },
     "execution_count": 44,
     "metadata": {},
     "output_type": "execute_result"
    },
    {
     "data": {
      "image/png": "[encoded data removed]",
      "text/plain": [
       "<Figure size 640x480 with 1 Axes>"
      ]
     },
     "metadata": {},
     "output_type": "display_data"
    }
   ],
   "source": [
    "iris['petal_length'].plot(kind=\"hist\", bins=20)"
   ]
  },
  {
   "cell_type": "code",
   "execution_count": 45,
   "metadata": {},
   "outputs": [
    {
     "data": {
      "text/plain": [
       "<AxesSubplot:xlabel='petal_length', ylabel='Density'>"
      ]
     },
     "execution_count": 45,
     "metadata": {},
     "output_type": "execute_result"
    },
    {
     "data": {
      "image/png": "[encoded data removed]",
      "text/plain": [
       "<Figure size 640x480 with 1 Axes>"
      ]
     },
     "metadata": {},
     "output_type": "display_data"
    }
   ],
   "source": [
    "sns.distplot(iris['petal_length'], hist=True, bins=20)"
   ]
  },
  {
   "cell_type": "markdown",
   "metadata": {},
   "source": [
    "*Notez que les amplitudes ne sont plus les mêmes : on est passé du nombre d'éléments dans chaque intervalle à la fréquence (et les labels par défaut sont confus)*"
   ]
  },
  {
   "cell_type": "code",
   "execution_count": null,
   "metadata": {},
   "outputs": [],
   "source": []
  },
  {
   "cell_type": "code",
   "execution_count": 46,
   "metadata": {},
   "outputs": [
    {
     "data": {
      "text/plain": [
       "<matplotlib.legend.Legend at 0x163564af0>"
      ]
     },
     "execution_count": 46,
     "metadata": {},
     "output_type": "execute_result"
    },
    {
     "data": {
      "image/png": "[encoded data removed]",
      "text/plain": [
       "<Figure size 640x480 with 1 Axes>"
      ]
     },
     "metadata": {},
     "output_type": "display_data"
    }
   ],
   "source": [
    "groups = iris.groupby('species')\n",
    "for l,group in groups:\n",
    "    sns.distplot(group['petal_length'], hist=True, label=l)\n",
    "plt.legend()"
   ]
  },
  {
   "cell_type": "code",
   "execution_count": 47,
   "metadata": {},
   "outputs": [
    {
     "data": {
      "text/plain": [
       "<matplotlib.legend.Legend at 0x163564ee0>"
      ]
     },
     "execution_count": 47,
     "metadata": {},
     "output_type": "execute_result"
    },
    {
     "data": {
      "image/png": "[encoded data removed]",
      "text/plain": [
       "<Figure size 640x480 with 1 Axes>"
      ]
     },
     "metadata": {},
     "output_type": "display_data"
    }
   ],
   "source": [
    "groups = iris.groupby('species')\n",
    "for l,group in groups:\n",
    "    sns.distplot(group['petal_length'], hist=False,rug=True, label=l)\n",
    "plt.legend()"
   ]
  },
  {
   "cell_type": "markdown",
   "metadata": {},
   "source": [
    "NB - Construction des densités estimées : typiquement on convolue la distribution empirique avec un noyau gaussien\n",
    "\n",
    "Attention, cela peut aussi piéger"
   ]
  },
  {
   "cell_type": "code",
   "execution_count": 48,
   "metadata": {},
   "outputs": [
    {
     "data": {
      "text/plain": [
       "<AxesSubplot:ylabel='Density'>"
      ]
     },
     "execution_count": 48,
     "metadata": {},
     "output_type": "execute_result"
    },
    {
     "data": {
      "image/png": "[encoded data removed]",
      "text/plain": [
       "<Figure size 640x480 with 1 Axes>"
      ]
     },
     "metadata": {},
     "output_type": "display_data"
    }
   ],
   "source": [
    "x = np.random.uniform(size=200) # <-- le support est [0,1]\n",
    "sns.distplot(x, hist=True,rug=True, label=l)"
   ]
  },
  {
   "cell_type": "markdown",
   "metadata": {},
   "source": [
    "\n",
    "### Boxplot\n",
    "\n",
    "On peut également utiliser les *boxplot* ou \"boîtes à moustaches\", qui permettent de résumer les principales caractéristiques"
   ]
  },
  {
   "cell_type": "markdown",
   "metadata": {},
   "source": [
    "![](images/boxplot.png)"
   ]
  },
  {
   "cell_type": "code",
   "execution_count": 49,
   "metadata": {},
   "outputs": [
    {
     "data": {
      "text/plain": [
       "<AxesSubplot:>"
      ]
     },
     "execution_count": 49,
     "metadata": {},
     "output_type": "execute_result"
    },
    {
     "data": {
      "image/png": "[encoded data removed]",
      "text/plain": [
       "<Figure size 640x480 with 1 Axes>"
      ]
     },
     "metadata": {},
     "output_type": "display_data"
    }
   ],
   "source": [
    "iris.boxplot()"
   ]
  },
  {
   "cell_type": "code",
   "execution_count": 50,
   "metadata": {},
   "outputs": [
    {
     "data": {
      "image/png": "[encoded data removed]",
      "text/plain": [
       "<Figure size 640x480 with 4 Axes>"
      ]
     },
     "metadata": {},
     "output_type": "display_data"
    }
   ],
   "source": [
    "_ = iris.boxplot(by='species')\n",
    "plt.tight_layout()"
   ]
  },
  {
   "cell_type": "code",
   "execution_count": null,
   "metadata": {},
   "outputs": [],
   "source": [
    "sns.boxplot(data=iris, x='species', y='petal_length')"
   ]
  },
  {
   "cell_type": "markdown",
   "metadata": {},
   "source": [
    "Une variante : les \"violin plot\""
   ]
  },
  {
   "cell_type": "code",
   "execution_count": 51,
   "metadata": {},
   "outputs": [
    {
     "data": {
      "text/plain": [
       "<AxesSubplot:xlabel='species', ylabel='petal_length'>"
      ]
     },
     "execution_count": 51,
     "metadata": {},
     "output_type": "execute_result"
    },
    {
     "data": {
      "image/png": "[encoded data removed]",
      "text/plain": [
       "<Figure size 640x480 with 1 Axes>"
      ]
     },
     "metadata": {},
     "output_type": "display_data"
    }
   ],
   "source": [
    "sns.violinplot(data=iris, x='species', y='petal_length')"
   ]
  },
  {
   "cell_type": "markdown",
   "metadata": {},
   "source": [
    "### Scatterplots\n",
    "\n",
    "Examiner graphiquement les relations entre les variables"
   ]
  },
  {
   "cell_type": "code",
   "execution_count": 52,
   "metadata": {},
   "outputs": [
    {
     "data": {
      "image/png": "[encoded data removed]",
      "text/plain": [
       "<Figure size 640x480 with 1 Axes>"
      ]
     },
     "metadata": {},
     "output_type": "display_data"
    }
   ],
   "source": [
    "_ = sns.scatterplot(data=iris, x='petal_length', y='petal_width')"
   ]
  },
  {
   "cell_type": "code",
   "execution_count": 53,
   "metadata": {},
   "outputs": [
    {
     "data": {
      "image/png": "[encoded data removed]",
      "text/plain": [
       "<Figure size 640x480 with 1 Axes>"
      ]
     },
     "metadata": {},
     "output_type": "display_data"
    }
   ],
   "source": [
    "_ = sns.scatterplot(data=iris, x='petal_length', y='petal_width', hue='species')"
   ]
  },
  {
   "cell_type": "code",
   "execution_count": null,
   "metadata": {},
   "outputs": [],
   "source": [
    "# version pandas\n",
    "iris.plot(kind='scatter', x='petal_length', y='petal_width')"
   ]
  },
  {
   "cell_type": "markdown",
   "metadata": {},
   "source": [
    "### Rechercher des relations linéaires"
   ]
  },
  {
   "cell_type": "code",
   "execution_count": 54,
   "metadata": {},
   "outputs": [
    {
     "data": {
      "image/png": "[encoded data removed]",
      "text/plain": [
       "<Figure size 500x500 with 1 Axes>"
      ]
     },
     "metadata": {},
     "output_type": "display_data"
    }
   ],
   "source": [
    "_ = sns.lmplot(data=iris, x='petal_length', y='petal_width')"
   ]
  },
  {
   "cell_type": "code",
   "execution_count": null,
   "metadata": {},
   "outputs": [],
   "source": [
    "#sns.set(color_codes=True)\n",
    "tips = sns.load_dataset(\"tips\")\n",
    "g = sns.lmplot(x=\"total_bill\", y=\"tip\", data=tips)\n"
   ]
  },
  {
   "cell_type": "markdown",
   "metadata": {},
   "source": [
    "### Examiner des corrélations"
   ]
  },
  {
   "cell_type": "code",
   "execution_count": 55,
   "metadata": {},
   "outputs": [
    {
     "name": "stdout",
     "output_type": "stream",
     "text": [
      "           x1        x2        x3        x4\n",
      "0   -0.186497  2.597162  0.511893  0.034818\n",
      "1   -2.050033  1.204459  0.841006 -0.342706\n",
      "2   -0.634263  0.681157  0.832714 -0.233771\n",
      "3   -0.047526  1.060111  0.466741 -0.825020\n",
      "4   -0.371990  0.758192  0.330877 -0.058530\n",
      "..        ...       ...       ...       ...\n",
      "195  0.186976  2.022340  0.040230  1.826617\n",
      "196  0.098089  1.927594  0.788723 -0.309673\n",
      "197  0.314073  0.533503  0.195490  1.108484\n",
      "198 -0.993538  0.991508  0.105907 -1.521439\n",
      "199 -1.252468 -0.251246  0.407973  0.487842\n",
      "\n",
      "[200 rows x 4 columns]\n",
      "Covariance  [[0.89992808 0.89647988]\n",
      " [0.89647988 2.13199854]] \n",
      "\n",
      "Corrcoeff  [[1.         0.64720699]\n",
      " [0.64720699 1.        ]]\n",
      "data cov \n",
      "           x1        x2        x3        x4\n",
      "x1  0.899928  0.896480 -0.007083 -0.039583\n",
      "x2  0.896480  2.131999  0.021062 -0.175066\n",
      "x3 -0.007083  0.021062  0.085337 -0.030493\n",
      "x4 -0.039583 -0.175066 -0.030493  1.039890 \n",
      "\n",
      "data cor \n",
      "           x1        x2        x3        x4\n",
      "x1  1.000000  0.647207 -0.025561 -0.040918\n",
      "x2  0.647207  1.000000  0.049378 -0.117575\n",
      "x3 -0.025561  0.049378  1.000000 -0.102361\n",
      "x4 -0.040918 -0.117575 -0.102361  1.000000 \n",
      "\n"
     ]
    }
   ],
   "source": [
    "d1 = np.random.normal(size=200)\n",
    "d2 = np.random.uniform(size=200)\n",
    "d3 = np.random.uniform(size=200)\n",
    "d4 = np.random.normal(size=200)\n",
    "x1 = d1 \n",
    "x2 = d1 + 4*d2\n",
    "data = pd.DataFrame(data={'x1':x1, 'x2':x2, 'x3':d3, 'x4':d4})\n",
    "print(data)\n",
    "\n",
    "X = [x1 , x2]\n",
    "print(\"Covariance \", np.cov(x1,x2), '\\n')\n",
    "print(\"Corrcoeff \", np.corrcoef(x1,x2))\n",
    "print(\"data cov \\n\", data.cov(), '\\n')\n",
    "print(\"data cor \\n\", data.corr(), '\\n')"
   ]
  },
  {
   "cell_type": "code",
   "execution_count": 56,
   "metadata": {},
   "outputs": [
    {
     "data": {
      "text/plain": [
       "<AxesSubplot:>"
      ]
     },
     "execution_count": 56,
     "metadata": {},
     "output_type": "execute_result"
    },
    {
     "data": {
      "image/png": "[encoded data removed]",
      "text/plain": [
       "<Figure size 640x480 with 2 Axes>"
      ]
     },
     "metadata": {},
     "output_type": "display_data"
    }
   ],
   "source": [
    "# Heatmap...\n",
    "sns.heatmap(data.corr(), annot=True,  cmap=\"YlGnBu\", cbar=True)"
   ]
  },
  {
   "cell_type": "markdown",
   "metadata": {},
   "source": [
    "### Visualiser les données conjointement"
   ]
  },
  {
   "cell_type": "code",
   "execution_count": 57,
   "metadata": {},
   "outputs": [
    {
     "data": {
      "text/plain": [
       "<seaborn.axisgrid.PairGrid at 0x1655b3220>"
      ]
     },
     "execution_count": 57,
     "metadata": {},
     "output_type": "execute_result"
    },
    {
     "data": {
      "image/png": "[encoded data removed]",
      "text/plain": [
       "<Figure size 1000x1000 with 20 Axes>"
      ]
     },
     "metadata": {},
     "output_type": "display_data"
    }
   ],
   "source": [
    "sns.pairplot(data)"
   ]
  },
  {
   "cell_type": "markdown",
   "metadata": {},
   "source": [
    "**Attention** "
   ]
  },
  {
   "cell_type": "code",
   "execution_count": 58,
   "metadata": {},
   "outputs": [],
   "source": [
    "theta = np.random.uniform(0, 2*np.pi, size=1000)"
   ]
  },
  {
   "cell_type": "code",
   "execution_count": 60,
   "metadata": {},
   "outputs": [],
   "source": [
    "x = np.cos(theta)\n",
    "y = np.sin(theta)\n",
    "df = pd.DataFrame(data = {'x':x, 'y':y})\n"
   ]
  },
  {
   "cell_type": "code",
   "execution_count": 61,
   "metadata": {},
   "outputs": [
    {
     "data": {
      "text/plain": [
       "[<matplotlib.lines.Line2D at 0x165de2490>]"
      ]
     },
     "execution_count": 61,
     "metadata": {},
     "output_type": "execute_result"
    },
    {
     "data": {
      "image/png": "[encoded data removed]",
      "text/plain": [
       "<Figure size 640x480 with 1 Axes>"
      ]
     },
     "metadata": {},
     "output_type": "display_data"
    }
   ],
   "source": [
    "plt.plot(x[0:100])\n",
    "plt.plot(y[0:100])"
   ]
  },
  {
   "cell_type": "code",
   "execution_count": 62,
   "metadata": {},
   "outputs": [
    {
     "data": {
      "text/plain": [
       "array([[0.51167647, 0.01272016],\n",
       "       [0.01272016, 0.48794946]])"
      ]
     },
     "execution_count": 62,
     "metadata": {},
     "output_type": "execute_result"
    }
   ],
   "source": [
    "np.cov(x,y)"
   ]
  },
  {
   "cell_type": "code",
   "execution_count": 63,
   "metadata": {},
   "outputs": [
    {
     "data": {
      "text/plain": [
       "0.012720159460869627"
      ]
     },
     "execution_count": 63,
     "metadata": {},
     "output_type": "execute_result"
    }
   ],
   "source": [
    "# Vérif du calcul de corrélation : \n",
    "mx=np.mean(x)\n",
    "my=np.mean(y)\n",
    "1/(len(x)-1)*np.sum((x-mx)*(y-my))"
   ]
  },
  {
   "cell_type": "markdown",
   "metadata": {},
   "source": [
    "Visualisation conjointe...  "
   ]
  },
  {
   "cell_type": "code",
   "execution_count": 64,
   "metadata": {},
   "outputs": [
    {
     "data": {
      "text/plain": [
       "<seaborn.axisgrid.PairGrid at 0x165d966d0>"
      ]
     },
     "execution_count": 64,
     "metadata": {},
     "output_type": "execute_result"
    },
    {
     "data": {
      "image/png": "[encoded data removed]",
      "text/plain": [
       "<Figure size 500x500 with 6 Axes>"
      ]
     },
     "metadata": {},
     "output_type": "display_data"
    }
   ],
   "source": [
    "sns.pairplot(df)"
   ]
  },
  {
   "cell_type": "markdown",
   "metadata": {},
   "source": [
    "Ce n'est pas parce qu'il n'y a pas de corrélation, qu'il n'y a pas de dépendance !"
   ]
  },
  {
   "cell_type": "code",
   "execution_count": null,
   "metadata": {},
   "outputs": [],
   "source": [
    "\n",
    "\n",
    "\n"
   ]
  },
  {
   "cell_type": "code",
   "execution_count": null,
   "metadata": {},
   "outputs": [],
   "source": []
  },
  {
   "cell_type": "code",
   "execution_count": null,
   "metadata": {},
   "outputs": [],
   "source": []
  },
  {
   "cell_type": "code",
   "execution_count": null,
   "metadata": {},
   "outputs": [],
   "source": []
  },
  {
   "cell_type": "markdown",
   "metadata": {},
   "source": [
    "# Pandas"
   ]
  },
  {
   "cell_type": "markdown",
   "metadata": {},
   "source": [
    "La bibliothèque [Pandas](http://pandas.pydata.org/) est une bibliothèque d'analyse de données qui est actuellement absolument incontournable. On présente ici quelques fonctionnalités, étant bien entendu que cela ne fait qu'effleurer le sujet et ne peut remplacer la consultation de la [documentation](http://pandas.pydata.org/pandas-docs/stable/) et l'expérimentation."
   ]
  },
  {
   "cell_type": "code",
   "execution_count": 65,
   "metadata": {
    "scrolled": true
   },
   "outputs": [
    {
     "data": {
      "text/html": [
       "\n",
       "        <iframe\n",
       "            width=\"700\"\n",
       "            height=\"350\"\n",
       "            src=\"http://pandas.pydata.org/\"\n",
       "            frameborder=\"0\"\n",
       "            allowfullscreen\n",
       "            \n",
       "        ></iframe>\n",
       "        "
      ],
      "text/plain": [
       "<IPython.lib.display.IFrame at 0x165ff75b0>"
      ]
     },
     "execution_count": 65,
     "metadata": {},
     "output_type": "execute_result"
    }
   ],
   "source": [
    "from IPython.display import IFrame\n",
    "IFrame('http://pandas.pydata.org/', width=700, height=350)"
   ]
  },
  {
   "cell_type": "markdown",
   "metadata": {},
   "source": [
    "Rien que pour son support des entrées sorties, c'est un outil indispensable :\n",
    "[entrées-sorties](https://pandas.pydata.org/pandas-docs/stable/user_guide/io.html)"
   ]
  },
  {
   "cell_type": "markdown",
   "metadata": {},
   "source": [
    "## Rappel - Numpy"
   ]
  },
  {
   "cell_type": "code",
   "execution_count": 66,
   "metadata": {},
   "outputs": [
    {
     "name": "stdout",
     "output_type": "stream",
     "text": [
      "[ 0  1  2  3  4  5  6  7  8  9 10 11 12 13 14 15 16 17 18 19] \n",
      "\n",
      "shape : (20,) \n",
      "\n",
      "type :  <class 'numpy.ndarray'>\n"
     ]
    }
   ],
   "source": [
    "#%%file pouet.py \n",
    "#1d vector\n",
    "data = np.arange(20)\n",
    "print(data, \"\\n\\nshape :\", data.shape, \"\\n\\ntype : \", type(data))\n",
    "#print(f\"data {data}\")"
   ]
  },
  {
   "cell_type": "code",
   "execution_count": 68,
   "metadata": {},
   "outputs": [
    {
     "name": "stdout",
     "output_type": "stream",
     "text": [
      "[[ 0  1  2  3  4]\n",
      " [ 5  6  7  8  9]\n",
      " [10 11 12 13 14]\n",
      " [15 16 17 18 19]] \n",
      "\n",
      "shape : (4, 5) \n",
      "\n",
      "type :  <class 'numpy.ndarray'>\n"
     ]
    }
   ],
   "source": [
    "# make it a 4,5 array\n",
    "data = np.arange(20).reshape(4, 5)\n",
    "print(data, \"\\n\\nshape :\", data.shape, \"\\n\\ntype : \", type(data))"
   ]
  },
  {
   "cell_type": "code",
   "execution_count": 69,
   "metadata": {},
   "outputs": [
    {
     "data": {
      "text/plain": [
       "array([ 1,  6, 11, 16])"
      ]
     },
     "execution_count": 69,
     "metadata": {},
     "output_type": "execute_result"
    }
   ],
   "source": [
    "# extraire une colonne\n",
    "data[:, 1]"
   ]
  },
  {
   "cell_type": "code",
   "execution_count": 70,
   "metadata": {},
   "outputs": [
    {
     "data": {
      "text/plain": [
       "array([5, 6, 7, 8, 9])"
      ]
     },
     "execution_count": 70,
     "metadata": {},
     "output_type": "execute_result"
    }
   ],
   "source": [
    "# extraire une ligne\n",
    "data[1, :]"
   ]
  },
  {
   "cell_type": "code",
   "execution_count": 71,
   "metadata": {},
   "outputs": [
    {
     "data": {
      "text/plain": [
       "array([[12, 13],\n",
       "       [17, 18]])"
      ]
     },
     "execution_count": 71,
     "metadata": {},
     "output_type": "execute_result"
    }
   ],
   "source": [
    "# slices\n",
    "data[2:4, 2:4]"
   ]
  },
  {
   "cell_type": "markdown",
   "metadata": {},
   "source": [
    "## Quelques fonctions utiles pour la présentation"
   ]
  },
  {
   "cell_type": "code",
   "execution_count": 72,
   "metadata": {},
   "outputs": [
    {
     "data": {
      "text/plain": [
       "['e', 'P', 'I', 'p', 'Z', 'D', 'X', 'F', 'q', 'c', 'M', 'n']"
      ]
     },
     "execution_count": 72,
     "metadata": {},
     "output_type": "execute_result"
    }
   ],
   "source": [
    "def random_letters(size=1,maxletter=52):\n",
    "    import string\n",
    "    return [string.ascii_letters[k] \n",
    "            for k in np.random.randint(0,maxletter,size=size)]\n",
    "z=random_letters(12,52)\n",
    "z"
   ]
  },
  {
   "cell_type": "code",
   "execution_count": 73,
   "metadata": {},
   "outputs": [
    {
     "data": {
      "text/html": [
       "<b style=\"color:blue\"> z </b>"
      ],
      "text/plain": [
       "<IPython.core.display.HTML object>"
      ]
     },
     "metadata": {},
     "output_type": "display_data"
    },
    {
     "name": "stdout",
     "output_type": "stream",
     "text": [
      "['e', 'P', 'I', 'p', 'Z', 'D', 'X', 'F', 'q', 'c', 'M', 'n']\n"
     ]
    },
    {
     "data": {
      "text/html": [
       "<b style=\"color:blue\"> [x.upper() for x in z] </b>"
      ],
      "text/plain": [
       "<IPython.core.display.HTML object>"
      ]
     },
     "metadata": {},
     "output_type": "display_data"
    },
    {
     "name": "stdout",
     "output_type": "stream",
     "text": [
      "['E', 'P', 'I', 'P', 'Z', 'D', 'X', 'F', 'Q', 'C', 'M', 'N']\n"
     ]
    }
   ],
   "source": [
    "def disp(expr):\n",
    "    from IPython.display import HTML, display\n",
    "    display(HTML( '<b style=\"color:blue\"> {} </b>'.format(expr)))\n",
    "    print(eval(expr))\n",
    "disp(\"z\")\n",
    "disp(\"[x.upper() for x in z]\")"
   ]
  },
  {
   "cell_type": "code",
   "execution_count": 74,
   "metadata": {},
   "outputs": [],
   "source": [
    "def convint(x):\n",
    "    import re\n",
    "    if x is not np.nan: \n",
    "        if isinstance(x,str): \n",
    "            x=x.replace('\\xa0','')\n",
    "            x=x.replace(' ','')\n",
    "            x=re.sub(r'\\[\\S+\\]','',x)\n",
    "        if x=='': return 0\n",
    "        if x=='NR': return 0\n",
    "        try:\n",
    "            return int(x)\n",
    "        except:\n",
    "            return np.nan"
   ]
  },
  {
   "cell_type": "markdown",
   "metadata": {},
   "source": [
    "\n",
    "![](panda-giving-another-panda-a-hand-sm.jpg)"
   ]
  },
  {
   "cell_type": "markdown",
   "metadata": {},
   "source": [
    "# DataFrames pandas"
   ]
  },
  {
   "cell_type": "markdown",
   "metadata": {},
   "source": [
    "## Introduction"
   ]
  },
  {
   "cell_type": "markdown",
   "metadata": {},
   "source": [
    "Le nom de pandas dérive de `panel data`, un terme courant en économétrie. Un article de référence est [pyhpc2011](http://www.dlr.de/sc/Portaldata/15/Resources/dokumente/pyhpc2011/submissions/pyhpc2011_submission_9.pdf). \n",
    "\n",
    "La structure fondamentale de pandas est celle des dataframes. La figure suivante est extraite du livre de [Wes McKinney](https://www.amazon.fr/Python-Data-Analysis-Wes-Mckinney/dp/1449319793/ref=sr_1_1?ie=UTF8&qid=1443455134&sr=8-1&keywords=Python+for+Data+Analysis)\n",
    "![](DataFrame.png)"
   ]
  },
  {
   "cell_type": "code",
   "execution_count": 75,
   "metadata": {},
   "outputs": [
    {
     "data": {
      "text/html": [
       "<div>\n",
       "<style scoped>\n",
       "    .dataframe tbody tr th:only-of-type {\n",
       "        vertical-align: middle;\n",
       "    }\n",
       "\n",
       "    .dataframe tbody tr th {\n",
       "        vertical-align: top;\n",
       "    }\n",
       "\n",
       "    .dataframe thead th {\n",
       "        text-align: right;\n",
       "    }\n",
       "</style>\n",
       "<table border=\"1\" class=\"dataframe\">\n",
       "  <thead>\n",
       "    <tr style=\"text-align: right;\">\n",
       "      <th></th>\n",
       "      <th>1931</th>\n",
       "      <th>1999</th>\n",
       "      <th>2008</th>\n",
       "      <th>2010</th>\n",
       "      <th>2011</th>\n",
       "      <th>2012</th>\n",
       "    </tr>\n",
       "  </thead>\n",
       "  <tbody>\n",
       "    <tr>\n",
       "      <th>Nord</th>\n",
       "      <td>2029449.0</td>\n",
       "      <td>2555020</td>\n",
       "      <td>2564959</td>\n",
       "      <td>2576770.0</td>\n",
       "      <td>2579208.0</td>\n",
       "      <td>2587128</td>\n",
       "    </tr>\n",
       "    <tr>\n",
       "      <th>Paris</th>\n",
       "      <td>2891020.0</td>\n",
       "      <td>2125246</td>\n",
       "      <td>2211297</td>\n",
       "      <td>2243833.0</td>\n",
       "      <td>2249975.0</td>\n",
       "      <td>2240621</td>\n",
       "    </tr>\n",
       "    <tr>\n",
       "      <th>Bouches-du-Rhône</th>\n",
       "      <td>1101672.0</td>\n",
       "      <td>1835719</td>\n",
       "      <td>1966005</td>\n",
       "      <td>1972018.0</td>\n",
       "      <td>1975896.0</td>\n",
       "      <td>1984784</td>\n",
       "    </tr>\n",
       "    <tr>\n",
       "      <th>Hauts-de-Seine</th>\n",
       "      <td>949231.0</td>\n",
       "      <td>1428881</td>\n",
       "      <td>1549619</td>\n",
       "      <td>1572490.0</td>\n",
       "      <td>1581628.0</td>\n",
       "      <td>1586434</td>\n",
       "    </tr>\n",
       "    <tr>\n",
       "      <th>Seine-Saint-Denis</th>\n",
       "      <td>769315.0</td>\n",
       "      <td>1382861</td>\n",
       "      <td>1506466</td>\n",
       "      <td>1522048.0</td>\n",
       "      <td>1529928.0</td>\n",
       "      <td>1538726</td>\n",
       "    </tr>\n",
       "  </tbody>\n",
       "</table>\n",
       "</div>"
      ],
      "text/plain": [
       "                        1931     1999     2008       2010       2011     2012\n",
       "Nord               2029449.0  2555020  2564959  2576770.0  2579208.0  2587128\n",
       "Paris              2891020.0  2125246  2211297  2243833.0  2249975.0  2240621\n",
       "Bouches-du-Rhône   1101672.0  1835719  1966005  1972018.0  1975896.0  1984784\n",
       "Hauts-de-Seine      949231.0  1428881  1549619  1572490.0  1581628.0  1586434\n",
       "Seine-Saint-Denis   769315.0  1382861  1506466  1522048.0  1529928.0  1538726"
      ]
     },
     "execution_count": 75,
     "metadata": {},
     "output_type": "execute_result"
    }
   ],
   "source": [
    "p1 = pd.read_csv(\"dpts_pop.csv\")\n",
    "p1.index = p1.iloc[:, 0].values  # prend comme nouvel index le contenu de la colonne 0\n",
    "p1 = p1.drop(['Unnamed: 0', '2015'], axis=1)  # supprime la colonne\n",
    "p1.columns = p1.columns.astype(int)\n",
    "p1 = p1.applymap(convint)\n",
    "p1.head()"
   ]
  },
  {
   "cell_type": "code",
   "execution_count": 76,
   "metadata": {},
   "outputs": [],
   "source": [
    "pop = p1.copy()"
   ]
  },
  {
   "cell_type": "code",
   "execution_count": 77,
   "metadata": {},
   "outputs": [
    {
     "data": {
      "text/plain": [
       "Nord                 5743\n",
       "Paris                 105\n",
       "Bouches-du-Rhône     5087\n",
       "Hauts-de-Seine        176\n",
       "Seine-Saint-Denis     236\n",
       "Name: Superficie, dtype: int64"
      ]
     },
     "execution_count": 77,
     "metadata": {},
     "output_type": "execute_result"
    }
   ],
   "source": [
    "p2 = pd.read_csv(\"dpts_tab.csv\")\n",
    "p2 = p2.drop(labels=[0, 1], axis=0)\n",
    "p2.index = p1.index\n",
    "p2 = p2.drop(labels=['Unnamed: 0'], axis=1)\n",
    "sup = p2['Superficie'].copy()\n",
    "sup = sup.map(convint)\n",
    "sup.head()"
   ]
  },
  {
   "cell_type": "markdown",
   "metadata": {},
   "source": [
    "On a des méthodes pour afficher le début ou la fin du dataframe, ainsi qu'une description statistique"
   ]
  },
  {
   "cell_type": "code",
   "execution_count": 79,
   "metadata": {},
   "outputs": [
    {
     "data": {
      "text/html": [
       "<div>\n",
       "<style scoped>\n",
       "    .dataframe tbody tr th:only-of-type {\n",
       "        vertical-align: middle;\n",
       "    }\n",
       "\n",
       "    .dataframe tbody tr th {\n",
       "        vertical-align: top;\n",
       "    }\n",
       "\n",
       "    .dataframe thead th {\n",
       "        text-align: right;\n",
       "    }\n",
       "</style>\n",
       "<table border=\"1\" class=\"dataframe\">\n",
       "  <thead>\n",
       "    <tr style=\"text-align: right;\">\n",
       "      <th></th>\n",
       "      <th>1931</th>\n",
       "      <th>1999</th>\n",
       "      <th>2008</th>\n",
       "      <th>2010</th>\n",
       "      <th>2011</th>\n",
       "      <th>2012</th>\n",
       "    </tr>\n",
       "  </thead>\n",
       "  <tbody>\n",
       "    <tr>\n",
       "      <th>Nord</th>\n",
       "      <td>2029449.0</td>\n",
       "      <td>2555020</td>\n",
       "      <td>2564959</td>\n",
       "      <td>2576770.0</td>\n",
       "      <td>2579208.0</td>\n",
       "      <td>2587128</td>\n",
       "    </tr>\n",
       "    <tr>\n",
       "      <th>Paris</th>\n",
       "      <td>2891020.0</td>\n",
       "      <td>2125246</td>\n",
       "      <td>2211297</td>\n",
       "      <td>2243833.0</td>\n",
       "      <td>2249975.0</td>\n",
       "      <td>2240621</td>\n",
       "    </tr>\n",
       "    <tr>\n",
       "      <th>Bouches-du-Rhône</th>\n",
       "      <td>1101672.0</td>\n",
       "      <td>1835719</td>\n",
       "      <td>1966005</td>\n",
       "      <td>1972018.0</td>\n",
       "      <td>1975896.0</td>\n",
       "      <td>1984784</td>\n",
       "    </tr>\n",
       "    <tr>\n",
       "      <th>Hauts-de-Seine</th>\n",
       "      <td>949231.0</td>\n",
       "      <td>1428881</td>\n",
       "      <td>1549619</td>\n",
       "      <td>1572490.0</td>\n",
       "      <td>1581628.0</td>\n",
       "      <td>1586434</td>\n",
       "    </tr>\n",
       "    <tr>\n",
       "      <th>Seine-Saint-Denis</th>\n",
       "      <td>769315.0</td>\n",
       "      <td>1382861</td>\n",
       "      <td>1506466</td>\n",
       "      <td>1522048.0</td>\n",
       "      <td>1529928.0</td>\n",
       "      <td>1538726</td>\n",
       "    </tr>\n",
       "    <tr>\n",
       "      <th>Gironde</th>\n",
       "      <td>852768.0</td>\n",
       "      <td>1287334</td>\n",
       "      <td>1421276</td>\n",
       "      <td>1449245.0</td>\n",
       "      <td>1463662.0</td>\n",
       "      <td>1483712</td>\n",
       "    </tr>\n",
       "    <tr>\n",
       "      <th>Pas-de-Calais</th>\n",
       "      <td>1205191.0</td>\n",
       "      <td>1441568</td>\n",
       "      <td>1459531</td>\n",
       "      <td>1461387.0</td>\n",
       "      <td>1462807.0</td>\n",
       "      <td>1463628</td>\n",
       "    </tr>\n",
       "    <tr>\n",
       "      <th>Yvelines</th>\n",
       "      <td>408282.0</td>\n",
       "      <td>1354308</td>\n",
       "      <td>1406053</td>\n",
       "      <td>1408765.0</td>\n",
       "      <td>1413635.0</td>\n",
       "      <td>1412356</td>\n",
       "    </tr>\n",
       "    <tr>\n",
       "      <th>Seine-et-Marne</th>\n",
       "      <td>406108.0</td>\n",
       "      <td>1193767</td>\n",
       "      <td>1338427</td>\n",
       "      <td>1324865.0</td>\n",
       "      <td>1338427.0</td>\n",
       "      <td>1353946</td>\n",
       "    </tr>\n",
       "    <tr>\n",
       "      <th>Val-de-Marne</th>\n",
       "      <td>657322.0</td>\n",
       "      <td>1227250</td>\n",
       "      <td>1310876</td>\n",
       "      <td>1327732.0</td>\n",
       "      <td>1333702.0</td>\n",
       "      <td>1341831</td>\n",
       "    </tr>\n",
       "    <tr>\n",
       "      <th>Métropole de Lyon</th>\n",
       "      <td>0.0</td>\n",
       "      <td>0</td>\n",
       "      <td>0</td>\n",
       "      <td>0.0</td>\n",
       "      <td>0.0</td>\n",
       "      <td>0</td>\n",
       "    </tr>\n",
       "    <tr>\n",
       "      <th>Loire-Atlantique</th>\n",
       "      <td>652079.0</td>\n",
       "      <td>1134266</td>\n",
       "      <td>1255871</td>\n",
       "      <td>1282052.0</td>\n",
       "      <td>1296364.0</td>\n",
       "      <td>1313321</td>\n",
       "    </tr>\n",
       "  </tbody>\n",
       "</table>\n",
       "</div>"
      ],
      "text/plain": [
       "                        1931     1999     2008       2010       2011     2012\n",
       "Nord               2029449.0  2555020  2564959  2576770.0  2579208.0  2587128\n",
       "Paris              2891020.0  2125246  2211297  2243833.0  2249975.0  2240621\n",
       "Bouches-du-Rhône   1101672.0  1835719  1966005  1972018.0  1975896.0  1984784\n",
       "Hauts-de-Seine      949231.0  1428881  1549619  1572490.0  1581628.0  1586434\n",
       "Seine-Saint-Denis   769315.0  1382861  1506466  1522048.0  1529928.0  1538726\n",
       "Gironde             852768.0  1287334  1421276  1449245.0  1463662.0  1483712\n",
       "Pas-de-Calais      1205191.0  1441568  1459531  1461387.0  1462807.0  1463628\n",
       "Yvelines            408282.0  1354308  1406053  1408765.0  1413635.0  1412356\n",
       "Seine-et-Marne      406108.0  1193767  1338427  1324865.0  1338427.0  1353946\n",
       "Val-de-Marne        657322.0  1227250  1310876  1327732.0  1333702.0  1341831\n",
       "Métropole de Lyon        0.0        0        0        0.0        0.0        0\n",
       "Loire-Atlantique    652079.0  1134266  1255871  1282052.0  1296364.0  1313321"
      ]
     },
     "execution_count": 79,
     "metadata": {},
     "output_type": "execute_result"
    }
   ],
   "source": [
    "pop.head(12)"
   ]
  },
  {
   "cell_type": "code",
   "execution_count": 80,
   "metadata": {},
   "outputs": [
    {
     "data": {
      "text/html": [
       "<div>\n",
       "<style scoped>\n",
       "    .dataframe tbody tr th:only-of-type {\n",
       "        vertical-align: middle;\n",
       "    }\n",
       "\n",
       "    .dataframe tbody tr th {\n",
       "        vertical-align: top;\n",
       "    }\n",
       "\n",
       "    .dataframe thead th {\n",
       "        text-align: right;\n",
       "    }\n",
       "</style>\n",
       "<table border=\"1\" class=\"dataframe\">\n",
       "  <thead>\n",
       "    <tr style=\"text-align: right;\">\n",
       "      <th></th>\n",
       "      <th>1931</th>\n",
       "      <th>1999</th>\n",
       "      <th>2008</th>\n",
       "      <th>2010</th>\n",
       "      <th>2011</th>\n",
       "      <th>2012</th>\n",
       "    </tr>\n",
       "  </thead>\n",
       "  <tbody>\n",
       "    <tr>\n",
       "      <th>Corse-du-Sud</th>\n",
       "      <td>NaN</td>\n",
       "      <td>118593</td>\n",
       "      <td>140953</td>\n",
       "      <td>143600.0</td>\n",
       "      <td>145846.0</td>\n",
       "      <td>145429</td>\n",
       "    </tr>\n",
       "    <tr>\n",
       "      <th>Territoire de Belfort</th>\n",
       "      <td>99403.0</td>\n",
       "      <td>137408</td>\n",
       "      <td>141958</td>\n",
       "      <td>142911.0</td>\n",
       "      <td>143348.0</td>\n",
       "      <td>143940</td>\n",
       "    </tr>\n",
       "    <tr>\n",
       "      <th>Hautes-Alpes</th>\n",
       "      <td>87566.0</td>\n",
       "      <td>121419</td>\n",
       "      <td>134205</td>\n",
       "      <td>136971.0</td>\n",
       "      <td>138605.0</td>\n",
       "      <td>139554</td>\n",
       "    </tr>\n",
       "    <tr>\n",
       "      <th>Creuse</th>\n",
       "      <td>207882.0</td>\n",
       "      <td>124470</td>\n",
       "      <td>123907</td>\n",
       "      <td>123029.0</td>\n",
       "      <td>122560.0</td>\n",
       "      <td>121517</td>\n",
       "    </tr>\n",
       "    <tr>\n",
       "      <th>Lozère</th>\n",
       "      <td>101849.0</td>\n",
       "      <td>73509</td>\n",
       "      <td>76973</td>\n",
       "      <td>77082.0</td>\n",
       "      <td>77156.0</td>\n",
       "      <td>76889</td>\n",
       "    </tr>\n",
       "  </tbody>\n",
       "</table>\n",
       "</div>"
      ],
      "text/plain": [
       "                           1931    1999    2008      2010      2011    2012\n",
       "Corse-du-Sud                NaN  118593  140953  143600.0  145846.0  145429\n",
       "Territoire de Belfort   99403.0  137408  141958  142911.0  143348.0  143940\n",
       "Hautes-Alpes            87566.0  121419  134205  136971.0  138605.0  139554\n",
       "Creuse                 207882.0  124470  123907  123029.0  122560.0  121517\n",
       "Lozère                 101849.0   73509   76973   77082.0   77156.0   76889"
      ]
     },
     "execution_count": 80,
     "metadata": {},
     "output_type": "execute_result"
    }
   ],
   "source": [
    "pop.tail()"
   ]
  },
  {
   "cell_type": "code",
   "execution_count": 81,
   "metadata": {},
   "outputs": [
    {
     "data": {
      "text/html": [
       "<div>\n",
       "<style scoped>\n",
       "    .dataframe tbody tr th:only-of-type {\n",
       "        vertical-align: middle;\n",
       "    }\n",
       "\n",
       "    .dataframe tbody tr th {\n",
       "        vertical-align: top;\n",
       "    }\n",
       "\n",
       "    .dataframe thead th {\n",
       "        text-align: right;\n",
       "    }\n",
       "</style>\n",
       "<table border=\"1\" class=\"dataframe\">\n",
       "  <thead>\n",
       "    <tr style=\"text-align: right;\">\n",
       "      <th></th>\n",
       "      <th>1931</th>\n",
       "      <th>1999</th>\n",
       "      <th>2008</th>\n",
       "      <th>2010</th>\n",
       "      <th>2011</th>\n",
       "      <th>2012</th>\n",
       "    </tr>\n",
       "  </thead>\n",
       "  <tbody>\n",
       "    <tr>\n",
       "      <th>count</th>\n",
       "      <td>9.600000e+01</td>\n",
       "      <td>1.020000e+02</td>\n",
       "      <td>1.020000e+02</td>\n",
       "      <td>1.010000e+02</td>\n",
       "      <td>1.010000e+02</td>\n",
       "      <td>1.020000e+02</td>\n",
       "    </tr>\n",
       "    <tr>\n",
       "      <th>mean</th>\n",
       "      <td>4.347618e+05</td>\n",
       "      <td>5.913447e+05</td>\n",
       "      <td>6.292455e+05</td>\n",
       "      <td>6.398522e+05</td>\n",
       "      <td>6.429050e+05</td>\n",
       "      <td>6.417048e+05</td>\n",
       "    </tr>\n",
       "    <tr>\n",
       "      <th>std</th>\n",
       "      <td>3.766479e+05</td>\n",
       "      <td>4.615506e+05</td>\n",
       "      <td>4.868306e+05</td>\n",
       "      <td>4.918769e+05</td>\n",
       "      <td>4.944750e+05</td>\n",
       "      <td>4.965961e+05</td>\n",
       "    </tr>\n",
       "    <tr>\n",
       "      <th>min</th>\n",
       "      <td>0.000000e+00</td>\n",
       "      <td>0.000000e+00</td>\n",
       "      <td>0.000000e+00</td>\n",
       "      <td>0.000000e+00</td>\n",
       "      <td>0.000000e+00</td>\n",
       "      <td>0.000000e+00</td>\n",
       "    </tr>\n",
       "    <tr>\n",
       "      <th>25%</th>\n",
       "      <td>2.506840e+05</td>\n",
       "      <td>2.855092e+05</td>\n",
       "      <td>2.862182e+05</td>\n",
       "      <td>2.916420e+05</td>\n",
       "      <td>2.908910e+05</td>\n",
       "      <td>2.845872e+05</td>\n",
       "    </tr>\n",
       "    <tr>\n",
       "      <th>50%</th>\n",
       "      <td>3.345130e+05</td>\n",
       "      <td>4.902665e+05</td>\n",
       "      <td>5.092725e+05</td>\n",
       "      <td>5.243580e+05</td>\n",
       "      <td>5.259310e+05</td>\n",
       "      <td>5.133715e+05</td>\n",
       "    </tr>\n",
       "    <tr>\n",
       "      <th>75%</th>\n",
       "      <td>4.951795e+05</td>\n",
       "      <td>7.318375e+05</td>\n",
       "      <td>7.934995e+05</td>\n",
       "      <td>8.035950e+05</td>\n",
       "      <td>8.056420e+05</td>\n",
       "      <td>8.066142e+05</td>\n",
       "    </tr>\n",
       "    <tr>\n",
       "      <th>max</th>\n",
       "      <td>2.891020e+06</td>\n",
       "      <td>2.555020e+06</td>\n",
       "      <td>2.564959e+06</td>\n",
       "      <td>2.576770e+06</td>\n",
       "      <td>2.579208e+06</td>\n",
       "      <td>2.587128e+06</td>\n",
       "    </tr>\n",
       "  </tbody>\n",
       "</table>\n",
       "</div>"
      ],
      "text/plain": [
       "               1931          1999          2008          2010          2011  \\\n",
       "count  9.600000e+01  1.020000e+02  1.020000e+02  1.010000e+02  1.010000e+02   \n",
       "mean   4.347618e+05  5.913447e+05  6.292455e+05  6.398522e+05  6.429050e+05   \n",
       "std    3.766479e+05  4.615506e+05  4.868306e+05  4.918769e+05  4.944750e+05   \n",
       "min    0.000000e+00  0.000000e+00  0.000000e+00  0.000000e+00  0.000000e+00   \n",
       "25%    2.506840e+05  2.855092e+05  2.862182e+05  2.916420e+05  2.908910e+05   \n",
       "50%    3.345130e+05  4.902665e+05  5.092725e+05  5.243580e+05  5.259310e+05   \n",
       "75%    4.951795e+05  7.318375e+05  7.934995e+05  8.035950e+05  8.056420e+05   \n",
       "max    2.891020e+06  2.555020e+06  2.564959e+06  2.576770e+06  2.579208e+06   \n",
       "\n",
       "               2012  \n",
       "count  1.020000e+02  \n",
       "mean   6.417048e+05  \n",
       "std    4.965961e+05  \n",
       "min    0.000000e+00  \n",
       "25%    2.845872e+05  \n",
       "50%    5.133715e+05  \n",
       "75%    8.066142e+05  \n",
       "max    2.587128e+06  "
      ]
     },
     "execution_count": 81,
     "metadata": {},
     "output_type": "execute_result"
    }
   ],
   "source": [
    "pop.describe()"
   ]
  },
  {
   "cell_type": "code",
   "execution_count": 82,
   "metadata": {},
   "outputs": [
    {
     "name": "stdout",
     "output_type": "stream",
     "text": [
      "<class 'pandas.core.frame.DataFrame'>\n",
      "Index: 102 entries, Nord to Lozère\n",
      "Data columns (total 6 columns):\n",
      " #   Column  Non-Null Count  Dtype  \n",
      "---  ------  --------------  -----  \n",
      " 0   1931    96 non-null     float64\n",
      " 1   1999    102 non-null    int64  \n",
      " 2   2008    102 non-null    int64  \n",
      " 3   2010    101 non-null    float64\n",
      " 4   2011    101 non-null    float64\n",
      " 5   2012    102 non-null    int64  \n",
      "dtypes: float64(3), int64(3)\n",
      "memory usage: 5.6+ KB\n"
     ]
    }
   ],
   "source": [
    "pop.info()"
   ]
  },
  {
   "cell_type": "code",
   "execution_count": 83,
   "metadata": {},
   "outputs": [
    {
     "data": {
      "text/plain": [
       "1931    6\n",
       "1999    0\n",
       "2008    0\n",
       "2010    1\n",
       "2011    1\n",
       "2012    0\n",
       "dtype: int64"
      ]
     },
     "execution_count": 83,
     "metadata": {},
     "output_type": "execute_result"
    }
   ],
   "source": [
    "pop.isnull().sum()"
   ]
  },
  {
   "cell_type": "code",
   "execution_count": null,
   "metadata": {},
   "outputs": [],
   "source": []
  },
  {
   "cell_type": "code",
   "execution_count": null,
   "metadata": {},
   "outputs": [],
   "source": []
  },
  {
   "cell_type": "code",
   "execution_count": 84,
   "metadata": {},
   "outputs": [
    {
     "data": {
      "text/html": [
       "<div>\n",
       "<style scoped>\n",
       "    .dataframe tbody tr th:only-of-type {\n",
       "        vertical-align: middle;\n",
       "    }\n",
       "\n",
       "    .dataframe tbody tr th {\n",
       "        vertical-align: top;\n",
       "    }\n",
       "\n",
       "    .dataframe thead th {\n",
       "        text-align: right;\n",
       "    }\n",
       "</style>\n",
       "<table border=\"1\" class=\"dataframe\">\n",
       "  <thead>\n",
       "    <tr style=\"text-align: right;\">\n",
       "      <th></th>\n",
       "      <th>col_0</th>\n",
       "      <th>col_1</th>\n",
       "      <th>col_2</th>\n",
       "      <th>col_3</th>\n",
       "      <th>col_4</th>\n",
       "    </tr>\n",
       "  </thead>\n",
       "  <tbody>\n",
       "    <tr>\n",
       "      <th>a</th>\n",
       "      <td>0.789920</td>\n",
       "      <td>0.458588</td>\n",
       "      <td>0.645609</td>\n",
       "      <td>0.175471</td>\n",
       "      <td>0.703271</td>\n",
       "    </tr>\n",
       "    <tr>\n",
       "      <th>b</th>\n",
       "      <td>0.692235</td>\n",
       "      <td>0.146446</td>\n",
       "      <td>0.237651</td>\n",
       "      <td>0.083270</td>\n",
       "      <td>0.431173</td>\n",
       "    </tr>\n",
       "    <tr>\n",
       "      <th>c</th>\n",
       "      <td>0.462209</td>\n",
       "      <td>0.608256</td>\n",
       "      <td>0.420631</td>\n",
       "      <td>0.388490</td>\n",
       "      <td>0.468706</td>\n",
       "    </tr>\n",
       "    <tr>\n",
       "      <th>d</th>\n",
       "      <td>0.141525</td>\n",
       "      <td>0.118857</td>\n",
       "      <td>0.747794</td>\n",
       "      <td>0.486839</td>\n",
       "      <td>0.250376</td>\n",
       "    </tr>\n",
       "  </tbody>\n",
       "</table>\n",
       "</div>"
      ],
      "text/plain": [
       "      col_0     col_1     col_2     col_3     col_4\n",
       "a  0.789920  0.458588  0.645609  0.175471  0.703271\n",
       "b  0.692235  0.146446  0.237651  0.083270  0.431173\n",
       "c  0.462209  0.608256  0.420631  0.388490  0.468706\n",
       "d  0.141525  0.118857  0.747794  0.486839  0.250376"
      ]
     },
     "execution_count": 84,
     "metadata": {},
     "output_type": "execute_result"
    }
   ],
   "source": [
    "def random_df(size):\n",
    "    import string\n",
    "    letters = string.ascii_letters\n",
    "    return pd.DataFrame(\n",
    "        np.random.uniform(size=size),\n",
    "        index=[letters[k] for k in range(size[0])],\n",
    "        columns=['col_' + str(k) for k in range(size[1])])\n",
    "\n",
    "\n",
    "a = random_df((4, 5))\n",
    "a"
   ]
  },
  {
   "cell_type": "markdown",
   "metadata": {},
   "source": [
    "## Accéder aux données :"
   ]
  },
  {
   "cell_type": "markdown",
   "metadata": {},
   "source": [
    "Comment extrait-on des données d'un dataframe ?"
   ]
  },
  {
   "cell_type": "code",
   "execution_count": 85,
   "metadata": {},
   "outputs": [
    {
     "data": {
      "text/html": [
       "<div>\n",
       "<style scoped>\n",
       "    .dataframe tbody tr th:only-of-type {\n",
       "        vertical-align: middle;\n",
       "    }\n",
       "\n",
       "    .dataframe tbody tr th {\n",
       "        vertical-align: top;\n",
       "    }\n",
       "\n",
       "    .dataframe thead th {\n",
       "        text-align: right;\n",
       "    }\n",
       "</style>\n",
       "<table border=\"1\" class=\"dataframe\">\n",
       "  <thead>\n",
       "    <tr style=\"text-align: right;\">\n",
       "      <th></th>\n",
       "      <th>col_0</th>\n",
       "      <th>col_1</th>\n",
       "      <th>col_2</th>\n",
       "      <th>col_3</th>\n",
       "      <th>col_4</th>\n",
       "    </tr>\n",
       "  </thead>\n",
       "  <tbody>\n",
       "    <tr>\n",
       "      <th>a</th>\n",
       "      <td>0.584260</td>\n",
       "      <td>0.326332</td>\n",
       "      <td>0.203506</td>\n",
       "      <td>0.752352</td>\n",
       "      <td>0.610663</td>\n",
       "    </tr>\n",
       "    <tr>\n",
       "      <th>b</th>\n",
       "      <td>0.747383</td>\n",
       "      <td>0.404287</td>\n",
       "      <td>0.805201</td>\n",
       "      <td>0.145945</td>\n",
       "      <td>0.747104</td>\n",
       "    </tr>\n",
       "    <tr>\n",
       "      <th>c</th>\n",
       "      <td>0.707441</td>\n",
       "      <td>0.171472</td>\n",
       "      <td>0.754816</td>\n",
       "      <td>0.871015</td>\n",
       "      <td>0.932881</td>\n",
       "    </tr>\n",
       "    <tr>\n",
       "      <th>d</th>\n",
       "      <td>0.188143</td>\n",
       "      <td>0.030717</td>\n",
       "      <td>0.186542</td>\n",
       "      <td>0.845219</td>\n",
       "      <td>0.994014</td>\n",
       "    </tr>\n",
       "  </tbody>\n",
       "</table>\n",
       "</div>"
      ],
      "text/plain": [
       "      col_0     col_1     col_2     col_3     col_4\n",
       "a  0.584260  0.326332  0.203506  0.752352  0.610663\n",
       "b  0.747383  0.404287  0.805201  0.145945  0.747104\n",
       "c  0.707441  0.171472  0.754816  0.871015  0.932881\n",
       "d  0.188143  0.030717  0.186542  0.845219  0.994014"
      ]
     },
     "execution_count": 85,
     "metadata": {},
     "output_type": "execute_result"
    }
   ],
   "source": [
    "df = random_df((4, 5))\n",
    "df"
   ]
  },
  {
   "cell_type": "markdown",
   "metadata": {},
   "source": [
    "### Les index"
   ]
  },
  {
   "cell_type": "markdown",
   "metadata": {},
   "source": [
    "Les dataframes possèdent un index pour les lignes et un index pour les colonnes: "
   ]
  },
  {
   "cell_type": "code",
   "execution_count": 86,
   "metadata": {},
   "outputs": [
    {
     "data": {
      "text/html": [
       "<b style=\"color:blue\"> df.columns </b>"
      ],
      "text/plain": [
       "<IPython.core.display.HTML object>"
      ]
     },
     "metadata": {},
     "output_type": "display_data"
    },
    {
     "name": "stdout",
     "output_type": "stream",
     "text": [
      "Index(['col_0', 'col_1', 'col_2', 'col_3', 'col_4'], dtype='object')\n"
     ]
    },
    {
     "data": {
      "text/html": [
       "<b style=\"color:blue\"> df.index </b>"
      ],
      "text/plain": [
       "<IPython.core.display.HTML object>"
      ]
     },
     "metadata": {},
     "output_type": "display_data"
    },
    {
     "name": "stdout",
     "output_type": "stream",
     "text": [
      "Index(['a', 'b', 'c', 'd'], dtype='object')\n"
     ]
    }
   ],
   "source": [
    "disp(\"df.columns\")\n",
    "disp(\"df.index\")"
   ]
  },
  {
   "cell_type": "markdown",
   "metadata": {},
   "source": [
    "On peut accéder directement **aux colonnes** via"
   ]
  },
  {
   "cell_type": "code",
   "execution_count": 87,
   "metadata": {},
   "outputs": [
    {
     "data": {
      "text/plain": [
       "a    0.326332\n",
       "b    0.404287\n",
       "c    0.171472\n",
       "d    0.030717\n",
       "Name: col_1, dtype: float64"
      ]
     },
     "execution_count": 87,
     "metadata": {},
     "output_type": "execute_result"
    }
   ],
   "source": [
    "df['col_1']"
   ]
  },
  {
   "cell_type": "markdown",
   "metadata": {},
   "source": [
    "! (pour un  array numpy, disons a, la commande `a[1]` donne accès à la 2e **ligne** de a). "
   ]
  },
  {
   "cell_type": "markdown",
   "metadata": {},
   "source": [
    "Mais **si on slice**, le slice par défaut est sur les lignes, et ne fonctionne pas sur les colonnes :\n"
   ]
  },
  {
   "cell_type": "code",
   "execution_count": 88,
   "metadata": {},
   "outputs": [
    {
     "data": {
      "text/html": [
       "<b style=\"color:blue\"> df['col_1':'col_2'] </b>"
      ],
      "text/plain": [
       "<IPython.core.display.HTML object>"
      ]
     },
     "metadata": {},
     "output_type": "display_data"
    },
    {
     "name": "stdout",
     "output_type": "stream",
     "text": [
      "Empty DataFrame\n",
      "Columns: [col_0, col_1, col_2, col_3, col_4]\n",
      "Index: []\n"
     ]
    },
    {
     "data": {
      "text/html": [
       "<b style=\"color:blue\"> df['a':'c'] </b>"
      ],
      "text/plain": [
       "<IPython.core.display.HTML object>"
      ]
     },
     "metadata": {},
     "output_type": "display_data"
    },
    {
     "name": "stdout",
     "output_type": "stream",
     "text": [
      "      col_0     col_1     col_2     col_3     col_4\n",
      "a  0.584260  0.326332  0.203506  0.752352  0.610663\n",
      "b  0.747383  0.404287  0.805201  0.145945  0.747104\n",
      "c  0.707441  0.171472  0.754816  0.871015  0.932881\n"
     ]
    }
   ],
   "source": [
    "disp(\"df['col_1':'col_2']\")\n",
    "disp(\"df['a':'c']\")"
   ]
  },
  {
   "cell_type": "code",
   "execution_count": 89,
   "metadata": {},
   "outputs": [
    {
     "data": {
      "text/html": [
       "<div>\n",
       "<style scoped>\n",
       "    .dataframe tbody tr th:only-of-type {\n",
       "        vertical-align: middle;\n",
       "    }\n",
       "\n",
       "    .dataframe tbody tr th {\n",
       "        vertical-align: top;\n",
       "    }\n",
       "\n",
       "    .dataframe thead th {\n",
       "        text-align: right;\n",
       "    }\n",
       "</style>\n",
       "<table border=\"1\" class=\"dataframe\">\n",
       "  <thead>\n",
       "    <tr style=\"text-align: right;\">\n",
       "      <th></th>\n",
       "      <th>col_0</th>\n",
       "      <th>col_1</th>\n",
       "      <th>col_2</th>\n",
       "      <th>col_3</th>\n",
       "      <th>col_4</th>\n",
       "    </tr>\n",
       "  </thead>\n",
       "  <tbody>\n",
       "    <tr>\n",
       "      <th>a</th>\n",
       "      <td>0.584260</td>\n",
       "      <td>0.326332</td>\n",
       "      <td>0.203506</td>\n",
       "      <td>0.752352</td>\n",
       "      <td>0.610663</td>\n",
       "    </tr>\n",
       "    <tr>\n",
       "      <th>b</th>\n",
       "      <td>0.747383</td>\n",
       "      <td>0.404287</td>\n",
       "      <td>0.805201</td>\n",
       "      <td>0.145945</td>\n",
       "      <td>0.747104</td>\n",
       "    </tr>\n",
       "    <tr>\n",
       "      <th>c</th>\n",
       "      <td>0.707441</td>\n",
       "      <td>0.171472</td>\n",
       "      <td>0.754816</td>\n",
       "      <td>0.871015</td>\n",
       "      <td>0.932881</td>\n",
       "    </tr>\n",
       "  </tbody>\n",
       "</table>\n",
       "</div>"
      ],
      "text/plain": [
       "      col_0     col_1     col_2     col_3     col_4\n",
       "a  0.584260  0.326332  0.203506  0.752352  0.610663\n",
       "b  0.747383  0.404287  0.805201  0.145945  0.747104\n",
       "c  0.707441  0.171472  0.754816  0.871015  0.932881"
      ]
     },
     "execution_count": 89,
     "metadata": {},
     "output_type": "execute_result"
    }
   ],
   "source": [
    "df['a':'c']"
   ]
  },
  {
   "cell_type": "markdown",
   "metadata": {},
   "source": [
    "`df['a':'c']` retourne un dataframe, dont on peut extraire une colonne, forcément."
   ]
  },
  {
   "cell_type": "code",
   "execution_count": 90,
   "metadata": {},
   "outputs": [
    {
     "data": {
      "text/html": [
       "<b style=\"color:blue\"> df['a':'c']['col_1'] </b>"
      ],
      "text/plain": [
       "<IPython.core.display.HTML object>"
      ]
     },
     "metadata": {},
     "output_type": "display_data"
    },
    {
     "name": "stdout",
     "output_type": "stream",
     "text": [
      "a    0.326332\n",
      "b    0.404287\n",
      "c    0.171472\n",
      "Name: col_1, dtype: float64\n"
     ]
    }
   ],
   "source": [
    "disp(\"df['a':'c']['col_1']\")"
   ]
  },
  {
   "cell_type": "markdown",
   "metadata": {},
   "source": [
    "On dispose d'un indiçage explicite et implicite en `loc` et `iloc`, ~ainsi que d'une version hybride, `ix`~. "
   ]
  },
  {
   "cell_type": "code",
   "execution_count": 91,
   "metadata": {},
   "outputs": [
    {
     "data": {
      "text/html": [
       "<b style=\"color:blue\"> df </b>"
      ],
      "text/plain": [
       "<IPython.core.display.HTML object>"
      ]
     },
     "metadata": {},
     "output_type": "display_data"
    },
    {
     "name": "stdout",
     "output_type": "stream",
     "text": [
      "      col_0     col_1     col_2     col_3     col_4\n",
      "a  0.584260  0.326332  0.203506  0.752352  0.610663\n",
      "b  0.747383  0.404287  0.805201  0.145945  0.747104\n",
      "c  0.707441  0.171472  0.754816  0.871015  0.932881\n",
      "d  0.188143  0.030717  0.186542  0.845219  0.994014\n"
     ]
    },
    {
     "data": {
      "text/html": [
       "<b style=\"color:blue\"> df.iloc[2,:]   # Axe 0 --> les lignes </b>"
      ],
      "text/plain": [
       "<IPython.core.display.HTML object>"
      ]
     },
     "metadata": {},
     "output_type": "display_data"
    },
    {
     "name": "stdout",
     "output_type": "stream",
     "text": [
      "col_0    0.707441\n",
      "col_1    0.171472\n",
      "col_2    0.754816\n",
      "col_3    0.871015\n",
      "col_4    0.932881\n",
      "Name: c, dtype: float64\n"
     ]
    }
   ],
   "source": [
    "disp(\"df\")\n",
    "disp(\"df.iloc[2,:]   # Axe 0 --> les lignes\")\n",
    "# ici la ligne 2"
   ]
  },
  {
   "cell_type": "code",
   "execution_count": 92,
   "metadata": {},
   "outputs": [
    {
     "data": {
      "text/html": [
       "<b style=\"color:blue\"> df.iloc[:,1]   # Axe 1 --> les colonnes </b>"
      ],
      "text/plain": [
       "<IPython.core.display.HTML object>"
      ]
     },
     "metadata": {},
     "output_type": "display_data"
    },
    {
     "name": "stdout",
     "output_type": "stream",
     "text": [
      "a    0.326332\n",
      "b    0.404287\n",
      "c    0.171472\n",
      "d    0.030717\n",
      "Name: col_1, dtype: float64\n"
     ]
    }
   ],
   "source": [
    "disp(\"df.iloc[:,1]   # Axe 1 --> les colonnes\")\n",
    "# ici la colonne 1"
   ]
  },
  {
   "cell_type": "markdown",
   "metadata": {},
   "source": [
    "On peut extraire une sous table simplement"
   ]
  },
  {
   "cell_type": "code",
   "execution_count": 93,
   "metadata": {},
   "outputs": [
    {
     "data": {
      "text/html": [
       "<b style=\"color:blue\"> df.iloc[1:3,1:3]   #(bornes sup exclues) </b>"
      ],
      "text/plain": [
       "<IPython.core.display.HTML object>"
      ]
     },
     "metadata": {},
     "output_type": "display_data"
    },
    {
     "name": "stdout",
     "output_type": "stream",
     "text": [
      "      col_1     col_2\n",
      "b  0.404287  0.805201\n",
      "c  0.171472  0.754816\n"
     ]
    }
   ],
   "source": [
    "disp(\"df.iloc[1:3,1:3]   #(bornes sup exclues)\")"
   ]
  },
  {
   "cell_type": "markdown",
   "metadata": {},
   "source": [
    "ainsi qu'en indice explicite:"
   ]
  },
  {
   "cell_type": "code",
   "execution_count": 94,
   "metadata": {},
   "outputs": [
    {
     "data": {
      "text/html": [
       "<b style=\"color:blue\"> df.loc['b':'c','col_1':'col_2']   #(bornes sup inclues) </b>"
      ],
      "text/plain": [
       "<IPython.core.display.HTML object>"
      ]
     },
     "metadata": {},
     "output_type": "display_data"
    },
    {
     "name": "stdout",
     "output_type": "stream",
     "text": [
      "      col_1     col_2\n",
      "b  0.404287  0.805201\n",
      "c  0.171472  0.754816\n"
     ]
    }
   ],
   "source": [
    "disp(\"df.loc['b':'c','col_1':'col_2']   #(bornes sup inclues)\")"
   ]
  },
  {
   "cell_type": "markdown",
   "metadata": {},
   "source": [
    "ou encore avec un indice hybride (implicite/explicite)"
   ]
  },
  {
   "cell_type": "markdown",
   "metadata": {},
   "source": [
    "En réalité, `.ix` est d'abord basé sur les labels, mais utilise un adressage basé sur les indexs entiers si un label ne peut-être trouvé ; sauf dans le cas ou les labels seraient eux-même des entiers.."
   ]
  },
  {
   "cell_type": "markdown",
   "metadata": {},
   "source": [
    "Lorsqu'on effectue un calcul sur l'axe 0 (les lignes), le résultat est donc fonction des index des colonnes ; et réciproquement"
   ]
  },
  {
   "cell_type": "code",
   "execution_count": 95,
   "metadata": {},
   "outputs": [
    {
     "data": {
      "text/plain": [
       "col_0    0.645851\n",
       "col_1    0.248902\n",
       "col_2    0.479161\n",
       "col_3    0.798786\n",
       "col_4    0.839993\n",
       "dtype: float64"
      ]
     },
     "execution_count": 95,
     "metadata": {},
     "output_type": "execute_result"
    }
   ],
   "source": [
    "df.median(axis=0)"
   ]
  },
  {
   "cell_type": "code",
   "execution_count": 96,
   "metadata": {},
   "outputs": [
    {
     "data": {
      "text/plain": [
       "a    0.495423\n",
       "b    0.569984\n",
       "c    0.687525\n",
       "d    0.448927\n",
       "dtype: float64"
      ]
     },
     "execution_count": 96,
     "metadata": {},
     "output_type": "execute_result"
    }
   ],
   "source": [
    "df.mean(axis=1)"
   ]
  },
  {
   "cell_type": "code",
   "execution_count": 98,
   "metadata": {},
   "outputs": [
    {
     "data": {
      "text/html": [
       "<div>\n",
       "<style scoped>\n",
       "    .dataframe tbody tr th:only-of-type {\n",
       "        vertical-align: middle;\n",
       "    }\n",
       "\n",
       "    .dataframe tbody tr th {\n",
       "        vertical-align: top;\n",
       "    }\n",
       "\n",
       "    .dataframe thead th {\n",
       "        text-align: right;\n",
       "    }\n",
       "</style>\n",
       "<table border=\"1\" class=\"dataframe\">\n",
       "  <thead>\n",
       "    <tr style=\"text-align: right;\">\n",
       "      <th></th>\n",
       "      <th>col_0</th>\n",
       "      <th>col_1</th>\n",
       "      <th>col_2</th>\n",
       "      <th>col_3</th>\n",
       "      <th>col_4</th>\n",
       "    </tr>\n",
       "  </thead>\n",
       "  <tbody>\n",
       "    <tr>\n",
       "      <th>a</th>\n",
       "      <td>0.584260</td>\n",
       "      <td>0.326332</td>\n",
       "      <td>0.203506</td>\n",
       "      <td>0.752352</td>\n",
       "      <td>0.610663</td>\n",
       "    </tr>\n",
       "    <tr>\n",
       "      <th>b</th>\n",
       "      <td>0.747383</td>\n",
       "      <td>0.404287</td>\n",
       "      <td>0.805201</td>\n",
       "      <td>0.145945</td>\n",
       "      <td>0.747104</td>\n",
       "    </tr>\n",
       "    <tr>\n",
       "      <th>c</th>\n",
       "      <td>0.707441</td>\n",
       "      <td>0.171472</td>\n",
       "      <td>0.754816</td>\n",
       "      <td>0.871015</td>\n",
       "      <td>0.932881</td>\n",
       "    </tr>\n",
       "    <tr>\n",
       "      <th>d</th>\n",
       "      <td>0.188143</td>\n",
       "      <td>0.030717</td>\n",
       "      <td>0.186542</td>\n",
       "      <td>0.845219</td>\n",
       "      <td>0.994014</td>\n",
       "    </tr>\n",
       "  </tbody>\n",
       "</table>\n",
       "</div>"
      ],
      "text/plain": [
       "      col_0     col_1     col_2     col_3     col_4\n",
       "a  0.584260  0.326332  0.203506  0.752352  0.610663\n",
       "b  0.747383  0.404287  0.805201  0.145945  0.747104\n",
       "c  0.707441  0.171472  0.754816  0.871015  0.932881\n",
       "d  0.188143  0.030717  0.186542  0.845219  0.994014"
      ]
     },
     "execution_count": 98,
     "metadata": {},
     "output_type": "execute_result"
    }
   ],
   "source": [
    "df"
   ]
  },
  {
   "cell_type": "markdown",
   "metadata": {},
   "source": [
    "**Filtrage**"
   ]
  },
  {
   "cell_type": "code",
   "execution_count": 97,
   "metadata": {},
   "outputs": [
    {
     "data": {
      "text/html": [
       "<div>\n",
       "<style scoped>\n",
       "    .dataframe tbody tr th:only-of-type {\n",
       "        vertical-align: middle;\n",
       "    }\n",
       "\n",
       "    .dataframe tbody tr th {\n",
       "        vertical-align: top;\n",
       "    }\n",
       "\n",
       "    .dataframe thead th {\n",
       "        text-align: right;\n",
       "    }\n",
       "</style>\n",
       "<table border=\"1\" class=\"dataframe\">\n",
       "  <thead>\n",
       "    <tr style=\"text-align: right;\">\n",
       "      <th></th>\n",
       "      <th>col_0</th>\n",
       "      <th>col_1</th>\n",
       "      <th>col_2</th>\n",
       "      <th>col_3</th>\n",
       "      <th>col_4</th>\n",
       "    </tr>\n",
       "  </thead>\n",
       "  <tbody>\n",
       "    <tr>\n",
       "      <th>a</th>\n",
       "      <td>0.584260</td>\n",
       "      <td>0.326332</td>\n",
       "      <td>0.203506</td>\n",
       "      <td>0.752352</td>\n",
       "      <td>0.610663</td>\n",
       "    </tr>\n",
       "    <tr>\n",
       "      <th>b</th>\n",
       "      <td>0.747383</td>\n",
       "      <td>0.404287</td>\n",
       "      <td>0.805201</td>\n",
       "      <td>0.145945</td>\n",
       "      <td>0.747104</td>\n",
       "    </tr>\n",
       "    <tr>\n",
       "      <th>c</th>\n",
       "      <td>0.707441</td>\n",
       "      <td>0.171472</td>\n",
       "      <td>0.754816</td>\n",
       "      <td>0.871015</td>\n",
       "      <td>0.932881</td>\n",
       "    </tr>\n",
       "  </tbody>\n",
       "</table>\n",
       "</div>"
      ],
      "text/plain": [
       "      col_0     col_1     col_2     col_3     col_4\n",
       "a  0.584260  0.326332  0.203506  0.752352  0.610663\n",
       "b  0.747383  0.404287  0.805201  0.145945  0.747104\n",
       "c  0.707441  0.171472  0.754816  0.871015  0.932881"
      ]
     },
     "execution_count": 97,
     "metadata": {},
     "output_type": "execute_result"
    }
   ],
   "source": [
    "df[df['col_0']>0.3]"
   ]
  },
  {
   "cell_type": "markdown",
   "metadata": {},
   "source": [
    "Autre possibilité :"
   ]
  },
  {
   "cell_type": "code",
   "execution_count": 99,
   "metadata": {},
   "outputs": [
    {
     "data": {
      "text/html": [
       "<div>\n",
       "<style scoped>\n",
       "    .dataframe tbody tr th:only-of-type {\n",
       "        vertical-align: middle;\n",
       "    }\n",
       "\n",
       "    .dataframe tbody tr th {\n",
       "        vertical-align: top;\n",
       "    }\n",
       "\n",
       "    .dataframe thead th {\n",
       "        text-align: right;\n",
       "    }\n",
       "</style>\n",
       "<table border=\"1\" class=\"dataframe\">\n",
       "  <thead>\n",
       "    <tr style=\"text-align: right;\">\n",
       "      <th></th>\n",
       "      <th>col_0</th>\n",
       "      <th>col_1</th>\n",
       "      <th>col_2</th>\n",
       "      <th>col_3</th>\n",
       "      <th>col_4</th>\n",
       "    </tr>\n",
       "  </thead>\n",
       "  <tbody>\n",
       "    <tr>\n",
       "      <th>a</th>\n",
       "      <td>0.584260</td>\n",
       "      <td>0.326332</td>\n",
       "      <td>0.203506</td>\n",
       "      <td>0.752352</td>\n",
       "      <td>0.610663</td>\n",
       "    </tr>\n",
       "    <tr>\n",
       "      <th>b</th>\n",
       "      <td>0.747383</td>\n",
       "      <td>0.404287</td>\n",
       "      <td>0.805201</td>\n",
       "      <td>0.145945</td>\n",
       "      <td>0.747104</td>\n",
       "    </tr>\n",
       "    <tr>\n",
       "      <th>c</th>\n",
       "      <td>0.707441</td>\n",
       "      <td>0.171472</td>\n",
       "      <td>0.754816</td>\n",
       "      <td>0.871015</td>\n",
       "      <td>0.932881</td>\n",
       "    </tr>\n",
       "  </tbody>\n",
       "</table>\n",
       "</div>"
      ],
      "text/plain": [
       "      col_0     col_1     col_2     col_3     col_4\n",
       "a  0.584260  0.326332  0.203506  0.752352  0.610663\n",
       "b  0.747383  0.404287  0.805201  0.145945  0.747104\n",
       "c  0.707441  0.171472  0.754816  0.871015  0.932881"
      ]
     },
     "execution_count": 99,
     "metadata": {},
     "output_type": "execute_result"
    }
   ],
   "source": [
    "df.query(\"col_0 > 0.3\")"
   ]
  },
  {
   "cell_type": "markdown",
   "metadata": {},
   "source": [
    "### Modifier un dataframe : affectation, apply, applymap"
   ]
  },
  {
   "cell_type": "markdown",
   "metadata": {},
   "source": [
    "Affecter une colonne inexistante crée simplement une nouvelle colonne !"
   ]
  },
  {
   "cell_type": "code",
   "execution_count": 100,
   "metadata": {},
   "outputs": [
    {
     "data": {
      "text/html": [
       "<b style=\"color:blue\"> df1 </b>"
      ],
      "text/plain": [
       "<IPython.core.display.HTML object>"
      ]
     },
     "metadata": {},
     "output_type": "display_data"
    },
    {
     "name": "stdout",
     "output_type": "stream",
     "text": [
      "      col_0     col_1     col_2     col_3     col_4\n",
      "a  0.956614  0.692806  0.045329  0.466995  0.018541\n",
      "b  0.045346  0.861881  0.645820  0.489131  0.945417\n",
      "c  0.536082  0.382922  0.084914  0.805419  0.201994\n"
     ]
    },
    {
     "data": {
      "text/html": [
       "<b style=\"color:blue\"> df1 </b>"
      ],
      "text/plain": [
       "<IPython.core.display.HTML object>"
      ]
     },
     "metadata": {},
     "output_type": "display_data"
    },
    {
     "name": "stdout",
     "output_type": "stream",
     "text": [
      "      col_0     col_1     col_2     col_3     col_4  nouveau\n",
      "a  0.956614  0.692806  0.045329  0.466995  0.018541        4\n",
      "b  0.045346  0.861881  0.645820  0.489131  0.945417        1\n",
      "c  0.536082  0.382922  0.084914  0.805419  0.201994        0\n"
     ]
    }
   ],
   "source": [
    "df1 = random_df((3, 5))\n",
    "disp(\"df1\")\n",
    "df1['nouveau'] = np.random.randint(0, 10, size=3)\n",
    "disp(\"df1\")"
   ]
  },
  {
   "cell_type": "markdown",
   "metadata": {},
   "source": [
    "Dès lors, on peut imaginer de faire des opérations directement sur les colonnes ; par exemple"
   ]
  },
  {
   "cell_type": "code",
   "execution_count": 101,
   "metadata": {},
   "outputs": [
    {
     "data": {
      "text/html": [
       "<div>\n",
       "<style scoped>\n",
       "    .dataframe tbody tr th:only-of-type {\n",
       "        vertical-align: middle;\n",
       "    }\n",
       "\n",
       "    .dataframe tbody tr th {\n",
       "        vertical-align: top;\n",
       "    }\n",
       "\n",
       "    .dataframe thead th {\n",
       "        text-align: right;\n",
       "    }\n",
       "</style>\n",
       "<table border=\"1\" class=\"dataframe\">\n",
       "  <thead>\n",
       "    <tr style=\"text-align: right;\">\n",
       "      <th></th>\n",
       "      <th>Note0</th>\n",
       "      <th>Note1</th>\n",
       "      <th>Note2</th>\n",
       "      <th>Note3</th>\n",
       "      <th>Note4</th>\n",
       "    </tr>\n",
       "  </thead>\n",
       "  <tbody>\n",
       "    <tr>\n",
       "      <th>Victor</th>\n",
       "      <td>5</td>\n",
       "      <td>10</td>\n",
       "      <td>13</td>\n",
       "      <td>0</td>\n",
       "      <td>5</td>\n",
       "    </tr>\n",
       "    <tr>\n",
       "      <th>Léa</th>\n",
       "      <td>15</td>\n",
       "      <td>5</td>\n",
       "      <td>16</td>\n",
       "      <td>2</td>\n",
       "      <td>13</td>\n",
       "    </tr>\n",
       "    <tr>\n",
       "      <th>Agnès</th>\n",
       "      <td>4</td>\n",
       "      <td>5</td>\n",
       "      <td>9</td>\n",
       "      <td>12</td>\n",
       "      <td>10</td>\n",
       "    </tr>\n",
       "    <tr>\n",
       "      <th>Benjamin</th>\n",
       "      <td>15</td>\n",
       "      <td>2</td>\n",
       "      <td>2</td>\n",
       "      <td>2</td>\n",
       "      <td>18</td>\n",
       "    </tr>\n",
       "    <tr>\n",
       "      <th>Mathieu</th>\n",
       "      <td>4</td>\n",
       "      <td>16</td>\n",
       "      <td>0</td>\n",
       "      <td>0</td>\n",
       "      <td>0</td>\n",
       "    </tr>\n",
       "  </tbody>\n",
       "</table>\n",
       "</div>"
      ],
      "text/plain": [
       "          Note0  Note1  Note2  Note3  Note4\n",
       "Victor        5     10     13      0      5\n",
       "Léa          15      5     16      2     13\n",
       "Agnès         4      5      9     12     10\n",
       "Benjamin     15      2      2      2     18\n",
       "Mathieu       4     16      0      0      0"
      ]
     },
     "execution_count": 101,
     "metadata": {},
     "output_type": "execute_result"
    }
   ],
   "source": [
    "notes = pd.DataFrame(\n",
    "    data=np.random.randint(\n",
    "        0, 20, size=(5, 5)),\n",
    "    columns=['Note' + str(k) for k in range(5)],\n",
    "    index=['Victor', 'Léa', 'Agnès', 'Benjamin', 'Mathieu'])\n",
    "notes"
   ]
  },
  {
   "cell_type": "code",
   "execution_count": 102,
   "metadata": {},
   "outputs": [
    {
     "data": {
      "text/html": [
       "<div>\n",
       "<style scoped>\n",
       "    .dataframe tbody tr th:only-of-type {\n",
       "        vertical-align: middle;\n",
       "    }\n",
       "\n",
       "    .dataframe tbody tr th {\n",
       "        vertical-align: top;\n",
       "    }\n",
       "\n",
       "    .dataframe thead th {\n",
       "        text-align: right;\n",
       "    }\n",
       "</style>\n",
       "<table border=\"1\" class=\"dataframe\">\n",
       "  <thead>\n",
       "    <tr style=\"text-align: right;\">\n",
       "      <th></th>\n",
       "      <th>Note0</th>\n",
       "      <th>Note1</th>\n",
       "      <th>Note2</th>\n",
       "      <th>Note3</th>\n",
       "      <th>Note4</th>\n",
       "      <th>Note_pond</th>\n",
       "      <th>Note_max</th>\n",
       "    </tr>\n",
       "  </thead>\n",
       "  <tbody>\n",
       "    <tr>\n",
       "      <th>Victor</th>\n",
       "      <td>5</td>\n",
       "      <td>10</td>\n",
       "      <td>13</td>\n",
       "      <td>0</td>\n",
       "      <td>5</td>\n",
       "      <td>5.2</td>\n",
       "      <td>13</td>\n",
       "    </tr>\n",
       "    <tr>\n",
       "      <th>Léa</th>\n",
       "      <td>15</td>\n",
       "      <td>5</td>\n",
       "      <td>16</td>\n",
       "      <td>2</td>\n",
       "      <td>13</td>\n",
       "      <td>7.6</td>\n",
       "      <td>16</td>\n",
       "    </tr>\n",
       "    <tr>\n",
       "      <th>Agnès</th>\n",
       "      <td>4</td>\n",
       "      <td>5</td>\n",
       "      <td>9</td>\n",
       "      <td>12</td>\n",
       "      <td>10</td>\n",
       "      <td>10.8</td>\n",
       "      <td>12</td>\n",
       "    </tr>\n",
       "    <tr>\n",
       "      <th>Benjamin</th>\n",
       "      <td>15</td>\n",
       "      <td>2</td>\n",
       "      <td>2</td>\n",
       "      <td>2</td>\n",
       "      <td>18</td>\n",
       "      <td>2.0</td>\n",
       "      <td>2</td>\n",
       "    </tr>\n",
       "    <tr>\n",
       "      <th>Mathieu</th>\n",
       "      <td>4</td>\n",
       "      <td>16</td>\n",
       "      <td>0</td>\n",
       "      <td>0</td>\n",
       "      <td>0</td>\n",
       "      <td>0.0</td>\n",
       "      <td>0</td>\n",
       "    </tr>\n",
       "  </tbody>\n",
       "</table>\n",
       "</div>"
      ],
      "text/plain": [
       "          Note0  Note1  Note2  Note3  Note4  Note_pond  Note_max\n",
       "Victor        5     10     13      0      5        5.2        13\n",
       "Léa          15      5     16      2     13        7.6        16\n",
       "Agnès         4      5      9     12     10       10.8        12\n",
       "Benjamin     15      2      2      2     18        2.0         2\n",
       "Mathieu       4     16      0      0      0        0.0         0"
      ]
     },
     "execution_count": 102,
     "metadata": {},
     "output_type": "execute_result"
    }
   ],
   "source": [
    "notes['Note_pond'] = 0.4 * notes['Note2'] + 0.6 * notes['Note3']\n",
    "notes['Note_max'] = np.max(notes.loc[:, 'Note2':'Note3'], axis=1)\n",
    "notes"
   ]
  },
  {
   "cell_type": "markdown",
   "metadata": {},
   "source": [
    "Ou encore, on aurait envie d'appliquer une fonction sur les colonnes -- Pour cela, on a la méthode `apply`"
   ]
  },
  {
   "cell_type": "code",
   "execution_count": 103,
   "metadata": {},
   "outputs": [
    {
     "data": {
      "text/plain": [
       "Victor      13.0\n",
       "Léa         16.0\n",
       "Agnès       12.0\n",
       "Benjamin    18.0\n",
       "Mathieu     16.0\n",
       "dtype: float64"
      ]
     },
     "execution_count": 103,
     "metadata": {},
     "output_type": "execute_result"
    }
   ],
   "source": [
    "notes.apply(np.max, axis=1)  #ou np.mean, np.std"
   ]
  },
  {
   "cell_type": "code",
   "execution_count": null,
   "metadata": {},
   "outputs": [],
   "source": [
    "notes = notes.drop(['Note_pond', 'Note_max'], axis=1)"
   ]
  },
  {
   "cell_type": "markdown",
   "metadata": {},
   "source": [
    "On peut en fait utiliser n'importe quelle fonction qui reçoit une Series et rend ce qu'elle veut. "
   ]
  },
  {
   "cell_type": "code",
   "execution_count": 104,
   "metadata": {},
   "outputs": [
    {
     "data": {
      "text/html": [
       "<div>\n",
       "<style scoped>\n",
       "    .dataframe tbody tr th:only-of-type {\n",
       "        vertical-align: middle;\n",
       "    }\n",
       "\n",
       "    .dataframe tbody tr th {\n",
       "        vertical-align: top;\n",
       "    }\n",
       "\n",
       "    .dataframe thead th {\n",
       "        text-align: right;\n",
       "    }\n",
       "</style>\n",
       "<table border=\"1\" class=\"dataframe\">\n",
       "  <thead>\n",
       "    <tr style=\"text-align: right;\">\n",
       "      <th></th>\n",
       "      <th>Note0</th>\n",
       "      <th>Note1</th>\n",
       "      <th>Note2</th>\n",
       "      <th>Note3</th>\n",
       "      <th>Note4</th>\n",
       "      <th>Note_pond</th>\n",
       "      <th>Note_max</th>\n",
       "    </tr>\n",
       "  </thead>\n",
       "  <tbody>\n",
       "    <tr>\n",
       "      <th>Victor</th>\n",
       "      <td>8.563784</td>\n",
       "      <td>14.437333</td>\n",
       "      <td>16.055536</td>\n",
       "      <td>8.436517</td>\n",
       "      <td>8.635583</td>\n",
       "      <td>12.103717</td>\n",
       "      <td>15.451007</td>\n",
       "    </tr>\n",
       "    <tr>\n",
       "      <th>Léa</th>\n",
       "      <td>18.108828</td>\n",
       "      <td>9.359555</td>\n",
       "      <td>18.488857</td>\n",
       "      <td>10.663694</td>\n",
       "      <td>15.043996</td>\n",
       "      <td>15.215242</td>\n",
       "      <td>17.803966</td>\n",
       "    </tr>\n",
       "    <tr>\n",
       "      <th>Agnès</th>\n",
       "      <td>7.609280</td>\n",
       "      <td>9.359555</td>\n",
       "      <td>12.811107</td>\n",
       "      <td>21.799579</td>\n",
       "      <td>12.640841</td>\n",
       "      <td>19.363941</td>\n",
       "      <td>14.666687</td>\n",
       "    </tr>\n",
       "    <tr>\n",
       "      <th>Benjamin</th>\n",
       "      <td>18.108828</td>\n",
       "      <td>6.312889</td>\n",
       "      <td>7.133357</td>\n",
       "      <td>10.663694</td>\n",
       "      <td>19.049255</td>\n",
       "      <td>7.955018</td>\n",
       "      <td>6.823490</td>\n",
       "    </tr>\n",
       "    <tr>\n",
       "      <th>Mathieu</th>\n",
       "      <td>7.609280</td>\n",
       "      <td>20.530667</td>\n",
       "      <td>5.511143</td>\n",
       "      <td>8.436517</td>\n",
       "      <td>4.630325</td>\n",
       "      <td>5.362081</td>\n",
       "      <td>5.254850</td>\n",
       "    </tr>\n",
       "  </tbody>\n",
       "</table>\n",
       "</div>"
      ],
      "text/plain": [
       "              Note0      Note1      Note2      Note3      Note4  Note_pond  \\\n",
       "Victor     8.563784  14.437333  16.055536   8.436517   8.635583  12.103717   \n",
       "Léa       18.108828   9.359555  18.488857  10.663694  15.043996  15.215242   \n",
       "Agnès      7.609280   9.359555  12.811107  21.799579  12.640841  19.363941   \n",
       "Benjamin  18.108828   6.312889   7.133357  10.663694  19.049255   7.955018   \n",
       "Mathieu    7.609280  20.530667   5.511143   8.436517   4.630325   5.362081   \n",
       "\n",
       "           Note_max  \n",
       "Victor    15.451007  \n",
       "Léa       17.803966  \n",
       "Agnès     14.666687  \n",
       "Benjamin   6.823490  \n",
       "Mathieu    5.254850  "
      ]
     },
     "execution_count": 104,
     "metadata": {},
     "output_type": "execute_result"
    }
   ],
   "source": [
    "new_notes = notes.apply(\n",
    "    lambda x: 5 * (x - np.mean(x)) / np.std(x) + 12, axis=0)\n",
    "new_notes"
   ]
  },
  {
   "cell_type": "markdown",
   "metadata": {},
   "source": [
    "L'air de rien, la fonction ci-dessus est très utile pour normaliser des données lorsqu'on applique certaines méthodes de traitement (clustering par exemple)."
   ]
  },
  {
   "cell_type": "code",
   "execution_count": null,
   "metadata": {},
   "outputs": [],
   "source": [
    "pd.options.display.precision\n"
   ]
  },
  {
   "cell_type": "code",
   "execution_count": null,
   "metadata": {},
   "outputs": [],
   "source": [
    "pd.reset_option('precision')"
   ]
  },
  {
   "cell_type": "code",
   "execution_count": null,
   "metadata": {},
   "outputs": [],
   "source": [
    "pd.set_option('precision', 4)"
   ]
  },
  {
   "cell_type": "code",
   "execution_count": null,
   "metadata": {},
   "outputs": [],
   "source": [
    "#pd.set_option('precision', 5)\n",
    "new_notes['Note_finale'] = new_notes.mean(axis=1)\n",
    "new_notes['Notes_details'] = new_notes.apply(\n",
    "lambda x: (np.mean(x), np.max(x), np.min(x), np.std(x)), axis=1)\n",
    "new_notes"
   ]
  },
  {
   "cell_type": "markdown",
   "metadata": {},
   "source": [
    "Parfois, on a également besoin d'appliquer une même fonction à l'ensemble des données. La méthode utile est alors `applymap`. "
   ]
  },
  {
   "cell_type": "code",
   "execution_count": null,
   "metadata": {},
   "outputs": [],
   "source": [
    "def seuillage(x):\n",
    "    return x if x > 6 else 6\n",
    "\n",
    "\n",
    "#seuillage(12)"
   ]
  },
  {
   "cell_type": "code",
   "execution_count": null,
   "metadata": {},
   "outputs": [],
   "source": [
    "notes"
   ]
  },
  {
   "cell_type": "code",
   "execution_count": null,
   "metadata": {},
   "outputs": [],
   "source": [
    "notes.applymap(seuillage)"
   ]
  },
  {
   "cell_type": "markdown",
   "metadata": {},
   "source": [
    "> ***NB - Sont omis ici***\n",
    "> - la question de l'index hiérarchique (traitement des données à plus de 2 dimensions), voir [la documentation](https://pandas.pydata.org/pandas-docs/stable/user_guide/advanced.html)\n",
    "> - le traitement des données manquantes (cours ultérieur)"
   ]
  },
  {
   "cell_type": "markdown",
   "metadata": {},
   "source": [
    "### Concaténer, joindre, etc"
   ]
  },
  {
   "cell_type": "markdown",
   "metadata": {},
   "source": [
    "Pour concaténer, eh bien, on a la méthode concat"
   ]
  },
  {
   "cell_type": "code",
   "execution_count": null,
   "metadata": {},
   "outputs": [],
   "source": [
    "df1 = random_df((5, 4))\n",
    "df2 = random_df((5, 4))"
   ]
  },
  {
   "cell_type": "code",
   "execution_count": null,
   "metadata": {},
   "outputs": [],
   "source": [
    "pd.concat((df1, df2), axis=1)  # selon l'axe 1"
   ]
  },
  {
   "cell_type": "code",
   "execution_count": null,
   "metadata": {},
   "outputs": [],
   "source": [
    "pd.concat((df1, df2), axis=0)  # selon l'axe 0"
   ]
  },
  {
   "cell_type": "markdown",
   "metadata": {},
   "source": [
    "Les index ne sont pas nécessairement alignés. "
   ]
  },
  {
   "cell_type": "code",
   "execution_count": null,
   "metadata": {},
   "outputs": [],
   "source": [
    "df1 = random_df((5, 4))\n",
    "df2 = random_df((5, 4))\n",
    "df2.index = list('xbcye')  # deux index sont différents entre des dfs\n",
    "df2"
   ]
  },
  {
   "cell_type": "code",
   "execution_count": null,
   "metadata": {},
   "outputs": [],
   "source": [
    "pd.concat((df1, df2), axis=1)  # par défaut un \"outer\" join"
   ]
  },
  {
   "cell_type": "markdown",
   "metadata": {},
   "source": [
    "\n",
    "Pour un inner join, on obtient l'intersection des index"
   ]
  },
  {
   "cell_type": "code",
   "execution_count": null,
   "metadata": {},
   "outputs": [],
   "source": [
    "pd.concat((df1, df2), axis=1, join='inner')  #defaut: 'outer'"
   ]
  },
  {
   "cell_type": "code",
   "execution_count": null,
   "metadata": {},
   "outputs": [],
   "source": [
    "df1.append(df2)  # Appends rows"
   ]
  },
  {
   "cell_type": "markdown",
   "metadata": {},
   "source": [
    "### Merge et join"
   ]
  },
  {
   "cell_type": "markdown",
   "metadata": {},
   "source": [
    "Il s'agit là encore d'une concaténation, mais en fonction d'une colonne."
   ]
  },
  {
   "cell_type": "code",
   "execution_count": null,
   "metadata": {},
   "outputs": [],
   "source": [
    "v = pd.DataFrame(\n",
    "    ['un', 'deux', 'trois', 'quatre', 'cinq'],\n",
    "    columns=['key'],\n",
    "    index=df1.index\n",
    ")\n",
    "v"
   ]
  },
  {
   "cell_type": "code",
   "execution_count": null,
   "metadata": {},
   "outputs": [],
   "source": [
    "pd.merge(ddf1, ddf2, on=\"key\")"
   ]
  },
  {
   "cell_type": "code",
   "execution_count": null,
   "metadata": {},
   "outputs": [],
   "source": [
    "df1 = random_df((5, 4))\n",
    "df2 = random_df((5, 4))\n",
    "df2.index = list('abcye')\n",
    "#df2.columns=list('ABCD')\n",
    "\n",
    "ddf1 = pd.concat((df1, v), axis=1, sort=False)\n",
    "ddf2 = pd.concat((df2, v), axis=1, sort=False)\n",
    "\n",
    "disp(\"ddf1\")\n",
    "disp(\"ddf2\")\n",
    "\n",
    "pd.merge(ddf1, ddf2, on=\"key\")"
   ]
  },
  {
   "cell_type": "markdown",
   "metadata": {},
   "source": [
    "On remarquera que du fait de conflits entre le noms des colonnes, pandas a automatiquement ajouté un suffixe. "
   ]
  },
  {
   "cell_type": "code",
   "execution_count": null,
   "metadata": {},
   "outputs": [],
   "source": [
    "pd.merge(ddf1, ddf2, on=\"key\", how=\"outer\")"
   ]
  },
  {
   "cell_type": "markdown",
   "metadata": {},
   "source": [
    "Avec une clé dupliquée .. cela arrive"
   ]
  },
  {
   "cell_type": "code",
   "execution_count": null,
   "metadata": {},
   "outputs": [],
   "source": [
    "v = pd.DataFrame(\n",
    "    ['un', 'deux', 'trois', 'trois', 'cinq'], columns=['key'], index=df1.index)\n",
    "df2 = random_df((5, 4))\n",
    "#df2.index=list('abcye')\n",
    "ddf1 = pd.concat((df1, v), axis=1)\n",
    "ddf2 = pd.concat((df2, v), axis=1)\n",
    "pd.merge(ddf1, ddf2, on=\"key\")"
   ]
  },
  {
   "cell_type": "markdown",
   "metadata": {},
   "source": [
    "Pandas calcule toutes les combinaisons possibles... "
   ]
  },
  {
   "cell_type": "markdown",
   "metadata": {},
   "source": [
    "## Les opérations sur les groupes : Split-Apply-Combine"
   ]
  },
  {
   "cell_type": "markdown",
   "metadata": {},
   "source": [
    "D'après le livre de Wes McKinney\n",
    "![](split-apply-combine.png)\n",
    "Le schéma général des opérations de `groupby` comprend des opérations de séparation, application d'une fonction à une série de valeurs (typiquement une colonne ou une ligne) et la recombinaison des résultats. Il est à noter que ce schéma n'est pas si loin des schémas d'implantation des algorithmes de BigData."
   ]
  },
  {
   "cell_type": "code",
   "execution_count": null,
   "metadata": {},
   "outputs": [],
   "source": [
    "tips = pd.read_csv('tips.csv')\n",
    "tips.head()"
   ]
  },
  {
   "cell_type": "code",
   "execution_count": null,
   "metadata": {},
   "outputs": [],
   "source": [
    "# Add tip percentage of total bill\n",
    "tips['tip_pct'] = tips['tip'] / tips['total_bill']"
   ]
  },
  {
   "cell_type": "code",
   "execution_count": null,
   "metadata": {},
   "outputs": [],
   "source": [
    "tips"
   ]
  },
  {
   "cell_type": "code",
   "execution_count": null,
   "metadata": {},
   "outputs": [],
   "source": [
    "grouped = tips.groupby(['sex', 'smoker'])"
   ]
  },
  {
   "cell_type": "code",
   "execution_count": null,
   "metadata": {},
   "outputs": [],
   "source": [
    "grouped.groups"
   ]
  },
  {
   "cell_type": "code",
   "execution_count": null,
   "metadata": {},
   "outputs": [],
   "source": [
    "grouped.get_group(('Female', 'Yes')).head()"
   ]
  },
  {
   "cell_type": "code",
   "execution_count": null,
   "metadata": {},
   "outputs": [],
   "source": [
    "grouped['tip_pct'].mean()"
   ]
  },
  {
   "cell_type": "markdown",
   "metadata": {},
   "source": [
    "Avec une/des fonctions d'aggrégation'"
   ]
  },
  {
   "cell_type": "code",
   "execution_count": null,
   "metadata": {},
   "outputs": [],
   "source": [
    "grouped['tip_pct'].agg(['mean', 'std', lambda x: x.max() - x.min()])"
   ]
  },
  {
   "cell_type": "code",
   "execution_count": null,
   "metadata": {},
   "outputs": [],
   "source": [
    "def mondelta(x):\n",
    "    return x.max() - x.min()\n",
    "\n",
    "\n",
    "grouped['tip_pct'].agg(['mean', 'std', mondelta])"
   ]
  },
  {
   "cell_type": "code",
   "execution_count": null,
   "metadata": {},
   "outputs": [],
   "source": [
    "grouped['tip_pct'].agg(mean=np.mean, std='std', delta=mondelta)"
   ]
  },
  {
   "cell_type": "markdown",
   "metadata": {},
   "source": [
    "On peut extraire les groupes de la manière suivante :\n",
    " - soit en construisant un dictionnaire dont les clés/valeurs correspondent aux différents groupes,\n",
    " - soit en utilisant le getter correspondant (qui fait sans doute ça)\n",
    " - en récupérant les labels correspondant à chacun des groupes"
   ]
  },
  {
   "cell_type": "code",
   "execution_count": null,
   "metadata": {},
   "outputs": [],
   "source": [
    "groups = dict(list(grouped))\n",
    "groups[('Female', 'No')].head()"
   ]
  },
  {
   "cell_type": "code",
   "execution_count": null,
   "metadata": {},
   "outputs": [],
   "source": [
    "grouped.get_group(('Female', 'No')).head()"
   ]
  },
  {
   "cell_type": "markdown",
   "metadata": {},
   "source": [
    "On peut extraire/accéder aux groupes par  `groups` (qui rend les labels corresponfants). "
   ]
  },
  {
   "cell_type": "code",
   "execution_count": null,
   "metadata": {},
   "outputs": [],
   "source": [
    "fem_no = grouped.groups['Female', 'No']  #--> labels\n",
    "fem_no[:5]"
   ]
  },
  {
   "cell_type": "code",
   "execution_count": null,
   "metadata": {},
   "outputs": [],
   "source": [
    "tips.loc[fem_no].head()"
   ]
  },
  {
   "cell_type": "markdown",
   "metadata": {},
   "source": [
    "On peut itérer sur les groupes"
   ]
  },
  {
   "cell_type": "code",
   "execution_count": null,
   "metadata": {},
   "outputs": [],
   "source": [
    "for l, g in grouped:\n",
    "    print(l)"
   ]
  },
  {
   "cell_type": "markdown",
   "metadata": {},
   "source": [
    "## pivot_table"
   ]
  },
  {
   "cell_type": "markdown",
   "metadata": {},
   "source": [
    "Une [table croisée dynamique](https://fr.wikipedia.org/wiki/Tableau_crois%C3%A9_dynamique) (*pivot table*) est une fonctionnalité générant **une table synthétique** que l'on rencontre dans certains tableurs. La table croisée est essentiellement une version multidimensionnelle d'une aggréggation groupby : les opérations de split en combine se déroulent avect un index multidimensionnel et non pas simplement monodimensionnel. Bien entendu la table croisée peut être obtenue par une succession d'opérations de groupby. "
   ]
  },
  {
   "cell_type": "markdown",
   "metadata": {},
   "source": [
    "L'exemple donné ci-dessous est repris de [Python Data Science Handbook, de Jake VanderPlas](http://shop.oreilly.com/product/0636920034919.do)."
   ]
  },
  {
   "cell_type": "code",
   "execution_count": null,
   "metadata": {},
   "outputs": [],
   "source": [
    "titanic = pd.read_csv(\"titanic.csv\")\n",
    "titanic.head()"
   ]
  },
  {
   "cell_type": "code",
   "execution_count": null,
   "metadata": {},
   "outputs": [],
   "source": [
    "titanic.describe()"
   ]
  },
  {
   "cell_type": "markdown",
   "metadata": {},
   "source": [
    "On groupe les données par sexe, on sélectionne la colonne survie et on calcule le taux de survie :"
   ]
  },
  {
   "cell_type": "code",
   "execution_count": null,
   "metadata": {},
   "outputs": [],
   "source": [
    "titanic.groupby('sex')[['survived']].mean()"
   ]
  },
  {
   "cell_type": "markdown",
   "metadata": {},
   "source": [
    "On choisit maintenant un second facteur, la classe, on **split** en sélectionnant les groupes, on applique **apply** une opération sur chacun des groupes (`aggregate(mean)`), puis on **combine** les résultats avant de les représenter. "
   ]
  },
  {
   "cell_type": "code",
   "execution_count": null,
   "metadata": {},
   "outputs": [],
   "source": [
    "titanic.groupby(['sex', 'class'])['survived'].aggregate('mean').unstack()"
   ]
  },
  {
   "cell_type": "markdown",
   "metadata": {},
   "source": [
    "On en tire des observations édifiantes et on constate qu'en effet Kate avait bien plus de chances de survivre (~97%) que Leo (13.5%) !"
   ]
  },
  {
   "cell_type": "markdown",
   "metadata": {},
   "source": [
    "Cette table peut être obtenue directement via la méthode `pivot_table`. "
   ]
  },
  {
   "cell_type": "code",
   "execution_count": null,
   "metadata": {},
   "outputs": [],
   "source": [
    "titanic.pivot_table('survived', index='sex', columns='class', margins=True)"
   ]
  },
  {
   "cell_type": "markdown",
   "metadata": {},
   "source": [
    "La fonction d'aggrégation par défaut est la moyenne `aggfunc='mean'`, mais on peut utiliser d'autres fonctions. "
   ]
  },
  {
   "cell_type": "markdown",
   "metadata": {},
   "source": [
    "Il est possible d'ajouter des dimensions, simplement sur le mode MultiIndex. Poursuivons sur l'exemple du Titanic, avec l'aide de Jake VanderPlas. \n",
    "\n",
    "On débute en introduisant l'age comme donnée. Pour cela on définit deux intervalles à l'aide de la fonction `pd.cut` qui teste l'appartenance à un intervalle :\n"
   ]
  },
  {
   "cell_type": "code",
   "execution_count": null,
   "metadata": {},
   "outputs": [],
   "source": [
    "age = pd.cut(titanic['age'], [0, 16, 80])\n",
    "age[0:10]"
   ]
  },
  {
   "cell_type": "code",
   "execution_count": null,
   "metadata": {},
   "outputs": [],
   "source": [
    "titanic.pivot_table('survived', ['sex', age], 'class')"
   ]
  },
  {
   "cell_type": "markdown",
   "metadata": {},
   "source": [
    "On peut finalement ajouter une autre dimension en considérant le prix du trajet, avec lequel on définit deux classes :"
   ]
  },
  {
   "cell_type": "code",
   "execution_count": null,
   "metadata": {},
   "outputs": [],
   "source": [
    "fare = pd.qcut(titanic['fare'], 2)  # on définit deux quantiles et \n",
    "#on teste l'appartenance à chacun\n",
    "T = titanic.pivot_table('survived', ['sex', age], [fare, 'class'])\n",
    "T"
   ]
  },
  {
   "cell_type": "markdown",
   "metadata": {},
   "source": [
    "## Non traité"
   ]
  },
  {
   "cell_type": "markdown",
   "metadata": {},
   "source": [
    "- Notamment toute la partie graphique qui est un monde en soi, voir [ici](http://pandas.pydata.org/pandas-docs/stable/visualization.html)\n",
    "- les fonctions d'entrée-sortie\n",
    "- les catégories\n",
    "- les Series\n",
    "- index hiérarchique\n",
    "- valeurs manquantes"
   ]
  }
 ],
 "metadata": {
  "hide_input": false,
  "interactive_sols": {
   "cbx_id": 1
  },
  "kernelspec": {
   "display_name": "Python 3 (ipykernel)",
   "language": "python",
   "name": "python3"
  },
  "language_info": {
   "codemirror_mode": {
    "name": "ipython",
    "version": 3
   },
   "file_extension": ".py",
   "mimetype": "text/x-python",
   "name": "python",
   "nbconvert_exporter": "python",
   "pygments_lexer": "ipython3",
   "version": "3.9.13"
  },
  "latex_envs": {
   "LaTeX_envs_menu_present": true,
   "autoclose": false,
   "autocomplete": true,
   "bibliofile": "biblio.bib",
   "cite_by": "apalike",
   "current_citInitial": 1,
   "eqLabelWithNumbers": true,
   "eqNumInitial": 0,
   "hotkeys": {
    "equation": "ctrl-e",
    "itemize": "Ctrl-I"
   },
   "labels_anchors": false,
   "latex_user_defs": false,
   "report_style_numbering": false,
   "user_envs_cfg": false
  },
  "nav_menu": {},
  "nbTranslate": {
   "displayLangs": [
    "*"
   ],
   "hotkey": "alt-t",
   "langInMainMenu": true,
   "sourceLang": "en",
   "targetLang": "fr",
   "useGoogleTranslate": true
  },
  "toc": {
   "base_numbering": "1",
   "nav_menu": {
    "height": "430px",
    "width": "252px"
   },
   "number_sections": true,
   "sideBar": true,
   "skip_h1_title": false,
   "title_cell": "Table of Contents",
   "title_sidebar": "Contents",
   "toc_cell": true,
   "toc_position": {
    "height": "306px",
    "left": "0px",
    "right": "812px",
    "top": "108px",
    "width": "165px"
   },
   "toc_section_display": true,
   "toc_window_display": false
  },
  "toc-autonumbering": true,
  "toc-showtags": true,
  "varInspector": {
   "cols": {
    "lenName": 16,
    "lenType": 16,
    "lenVar": 40
   },
   "kernels_config": {
    "python": {
     "delete_cmd_postfix": "",
     "delete_cmd_prefix": "del ",
     "library": "var_list.py",
     "varRefreshCmd": "print(var_dic_list())"
    },
    "r": {
     "delete_cmd_postfix": ") ",
     "delete_cmd_prefix": "rm(",
     "library": "var_list.r",
     "varRefreshCmd": "cat(var_dic_list()) "
    }
   },
   "types_to_exclude": [
    "module",
    "function",
    "builtin_function_or_method",
    "instance",
    "_Feature"
   ],
   "window_display": false
  }
 },
 "nbformat": 4,
 "nbformat_minor": 4
}
