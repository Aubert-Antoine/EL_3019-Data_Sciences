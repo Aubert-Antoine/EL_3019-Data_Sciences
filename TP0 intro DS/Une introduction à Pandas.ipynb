{
 "cells": [
  {
   "cell_type": "markdown",
   "metadata": {},
   "source": [
    "# Table of Contents\n",
    "* [Une introduction à Pandas](#Une-introduction-à-Pandas)\n",
    "\t* [Rappel - IPython](#Rappel---IPython)\n",
    "\t* [Rappel - Numpy](#Rappel---Numpy)\n",
    "\t* [RPY2](#RPY2)\n",
    "* [Quelques fonctions utiles pour la présentation](#Quelques-fonctions-utiles-pour-la-présentation)\n",
    "* [Pandas -- Les séries](#Pandas----Les-séries)\n",
    "\t* [Créer des séries](#Créer-des-séries)\n",
    "\t* [Accéder aux éléments](#Accéder-aux-éléments)\n",
    "\t* [Les séries comme un dictionnaire](#Les-séries-comme-un-dictionnaire)\n",
    "* [DataFrames](#DataFrames)\n",
    "\t* [Introduction](#Introduction)\n",
    "\t* [Accéder aux données :](#Accéder-aux-données-:)\n",
    "\t\t* [Les index](#Les-index)\n",
    "\t\t* [Modifier un dataframe : affectation, apply, applymap](#Modifier-un-dataframe-:-affectation,-apply,-applymap)\n",
    "\t\t* [Index hiérarchique](#Index-hiérarchique)\n",
    "\t\t\t* [Guido](#Guido)\n",
    "\t\t\t* [Population](#Population)\n",
    "\t\t* [Données manquantes](#Données-manquantes)\n",
    "\t\t* [Concaténer, joindre, etc](#Concaténer,-joindre,-etc)\n",
    "\t\t* [Merge et join](#Merge-et-join)\n",
    "\t* [Group operations: Split-Apply-Combine](#Group-operations:-Split-Apply-Combine)\n",
    "\t* [pivot_table](#pivot_table)\n",
    "\t* [Non traité](#Non-traité)\n",
    "\t* [Annexe: Récupération de la table sur les départements](#Annexe:-Récupération-de-la-table-sur-les-départements)\n"
   ]
  },
  {
   "cell_type": "code",
   "execution_count": null,
   "metadata": {},
   "outputs": [],
   "source": [
    "import pandas as pd\n",
    "import numpy as np"
   ]
  },
  {
   "cell_type": "markdown",
   "metadata": {},
   "source": [
    "# Une introduction à Pandas"
   ]
  },
  {
   "cell_type": "markdown",
   "metadata": {},
   "source": [
    "La bibliothèque [Pandas](http://pandas.pydata.org/) est une bibliothèque d'analyse de données parfois qualifiée de \"*R pour Python*\". Le but de ces quelques notes est de présenter les principales fonctionnalités, étant bien entendu que cela ne fait qu'effleurer le sujet et ne peut remplacer la consultation de la [documentation](http://pandas.pydata.org/pandas-docs/stable/) et l'expérimentation."
   ]
  },
  {
   "cell_type": "code",
   "execution_count": 180,
   "metadata": {},
   "outputs": [
    {
     "data": {
      "text/html": [
       "\n",
       "        <iframe\n",
       "            width=\"700\"\n",
       "            height=\"350\"\n",
       "            src=\"http://pandas.pydata.org/\"\n",
       "            frameborder=\"0\"\n",
       "            allowfullscreen\n",
       "        ></iframe>\n",
       "        "
      ],
      "text/plain": [
       "<IPython.lib.display.IFrame at 0x7f412d7243c8>"
      ]
     },
     "execution_count": 180,
     "metadata": {},
     "output_type": "execute_result"
    }
   ],
   "source": [
    "from IPython.display import IFrame\n",
    "IFrame('http://pandas.pydata.org/', width=700, height=350)"
   ]
  },
  {
   "cell_type": "markdown",
   "metadata": {},
   "source": [
    "Avant de passer à Pandas proprement dit, quelques rappels et outils:"
   ]
  },
  {
   "cell_type": "markdown",
   "metadata": {},
   "source": [
    "## Rappel - IPython"
   ]
  },
  {
   "cell_type": "markdown",
   "metadata": {},
   "source": [
    "IPython is a fancy python console.  Try running ``ipython`` on your command line.  Some IPython tips\n",
    "\n",
    "```python\n",
    "# Special commands, 'magic functions', begin with % or %%\n",
    "%quickref, %who, %run, %reset, %%load, %%file\n",
    "# Shell Commands\n",
    "ls, cd, pwd, mkdir\n",
    "# Need Help?\n",
    "help(), help(obj), obj?, function?\n",
    "# Tab completion of variables, attributes and methods\n",
    "```"
   ]
  },
  {
   "cell_type": "markdown",
   "metadata": {},
   "source": [
    "## Rappel - Numpy"
   ]
  },
  {
   "cell_type": "code",
   "execution_count": 181,
   "metadata": {},
   "outputs": [
    {
     "name": "stdout",
     "output_type": "stream",
     "text": [
      "[ 0  1  2  3  4  5  6  7  8  9 10 11 12 13 14 15 16 17 18 19] \n",
      "\n",
      "shape : (20,) \n",
      "\n",
      "type :  <class 'numpy.ndarray'>\n"
     ]
    }
   ],
   "source": [
    "#%%file pouet.py \n",
    "#1d vector\n",
    "data = np.arange(20)\n",
    "print(data, \"\\n\\nshape :\", data.shape, \"\\n\\ntype : \", type(data))\n",
    "#print(f\"data {data}\")"
   ]
  },
  {
   "cell_type": "code",
   "execution_count": 182,
   "metadata": {},
   "outputs": [
    {
     "name": "stdout",
     "output_type": "stream",
     "text": [
      "[[ 0  1  2  3  4]\n",
      " [ 5  6  7  8  9]\n",
      " [10 11 12 13 14]\n",
      " [15 16 17 18 19]] \n",
      "\n",
      "shape : (4, 5) \n",
      "\n",
      "type :  <class 'numpy.ndarray'>\n"
     ]
    }
   ],
   "source": [
    "# make it a 4,5 array\n",
    "data = np.arange(20).reshape(4, 5)\n",
    "print(data, \"\\n\\nshape :\", data.shape, \"\\n\\ntype : \", type(data))"
   ]
  },
  {
   "cell_type": "code",
   "execution_count": 183,
   "metadata": {},
   "outputs": [
    {
     "data": {
      "text/plain": [
       "array([ 1,  6, 11, 16])"
      ]
     },
     "execution_count": 183,
     "metadata": {},
     "output_type": "execute_result"
    }
   ],
   "source": [
    "# extraire une colonne\n",
    "data[:, 1]"
   ]
  },
  {
   "cell_type": "code",
   "execution_count": 184,
   "metadata": {},
   "outputs": [
    {
     "data": {
      "text/plain": [
       "array([5, 6, 7, 8, 9])"
      ]
     },
     "execution_count": 184,
     "metadata": {},
     "output_type": "execute_result"
    }
   ],
   "source": [
    "# extraire une ligne\n",
    "data[1, :]"
   ]
  },
  {
   "cell_type": "code",
   "execution_count": 185,
   "metadata": {},
   "outputs": [
    {
     "data": {
      "text/plain": [
       "array([[12, 13],\n",
       "       [17, 18]])"
      ]
     },
     "execution_count": 185,
     "metadata": {},
     "output_type": "execute_result"
    }
   ],
   "source": [
    "# slices\n",
    "data[2:4, 2:4]"
   ]
  },
  {
   "cell_type": "markdown",
   "metadata": {},
   "source": [
    "## RPY2"
   ]
  },
  {
   "cell_type": "markdown",
   "metadata": {},
   "source": [
    "Le package RPY2 permet d'exécuter du code R dans un notebook Jupyter, en se connectant à un noyau R installé par ailleurs, en transférant les données d'entrée-sortie."
   ]
  },
  {
   "cell_type": "code",
   "execution_count": null,
   "metadata": {},
   "outputs": [],
   "source": [
    "#!pip3 install rpy2 --user --upgrade #Pour installer rpy2 en mode utilisateur"
   ]
  },
  {
   "cell_type": "code",
   "execution_count": null,
   "metadata": {},
   "outputs": [],
   "source": [
    "%load_ext rpy2.ipython"
   ]
  },
  {
   "cell_type": "markdown",
   "metadata": {},
   "source": [
    "Exécutons du code R : il suffit d'utiliser la `magic` %%R"
   ]
  },
  {
   "cell_type": "code",
   "execution_count": null,
   "metadata": {},
   "outputs": [],
   "source": [
    "%%R -o a\n",
    "a = c(0, 1, 2, 3)\n",
    "print(a)"
   ]
  },
  {
   "cell_type": "code",
   "execution_count": null,
   "metadata": {},
   "outputs": [],
   "source": [
    "type(a)"
   ]
  },
  {
   "cell_type": "code",
   "execution_count": null,
   "metadata": {},
   "outputs": [],
   "source": [
    "a"
   ]
  },
  {
   "cell_type": "code",
   "execution_count": null,
   "metadata": {},
   "outputs": [],
   "source": [
    "np.array(a, dtype=float)"
   ]
  },
  {
   "cell_type": "markdown",
   "metadata": {},
   "source": [
    "Datas issues de [http://data.worldbank.org](http://data.worldbank.org)"
   ]
  },
  {
   "cell_type": "code",
   "execution_count": 186,
   "metadata": {},
   "outputs": [],
   "source": [
    "cellular = pd.read_csv(\"cellular.csv\", header=2, sep=\",\")"
   ]
  },
  {
   "cell_type": "code",
   "execution_count": null,
   "metadata": {},
   "outputs": [],
   "source": [
    "cellular.columns"
   ]
  },
  {
   "cell_type": "code",
   "execution_count": null,
   "metadata": {},
   "outputs": [],
   "source": [
    "%%R\n",
    "census=read.csv(\"census.csv\")\n",
    "library(caTools)\n",
    "set.seed(2000)\n",
    "spl=sample.split(census$over50k, SplitRatio = 0.6)\n",
    "censusTrain = subset(census, spl==TRUE)\n",
    "censusTest = subset(census, spl==FALSE)\n",
    "summary(census)"
   ]
  },
  {
   "cell_type": "markdown",
   "metadata": {},
   "source": [
    "# Quelques fonctions utiles pour la présentation"
   ]
  },
  {
   "cell_type": "code",
   "execution_count": 188,
   "metadata": {},
   "outputs": [
    {
     "data": {
      "text/plain": [
       "['L', 'y', 'w', 'i', 'L', 'u', 'i', 'd', 'v', 'W', 'q', 'B']"
      ]
     },
     "execution_count": 188,
     "metadata": {},
     "output_type": "execute_result"
    }
   ],
   "source": [
    "def random_letters(size=1,maxletter=52):\n",
    "    import string\n",
    "    return [string.ascii_letters[k] \n",
    "            for k in np.random.randint(0,maxletter,size=size)]\n",
    "z=random_letters(12,52)\n",
    "z"
   ]
  },
  {
   "cell_type": "code",
   "execution_count": 189,
   "metadata": {},
   "outputs": [
    {
     "data": {
      "text/html": [
       "<b style=\"color:blue\"> z </b>"
      ],
      "text/plain": [
       "<IPython.core.display.HTML object>"
      ]
     },
     "metadata": {},
     "output_type": "display_data"
    },
    {
     "name": "stdout",
     "output_type": "stream",
     "text": [
      "['L', 'y', 'w', 'i', 'L', 'u', 'i', 'd', 'v', 'W', 'q', 'B']\n"
     ]
    },
    {
     "data": {
      "text/html": [
       "<b style=\"color:blue\"> [x.upper() for x in z] </b>"
      ],
      "text/plain": [
       "<IPython.core.display.HTML object>"
      ]
     },
     "metadata": {},
     "output_type": "display_data"
    },
    {
     "name": "stdout",
     "output_type": "stream",
     "text": [
      "['L', 'Y', 'W', 'I', 'L', 'U', 'I', 'D', 'V', 'W', 'Q', 'B']\n"
     ]
    }
   ],
   "source": [
    "def disp(expr):\n",
    "    from IPython.display import HTML, display\n",
    "    display(HTML( '<b style=\"color:blue\"> {} </b>'.format(expr)))\n",
    "    print(eval(expr))\n",
    "disp(\"z\")\n",
    "disp(\"[x.upper() for x in z]\")"
   ]
  },
  {
   "cell_type": "code",
   "execution_count": 190,
   "metadata": {},
   "outputs": [],
   "source": [
    "def convint(x):\n",
    "    import re\n",
    "    if x is not np.nan: \n",
    "        if isinstance(x,str): \n",
    "            x=x.replace('\\xa0','')\n",
    "            x=x.replace(' ','')\n",
    "            x=re.sub(r'\\[\\S+\\]','',x)\n",
    "        if x=='': return 0\n",
    "        if x=='NR': return 0\n",
    "        try:\n",
    "            return int(x)\n",
    "        except:\n",
    "            return np.nan"
   ]
  },
  {
   "cell_type": "markdown",
   "metadata": {},
   "source": [
    "\n",
    "![](panda-giving-another-panda-a-hand-sm.jpg)"
   ]
  },
  {
   "cell_type": "markdown",
   "metadata": {},
   "source": [
    "# Pandas -- Les séries"
   ]
  },
  {
   "cell_type": "markdown",
   "metadata": {},
   "source": [
    "Le type pandas Series est un tableau 1d de données **indexées**."
   ]
  },
  {
   "cell_type": "markdown",
   "metadata": {},
   "source": [
    "## Créer des séries"
   ]
  },
  {
   "cell_type": "markdown",
   "metadata": {},
   "source": [
    "Elle peut être créée à partir d'une liste ou d'un array comme suit :"
   ]
  },
  {
   "cell_type": "markdown",
   "metadata": {},
   "source": [
    "Deux séries s1 et s2"
   ]
  },
  {
   "cell_type": "code",
   "execution_count": 191,
   "metadata": {},
   "outputs": [
    {
     "data": {
      "text/plain": [
       "0    g\n",
       "1    i\n",
       "2    V\n",
       "3    h\n",
       "4    u\n",
       "dtype: object"
      ]
     },
     "execution_count": 191,
     "metadata": {},
     "output_type": "execute_result"
    }
   ],
   "source": [
    "s1=pd.Series(np.random.randn(5))\n",
    "s2=pd.Series(random_letters(5))\n",
    "s2"
   ]
  },
  {
   "cell_type": "markdown",
   "metadata": {},
   "source": [
    "Les séries possèdent un `index` ; c'est ce qui les distingue des nd.arrays. Par défaut, l'index est une suite d'entiers, mais ce peut-être ce qu'on veut:"
   ]
  },
  {
   "cell_type": "code",
   "execution_count": 192,
   "metadata": {},
   "outputs": [
    {
     "data": {
      "text/plain": [
       "RangeIndex(start=0, stop=5, step=1)"
      ]
     },
     "execution_count": 192,
     "metadata": {},
     "output_type": "execute_result"
    }
   ],
   "source": [
    "s2.index"
   ]
  },
  {
   "cell_type": "code",
   "execution_count": 193,
   "metadata": {},
   "outputs": [
    {
     "data": {
      "text/plain": [
       "[0, 1, 2, 3, 4]"
      ]
     },
     "execution_count": 193,
     "metadata": {},
     "output_type": "execute_result"
    }
   ],
   "source": [
    "list(s2.index)"
   ]
  },
  {
   "cell_type": "code",
   "execution_count": 194,
   "metadata": {},
   "outputs": [
    {
     "name": "stdout",
     "output_type": "stream",
     "text": [
      "bateau      g\n",
      "soleil      i\n",
      "mer         V\n",
      "sable       h\n",
      "vacances    u\n",
      "dtype: object \n",
      "\n",
      " 0   -0.73525\n",
      "1    0.53114\n",
      "2    0.66592\n",
      "3   -0.75589\n",
      "4   -0.79667\n",
      "dtype: float64\n"
     ]
    }
   ],
   "source": [
    "s2.index=['bateau', 'soleil', 'mer', 'sable', 'vacances']\n",
    "print(s2, '\\n\\n', s1)"
   ]
  },
  {
   "cell_type": "markdown",
   "metadata": {},
   "source": [
    "## Accéder aux éléments"
   ]
  },
  {
   "cell_type": "markdown",
   "metadata": {},
   "source": [
    "On peut accéder aux éléments suivant l'adressage classique, à savoir"
   ]
  },
  {
   "cell_type": "code",
   "execution_count": 195,
   "metadata": {},
   "outputs": [
    {
     "data": {
      "text/plain": [
       "'i'"
      ]
     },
     "execution_count": 195,
     "metadata": {},
     "output_type": "execute_result"
    }
   ],
   "source": [
    "s2[1]"
   ]
  },
  {
   "cell_type": "markdown",
   "metadata": {},
   "source": [
    "mais aussi via les clés d'index :"
   ]
  },
  {
   "cell_type": "code",
   "execution_count": 196,
   "metadata": {},
   "outputs": [
    {
     "data": {
      "text/plain": [
       "'i'"
      ]
     },
     "execution_count": 196,
     "metadata": {},
     "output_type": "execute_result"
    }
   ],
   "source": [
    "s2['soleil']"
   ]
  },
  {
   "cell_type": "markdown",
   "metadata": {},
   "source": [
    "Bien entendu, on peut regarder des tranches (slices)"
   ]
  },
  {
   "cell_type": "code",
   "execution_count": 197,
   "metadata": {},
   "outputs": [
    {
     "data": {
      "text/plain": [
       "2    0.66592\n",
       "3   -0.75589\n",
       "dtype: float64"
      ]
     },
     "execution_count": 197,
     "metadata": {},
     "output_type": "execute_result"
    }
   ],
   "source": [
    "s1[2:4] #l'index de fin est exclu"
   ]
  },
  {
   "cell_type": "code",
   "execution_count": 198,
   "metadata": {},
   "outputs": [
    {
     "data": {
      "text/plain": [
       "mer      V\n",
       "sable    h\n",
       "dtype: object"
      ]
     },
     "execution_count": 198,
     "metadata": {},
     "output_type": "execute_result"
    }
   ],
   "source": [
    "s2[2:4] #l'index de fin est exclu"
   ]
  },
  {
   "cell_type": "code",
   "execution_count": 199,
   "metadata": {},
   "outputs": [
    {
     "data": {
      "text/plain": [
       "mer      V\n",
       "sable    h\n",
       "dtype: object"
      ]
     },
     "execution_count": 199,
     "metadata": {},
     "output_type": "execute_result"
    }
   ],
   "source": [
    "s2['mer':'sable'] #l'index de fin est **inclu**"
   ]
  },
  {
   "cell_type": "markdown",
   "metadata": {},
   "source": [
    "Mais si on a une série avec des index entiers, on peut commencer à se poser des questions... quel est l'index qui est effectivement utilisé ?"
   ]
  },
  {
   "cell_type": "code",
   "execution_count": 203,
   "metadata": {},
   "outputs": [
    {
     "data": {
      "text/plain": [
       "2    x\n",
       "3    F\n",
       "4    w\n",
       "5    A\n",
       "6    U\n",
       "7    E\n",
       "8    x\n",
       "dtype: object"
      ]
     },
     "execution_count": 203,
     "metadata": {},
     "output_type": "execute_result"
    }
   ],
   "source": [
    "s3=pd.Series(random_letters(7), index=range(2,9))\n",
    "s3"
   ]
  },
  {
   "cell_type": "code",
   "execution_count": 204,
   "metadata": {},
   "outputs": [
    {
     "data": {
      "text/plain": [
       "'x'"
      ]
     },
     "execution_count": 204,
     "metadata": {},
     "output_type": "execute_result"
    }
   ],
   "source": [
    "s3[2]  #<-- 2 est la clé et non l'index entier"
   ]
  },
  {
   "cell_type": "code",
   "execution_count": 202,
   "metadata": {},
   "outputs": [
    {
     "data": {
      "text/plain": [
       "4    m\n",
       "5    I\n",
       "dtype: object"
      ]
     },
     "execution_count": 202,
     "metadata": {},
     "output_type": "execute_result"
    }
   ],
   "source": [
    "s3[2:4] # la slice est calculée avec les indices **implicites**"
   ]
  },
  {
   "cell_type": "markdown",
   "metadata": {},
   "source": [
    "Pour éviter les ambiguités, on a **.loc** et **.iloc** (location et implicit location)"
   ]
  },
  {
   "cell_type": "code",
   "execution_count": 205,
   "metadata": {},
   "outputs": [
    {
     "name": "stdout",
     "output_type": "stream",
     "text": [
      "s3.loc[2]--> x\n",
      "s3.loc[2:4]--> \n",
      " 2    x\n",
      "3    F\n",
      "4    w\n",
      "dtype: object\n"
     ]
    }
   ],
   "source": [
    "# .loc utilise les index explicites\n",
    "print(\"s3.loc[2]-->\", s3.loc[2])\n",
    "print(\"s3.loc[2:4]-->\",\"\\n\", s3.loc[2:4]) #indice final _inclu_"
   ]
  },
  {
   "cell_type": "code",
   "execution_count": 206,
   "metadata": {},
   "outputs": [
    {
     "name": "stdout",
     "output_type": "stream",
     "text": [
      "s3.iloc[2] w\n",
      "s3.iloc[2:4] \n",
      " 4    w\n",
      "5    A\n",
      "dtype: object\n"
     ]
    }
   ],
   "source": [
    "# .iloc utilise les index implicites\n",
    "print(\"s3.iloc[2]\", s3.iloc[2])\n",
    "print(\"s3.iloc[2:4]\",\"\\n\", s3.iloc[2:4]) #indice final _exclu_"
   ]
  },
  {
   "cell_type": "markdown",
   "metadata": {},
   "source": [
    "## Les séries comme un dictionnaire"
   ]
  },
  {
   "cell_type": "markdown",
   "metadata": {},
   "source": [
    "Les séries peuvent aussi être vues comme un dictionnaire spécialisé, doté de méthodes supplémentaires"
   ]
  },
  {
   "cell_type": "code",
   "execution_count": 207,
   "metadata": {},
   "outputs": [
    {
     "data": {
      "text/plain": [
       "a    41\n",
       "b    13\n",
       "dtype: int64"
      ]
     },
     "execution_count": 207,
     "metadata": {},
     "output_type": "execute_result"
    }
   ],
   "source": [
    "s=pd.Series({'a':22, 'b':13, 'a':41})\n",
    "s"
   ]
  },
  {
   "cell_type": "markdown",
   "metadata": {},
   "source": [
    "ou encore"
   ]
  },
  {
   "cell_type": "code",
   "execution_count": 208,
   "metadata": {},
   "outputs": [
    {
     "data": {
      "text/plain": [
       "California    38332521\n",
       "Florida       19552860\n",
       "Illinois      12882135\n",
       "New York      19651127\n",
       "Texas         26448193\n",
       "dtype: int64"
      ]
     },
     "execution_count": 208,
     "metadata": {},
     "output_type": "execute_result"
    }
   ],
   "source": [
    "population_dict = {'California': 38332521,\n",
    "'Texas': 26448193,\n",
    "'New York': 19651127,\n",
    "'Florida': 19552860,\n",
    "'Illinois': 12882135}\n",
    "#\n",
    "population = pd.Series(population_dict)\n",
    "population"
   ]
  },
  {
   "cell_type": "markdown",
   "metadata": {},
   "source": [
    "A noter que si on construit la série à partir d'un dictionnaire, alors **les clés sont uniques et  triées** : une Series est un dictionnaire spécialisé dont les clés sont (généralement) ordonnées. \n"
   ]
  },
  {
   "cell_type": "markdown",
   "metadata": {},
   "source": [
    "Cas d'une clé dupliquée"
   ]
  },
  {
   "cell_type": "code",
   "execution_count": 215,
   "metadata": {},
   "outputs": [
    {
     "data": {
      "text/plain": [
       "a    22.0\n",
       "b    13.0\n",
       "a    41.0\n",
       "b     NaN\n",
       "dtype: float64"
      ]
     },
     "execution_count": 215,
     "metadata": {},
     "output_type": "execute_result"
    }
   ],
   "source": [
    "s=pd.Series([22, 13, 41, np.nan], index=['a','b','a', 'b'])\n",
    "s"
   ]
  },
  {
   "cell_type": "code",
   "execution_count": 210,
   "metadata": {},
   "outputs": [
    {
     "data": {
      "text/plain": [
       "a    22.0\n",
       "a    41.0\n",
       "dtype: float64"
      ]
     },
     "execution_count": 210,
     "metadata": {},
     "output_type": "execute_result"
    }
   ],
   "source": [
    "s['a']  # ou s.a"
   ]
  },
  {
   "cell_type": "markdown",
   "metadata": {},
   "source": [
    "Valeurs manquantes"
   ]
  },
  {
   "cell_type": "code",
   "execution_count": 213,
   "metadata": {},
   "outputs": [],
   "source": [
    "s.dropna(inplace=True)  ##inplace=False"
   ]
  },
  {
   "cell_type": "code",
   "execution_count": 214,
   "metadata": {},
   "outputs": [
    {
     "data": {
      "text/plain": [
       "a    22.0\n",
       "b    13.0\n",
       "a    41.0\n",
       "dtype: float64"
      ]
     },
     "execution_count": 214,
     "metadata": {},
     "output_type": "execute_result"
    }
   ],
   "source": [
    "s"
   ]
  },
  {
   "cell_type": "code",
   "execution_count": 216,
   "metadata": {},
   "outputs": [
    {
     "data": {
      "text/plain": [
       "a    22.00000\n",
       "b    13.00000\n",
       "a    41.00000\n",
       "b    25.33333\n",
       "dtype: float64"
      ]
     },
     "execution_count": 216,
     "metadata": {},
     "output_type": "execute_result"
    }
   ],
   "source": [
    "s.fillna(s.mean())  ##inplace=False"
   ]
  },
  {
   "cell_type": "code",
   "execution_count": 217,
   "metadata": {},
   "outputs": [
    {
     "name": "stdout",
     "output_type": "stream",
     "text": [
      "s : \n",
      "a    22.0\n",
      "b    13.0\n",
      "a    41.0\n",
      "b     NaN\n",
      "Name: ma série, dtype: float64\n",
      "\n",
      "s.index Index(['a', 'b', 'a', 'b'], dtype='object')\n",
      "\n",
      "s.values [22. 13. 41. nan]\n"
     ]
    }
   ],
   "source": [
    "s.name = \"ma série\"\n",
    "print('s : ') \n",
    "print(s)\n",
    "print('\\ns.index',s.index)\n",
    "print('\\ns.values',s.values)"
   ]
  },
  {
   "cell_type": "markdown",
   "metadata": {},
   "source": [
    "** Filtrage, opérations arithmétiques : ces opérations préservent l'index. **"
   ]
  },
  {
   "cell_type": "code",
   "execution_count": 218,
   "metadata": {},
   "outputs": [
    {
     "data": {
      "text/html": [
       "<b style=\"color:blue\"> s </b>"
      ],
      "text/plain": [
       "<IPython.core.display.HTML object>"
      ]
     },
     "metadata": {},
     "output_type": "display_data"
    },
    {
     "name": "stdout",
     "output_type": "stream",
     "text": [
      "O    1.84441\n",
      "n    2.79898\n",
      "F    0.91813\n",
      "S   -0.41575\n",
      "M   -1.17561\n",
      "a    0.11097\n",
      "f   -0.09121\n",
      "d    0.58251\n",
      "f    0.03831\n",
      "S   -0.62103\n",
      "dtype: float64\n"
     ]
    }
   ],
   "source": [
    "s = pd.Series(data=np.random.normal(size=10), index=random_letters(10))\n",
    "disp('s')"
   ]
  },
  {
   "cell_type": "code",
   "execution_count": 219,
   "metadata": {},
   "outputs": [
    {
     "data": {
      "text/html": [
       "<b style=\"color:blue\"> s[(s>0.2) & (s<1.2)] </b>"
      ],
      "text/plain": [
       "<IPython.core.display.HTML object>"
      ]
     },
     "metadata": {},
     "output_type": "display_data"
    },
    {
     "name": "stdout",
     "output_type": "stream",
     "text": [
      "F    0.91813\n",
      "d    0.58251\n",
      "dtype: float64\n"
     ]
    }
   ],
   "source": [
    "disp('s[(s>0.2) & (s<1.2)]')  # masking"
   ]
  },
  {
   "cell_type": "code",
   "execution_count": 222,
   "metadata": {},
   "outputs": [
    {
     "data": {
      "text/html": [
       "<b style=\"color:blue\"> s.map(lambda x: x+2) </b>"
      ],
      "text/plain": [
       "<IPython.core.display.HTML object>"
      ]
     },
     "metadata": {},
     "output_type": "display_data"
    },
    {
     "name": "stdout",
     "output_type": "stream",
     "text": [
      "O    3.84441\n",
      "n    4.79898\n",
      "F    2.91813\n",
      "S    1.58425\n",
      "M    0.82439\n",
      "a    2.11097\n",
      "f    1.90879\n",
      "d    2.58251\n",
      "f    2.03831\n",
      "S    1.37897\n",
      "dtype: float64\n"
     ]
    },
    {
     "data": {
      "text/html": [
       "<b style=\"color:blue\"> np.exp(s) </b>"
      ],
      "text/plain": [
       "<IPython.core.display.HTML object>"
      ]
     },
     "metadata": {},
     "output_type": "display_data"
    },
    {
     "name": "stdout",
     "output_type": "stream",
     "text": [
      "O     6.32434\n",
      "n    16.42782\n",
      "F     2.50461\n",
      "S     0.65984\n",
      "M     0.30863\n",
      "a     1.11736\n",
      "f     0.91283\n",
      "d     1.79052\n",
      "f     1.03905\n",
      "S     0.53739\n",
      "dtype: float64\n"
     ]
    }
   ],
   "source": [
    "disp('s.map(lambda x: x+2)')  # <--- map operation\n",
    "disp('np.exp(s)') # numpy operation on series"
   ]
  },
  {
   "cell_type": "markdown",
   "metadata": {},
   "source": [
    "Le fait d'avoir un index explicite a des conséquences sur les manipulations des séries, car **les opérations ne se font qu'avec des index alignés**. Considérons quelques exemples :"
   ]
  },
  {
   "cell_type": "code",
   "execution_count": 221,
   "metadata": {},
   "outputs": [
    {
     "data": {
      "text/html": [
       "<b style=\"color:blue\"> s1 </b>"
      ],
      "text/plain": [
       "<IPython.core.display.HTML object>"
      ]
     },
     "metadata": {},
     "output_type": "display_data"
    },
    {
     "name": "stdout",
     "output_type": "stream",
     "text": [
      "a   -0.32815\n",
      "b   -0.37819\n",
      "c   -1.24455\n",
      "d    0.57562\n",
      "dtype: float64\n"
     ]
    },
    {
     "data": {
      "text/html": [
       "<b style=\"color:blue\"> s2 </b>"
      ],
      "text/plain": [
       "<IPython.core.display.HTML object>"
      ]
     },
     "metadata": {},
     "output_type": "display_data"
    },
    {
     "name": "stdout",
     "output_type": "stream",
     "text": [
      "w   -0.37988\n",
      "c    1.01084\n",
      "b   -0.27283\n",
      "d    0.04685\n",
      "dtype: float64\n"
     ]
    },
    {
     "data": {
      "text/html": [
       "<b style=\"color:blue\"> s1+s2 </b>"
      ],
      "text/plain": [
       "<IPython.core.display.HTML object>"
      ]
     },
     "metadata": {},
     "output_type": "display_data"
    },
    {
     "name": "stdout",
     "output_type": "stream",
     "text": [
      "a        NaN\n",
      "b   -0.65102\n",
      "c   -0.23371\n",
      "d    0.62247\n",
      "w        NaN\n",
      "dtype: float64\n"
     ]
    }
   ],
   "source": [
    "s1=pd.Series(np.random.randn(4), index=list('abcd'))\n",
    "s2=pd.Series(np.random.randn(4), index=list('wcbd'))\n",
    "disp('s1')\n",
    "disp('s2')\n",
    "disp('s1+s2')"
   ]
  },
  {
   "cell_type": "markdown",
   "metadata": {},
   "source": [
    "# DataFrames"
   ]
  },
  {
   "cell_type": "markdown",
   "metadata": {},
   "source": [
    "## Introduction"
   ]
  },
  {
   "cell_type": "markdown",
   "metadata": {},
   "source": [
    "Le nom de pandas dérive de `panel data`, un terme courant en économétrie. Un article de référence est [pyhpc2011](http://www.dlr.de/sc/Portaldata/15/Resources/dokumente/pyhpc2011/submissions/pyhpc2011_submission_9.pdf). \n",
    "\n",
    "La structure fondamentale de pandas est celle des dataframes. La figure suivante est extraite du livre de [Wes McKinney](https://www.amazon.fr/Python-Data-Analysis-Wes-Mckinney/dp/1449319793/ref=sr_1_1?ie=UTF8&qid=1443455134&sr=8-1&keywords=Python+for+Data+Analysis)\n",
    "![](DataFrame.png)"
   ]
  },
  {
   "cell_type": "code",
   "execution_count": 223,
   "metadata": {},
   "outputs": [
    {
     "data": {
      "text/html": [
       "<div>\n",
       "<style scoped>\n",
       "    .dataframe tbody tr th:only-of-type {\n",
       "        vertical-align: middle;\n",
       "    }\n",
       "\n",
       "    .dataframe tbody tr th {\n",
       "        vertical-align: top;\n",
       "    }\n",
       "\n",
       "    .dataframe thead th {\n",
       "        text-align: right;\n",
       "    }\n",
       "</style>\n",
       "<table border=\"1\" class=\"dataframe\">\n",
       "  <thead>\n",
       "    <tr style=\"text-align: right;\">\n",
       "      <th></th>\n",
       "      <th>1931</th>\n",
       "      <th>1999</th>\n",
       "      <th>2008</th>\n",
       "      <th>2010</th>\n",
       "      <th>2011</th>\n",
       "      <th>2012</th>\n",
       "    </tr>\n",
       "  </thead>\n",
       "  <tbody>\n",
       "    <tr>\n",
       "      <th>Nord</th>\n",
       "      <td>2029449.0</td>\n",
       "      <td>2555020</td>\n",
       "      <td>2564959</td>\n",
       "      <td>2576770.0</td>\n",
       "      <td>2579208.0</td>\n",
       "      <td>2587128</td>\n",
       "    </tr>\n",
       "    <tr>\n",
       "      <th>Paris</th>\n",
       "      <td>2891020.0</td>\n",
       "      <td>2125246</td>\n",
       "      <td>2211297</td>\n",
       "      <td>2243833.0</td>\n",
       "      <td>2249975.0</td>\n",
       "      <td>2240621</td>\n",
       "    </tr>\n",
       "    <tr>\n",
       "      <th>Bouches-du-Rhône</th>\n",
       "      <td>1101672.0</td>\n",
       "      <td>1835719</td>\n",
       "      <td>1966005</td>\n",
       "      <td>1972018.0</td>\n",
       "      <td>1975896.0</td>\n",
       "      <td>1984784</td>\n",
       "    </tr>\n",
       "    <tr>\n",
       "      <th>Hauts-de-Seine</th>\n",
       "      <td>949231.0</td>\n",
       "      <td>1428881</td>\n",
       "      <td>1549619</td>\n",
       "      <td>1572490.0</td>\n",
       "      <td>1581628.0</td>\n",
       "      <td>1586434</td>\n",
       "    </tr>\n",
       "    <tr>\n",
       "      <th>Seine-Saint-Denis</th>\n",
       "      <td>769315.0</td>\n",
       "      <td>1382861</td>\n",
       "      <td>1506466</td>\n",
       "      <td>1522048.0</td>\n",
       "      <td>1529928.0</td>\n",
       "      <td>1538726</td>\n",
       "    </tr>\n",
       "  </tbody>\n",
       "</table>\n",
       "</div>"
      ],
      "text/plain": [
       "                        1931     1999     2008       2010       2011     2012\n",
       "Nord               2029449.0  2555020  2564959  2576770.0  2579208.0  2587128\n",
       "Paris              2891020.0  2125246  2211297  2243833.0  2249975.0  2240621\n",
       "Bouches-du-Rhône   1101672.0  1835719  1966005  1972018.0  1975896.0  1984784\n",
       "Hauts-de-Seine      949231.0  1428881  1549619  1572490.0  1581628.0  1586434\n",
       "Seine-Saint-Denis   769315.0  1382861  1506466  1522048.0  1529928.0  1538726"
      ]
     },
     "execution_count": 223,
     "metadata": {},
     "output_type": "execute_result"
    }
   ],
   "source": [
    "p1 = pd.read_csv(\"dpts_pop.csv\")\n",
    "p1.index = p1.iloc[:, 0].values  # prend comme nouvel index le contenu de la colonne 0\n",
    "p1 = p1.drop(['Unnamed: 0', '2015'], axis=1)  # supprime la colonne\n",
    "p1.columns = p1.columns.astype(int)\n",
    "p1 = p1.applymap(convint)\n",
    "p1.head()"
   ]
  },
  {
   "cell_type": "code",
   "execution_count": 224,
   "metadata": {},
   "outputs": [],
   "source": [
    "pop = p1.copy()"
   ]
  },
  {
   "cell_type": "code",
   "execution_count": 225,
   "metadata": {},
   "outputs": [
    {
     "data": {
      "text/plain": [
       "Nord                 5743\n",
       "Paris                 105\n",
       "Bouches-du-Rhône     5087\n",
       "Hauts-de-Seine        176\n",
       "Seine-Saint-Denis     236\n",
       "Name: Superficie, dtype: int64"
      ]
     },
     "execution_count": 225,
     "metadata": {},
     "output_type": "execute_result"
    }
   ],
   "source": [
    "p2 = pd.read_csv(\"dpts_tab.csv\")\n",
    "p2 = p2.drop(labels=[0, 1], axis=0)\n",
    "p2.index = p1.index\n",
    "p2 = p2.drop(labels=['Unnamed: 0'], axis=1)\n",
    "sup = p2['Superficie'].copy()\n",
    "sup = sup.map(convint)\n",
    "sup.head()"
   ]
  },
  {
   "cell_type": "markdown",
   "metadata": {},
   "source": [
    "Comme sous R, on a des méthodes pour afficher le début ou la fin du dataframe, ainsi qu'une description statistique"
   ]
  },
  {
   "cell_type": "code",
   "execution_count": 226,
   "metadata": {},
   "outputs": [
    {
     "data": {
      "text/html": [
       "<div>\n",
       "<style scoped>\n",
       "    .dataframe tbody tr th:only-of-type {\n",
       "        vertical-align: middle;\n",
       "    }\n",
       "\n",
       "    .dataframe tbody tr th {\n",
       "        vertical-align: top;\n",
       "    }\n",
       "\n",
       "    .dataframe thead th {\n",
       "        text-align: right;\n",
       "    }\n",
       "</style>\n",
       "<table border=\"1\" class=\"dataframe\">\n",
       "  <thead>\n",
       "    <tr style=\"text-align: right;\">\n",
       "      <th></th>\n",
       "      <th>1931</th>\n",
       "      <th>1999</th>\n",
       "      <th>2008</th>\n",
       "      <th>2010</th>\n",
       "      <th>2011</th>\n",
       "      <th>2012</th>\n",
       "    </tr>\n",
       "  </thead>\n",
       "  <tbody>\n",
       "    <tr>\n",
       "      <th>Nord</th>\n",
       "      <td>2029449.0</td>\n",
       "      <td>2555020</td>\n",
       "      <td>2564959</td>\n",
       "      <td>2576770.0</td>\n",
       "      <td>2579208.0</td>\n",
       "      <td>2587128</td>\n",
       "    </tr>\n",
       "    <tr>\n",
       "      <th>Paris</th>\n",
       "      <td>2891020.0</td>\n",
       "      <td>2125246</td>\n",
       "      <td>2211297</td>\n",
       "      <td>2243833.0</td>\n",
       "      <td>2249975.0</td>\n",
       "      <td>2240621</td>\n",
       "    </tr>\n",
       "    <tr>\n",
       "      <th>Bouches-du-Rhône</th>\n",
       "      <td>1101672.0</td>\n",
       "      <td>1835719</td>\n",
       "      <td>1966005</td>\n",
       "      <td>1972018.0</td>\n",
       "      <td>1975896.0</td>\n",
       "      <td>1984784</td>\n",
       "    </tr>\n",
       "    <tr>\n",
       "      <th>Hauts-de-Seine</th>\n",
       "      <td>949231.0</td>\n",
       "      <td>1428881</td>\n",
       "      <td>1549619</td>\n",
       "      <td>1572490.0</td>\n",
       "      <td>1581628.0</td>\n",
       "      <td>1586434</td>\n",
       "    </tr>\n",
       "    <tr>\n",
       "      <th>Seine-Saint-Denis</th>\n",
       "      <td>769315.0</td>\n",
       "      <td>1382861</td>\n",
       "      <td>1506466</td>\n",
       "      <td>1522048.0</td>\n",
       "      <td>1529928.0</td>\n",
       "      <td>1538726</td>\n",
       "    </tr>\n",
       "  </tbody>\n",
       "</table>\n",
       "</div>"
      ],
      "text/plain": [
       "                        1931     1999     2008       2010       2011     2012\n",
       "Nord               2029449.0  2555020  2564959  2576770.0  2579208.0  2587128\n",
       "Paris              2891020.0  2125246  2211297  2243833.0  2249975.0  2240621\n",
       "Bouches-du-Rhône   1101672.0  1835719  1966005  1972018.0  1975896.0  1984784\n",
       "Hauts-de-Seine      949231.0  1428881  1549619  1572490.0  1581628.0  1586434\n",
       "Seine-Saint-Denis   769315.0  1382861  1506466  1522048.0  1529928.0  1538726"
      ]
     },
     "execution_count": 226,
     "metadata": {},
     "output_type": "execute_result"
    }
   ],
   "source": [
    "pop.head()"
   ]
  },
  {
   "cell_type": "code",
   "execution_count": 227,
   "metadata": {},
   "outputs": [
    {
     "data": {
      "text/html": [
       "<div>\n",
       "<style scoped>\n",
       "    .dataframe tbody tr th:only-of-type {\n",
       "        vertical-align: middle;\n",
       "    }\n",
       "\n",
       "    .dataframe tbody tr th {\n",
       "        vertical-align: top;\n",
       "    }\n",
       "\n",
       "    .dataframe thead th {\n",
       "        text-align: right;\n",
       "    }\n",
       "</style>\n",
       "<table border=\"1\" class=\"dataframe\">\n",
       "  <thead>\n",
       "    <tr style=\"text-align: right;\">\n",
       "      <th></th>\n",
       "      <th>1931</th>\n",
       "      <th>1999</th>\n",
       "      <th>2008</th>\n",
       "      <th>2010</th>\n",
       "      <th>2011</th>\n",
       "      <th>2012</th>\n",
       "    </tr>\n",
       "  </thead>\n",
       "  <tbody>\n",
       "    <tr>\n",
       "      <th>Corse-du-Sud</th>\n",
       "      <td>NaN</td>\n",
       "      <td>118593</td>\n",
       "      <td>140953</td>\n",
       "      <td>143600.0</td>\n",
       "      <td>145846.0</td>\n",
       "      <td>145429</td>\n",
       "    </tr>\n",
       "    <tr>\n",
       "      <th>Territoire de Belfort</th>\n",
       "      <td>99403.0</td>\n",
       "      <td>137408</td>\n",
       "      <td>141958</td>\n",
       "      <td>142911.0</td>\n",
       "      <td>143348.0</td>\n",
       "      <td>143940</td>\n",
       "    </tr>\n",
       "    <tr>\n",
       "      <th>Hautes-Alpes</th>\n",
       "      <td>87566.0</td>\n",
       "      <td>121419</td>\n",
       "      <td>134205</td>\n",
       "      <td>136971.0</td>\n",
       "      <td>138605.0</td>\n",
       "      <td>139554</td>\n",
       "    </tr>\n",
       "    <tr>\n",
       "      <th>Creuse</th>\n",
       "      <td>207882.0</td>\n",
       "      <td>124470</td>\n",
       "      <td>123907</td>\n",
       "      <td>123029.0</td>\n",
       "      <td>122560.0</td>\n",
       "      <td>121517</td>\n",
       "    </tr>\n",
       "    <tr>\n",
       "      <th>Lozère</th>\n",
       "      <td>101849.0</td>\n",
       "      <td>73509</td>\n",
       "      <td>76973</td>\n",
       "      <td>77082.0</td>\n",
       "      <td>77156.0</td>\n",
       "      <td>76889</td>\n",
       "    </tr>\n",
       "  </tbody>\n",
       "</table>\n",
       "</div>"
      ],
      "text/plain": [
       "                           1931    1999    2008      2010      2011    2012\n",
       "Corse-du-Sud                NaN  118593  140953  143600.0  145846.0  145429\n",
       "Territoire de Belfort   99403.0  137408  141958  142911.0  143348.0  143940\n",
       "Hautes-Alpes            87566.0  121419  134205  136971.0  138605.0  139554\n",
       "Creuse                 207882.0  124470  123907  123029.0  122560.0  121517\n",
       "Lozère                 101849.0   73509   76973   77082.0   77156.0   76889"
      ]
     },
     "execution_count": 227,
     "metadata": {},
     "output_type": "execute_result"
    }
   ],
   "source": [
    "pop.tail()"
   ]
  },
  {
   "cell_type": "code",
   "execution_count": 228,
   "metadata": {},
   "outputs": [
    {
     "data": {
      "text/html": [
       "<div>\n",
       "<style scoped>\n",
       "    .dataframe tbody tr th:only-of-type {\n",
       "        vertical-align: middle;\n",
       "    }\n",
       "\n",
       "    .dataframe tbody tr th {\n",
       "        vertical-align: top;\n",
       "    }\n",
       "\n",
       "    .dataframe thead th {\n",
       "        text-align: right;\n",
       "    }\n",
       "</style>\n",
       "<table border=\"1\" class=\"dataframe\">\n",
       "  <thead>\n",
       "    <tr style=\"text-align: right;\">\n",
       "      <th></th>\n",
       "      <th>1931</th>\n",
       "      <th>1999</th>\n",
       "      <th>2008</th>\n",
       "      <th>2010</th>\n",
       "      <th>2011</th>\n",
       "      <th>2012</th>\n",
       "    </tr>\n",
       "  </thead>\n",
       "  <tbody>\n",
       "    <tr>\n",
       "      <th>count</th>\n",
       "      <td>9.60000e+01</td>\n",
       "      <td>1.02000e+02</td>\n",
       "      <td>1.02000e+02</td>\n",
       "      <td>1.01000e+02</td>\n",
       "      <td>1.01000e+02</td>\n",
       "      <td>1.02000e+02</td>\n",
       "    </tr>\n",
       "    <tr>\n",
       "      <th>mean</th>\n",
       "      <td>4.34762e+05</td>\n",
       "      <td>5.91345e+05</td>\n",
       "      <td>6.29245e+05</td>\n",
       "      <td>6.39852e+05</td>\n",
       "      <td>6.42905e+05</td>\n",
       "      <td>6.41705e+05</td>\n",
       "    </tr>\n",
       "    <tr>\n",
       "      <th>std</th>\n",
       "      <td>3.76648e+05</td>\n",
       "      <td>4.61551e+05</td>\n",
       "      <td>4.86831e+05</td>\n",
       "      <td>4.91877e+05</td>\n",
       "      <td>4.94475e+05</td>\n",
       "      <td>4.96596e+05</td>\n",
       "    </tr>\n",
       "    <tr>\n",
       "      <th>min</th>\n",
       "      <td>0.00000e+00</td>\n",
       "      <td>0.00000e+00</td>\n",
       "      <td>0.00000e+00</td>\n",
       "      <td>0.00000e+00</td>\n",
       "      <td>0.00000e+00</td>\n",
       "      <td>0.00000e+00</td>\n",
       "    </tr>\n",
       "    <tr>\n",
       "      <th>25%</th>\n",
       "      <td>2.50684e+05</td>\n",
       "      <td>2.85509e+05</td>\n",
       "      <td>2.86218e+05</td>\n",
       "      <td>2.91642e+05</td>\n",
       "      <td>2.90891e+05</td>\n",
       "      <td>2.84587e+05</td>\n",
       "    </tr>\n",
       "    <tr>\n",
       "      <th>50%</th>\n",
       "      <td>3.34513e+05</td>\n",
       "      <td>4.90266e+05</td>\n",
       "      <td>5.09272e+05</td>\n",
       "      <td>5.24358e+05</td>\n",
       "      <td>5.25931e+05</td>\n",
       "      <td>5.13372e+05</td>\n",
       "    </tr>\n",
       "    <tr>\n",
       "      <th>75%</th>\n",
       "      <td>4.95180e+05</td>\n",
       "      <td>7.31838e+05</td>\n",
       "      <td>7.93500e+05</td>\n",
       "      <td>8.03595e+05</td>\n",
       "      <td>8.05642e+05</td>\n",
       "      <td>8.06614e+05</td>\n",
       "    </tr>\n",
       "    <tr>\n",
       "      <th>max</th>\n",
       "      <td>2.89102e+06</td>\n",
       "      <td>2.55502e+06</td>\n",
       "      <td>2.56496e+06</td>\n",
       "      <td>2.57677e+06</td>\n",
       "      <td>2.57921e+06</td>\n",
       "      <td>2.58713e+06</td>\n",
       "    </tr>\n",
       "  </tbody>\n",
       "</table>\n",
       "</div>"
      ],
      "text/plain": [
       "              1931         1999         2008         2010         2011  \\\n",
       "count  9.60000e+01  1.02000e+02  1.02000e+02  1.01000e+02  1.01000e+02   \n",
       "mean   4.34762e+05  5.91345e+05  6.29245e+05  6.39852e+05  6.42905e+05   \n",
       "std    3.76648e+05  4.61551e+05  4.86831e+05  4.91877e+05  4.94475e+05   \n",
       "min    0.00000e+00  0.00000e+00  0.00000e+00  0.00000e+00  0.00000e+00   \n",
       "25%    2.50684e+05  2.85509e+05  2.86218e+05  2.91642e+05  2.90891e+05   \n",
       "50%    3.34513e+05  4.90266e+05  5.09272e+05  5.24358e+05  5.25931e+05   \n",
       "75%    4.95180e+05  7.31838e+05  7.93500e+05  8.03595e+05  8.05642e+05   \n",
       "max    2.89102e+06  2.55502e+06  2.56496e+06  2.57677e+06  2.57921e+06   \n",
       "\n",
       "              2012  \n",
       "count  1.02000e+02  \n",
       "mean   6.41705e+05  \n",
       "std    4.96596e+05  \n",
       "min    0.00000e+00  \n",
       "25%    2.84587e+05  \n",
       "50%    5.13372e+05  \n",
       "75%    8.06614e+05  \n",
       "max    2.58713e+06  "
      ]
     },
     "execution_count": 228,
     "metadata": {},
     "output_type": "execute_result"
    }
   ],
   "source": [
    "pop.describe()"
   ]
  },
  {
   "cell_type": "code",
   "execution_count": 229,
   "metadata": {},
   "outputs": [
    {
     "name": "stdout",
     "output_type": "stream",
     "text": [
      "<class 'pandas.core.frame.DataFrame'>\n",
      "Index: 102 entries, Nord to Lozère\n",
      "Data columns (total 6 columns):\n",
      "1931    96 non-null float64\n",
      "1999    102 non-null int64\n",
      "2008    102 non-null int64\n",
      "2010    101 non-null float64\n",
      "2011    101 non-null float64\n",
      "2012    102 non-null int64\n",
      "dtypes: float64(3), int64(3)\n",
      "memory usage: 5.6+ KB\n"
     ]
    }
   ],
   "source": [
    "pop.info()"
   ]
  },
  {
   "cell_type": "code",
   "execution_count": 231,
   "metadata": {},
   "outputs": [
    {
     "data": {
      "text/plain": [
       "1931    6\n",
       "1999    0\n",
       "2008    0\n",
       "2010    1\n",
       "2011    1\n",
       "2012    0\n",
       "dtype: int64"
      ]
     },
     "execution_count": 231,
     "metadata": {},
     "output_type": "execute_result"
    }
   ],
   "source": [
    "pop.isnull().sum()"
   ]
  },
  {
   "cell_type": "code",
   "execution_count": null,
   "metadata": {},
   "outputs": [],
   "source": []
  },
  {
   "cell_type": "code",
   "execution_count": null,
   "metadata": {},
   "outputs": [],
   "source": []
  },
  {
   "cell_type": "code",
   "execution_count": 232,
   "metadata": {},
   "outputs": [
    {
     "data": {
      "text/html": [
       "<div>\n",
       "<style scoped>\n",
       "    .dataframe tbody tr th:only-of-type {\n",
       "        vertical-align: middle;\n",
       "    }\n",
       "\n",
       "    .dataframe tbody tr th {\n",
       "        vertical-align: top;\n",
       "    }\n",
       "\n",
       "    .dataframe thead th {\n",
       "        text-align: right;\n",
       "    }\n",
       "</style>\n",
       "<table border=\"1\" class=\"dataframe\">\n",
       "  <thead>\n",
       "    <tr style=\"text-align: right;\">\n",
       "      <th></th>\n",
       "      <th>col_0</th>\n",
       "      <th>col_1</th>\n",
       "      <th>col_2</th>\n",
       "      <th>col_3</th>\n",
       "      <th>col_4</th>\n",
       "    </tr>\n",
       "  </thead>\n",
       "  <tbody>\n",
       "    <tr>\n",
       "      <th>a</th>\n",
       "      <td>0.87113</td>\n",
       "      <td>0.41697</td>\n",
       "      <td>0.92068</td>\n",
       "      <td>0.87189</td>\n",
       "      <td>0.01676</td>\n",
       "    </tr>\n",
       "    <tr>\n",
       "      <th>b</th>\n",
       "      <td>0.14323</td>\n",
       "      <td>0.38217</td>\n",
       "      <td>0.12241</td>\n",
       "      <td>0.59213</td>\n",
       "      <td>0.81141</td>\n",
       "    </tr>\n",
       "    <tr>\n",
       "      <th>c</th>\n",
       "      <td>0.68076</td>\n",
       "      <td>0.54543</td>\n",
       "      <td>0.04853</td>\n",
       "      <td>0.46914</td>\n",
       "      <td>0.41446</td>\n",
       "    </tr>\n",
       "    <tr>\n",
       "      <th>d</th>\n",
       "      <td>0.39695</td>\n",
       "      <td>0.47880</td>\n",
       "      <td>0.89917</td>\n",
       "      <td>0.85789</td>\n",
       "      <td>0.34518</td>\n",
       "    </tr>\n",
       "  </tbody>\n",
       "</table>\n",
       "</div>"
      ],
      "text/plain": [
       "     col_0    col_1    col_2    col_3    col_4\n",
       "a  0.87113  0.41697  0.92068  0.87189  0.01676\n",
       "b  0.14323  0.38217  0.12241  0.59213  0.81141\n",
       "c  0.68076  0.54543  0.04853  0.46914  0.41446\n",
       "d  0.39695  0.47880  0.89917  0.85789  0.34518"
      ]
     },
     "execution_count": 232,
     "metadata": {},
     "output_type": "execute_result"
    }
   ],
   "source": [
    "def random_df(size):\n",
    "    import string\n",
    "    letters = string.ascii_letters\n",
    "    return pd.DataFrame(\n",
    "        np.random.uniform(size=size),\n",
    "        index=[letters[k] for k in range(size[0])],\n",
    "        columns=['col_' + str(k) for k in range(size[1])])\n",
    "\n",
    "\n",
    "a = random_df((4, 5))\n",
    "a"
   ]
  },
  {
   "cell_type": "markdown",
   "metadata": {},
   "source": [
    "## Accéder aux données :"
   ]
  },
  {
   "cell_type": "markdown",
   "metadata": {},
   "source": [
    "Comment extrait-on des données d'un dataframe ?"
   ]
  },
  {
   "cell_type": "code",
   "execution_count": 233,
   "metadata": {},
   "outputs": [
    {
     "data": {
      "text/html": [
       "<div>\n",
       "<style scoped>\n",
       "    .dataframe tbody tr th:only-of-type {\n",
       "        vertical-align: middle;\n",
       "    }\n",
       "\n",
       "    .dataframe tbody tr th {\n",
       "        vertical-align: top;\n",
       "    }\n",
       "\n",
       "    .dataframe thead th {\n",
       "        text-align: right;\n",
       "    }\n",
       "</style>\n",
       "<table border=\"1\" class=\"dataframe\">\n",
       "  <thead>\n",
       "    <tr style=\"text-align: right;\">\n",
       "      <th></th>\n",
       "      <th>col_0</th>\n",
       "      <th>col_1</th>\n",
       "      <th>col_2</th>\n",
       "      <th>col_3</th>\n",
       "      <th>col_4</th>\n",
       "    </tr>\n",
       "  </thead>\n",
       "  <tbody>\n",
       "    <tr>\n",
       "      <th>a</th>\n",
       "      <td>0.92034</td>\n",
       "      <td>0.89475</td>\n",
       "      <td>0.86552</td>\n",
       "      <td>0.09942</td>\n",
       "      <td>0.07140</td>\n",
       "    </tr>\n",
       "    <tr>\n",
       "      <th>b</th>\n",
       "      <td>0.23628</td>\n",
       "      <td>0.83111</td>\n",
       "      <td>0.40242</td>\n",
       "      <td>0.37007</td>\n",
       "      <td>0.37958</td>\n",
       "    </tr>\n",
       "    <tr>\n",
       "      <th>c</th>\n",
       "      <td>0.19456</td>\n",
       "      <td>0.64392</td>\n",
       "      <td>0.43317</td>\n",
       "      <td>0.61135</td>\n",
       "      <td>0.09888</td>\n",
       "    </tr>\n",
       "    <tr>\n",
       "      <th>d</th>\n",
       "      <td>0.62180</td>\n",
       "      <td>0.89832</td>\n",
       "      <td>0.72063</td>\n",
       "      <td>0.87545</td>\n",
       "      <td>0.18662</td>\n",
       "    </tr>\n",
       "  </tbody>\n",
       "</table>\n",
       "</div>"
      ],
      "text/plain": [
       "     col_0    col_1    col_2    col_3    col_4\n",
       "a  0.92034  0.89475  0.86552  0.09942  0.07140\n",
       "b  0.23628  0.83111  0.40242  0.37007  0.37958\n",
       "c  0.19456  0.64392  0.43317  0.61135  0.09888\n",
       "d  0.62180  0.89832  0.72063  0.87545  0.18662"
      ]
     },
     "execution_count": 233,
     "metadata": {},
     "output_type": "execute_result"
    }
   ],
   "source": [
    "df = random_df((4, 5))\n",
    "df"
   ]
  },
  {
   "cell_type": "markdown",
   "metadata": {},
   "source": [
    "### Les index"
   ]
  },
  {
   "cell_type": "markdown",
   "metadata": {},
   "source": [
    "Les dataframes possèdent un index pour les lignes et un index pour les colonnes: "
   ]
  },
  {
   "cell_type": "code",
   "execution_count": 234,
   "metadata": {},
   "outputs": [
    {
     "data": {
      "text/html": [
       "<b style=\"color:blue\"> df.columns </b>"
      ],
      "text/plain": [
       "<IPython.core.display.HTML object>"
      ]
     },
     "metadata": {},
     "output_type": "display_data"
    },
    {
     "name": "stdout",
     "output_type": "stream",
     "text": [
      "Index(['col_0', 'col_1', 'col_2', 'col_3', 'col_4'], dtype='object')\n"
     ]
    },
    {
     "data": {
      "text/html": [
       "<b style=\"color:blue\"> df.index </b>"
      ],
      "text/plain": [
       "<IPython.core.display.HTML object>"
      ]
     },
     "metadata": {},
     "output_type": "display_data"
    },
    {
     "name": "stdout",
     "output_type": "stream",
     "text": [
      "Index(['a', 'b', 'c', 'd'], dtype='object')\n"
     ]
    }
   ],
   "source": [
    "disp(\"df.columns\")\n",
    "disp(\"df.index\")"
   ]
  },
  {
   "cell_type": "markdown",
   "metadata": {},
   "source": [
    "On peut accéder directement **aux colonnes** via"
   ]
  },
  {
   "cell_type": "code",
   "execution_count": 235,
   "metadata": {},
   "outputs": [
    {
     "data": {
      "text/plain": [
       "a    0.89475\n",
       "b    0.83111\n",
       "c    0.64392\n",
       "d    0.89832\n",
       "Name: col_1, dtype: float64"
      ]
     },
     "execution_count": 235,
     "metadata": {},
     "output_type": "execute_result"
    }
   ],
   "source": [
    "df['col_1']"
   ]
  },
  {
   "cell_type": "markdown",
   "metadata": {},
   "source": [
    "! (pour un  array numpy, disons a, la commande `a[1]` donne accès à la 2e **ligne** de a). "
   ]
  },
  {
   "cell_type": "markdown",
   "metadata": {},
   "source": [
    "Mais **si on slice**, le slice par défaut est sur les lignes, et ne fonctionne pas sur les colonnes :\n"
   ]
  },
  {
   "cell_type": "code",
   "execution_count": 236,
   "metadata": {},
   "outputs": [
    {
     "data": {
      "text/html": [
       "<b style=\"color:blue\"> df['col_1':'col_2'] </b>"
      ],
      "text/plain": [
       "<IPython.core.display.HTML object>"
      ]
     },
     "metadata": {},
     "output_type": "display_data"
    },
    {
     "name": "stdout",
     "output_type": "stream",
     "text": [
      "Empty DataFrame\n",
      "Columns: [col_0, col_1, col_2, col_3, col_4]\n",
      "Index: []\n"
     ]
    },
    {
     "data": {
      "text/html": [
       "<b style=\"color:blue\"> df['a':'c'] </b>"
      ],
      "text/plain": [
       "<IPython.core.display.HTML object>"
      ]
     },
     "metadata": {},
     "output_type": "display_data"
    },
    {
     "name": "stdout",
     "output_type": "stream",
     "text": [
      "     col_0    col_1    col_2    col_3    col_4\n",
      "a  0.92034  0.89475  0.86552  0.09942  0.07140\n",
      "b  0.23628  0.83111  0.40242  0.37007  0.37958\n",
      "c  0.19456  0.64392  0.43317  0.61135  0.09888\n"
     ]
    }
   ],
   "source": [
    "disp(\"df['col_1':'col_2']\")\n",
    "disp(\"df['a':'c']\")"
   ]
  },
  {
   "cell_type": "markdown",
   "metadata": {},
   "source": [
    "`df['a':'c']` retourne un dataframe, dont on peut extraire une colonne, forcément."
   ]
  },
  {
   "cell_type": "code",
   "execution_count": 237,
   "metadata": {},
   "outputs": [
    {
     "data": {
      "text/html": [
       "<b style=\"color:blue\"> df['a':'c']['col_1'] </b>"
      ],
      "text/plain": [
       "<IPython.core.display.HTML object>"
      ]
     },
     "metadata": {},
     "output_type": "display_data"
    },
    {
     "name": "stdout",
     "output_type": "stream",
     "text": [
      "a    0.89475\n",
      "b    0.83111\n",
      "c    0.64392\n",
      "Name: col_1, dtype: float64\n"
     ]
    }
   ],
   "source": [
    "disp(\"df['a':'c']['col_1']\")"
   ]
  },
  {
   "cell_type": "markdown",
   "metadata": {},
   "source": [
    "Comme pour les Series, on dipose d'un indiçage explicite et implicite en `loc` et `iloc`, ainsi que d'une version hybride, `ix`. "
   ]
  },
  {
   "cell_type": "code",
   "execution_count": 238,
   "metadata": {},
   "outputs": [
    {
     "data": {
      "text/html": [
       "<b style=\"color:blue\"> df </b>"
      ],
      "text/plain": [
       "<IPython.core.display.HTML object>"
      ]
     },
     "metadata": {},
     "output_type": "display_data"
    },
    {
     "name": "stdout",
     "output_type": "stream",
     "text": [
      "     col_0    col_1    col_2    col_3    col_4\n",
      "a  0.92034  0.89475  0.86552  0.09942  0.07140\n",
      "b  0.23628  0.83111  0.40242  0.37007  0.37958\n",
      "c  0.19456  0.64392  0.43317  0.61135  0.09888\n",
      "d  0.62180  0.89832  0.72063  0.87545  0.18662\n"
     ]
    },
    {
     "data": {
      "text/html": [
       "<b style=\"color:blue\"> df.iloc[2,:]   # Axe 0 --> les lignes </b>"
      ],
      "text/plain": [
       "<IPython.core.display.HTML object>"
      ]
     },
     "metadata": {},
     "output_type": "display_data"
    },
    {
     "name": "stdout",
     "output_type": "stream",
     "text": [
      "col_0    0.19456\n",
      "col_1    0.64392\n",
      "col_2    0.43317\n",
      "col_3    0.61135\n",
      "col_4    0.09888\n",
      "Name: c, dtype: float64\n"
     ]
    }
   ],
   "source": [
    "disp(\"df\")\n",
    "disp(\"df.iloc[2,:]   # Axe 0 --> les lignes\")\n",
    "# ici la ligne 2"
   ]
  },
  {
   "cell_type": "code",
   "execution_count": 239,
   "metadata": {},
   "outputs": [
    {
     "data": {
      "text/html": [
       "<b style=\"color:blue\"> df.iloc[:,1]   # Axe 1 --> les colonnes </b>"
      ],
      "text/plain": [
       "<IPython.core.display.HTML object>"
      ]
     },
     "metadata": {},
     "output_type": "display_data"
    },
    {
     "name": "stdout",
     "output_type": "stream",
     "text": [
      "a    0.89475\n",
      "b    0.83111\n",
      "c    0.64392\n",
      "d    0.89832\n",
      "Name: col_1, dtype: float64\n"
     ]
    }
   ],
   "source": [
    "disp(\"df.iloc[:,1]   # Axe 1 --> les colonnes\")\n",
    "# ici la colonne 1"
   ]
  },
  {
   "cell_type": "markdown",
   "metadata": {},
   "source": [
    "On peut extraire une sous table simplement"
   ]
  },
  {
   "cell_type": "code",
   "execution_count": 240,
   "metadata": {},
   "outputs": [
    {
     "data": {
      "text/html": [
       "<b style=\"color:blue\"> df.iloc[1:3,1:3]   #(bornes sup exclues) </b>"
      ],
      "text/plain": [
       "<IPython.core.display.HTML object>"
      ]
     },
     "metadata": {},
     "output_type": "display_data"
    },
    {
     "name": "stdout",
     "output_type": "stream",
     "text": [
      "     col_1    col_2\n",
      "b  0.83111  0.40242\n",
      "c  0.64392  0.43317\n"
     ]
    }
   ],
   "source": [
    "disp(\"df.iloc[1:3,1:3]   #(bornes sup exclues)\")"
   ]
  },
  {
   "cell_type": "markdown",
   "metadata": {},
   "source": [
    "ainsi qu'en indice explicite:"
   ]
  },
  {
   "cell_type": "code",
   "execution_count": 241,
   "metadata": {},
   "outputs": [
    {
     "data": {
      "text/html": [
       "<b style=\"color:blue\"> df.loc['b':'c','col_1':'col_2']   #(bornes sup inclues) </b>"
      ],
      "text/plain": [
       "<IPython.core.display.HTML object>"
      ]
     },
     "metadata": {},
     "output_type": "display_data"
    },
    {
     "name": "stdout",
     "output_type": "stream",
     "text": [
      "     col_1    col_2\n",
      "b  0.83111  0.40242\n",
      "c  0.64392  0.43317\n"
     ]
    }
   ],
   "source": [
    "disp(\"df.loc['b':'c','col_1':'col_2']   #(bornes sup inclues)\")"
   ]
  },
  {
   "cell_type": "markdown",
   "metadata": {},
   "source": [
    "ou encore avec un indice hybride (implicite/explicite)"
   ]
  },
  {
   "cell_type": "code",
   "execution_count": 242,
   "metadata": {},
   "outputs": [
    {
     "data": {
      "text/html": [
       "<b style=\"color:blue\"> df.ix[1:3,'col_1':'col_2']   #(bornes sup exclues/inclues) </b>"
      ],
      "text/plain": [
       "<IPython.core.display.HTML object>"
      ]
     },
     "metadata": {},
     "output_type": "display_data"
    },
    {
     "name": "stdout",
     "output_type": "stream",
     "text": [
      "     col_1    col_2\n",
      "b  0.83111  0.40242\n",
      "c  0.64392  0.43317\n"
     ]
    },
    {
     "name": "stderr",
     "output_type": "stream",
     "text": [
      "/home/bercherj/.local/lib/python3.5/site-packages/ipykernel_launcher.py:1: DeprecationWarning: \n",
      ".ix is deprecated. Please use\n",
      ".loc for label based indexing or\n",
      ".iloc for positional indexing\n",
      "\n",
      "See the documentation here:\n",
      "http://pandas.pydata.org/pandas-docs/stable/indexing.html#ix-indexer-is-deprecated\n",
      "  \"\"\"Entry point for launching an IPython kernel.\n"
     ]
    }
   ],
   "source": [
    "disp(\"df.ix[1:3,'col_1':'col_2']   #(bornes sup exclues/inclues)\")"
   ]
  },
  {
   "cell_type": "markdown",
   "metadata": {},
   "source": [
    "En réalité, `.ix` est d'abord basé sur les labels, mais utilise un adressage basé sur les indexs entiers si un label ne peut-être trouvé ; sauf dans le cas ou les labels seraient eux-même des entiers.."
   ]
  },
  {
   "cell_type": "markdown",
   "metadata": {},
   "source": [
    "Lorsqu'on effectue un calcul sur l'axe 0 (les lignes), le résultat est donc fonction des index des colonnes ; et réciproquement"
   ]
  },
  {
   "cell_type": "code",
   "execution_count": 243,
   "metadata": {},
   "outputs": [
    {
     "data": {
      "text/plain": [
       "col_0    0.42904\n",
       "col_1    0.86293\n",
       "col_2    0.57690\n",
       "col_3    0.49071\n",
       "col_4    0.14275\n",
       "dtype: float64"
      ]
     },
     "execution_count": 243,
     "metadata": {},
     "output_type": "execute_result"
    }
   ],
   "source": [
    "df.median(axis=0)"
   ]
  },
  {
   "cell_type": "code",
   "execution_count": null,
   "metadata": {},
   "outputs": [],
   "source": [
    "df.mean(axis=1)"
   ]
  },
  {
   "cell_type": "markdown",
   "metadata": {},
   "source": [
    "### Modifier un dataframe : affectation, apply, applymap"
   ]
  },
  {
   "cell_type": "markdown",
   "metadata": {},
   "source": [
    "Affecter une colonne inexistante crée simplement une nouvelle colonne !"
   ]
  },
  {
   "cell_type": "code",
   "execution_count": 244,
   "metadata": {},
   "outputs": [
    {
     "data": {
      "text/html": [
       "<b style=\"color:blue\"> df1 </b>"
      ],
      "text/plain": [
       "<IPython.core.display.HTML object>"
      ]
     },
     "metadata": {},
     "output_type": "display_data"
    },
    {
     "name": "stdout",
     "output_type": "stream",
     "text": [
      "     col_0    col_1    col_2    col_3    col_4\n",
      "a  0.47132  0.83981  0.84531  0.07057  0.32983\n",
      "b  0.49628  0.13525  0.76603  0.13320  0.41124\n",
      "c  0.15381  0.66689  0.33608  0.47664  0.89300\n"
     ]
    },
    {
     "data": {
      "text/html": [
       "<b style=\"color:blue\"> df1 </b>"
      ],
      "text/plain": [
       "<IPython.core.display.HTML object>"
      ]
     },
     "metadata": {},
     "output_type": "display_data"
    },
    {
     "name": "stdout",
     "output_type": "stream",
     "text": [
      "     col_0    col_1    col_2    col_3    col_4  nouveau\n",
      "a  0.47132  0.83981  0.84531  0.07057  0.32983        6\n",
      "b  0.49628  0.13525  0.76603  0.13320  0.41124        8\n",
      "c  0.15381  0.66689  0.33608  0.47664  0.89300        4\n"
     ]
    }
   ],
   "source": [
    "df1 = random_df((3, 5))\n",
    "disp(\"df1\")\n",
    "df1['nouveau'] = np.random.randint(0, 10, size=3)\n",
    "disp(\"df1\")"
   ]
  },
  {
   "cell_type": "markdown",
   "metadata": {},
   "source": [
    "Dès lors, on peut imaginer de faire des opérations directement sur les colonnes ; par exemple"
   ]
  },
  {
   "cell_type": "code",
   "execution_count": 249,
   "metadata": {},
   "outputs": [
    {
     "data": {
      "text/html": [
       "<div>\n",
       "<style scoped>\n",
       "    .dataframe tbody tr th:only-of-type {\n",
       "        vertical-align: middle;\n",
       "    }\n",
       "\n",
       "    .dataframe tbody tr th {\n",
       "        vertical-align: top;\n",
       "    }\n",
       "\n",
       "    .dataframe thead th {\n",
       "        text-align: right;\n",
       "    }\n",
       "</style>\n",
       "<table border=\"1\" class=\"dataframe\">\n",
       "  <thead>\n",
       "    <tr style=\"text-align: right;\">\n",
       "      <th></th>\n",
       "      <th>Note0</th>\n",
       "      <th>Note1</th>\n",
       "      <th>Note2</th>\n",
       "      <th>Note3</th>\n",
       "      <th>Note4</th>\n",
       "    </tr>\n",
       "  </thead>\n",
       "  <tbody>\n",
       "    <tr>\n",
       "      <th>Victor</th>\n",
       "      <td>7</td>\n",
       "      <td>9</td>\n",
       "      <td>5</td>\n",
       "      <td>1</td>\n",
       "      <td>1</td>\n",
       "    </tr>\n",
       "    <tr>\n",
       "      <th>Léa</th>\n",
       "      <td>1</td>\n",
       "      <td>4</td>\n",
       "      <td>8</td>\n",
       "      <td>12</td>\n",
       "      <td>12</td>\n",
       "    </tr>\n",
       "    <tr>\n",
       "      <th>Agnès</th>\n",
       "      <td>3</td>\n",
       "      <td>4</td>\n",
       "      <td>18</td>\n",
       "      <td>15</td>\n",
       "      <td>0</td>\n",
       "    </tr>\n",
       "    <tr>\n",
       "      <th>Benjamin</th>\n",
       "      <td>14</td>\n",
       "      <td>3</td>\n",
       "      <td>17</td>\n",
       "      <td>19</td>\n",
       "      <td>11</td>\n",
       "    </tr>\n",
       "    <tr>\n",
       "      <th>Mathieu</th>\n",
       "      <td>5</td>\n",
       "      <td>8</td>\n",
       "      <td>15</td>\n",
       "      <td>9</td>\n",
       "      <td>19</td>\n",
       "    </tr>\n",
       "  </tbody>\n",
       "</table>\n",
       "</div>"
      ],
      "text/plain": [
       "          Note0  Note1  Note2  Note3  Note4\n",
       "Victor        7      9      5      1      1\n",
       "Léa           1      4      8     12     12\n",
       "Agnès         3      4     18     15      0\n",
       "Benjamin     14      3     17     19     11\n",
       "Mathieu       5      8     15      9     19"
      ]
     },
     "execution_count": 249,
     "metadata": {},
     "output_type": "execute_result"
    }
   ],
   "source": [
    "notes = pd.DataFrame(\n",
    "    data=np.random.randint(\n",
    "        0, 20, size=(5, 5)),\n",
    "    columns=['Note' + str(k) for k in range(5)],\n",
    "    index=['Victor', 'Léa', 'Agnès', 'Benjamin', 'Mathieu'])\n",
    "notes"
   ]
  },
  {
   "cell_type": "code",
   "execution_count": 250,
   "metadata": {},
   "outputs": [
    {
     "data": {
      "text/html": [
       "<div>\n",
       "<style scoped>\n",
       "    .dataframe tbody tr th:only-of-type {\n",
       "        vertical-align: middle;\n",
       "    }\n",
       "\n",
       "    .dataframe tbody tr th {\n",
       "        vertical-align: top;\n",
       "    }\n",
       "\n",
       "    .dataframe thead th {\n",
       "        text-align: right;\n",
       "    }\n",
       "</style>\n",
       "<table border=\"1\" class=\"dataframe\">\n",
       "  <thead>\n",
       "    <tr style=\"text-align: right;\">\n",
       "      <th></th>\n",
       "      <th>Note0</th>\n",
       "      <th>Note1</th>\n",
       "      <th>Note2</th>\n",
       "      <th>Note3</th>\n",
       "      <th>Note4</th>\n",
       "      <th>Note_pond</th>\n",
       "      <th>Note_max</th>\n",
       "    </tr>\n",
       "  </thead>\n",
       "  <tbody>\n",
       "    <tr>\n",
       "      <th>Victor</th>\n",
       "      <td>7</td>\n",
       "      <td>9</td>\n",
       "      <td>5</td>\n",
       "      <td>1</td>\n",
       "      <td>1</td>\n",
       "      <td>2.6</td>\n",
       "      <td>5</td>\n",
       "    </tr>\n",
       "    <tr>\n",
       "      <th>Léa</th>\n",
       "      <td>1</td>\n",
       "      <td>4</td>\n",
       "      <td>8</td>\n",
       "      <td>12</td>\n",
       "      <td>12</td>\n",
       "      <td>10.4</td>\n",
       "      <td>12</td>\n",
       "    </tr>\n",
       "    <tr>\n",
       "      <th>Agnès</th>\n",
       "      <td>3</td>\n",
       "      <td>4</td>\n",
       "      <td>18</td>\n",
       "      <td>15</td>\n",
       "      <td>0</td>\n",
       "      <td>16.2</td>\n",
       "      <td>18</td>\n",
       "    </tr>\n",
       "    <tr>\n",
       "      <th>Benjamin</th>\n",
       "      <td>14</td>\n",
       "      <td>3</td>\n",
       "      <td>17</td>\n",
       "      <td>19</td>\n",
       "      <td>11</td>\n",
       "      <td>18.2</td>\n",
       "      <td>19</td>\n",
       "    </tr>\n",
       "    <tr>\n",
       "      <th>Mathieu</th>\n",
       "      <td>5</td>\n",
       "      <td>8</td>\n",
       "      <td>15</td>\n",
       "      <td>9</td>\n",
       "      <td>19</td>\n",
       "      <td>11.4</td>\n",
       "      <td>15</td>\n",
       "    </tr>\n",
       "  </tbody>\n",
       "</table>\n",
       "</div>"
      ],
      "text/plain": [
       "          Note0  Note1  Note2  Note3  Note4  Note_pond  Note_max\n",
       "Victor        7      9      5      1      1        2.6         5\n",
       "Léa           1      4      8     12     12       10.4        12\n",
       "Agnès         3      4     18     15      0       16.2        18\n",
       "Benjamin     14      3     17     19     11       18.2        19\n",
       "Mathieu       5      8     15      9     19       11.4        15"
      ]
     },
     "execution_count": 250,
     "metadata": {},
     "output_type": "execute_result"
    }
   ],
   "source": [
    "notes['Note_pond'] = 0.4 * notes['Note2'] + 0.6 * notes['Note3']\n",
    "notes['Note_max'] = np.max(notes.loc[:, 'Note2':'Note3'], axis=1)\n",
    "notes"
   ]
  },
  {
   "cell_type": "markdown",
   "metadata": {},
   "source": [
    "Ou encore, on aurait envie d'appliquer une fonction sur les colonnes -- Pour cela, on a la méthode `apply`"
   ]
  },
  {
   "cell_type": "code",
   "execution_count": 251,
   "metadata": {},
   "outputs": [
    {
     "data": {
      "text/plain": [
       "Victor       9.0\n",
       "Léa         12.0\n",
       "Agnès       18.0\n",
       "Benjamin    19.0\n",
       "Mathieu     19.0\n",
       "dtype: float64"
      ]
     },
     "execution_count": 251,
     "metadata": {},
     "output_type": "execute_result"
    }
   ],
   "source": [
    "notes.apply(np.max, axis=1)  #ou np.mean, np.std"
   ]
  },
  {
   "cell_type": "code",
   "execution_count": 252,
   "metadata": {},
   "outputs": [],
   "source": [
    "notes = notes.drop(['Note_pond', 'Note_max'], axis=1)"
   ]
  },
  {
   "cell_type": "markdown",
   "metadata": {},
   "source": [
    "On peut en fait utiliser n'importe quelle fonction qui reçoit une Series et rend ce qu'elle veut. "
   ]
  },
  {
   "cell_type": "code",
   "execution_count": 253,
   "metadata": {},
   "outputs": [
    {
     "data": {
      "text/html": [
       "<div>\n",
       "<style scoped>\n",
       "    .dataframe tbody tr th:only-of-type {\n",
       "        vertical-align: middle;\n",
       "    }\n",
       "\n",
       "    .dataframe tbody tr th {\n",
       "        vertical-align: top;\n",
       "    }\n",
       "\n",
       "    .dataframe thead th {\n",
       "        text-align: right;\n",
       "    }\n",
       "</style>\n",
       "<table border=\"1\" class=\"dataframe\">\n",
       "  <thead>\n",
       "    <tr style=\"text-align: right;\">\n",
       "      <th></th>\n",
       "      <th>Note0</th>\n",
       "      <th>Note1</th>\n",
       "      <th>Note2</th>\n",
       "      <th>Note3</th>\n",
       "      <th>Note4</th>\n",
       "    </tr>\n",
       "  </thead>\n",
       "  <tbody>\n",
       "    <tr>\n",
       "      <th>Victor</th>\n",
       "      <td>13.11803</td>\n",
       "      <td>19.03465</td>\n",
       "      <td>4.63765</td>\n",
       "      <td>3.61112</td>\n",
       "      <td>6.70174</td>\n",
       "    </tr>\n",
       "    <tr>\n",
       "      <th>Léa</th>\n",
       "      <td>6.40983</td>\n",
       "      <td>8.68958</td>\n",
       "      <td>7.54384</td>\n",
       "      <td>12.65795</td>\n",
       "      <td>14.37027</td>\n",
       "    </tr>\n",
       "    <tr>\n",
       "      <th>Agnès</th>\n",
       "      <td>8.64590</td>\n",
       "      <td>8.68958</td>\n",
       "      <td>17.23114</td>\n",
       "      <td>15.12527</td>\n",
       "      <td>6.00460</td>\n",
       "    </tr>\n",
       "    <tr>\n",
       "      <th>Benjamin</th>\n",
       "      <td>20.94427</td>\n",
       "      <td>6.62056</td>\n",
       "      <td>16.26241</td>\n",
       "      <td>18.41503</td>\n",
       "      <td>13.67313</td>\n",
       "    </tr>\n",
       "    <tr>\n",
       "      <th>Mathieu</th>\n",
       "      <td>10.88197</td>\n",
       "      <td>16.96564</td>\n",
       "      <td>14.32495</td>\n",
       "      <td>10.19063</td>\n",
       "      <td>19.25025</td>\n",
       "    </tr>\n",
       "  </tbody>\n",
       "</table>\n",
       "</div>"
      ],
      "text/plain": [
       "             Note0     Note1     Note2     Note3     Note4\n",
       "Victor    13.11803  19.03465   4.63765   3.61112   6.70174\n",
       "Léa        6.40983   8.68958   7.54384  12.65795  14.37027\n",
       "Agnès      8.64590   8.68958  17.23114  15.12527   6.00460\n",
       "Benjamin  20.94427   6.62056  16.26241  18.41503  13.67313\n",
       "Mathieu   10.88197  16.96564  14.32495  10.19063  19.25025"
      ]
     },
     "execution_count": 253,
     "metadata": {},
     "output_type": "execute_result"
    }
   ],
   "source": [
    "new_notes = notes.apply(\n",
    "    lambda x: 5 * (x - np.mean(x)) / np.std(x) + 12, axis=0)\n",
    "new_notes"
   ]
  },
  {
   "cell_type": "markdown",
   "metadata": {},
   "source": [
    "L'air de rien, la fonction ci-dessus est très utile pour normaliser des données lorsqu'on applique certaines méthodes de traitement (clustering par exemple)."
   ]
  },
  {
   "cell_type": "code",
   "execution_count": 254,
   "metadata": {},
   "outputs": [
    {
     "data": {
      "text/html": [
       "<div>\n",
       "<style scoped>\n",
       "    .dataframe tbody tr th:only-of-type {\n",
       "        vertical-align: middle;\n",
       "    }\n",
       "\n",
       "    .dataframe tbody tr th {\n",
       "        vertical-align: top;\n",
       "    }\n",
       "\n",
       "    .dataframe thead th {\n",
       "        text-align: right;\n",
       "    }\n",
       "</style>\n",
       "<table border=\"1\" class=\"dataframe\">\n",
       "  <thead>\n",
       "    <tr style=\"text-align: right;\">\n",
       "      <th></th>\n",
       "      <th>Note0</th>\n",
       "      <th>Note1</th>\n",
       "      <th>Note2</th>\n",
       "      <th>Note3</th>\n",
       "      <th>Note4</th>\n",
       "      <th>Note_finale</th>\n",
       "      <th>Notes_details</th>\n",
       "    </tr>\n",
       "  </thead>\n",
       "  <tbody>\n",
       "    <tr>\n",
       "      <th>Victor</th>\n",
       "      <td>13.11803</td>\n",
       "      <td>19.03465</td>\n",
       "      <td>4.63765</td>\n",
       "      <td>3.61112</td>\n",
       "      <td>6.70174</td>\n",
       "      <td>9.42064</td>\n",
       "      <td>(9.420638261058544, 19.034650053120128, 3.6111...</td>\n",
       "    </tr>\n",
       "    <tr>\n",
       "      <th>Léa</th>\n",
       "      <td>6.40983</td>\n",
       "      <td>8.68958</td>\n",
       "      <td>7.54384</td>\n",
       "      <td>12.65795</td>\n",
       "      <td>14.37027</td>\n",
       "      <td>9.93429</td>\n",
       "      <td>(9.934294420877402, 14.370273392765931, 6.4098...</td>\n",
       "    </tr>\n",
       "    <tr>\n",
       "      <th>Agnès</th>\n",
       "      <td>8.64590</td>\n",
       "      <td>8.68958</td>\n",
       "      <td>17.23114</td>\n",
       "      <td>15.12527</td>\n",
       "      <td>6.00460</td>\n",
       "      <td>11.13930</td>\n",
       "      <td>(11.139298273728029, 17.23114374347187, 6.0046...</td>\n",
       "    </tr>\n",
       "    <tr>\n",
       "      <th>Benjamin</th>\n",
       "      <td>20.94427</td>\n",
       "      <td>6.62056</td>\n",
       "      <td>16.26241</td>\n",
       "      <td>18.41503</td>\n",
       "      <td>13.67313</td>\n",
       "      <td>15.18308</td>\n",
       "      <td>(15.183082048029542, 20.94427190999916, 6.6205...</td>\n",
       "    </tr>\n",
       "    <tr>\n",
       "      <th>Mathieu</th>\n",
       "      <td>10.88197</td>\n",
       "      <td>16.96564</td>\n",
       "      <td>14.32495</td>\n",
       "      <td>10.19063</td>\n",
       "      <td>19.25025</td>\n",
       "      <td>14.32269</td>\n",
       "      <td>(14.322686996306485, 19.250248024931086, 10.19...</td>\n",
       "    </tr>\n",
       "  </tbody>\n",
       "</table>\n",
       "</div>"
      ],
      "text/plain": [
       "             Note0     Note1     Note2     Note3     Note4  Note_finale  \\\n",
       "Victor    13.11803  19.03465   4.63765   3.61112   6.70174      9.42064   \n",
       "Léa        6.40983   8.68958   7.54384  12.65795  14.37027      9.93429   \n",
       "Agnès      8.64590   8.68958  17.23114  15.12527   6.00460     11.13930   \n",
       "Benjamin  20.94427   6.62056  16.26241  18.41503  13.67313     15.18308   \n",
       "Mathieu   10.88197  16.96564  14.32495  10.19063  19.25025     14.32269   \n",
       "\n",
       "                                              Notes_details  \n",
       "Victor    (9.420638261058544, 19.034650053120128, 3.6111...  \n",
       "Léa       (9.934294420877402, 14.370273392765931, 6.4098...  \n",
       "Agnès     (11.139298273728029, 17.23114374347187, 6.0046...  \n",
       "Benjamin  (15.183082048029542, 20.94427190999916, 6.6205...  \n",
       "Mathieu   (14.322686996306485, 19.250248024931086, 10.19...  "
      ]
     },
     "execution_count": 254,
     "metadata": {},
     "output_type": "execute_result"
    }
   ],
   "source": [
    "pd.set_option('precision', 5)\n",
    "new_notes['Note_finale'] = new_notes.mean(axis=1)\n",
    "new_notes['Notes_details'] = new_notes.apply(\n",
    "lambda x: (np.mean(x), np.max(x), np.min(x), np.std(x)), axis=1)\n",
    "new_notes"
   ]
  },
  {
   "cell_type": "markdown",
   "metadata": {},
   "source": [
    "Parfois, on a également besoin d'appliquer une même fonction à l'ensemble des données. La méthode utile est alors `applymap`. "
   ]
  },
  {
   "cell_type": "code",
   "execution_count": 255,
   "metadata": {},
   "outputs": [],
   "source": [
    "def seuillage(x):\n",
    "    return x if x > 6 else 6\n",
    "\n",
    "\n",
    "#seuillage(12)"
   ]
  },
  {
   "cell_type": "code",
   "execution_count": 256,
   "metadata": {},
   "outputs": [
    {
     "data": {
      "text/html": [
       "<div>\n",
       "<style scoped>\n",
       "    .dataframe tbody tr th:only-of-type {\n",
       "        vertical-align: middle;\n",
       "    }\n",
       "\n",
       "    .dataframe tbody tr th {\n",
       "        vertical-align: top;\n",
       "    }\n",
       "\n",
       "    .dataframe thead th {\n",
       "        text-align: right;\n",
       "    }\n",
       "</style>\n",
       "<table border=\"1\" class=\"dataframe\">\n",
       "  <thead>\n",
       "    <tr style=\"text-align: right;\">\n",
       "      <th></th>\n",
       "      <th>Note0</th>\n",
       "      <th>Note1</th>\n",
       "      <th>Note2</th>\n",
       "      <th>Note3</th>\n",
       "      <th>Note4</th>\n",
       "    </tr>\n",
       "  </thead>\n",
       "  <tbody>\n",
       "    <tr>\n",
       "      <th>Victor</th>\n",
       "      <td>7</td>\n",
       "      <td>9</td>\n",
       "      <td>5</td>\n",
       "      <td>1</td>\n",
       "      <td>1</td>\n",
       "    </tr>\n",
       "    <tr>\n",
       "      <th>Léa</th>\n",
       "      <td>1</td>\n",
       "      <td>4</td>\n",
       "      <td>8</td>\n",
       "      <td>12</td>\n",
       "      <td>12</td>\n",
       "    </tr>\n",
       "    <tr>\n",
       "      <th>Agnès</th>\n",
       "      <td>3</td>\n",
       "      <td>4</td>\n",
       "      <td>18</td>\n",
       "      <td>15</td>\n",
       "      <td>0</td>\n",
       "    </tr>\n",
       "    <tr>\n",
       "      <th>Benjamin</th>\n",
       "      <td>14</td>\n",
       "      <td>3</td>\n",
       "      <td>17</td>\n",
       "      <td>19</td>\n",
       "      <td>11</td>\n",
       "    </tr>\n",
       "    <tr>\n",
       "      <th>Mathieu</th>\n",
       "      <td>5</td>\n",
       "      <td>8</td>\n",
       "      <td>15</td>\n",
       "      <td>9</td>\n",
       "      <td>19</td>\n",
       "    </tr>\n",
       "  </tbody>\n",
       "</table>\n",
       "</div>"
      ],
      "text/plain": [
       "          Note0  Note1  Note2  Note3  Note4\n",
       "Victor        7      9      5      1      1\n",
       "Léa           1      4      8     12     12\n",
       "Agnès         3      4     18     15      0\n",
       "Benjamin     14      3     17     19     11\n",
       "Mathieu       5      8     15      9     19"
      ]
     },
     "execution_count": 256,
     "metadata": {},
     "output_type": "execute_result"
    }
   ],
   "source": [
    "notes"
   ]
  },
  {
   "cell_type": "code",
   "execution_count": 257,
   "metadata": {},
   "outputs": [
    {
     "data": {
      "text/html": [
       "<div>\n",
       "<style scoped>\n",
       "    .dataframe tbody tr th:only-of-type {\n",
       "        vertical-align: middle;\n",
       "    }\n",
       "\n",
       "    .dataframe tbody tr th {\n",
       "        vertical-align: top;\n",
       "    }\n",
       "\n",
       "    .dataframe thead th {\n",
       "        text-align: right;\n",
       "    }\n",
       "</style>\n",
       "<table border=\"1\" class=\"dataframe\">\n",
       "  <thead>\n",
       "    <tr style=\"text-align: right;\">\n",
       "      <th></th>\n",
       "      <th>Note0</th>\n",
       "      <th>Note1</th>\n",
       "      <th>Note2</th>\n",
       "      <th>Note3</th>\n",
       "      <th>Note4</th>\n",
       "    </tr>\n",
       "  </thead>\n",
       "  <tbody>\n",
       "    <tr>\n",
       "      <th>Victor</th>\n",
       "      <td>7</td>\n",
       "      <td>9</td>\n",
       "      <td>6</td>\n",
       "      <td>6</td>\n",
       "      <td>6</td>\n",
       "    </tr>\n",
       "    <tr>\n",
       "      <th>Léa</th>\n",
       "      <td>6</td>\n",
       "      <td>6</td>\n",
       "      <td>8</td>\n",
       "      <td>12</td>\n",
       "      <td>12</td>\n",
       "    </tr>\n",
       "    <tr>\n",
       "      <th>Agnès</th>\n",
       "      <td>6</td>\n",
       "      <td>6</td>\n",
       "      <td>18</td>\n",
       "      <td>15</td>\n",
       "      <td>6</td>\n",
       "    </tr>\n",
       "    <tr>\n",
       "      <th>Benjamin</th>\n",
       "      <td>14</td>\n",
       "      <td>6</td>\n",
       "      <td>17</td>\n",
       "      <td>19</td>\n",
       "      <td>11</td>\n",
       "    </tr>\n",
       "    <tr>\n",
       "      <th>Mathieu</th>\n",
       "      <td>6</td>\n",
       "      <td>8</td>\n",
       "      <td>15</td>\n",
       "      <td>9</td>\n",
       "      <td>19</td>\n",
       "    </tr>\n",
       "  </tbody>\n",
       "</table>\n",
       "</div>"
      ],
      "text/plain": [
       "          Note0  Note1  Note2  Note3  Note4\n",
       "Victor        7      9      6      6      6\n",
       "Léa           6      6      8     12     12\n",
       "Agnès         6      6     18     15      6\n",
       "Benjamin     14      6     17     19     11\n",
       "Mathieu       6      8     15      9     19"
      ]
     },
     "execution_count": 257,
     "metadata": {},
     "output_type": "execute_result"
    }
   ],
   "source": [
    "notes.applymap(seuillage)"
   ]
  },
  {
   "cell_type": "markdown",
   "metadata": {},
   "source": [
    "Conclusion : no more excel...\n",
    "<img src=\"http://www.proaptivity.com/wp-content/uploads/2011/09/excel.jpg\" height=\"200\" width=\"200\">"
   ]
  },
  {
   "cell_type": "markdown",
   "metadata": {},
   "source": [
    "### Index hiérarchique"
   ]
  },
  {
   "cell_type": "markdown",
   "metadata": {},
   "source": [
    "Il est aussi possible d'intégrer des index à plusiers niveaux, dits index hiérarchiques. Cela permet en fait de traiter sous la forme de dataframes 2D des objets de dimensions supérieures. "
   ]
  },
  {
   "cell_type": "markdown",
   "metadata": {},
   "source": [
    "#### Guido "
   ]
  },
  {
   "cell_type": "markdown",
   "metadata": {},
   "source": [
    "On peut créer un index hiérarchique à partir d'un `pd.MultiIndex.from_product`."
   ]
  },
  {
   "cell_type": "code",
   "execution_count": 258,
   "metadata": {},
   "outputs": [
    {
     "data": {
      "text/html": [
       "<div>\n",
       "<style scoped>\n",
       "    .dataframe tbody tr th:only-of-type {\n",
       "        vertical-align: middle;\n",
       "    }\n",
       "\n",
       "    .dataframe tbody tr th {\n",
       "        vertical-align: top;\n",
       "    }\n",
       "\n",
       "    .dataframe thead tr th {\n",
       "        text-align: left;\n",
       "    }\n",
       "\n",
       "    .dataframe thead tr:last-of-type th {\n",
       "        text-align: right;\n",
       "    }\n",
       "</style>\n",
       "<table border=\"1\" class=\"dataframe\">\n",
       "  <thead>\n",
       "    <tr>\n",
       "      <th></th>\n",
       "      <th>subject</th>\n",
       "      <th colspan=\"2\" halign=\"left\">Bob</th>\n",
       "      <th colspan=\"2\" halign=\"left\">Guido</th>\n",
       "      <th colspan=\"2\" halign=\"left\">Sue</th>\n",
       "    </tr>\n",
       "    <tr>\n",
       "      <th></th>\n",
       "      <th>type</th>\n",
       "      <th>HR</th>\n",
       "      <th>Temp</th>\n",
       "      <th>HR</th>\n",
       "      <th>Temp</th>\n",
       "      <th>HR</th>\n",
       "      <th>Temp</th>\n",
       "    </tr>\n",
       "    <tr>\n",
       "      <th>year</th>\n",
       "      <th>visit</th>\n",
       "      <th></th>\n",
       "      <th></th>\n",
       "      <th></th>\n",
       "      <th></th>\n",
       "      <th></th>\n",
       "      <th></th>\n",
       "    </tr>\n",
       "  </thead>\n",
       "  <tbody>\n",
       "    <tr>\n",
       "      <th rowspan=\"2\" valign=\"top\">2013</th>\n",
       "      <th>1</th>\n",
       "      <td>37.0</td>\n",
       "      <td>36.8</td>\n",
       "      <td>32.0</td>\n",
       "      <td>37.4</td>\n",
       "      <td>32.0</td>\n",
       "      <td>35.1</td>\n",
       "    </tr>\n",
       "    <tr>\n",
       "      <th>2</th>\n",
       "      <td>39.0</td>\n",
       "      <td>35.8</td>\n",
       "      <td>35.0</td>\n",
       "      <td>37.7</td>\n",
       "      <td>37.0</td>\n",
       "      <td>37.5</td>\n",
       "    </tr>\n",
       "    <tr>\n",
       "      <th rowspan=\"2\" valign=\"top\">2014</th>\n",
       "      <th>1</th>\n",
       "      <td>48.0</td>\n",
       "      <td>36.8</td>\n",
       "      <td>45.0</td>\n",
       "      <td>36.5</td>\n",
       "      <td>26.0</td>\n",
       "      <td>38.0</td>\n",
       "    </tr>\n",
       "    <tr>\n",
       "      <th>2</th>\n",
       "      <td>48.0</td>\n",
       "      <td>37.0</td>\n",
       "      <td>29.0</td>\n",
       "      <td>35.9</td>\n",
       "      <td>49.0</td>\n",
       "      <td>37.7</td>\n",
       "    </tr>\n",
       "  </tbody>\n",
       "</table>\n",
       "</div>"
      ],
      "text/plain": [
       "subject      Bob       Guido         Sue      \n",
       "type          HR  Temp    HR  Temp    HR  Temp\n",
       "year visit                                    \n",
       "2013 1      37.0  36.8  32.0  37.4  32.0  35.1\n",
       "     2      39.0  35.8  35.0  37.7  37.0  37.5\n",
       "2014 1      48.0  36.8  45.0  36.5  26.0  38.0\n",
       "     2      48.0  37.0  29.0  35.9  49.0  37.7"
      ]
     },
     "execution_count": 258,
     "metadata": {},
     "output_type": "execute_result"
    }
   ],
   "source": [
    "# From \"Python data Science Handbook\"\n",
    "# hierarchical indices and columns\n",
    "index = pd.MultiIndex.from_product(\n",
    "    [[2013, 2014], [1, 2]], names=['year', 'visit'])\n",
    "#\n",
    "columns = pd.MultiIndex.from_product(\n",
    "    [['Bob', 'Guido', 'Sue'], ['HR', 'Temp']], names=['subject', 'type'])\n",
    "# mock some data\n",
    "data = np.round(np.random.randn(4, 6), 1)\n",
    "data[:, ::2] *= 10\n",
    "data += 37\n",
    "# create the dataframe\n",
    "health_data = pd.DataFrame(data, index=index, columns=columns)\n",
    "health_data"
   ]
  },
  {
   "cell_type": "code",
   "execution_count": 259,
   "metadata": {},
   "outputs": [
    {
     "data": {
      "text/html": [
       "<div>\n",
       "<style scoped>\n",
       "    .dataframe tbody tr th:only-of-type {\n",
       "        vertical-align: middle;\n",
       "    }\n",
       "\n",
       "    .dataframe tbody tr th {\n",
       "        vertical-align: top;\n",
       "    }\n",
       "\n",
       "    .dataframe thead th {\n",
       "        text-align: right;\n",
       "    }\n",
       "</style>\n",
       "<table border=\"1\" class=\"dataframe\">\n",
       "  <thead>\n",
       "    <tr style=\"text-align: right;\">\n",
       "      <th></th>\n",
       "      <th>type</th>\n",
       "      <th>HR</th>\n",
       "      <th>Temp</th>\n",
       "    </tr>\n",
       "    <tr>\n",
       "      <th>year</th>\n",
       "      <th>visit</th>\n",
       "      <th></th>\n",
       "      <th></th>\n",
       "    </tr>\n",
       "  </thead>\n",
       "  <tbody>\n",
       "    <tr>\n",
       "      <th rowspan=\"2\" valign=\"top\">2013</th>\n",
       "      <th>1</th>\n",
       "      <td>32.0</td>\n",
       "      <td>37.4</td>\n",
       "    </tr>\n",
       "    <tr>\n",
       "      <th>2</th>\n",
       "      <td>35.0</td>\n",
       "      <td>37.7</td>\n",
       "    </tr>\n",
       "    <tr>\n",
       "      <th rowspan=\"2\" valign=\"top\">2014</th>\n",
       "      <th>1</th>\n",
       "      <td>45.0</td>\n",
       "      <td>36.5</td>\n",
       "    </tr>\n",
       "    <tr>\n",
       "      <th>2</th>\n",
       "      <td>29.0</td>\n",
       "      <td>35.9</td>\n",
       "    </tr>\n",
       "  </tbody>\n",
       "</table>\n",
       "</div>"
      ],
      "text/plain": [
       "type          HR  Temp\n",
       "year visit            \n",
       "2013 1      32.0  37.4\n",
       "     2      35.0  37.7\n",
       "2014 1      45.0  36.5\n",
       "     2      29.0  35.9"
      ]
     },
     "execution_count": 259,
     "metadata": {},
     "output_type": "execute_result"
    }
   ],
   "source": [
    "health_data['Guido']"
   ]
  },
  {
   "cell_type": "markdown",
   "metadata": {},
   "source": [
    "On peut alors accéder aux données de manière hiérarchique"
   ]
  },
  {
   "cell_type": "code",
   "execution_count": 260,
   "metadata": {},
   "outputs": [
    {
     "data": {
      "text/html": [
       "<div>\n",
       "<style scoped>\n",
       "    .dataframe tbody tr th:only-of-type {\n",
       "        vertical-align: middle;\n",
       "    }\n",
       "\n",
       "    .dataframe tbody tr th {\n",
       "        vertical-align: top;\n",
       "    }\n",
       "\n",
       "    .dataframe thead th {\n",
       "        text-align: right;\n",
       "    }\n",
       "</style>\n",
       "<table border=\"1\" class=\"dataframe\">\n",
       "  <thead>\n",
       "    <tr style=\"text-align: right;\">\n",
       "      <th>type</th>\n",
       "      <th>HR</th>\n",
       "      <th>Temp</th>\n",
       "    </tr>\n",
       "    <tr>\n",
       "      <th>visit</th>\n",
       "      <th></th>\n",
       "      <th></th>\n",
       "    </tr>\n",
       "  </thead>\n",
       "  <tbody>\n",
       "    <tr>\n",
       "      <th>1</th>\n",
       "      <td>45.0</td>\n",
       "      <td>36.5</td>\n",
       "    </tr>\n",
       "    <tr>\n",
       "      <th>2</th>\n",
       "      <td>29.0</td>\n",
       "      <td>35.9</td>\n",
       "    </tr>\n",
       "  </tbody>\n",
       "</table>\n",
       "</div>"
      ],
      "text/plain": [
       "type     HR  Temp\n",
       "visit            \n",
       "1      45.0  36.5\n",
       "2      29.0  35.9"
      ]
     },
     "execution_count": 260,
     "metadata": {},
     "output_type": "execute_result"
    }
   ],
   "source": [
    "health_data.loc[2014, 'Guido']"
   ]
  },
  {
   "cell_type": "code",
   "execution_count": 261,
   "metadata": {},
   "outputs": [
    {
     "data": {
      "text/plain": [
       "29.0"
      ]
     },
     "execution_count": 261,
     "metadata": {},
     "output_type": "execute_result"
    }
   ],
   "source": [
    "health_data.loc[2014, 'Guido'].loc[2, 'HR']"
   ]
  },
  {
   "cell_type": "code",
   "execution_count": null,
   "metadata": {},
   "outputs": [],
   "source": []
  },
  {
   "cell_type": "code",
   "execution_count": 262,
   "metadata": {},
   "outputs": [
    {
     "data": {
      "text/html": [
       "<div>\n",
       "<style scoped>\n",
       "    .dataframe tbody tr th:only-of-type {\n",
       "        vertical-align: middle;\n",
       "    }\n",
       "\n",
       "    .dataframe tbody tr th {\n",
       "        vertical-align: top;\n",
       "    }\n",
       "\n",
       "    .dataframe thead tr th {\n",
       "        text-align: left;\n",
       "    }\n",
       "\n",
       "    .dataframe thead tr:last-of-type th {\n",
       "        text-align: right;\n",
       "    }\n",
       "</style>\n",
       "<table border=\"1\" class=\"dataframe\">\n",
       "  <thead>\n",
       "    <tr>\n",
       "      <th>subject</th>\n",
       "      <th colspan=\"4\" halign=\"left\">Bob</th>\n",
       "      <th colspan=\"4\" halign=\"left\">Guido</th>\n",
       "      <th colspan=\"4\" halign=\"left\">Sue</th>\n",
       "    </tr>\n",
       "    <tr>\n",
       "      <th>type</th>\n",
       "      <th colspan=\"2\" halign=\"left\">HR</th>\n",
       "      <th colspan=\"2\" halign=\"left\">Temp</th>\n",
       "      <th colspan=\"2\" halign=\"left\">HR</th>\n",
       "      <th colspan=\"2\" halign=\"left\">Temp</th>\n",
       "      <th colspan=\"2\" halign=\"left\">HR</th>\n",
       "      <th colspan=\"2\" halign=\"left\">Temp</th>\n",
       "    </tr>\n",
       "    <tr>\n",
       "      <th>visit</th>\n",
       "      <th>1</th>\n",
       "      <th>2</th>\n",
       "      <th>1</th>\n",
       "      <th>2</th>\n",
       "      <th>1</th>\n",
       "      <th>2</th>\n",
       "      <th>1</th>\n",
       "      <th>2</th>\n",
       "      <th>1</th>\n",
       "      <th>2</th>\n",
       "      <th>1</th>\n",
       "      <th>2</th>\n",
       "    </tr>\n",
       "    <tr>\n",
       "      <th>year</th>\n",
       "      <th></th>\n",
       "      <th></th>\n",
       "      <th></th>\n",
       "      <th></th>\n",
       "      <th></th>\n",
       "      <th></th>\n",
       "      <th></th>\n",
       "      <th></th>\n",
       "      <th></th>\n",
       "      <th></th>\n",
       "      <th></th>\n",
       "      <th></th>\n",
       "    </tr>\n",
       "  </thead>\n",
       "  <tbody>\n",
       "    <tr>\n",
       "      <th>2013</th>\n",
       "      <td>37.0</td>\n",
       "      <td>39.0</td>\n",
       "      <td>36.8</td>\n",
       "      <td>35.8</td>\n",
       "      <td>32.0</td>\n",
       "      <td>35.0</td>\n",
       "      <td>37.4</td>\n",
       "      <td>37.7</td>\n",
       "      <td>32.0</td>\n",
       "      <td>37.0</td>\n",
       "      <td>35.1</td>\n",
       "      <td>37.5</td>\n",
       "    </tr>\n",
       "    <tr>\n",
       "      <th>2014</th>\n",
       "      <td>48.0</td>\n",
       "      <td>48.0</td>\n",
       "      <td>36.8</td>\n",
       "      <td>37.0</td>\n",
       "      <td>45.0</td>\n",
       "      <td>29.0</td>\n",
       "      <td>36.5</td>\n",
       "      <td>35.9</td>\n",
       "      <td>26.0</td>\n",
       "      <td>49.0</td>\n",
       "      <td>38.0</td>\n",
       "      <td>37.7</td>\n",
       "    </tr>\n",
       "  </tbody>\n",
       "</table>\n",
       "</div>"
      ],
      "text/plain": [
       "subject   Bob                   Guido                     Sue              \\\n",
       "type       HR        Temp          HR        Temp          HR        Temp   \n",
       "visit       1     2     1     2     1     2     1     2     1     2     1   \n",
       "year                                                                        \n",
       "2013     37.0  39.0  36.8  35.8  32.0  35.0  37.4  37.7  32.0  37.0  35.1   \n",
       "2014     48.0  48.0  36.8  37.0  45.0  29.0  36.5  35.9  26.0  49.0  38.0   \n",
       "\n",
       "subject        \n",
       "type           \n",
       "visit       2  \n",
       "year           \n",
       "2013     37.5  \n",
       "2014     37.7  "
      ]
     },
     "execution_count": 262,
     "metadata": {},
     "output_type": "execute_result"
    }
   ],
   "source": [
    "health_data.unstack()"
   ]
  },
  {
   "cell_type": "code",
   "execution_count": null,
   "metadata": {},
   "outputs": [],
   "source": [
    "health_data.reset_index()"
   ]
  },
  {
   "cell_type": "markdown",
   "metadata": {},
   "source": [
    "#### Population"
   ]
  },
  {
   "cell_type": "code",
   "execution_count": 263,
   "metadata": {},
   "outputs": [
    {
     "data": {
      "text/html": [
       "<b style=\"color:blue\"> pop_small </b>"
      ],
      "text/plain": [
       "<IPython.core.display.HTML object>"
      ]
     },
     "metadata": {},
     "output_type": "display_data"
    },
    {
     "name": "stdout",
     "output_type": "stream",
     "text": [
      "                        2010       2011     2012\n",
      "Nord               2576770.0  2579208.0  2587128\n",
      "Paris              2243833.0  2249975.0  2240621\n",
      "Bouches-du-Rhône   1972018.0  1975896.0  1984784\n",
      "Hauts-de-Seine     1572490.0  1581628.0  1586434\n",
      "Seine-Saint-Denis  1522048.0  1529928.0  1538726\n"
     ]
    },
    {
     "data": {
      "text/html": [
       "<b style=\"color:blue\"> pop_small.stack() </b>"
      ],
      "text/plain": [
       "<IPython.core.display.HTML object>"
      ]
     },
     "metadata": {},
     "output_type": "display_data"
    },
    {
     "name": "stdout",
     "output_type": "stream",
     "text": [
      "Nord               2010    2576770.0\n",
      "                   2011    2579208.0\n",
      "                   2012    2587128.0\n",
      "Paris              2010    2243833.0\n",
      "                   2011    2249975.0\n",
      "                   2012    2240621.0\n",
      "Bouches-du-Rhône   2010    1972018.0\n",
      "                   2011    1975896.0\n",
      "                   2012    1984784.0\n",
      "Hauts-de-Seine     2010    1572490.0\n",
      "                   2011    1581628.0\n",
      "                   2012    1586434.0\n",
      "Seine-Saint-Denis  2010    1522048.0\n",
      "                   2011    1529928.0\n",
      "                   2012    1538726.0\n",
      "dtype: float64\n"
     ]
    }
   ],
   "source": [
    "pop_small = pop.loc[:'Seine-Saint-Denis', 2010:2012]\n",
    "disp(\"pop_small\")\n",
    "pops = pop_small.stack()\n",
    "pops.name = \"Population\"\n",
    "disp(\"pop_small.stack()\")"
   ]
  },
  {
   "cell_type": "markdown",
   "metadata": {},
   "source": [
    "On a donc maintenant un double index :"
   ]
  },
  {
   "cell_type": "code",
   "execution_count": 264,
   "metadata": {},
   "outputs": [
    {
     "data": {
      "text/plain": [
       "2579208.0"
      ]
     },
     "execution_count": 264,
     "metadata": {},
     "output_type": "execute_result"
    }
   ],
   "source": [
    "pops['Nord'][2011]"
   ]
  },
  {
   "cell_type": "code",
   "execution_count": 265,
   "metadata": {},
   "outputs": [
    {
     "data": {
      "text/plain": [
       "Nord                 5743\n",
       "Paris                 105\n",
       "Bouches-du-Rhône     5087\n",
       "Hauts-de-Seine        176\n",
       "Seine-Saint-Denis     236\n",
       "Name: Superficie, dtype: int64"
      ]
     },
     "execution_count": 265,
     "metadata": {},
     "output_type": "execute_result"
    }
   ],
   "source": [
    "sup_small = sup[:'Seine-Saint-Denis']\n",
    "sup_small"
   ]
  },
  {
   "cell_type": "code",
   "execution_count": 266,
   "metadata": {},
   "outputs": [
    {
     "data": {
      "text/html": [
       "<div>\n",
       "<style scoped>\n",
       "    .dataframe tbody tr th:only-of-type {\n",
       "        vertical-align: middle;\n",
       "    }\n",
       "\n",
       "    .dataframe tbody tr th {\n",
       "        vertical-align: top;\n",
       "    }\n",
       "\n",
       "    .dataframe thead th {\n",
       "        text-align: right;\n",
       "    }\n",
       "</style>\n",
       "<table border=\"1\" class=\"dataframe\">\n",
       "  <thead>\n",
       "    <tr style=\"text-align: right;\">\n",
       "      <th></th>\n",
       "      <th>2010</th>\n",
       "      <th>2011</th>\n",
       "      <th>2012</th>\n",
       "    </tr>\n",
       "  </thead>\n",
       "  <tbody>\n",
       "    <tr>\n",
       "      <th>Nord</th>\n",
       "      <td>448.68013</td>\n",
       "      <td>449.10465</td>\n",
       "      <td>450.48372</td>\n",
       "    </tr>\n",
       "    <tr>\n",
       "      <th>Paris</th>\n",
       "      <td>21369.83810</td>\n",
       "      <td>21428.33333</td>\n",
       "      <td>21339.24762</td>\n",
       "    </tr>\n",
       "    <tr>\n",
       "      <th>Bouches-du-Rhône</th>\n",
       "      <td>387.65834</td>\n",
       "      <td>388.42068</td>\n",
       "      <td>390.16788</td>\n",
       "    </tr>\n",
       "    <tr>\n",
       "      <th>Hauts-de-Seine</th>\n",
       "      <td>8934.60227</td>\n",
       "      <td>8986.52273</td>\n",
       "      <td>9013.82955</td>\n",
       "    </tr>\n",
       "    <tr>\n",
       "      <th>Seine-Saint-Denis</th>\n",
       "      <td>6449.35593</td>\n",
       "      <td>6482.74576</td>\n",
       "      <td>6520.02542</td>\n",
       "    </tr>\n",
       "  </tbody>\n",
       "</table>\n",
       "</div>"
      ],
      "text/plain": [
       "                          2010         2011         2012\n",
       "Nord                 448.68013    449.10465    450.48372\n",
       "Paris              21369.83810  21428.33333  21339.24762\n",
       "Bouches-du-Rhône     387.65834    388.42068    390.16788\n",
       "Hauts-de-Seine      8934.60227   8986.52273   9013.82955\n",
       "Seine-Saint-Denis   6449.35593   6482.74576   6520.02542"
      ]
     },
     "execution_count": 266,
     "metadata": {},
     "output_type": "execute_result"
    }
   ],
   "source": [
    "densites = pop_small.apply(lambda x: x / sup_small)\n",
    "densites"
   ]
  },
  {
   "cell_type": "code",
   "execution_count": null,
   "metadata": {},
   "outputs": [],
   "source": [
    "newtab = pd.DataFrame({\"Population\": pops, \"Densité\": densites.stack()})\n",
    "newtab"
   ]
  },
  {
   "cell_type": "code",
   "execution_count": null,
   "metadata": {},
   "outputs": [],
   "source": [
    "newtab.index"
   ]
  },
  {
   "cell_type": "code",
   "execution_count": null,
   "metadata": {},
   "outputs": [],
   "source": [
    "newtab.unstack()"
   ]
  },
  {
   "cell_type": "markdown",
   "metadata": {},
   "source": [
    "### Données manquantes"
   ]
  },
  {
   "cell_type": "markdown",
   "metadata": {},
   "source": [
    "Assigning a column that doesn’t exist will create a new column.  If you assign a Series, it will be instead conformed exactly to the\n",
    "DataFrame’s index, inserting missing values in any holes:"
   ]
  },
  {
   "cell_type": "markdown",
   "metadata": {},
   "source": [
    "On insère une colonne dans la DF, mais aligne avec l'index de la DF \n",
    " (la ligne 'Inconnu' n'est pas ajoutée)"
   ]
  },
  {
   "cell_type": "code",
   "execution_count": 267,
   "metadata": {},
   "outputs": [
    {
     "data": {
      "text/html": [
       "<b style=\"color:blue\"> new_index[:5] </b>"
      ],
      "text/plain": [
       "<IPython.core.display.HTML object>"
      ]
     },
     "metadata": {},
     "output_type": "display_data"
    },
    {
     "name": "stdout",
     "output_type": "stream",
     "text": [
      "Index(['Nord', 'Paris', 'Inconnu', 'Bouches-du-Rhône', 'Hauts-de-Seine'], dtype='object')\n"
     ]
    },
    {
     "data": {
      "text/html": [
       "<b style=\"color:blue\"> pop.head() </b>"
      ],
      "text/plain": [
       "<IPython.core.display.HTML object>"
      ]
     },
     "metadata": {},
     "output_type": "display_data"
    },
    {
     "name": "stdout",
     "output_type": "stream",
     "text": [
      "                        1931     1999     2008       2010       2011     2012  \\\n",
      "Nord               2029449.0  2555020  2564959  2576770.0  2579208.0  2587128   \n",
      "Paris              2891020.0  2125246  2211297  2243833.0  2249975.0  2240621   \n",
      "Bouches-du-Rhône   1101672.0  1835719  1966005  1972018.0  1975896.0  1984784   \n",
      "Hauts-de-Seine      949231.0  1428881  1549619  1572490.0  1581628.0  1586434   \n",
      "Seine-Saint-Denis   769315.0  1382861  1506466  1522048.0  1529928.0  1538726   \n",
      "\n",
      "                   newcol  \n",
      "Nord                 3899  \n",
      "Paris                4384  \n",
      "Bouches-du-Rhône     7803  \n",
      "Hauts-de-Seine       4692  \n",
      "Seine-Saint-Denis    2693  \n"
     ]
    }
   ],
   "source": [
    "new_index = pop.index.insert(2, 'Inconnu')\n",
    "disp(\"new_index[:5]\")\n",
    "val = pd.Series(\n",
    "    np.random.randint(\n",
    "        2000, 10000, size=new_index.size), index=new_index)\n",
    "# insère une colonne dans la DF, mais aligne avec l'index de la DF \n",
    "# (la ligne 'Inconnu' n'est pas ajoutée)\n",
    "pop['newcol'] = val\n",
    "disp(\"pop.head()\")"
   ]
  },
  {
   "cell_type": "markdown",
   "metadata": {},
   "source": [
    "Insère une colonne dans la DF, mais dont l'index est partiel. Des NaN sont alors insérés au niveau des lignes manquantes\n"
   ]
  },
  {
   "cell_type": "code",
   "execution_count": 268,
   "metadata": {},
   "outputs": [
    {
     "data": {
      "text/html": [
       "<b style=\"color:blue\"> new_index[:5] </b>"
      ],
      "text/plain": [
       "<IPython.core.display.HTML object>"
      ]
     },
     "metadata": {},
     "output_type": "display_data"
    },
    {
     "name": "stdout",
     "output_type": "stream",
     "text": [
      "['Ille-et-Vilaine' 'Aube' 'Haute-Savoie' 'Pyrénées-Atlantiques'\n",
      " 'Pas-de-Calais']\n"
     ]
    },
    {
     "data": {
      "text/html": [
       "<b style=\"color:blue\"> pop.head() </b>"
      ],
      "text/plain": [
       "<IPython.core.display.HTML object>"
      ]
     },
     "metadata": {},
     "output_type": "display_data"
    },
    {
     "name": "stdout",
     "output_type": "stream",
     "text": [
      "                        1931     1999     2008       2010       2011     2012  \\\n",
      "Nord               2029449.0  2555020  2564959  2576770.0  2579208.0  2587128   \n",
      "Paris              2891020.0  2125246  2211297  2243833.0  2249975.0  2240621   \n",
      "Bouches-du-Rhône   1101672.0  1835719  1966005  1972018.0  1975896.0  1984784   \n",
      "Hauts-de-Seine      949231.0  1428881  1549619  1572490.0  1581628.0  1586434   \n",
      "Seine-Saint-Denis   769315.0  1382861  1506466  1522048.0  1529928.0  1538726   \n",
      "\n",
      "                   newcol  \n",
      "Nord                  NaN  \n",
      "Paris              6223.0  \n",
      "Bouches-du-Rhône      NaN  \n",
      "Hauts-de-Seine        NaN  \n",
      "Seine-Saint-Denis  9498.0  \n"
     ]
    }
   ],
   "source": [
    "new_index = np.random.choice(pop.index, replace=False, size=42)\n",
    "disp(\"new_index[:5]\")\n",
    "val = pd.Series(\n",
    "    np.random.randint(\n",
    "        2000, 10000, size=new_index.size), index=new_index)\n",
    "\n",
    "pop['newcol'] = val\n",
    "disp(\"pop.head()\")"
   ]
  },
  {
   "cell_type": "markdown",
   "metadata": {},
   "source": [
    "Puisqu'on en est là, regardons ce qu'il est possible de faire avec des données manquantes."
   ]
  },
  {
   "cell_type": "code",
   "execution_count": 269,
   "metadata": {},
   "outputs": [
    {
     "data": {
      "text/html": [
       "<div>\n",
       "<style scoped>\n",
       "    .dataframe tbody tr th:only-of-type {\n",
       "        vertical-align: middle;\n",
       "    }\n",
       "\n",
       "    .dataframe tbody tr th {\n",
       "        vertical-align: top;\n",
       "    }\n",
       "\n",
       "    .dataframe thead th {\n",
       "        text-align: right;\n",
       "    }\n",
       "</style>\n",
       "<table border=\"1\" class=\"dataframe\">\n",
       "  <thead>\n",
       "    <tr style=\"text-align: right;\">\n",
       "      <th></th>\n",
       "      <th>col_0</th>\n",
       "      <th>col_1</th>\n",
       "      <th>col_2</th>\n",
       "      <th>col_3</th>\n",
       "      <th>col_4</th>\n",
       "      <th>col_5</th>\n",
       "    </tr>\n",
       "  </thead>\n",
       "  <tbody>\n",
       "    <tr>\n",
       "      <th>a</th>\n",
       "      <td>0.35119</td>\n",
       "      <td>NaN</td>\n",
       "      <td>0.57864</td>\n",
       "      <td>0.04534</td>\n",
       "      <td>0.51978</td>\n",
       "      <td>0.06774</td>\n",
       "    </tr>\n",
       "    <tr>\n",
       "      <th>b</th>\n",
       "      <td>0.68134</td>\n",
       "      <td>NaN</td>\n",
       "      <td>0.29944</td>\n",
       "      <td>0.58426</td>\n",
       "      <td>0.70286</td>\n",
       "      <td>0.53293</td>\n",
       "    </tr>\n",
       "    <tr>\n",
       "      <th>c</th>\n",
       "      <td>0.83351</td>\n",
       "      <td>0.82351</td>\n",
       "      <td>NaN</td>\n",
       "      <td>0.36901</td>\n",
       "      <td>0.29531</td>\n",
       "      <td>NaN</td>\n",
       "    </tr>\n",
       "    <tr>\n",
       "      <th>d</th>\n",
       "      <td>NaN</td>\n",
       "      <td>0.50385</td>\n",
       "      <td>0.74035</td>\n",
       "      <td>0.11659</td>\n",
       "      <td>0.06570</td>\n",
       "      <td>0.09809</td>\n",
       "    </tr>\n",
       "  </tbody>\n",
       "</table>\n",
       "</div>"
      ],
      "text/plain": [
       "     col_0    col_1    col_2    col_3    col_4    col_5\n",
       "a  0.35119      NaN  0.57864  0.04534  0.51978  0.06774\n",
       "b  0.68134      NaN  0.29944  0.58426  0.70286  0.53293\n",
       "c  0.83351  0.82351      NaN  0.36901  0.29531      NaN\n",
       "d      NaN  0.50385  0.74035  0.11659  0.06570  0.09809"
      ]
     },
     "execution_count": 269,
     "metadata": {},
     "output_type": "execute_result"
    }
   ],
   "source": [
    "def addNans(df, nbNans):\n",
    "    # Randomly adds (less than) nbNans nans in df\n",
    "    nx, ny = df.shape\n",
    "    df2 = df.copy()\n",
    "    for k in range(nbNans):\n",
    "        df2.iloc[np.random.randint(\n",
    "            0, high=nx, size=1), np.random.randint(\n",
    "                0, high=ny, size=1)] = np.nan\n",
    "    return df2\n",
    "\n",
    "\n",
    "a = random_df(size=(4, 6))\n",
    "z = addNans(a, 5)\n",
    "z"
   ]
  },
  {
   "cell_type": "markdown",
   "metadata": {},
   "source": [
    "On dispose tout simplement d'une méthode `fillna`  pour remplacer les NA"
   ]
  },
  {
   "cell_type": "code",
   "execution_count": null,
   "metadata": {},
   "outputs": [],
   "source": [
    "z.fillna(z.mean())"
   ]
  },
  {
   "cell_type": "markdown",
   "metadata": {},
   "source": [
    "Attention, le `fillna` ne travaille que sur les colonnes (pas sur les lignes) ; transposer si nécessaire"
   ]
  },
  {
   "cell_type": "markdown",
   "metadata": {},
   "source": [
    "Il est possible de faire un peu mieux : on peut recopier les valeurs précédentes ou suivantes, remplacer par une valeur donnée (c'est l'exemple ci-dessus)."
   ]
  },
  {
   "cell_type": "code",
   "execution_count": null,
   "metadata": {},
   "outputs": [],
   "source": [
    "# fill par valeur précédente ffill / suivante bfill\n",
    "disp(\"z\")\n",
    "disp(\"z.fillna(method='ffill')\")"
   ]
  },
  {
   "cell_type": "markdown",
   "metadata": {},
   "source": [
    "On peut encore remplacer les NAs par les valeurs d'une Series ou d'un dictionnaire (aligné sur les index). Le cas d'utilisation typique est celui ou on veut remplacer les NAs par une fonction de la ligne ou de la colonne. "
   ]
  },
  {
   "cell_type": "code",
   "execution_count": null,
   "metadata": {},
   "outputs": [],
   "source": [
    "disp(\"z\")\n",
    "disp(\"z.fillna(z.median(),axis=0)\")"
   ]
  },
  {
   "cell_type": "markdown",
   "metadata": {},
   "source": [
    "L'autre solution, c'est de supprimer les colonnes ou lignes avec des données manquantes ; méthode `dropna`"
   ]
  },
  {
   "cell_type": "code",
   "execution_count": null,
   "metadata": {},
   "outputs": [],
   "source": [
    "z"
   ]
  },
  {
   "cell_type": "code",
   "execution_count": null,
   "metadata": {},
   "outputs": [],
   "source": [
    "z.dropna(axis=0)"
   ]
  },
  {
   "cell_type": "code",
   "execution_count": null,
   "metadata": {},
   "outputs": [],
   "source": [
    "z.dropna(axis=1)"
   ]
  },
  {
   "cell_type": "markdown",
   "metadata": {},
   "source": [
    "On dispose également de fonctions de masque pour récupérer un tableau booléen indiquant la présence de NA "
   ]
  },
  {
   "cell_type": "code",
   "execution_count": null,
   "metadata": {},
   "outputs": [],
   "source": [
    "z.isnull()"
   ]
  },
  {
   "cell_type": "markdown",
   "metadata": {},
   "source": [
    "### Concaténer, joindre, etc"
   ]
  },
  {
   "cell_type": "markdown",
   "metadata": {},
   "source": [
    "Pour concaténer, eh bien, on a la méthode concat"
   ]
  },
  {
   "cell_type": "code",
   "execution_count": 270,
   "metadata": {},
   "outputs": [],
   "source": [
    "df1 = random_df((5, 4))\n",
    "df2 = random_df((5, 4))"
   ]
  },
  {
   "cell_type": "code",
   "execution_count": 271,
   "metadata": {},
   "outputs": [
    {
     "data": {
      "text/html": [
       "<div>\n",
       "<style scoped>\n",
       "    .dataframe tbody tr th:only-of-type {\n",
       "        vertical-align: middle;\n",
       "    }\n",
       "\n",
       "    .dataframe tbody tr th {\n",
       "        vertical-align: top;\n",
       "    }\n",
       "\n",
       "    .dataframe thead th {\n",
       "        text-align: right;\n",
       "    }\n",
       "</style>\n",
       "<table border=\"1\" class=\"dataframe\">\n",
       "  <thead>\n",
       "    <tr style=\"text-align: right;\">\n",
       "      <th></th>\n",
       "      <th>col_0</th>\n",
       "      <th>col_1</th>\n",
       "      <th>col_2</th>\n",
       "      <th>col_3</th>\n",
       "      <th>col_0</th>\n",
       "      <th>col_1</th>\n",
       "      <th>col_2</th>\n",
       "      <th>col_3</th>\n",
       "    </tr>\n",
       "  </thead>\n",
       "  <tbody>\n",
       "    <tr>\n",
       "      <th>a</th>\n",
       "      <td>0.28546</td>\n",
       "      <td>0.59539</td>\n",
       "      <td>0.95597</td>\n",
       "      <td>0.31318</td>\n",
       "      <td>0.33081</td>\n",
       "      <td>0.32973</td>\n",
       "      <td>0.01297</td>\n",
       "      <td>0.74668</td>\n",
       "    </tr>\n",
       "    <tr>\n",
       "      <th>b</th>\n",
       "      <td>0.03348</td>\n",
       "      <td>0.85980</td>\n",
       "      <td>0.59014</td>\n",
       "      <td>0.58169</td>\n",
       "      <td>0.97714</td>\n",
       "      <td>0.37999</td>\n",
       "      <td>0.00713</td>\n",
       "      <td>0.86360</td>\n",
       "    </tr>\n",
       "    <tr>\n",
       "      <th>c</th>\n",
       "      <td>0.84791</td>\n",
       "      <td>0.10431</td>\n",
       "      <td>0.53059</td>\n",
       "      <td>0.92631</td>\n",
       "      <td>0.86803</td>\n",
       "      <td>0.11086</td>\n",
       "      <td>0.03874</td>\n",
       "      <td>0.87435</td>\n",
       "    </tr>\n",
       "    <tr>\n",
       "      <th>d</th>\n",
       "      <td>0.14064</td>\n",
       "      <td>0.72148</td>\n",
       "      <td>0.94877</td>\n",
       "      <td>0.98428</td>\n",
       "      <td>0.54752</td>\n",
       "      <td>0.67105</td>\n",
       "      <td>0.87402</td>\n",
       "      <td>0.59015</td>\n",
       "    </tr>\n",
       "    <tr>\n",
       "      <th>e</th>\n",
       "      <td>0.89097</td>\n",
       "      <td>0.01315</td>\n",
       "      <td>0.92408</td>\n",
       "      <td>0.66525</td>\n",
       "      <td>0.74368</td>\n",
       "      <td>0.27053</td>\n",
       "      <td>0.12943</td>\n",
       "      <td>0.57055</td>\n",
       "    </tr>\n",
       "  </tbody>\n",
       "</table>\n",
       "</div>"
      ],
      "text/plain": [
       "     col_0    col_1    col_2    col_3    col_0    col_1    col_2    col_3\n",
       "a  0.28546  0.59539  0.95597  0.31318  0.33081  0.32973  0.01297  0.74668\n",
       "b  0.03348  0.85980  0.59014  0.58169  0.97714  0.37999  0.00713  0.86360\n",
       "c  0.84791  0.10431  0.53059  0.92631  0.86803  0.11086  0.03874  0.87435\n",
       "d  0.14064  0.72148  0.94877  0.98428  0.54752  0.67105  0.87402  0.59015\n",
       "e  0.89097  0.01315  0.92408  0.66525  0.74368  0.27053  0.12943  0.57055"
      ]
     },
     "execution_count": 271,
     "metadata": {},
     "output_type": "execute_result"
    }
   ],
   "source": [
    "pd.concat((df1, df2), axis=1)  # selon l'axe 1"
   ]
  },
  {
   "cell_type": "markdown",
   "metadata": {},
   "source": [
    "Les index ne sont pas nécessairement alignés. "
   ]
  },
  {
   "cell_type": "code",
   "execution_count": 272,
   "metadata": {},
   "outputs": [
    {
     "data": {
      "text/html": [
       "<div>\n",
       "<style scoped>\n",
       "    .dataframe tbody tr th:only-of-type {\n",
       "        vertical-align: middle;\n",
       "    }\n",
       "\n",
       "    .dataframe tbody tr th {\n",
       "        vertical-align: top;\n",
       "    }\n",
       "\n",
       "    .dataframe thead th {\n",
       "        text-align: right;\n",
       "    }\n",
       "</style>\n",
       "<table border=\"1\" class=\"dataframe\">\n",
       "  <thead>\n",
       "    <tr style=\"text-align: right;\">\n",
       "      <th></th>\n",
       "      <th>col_0</th>\n",
       "      <th>col_1</th>\n",
       "      <th>col_2</th>\n",
       "      <th>col_3</th>\n",
       "    </tr>\n",
       "  </thead>\n",
       "  <tbody>\n",
       "    <tr>\n",
       "      <th>x</th>\n",
       "      <td>0.66836</td>\n",
       "      <td>0.67131</td>\n",
       "      <td>0.06630</td>\n",
       "      <td>0.02023</td>\n",
       "    </tr>\n",
       "    <tr>\n",
       "      <th>b</th>\n",
       "      <td>0.91940</td>\n",
       "      <td>0.09031</td>\n",
       "      <td>0.50433</td>\n",
       "      <td>0.26830</td>\n",
       "    </tr>\n",
       "    <tr>\n",
       "      <th>c</th>\n",
       "      <td>0.10899</td>\n",
       "      <td>0.42085</td>\n",
       "      <td>0.74382</td>\n",
       "      <td>0.88407</td>\n",
       "    </tr>\n",
       "    <tr>\n",
       "      <th>y</th>\n",
       "      <td>0.08073</td>\n",
       "      <td>0.32315</td>\n",
       "      <td>0.54447</td>\n",
       "      <td>0.72251</td>\n",
       "    </tr>\n",
       "    <tr>\n",
       "      <th>e</th>\n",
       "      <td>0.02469</td>\n",
       "      <td>0.10598</td>\n",
       "      <td>0.76976</td>\n",
       "      <td>0.00720</td>\n",
       "    </tr>\n",
       "  </tbody>\n",
       "</table>\n",
       "</div>"
      ],
      "text/plain": [
       "     col_0    col_1    col_2    col_3\n",
       "x  0.66836  0.67131  0.06630  0.02023\n",
       "b  0.91940  0.09031  0.50433  0.26830\n",
       "c  0.10899  0.42085  0.74382  0.88407\n",
       "y  0.08073  0.32315  0.54447  0.72251\n",
       "e  0.02469  0.10598  0.76976  0.00720"
      ]
     },
     "execution_count": 272,
     "metadata": {},
     "output_type": "execute_result"
    }
   ],
   "source": [
    "df1 = random_df((5, 4))\n",
    "df2 = random_df((5, 4))\n",
    "df2.index = list('xbcye')  # deux index sont différents entre des dfs\n",
    "df2"
   ]
  },
  {
   "cell_type": "code",
   "execution_count": 273,
   "metadata": {},
   "outputs": [
    {
     "name": "stderr",
     "output_type": "stream",
     "text": [
      "/home/bercherj/.local/lib/python3.5/site-packages/ipykernel_launcher.py:1: FutureWarning: Sorting because non-concatenation axis is not aligned. A future version\n",
      "of pandas will change to not sort by default.\n",
      "\n",
      "To accept the future behavior, pass 'sort=False'.\n",
      "\n",
      "To retain the current behavior and silence the warning, pass 'sort=True'.\n",
      "\n",
      "  \"\"\"Entry point for launching an IPython kernel.\n"
     ]
    },
    {
     "data": {
      "text/html": [
       "<div>\n",
       "<style scoped>\n",
       "    .dataframe tbody tr th:only-of-type {\n",
       "        vertical-align: middle;\n",
       "    }\n",
       "\n",
       "    .dataframe tbody tr th {\n",
       "        vertical-align: top;\n",
       "    }\n",
       "\n",
       "    .dataframe thead th {\n",
       "        text-align: right;\n",
       "    }\n",
       "</style>\n",
       "<table border=\"1\" class=\"dataframe\">\n",
       "  <thead>\n",
       "    <tr style=\"text-align: right;\">\n",
       "      <th></th>\n",
       "      <th>col_0</th>\n",
       "      <th>col_1</th>\n",
       "      <th>col_2</th>\n",
       "      <th>col_3</th>\n",
       "      <th>col_0</th>\n",
       "      <th>col_1</th>\n",
       "      <th>col_2</th>\n",
       "      <th>col_3</th>\n",
       "    </tr>\n",
       "  </thead>\n",
       "  <tbody>\n",
       "    <tr>\n",
       "      <th>a</th>\n",
       "      <td>0.09302</td>\n",
       "      <td>0.96227</td>\n",
       "      <td>0.28043</td>\n",
       "      <td>0.14715</td>\n",
       "      <td>NaN</td>\n",
       "      <td>NaN</td>\n",
       "      <td>NaN</td>\n",
       "      <td>NaN</td>\n",
       "    </tr>\n",
       "    <tr>\n",
       "      <th>b</th>\n",
       "      <td>0.45090</td>\n",
       "      <td>0.82718</td>\n",
       "      <td>0.50798</td>\n",
       "      <td>0.39399</td>\n",
       "      <td>0.91940</td>\n",
       "      <td>0.09031</td>\n",
       "      <td>0.50433</td>\n",
       "      <td>0.26830</td>\n",
       "    </tr>\n",
       "    <tr>\n",
       "      <th>c</th>\n",
       "      <td>0.22093</td>\n",
       "      <td>0.09052</td>\n",
       "      <td>0.12140</td>\n",
       "      <td>0.90465</td>\n",
       "      <td>0.10899</td>\n",
       "      <td>0.42085</td>\n",
       "      <td>0.74382</td>\n",
       "      <td>0.88407</td>\n",
       "    </tr>\n",
       "    <tr>\n",
       "      <th>d</th>\n",
       "      <td>0.77844</td>\n",
       "      <td>0.28801</td>\n",
       "      <td>0.39188</td>\n",
       "      <td>0.08847</td>\n",
       "      <td>NaN</td>\n",
       "      <td>NaN</td>\n",
       "      <td>NaN</td>\n",
       "      <td>NaN</td>\n",
       "    </tr>\n",
       "    <tr>\n",
       "      <th>e</th>\n",
       "      <td>0.20645</td>\n",
       "      <td>0.53812</td>\n",
       "      <td>0.01357</td>\n",
       "      <td>0.98484</td>\n",
       "      <td>0.02469</td>\n",
       "      <td>0.10598</td>\n",
       "      <td>0.76976</td>\n",
       "      <td>0.00720</td>\n",
       "    </tr>\n",
       "    <tr>\n",
       "      <th>x</th>\n",
       "      <td>NaN</td>\n",
       "      <td>NaN</td>\n",
       "      <td>NaN</td>\n",
       "      <td>NaN</td>\n",
       "      <td>0.66836</td>\n",
       "      <td>0.67131</td>\n",
       "      <td>0.06630</td>\n",
       "      <td>0.02023</td>\n",
       "    </tr>\n",
       "    <tr>\n",
       "      <th>y</th>\n",
       "      <td>NaN</td>\n",
       "      <td>NaN</td>\n",
       "      <td>NaN</td>\n",
       "      <td>NaN</td>\n",
       "      <td>0.08073</td>\n",
       "      <td>0.32315</td>\n",
       "      <td>0.54447</td>\n",
       "      <td>0.72251</td>\n",
       "    </tr>\n",
       "  </tbody>\n",
       "</table>\n",
       "</div>"
      ],
      "text/plain": [
       "     col_0    col_1    col_2    col_3    col_0    col_1    col_2    col_3\n",
       "a  0.09302  0.96227  0.28043  0.14715      NaN      NaN      NaN      NaN\n",
       "b  0.45090  0.82718  0.50798  0.39399  0.91940  0.09031  0.50433  0.26830\n",
       "c  0.22093  0.09052  0.12140  0.90465  0.10899  0.42085  0.74382  0.88407\n",
       "d  0.77844  0.28801  0.39188  0.08847      NaN      NaN      NaN      NaN\n",
       "e  0.20645  0.53812  0.01357  0.98484  0.02469  0.10598  0.76976  0.00720\n",
       "x      NaN      NaN      NaN      NaN  0.66836  0.67131  0.06630  0.02023\n",
       "y      NaN      NaN      NaN      NaN  0.08073  0.32315  0.54447  0.72251"
      ]
     },
     "execution_count": 273,
     "metadata": {},
     "output_type": "execute_result"
    }
   ],
   "source": [
    "pd.concat((df1, df2), axis=1)  # par défaut un \"outer\" join"
   ]
  },
  {
   "cell_type": "markdown",
   "metadata": {},
   "source": [
    "\n",
    "Pour un inner join, on obtient l'intersection des index"
   ]
  },
  {
   "cell_type": "code",
   "execution_count": 274,
   "metadata": {},
   "outputs": [
    {
     "data": {
      "text/html": [
       "<div>\n",
       "<style scoped>\n",
       "    .dataframe tbody tr th:only-of-type {\n",
       "        vertical-align: middle;\n",
       "    }\n",
       "\n",
       "    .dataframe tbody tr th {\n",
       "        vertical-align: top;\n",
       "    }\n",
       "\n",
       "    .dataframe thead th {\n",
       "        text-align: right;\n",
       "    }\n",
       "</style>\n",
       "<table border=\"1\" class=\"dataframe\">\n",
       "  <thead>\n",
       "    <tr style=\"text-align: right;\">\n",
       "      <th></th>\n",
       "      <th>col_0</th>\n",
       "      <th>col_1</th>\n",
       "      <th>col_2</th>\n",
       "      <th>col_3</th>\n",
       "      <th>col_0</th>\n",
       "      <th>col_1</th>\n",
       "      <th>col_2</th>\n",
       "      <th>col_3</th>\n",
       "    </tr>\n",
       "  </thead>\n",
       "  <tbody>\n",
       "    <tr>\n",
       "      <th>b</th>\n",
       "      <td>0.45090</td>\n",
       "      <td>0.82718</td>\n",
       "      <td>0.50798</td>\n",
       "      <td>0.39399</td>\n",
       "      <td>0.91940</td>\n",
       "      <td>0.09031</td>\n",
       "      <td>0.50433</td>\n",
       "      <td>0.26830</td>\n",
       "    </tr>\n",
       "    <tr>\n",
       "      <th>c</th>\n",
       "      <td>0.22093</td>\n",
       "      <td>0.09052</td>\n",
       "      <td>0.12140</td>\n",
       "      <td>0.90465</td>\n",
       "      <td>0.10899</td>\n",
       "      <td>0.42085</td>\n",
       "      <td>0.74382</td>\n",
       "      <td>0.88407</td>\n",
       "    </tr>\n",
       "    <tr>\n",
       "      <th>e</th>\n",
       "      <td>0.20645</td>\n",
       "      <td>0.53812</td>\n",
       "      <td>0.01357</td>\n",
       "      <td>0.98484</td>\n",
       "      <td>0.02469</td>\n",
       "      <td>0.10598</td>\n",
       "      <td>0.76976</td>\n",
       "      <td>0.00720</td>\n",
       "    </tr>\n",
       "  </tbody>\n",
       "</table>\n",
       "</div>"
      ],
      "text/plain": [
       "     col_0    col_1    col_2    col_3    col_0    col_1    col_2    col_3\n",
       "b  0.45090  0.82718  0.50798  0.39399  0.91940  0.09031  0.50433  0.26830\n",
       "c  0.22093  0.09052  0.12140  0.90465  0.10899  0.42085  0.74382  0.88407\n",
       "e  0.20645  0.53812  0.01357  0.98484  0.02469  0.10598  0.76976  0.00720"
      ]
     },
     "execution_count": 274,
     "metadata": {},
     "output_type": "execute_result"
    }
   ],
   "source": [
    "pd.concat((df1, df2), axis=1, join='inner')  #defaut: 'outer'"
   ]
  },
  {
   "cell_type": "code",
   "execution_count": 275,
   "metadata": {},
   "outputs": [
    {
     "data": {
      "text/html": [
       "<div>\n",
       "<style scoped>\n",
       "    .dataframe tbody tr th:only-of-type {\n",
       "        vertical-align: middle;\n",
       "    }\n",
       "\n",
       "    .dataframe tbody tr th {\n",
       "        vertical-align: top;\n",
       "    }\n",
       "\n",
       "    .dataframe thead th {\n",
       "        text-align: right;\n",
       "    }\n",
       "</style>\n",
       "<table border=\"1\" class=\"dataframe\">\n",
       "  <thead>\n",
       "    <tr style=\"text-align: right;\">\n",
       "      <th></th>\n",
       "      <th>col_0</th>\n",
       "      <th>col_1</th>\n",
       "      <th>col_2</th>\n",
       "      <th>col_3</th>\n",
       "    </tr>\n",
       "  </thead>\n",
       "  <tbody>\n",
       "    <tr>\n",
       "      <th>a</th>\n",
       "      <td>0.09302</td>\n",
       "      <td>0.96227</td>\n",
       "      <td>0.28043</td>\n",
       "      <td>0.14715</td>\n",
       "    </tr>\n",
       "    <tr>\n",
       "      <th>b</th>\n",
       "      <td>0.45090</td>\n",
       "      <td>0.82718</td>\n",
       "      <td>0.50798</td>\n",
       "      <td>0.39399</td>\n",
       "    </tr>\n",
       "    <tr>\n",
       "      <th>c</th>\n",
       "      <td>0.22093</td>\n",
       "      <td>0.09052</td>\n",
       "      <td>0.12140</td>\n",
       "      <td>0.90465</td>\n",
       "    </tr>\n",
       "    <tr>\n",
       "      <th>d</th>\n",
       "      <td>0.77844</td>\n",
       "      <td>0.28801</td>\n",
       "      <td>0.39188</td>\n",
       "      <td>0.08847</td>\n",
       "    </tr>\n",
       "    <tr>\n",
       "      <th>e</th>\n",
       "      <td>0.20645</td>\n",
       "      <td>0.53812</td>\n",
       "      <td>0.01357</td>\n",
       "      <td>0.98484</td>\n",
       "    </tr>\n",
       "    <tr>\n",
       "      <th>x</th>\n",
       "      <td>0.66836</td>\n",
       "      <td>0.67131</td>\n",
       "      <td>0.06630</td>\n",
       "      <td>0.02023</td>\n",
       "    </tr>\n",
       "    <tr>\n",
       "      <th>b</th>\n",
       "      <td>0.91940</td>\n",
       "      <td>0.09031</td>\n",
       "      <td>0.50433</td>\n",
       "      <td>0.26830</td>\n",
       "    </tr>\n",
       "    <tr>\n",
       "      <th>c</th>\n",
       "      <td>0.10899</td>\n",
       "      <td>0.42085</td>\n",
       "      <td>0.74382</td>\n",
       "      <td>0.88407</td>\n",
       "    </tr>\n",
       "    <tr>\n",
       "      <th>y</th>\n",
       "      <td>0.08073</td>\n",
       "      <td>0.32315</td>\n",
       "      <td>0.54447</td>\n",
       "      <td>0.72251</td>\n",
       "    </tr>\n",
       "    <tr>\n",
       "      <th>e</th>\n",
       "      <td>0.02469</td>\n",
       "      <td>0.10598</td>\n",
       "      <td>0.76976</td>\n",
       "      <td>0.00720</td>\n",
       "    </tr>\n",
       "  </tbody>\n",
       "</table>\n",
       "</div>"
      ],
      "text/plain": [
       "     col_0    col_1    col_2    col_3\n",
       "a  0.09302  0.96227  0.28043  0.14715\n",
       "b  0.45090  0.82718  0.50798  0.39399\n",
       "c  0.22093  0.09052  0.12140  0.90465\n",
       "d  0.77844  0.28801  0.39188  0.08847\n",
       "e  0.20645  0.53812  0.01357  0.98484\n",
       "x  0.66836  0.67131  0.06630  0.02023\n",
       "b  0.91940  0.09031  0.50433  0.26830\n",
       "c  0.10899  0.42085  0.74382  0.88407\n",
       "y  0.08073  0.32315  0.54447  0.72251\n",
       "e  0.02469  0.10598  0.76976  0.00720"
      ]
     },
     "execution_count": 275,
     "metadata": {},
     "output_type": "execute_result"
    }
   ],
   "source": [
    "df1.append(df2)  # Appends rows"
   ]
  },
  {
   "cell_type": "markdown",
   "metadata": {},
   "source": [
    "### Merge et join"
   ]
  },
  {
   "cell_type": "markdown",
   "metadata": {},
   "source": [
    "Il s'agit là encore d'une concaténation, mais en fonction d'une colonne."
   ]
  },
  {
   "cell_type": "code",
   "execution_count": 276,
   "metadata": {},
   "outputs": [
    {
     "data": {
      "text/html": [
       "<div>\n",
       "<style scoped>\n",
       "    .dataframe tbody tr th:only-of-type {\n",
       "        vertical-align: middle;\n",
       "    }\n",
       "\n",
       "    .dataframe tbody tr th {\n",
       "        vertical-align: top;\n",
       "    }\n",
       "\n",
       "    .dataframe thead th {\n",
       "        text-align: right;\n",
       "    }\n",
       "</style>\n",
       "<table border=\"1\" class=\"dataframe\">\n",
       "  <thead>\n",
       "    <tr style=\"text-align: right;\">\n",
       "      <th></th>\n",
       "      <th>key</th>\n",
       "    </tr>\n",
       "  </thead>\n",
       "  <tbody>\n",
       "    <tr>\n",
       "      <th>a</th>\n",
       "      <td>un</td>\n",
       "    </tr>\n",
       "    <tr>\n",
       "      <th>b</th>\n",
       "      <td>deux</td>\n",
       "    </tr>\n",
       "    <tr>\n",
       "      <th>c</th>\n",
       "      <td>trois</td>\n",
       "    </tr>\n",
       "    <tr>\n",
       "      <th>d</th>\n",
       "      <td>quatre</td>\n",
       "    </tr>\n",
       "    <tr>\n",
       "      <th>e</th>\n",
       "      <td>cinq</td>\n",
       "    </tr>\n",
       "  </tbody>\n",
       "</table>\n",
       "</div>"
      ],
      "text/plain": [
       "      key\n",
       "a      un\n",
       "b    deux\n",
       "c   trois\n",
       "d  quatre\n",
       "e    cinq"
      ]
     },
     "execution_count": 276,
     "metadata": {},
     "output_type": "execute_result"
    }
   ],
   "source": [
    "v = pd.DataFrame(\n",
    "    ['un', 'deux', 'trois', 'quatre', 'cinq'],\n",
    "    columns=['key'],\n",
    "    index=df1.index)\n",
    "v"
   ]
  },
  {
   "cell_type": "code",
   "execution_count": 277,
   "metadata": {},
   "outputs": [
    {
     "data": {
      "text/html": [
       "<div>\n",
       "<style scoped>\n",
       "    .dataframe tbody tr th:only-of-type {\n",
       "        vertical-align: middle;\n",
       "    }\n",
       "\n",
       "    .dataframe tbody tr th {\n",
       "        vertical-align: top;\n",
       "    }\n",
       "\n",
       "    .dataframe thead th {\n",
       "        text-align: right;\n",
       "    }\n",
       "</style>\n",
       "<table border=\"1\" class=\"dataframe\">\n",
       "  <thead>\n",
       "    <tr style=\"text-align: right;\">\n",
       "      <th></th>\n",
       "      <th>col_0_x</th>\n",
       "      <th>col_1_x</th>\n",
       "      <th>col_2_x</th>\n",
       "      <th>col_3_x</th>\n",
       "      <th>key</th>\n",
       "      <th>col_0_y</th>\n",
       "      <th>col_1_y</th>\n",
       "      <th>col_2_y</th>\n",
       "      <th>col_3_y</th>\n",
       "    </tr>\n",
       "  </thead>\n",
       "  <tbody>\n",
       "    <tr>\n",
       "      <th>0</th>\n",
       "      <td>0.91657</td>\n",
       "      <td>0.56238</td>\n",
       "      <td>0.05968</td>\n",
       "      <td>0.46615</td>\n",
       "      <td>un</td>\n",
       "      <td>0.14488</td>\n",
       "      <td>0.09907</td>\n",
       "      <td>0.49496</td>\n",
       "      <td>0.56881</td>\n",
       "    </tr>\n",
       "    <tr>\n",
       "      <th>1</th>\n",
       "      <td>0.82701</td>\n",
       "      <td>0.37999</td>\n",
       "      <td>0.01048</td>\n",
       "      <td>0.91189</td>\n",
       "      <td>deux</td>\n",
       "      <td>0.40443</td>\n",
       "      <td>0.95728</td>\n",
       "      <td>0.54141</td>\n",
       "      <td>0.89550</td>\n",
       "    </tr>\n",
       "    <tr>\n",
       "      <th>2</th>\n",
       "      <td>0.12536</td>\n",
       "      <td>0.53708</td>\n",
       "      <td>0.25348</td>\n",
       "      <td>0.12697</td>\n",
       "      <td>trois</td>\n",
       "      <td>0.63794</td>\n",
       "      <td>0.57628</td>\n",
       "      <td>0.19100</td>\n",
       "      <td>0.94290</td>\n",
       "    </tr>\n",
       "    <tr>\n",
       "      <th>3</th>\n",
       "      <td>0.68036</td>\n",
       "      <td>0.87512</td>\n",
       "      <td>0.69842</td>\n",
       "      <td>0.08049</td>\n",
       "      <td>quatre</td>\n",
       "      <td>NaN</td>\n",
       "      <td>NaN</td>\n",
       "      <td>NaN</td>\n",
       "      <td>NaN</td>\n",
       "    </tr>\n",
       "    <tr>\n",
       "      <th>4</th>\n",
       "      <td>0.76669</td>\n",
       "      <td>0.47313</td>\n",
       "      <td>0.37197</td>\n",
       "      <td>0.81171</td>\n",
       "      <td>cinq</td>\n",
       "      <td>0.95472</td>\n",
       "      <td>0.79487</td>\n",
       "      <td>0.32852</td>\n",
       "      <td>0.94658</td>\n",
       "    </tr>\n",
       "  </tbody>\n",
       "</table>\n",
       "</div>"
      ],
      "text/plain": [
       "   col_0_x  col_1_x  col_2_x  col_3_x     key  col_0_y  col_1_y  col_2_y  \\\n",
       "0  0.91657  0.56238  0.05968  0.46615      un  0.14488  0.09907  0.49496   \n",
       "1  0.82701  0.37999  0.01048  0.91189    deux  0.40443  0.95728  0.54141   \n",
       "2  0.12536  0.53708  0.25348  0.12697   trois  0.63794  0.57628  0.19100   \n",
       "3  0.68036  0.87512  0.69842  0.08049  quatre      NaN      NaN      NaN   \n",
       "4  0.76669  0.47313  0.37197  0.81171    cinq  0.95472  0.79487  0.32852   \n",
       "\n",
       "   col_3_y  \n",
       "0  0.56881  \n",
       "1  0.89550  \n",
       "2  0.94290  \n",
       "3      NaN  \n",
       "4  0.94658  "
      ]
     },
     "execution_count": 277,
     "metadata": {},
     "output_type": "execute_result"
    }
   ],
   "source": [
    "df1 = random_df((5, 4))\n",
    "df2 = random_df((5, 4))\n",
    "df2.index = list('abcye')\n",
    "#df2.columns=list('ABCD')\n",
    "\n",
    "ddf1 = pd.concat((df1, v), axis=1, sort=False)\n",
    "ddf2 = pd.concat((df2, v), axis=1, sort=False)\n",
    "\n",
    "pd.merge(ddf1, ddf2, on=\"key\")"
   ]
  },
  {
   "cell_type": "markdown",
   "metadata": {},
   "source": [
    "On remarquera que du fait de conflits entre le noms des colonnes, pandas a automatiquement ajouté un suffixe. "
   ]
  },
  {
   "cell_type": "code",
   "execution_count": null,
   "metadata": {},
   "outputs": [],
   "source": [
    "pd.merge(ddf1, ddf2, on=\"key\", how=\"outer\")"
   ]
  },
  {
   "cell_type": "markdown",
   "metadata": {},
   "source": [
    "Avec une clé dupliquée .. cela arrive"
   ]
  },
  {
   "cell_type": "code",
   "execution_count": null,
   "metadata": {},
   "outputs": [],
   "source": [
    "v = pd.DataFrame(\n",
    "    ['un', 'deux', 'trois', 'trois', 'cinq'], columns=['key'], index=df1.index)\n",
    "df2 = random_df((5, 4))\n",
    "#df2.index=list('abcye')\n",
    "ddf1 = pd.concat((df1, v), axis=1)\n",
    "ddf2 = pd.concat((df2, v), axis=1)\n",
    "pd.merge(ddf1, ddf2, on=\"key\")"
   ]
  },
  {
   "cell_type": "markdown",
   "metadata": {},
   "source": [
    "Pandas calcule totes les combinaisons possibles. "
   ]
  },
  {
   "cell_type": "markdown",
   "metadata": {},
   "source": [
    "## Group operations: Split-Apply-Combine"
   ]
  },
  {
   "cell_type": "markdown",
   "metadata": {},
   "source": [
    "D'après le livre de Wes McKinney\n",
    "![](split-apply-combine.png)\n",
    "Le schéma général des opérations de `groupby` comprend des opérations de séparation, application d'une fonction à une série de valeurs (typiquement une colonne ou une ligne) et la recombinaison des résultats. Il est à noter que ce schéma n'est pas si loin des schémas d'implantation des algorithmes de BigData."
   ]
  },
  {
   "cell_type": "code",
   "execution_count": 278,
   "metadata": {},
   "outputs": [
    {
     "data": {
      "text/html": [
       "<div>\n",
       "<style scoped>\n",
       "    .dataframe tbody tr th:only-of-type {\n",
       "        vertical-align: middle;\n",
       "    }\n",
       "\n",
       "    .dataframe tbody tr th {\n",
       "        vertical-align: top;\n",
       "    }\n",
       "\n",
       "    .dataframe thead th {\n",
       "        text-align: right;\n",
       "    }\n",
       "</style>\n",
       "<table border=\"1\" class=\"dataframe\">\n",
       "  <thead>\n",
       "    <tr style=\"text-align: right;\">\n",
       "      <th></th>\n",
       "      <th>total_bill</th>\n",
       "      <th>tip</th>\n",
       "      <th>sex</th>\n",
       "      <th>smoker</th>\n",
       "      <th>day</th>\n",
       "      <th>time</th>\n",
       "      <th>size</th>\n",
       "    </tr>\n",
       "  </thead>\n",
       "  <tbody>\n",
       "    <tr>\n",
       "      <th>0</th>\n",
       "      <td>16.99</td>\n",
       "      <td>1.01</td>\n",
       "      <td>Female</td>\n",
       "      <td>No</td>\n",
       "      <td>Sun</td>\n",
       "      <td>Dinner</td>\n",
       "      <td>2</td>\n",
       "    </tr>\n",
       "    <tr>\n",
       "      <th>1</th>\n",
       "      <td>10.34</td>\n",
       "      <td>1.66</td>\n",
       "      <td>Male</td>\n",
       "      <td>No</td>\n",
       "      <td>Sun</td>\n",
       "      <td>Dinner</td>\n",
       "      <td>3</td>\n",
       "    </tr>\n",
       "    <tr>\n",
       "      <th>2</th>\n",
       "      <td>21.01</td>\n",
       "      <td>3.50</td>\n",
       "      <td>Male</td>\n",
       "      <td>No</td>\n",
       "      <td>Sun</td>\n",
       "      <td>Dinner</td>\n",
       "      <td>3</td>\n",
       "    </tr>\n",
       "    <tr>\n",
       "      <th>3</th>\n",
       "      <td>23.68</td>\n",
       "      <td>3.31</td>\n",
       "      <td>Male</td>\n",
       "      <td>No</td>\n",
       "      <td>Sun</td>\n",
       "      <td>Dinner</td>\n",
       "      <td>2</td>\n",
       "    </tr>\n",
       "    <tr>\n",
       "      <th>4</th>\n",
       "      <td>24.59</td>\n",
       "      <td>3.61</td>\n",
       "      <td>Female</td>\n",
       "      <td>No</td>\n",
       "      <td>Sun</td>\n",
       "      <td>Dinner</td>\n",
       "      <td>4</td>\n",
       "    </tr>\n",
       "  </tbody>\n",
       "</table>\n",
       "</div>"
      ],
      "text/plain": [
       "   total_bill   tip     sex smoker  day    time  size\n",
       "0       16.99  1.01  Female     No  Sun  Dinner     2\n",
       "1       10.34  1.66    Male     No  Sun  Dinner     3\n",
       "2       21.01  3.50    Male     No  Sun  Dinner     3\n",
       "3       23.68  3.31    Male     No  Sun  Dinner     2\n",
       "4       24.59  3.61  Female     No  Sun  Dinner     4"
      ]
     },
     "execution_count": 278,
     "metadata": {},
     "output_type": "execute_result"
    }
   ],
   "source": [
    "tips = pd.read_csv('tips.csv')\n",
    "tips.head()"
   ]
  },
  {
   "cell_type": "code",
   "execution_count": 279,
   "metadata": {},
   "outputs": [],
   "source": [
    "# Add tip percentage of total bill\n",
    "tips['tip_pct'] = tips['tip'] / tips['total_bill']"
   ]
  },
  {
   "cell_type": "code",
   "execution_count": 280,
   "metadata": {},
   "outputs": [
    {
     "data": {
      "text/html": [
       "<div>\n",
       "<style scoped>\n",
       "    .dataframe tbody tr th:only-of-type {\n",
       "        vertical-align: middle;\n",
       "    }\n",
       "\n",
       "    .dataframe tbody tr th {\n",
       "        vertical-align: top;\n",
       "    }\n",
       "\n",
       "    .dataframe thead th {\n",
       "        text-align: right;\n",
       "    }\n",
       "</style>\n",
       "<table border=\"1\" class=\"dataframe\">\n",
       "  <thead>\n",
       "    <tr style=\"text-align: right;\">\n",
       "      <th></th>\n",
       "      <th>total_bill</th>\n",
       "      <th>tip</th>\n",
       "      <th>sex</th>\n",
       "      <th>smoker</th>\n",
       "      <th>day</th>\n",
       "      <th>time</th>\n",
       "      <th>size</th>\n",
       "      <th>tip_pct</th>\n",
       "    </tr>\n",
       "  </thead>\n",
       "  <tbody>\n",
       "    <tr>\n",
       "      <th>0</th>\n",
       "      <td>16.99</td>\n",
       "      <td>1.01</td>\n",
       "      <td>Female</td>\n",
       "      <td>No</td>\n",
       "      <td>Sun</td>\n",
       "      <td>Dinner</td>\n",
       "      <td>2</td>\n",
       "      <td>0.05945</td>\n",
       "    </tr>\n",
       "    <tr>\n",
       "      <th>1</th>\n",
       "      <td>10.34</td>\n",
       "      <td>1.66</td>\n",
       "      <td>Male</td>\n",
       "      <td>No</td>\n",
       "      <td>Sun</td>\n",
       "      <td>Dinner</td>\n",
       "      <td>3</td>\n",
       "      <td>0.16054</td>\n",
       "    </tr>\n",
       "    <tr>\n",
       "      <th>2</th>\n",
       "      <td>21.01</td>\n",
       "      <td>3.50</td>\n",
       "      <td>Male</td>\n",
       "      <td>No</td>\n",
       "      <td>Sun</td>\n",
       "      <td>Dinner</td>\n",
       "      <td>3</td>\n",
       "      <td>0.16659</td>\n",
       "    </tr>\n",
       "    <tr>\n",
       "      <th>3</th>\n",
       "      <td>23.68</td>\n",
       "      <td>3.31</td>\n",
       "      <td>Male</td>\n",
       "      <td>No</td>\n",
       "      <td>Sun</td>\n",
       "      <td>Dinner</td>\n",
       "      <td>2</td>\n",
       "      <td>0.13978</td>\n",
       "    </tr>\n",
       "    <tr>\n",
       "      <th>4</th>\n",
       "      <td>24.59</td>\n",
       "      <td>3.61</td>\n",
       "      <td>Female</td>\n",
       "      <td>No</td>\n",
       "      <td>Sun</td>\n",
       "      <td>Dinner</td>\n",
       "      <td>4</td>\n",
       "      <td>0.14681</td>\n",
       "    </tr>\n",
       "    <tr>\n",
       "      <th>5</th>\n",
       "      <td>25.29</td>\n",
       "      <td>4.71</td>\n",
       "      <td>Male</td>\n",
       "      <td>No</td>\n",
       "      <td>Sun</td>\n",
       "      <td>Dinner</td>\n",
       "      <td>4</td>\n",
       "      <td>0.18624</td>\n",
       "    </tr>\n",
       "    <tr>\n",
       "      <th>6</th>\n",
       "      <td>8.77</td>\n",
       "      <td>2.00</td>\n",
       "      <td>Male</td>\n",
       "      <td>No</td>\n",
       "      <td>Sun</td>\n",
       "      <td>Dinner</td>\n",
       "      <td>2</td>\n",
       "      <td>0.22805</td>\n",
       "    </tr>\n",
       "    <tr>\n",
       "      <th>7</th>\n",
       "      <td>26.88</td>\n",
       "      <td>3.12</td>\n",
       "      <td>Male</td>\n",
       "      <td>No</td>\n",
       "      <td>Sun</td>\n",
       "      <td>Dinner</td>\n",
       "      <td>4</td>\n",
       "      <td>0.11607</td>\n",
       "    </tr>\n",
       "    <tr>\n",
       "      <th>8</th>\n",
       "      <td>15.04</td>\n",
       "      <td>1.96</td>\n",
       "      <td>Male</td>\n",
       "      <td>No</td>\n",
       "      <td>Sun</td>\n",
       "      <td>Dinner</td>\n",
       "      <td>2</td>\n",
       "      <td>0.13032</td>\n",
       "    </tr>\n",
       "    <tr>\n",
       "      <th>9</th>\n",
       "      <td>14.78</td>\n",
       "      <td>3.23</td>\n",
       "      <td>Male</td>\n",
       "      <td>No</td>\n",
       "      <td>Sun</td>\n",
       "      <td>Dinner</td>\n",
       "      <td>2</td>\n",
       "      <td>0.21854</td>\n",
       "    </tr>\n",
       "    <tr>\n",
       "      <th>10</th>\n",
       "      <td>10.27</td>\n",
       "      <td>1.71</td>\n",
       "      <td>Male</td>\n",
       "      <td>No</td>\n",
       "      <td>Sun</td>\n",
       "      <td>Dinner</td>\n",
       "      <td>2</td>\n",
       "      <td>0.16650</td>\n",
       "    </tr>\n",
       "    <tr>\n",
       "      <th>11</th>\n",
       "      <td>35.26</td>\n",
       "      <td>5.00</td>\n",
       "      <td>Female</td>\n",
       "      <td>No</td>\n",
       "      <td>Sun</td>\n",
       "      <td>Dinner</td>\n",
       "      <td>4</td>\n",
       "      <td>0.14180</td>\n",
       "    </tr>\n",
       "    <tr>\n",
       "      <th>12</th>\n",
       "      <td>15.42</td>\n",
       "      <td>1.57</td>\n",
       "      <td>Male</td>\n",
       "      <td>No</td>\n",
       "      <td>Sun</td>\n",
       "      <td>Dinner</td>\n",
       "      <td>2</td>\n",
       "      <td>0.10182</td>\n",
       "    </tr>\n",
       "    <tr>\n",
       "      <th>13</th>\n",
       "      <td>18.43</td>\n",
       "      <td>3.00</td>\n",
       "      <td>Male</td>\n",
       "      <td>No</td>\n",
       "      <td>Sun</td>\n",
       "      <td>Dinner</td>\n",
       "      <td>4</td>\n",
       "      <td>0.16278</td>\n",
       "    </tr>\n",
       "    <tr>\n",
       "      <th>14</th>\n",
       "      <td>14.83</td>\n",
       "      <td>3.02</td>\n",
       "      <td>Female</td>\n",
       "      <td>No</td>\n",
       "      <td>Sun</td>\n",
       "      <td>Dinner</td>\n",
       "      <td>2</td>\n",
       "      <td>0.20364</td>\n",
       "    </tr>\n",
       "    <tr>\n",
       "      <th>15</th>\n",
       "      <td>21.58</td>\n",
       "      <td>3.92</td>\n",
       "      <td>Male</td>\n",
       "      <td>No</td>\n",
       "      <td>Sun</td>\n",
       "      <td>Dinner</td>\n",
       "      <td>2</td>\n",
       "      <td>0.18165</td>\n",
       "    </tr>\n",
       "    <tr>\n",
       "      <th>16</th>\n",
       "      <td>10.33</td>\n",
       "      <td>1.67</td>\n",
       "      <td>Female</td>\n",
       "      <td>No</td>\n",
       "      <td>Sun</td>\n",
       "      <td>Dinner</td>\n",
       "      <td>3</td>\n",
       "      <td>0.16167</td>\n",
       "    </tr>\n",
       "    <tr>\n",
       "      <th>17</th>\n",
       "      <td>16.29</td>\n",
       "      <td>3.71</td>\n",
       "      <td>Male</td>\n",
       "      <td>No</td>\n",
       "      <td>Sun</td>\n",
       "      <td>Dinner</td>\n",
       "      <td>3</td>\n",
       "      <td>0.22775</td>\n",
       "    </tr>\n",
       "    <tr>\n",
       "      <th>18</th>\n",
       "      <td>16.97</td>\n",
       "      <td>3.50</td>\n",
       "      <td>Female</td>\n",
       "      <td>No</td>\n",
       "      <td>Sun</td>\n",
       "      <td>Dinner</td>\n",
       "      <td>3</td>\n",
       "      <td>0.20625</td>\n",
       "    </tr>\n",
       "    <tr>\n",
       "      <th>19</th>\n",
       "      <td>20.65</td>\n",
       "      <td>3.35</td>\n",
       "      <td>Male</td>\n",
       "      <td>No</td>\n",
       "      <td>Sat</td>\n",
       "      <td>Dinner</td>\n",
       "      <td>3</td>\n",
       "      <td>0.16223</td>\n",
       "    </tr>\n",
       "    <tr>\n",
       "      <th>20</th>\n",
       "      <td>17.92</td>\n",
       "      <td>4.08</td>\n",
       "      <td>Male</td>\n",
       "      <td>No</td>\n",
       "      <td>Sat</td>\n",
       "      <td>Dinner</td>\n",
       "      <td>2</td>\n",
       "      <td>0.22768</td>\n",
       "    </tr>\n",
       "    <tr>\n",
       "      <th>21</th>\n",
       "      <td>20.29</td>\n",
       "      <td>2.75</td>\n",
       "      <td>Female</td>\n",
       "      <td>No</td>\n",
       "      <td>Sat</td>\n",
       "      <td>Dinner</td>\n",
       "      <td>2</td>\n",
       "      <td>0.13553</td>\n",
       "    </tr>\n",
       "    <tr>\n",
       "      <th>22</th>\n",
       "      <td>15.77</td>\n",
       "      <td>2.23</td>\n",
       "      <td>Female</td>\n",
       "      <td>No</td>\n",
       "      <td>Sat</td>\n",
       "      <td>Dinner</td>\n",
       "      <td>2</td>\n",
       "      <td>0.14141</td>\n",
       "    </tr>\n",
       "    <tr>\n",
       "      <th>23</th>\n",
       "      <td>39.42</td>\n",
       "      <td>7.58</td>\n",
       "      <td>Male</td>\n",
       "      <td>No</td>\n",
       "      <td>Sat</td>\n",
       "      <td>Dinner</td>\n",
       "      <td>4</td>\n",
       "      <td>0.19229</td>\n",
       "    </tr>\n",
       "    <tr>\n",
       "      <th>24</th>\n",
       "      <td>19.82</td>\n",
       "      <td>3.18</td>\n",
       "      <td>Male</td>\n",
       "      <td>No</td>\n",
       "      <td>Sat</td>\n",
       "      <td>Dinner</td>\n",
       "      <td>2</td>\n",
       "      <td>0.16044</td>\n",
       "    </tr>\n",
       "    <tr>\n",
       "      <th>25</th>\n",
       "      <td>17.81</td>\n",
       "      <td>2.34</td>\n",
       "      <td>Male</td>\n",
       "      <td>No</td>\n",
       "      <td>Sat</td>\n",
       "      <td>Dinner</td>\n",
       "      <td>4</td>\n",
       "      <td>0.13139</td>\n",
       "    </tr>\n",
       "    <tr>\n",
       "      <th>26</th>\n",
       "      <td>13.37</td>\n",
       "      <td>2.00</td>\n",
       "      <td>Male</td>\n",
       "      <td>No</td>\n",
       "      <td>Sat</td>\n",
       "      <td>Dinner</td>\n",
       "      <td>2</td>\n",
       "      <td>0.14959</td>\n",
       "    </tr>\n",
       "    <tr>\n",
       "      <th>27</th>\n",
       "      <td>12.69</td>\n",
       "      <td>2.00</td>\n",
       "      <td>Male</td>\n",
       "      <td>No</td>\n",
       "      <td>Sat</td>\n",
       "      <td>Dinner</td>\n",
       "      <td>2</td>\n",
       "      <td>0.15760</td>\n",
       "    </tr>\n",
       "    <tr>\n",
       "      <th>28</th>\n",
       "      <td>21.70</td>\n",
       "      <td>4.30</td>\n",
       "      <td>Male</td>\n",
       "      <td>No</td>\n",
       "      <td>Sat</td>\n",
       "      <td>Dinner</td>\n",
       "      <td>2</td>\n",
       "      <td>0.19816</td>\n",
       "    </tr>\n",
       "    <tr>\n",
       "      <th>29</th>\n",
       "      <td>19.65</td>\n",
       "      <td>3.00</td>\n",
       "      <td>Female</td>\n",
       "      <td>No</td>\n",
       "      <td>Sat</td>\n",
       "      <td>Dinner</td>\n",
       "      <td>2</td>\n",
       "      <td>0.15267</td>\n",
       "    </tr>\n",
       "    <tr>\n",
       "      <th>...</th>\n",
       "      <td>...</td>\n",
       "      <td>...</td>\n",
       "      <td>...</td>\n",
       "      <td>...</td>\n",
       "      <td>...</td>\n",
       "      <td>...</td>\n",
       "      <td>...</td>\n",
       "      <td>...</td>\n",
       "    </tr>\n",
       "    <tr>\n",
       "      <th>214</th>\n",
       "      <td>28.17</td>\n",
       "      <td>6.50</td>\n",
       "      <td>Female</td>\n",
       "      <td>Yes</td>\n",
       "      <td>Sat</td>\n",
       "      <td>Dinner</td>\n",
       "      <td>3</td>\n",
       "      <td>0.23074</td>\n",
       "    </tr>\n",
       "    <tr>\n",
       "      <th>215</th>\n",
       "      <td>12.90</td>\n",
       "      <td>1.10</td>\n",
       "      <td>Female</td>\n",
       "      <td>Yes</td>\n",
       "      <td>Sat</td>\n",
       "      <td>Dinner</td>\n",
       "      <td>2</td>\n",
       "      <td>0.08527</td>\n",
       "    </tr>\n",
       "    <tr>\n",
       "      <th>216</th>\n",
       "      <td>28.15</td>\n",
       "      <td>3.00</td>\n",
       "      <td>Male</td>\n",
       "      <td>Yes</td>\n",
       "      <td>Sat</td>\n",
       "      <td>Dinner</td>\n",
       "      <td>5</td>\n",
       "      <td>0.10657</td>\n",
       "    </tr>\n",
       "    <tr>\n",
       "      <th>217</th>\n",
       "      <td>11.59</td>\n",
       "      <td>1.50</td>\n",
       "      <td>Male</td>\n",
       "      <td>Yes</td>\n",
       "      <td>Sat</td>\n",
       "      <td>Dinner</td>\n",
       "      <td>2</td>\n",
       "      <td>0.12942</td>\n",
       "    </tr>\n",
       "    <tr>\n",
       "      <th>218</th>\n",
       "      <td>7.74</td>\n",
       "      <td>1.44</td>\n",
       "      <td>Male</td>\n",
       "      <td>Yes</td>\n",
       "      <td>Sat</td>\n",
       "      <td>Dinner</td>\n",
       "      <td>2</td>\n",
       "      <td>0.18605</td>\n",
       "    </tr>\n",
       "    <tr>\n",
       "      <th>219</th>\n",
       "      <td>30.14</td>\n",
       "      <td>3.09</td>\n",
       "      <td>Female</td>\n",
       "      <td>Yes</td>\n",
       "      <td>Sat</td>\n",
       "      <td>Dinner</td>\n",
       "      <td>4</td>\n",
       "      <td>0.10252</td>\n",
       "    </tr>\n",
       "    <tr>\n",
       "      <th>220</th>\n",
       "      <td>12.16</td>\n",
       "      <td>2.20</td>\n",
       "      <td>Male</td>\n",
       "      <td>Yes</td>\n",
       "      <td>Fri</td>\n",
       "      <td>Lunch</td>\n",
       "      <td>2</td>\n",
       "      <td>0.18092</td>\n",
       "    </tr>\n",
       "    <tr>\n",
       "      <th>221</th>\n",
       "      <td>13.42</td>\n",
       "      <td>3.48</td>\n",
       "      <td>Female</td>\n",
       "      <td>Yes</td>\n",
       "      <td>Fri</td>\n",
       "      <td>Lunch</td>\n",
       "      <td>2</td>\n",
       "      <td>0.25931</td>\n",
       "    </tr>\n",
       "    <tr>\n",
       "      <th>222</th>\n",
       "      <td>8.58</td>\n",
       "      <td>1.92</td>\n",
       "      <td>Male</td>\n",
       "      <td>Yes</td>\n",
       "      <td>Fri</td>\n",
       "      <td>Lunch</td>\n",
       "      <td>1</td>\n",
       "      <td>0.22378</td>\n",
       "    </tr>\n",
       "    <tr>\n",
       "      <th>223</th>\n",
       "      <td>15.98</td>\n",
       "      <td>3.00</td>\n",
       "      <td>Female</td>\n",
       "      <td>No</td>\n",
       "      <td>Fri</td>\n",
       "      <td>Lunch</td>\n",
       "      <td>3</td>\n",
       "      <td>0.18773</td>\n",
       "    </tr>\n",
       "    <tr>\n",
       "      <th>224</th>\n",
       "      <td>13.42</td>\n",
       "      <td>1.58</td>\n",
       "      <td>Male</td>\n",
       "      <td>Yes</td>\n",
       "      <td>Fri</td>\n",
       "      <td>Lunch</td>\n",
       "      <td>2</td>\n",
       "      <td>0.11773</td>\n",
       "    </tr>\n",
       "    <tr>\n",
       "      <th>225</th>\n",
       "      <td>16.27</td>\n",
       "      <td>2.50</td>\n",
       "      <td>Female</td>\n",
       "      <td>Yes</td>\n",
       "      <td>Fri</td>\n",
       "      <td>Lunch</td>\n",
       "      <td>2</td>\n",
       "      <td>0.15366</td>\n",
       "    </tr>\n",
       "    <tr>\n",
       "      <th>226</th>\n",
       "      <td>10.09</td>\n",
       "      <td>2.00</td>\n",
       "      <td>Female</td>\n",
       "      <td>Yes</td>\n",
       "      <td>Fri</td>\n",
       "      <td>Lunch</td>\n",
       "      <td>2</td>\n",
       "      <td>0.19822</td>\n",
       "    </tr>\n",
       "    <tr>\n",
       "      <th>227</th>\n",
       "      <td>20.45</td>\n",
       "      <td>3.00</td>\n",
       "      <td>Male</td>\n",
       "      <td>No</td>\n",
       "      <td>Sat</td>\n",
       "      <td>Dinner</td>\n",
       "      <td>4</td>\n",
       "      <td>0.14670</td>\n",
       "    </tr>\n",
       "    <tr>\n",
       "      <th>228</th>\n",
       "      <td>13.28</td>\n",
       "      <td>2.72</td>\n",
       "      <td>Male</td>\n",
       "      <td>No</td>\n",
       "      <td>Sat</td>\n",
       "      <td>Dinner</td>\n",
       "      <td>2</td>\n",
       "      <td>0.20482</td>\n",
       "    </tr>\n",
       "    <tr>\n",
       "      <th>229</th>\n",
       "      <td>22.12</td>\n",
       "      <td>2.88</td>\n",
       "      <td>Female</td>\n",
       "      <td>Yes</td>\n",
       "      <td>Sat</td>\n",
       "      <td>Dinner</td>\n",
       "      <td>2</td>\n",
       "      <td>0.13020</td>\n",
       "    </tr>\n",
       "    <tr>\n",
       "      <th>230</th>\n",
       "      <td>24.01</td>\n",
       "      <td>2.00</td>\n",
       "      <td>Male</td>\n",
       "      <td>Yes</td>\n",
       "      <td>Sat</td>\n",
       "      <td>Dinner</td>\n",
       "      <td>4</td>\n",
       "      <td>0.08330</td>\n",
       "    </tr>\n",
       "    <tr>\n",
       "      <th>231</th>\n",
       "      <td>15.69</td>\n",
       "      <td>3.00</td>\n",
       "      <td>Male</td>\n",
       "      <td>Yes</td>\n",
       "      <td>Sat</td>\n",
       "      <td>Dinner</td>\n",
       "      <td>3</td>\n",
       "      <td>0.19120</td>\n",
       "    </tr>\n",
       "    <tr>\n",
       "      <th>232</th>\n",
       "      <td>11.61</td>\n",
       "      <td>3.39</td>\n",
       "      <td>Male</td>\n",
       "      <td>No</td>\n",
       "      <td>Sat</td>\n",
       "      <td>Dinner</td>\n",
       "      <td>2</td>\n",
       "      <td>0.29199</td>\n",
       "    </tr>\n",
       "    <tr>\n",
       "      <th>233</th>\n",
       "      <td>10.77</td>\n",
       "      <td>1.47</td>\n",
       "      <td>Male</td>\n",
       "      <td>No</td>\n",
       "      <td>Sat</td>\n",
       "      <td>Dinner</td>\n",
       "      <td>2</td>\n",
       "      <td>0.13649</td>\n",
       "    </tr>\n",
       "    <tr>\n",
       "      <th>234</th>\n",
       "      <td>15.53</td>\n",
       "      <td>3.00</td>\n",
       "      <td>Male</td>\n",
       "      <td>Yes</td>\n",
       "      <td>Sat</td>\n",
       "      <td>Dinner</td>\n",
       "      <td>2</td>\n",
       "      <td>0.19317</td>\n",
       "    </tr>\n",
       "    <tr>\n",
       "      <th>235</th>\n",
       "      <td>10.07</td>\n",
       "      <td>1.25</td>\n",
       "      <td>Male</td>\n",
       "      <td>No</td>\n",
       "      <td>Sat</td>\n",
       "      <td>Dinner</td>\n",
       "      <td>2</td>\n",
       "      <td>0.12413</td>\n",
       "    </tr>\n",
       "    <tr>\n",
       "      <th>236</th>\n",
       "      <td>12.60</td>\n",
       "      <td>1.00</td>\n",
       "      <td>Male</td>\n",
       "      <td>Yes</td>\n",
       "      <td>Sat</td>\n",
       "      <td>Dinner</td>\n",
       "      <td>2</td>\n",
       "      <td>0.07937</td>\n",
       "    </tr>\n",
       "    <tr>\n",
       "      <th>237</th>\n",
       "      <td>32.83</td>\n",
       "      <td>1.17</td>\n",
       "      <td>Male</td>\n",
       "      <td>Yes</td>\n",
       "      <td>Sat</td>\n",
       "      <td>Dinner</td>\n",
       "      <td>2</td>\n",
       "      <td>0.03564</td>\n",
       "    </tr>\n",
       "    <tr>\n",
       "      <th>238</th>\n",
       "      <td>35.83</td>\n",
       "      <td>4.67</td>\n",
       "      <td>Female</td>\n",
       "      <td>No</td>\n",
       "      <td>Sat</td>\n",
       "      <td>Dinner</td>\n",
       "      <td>3</td>\n",
       "      <td>0.13034</td>\n",
       "    </tr>\n",
       "    <tr>\n",
       "      <th>239</th>\n",
       "      <td>29.03</td>\n",
       "      <td>5.92</td>\n",
       "      <td>Male</td>\n",
       "      <td>No</td>\n",
       "      <td>Sat</td>\n",
       "      <td>Dinner</td>\n",
       "      <td>3</td>\n",
       "      <td>0.20393</td>\n",
       "    </tr>\n",
       "    <tr>\n",
       "      <th>240</th>\n",
       "      <td>27.18</td>\n",
       "      <td>2.00</td>\n",
       "      <td>Female</td>\n",
       "      <td>Yes</td>\n",
       "      <td>Sat</td>\n",
       "      <td>Dinner</td>\n",
       "      <td>2</td>\n",
       "      <td>0.07358</td>\n",
       "    </tr>\n",
       "    <tr>\n",
       "      <th>241</th>\n",
       "      <td>22.67</td>\n",
       "      <td>2.00</td>\n",
       "      <td>Male</td>\n",
       "      <td>Yes</td>\n",
       "      <td>Sat</td>\n",
       "      <td>Dinner</td>\n",
       "      <td>2</td>\n",
       "      <td>0.08822</td>\n",
       "    </tr>\n",
       "    <tr>\n",
       "      <th>242</th>\n",
       "      <td>17.82</td>\n",
       "      <td>1.75</td>\n",
       "      <td>Male</td>\n",
       "      <td>No</td>\n",
       "      <td>Sat</td>\n",
       "      <td>Dinner</td>\n",
       "      <td>2</td>\n",
       "      <td>0.09820</td>\n",
       "    </tr>\n",
       "    <tr>\n",
       "      <th>243</th>\n",
       "      <td>18.78</td>\n",
       "      <td>3.00</td>\n",
       "      <td>Female</td>\n",
       "      <td>No</td>\n",
       "      <td>Thur</td>\n",
       "      <td>Dinner</td>\n",
       "      <td>2</td>\n",
       "      <td>0.15974</td>\n",
       "    </tr>\n",
       "  </tbody>\n",
       "</table>\n",
       "<p>244 rows × 8 columns</p>\n",
       "</div>"
      ],
      "text/plain": [
       "     total_bill   tip     sex smoker   day    time  size  tip_pct\n",
       "0         16.99  1.01  Female     No   Sun  Dinner     2  0.05945\n",
       "1         10.34  1.66    Male     No   Sun  Dinner     3  0.16054\n",
       "2         21.01  3.50    Male     No   Sun  Dinner     3  0.16659\n",
       "3         23.68  3.31    Male     No   Sun  Dinner     2  0.13978\n",
       "4         24.59  3.61  Female     No   Sun  Dinner     4  0.14681\n",
       "5         25.29  4.71    Male     No   Sun  Dinner     4  0.18624\n",
       "6          8.77  2.00    Male     No   Sun  Dinner     2  0.22805\n",
       "7         26.88  3.12    Male     No   Sun  Dinner     4  0.11607\n",
       "8         15.04  1.96    Male     No   Sun  Dinner     2  0.13032\n",
       "9         14.78  3.23    Male     No   Sun  Dinner     2  0.21854\n",
       "10        10.27  1.71    Male     No   Sun  Dinner     2  0.16650\n",
       "11        35.26  5.00  Female     No   Sun  Dinner     4  0.14180\n",
       "12        15.42  1.57    Male     No   Sun  Dinner     2  0.10182\n",
       "13        18.43  3.00    Male     No   Sun  Dinner     4  0.16278\n",
       "14        14.83  3.02  Female     No   Sun  Dinner     2  0.20364\n",
       "15        21.58  3.92    Male     No   Sun  Dinner     2  0.18165\n",
       "16        10.33  1.67  Female     No   Sun  Dinner     3  0.16167\n",
       "17        16.29  3.71    Male     No   Sun  Dinner     3  0.22775\n",
       "18        16.97  3.50  Female     No   Sun  Dinner     3  0.20625\n",
       "19        20.65  3.35    Male     No   Sat  Dinner     3  0.16223\n",
       "20        17.92  4.08    Male     No   Sat  Dinner     2  0.22768\n",
       "21        20.29  2.75  Female     No   Sat  Dinner     2  0.13553\n",
       "22        15.77  2.23  Female     No   Sat  Dinner     2  0.14141\n",
       "23        39.42  7.58    Male     No   Sat  Dinner     4  0.19229\n",
       "24        19.82  3.18    Male     No   Sat  Dinner     2  0.16044\n",
       "25        17.81  2.34    Male     No   Sat  Dinner     4  0.13139\n",
       "26        13.37  2.00    Male     No   Sat  Dinner     2  0.14959\n",
       "27        12.69  2.00    Male     No   Sat  Dinner     2  0.15760\n",
       "28        21.70  4.30    Male     No   Sat  Dinner     2  0.19816\n",
       "29        19.65  3.00  Female     No   Sat  Dinner     2  0.15267\n",
       "..          ...   ...     ...    ...   ...     ...   ...      ...\n",
       "214       28.17  6.50  Female    Yes   Sat  Dinner     3  0.23074\n",
       "215       12.90  1.10  Female    Yes   Sat  Dinner     2  0.08527\n",
       "216       28.15  3.00    Male    Yes   Sat  Dinner     5  0.10657\n",
       "217       11.59  1.50    Male    Yes   Sat  Dinner     2  0.12942\n",
       "218        7.74  1.44    Male    Yes   Sat  Dinner     2  0.18605\n",
       "219       30.14  3.09  Female    Yes   Sat  Dinner     4  0.10252\n",
       "220       12.16  2.20    Male    Yes   Fri   Lunch     2  0.18092\n",
       "221       13.42  3.48  Female    Yes   Fri   Lunch     2  0.25931\n",
       "222        8.58  1.92    Male    Yes   Fri   Lunch     1  0.22378\n",
       "223       15.98  3.00  Female     No   Fri   Lunch     3  0.18773\n",
       "224       13.42  1.58    Male    Yes   Fri   Lunch     2  0.11773\n",
       "225       16.27  2.50  Female    Yes   Fri   Lunch     2  0.15366\n",
       "226       10.09  2.00  Female    Yes   Fri   Lunch     2  0.19822\n",
       "227       20.45  3.00    Male     No   Sat  Dinner     4  0.14670\n",
       "228       13.28  2.72    Male     No   Sat  Dinner     2  0.20482\n",
       "229       22.12  2.88  Female    Yes   Sat  Dinner     2  0.13020\n",
       "230       24.01  2.00    Male    Yes   Sat  Dinner     4  0.08330\n",
       "231       15.69  3.00    Male    Yes   Sat  Dinner     3  0.19120\n",
       "232       11.61  3.39    Male     No   Sat  Dinner     2  0.29199\n",
       "233       10.77  1.47    Male     No   Sat  Dinner     2  0.13649\n",
       "234       15.53  3.00    Male    Yes   Sat  Dinner     2  0.19317\n",
       "235       10.07  1.25    Male     No   Sat  Dinner     2  0.12413\n",
       "236       12.60  1.00    Male    Yes   Sat  Dinner     2  0.07937\n",
       "237       32.83  1.17    Male    Yes   Sat  Dinner     2  0.03564\n",
       "238       35.83  4.67  Female     No   Sat  Dinner     3  0.13034\n",
       "239       29.03  5.92    Male     No   Sat  Dinner     3  0.20393\n",
       "240       27.18  2.00  Female    Yes   Sat  Dinner     2  0.07358\n",
       "241       22.67  2.00    Male    Yes   Sat  Dinner     2  0.08822\n",
       "242       17.82  1.75    Male     No   Sat  Dinner     2  0.09820\n",
       "243       18.78  3.00  Female     No  Thur  Dinner     2  0.15974\n",
       "\n",
       "[244 rows x 8 columns]"
      ]
     },
     "execution_count": 280,
     "metadata": {},
     "output_type": "execute_result"
    }
   ],
   "source": [
    "tips"
   ]
  },
  {
   "cell_type": "code",
   "execution_count": 281,
   "metadata": {},
   "outputs": [
    {
     "data": {
      "text/plain": [
       "sex     smoker\n",
       "Female  No        0.15692\n",
       "        Yes       0.18215\n",
       "Male    No        0.16067\n",
       "        Yes       0.15277\n",
       "Name: tip_pct, dtype: float64"
      ]
     },
     "execution_count": 281,
     "metadata": {},
     "output_type": "execute_result"
    }
   ],
   "source": [
    "grouped = tips.groupby(['sex', 'smoker'])\n",
    "grouped['tip_pct'].mean()"
   ]
  },
  {
   "cell_type": "markdown",
   "metadata": {},
   "source": [
    "Avec une/des fonctions d'aggrégation'"
   ]
  },
  {
   "cell_type": "code",
   "execution_count": 282,
   "metadata": {},
   "outputs": [
    {
     "data": {
      "text/html": [
       "<div>\n",
       "<style scoped>\n",
       "    .dataframe tbody tr th:only-of-type {\n",
       "        vertical-align: middle;\n",
       "    }\n",
       "\n",
       "    .dataframe tbody tr th {\n",
       "        vertical-align: top;\n",
       "    }\n",
       "\n",
       "    .dataframe thead th {\n",
       "        text-align: right;\n",
       "    }\n",
       "</style>\n",
       "<table border=\"1\" class=\"dataframe\">\n",
       "  <thead>\n",
       "    <tr style=\"text-align: right;\">\n",
       "      <th></th>\n",
       "      <th></th>\n",
       "      <th>mean</th>\n",
       "      <th>std</th>\n",
       "      <th>&lt;lambda&gt;</th>\n",
       "    </tr>\n",
       "    <tr>\n",
       "      <th>sex</th>\n",
       "      <th>smoker</th>\n",
       "      <th></th>\n",
       "      <th></th>\n",
       "      <th></th>\n",
       "    </tr>\n",
       "  </thead>\n",
       "  <tbody>\n",
       "    <tr>\n",
       "      <th rowspan=\"2\" valign=\"top\">Female</th>\n",
       "      <th>No</th>\n",
       "      <td>0.15692</td>\n",
       "      <td>0.03642</td>\n",
       "      <td>0.19588</td>\n",
       "    </tr>\n",
       "    <tr>\n",
       "      <th>Yes</th>\n",
       "      <td>0.18215</td>\n",
       "      <td>0.07159</td>\n",
       "      <td>0.36023</td>\n",
       "    </tr>\n",
       "    <tr>\n",
       "      <th rowspan=\"2\" valign=\"top\">Male</th>\n",
       "      <th>No</th>\n",
       "      <td>0.16067</td>\n",
       "      <td>0.04185</td>\n",
       "      <td>0.22019</td>\n",
       "    </tr>\n",
       "    <tr>\n",
       "      <th>Yes</th>\n",
       "      <td>0.15277</td>\n",
       "      <td>0.09059</td>\n",
       "      <td>0.67471</td>\n",
       "    </tr>\n",
       "  </tbody>\n",
       "</table>\n",
       "</div>"
      ],
      "text/plain": [
       "                  mean      std  <lambda>\n",
       "sex    smoker                            \n",
       "Female No      0.15692  0.03642   0.19588\n",
       "       Yes     0.18215  0.07159   0.36023\n",
       "Male   No      0.16067  0.04185   0.22019\n",
       "       Yes     0.15277  0.09059   0.67471"
      ]
     },
     "execution_count": 282,
     "metadata": {},
     "output_type": "execute_result"
    }
   ],
   "source": [
    "grouped['tip_pct'].agg(['mean', 'std', lambda x: x.max() - x.min()])"
   ]
  },
  {
   "cell_type": "code",
   "execution_count": 283,
   "metadata": {},
   "outputs": [
    {
     "data": {
      "text/html": [
       "<div>\n",
       "<style scoped>\n",
       "    .dataframe tbody tr th:only-of-type {\n",
       "        vertical-align: middle;\n",
       "    }\n",
       "\n",
       "    .dataframe tbody tr th {\n",
       "        vertical-align: top;\n",
       "    }\n",
       "\n",
       "    .dataframe thead th {\n",
       "        text-align: right;\n",
       "    }\n",
       "</style>\n",
       "<table border=\"1\" class=\"dataframe\">\n",
       "  <thead>\n",
       "    <tr style=\"text-align: right;\">\n",
       "      <th></th>\n",
       "      <th></th>\n",
       "      <th>mean</th>\n",
       "      <th>std</th>\n",
       "      <th>mondelta</th>\n",
       "    </tr>\n",
       "    <tr>\n",
       "      <th>sex</th>\n",
       "      <th>smoker</th>\n",
       "      <th></th>\n",
       "      <th></th>\n",
       "      <th></th>\n",
       "    </tr>\n",
       "  </thead>\n",
       "  <tbody>\n",
       "    <tr>\n",
       "      <th rowspan=\"2\" valign=\"top\">Female</th>\n",
       "      <th>No</th>\n",
       "      <td>0.15692</td>\n",
       "      <td>0.03642</td>\n",
       "      <td>0.19588</td>\n",
       "    </tr>\n",
       "    <tr>\n",
       "      <th>Yes</th>\n",
       "      <td>0.18215</td>\n",
       "      <td>0.07159</td>\n",
       "      <td>0.36023</td>\n",
       "    </tr>\n",
       "    <tr>\n",
       "      <th rowspan=\"2\" valign=\"top\">Male</th>\n",
       "      <th>No</th>\n",
       "      <td>0.16067</td>\n",
       "      <td>0.04185</td>\n",
       "      <td>0.22019</td>\n",
       "    </tr>\n",
       "    <tr>\n",
       "      <th>Yes</th>\n",
       "      <td>0.15277</td>\n",
       "      <td>0.09059</td>\n",
       "      <td>0.67471</td>\n",
       "    </tr>\n",
       "  </tbody>\n",
       "</table>\n",
       "</div>"
      ],
      "text/plain": [
       "                  mean      std  mondelta\n",
       "sex    smoker                            \n",
       "Female No      0.15692  0.03642   0.19588\n",
       "       Yes     0.18215  0.07159   0.36023\n",
       "Male   No      0.16067  0.04185   0.22019\n",
       "       Yes     0.15277  0.09059   0.67471"
      ]
     },
     "execution_count": 283,
     "metadata": {},
     "output_type": "execute_result"
    }
   ],
   "source": [
    "def mondelta(x):\n",
    "    return x.max() - x.min()\n",
    "\n",
    "\n",
    "grouped['tip_pct'].agg(['mean', 'std', mondelta])"
   ]
  },
  {
   "cell_type": "code",
   "execution_count": 284,
   "metadata": {},
   "outputs": [
    {
     "name": "stderr",
     "output_type": "stream",
     "text": [
      "/home/bercherj/.local/lib/python3.5/site-packages/ipykernel_launcher.py:1: FutureWarning: using a dict on a Series for aggregation\n",
      "is deprecated and will be removed in a future version\n",
      "  \"\"\"Entry point for launching an IPython kernel.\n"
     ]
    },
    {
     "data": {
      "text/html": [
       "<div>\n",
       "<style scoped>\n",
       "    .dataframe tbody tr th:only-of-type {\n",
       "        vertical-align: middle;\n",
       "    }\n",
       "\n",
       "    .dataframe tbody tr th {\n",
       "        vertical-align: top;\n",
       "    }\n",
       "\n",
       "    .dataframe thead th {\n",
       "        text-align: right;\n",
       "    }\n",
       "</style>\n",
       "<table border=\"1\" class=\"dataframe\">\n",
       "  <thead>\n",
       "    <tr style=\"text-align: right;\">\n",
       "      <th></th>\n",
       "      <th></th>\n",
       "      <th>delta</th>\n",
       "      <th>std</th>\n",
       "      <th>mean</th>\n",
       "    </tr>\n",
       "    <tr>\n",
       "      <th>sex</th>\n",
       "      <th>smoker</th>\n",
       "      <th></th>\n",
       "      <th></th>\n",
       "      <th></th>\n",
       "    </tr>\n",
       "  </thead>\n",
       "  <tbody>\n",
       "    <tr>\n",
       "      <th rowspan=\"2\" valign=\"top\">Female</th>\n",
       "      <th>No</th>\n",
       "      <td>0.19588</td>\n",
       "      <td>0.03642</td>\n",
       "      <td>0.15692</td>\n",
       "    </tr>\n",
       "    <tr>\n",
       "      <th>Yes</th>\n",
       "      <td>0.36023</td>\n",
       "      <td>0.07159</td>\n",
       "      <td>0.18215</td>\n",
       "    </tr>\n",
       "    <tr>\n",
       "      <th rowspan=\"2\" valign=\"top\">Male</th>\n",
       "      <th>No</th>\n",
       "      <td>0.22019</td>\n",
       "      <td>0.04185</td>\n",
       "      <td>0.16067</td>\n",
       "    </tr>\n",
       "    <tr>\n",
       "      <th>Yes</th>\n",
       "      <td>0.67471</td>\n",
       "      <td>0.09059</td>\n",
       "      <td>0.15277</td>\n",
       "    </tr>\n",
       "  </tbody>\n",
       "</table>\n",
       "</div>"
      ],
      "text/plain": [
       "                 delta      std     mean\n",
       "sex    smoker                           \n",
       "Female No      0.19588  0.03642  0.15692\n",
       "       Yes     0.36023  0.07159  0.18215\n",
       "Male   No      0.22019  0.04185  0.16067\n",
       "       Yes     0.67471  0.09059  0.15277"
      ]
     },
     "execution_count": 284,
     "metadata": {},
     "output_type": "execute_result"
    }
   ],
   "source": [
    "grouped['tip_pct'].agg({'mean': np.mean, 'std': 'std', \"delta\": mondelta})"
   ]
  },
  {
   "cell_type": "markdown",
   "metadata": {},
   "source": [
    "On peut extraire les groupes de la manière suivante :\n",
    " - soit en construisant un dictionnaire dont les clés/valeurs correspondent aux différents groupes,\n",
    " - soit en utilisant le getter correspondant (qui fait sans doute ça)\n",
    " - en récupérant les labels correspondant à chacun des groupes"
   ]
  },
  {
   "cell_type": "code",
   "execution_count": null,
   "metadata": {},
   "outputs": [],
   "source": [
    "groups = dict(list(grouped))\n",
    "groups[('Female', 'No')].head()"
   ]
  },
  {
   "cell_type": "code",
   "execution_count": 285,
   "metadata": {},
   "outputs": [
    {
     "data": {
      "text/html": [
       "<div>\n",
       "<style scoped>\n",
       "    .dataframe tbody tr th:only-of-type {\n",
       "        vertical-align: middle;\n",
       "    }\n",
       "\n",
       "    .dataframe tbody tr th {\n",
       "        vertical-align: top;\n",
       "    }\n",
       "\n",
       "    .dataframe thead th {\n",
       "        text-align: right;\n",
       "    }\n",
       "</style>\n",
       "<table border=\"1\" class=\"dataframe\">\n",
       "  <thead>\n",
       "    <tr style=\"text-align: right;\">\n",
       "      <th></th>\n",
       "      <th>total_bill</th>\n",
       "      <th>tip</th>\n",
       "      <th>sex</th>\n",
       "      <th>smoker</th>\n",
       "      <th>day</th>\n",
       "      <th>time</th>\n",
       "      <th>size</th>\n",
       "      <th>tip_pct</th>\n",
       "    </tr>\n",
       "  </thead>\n",
       "  <tbody>\n",
       "    <tr>\n",
       "      <th>0</th>\n",
       "      <td>16.99</td>\n",
       "      <td>1.01</td>\n",
       "      <td>Female</td>\n",
       "      <td>No</td>\n",
       "      <td>Sun</td>\n",
       "      <td>Dinner</td>\n",
       "      <td>2</td>\n",
       "      <td>0.05945</td>\n",
       "    </tr>\n",
       "    <tr>\n",
       "      <th>4</th>\n",
       "      <td>24.59</td>\n",
       "      <td>3.61</td>\n",
       "      <td>Female</td>\n",
       "      <td>No</td>\n",
       "      <td>Sun</td>\n",
       "      <td>Dinner</td>\n",
       "      <td>4</td>\n",
       "      <td>0.14681</td>\n",
       "    </tr>\n",
       "    <tr>\n",
       "      <th>11</th>\n",
       "      <td>35.26</td>\n",
       "      <td>5.00</td>\n",
       "      <td>Female</td>\n",
       "      <td>No</td>\n",
       "      <td>Sun</td>\n",
       "      <td>Dinner</td>\n",
       "      <td>4</td>\n",
       "      <td>0.14180</td>\n",
       "    </tr>\n",
       "    <tr>\n",
       "      <th>14</th>\n",
       "      <td>14.83</td>\n",
       "      <td>3.02</td>\n",
       "      <td>Female</td>\n",
       "      <td>No</td>\n",
       "      <td>Sun</td>\n",
       "      <td>Dinner</td>\n",
       "      <td>2</td>\n",
       "      <td>0.20364</td>\n",
       "    </tr>\n",
       "    <tr>\n",
       "      <th>16</th>\n",
       "      <td>10.33</td>\n",
       "      <td>1.67</td>\n",
       "      <td>Female</td>\n",
       "      <td>No</td>\n",
       "      <td>Sun</td>\n",
       "      <td>Dinner</td>\n",
       "      <td>3</td>\n",
       "      <td>0.16167</td>\n",
       "    </tr>\n",
       "  </tbody>\n",
       "</table>\n",
       "</div>"
      ],
      "text/plain": [
       "    total_bill   tip     sex smoker  day    time  size  tip_pct\n",
       "0        16.99  1.01  Female     No  Sun  Dinner     2  0.05945\n",
       "4        24.59  3.61  Female     No  Sun  Dinner     4  0.14681\n",
       "11       35.26  5.00  Female     No  Sun  Dinner     4  0.14180\n",
       "14       14.83  3.02  Female     No  Sun  Dinner     2  0.20364\n",
       "16       10.33  1.67  Female     No  Sun  Dinner     3  0.16167"
      ]
     },
     "execution_count": 285,
     "metadata": {},
     "output_type": "execute_result"
    }
   ],
   "source": [
    "grouped.get_group(('Female', 'No')).head()"
   ]
  },
  {
   "cell_type": "markdown",
   "metadata": {},
   "source": [
    "On peut extraire/accéder aux groupes par  `groups` (qui rend les labels corresponfants). "
   ]
  },
  {
   "cell_type": "code",
   "execution_count": null,
   "metadata": {},
   "outputs": [],
   "source": [
    "fem_no = grouped.groups['Female', 'No']  #--> labels\n",
    "fem_no[:5]"
   ]
  },
  {
   "cell_type": "code",
   "execution_count": null,
   "metadata": {},
   "outputs": [],
   "source": [
    "tips.loc[fem_no].head()"
   ]
  },
  {
   "cell_type": "markdown",
   "metadata": {},
   "source": [
    "On peut itérer sur les groupes"
   ]
  },
  {
   "cell_type": "code",
   "execution_count": null,
   "metadata": {},
   "outputs": [],
   "source": [
    "for l, g in grouped:\n",
    "    print(l)"
   ]
  },
  {
   "cell_type": "markdown",
   "metadata": {},
   "source": [
    "## pivot_table"
   ]
  },
  {
   "cell_type": "markdown",
   "metadata": {},
   "source": [
    "Une [table croisée dynamique](https://fr.wikipedia.org/wiki/Tableau_crois%C3%A9_dynamique) (*pivot table*) est une fonctionnalité générant **une table synthétique** que l'on rencontre dans certains tableurs. La table croisée est essentiellement une version multidimensionnelle d'une aggréggation groupby : les opérations de split en combine se déroulent avect un index multidimensionnel et non pas simplement monodimensionnel. Bien entendu la table croisée peut être obtenue par une succession d'opérations de groupby. "
   ]
  },
  {
   "cell_type": "markdown",
   "metadata": {},
   "source": [
    "L'exemple donné ci-dessous est repris de [Python Data Science Handbook, de Jake VanderPlas](http://shop.oreilly.com/product/0636920034919.do)."
   ]
  },
  {
   "cell_type": "code",
   "execution_count": 286,
   "metadata": {},
   "outputs": [
    {
     "data": {
      "text/html": [
       "<div>\n",
       "<style scoped>\n",
       "    .dataframe tbody tr th:only-of-type {\n",
       "        vertical-align: middle;\n",
       "    }\n",
       "\n",
       "    .dataframe tbody tr th {\n",
       "        vertical-align: top;\n",
       "    }\n",
       "\n",
       "    .dataframe thead th {\n",
       "        text-align: right;\n",
       "    }\n",
       "</style>\n",
       "<table border=\"1\" class=\"dataframe\">\n",
       "  <thead>\n",
       "    <tr style=\"text-align: right;\">\n",
       "      <th></th>\n",
       "      <th>Unnamed: 0</th>\n",
       "      <th>survived</th>\n",
       "      <th>pclass</th>\n",
       "      <th>sex</th>\n",
       "      <th>age</th>\n",
       "      <th>sibsp</th>\n",
       "      <th>parch</th>\n",
       "      <th>fare</th>\n",
       "      <th>embarked</th>\n",
       "      <th>class</th>\n",
       "      <th>who</th>\n",
       "      <th>adult_male</th>\n",
       "      <th>deck</th>\n",
       "      <th>embark_town</th>\n",
       "      <th>alive</th>\n",
       "      <th>alone</th>\n",
       "    </tr>\n",
       "  </thead>\n",
       "  <tbody>\n",
       "    <tr>\n",
       "      <th>0</th>\n",
       "      <td>0</td>\n",
       "      <td>0</td>\n",
       "      <td>3</td>\n",
       "      <td>male</td>\n",
       "      <td>22.0</td>\n",
       "      <td>1</td>\n",
       "      <td>0</td>\n",
       "      <td>7.2500</td>\n",
       "      <td>S</td>\n",
       "      <td>Third</td>\n",
       "      <td>man</td>\n",
       "      <td>True</td>\n",
       "      <td>NaN</td>\n",
       "      <td>Southampton</td>\n",
       "      <td>no</td>\n",
       "      <td>False</td>\n",
       "    </tr>\n",
       "    <tr>\n",
       "      <th>1</th>\n",
       "      <td>1</td>\n",
       "      <td>1</td>\n",
       "      <td>1</td>\n",
       "      <td>female</td>\n",
       "      <td>38.0</td>\n",
       "      <td>1</td>\n",
       "      <td>0</td>\n",
       "      <td>71.2833</td>\n",
       "      <td>C</td>\n",
       "      <td>First</td>\n",
       "      <td>woman</td>\n",
       "      <td>False</td>\n",
       "      <td>C</td>\n",
       "      <td>Cherbourg</td>\n",
       "      <td>yes</td>\n",
       "      <td>False</td>\n",
       "    </tr>\n",
       "    <tr>\n",
       "      <th>2</th>\n",
       "      <td>2</td>\n",
       "      <td>1</td>\n",
       "      <td>3</td>\n",
       "      <td>female</td>\n",
       "      <td>26.0</td>\n",
       "      <td>0</td>\n",
       "      <td>0</td>\n",
       "      <td>7.9250</td>\n",
       "      <td>S</td>\n",
       "      <td>Third</td>\n",
       "      <td>woman</td>\n",
       "      <td>False</td>\n",
       "      <td>NaN</td>\n",
       "      <td>Southampton</td>\n",
       "      <td>yes</td>\n",
       "      <td>True</td>\n",
       "    </tr>\n",
       "    <tr>\n",
       "      <th>3</th>\n",
       "      <td>3</td>\n",
       "      <td>1</td>\n",
       "      <td>1</td>\n",
       "      <td>female</td>\n",
       "      <td>35.0</td>\n",
       "      <td>1</td>\n",
       "      <td>0</td>\n",
       "      <td>53.1000</td>\n",
       "      <td>S</td>\n",
       "      <td>First</td>\n",
       "      <td>woman</td>\n",
       "      <td>False</td>\n",
       "      <td>C</td>\n",
       "      <td>Southampton</td>\n",
       "      <td>yes</td>\n",
       "      <td>False</td>\n",
       "    </tr>\n",
       "    <tr>\n",
       "      <th>4</th>\n",
       "      <td>4</td>\n",
       "      <td>0</td>\n",
       "      <td>3</td>\n",
       "      <td>male</td>\n",
       "      <td>35.0</td>\n",
       "      <td>0</td>\n",
       "      <td>0</td>\n",
       "      <td>8.0500</td>\n",
       "      <td>S</td>\n",
       "      <td>Third</td>\n",
       "      <td>man</td>\n",
       "      <td>True</td>\n",
       "      <td>NaN</td>\n",
       "      <td>Southampton</td>\n",
       "      <td>no</td>\n",
       "      <td>True</td>\n",
       "    </tr>\n",
       "  </tbody>\n",
       "</table>\n",
       "</div>"
      ],
      "text/plain": [
       "   Unnamed: 0  survived  pclass     sex   age  sibsp  parch     fare embarked  \\\n",
       "0           0         0       3    male  22.0      1      0   7.2500        S   \n",
       "1           1         1       1  female  38.0      1      0  71.2833        C   \n",
       "2           2         1       3  female  26.0      0      0   7.9250        S   \n",
       "3           3         1       1  female  35.0      1      0  53.1000        S   \n",
       "4           4         0       3    male  35.0      0      0   8.0500        S   \n",
       "\n",
       "   class    who  adult_male deck  embark_town alive  alone  \n",
       "0  Third    man        True  NaN  Southampton    no  False  \n",
       "1  First  woman       False    C    Cherbourg   yes  False  \n",
       "2  Third  woman       False  NaN  Southampton   yes   True  \n",
       "3  First  woman       False    C  Southampton   yes  False  \n",
       "4  Third    man        True  NaN  Southampton    no   True  "
      ]
     },
     "execution_count": 286,
     "metadata": {},
     "output_type": "execute_result"
    }
   ],
   "source": [
    "titanic = pd.read_csv(\"titanic.csv\")\n",
    "titanic.head()"
   ]
  },
  {
   "cell_type": "code",
   "execution_count": 287,
   "metadata": {},
   "outputs": [
    {
     "data": {
      "text/html": [
       "<div>\n",
       "<style scoped>\n",
       "    .dataframe tbody tr th:only-of-type {\n",
       "        vertical-align: middle;\n",
       "    }\n",
       "\n",
       "    .dataframe tbody tr th {\n",
       "        vertical-align: top;\n",
       "    }\n",
       "\n",
       "    .dataframe thead th {\n",
       "        text-align: right;\n",
       "    }\n",
       "</style>\n",
       "<table border=\"1\" class=\"dataframe\">\n",
       "  <thead>\n",
       "    <tr style=\"text-align: right;\">\n",
       "      <th></th>\n",
       "      <th>Unnamed: 0</th>\n",
       "      <th>survived</th>\n",
       "      <th>pclass</th>\n",
       "      <th>age</th>\n",
       "      <th>sibsp</th>\n",
       "      <th>parch</th>\n",
       "      <th>fare</th>\n",
       "    </tr>\n",
       "  </thead>\n",
       "  <tbody>\n",
       "    <tr>\n",
       "      <th>count</th>\n",
       "      <td>891.00000</td>\n",
       "      <td>891.00000</td>\n",
       "      <td>891.00000</td>\n",
       "      <td>714.00000</td>\n",
       "      <td>891.00000</td>\n",
       "      <td>891.00000</td>\n",
       "      <td>891.00000</td>\n",
       "    </tr>\n",
       "    <tr>\n",
       "      <th>mean</th>\n",
       "      <td>445.00000</td>\n",
       "      <td>0.38384</td>\n",
       "      <td>2.30864</td>\n",
       "      <td>29.69912</td>\n",
       "      <td>0.52301</td>\n",
       "      <td>0.38159</td>\n",
       "      <td>32.20421</td>\n",
       "    </tr>\n",
       "    <tr>\n",
       "      <th>std</th>\n",
       "      <td>257.35384</td>\n",
       "      <td>0.48659</td>\n",
       "      <td>0.83607</td>\n",
       "      <td>14.52650</td>\n",
       "      <td>1.10274</td>\n",
       "      <td>0.80606</td>\n",
       "      <td>49.69343</td>\n",
       "    </tr>\n",
       "    <tr>\n",
       "      <th>min</th>\n",
       "      <td>0.00000</td>\n",
       "      <td>0.00000</td>\n",
       "      <td>1.00000</td>\n",
       "      <td>0.42000</td>\n",
       "      <td>0.00000</td>\n",
       "      <td>0.00000</td>\n",
       "      <td>0.00000</td>\n",
       "    </tr>\n",
       "    <tr>\n",
       "      <th>25%</th>\n",
       "      <td>222.50000</td>\n",
       "      <td>0.00000</td>\n",
       "      <td>2.00000</td>\n",
       "      <td>20.12500</td>\n",
       "      <td>0.00000</td>\n",
       "      <td>0.00000</td>\n",
       "      <td>7.91040</td>\n",
       "    </tr>\n",
       "    <tr>\n",
       "      <th>50%</th>\n",
       "      <td>445.00000</td>\n",
       "      <td>0.00000</td>\n",
       "      <td>3.00000</td>\n",
       "      <td>28.00000</td>\n",
       "      <td>0.00000</td>\n",
       "      <td>0.00000</td>\n",
       "      <td>14.45420</td>\n",
       "    </tr>\n",
       "    <tr>\n",
       "      <th>75%</th>\n",
       "      <td>667.50000</td>\n",
       "      <td>1.00000</td>\n",
       "      <td>3.00000</td>\n",
       "      <td>38.00000</td>\n",
       "      <td>1.00000</td>\n",
       "      <td>0.00000</td>\n",
       "      <td>31.00000</td>\n",
       "    </tr>\n",
       "    <tr>\n",
       "      <th>max</th>\n",
       "      <td>890.00000</td>\n",
       "      <td>1.00000</td>\n",
       "      <td>3.00000</td>\n",
       "      <td>80.00000</td>\n",
       "      <td>8.00000</td>\n",
       "      <td>6.00000</td>\n",
       "      <td>512.32920</td>\n",
       "    </tr>\n",
       "  </tbody>\n",
       "</table>\n",
       "</div>"
      ],
      "text/plain": [
       "       Unnamed: 0   survived     pclass        age      sibsp      parch  \\\n",
       "count   891.00000  891.00000  891.00000  714.00000  891.00000  891.00000   \n",
       "mean    445.00000    0.38384    2.30864   29.69912    0.52301    0.38159   \n",
       "std     257.35384    0.48659    0.83607   14.52650    1.10274    0.80606   \n",
       "min       0.00000    0.00000    1.00000    0.42000    0.00000    0.00000   \n",
       "25%     222.50000    0.00000    2.00000   20.12500    0.00000    0.00000   \n",
       "50%     445.00000    0.00000    3.00000   28.00000    0.00000    0.00000   \n",
       "75%     667.50000    1.00000    3.00000   38.00000    1.00000    0.00000   \n",
       "max     890.00000    1.00000    3.00000   80.00000    8.00000    6.00000   \n",
       "\n",
       "            fare  \n",
       "count  891.00000  \n",
       "mean    32.20421  \n",
       "std     49.69343  \n",
       "min      0.00000  \n",
       "25%      7.91040  \n",
       "50%     14.45420  \n",
       "75%     31.00000  \n",
       "max    512.32920  "
      ]
     },
     "execution_count": 287,
     "metadata": {},
     "output_type": "execute_result"
    }
   ],
   "source": [
    "titanic.describe()"
   ]
  },
  {
   "cell_type": "markdown",
   "metadata": {},
   "source": [
    "On groupe les données par sexe, on sélectionne la colonne survie et on calcule le taux de survie :"
   ]
  },
  {
   "cell_type": "code",
   "execution_count": 288,
   "metadata": {},
   "outputs": [
    {
     "data": {
      "text/html": [
       "<div>\n",
       "<style scoped>\n",
       "    .dataframe tbody tr th:only-of-type {\n",
       "        vertical-align: middle;\n",
       "    }\n",
       "\n",
       "    .dataframe tbody tr th {\n",
       "        vertical-align: top;\n",
       "    }\n",
       "\n",
       "    .dataframe thead th {\n",
       "        text-align: right;\n",
       "    }\n",
       "</style>\n",
       "<table border=\"1\" class=\"dataframe\">\n",
       "  <thead>\n",
       "    <tr style=\"text-align: right;\">\n",
       "      <th></th>\n",
       "      <th>survived</th>\n",
       "    </tr>\n",
       "    <tr>\n",
       "      <th>sex</th>\n",
       "      <th></th>\n",
       "    </tr>\n",
       "  </thead>\n",
       "  <tbody>\n",
       "    <tr>\n",
       "      <th>female</th>\n",
       "      <td>0.74204</td>\n",
       "    </tr>\n",
       "    <tr>\n",
       "      <th>male</th>\n",
       "      <td>0.18891</td>\n",
       "    </tr>\n",
       "  </tbody>\n",
       "</table>\n",
       "</div>"
      ],
      "text/plain": [
       "        survived\n",
       "sex             \n",
       "female   0.74204\n",
       "male     0.18891"
      ]
     },
     "execution_count": 288,
     "metadata": {},
     "output_type": "execute_result"
    }
   ],
   "source": [
    "titanic.groupby('sex')[['survived']].mean()"
   ]
  },
  {
   "cell_type": "markdown",
   "metadata": {},
   "source": [
    "On choisit maintenant un second facteur, la classe, on **split** en sélectionnant les groupes, on applique **apply** une opération sur chacun des groupes (`aggregate(mean)`), puis on **combine** les résultats avant de les représenter. "
   ]
  },
  {
   "cell_type": "code",
   "execution_count": 289,
   "metadata": {},
   "outputs": [
    {
     "data": {
      "text/html": [
       "<div>\n",
       "<style scoped>\n",
       "    .dataframe tbody tr th:only-of-type {\n",
       "        vertical-align: middle;\n",
       "    }\n",
       "\n",
       "    .dataframe tbody tr th {\n",
       "        vertical-align: top;\n",
       "    }\n",
       "\n",
       "    .dataframe thead th {\n",
       "        text-align: right;\n",
       "    }\n",
       "</style>\n",
       "<table border=\"1\" class=\"dataframe\">\n",
       "  <thead>\n",
       "    <tr style=\"text-align: right;\">\n",
       "      <th>class</th>\n",
       "      <th>First</th>\n",
       "      <th>Second</th>\n",
       "      <th>Third</th>\n",
       "    </tr>\n",
       "    <tr>\n",
       "      <th>sex</th>\n",
       "      <th></th>\n",
       "      <th></th>\n",
       "      <th></th>\n",
       "    </tr>\n",
       "  </thead>\n",
       "  <tbody>\n",
       "    <tr>\n",
       "      <th>female</th>\n",
       "      <td>0.96809</td>\n",
       "      <td>0.92105</td>\n",
       "      <td>0.50000</td>\n",
       "    </tr>\n",
       "    <tr>\n",
       "      <th>male</th>\n",
       "      <td>0.36885</td>\n",
       "      <td>0.15741</td>\n",
       "      <td>0.13545</td>\n",
       "    </tr>\n",
       "  </tbody>\n",
       "</table>\n",
       "</div>"
      ],
      "text/plain": [
       "class     First   Second    Third\n",
       "sex                              \n",
       "female  0.96809  0.92105  0.50000\n",
       "male    0.36885  0.15741  0.13545"
      ]
     },
     "execution_count": 289,
     "metadata": {},
     "output_type": "execute_result"
    }
   ],
   "source": [
    "titanic.groupby(['sex', 'class'])['survived'].aggregate('mean').unstack()"
   ]
  },
  {
   "cell_type": "markdown",
   "metadata": {},
   "source": [
    "On en tire des observations édifiantes et on constate qu'en effet Kate avait bien plus de chances de survivre (~97%) que Leo (13.5%) !"
   ]
  },
  {
   "cell_type": "markdown",
   "metadata": {},
   "source": [
    "Cette table peut être obtenue directement via la méthode `pivot_table`. "
   ]
  },
  {
   "cell_type": "code",
   "execution_count": 290,
   "metadata": {},
   "outputs": [
    {
     "data": {
      "text/html": [
       "<div>\n",
       "<style scoped>\n",
       "    .dataframe tbody tr th:only-of-type {\n",
       "        vertical-align: middle;\n",
       "    }\n",
       "\n",
       "    .dataframe tbody tr th {\n",
       "        vertical-align: top;\n",
       "    }\n",
       "\n",
       "    .dataframe thead th {\n",
       "        text-align: right;\n",
       "    }\n",
       "</style>\n",
       "<table border=\"1\" class=\"dataframe\">\n",
       "  <thead>\n",
       "    <tr style=\"text-align: right;\">\n",
       "      <th>class</th>\n",
       "      <th>First</th>\n",
       "      <th>Second</th>\n",
       "      <th>Third</th>\n",
       "      <th>All</th>\n",
       "    </tr>\n",
       "    <tr>\n",
       "      <th>sex</th>\n",
       "      <th></th>\n",
       "      <th></th>\n",
       "      <th></th>\n",
       "      <th></th>\n",
       "    </tr>\n",
       "  </thead>\n",
       "  <tbody>\n",
       "    <tr>\n",
       "      <th>female</th>\n",
       "      <td>0.96809</td>\n",
       "      <td>0.92105</td>\n",
       "      <td>0.50000</td>\n",
       "      <td>0.74204</td>\n",
       "    </tr>\n",
       "    <tr>\n",
       "      <th>male</th>\n",
       "      <td>0.36885</td>\n",
       "      <td>0.15741</td>\n",
       "      <td>0.13545</td>\n",
       "      <td>0.18891</td>\n",
       "    </tr>\n",
       "    <tr>\n",
       "      <th>All</th>\n",
       "      <td>0.62963</td>\n",
       "      <td>0.47283</td>\n",
       "      <td>0.24236</td>\n",
       "      <td>0.38384</td>\n",
       "    </tr>\n",
       "  </tbody>\n",
       "</table>\n",
       "</div>"
      ],
      "text/plain": [
       "class     First   Second    Third      All\n",
       "sex                                       \n",
       "female  0.96809  0.92105  0.50000  0.74204\n",
       "male    0.36885  0.15741  0.13545  0.18891\n",
       "All     0.62963  0.47283  0.24236  0.38384"
      ]
     },
     "execution_count": 290,
     "metadata": {},
     "output_type": "execute_result"
    }
   ],
   "source": [
    "titanic.pivot_table('survived', index='sex', columns='class', margins=True)"
   ]
  },
  {
   "cell_type": "markdown",
   "metadata": {},
   "source": [
    "La fonction d'aggrégation par défaut est la moyenne `aggfunc='mean'`, mais on peut utiliser d'autres fonctions. "
   ]
  },
  {
   "cell_type": "markdown",
   "metadata": {},
   "source": [
    "Il est possible d'ajouter des dimensions, simplement sur le mode MultiIndex. Poursuivons sur l'exemple du Titanic, avec l'aide de Jake VanderPlas. \n",
    "\n",
    "On débute en introduisant l'age comme donnée. Pour cela on définit deux intervalles à l'aide de la fonction `pd.cut` qui teste l'appartenance à un intervalle :\n"
   ]
  },
  {
   "cell_type": "code",
   "execution_count": 291,
   "metadata": {},
   "outputs": [
    {
     "data": {
      "text/plain": [
       "0    (16, 80]\n",
       "1    (16, 80]\n",
       "2    (16, 80]\n",
       "3    (16, 80]\n",
       "4    (16, 80]\n",
       "5         NaN\n",
       "6    (16, 80]\n",
       "7     (0, 16]\n",
       "8    (16, 80]\n",
       "9     (0, 16]\n",
       "Name: age, dtype: category\n",
       "Categories (2, interval[int64]): [(0, 16] < (16, 80]]"
      ]
     },
     "execution_count": 291,
     "metadata": {},
     "output_type": "execute_result"
    }
   ],
   "source": [
    "age = pd.cut(titanic['age'], [0, 16, 80])\n",
    "age[0:10]"
   ]
  },
  {
   "cell_type": "code",
   "execution_count": 292,
   "metadata": {},
   "outputs": [
    {
     "data": {
      "text/html": [
       "<div>\n",
       "<style scoped>\n",
       "    .dataframe tbody tr th:only-of-type {\n",
       "        vertical-align: middle;\n",
       "    }\n",
       "\n",
       "    .dataframe tbody tr th {\n",
       "        vertical-align: top;\n",
       "    }\n",
       "\n",
       "    .dataframe thead th {\n",
       "        text-align: right;\n",
       "    }\n",
       "</style>\n",
       "<table border=\"1\" class=\"dataframe\">\n",
       "  <thead>\n",
       "    <tr style=\"text-align: right;\">\n",
       "      <th></th>\n",
       "      <th>class</th>\n",
       "      <th>First</th>\n",
       "      <th>Second</th>\n",
       "      <th>Third</th>\n",
       "    </tr>\n",
       "    <tr>\n",
       "      <th>sex</th>\n",
       "      <th>age</th>\n",
       "      <th></th>\n",
       "      <th></th>\n",
       "      <th></th>\n",
       "    </tr>\n",
       "  </thead>\n",
       "  <tbody>\n",
       "    <tr>\n",
       "      <th rowspan=\"2\" valign=\"top\">female</th>\n",
       "      <th>(0, 16]</th>\n",
       "      <td>0.83333</td>\n",
       "      <td>1.00000</td>\n",
       "      <td>0.54545</td>\n",
       "    </tr>\n",
       "    <tr>\n",
       "      <th>(16, 80]</th>\n",
       "      <td>0.97468</td>\n",
       "      <td>0.90625</td>\n",
       "      <td>0.42029</td>\n",
       "    </tr>\n",
       "    <tr>\n",
       "      <th rowspan=\"2\" valign=\"top\">male</th>\n",
       "      <th>(0, 16]</th>\n",
       "      <td>1.00000</td>\n",
       "      <td>0.81818</td>\n",
       "      <td>0.27027</td>\n",
       "    </tr>\n",
       "    <tr>\n",
       "      <th>(16, 80]</th>\n",
       "      <td>0.37755</td>\n",
       "      <td>0.06818</td>\n",
       "      <td>0.12963</td>\n",
       "    </tr>\n",
       "  </tbody>\n",
       "</table>\n",
       "</div>"
      ],
      "text/plain": [
       "class              First   Second    Third\n",
       "sex    age                                \n",
       "female (0, 16]   0.83333  1.00000  0.54545\n",
       "       (16, 80]  0.97468  0.90625  0.42029\n",
       "male   (0, 16]   1.00000  0.81818  0.27027\n",
       "       (16, 80]  0.37755  0.06818  0.12963"
      ]
     },
     "execution_count": 292,
     "metadata": {},
     "output_type": "execute_result"
    }
   ],
   "source": [
    "titanic.pivot_table('survived', ['sex', age], 'class')"
   ]
  },
  {
   "cell_type": "markdown",
   "metadata": {},
   "source": [
    "On peut finamlement ajouter une autre dimension en considérant le prix du trajet, avec lequel on définit deux classes :"
   ]
  },
  {
   "cell_type": "code",
   "execution_count": 293,
   "metadata": {},
   "outputs": [
    {
     "data": {
      "text/html": [
       "<div>\n",
       "<style scoped>\n",
       "    .dataframe tbody tr th:only-of-type {\n",
       "        vertical-align: middle;\n",
       "    }\n",
       "\n",
       "    .dataframe tbody tr th {\n",
       "        vertical-align: top;\n",
       "    }\n",
       "\n",
       "    .dataframe thead tr th {\n",
       "        text-align: left;\n",
       "    }\n",
       "\n",
       "    .dataframe thead tr:last-of-type th {\n",
       "        text-align: right;\n",
       "    }\n",
       "</style>\n",
       "<table border=\"1\" class=\"dataframe\">\n",
       "  <thead>\n",
       "    <tr>\n",
       "      <th></th>\n",
       "      <th>fare</th>\n",
       "      <th colspan=\"3\" halign=\"left\">(-0.001, 14.454]</th>\n",
       "      <th colspan=\"3\" halign=\"left\">(14.454, 512.329]</th>\n",
       "    </tr>\n",
       "    <tr>\n",
       "      <th></th>\n",
       "      <th>class</th>\n",
       "      <th>First</th>\n",
       "      <th>Second</th>\n",
       "      <th>Third</th>\n",
       "      <th>First</th>\n",
       "      <th>Second</th>\n",
       "      <th>Third</th>\n",
       "    </tr>\n",
       "    <tr>\n",
       "      <th>sex</th>\n",
       "      <th>age</th>\n",
       "      <th></th>\n",
       "      <th></th>\n",
       "      <th></th>\n",
       "      <th></th>\n",
       "      <th></th>\n",
       "      <th></th>\n",
       "    </tr>\n",
       "  </thead>\n",
       "  <tbody>\n",
       "    <tr>\n",
       "      <th rowspan=\"2\" valign=\"top\">female</th>\n",
       "      <th>(0, 16]</th>\n",
       "      <td>NaN</td>\n",
       "      <td>NaN</td>\n",
       "      <td>0.78571</td>\n",
       "      <td>0.83333</td>\n",
       "      <td>1.00000</td>\n",
       "      <td>0.36842</td>\n",
       "    </tr>\n",
       "    <tr>\n",
       "      <th>(16, 80]</th>\n",
       "      <td>NaN</td>\n",
       "      <td>0.89286</td>\n",
       "      <td>0.46512</td>\n",
       "      <td>0.97468</td>\n",
       "      <td>0.91667</td>\n",
       "      <td>0.34615</td>\n",
       "    </tr>\n",
       "    <tr>\n",
       "      <th rowspan=\"2\" valign=\"top\">male</th>\n",
       "      <th>(0, 16]</th>\n",
       "      <td>NaN</td>\n",
       "      <td>0.00000</td>\n",
       "      <td>0.50000</td>\n",
       "      <td>1.00000</td>\n",
       "      <td>0.90000</td>\n",
       "      <td>0.18519</td>\n",
       "    </tr>\n",
       "    <tr>\n",
       "      <th>(16, 80]</th>\n",
       "      <td>0.0</td>\n",
       "      <td>0.09259</td>\n",
       "      <td>0.12169</td>\n",
       "      <td>0.39362</td>\n",
       "      <td>0.02941</td>\n",
       "      <td>0.18519</td>\n",
       "    </tr>\n",
       "  </tbody>\n",
       "</table>\n",
       "</div>"
      ],
      "text/plain": [
       "fare            (-0.001, 14.454]                   (14.454, 512.329]           \\\n",
       "class                      First   Second    Third             First   Second   \n",
       "sex    age                                                                      \n",
       "female (0, 16]               NaN      NaN  0.78571           0.83333  1.00000   \n",
       "       (16, 80]              NaN  0.89286  0.46512           0.97468  0.91667   \n",
       "male   (0, 16]               NaN  0.00000  0.50000           1.00000  0.90000   \n",
       "       (16, 80]              0.0  0.09259  0.12169           0.39362  0.02941   \n",
       "\n",
       "fare                      \n",
       "class              Third  \n",
       "sex    age                \n",
       "female (0, 16]   0.36842  \n",
       "       (16, 80]  0.34615  \n",
       "male   (0, 16]   0.18519  \n",
       "       (16, 80]  0.18519  "
      ]
     },
     "execution_count": 293,
     "metadata": {},
     "output_type": "execute_result"
    }
   ],
   "source": [
    "fare = pd.qcut(titanic['fare'], 2)  # on définit deux quantiles et \n",
    "#on teste l'appartenance à chacun\n",
    "T = titanic.pivot_table('survived', ['sex', age], [fare, 'class'])\n",
    "T"
   ]
  },
  {
   "cell_type": "markdown",
   "metadata": {},
   "source": [
    "## Non traité"
   ]
  },
  {
   "cell_type": "markdown",
   "metadata": {},
   "source": [
    "- Notamment toute la partie graphique qui est un monde en soi, voir [ici](http://pandas.pydata.org/pandas-docs/stable/visualization.html)\n",
    "- les fonctions d'entrée-sortie\n",
    "- les catégories"
   ]
  },
  {
   "cell_type": "code",
   "execution_count": 294,
   "metadata": {},
   "outputs": [
    {
     "data": {
      "text/html": [
       "<div>\n",
       "<style scoped>\n",
       "    .dataframe tbody tr th:only-of-type {\n",
       "        vertical-align: middle;\n",
       "    }\n",
       "\n",
       "    .dataframe tbody tr th {\n",
       "        vertical-align: top;\n",
       "    }\n",
       "\n",
       "    .dataframe thead th {\n",
       "        text-align: right;\n",
       "    }\n",
       "</style>\n",
       "<table border=\"1\" class=\"dataframe\">\n",
       "  <thead>\n",
       "    <tr style=\"text-align: right;\">\n",
       "      <th></th>\n",
       "      <th>col_0</th>\n",
       "      <th>col_1</th>\n",
       "      <th>col_2</th>\n",
       "      <th>col_3</th>\n",
       "      <th>facteur</th>\n",
       "    </tr>\n",
       "  </thead>\n",
       "  <tbody>\n",
       "    <tr>\n",
       "      <th>a</th>\n",
       "      <td>0.91657</td>\n",
       "      <td>0.56238</td>\n",
       "      <td>0.05968</td>\n",
       "      <td>0.46615</td>\n",
       "      <td>1</td>\n",
       "    </tr>\n",
       "    <tr>\n",
       "      <th>b</th>\n",
       "      <td>0.82701</td>\n",
       "      <td>0.37999</td>\n",
       "      <td>0.01048</td>\n",
       "      <td>0.91189</td>\n",
       "      <td>0</td>\n",
       "    </tr>\n",
       "    <tr>\n",
       "      <th>c</th>\n",
       "      <td>0.12536</td>\n",
       "      <td>0.53708</td>\n",
       "      <td>0.25348</td>\n",
       "      <td>0.12697</td>\n",
       "      <td>2</td>\n",
       "    </tr>\n",
       "    <tr>\n",
       "      <th>d</th>\n",
       "      <td>0.68036</td>\n",
       "      <td>0.87512</td>\n",
       "      <td>0.69842</td>\n",
       "      <td>0.08049</td>\n",
       "      <td>1</td>\n",
       "    </tr>\n",
       "    <tr>\n",
       "      <th>e</th>\n",
       "      <td>0.76669</td>\n",
       "      <td>0.47313</td>\n",
       "      <td>0.37197</td>\n",
       "      <td>0.81171</td>\n",
       "      <td>2</td>\n",
       "    </tr>\n",
       "  </tbody>\n",
       "</table>\n",
       "</div>"
      ],
      "text/plain": [
       "     col_0    col_1    col_2    col_3  facteur\n",
       "a  0.91657  0.56238  0.05968  0.46615        1\n",
       "b  0.82701  0.37999  0.01048  0.91189        0\n",
       "c  0.12536  0.53708  0.25348  0.12697        2\n",
       "d  0.68036  0.87512  0.69842  0.08049        1\n",
       "e  0.76669  0.47313  0.37197  0.81171        2"
      ]
     },
     "execution_count": 294,
     "metadata": {},
     "output_type": "execute_result"
    }
   ],
   "source": [
    "df1['facteur'] = np.random.randint(0, 3, size=5)\n",
    "df1"
   ]
  },
  {
   "cell_type": "code",
   "execution_count": 295,
   "metadata": {},
   "outputs": [
    {
     "name": "stdout",
     "output_type": "stream",
     "text": [
      "<class 'pandas.core.frame.DataFrame'>\n",
      "Index: 5 entries, a to e\n",
      "Data columns (total 5 columns):\n",
      "col_0      5 non-null float64\n",
      "col_1      5 non-null float64\n",
      "col_2      5 non-null float64\n",
      "col_3      5 non-null float64\n",
      "facteur    5 non-null category\n",
      "dtypes: category(1), float64(4)\n",
      "memory usage: 309.0+ bytes\n"
     ]
    }
   ],
   "source": [
    "#Exemple\n",
    "df1['facteur'] = df1['facteur'].astype(\"category\")\n",
    "df1.info()"
   ]
  },
  {
   "cell_type": "code",
   "execution_count": 297,
   "metadata": {},
   "outputs": [],
   "source": [
    "pp = pop.drop('newcol', axis=1)"
   ]
  },
  {
   "cell_type": "code",
   "execution_count": 298,
   "metadata": {},
   "outputs": [],
   "source": [
    "IC = pp.columns\n",
    "IIC = IC.astype(int)\n",
    "pp.columns = IIC"
   ]
  },
  {
   "cell_type": "code",
   "execution_count": 299,
   "metadata": {},
   "outputs": [
    {
     "data": {
      "text/html": [
       "<div>\n",
       "<style scoped>\n",
       "    .dataframe tbody tr th:only-of-type {\n",
       "        vertical-align: middle;\n",
       "    }\n",
       "\n",
       "    .dataframe tbody tr th {\n",
       "        vertical-align: top;\n",
       "    }\n",
       "\n",
       "    .dataframe thead th {\n",
       "        text-align: right;\n",
       "    }\n",
       "</style>\n",
       "<table border=\"1\" class=\"dataframe\">\n",
       "  <thead>\n",
       "    <tr style=\"text-align: right;\">\n",
       "      <th></th>\n",
       "      <th>1999</th>\n",
       "      <th>2008</th>\n",
       "      <th>2010</th>\n",
       "      <th>2011</th>\n",
       "    </tr>\n",
       "  </thead>\n",
       "  <tbody>\n",
       "    <tr>\n",
       "      <th>Nord</th>\n",
       "      <td>2555020</td>\n",
       "      <td>2564959</td>\n",
       "      <td>2576770.0</td>\n",
       "      <td>2579208.0</td>\n",
       "    </tr>\n",
       "    <tr>\n",
       "      <th>Paris</th>\n",
       "      <td>2125246</td>\n",
       "      <td>2211297</td>\n",
       "      <td>2243833.0</td>\n",
       "      <td>2249975.0</td>\n",
       "    </tr>\n",
       "    <tr>\n",
       "      <th>Bouches-du-Rhône</th>\n",
       "      <td>1835719</td>\n",
       "      <td>1966005</td>\n",
       "      <td>1972018.0</td>\n",
       "      <td>1975896.0</td>\n",
       "    </tr>\n",
       "    <tr>\n",
       "      <th>Hauts-de-Seine</th>\n",
       "      <td>1428881</td>\n",
       "      <td>1549619</td>\n",
       "      <td>1572490.0</td>\n",
       "      <td>1581628.0</td>\n",
       "    </tr>\n",
       "    <tr>\n",
       "      <th>Seine-Saint-Denis</th>\n",
       "      <td>1382861</td>\n",
       "      <td>1506466</td>\n",
       "      <td>1522048.0</td>\n",
       "      <td>1529928.0</td>\n",
       "    </tr>\n",
       "    <tr>\n",
       "      <th>Gironde</th>\n",
       "      <td>1287334</td>\n",
       "      <td>1421276</td>\n",
       "      <td>1449245.0</td>\n",
       "      <td>1463662.0</td>\n",
       "    </tr>\n",
       "    <tr>\n",
       "      <th>Pas-de-Calais</th>\n",
       "      <td>1441568</td>\n",
       "      <td>1459531</td>\n",
       "      <td>1461387.0</td>\n",
       "      <td>1462807.0</td>\n",
       "    </tr>\n",
       "    <tr>\n",
       "      <th>Yvelines</th>\n",
       "      <td>1354308</td>\n",
       "      <td>1406053</td>\n",
       "      <td>1408765.0</td>\n",
       "      <td>1413635.0</td>\n",
       "    </tr>\n",
       "    <tr>\n",
       "      <th>Seine-et-Marne</th>\n",
       "      <td>1193767</td>\n",
       "      <td>1338427</td>\n",
       "      <td>1324865.0</td>\n",
       "      <td>1338427.0</td>\n",
       "    </tr>\n",
       "    <tr>\n",
       "      <th>Val-de-Marne</th>\n",
       "      <td>1227250</td>\n",
       "      <td>1310876</td>\n",
       "      <td>1327732.0</td>\n",
       "      <td>1333702.0</td>\n",
       "    </tr>\n",
       "    <tr>\n",
       "      <th>Métropole de Lyon</th>\n",
       "      <td>0</td>\n",
       "      <td>0</td>\n",
       "      <td>0.0</td>\n",
       "      <td>0.0</td>\n",
       "    </tr>\n",
       "    <tr>\n",
       "      <th>Loire-Atlantique</th>\n",
       "      <td>1134266</td>\n",
       "      <td>1255871</td>\n",
       "      <td>1282052.0</td>\n",
       "      <td>1296364.0</td>\n",
       "    </tr>\n",
       "    <tr>\n",
       "      <th>Haute-Garonne</th>\n",
       "      <td>1046338</td>\n",
       "      <td>1217344</td>\n",
       "      <td>1243641.0</td>\n",
       "      <td>1260226.0</td>\n",
       "    </tr>\n",
       "    <tr>\n",
       "      <th>Seine-Maritime</th>\n",
       "      <td>1239138</td>\n",
       "      <td>1248580</td>\n",
       "      <td>1250411.0</td>\n",
       "      <td>1251282.0</td>\n",
       "    </tr>\n",
       "    <tr>\n",
       "      <th>Essonne</th>\n",
       "      <td>1134238</td>\n",
       "      <td>1205850</td>\n",
       "      <td>1215340.0</td>\n",
       "      <td>1225191.0</td>\n",
       "    </tr>\n",
       "    <tr>\n",
       "      <th>Isère</th>\n",
       "      <td>1094006</td>\n",
       "      <td>1188660</td>\n",
       "      <td>1206374.0</td>\n",
       "      <td>1215212.0</td>\n",
       "    </tr>\n",
       "    <tr>\n",
       "      <th>Val-d'Oise</th>\n",
       "      <td>1105464</td>\n",
       "      <td>1165397</td>\n",
       "      <td>1171161.0</td>\n",
       "      <td>1180365.0</td>\n",
       "    </tr>\n",
       "    <tr>\n",
       "      <th>Bas-Rhin</th>\n",
       "      <td>1026120</td>\n",
       "      <td>1091015</td>\n",
       "      <td>1095905.0</td>\n",
       "      <td>1099269.0</td>\n",
       "    </tr>\n",
       "    <tr>\n",
       "      <th>Alpes-Maritimes</th>\n",
       "      <td>1011326</td>\n",
       "      <td>1084428</td>\n",
       "      <td>1078729.0</td>\n",
       "      <td>1081244.0</td>\n",
       "    </tr>\n",
       "    <tr>\n",
       "      <th>Hérault</th>\n",
       "      <td>896441</td>\n",
       "      <td>1019798</td>\n",
       "      <td>1044558.0</td>\n",
       "      <td>1062036.0</td>\n",
       "    </tr>\n",
       "    <tr>\n",
       "      <th>Moselle</th>\n",
       "      <td>1023447</td>\n",
       "      <td>1042230</td>\n",
       "      <td>1045066.0</td>\n",
       "      <td>1045146.0</td>\n",
       "    </tr>\n",
       "    <tr>\n",
       "      <th>Var</th>\n",
       "      <td>898441</td>\n",
       "      <td>1001408</td>\n",
       "      <td>1008183.0</td>\n",
       "      <td>1012735.0</td>\n",
       "    </tr>\n",
       "    <tr>\n",
       "      <th>Ille-et-Vilaine</th>\n",
       "      <td>867533</td>\n",
       "      <td>967588</td>\n",
       "      <td>988140.0</td>\n",
       "      <td>996439.0</td>\n",
       "    </tr>\n",
       "    <tr>\n",
       "      <th>Finistère</th>\n",
       "      <td>852418</td>\n",
       "      <td>890509</td>\n",
       "      <td>897628.0</td>\n",
       "      <td>899870.0</td>\n",
       "    </tr>\n",
       "    <tr>\n",
       "      <th>La Réunion</th>\n",
       "      <td>706300</td>\n",
       "      <td>808250</td>\n",
       "      <td>821136.0</td>\n",
       "      <td>828581.0</td>\n",
       "    </tr>\n",
       "    <tr>\n",
       "      <th>Oise</th>\n",
       "      <td>766441</td>\n",
       "      <td>799725</td>\n",
       "      <td>803595.0</td>\n",
       "      <td>805642.0</td>\n",
       "    </tr>\n",
       "    <tr>\n",
       "      <th>Maine-et-Loire</th>\n",
       "      <td>732942</td>\n",
       "      <td>774823</td>\n",
       "      <td>784810.0</td>\n",
       "      <td>790343.0</td>\n",
       "    </tr>\n",
       "    <tr>\n",
       "      <th>Haute-Savoie</th>\n",
       "      <td>631679</td>\n",
       "      <td>716277</td>\n",
       "      <td>738088.0</td>\n",
       "      <td>746994.0</td>\n",
       "    </tr>\n",
       "    <tr>\n",
       "      <th>Haut-Rhin</th>\n",
       "      <td>708025</td>\n",
       "      <td>746072</td>\n",
       "      <td>749782.0</td>\n",
       "      <td>753056.0</td>\n",
       "    </tr>\n",
       "    <tr>\n",
       "      <th>Loire</th>\n",
       "      <td>728524</td>\n",
       "      <td>742076</td>\n",
       "      <td>748947.0</td>\n",
       "      <td>749053.0</td>\n",
       "    </tr>\n",
       "    <tr>\n",
       "      <th>...</th>\n",
       "      <td>...</td>\n",
       "      <td>...</td>\n",
       "      <td>...</td>\n",
       "      <td>...</td>\n",
       "    </tr>\n",
       "    <tr>\n",
       "      <th>Ardèche</th>\n",
       "      <td>286023</td>\n",
       "      <td>311452</td>\n",
       "      <td>315090.0</td>\n",
       "      <td>317277.0</td>\n",
       "    </tr>\n",
       "    <tr>\n",
       "      <th>Cher</th>\n",
       "      <td>314428</td>\n",
       "      <td>313251</td>\n",
       "      <td>311257.0</td>\n",
       "      <td>311694.0</td>\n",
       "    </tr>\n",
       "    <tr>\n",
       "      <th>Mayenne</th>\n",
       "      <td>285338</td>\n",
       "      <td>302983</td>\n",
       "      <td>306337.0</td>\n",
       "      <td>307031.0</td>\n",
       "    </tr>\n",
       "    <tr>\n",
       "      <th>Aube</th>\n",
       "      <td>292131</td>\n",
       "      <td>301327</td>\n",
       "      <td>303327.0</td>\n",
       "      <td>303997.0</td>\n",
       "    </tr>\n",
       "    <tr>\n",
       "      <th>Orne</th>\n",
       "      <td>292337</td>\n",
       "      <td>292282</td>\n",
       "      <td>291642.0</td>\n",
       "      <td>290891.0</td>\n",
       "    </tr>\n",
       "    <tr>\n",
       "      <th>Ardennes</th>\n",
       "      <td>290130</td>\n",
       "      <td>284197</td>\n",
       "      <td>283250.0</td>\n",
       "      <td>283110.0</td>\n",
       "    </tr>\n",
       "    <tr>\n",
       "      <th>Aveyron</th>\n",
       "      <td>263808</td>\n",
       "      <td>275889</td>\n",
       "      <td>276805.0</td>\n",
       "      <td>275813.0</td>\n",
       "    </tr>\n",
       "    <tr>\n",
       "      <th>Jura</th>\n",
       "      <td>250857</td>\n",
       "      <td>260740</td>\n",
       "      <td>261534.0</td>\n",
       "      <td>261294.0</td>\n",
       "    </tr>\n",
       "    <tr>\n",
       "      <th>Tarn-et-Garonne</th>\n",
       "      <td>206034</td>\n",
       "      <td>235915</td>\n",
       "      <td>241698.0</td>\n",
       "      <td>244545.0</td>\n",
       "    </tr>\n",
       "    <tr>\n",
       "      <th>Corrèze</th>\n",
       "      <td>232576</td>\n",
       "      <td>242896</td>\n",
       "      <td>243551.0</td>\n",
       "      <td>242454.0</td>\n",
       "    </tr>\n",
       "    <tr>\n",
       "      <th>Haute-Saône</th>\n",
       "      <td>229732</td>\n",
       "      <td>238548</td>\n",
       "      <td>239548.0</td>\n",
       "      <td>239695.0</td>\n",
       "    </tr>\n",
       "    <tr>\n",
       "      <th>Guyane</th>\n",
       "      <td>157213</td>\n",
       "      <td>219266</td>\n",
       "      <td>229040.0</td>\n",
       "      <td>237549.0</td>\n",
       "    </tr>\n",
       "    <tr>\n",
       "      <th>Hautes-Pyrénées</th>\n",
       "      <td>222368</td>\n",
       "      <td>229079</td>\n",
       "      <td>229458.0</td>\n",
       "      <td>229228.0</td>\n",
       "    </tr>\n",
       "    <tr>\n",
       "      <th>Indre</th>\n",
       "      <td>231139</td>\n",
       "      <td>232004</td>\n",
       "      <td>231176.0</td>\n",
       "      <td>230175.0</td>\n",
       "    </tr>\n",
       "    <tr>\n",
       "      <th>Haute-Loire</th>\n",
       "      <td>209113</td>\n",
       "      <td>221834</td>\n",
       "      <td>224006.0</td>\n",
       "      <td>224907.0</td>\n",
       "    </tr>\n",
       "    <tr>\n",
       "      <th>Nièvre</th>\n",
       "      <td>225198</td>\n",
       "      <td>220653</td>\n",
       "      <td>219584.0</td>\n",
       "      <td>218341.0</td>\n",
       "    </tr>\n",
       "    <tr>\n",
       "      <th>Mayotte</th>\n",
       "      <td>131320</td>\n",
       "      <td>186452</td>\n",
       "      <td>NaN</td>\n",
       "      <td>NaN</td>\n",
       "    </tr>\n",
       "    <tr>\n",
       "      <th>Meuse</th>\n",
       "      <td>192198</td>\n",
       "      <td>194218</td>\n",
       "      <td>193923.0</td>\n",
       "      <td>193557.0</td>\n",
       "    </tr>\n",
       "    <tr>\n",
       "      <th>Gers</th>\n",
       "      <td>172335</td>\n",
       "      <td>185266</td>\n",
       "      <td>188159.0</td>\n",
       "      <td>188893.0</td>\n",
       "    </tr>\n",
       "    <tr>\n",
       "      <th>Haute-Marne</th>\n",
       "      <td>194873</td>\n",
       "      <td>186470</td>\n",
       "      <td>184039.0</td>\n",
       "      <td>182375.0</td>\n",
       "    </tr>\n",
       "    <tr>\n",
       "      <th>Lot</th>\n",
       "      <td>160197</td>\n",
       "      <td>172796</td>\n",
       "      <td>174578.0</td>\n",
       "      <td>174754.0</td>\n",
       "    </tr>\n",
       "    <tr>\n",
       "      <th>Haute-Corse</th>\n",
       "      <td>141603</td>\n",
       "      <td>162013</td>\n",
       "      <td>166093.0</td>\n",
       "      <td>168640.0</td>\n",
       "    </tr>\n",
       "    <tr>\n",
       "      <th>Alpes-de-Haute-Provence</th>\n",
       "      <td>139561</td>\n",
       "      <td>157965</td>\n",
       "      <td>160149.0</td>\n",
       "      <td>160959.0</td>\n",
       "    </tr>\n",
       "    <tr>\n",
       "      <th>Ariège</th>\n",
       "      <td>137205</td>\n",
       "      <td>150201</td>\n",
       "      <td>152038.0</td>\n",
       "      <td>152286.0</td>\n",
       "    </tr>\n",
       "    <tr>\n",
       "      <th>Cantal</th>\n",
       "      <td>150778</td>\n",
       "      <td>148737</td>\n",
       "      <td>148162.0</td>\n",
       "      <td>147577.0</td>\n",
       "    </tr>\n",
       "    <tr>\n",
       "      <th>Corse-du-Sud</th>\n",
       "      <td>118593</td>\n",
       "      <td>140953</td>\n",
       "      <td>143600.0</td>\n",
       "      <td>145846.0</td>\n",
       "    </tr>\n",
       "    <tr>\n",
       "      <th>Territoire de Belfort</th>\n",
       "      <td>137408</td>\n",
       "      <td>141958</td>\n",
       "      <td>142911.0</td>\n",
       "      <td>143348.0</td>\n",
       "    </tr>\n",
       "    <tr>\n",
       "      <th>Hautes-Alpes</th>\n",
       "      <td>121419</td>\n",
       "      <td>134205</td>\n",
       "      <td>136971.0</td>\n",
       "      <td>138605.0</td>\n",
       "    </tr>\n",
       "    <tr>\n",
       "      <th>Creuse</th>\n",
       "      <td>124470</td>\n",
       "      <td>123907</td>\n",
       "      <td>123029.0</td>\n",
       "      <td>122560.0</td>\n",
       "    </tr>\n",
       "    <tr>\n",
       "      <th>Lozère</th>\n",
       "      <td>73509</td>\n",
       "      <td>76973</td>\n",
       "      <td>77082.0</td>\n",
       "      <td>77156.0</td>\n",
       "    </tr>\n",
       "  </tbody>\n",
       "</table>\n",
       "<p>102 rows × 4 columns</p>\n",
       "</div>"
      ],
      "text/plain": [
       "                            1999     2008       2010       2011\n",
       "Nord                     2555020  2564959  2576770.0  2579208.0\n",
       "Paris                    2125246  2211297  2243833.0  2249975.0\n",
       "Bouches-du-Rhône         1835719  1966005  1972018.0  1975896.0\n",
       "Hauts-de-Seine           1428881  1549619  1572490.0  1581628.0\n",
       "Seine-Saint-Denis        1382861  1506466  1522048.0  1529928.0\n",
       "Gironde                  1287334  1421276  1449245.0  1463662.0\n",
       "Pas-de-Calais            1441568  1459531  1461387.0  1462807.0\n",
       "Yvelines                 1354308  1406053  1408765.0  1413635.0\n",
       "Seine-et-Marne           1193767  1338427  1324865.0  1338427.0\n",
       "Val-de-Marne             1227250  1310876  1327732.0  1333702.0\n",
       "Métropole de Lyon              0        0        0.0        0.0\n",
       "Loire-Atlantique         1134266  1255871  1282052.0  1296364.0\n",
       "Haute-Garonne            1046338  1217344  1243641.0  1260226.0\n",
       "Seine-Maritime           1239138  1248580  1250411.0  1251282.0\n",
       "Essonne                  1134238  1205850  1215340.0  1225191.0\n",
       "Isère                    1094006  1188660  1206374.0  1215212.0\n",
       "Val-d'Oise               1105464  1165397  1171161.0  1180365.0\n",
       "Bas-Rhin                 1026120  1091015  1095905.0  1099269.0\n",
       "Alpes-Maritimes          1011326  1084428  1078729.0  1081244.0\n",
       "Hérault                   896441  1019798  1044558.0  1062036.0\n",
       "Moselle                  1023447  1042230  1045066.0  1045146.0\n",
       "Var                       898441  1001408  1008183.0  1012735.0\n",
       "Ille-et-Vilaine           867533   967588   988140.0   996439.0\n",
       "Finistère                 852418   890509   897628.0   899870.0\n",
       "La Réunion                706300   808250   821136.0   828581.0\n",
       "Oise                      766441   799725   803595.0   805642.0\n",
       "Maine-et-Loire            732942   774823   784810.0   790343.0\n",
       "Haute-Savoie              631679   716277   738088.0   746994.0\n",
       "Haut-Rhin                 708025   746072   749782.0   753056.0\n",
       "Loire                     728524   742076   748947.0   749053.0\n",
       "...                          ...      ...        ...        ...\n",
       "Ardèche                   286023   311452   315090.0   317277.0\n",
       "Cher                      314428   313251   311257.0   311694.0\n",
       "Mayenne                   285338   302983   306337.0   307031.0\n",
       "Aube                      292131   301327   303327.0   303997.0\n",
       "Orne                      292337   292282   291642.0   290891.0\n",
       "Ardennes                  290130   284197   283250.0   283110.0\n",
       "Aveyron                   263808   275889   276805.0   275813.0\n",
       "Jura                      250857   260740   261534.0   261294.0\n",
       "Tarn-et-Garonne           206034   235915   241698.0   244545.0\n",
       "Corrèze                   232576   242896   243551.0   242454.0\n",
       "Haute-Saône               229732   238548   239548.0   239695.0\n",
       "Guyane                    157213   219266   229040.0   237549.0\n",
       "Hautes-Pyrénées           222368   229079   229458.0   229228.0\n",
       "Indre                     231139   232004   231176.0   230175.0\n",
       "Haute-Loire               209113   221834   224006.0   224907.0\n",
       "Nièvre                    225198   220653   219584.0   218341.0\n",
       "Mayotte                   131320   186452        NaN        NaN\n",
       "Meuse                     192198   194218   193923.0   193557.0\n",
       "Gers                      172335   185266   188159.0   188893.0\n",
       "Haute-Marne               194873   186470   184039.0   182375.0\n",
       "Lot                       160197   172796   174578.0   174754.0\n",
       "Haute-Corse               141603   162013   166093.0   168640.0\n",
       "Alpes-de-Haute-Provence   139561   157965   160149.0   160959.0\n",
       "Ariège                    137205   150201   152038.0   152286.0\n",
       "Cantal                    150778   148737   148162.0   147577.0\n",
       "Corse-du-Sud              118593   140953   143600.0   145846.0\n",
       "Territoire de Belfort     137408   141958   142911.0   143348.0\n",
       "Hautes-Alpes              121419   134205   136971.0   138605.0\n",
       "Creuse                    124470   123907   123029.0   122560.0\n",
       "Lozère                     73509    76973    77082.0    77156.0\n",
       "\n",
       "[102 rows x 4 columns]"
      ]
     },
     "execution_count": 299,
     "metadata": {},
     "output_type": "execute_result"
    }
   ],
   "source": [
    "pp.loc[:, 1999:2011]"
   ]
  },
  {
   "cell_type": "code",
   "execution_count": 303,
   "metadata": {},
   "outputs": [
    {
     "data": {
      "text/plain": [
       "<matplotlib.axes._subplots.AxesSubplot at 0x7f41272bd828>"
      ]
     },
     "execution_count": 303,
     "metadata": {},
     "output_type": "execute_result"
    },
    {
     "data": {
      "image/png": "[encoded data removed]",
      "text/plain": [
       "<Figure size 432x288 with 1 Axes>"
      ]
     },
     "metadata": {
      "needs_background": "light"
     },
     "output_type": "display_data"
    }
   ],
   "source": [
    "%matplotlib inline\n",
    "gg = pp.loc[:, 1999:2011]\n",
    "#pp.hist(column=[1999, 2011])\n",
    "gg.plot(kind='hist', alpha=0.62, rot=50)"
   ]
  },
  {
   "cell_type": "markdown",
   "metadata": {},
   "source": [
    "![](jolie_fin_de_page.png)"
   ]
  },
  {
   "cell_type": "code",
   "execution_count": null,
   "metadata": {},
   "outputs": [],
   "source": []
  },
  {
   "cell_type": "code",
   "execution_count": null,
   "metadata": {},
   "outputs": [],
   "source": []
  },
  {
   "cell_type": "code",
   "execution_count": null,
   "metadata": {},
   "outputs": [],
   "source": []
  },
  {
   "cell_type": "markdown",
   "metadata": {},
   "source": [
    "## Annexe: Récupération de la table sur les départements"
   ]
  },
  {
   "cell_type": "code",
   "execution_count": null,
   "metadata": {},
   "outputs": [],
   "source": [
    "#depts_fr=pd.read_html(\"https://fr.wikipedia.org/wiki/Liste_des_d%C3%A9partements_fran%C3%A7ais_class%C3%A9s_par_population_et_superficie\", thousands=' ')"
   ]
  },
  {
   "cell_type": "code",
   "execution_count": null,
   "metadata": {},
   "outputs": [],
   "source": [
    "# dpts = depts_fr[0].copy()\n",
    "# dpts.head()"
   ]
  },
  {
   "cell_type": "code",
   "execution_count": null,
   "metadata": {},
   "outputs": [],
   "source": [
    "# # restructuration sous forme MultiIndex\n",
    "# lev=[['Rang','INSEE','Département','Population','Superficie','Densité'],\n",
    "#                ['',1931,1999,2008,2010,2011,2012,2015]]\n",
    "# mI=pd.MultiIndex(levels=lev,\n",
    "#            labels=[[0, 1,2,3,3,3,3,3,3,3, 4, 5], [0,0,0,1,2,3,4,5,6,7,0,0]],\n",
    "#            names=[u'', u''])\n",
    "# dpts.columns=mI\n",
    "\n",
    "# dpts=dpts.drop(labels=[0,1],axis=0)\n",
    "# dpts.head()"
   ]
  },
  {
   "cell_type": "code",
   "execution_count": null,
   "metadata": {},
   "outputs": [],
   "source": [
    "# dpts_tab=dpts[['Population', 'Superficie']]\n",
    "# dpts_tab=dpts_tab.replace(\"à compléter\",np.nan)\n",
    "# dpts_tab=dpts_tab.replace(np.nan,\"\")\n",
    "# dpts_tab.index=np.array(dpts['Département'])\n",
    "# dpts_tab.head()"
   ]
  }
 ],
 "metadata": {
  "hide_input": false,
  "interactive_sols": {
   "cbx_id": 1
  },
  "kernelspec": {
   "display_name": "Python",
   "language": "python",
   "name": "conda-env-python-py"
  },
  "language_info": {
   "codemirror_mode": {
    "name": "ipython",
    "version": 3
   },
   "file_extension": ".py",
   "mimetype": "text/x-python",
   "name": "python",
   "nbconvert_exporter": "python",
   "pygments_lexer": "ipython3",
   "version": "3.6.7"
  },
  "latex_envs": {
   "LaTeX_envs_menu_present": true,
   "autoclose": false,
   "autocomplete": true,
   "bibliofile": "biblio.bib",
   "cite_by": "apalike",
   "current_citInitial": 1,
   "eqLabelWithNumbers": true,
   "eqNumInitial": 0,
   "hotkeys": {
    "equation": "ctrl-e"
   },
   "labels_anchors": false,
   "latex_user_defs": false,
   "report_style_numbering": false,
   "user_envs_cfg": false
  },
  "nav_menu": {},
  "nbTranslate": {
   "displayLangs": [
    "*"
   ],
   "hotkey": "alt-t",
   "langInMainMenu": true,
   "sourceLang": "en",
   "targetLang": "fr",
   "useGoogleTranslate": true
  },
  "toc": {
   "base_numbering": "1",
   "nav_menu": {
    "height": "430px",
    "width": "252px"
   },
   "number_sections": true,
   "sideBar": true,
   "skip_h1_title": false,
   "title_cell": "Table of Contents",
   "title_sidebar": "Contents",
   "toc_cell": false,
   "toc_position": {
    "height": "306px",
    "left": "0px",
    "right": "812px",
    "top": "108px",
    "width": "212px"
   },
   "toc_section_display": "block",
   "toc_window_display": false
  },
  "varInspector": {
   "cols": {
    "lenName": 16,
    "lenType": 16,
    "lenVar": 40
   },
   "kernels_config": {
    "python": {
     "delete_cmd_postfix": "",
     "delete_cmd_prefix": "del ",
     "library": "var_list.py",
     "varRefreshCmd": "print(var_dic_list())"
    },
    "r": {
     "delete_cmd_postfix": ") ",
     "delete_cmd_prefix": "rm(",
     "library": "var_list.r",
     "varRefreshCmd": "cat(var_dic_list()) "
    }
   },
   "types_to_exclude": [
    "module",
    "function",
    "builtin_function_or_method",
    "instance",
    "_Feature"
   ],
   "window_display": false
  }
 },
 "nbformat": 4,
 "nbformat_minor": 4
}
