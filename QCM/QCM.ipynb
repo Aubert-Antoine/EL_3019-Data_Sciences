{
 "cells": [
  {
   "cell_type": "code",
   "execution_count": 21,
   "metadata": {
    "collapsed": true
   },
   "outputs": [],
   "source": [
    "import pandas as pd"
   ]
  },
  {
   "cell_type": "code",
   "execution_count": 23,
   "outputs": [],
   "source": [
    "df = pd.read_csv('dpts_tab.csv')\n"
   ],
   "metadata": {
    "collapsed": false
   }
  },
  {
   "cell_type": "code",
   "execution_count": 25,
   "outputs": [
    {
     "data": {
      "text/plain": "                Unnamed: 0 Population Population.1 Population.2 Population.3  \\\n0                      NaN       1931         1999         2008         2010   \n1                      NaN        NaN          NaN          NaN          NaN   \n2                     Nord  2 029 449    2 555 020    2 564 959    2 576 770   \n3                    Paris  2 891 020    2 125 246    2 211 297    2 243 833   \n4         Bouches-du-Rhône  1 101 672    1 835 719    1 966 005    1 972 018   \n..                     ...        ...          ...          ...          ...   \n99            Corse-du-Sud        NaN      118 593      140 953      143 600   \n100  Territoire de Belfort     99 403      137 408      141 958      142 911   \n101           Hautes-Alpes     87 566      121 419      134 205      136 971   \n102                 Creuse    207 882      124 470      123 907      123 029   \n103                 Lozère    101 849       73 509       76 973       77 082   \n\n    Population.4 Population.5 Population.6 Superficie  \n0           2011         2012         2015        NaN  \n1            NaN          NaN          NaN        NaN  \n2      2 579 208    2 587 128          NaN      5 743  \n3      2 249 975    2 240 621          NaN        105  \n4      1 975 896    1 984 784          NaN      5 087  \n..           ...          ...          ...        ...  \n99       145 846      145 429          NaN      4 014  \n100      143 348      143 940          NaN        609  \n101      138 605      139 554          NaN      5 549  \n102      122 560      121 517          NaN      5 565  \n103       77 156       76 889          NaN      5 167  \n\n[104 rows x 9 columns]",
      "text/html": "<div>\n<style scoped>\n    .dataframe tbody tr th:only-of-type {\n        vertical-align: middle;\n    }\n\n    .dataframe tbody tr th {\n        vertical-align: top;\n    }\n\n    .dataframe thead th {\n        text-align: right;\n    }\n</style>\n<table border=\"1\" class=\"dataframe\">\n  <thead>\n    <tr style=\"text-align: right;\">\n      <th></th>\n      <th>Unnamed: 0</th>\n      <th>Population</th>\n      <th>Population.1</th>\n      <th>Population.2</th>\n      <th>Population.3</th>\n      <th>Population.4</th>\n      <th>Population.5</th>\n      <th>Population.6</th>\n      <th>Superficie</th>\n    </tr>\n  </thead>\n  <tbody>\n    <tr>\n      <th>0</th>\n      <td>NaN</td>\n      <td>1931</td>\n      <td>1999</td>\n      <td>2008</td>\n      <td>2010</td>\n      <td>2011</td>\n      <td>2012</td>\n      <td>2015</td>\n      <td>NaN</td>\n    </tr>\n    <tr>\n      <th>1</th>\n      <td>NaN</td>\n      <td>NaN</td>\n      <td>NaN</td>\n      <td>NaN</td>\n      <td>NaN</td>\n      <td>NaN</td>\n      <td>NaN</td>\n      <td>NaN</td>\n      <td>NaN</td>\n    </tr>\n    <tr>\n      <th>2</th>\n      <td>Nord</td>\n      <td>2 029 449</td>\n      <td>2 555 020</td>\n      <td>2 564 959</td>\n      <td>2 576 770</td>\n      <td>2 579 208</td>\n      <td>2 587 128</td>\n      <td>NaN</td>\n      <td>5 743</td>\n    </tr>\n    <tr>\n      <th>3</th>\n      <td>Paris</td>\n      <td>2 891 020</td>\n      <td>2 125 246</td>\n      <td>2 211 297</td>\n      <td>2 243 833</td>\n      <td>2 249 975</td>\n      <td>2 240 621</td>\n      <td>NaN</td>\n      <td>105</td>\n    </tr>\n    <tr>\n      <th>4</th>\n      <td>Bouches-du-Rhône</td>\n      <td>1 101 672</td>\n      <td>1 835 719</td>\n      <td>1 966 005</td>\n      <td>1 972 018</td>\n      <td>1 975 896</td>\n      <td>1 984 784</td>\n      <td>NaN</td>\n      <td>5 087</td>\n    </tr>\n    <tr>\n      <th>...</th>\n      <td>...</td>\n      <td>...</td>\n      <td>...</td>\n      <td>...</td>\n      <td>...</td>\n      <td>...</td>\n      <td>...</td>\n      <td>...</td>\n      <td>...</td>\n    </tr>\n    <tr>\n      <th>99</th>\n      <td>Corse-du-Sud</td>\n      <td>NaN</td>\n      <td>118 593</td>\n      <td>140 953</td>\n      <td>143 600</td>\n      <td>145 846</td>\n      <td>145 429</td>\n      <td>NaN</td>\n      <td>4 014</td>\n    </tr>\n    <tr>\n      <th>100</th>\n      <td>Territoire de Belfort</td>\n      <td>99 403</td>\n      <td>137 408</td>\n      <td>141 958</td>\n      <td>142 911</td>\n      <td>143 348</td>\n      <td>143 940</td>\n      <td>NaN</td>\n      <td>609</td>\n    </tr>\n    <tr>\n      <th>101</th>\n      <td>Hautes-Alpes</td>\n      <td>87 566</td>\n      <td>121 419</td>\n      <td>134 205</td>\n      <td>136 971</td>\n      <td>138 605</td>\n      <td>139 554</td>\n      <td>NaN</td>\n      <td>5 549</td>\n    </tr>\n    <tr>\n      <th>102</th>\n      <td>Creuse</td>\n      <td>207 882</td>\n      <td>124 470</td>\n      <td>123 907</td>\n      <td>123 029</td>\n      <td>122 560</td>\n      <td>121 517</td>\n      <td>NaN</td>\n      <td>5 565</td>\n    </tr>\n    <tr>\n      <th>103</th>\n      <td>Lozère</td>\n      <td>101 849</td>\n      <td>73 509</td>\n      <td>76 973</td>\n      <td>77 082</td>\n      <td>77 156</td>\n      <td>76 889</td>\n      <td>NaN</td>\n      <td>5 167</td>\n    </tr>\n  </tbody>\n</table>\n<p>104 rows × 9 columns</p>\n</div>"
     },
     "execution_count": 25,
     "metadata": {},
     "output_type": "execute_result"
    }
   ],
   "source": [
    "df.head(104)"
   ],
   "metadata": {
    "collapsed": false
   }
  },
  {
   "cell_type": "code",
   "execution_count": 30,
   "outputs": [
    {
     "data": {
      "text/plain": "                Unnamed: 0 Population Population.1 Population.2 Population.3  \\\n0                      NaN       1931         1999         2008         2010   \n1                      NaN        NaN          NaN          NaN          NaN   \n2                     Nord  2 029 449    2 555 020    2 564 959    2 576 770   \n3                    Paris  2 891 020    2 125 246    2 211 297    2 243 833   \n4         Bouches-du-Rhône  1 101 672    1 835 719    1 966 005    1 972 018   \n..                     ...        ...          ...          ...          ...   \n99            Corse-du-Sud        NaN      118 593      140 953      143 600   \n100  Territoire de Belfort     99 403      137 408      141 958      142 911   \n101           Hautes-Alpes     87 566      121 419      134 205      136 971   \n102                 Creuse    207 882      124 470      123 907      123 029   \n103                 Lozère    101 849       73 509       76 973       77 082   \n\n    Population.4 Population.5 Population.6 Superficie  \n0           2011         2012         2015        NaN  \n1            NaN          NaN          NaN        NaN  \n2      2 579 208    2 587 128          NaN      5 743  \n3      2 249 975    2 240 621          NaN        105  \n4      1 975 896    1 984 784          NaN      5 087  \n..           ...          ...          ...        ...  \n99       145 846      145 429          NaN      4 014  \n100      143 348      143 940          NaN        609  \n101      138 605      139 554          NaN      5 549  \n102      122 560      121 517          NaN      5 565  \n103       77 156       76 889          NaN      5 167  \n\n[104 rows x 9 columns]",
      "text/html": "<div>\n<style scoped>\n    .dataframe tbody tr th:only-of-type {\n        vertical-align: middle;\n    }\n\n    .dataframe tbody tr th {\n        vertical-align: top;\n    }\n\n    .dataframe thead th {\n        text-align: right;\n    }\n</style>\n<table border=\"1\" class=\"dataframe\">\n  <thead>\n    <tr style=\"text-align: right;\">\n      <th></th>\n      <th>Unnamed: 0</th>\n      <th>Population</th>\n      <th>Population.1</th>\n      <th>Population.2</th>\n      <th>Population.3</th>\n      <th>Population.4</th>\n      <th>Population.5</th>\n      <th>Population.6</th>\n      <th>Superficie</th>\n    </tr>\n  </thead>\n  <tbody>\n    <tr>\n      <th>0</th>\n      <td>NaN</td>\n      <td>1931</td>\n      <td>1999</td>\n      <td>2008</td>\n      <td>2010</td>\n      <td>2011</td>\n      <td>2012</td>\n      <td>2015</td>\n      <td>NaN</td>\n    </tr>\n    <tr>\n      <th>1</th>\n      <td>NaN</td>\n      <td>NaN</td>\n      <td>NaN</td>\n      <td>NaN</td>\n      <td>NaN</td>\n      <td>NaN</td>\n      <td>NaN</td>\n      <td>NaN</td>\n      <td>NaN</td>\n    </tr>\n    <tr>\n      <th>2</th>\n      <td>Nord</td>\n      <td>2 029 449</td>\n      <td>2 555 020</td>\n      <td>2 564 959</td>\n      <td>2 576 770</td>\n      <td>2 579 208</td>\n      <td>2 587 128</td>\n      <td>NaN</td>\n      <td>5 743</td>\n    </tr>\n    <tr>\n      <th>3</th>\n      <td>Paris</td>\n      <td>2 891 020</td>\n      <td>2 125 246</td>\n      <td>2 211 297</td>\n      <td>2 243 833</td>\n      <td>2 249 975</td>\n      <td>2 240 621</td>\n      <td>NaN</td>\n      <td>105</td>\n    </tr>\n    <tr>\n      <th>4</th>\n      <td>Bouches-du-Rhône</td>\n      <td>1 101 672</td>\n      <td>1 835 719</td>\n      <td>1 966 005</td>\n      <td>1 972 018</td>\n      <td>1 975 896</td>\n      <td>1 984 784</td>\n      <td>NaN</td>\n      <td>5 087</td>\n    </tr>\n    <tr>\n      <th>...</th>\n      <td>...</td>\n      <td>...</td>\n      <td>...</td>\n      <td>...</td>\n      <td>...</td>\n      <td>...</td>\n      <td>...</td>\n      <td>...</td>\n      <td>...</td>\n    </tr>\n    <tr>\n      <th>99</th>\n      <td>Corse-du-Sud</td>\n      <td>NaN</td>\n      <td>118 593</td>\n      <td>140 953</td>\n      <td>143 600</td>\n      <td>145 846</td>\n      <td>145 429</td>\n      <td>NaN</td>\n      <td>4 014</td>\n    </tr>\n    <tr>\n      <th>100</th>\n      <td>Territoire de Belfort</td>\n      <td>99 403</td>\n      <td>137 408</td>\n      <td>141 958</td>\n      <td>142 911</td>\n      <td>143 348</td>\n      <td>143 940</td>\n      <td>NaN</td>\n      <td>609</td>\n    </tr>\n    <tr>\n      <th>101</th>\n      <td>Hautes-Alpes</td>\n      <td>87 566</td>\n      <td>121 419</td>\n      <td>134 205</td>\n      <td>136 971</td>\n      <td>138 605</td>\n      <td>139 554</td>\n      <td>NaN</td>\n      <td>5 549</td>\n    </tr>\n    <tr>\n      <th>102</th>\n      <td>Creuse</td>\n      <td>207 882</td>\n      <td>124 470</td>\n      <td>123 907</td>\n      <td>123 029</td>\n      <td>122 560</td>\n      <td>121 517</td>\n      <td>NaN</td>\n      <td>5 565</td>\n    </tr>\n    <tr>\n      <th>103</th>\n      <td>Lozère</td>\n      <td>101 849</td>\n      <td>73 509</td>\n      <td>76 973</td>\n      <td>77 082</td>\n      <td>77 156</td>\n      <td>76 889</td>\n      <td>NaN</td>\n      <td>5 167</td>\n    </tr>\n  </tbody>\n</table>\n<p>104 rows × 9 columns</p>\n</div>"
     },
     "execution_count": 30,
     "metadata": {},
     "output_type": "execute_result"
    }
   ],
   "source": [
    "df\n"
   ],
   "metadata": {
    "collapsed": false
   }
  },
  {
   "cell_type": "code",
   "execution_count": 27,
   "outputs": [
    {
     "data": {
      "text/plain": "    Population Superficie      variable             value\n0         1931        NaN    Unnamed: 0               NaN\n1          NaN        NaN    Unnamed: 0               NaN\n2    2 029 449      5 743    Unnamed: 0              Nord\n3    2 891 020        105    Unnamed: 0             Paris\n4    1 101 672      5 087    Unnamed: 0  Bouches-du-Rhône\n..         ...        ...           ...               ...\n723        NaN      4 014  Population.6               NaN\n724     99 403        609  Population.6               NaN\n725     87 566      5 549  Population.6               NaN\n726    207 882      5 565  Population.6               NaN\n727    101 849      5 167  Population.6               NaN\n\n[728 rows x 4 columns]",
      "text/html": "<div>\n<style scoped>\n    .dataframe tbody tr th:only-of-type {\n        vertical-align: middle;\n    }\n\n    .dataframe tbody tr th {\n        vertical-align: top;\n    }\n\n    .dataframe thead th {\n        text-align: right;\n    }\n</style>\n<table border=\"1\" class=\"dataframe\">\n  <thead>\n    <tr style=\"text-align: right;\">\n      <th></th>\n      <th>Population</th>\n      <th>Superficie</th>\n      <th>variable</th>\n      <th>value</th>\n    </tr>\n  </thead>\n  <tbody>\n    <tr>\n      <th>0</th>\n      <td>1931</td>\n      <td>NaN</td>\n      <td>Unnamed: 0</td>\n      <td>NaN</td>\n    </tr>\n    <tr>\n      <th>1</th>\n      <td>NaN</td>\n      <td>NaN</td>\n      <td>Unnamed: 0</td>\n      <td>NaN</td>\n    </tr>\n    <tr>\n      <th>2</th>\n      <td>2 029 449</td>\n      <td>5 743</td>\n      <td>Unnamed: 0</td>\n      <td>Nord</td>\n    </tr>\n    <tr>\n      <th>3</th>\n      <td>2 891 020</td>\n      <td>105</td>\n      <td>Unnamed: 0</td>\n      <td>Paris</td>\n    </tr>\n    <tr>\n      <th>4</th>\n      <td>1 101 672</td>\n      <td>5 087</td>\n      <td>Unnamed: 0</td>\n      <td>Bouches-du-Rhône</td>\n    </tr>\n    <tr>\n      <th>...</th>\n      <td>...</td>\n      <td>...</td>\n      <td>...</td>\n      <td>...</td>\n    </tr>\n    <tr>\n      <th>723</th>\n      <td>NaN</td>\n      <td>4 014</td>\n      <td>Population.6</td>\n      <td>NaN</td>\n    </tr>\n    <tr>\n      <th>724</th>\n      <td>99 403</td>\n      <td>609</td>\n      <td>Population.6</td>\n      <td>NaN</td>\n    </tr>\n    <tr>\n      <th>725</th>\n      <td>87 566</td>\n      <td>5 549</td>\n      <td>Population.6</td>\n      <td>NaN</td>\n    </tr>\n    <tr>\n      <th>726</th>\n      <td>207 882</td>\n      <td>5 565</td>\n      <td>Population.6</td>\n      <td>NaN</td>\n    </tr>\n    <tr>\n      <th>727</th>\n      <td>101 849</td>\n      <td>5 167</td>\n      <td>Population.6</td>\n      <td>NaN</td>\n    </tr>\n  </tbody>\n</table>\n<p>728 rows × 4 columns</p>\n</div>"
     },
     "execution_count": 27,
     "metadata": {},
     "output_type": "execute_result"
    }
   ],
   "source": [
    "pd.melt(df, id_vars=['Population', 'Superficie'])"
   ],
   "metadata": {
    "collapsed": false
   }
  },
  {
   "cell_type": "markdown",
   "source": [
    "## SQtandardiser :\n",
    "Pour standardiser des valeurs dans un DataFrame, il est possible d'utiliser la méthode StandardScaler de la bibliothèque scikit-learn. Voici les étapes à suivre :\n",
    "\n",
    "Importer la classe StandardScaler depuis la bibliothèque scikit-learn:\n",
    "```\n",
    "from sklearn.preprocessing import StandardScaler\n",
    "Sélectionner les colonnes à standardiser dans le DataFrame.\n",
    "```\n",
    "```\n",
    "df_numerical = df.select_dtypes(include=['float64', 'int64'])\n",
    "Créer une instance de la classe StandardScaler et ajuster-la sur les données sélectionnées.\n",
    "```\n",
    "\n",
    "```\n",
    "scaler = StandardScaler()\n",
    "scaler.fit(df_numerical\n",
    "```\n",
    "Transformer les données sélectionnées avec la méthode transform de la classe StandardScaler.\n",
    "\n",
    "```\n",
    "df_numerical_scaled = scaler.transform(df_numerical)\n",
    "```\n",
    "\n",
    "Créer un nouveau DataFrame avec les données standardisées et les noms de colonnes correspondants.\n",
    "```\n",
    "df_numerical_scaled = pd.DataFrame(df_numerical_scaled, columns=df_numerical.columns)\n",
    "```\n",
    "Le nouveau DataFrame df_numerical_scaled contiendra les données sélectionnées standardisées. Il est important de noter que la standardisation doit être effectuée sur les données numériques, et non sur les données catégorielles ou textuelles.\n",
    "\n",
    "\n",
    "\n"
   ],
   "metadata": {
    "collapsed": false
   }
  },
  {
   "cell_type": "code",
   "execution_count": 11,
   "outputs": [],
   "source": [
    "from sklearn.preprocessing import StandardScaler\n",
    "import numpy as np"
   ],
   "metadata": {
    "collapsed": false
   }
  },
  {
   "cell_type": "code",
   "execution_count": 13,
   "outputs": [
    {
     "data": {
      "text/plain": "    0\n0  41\n1  28\n2  32\n3  30\n4  40",
      "text/html": "<div>\n<style scoped>\n    .dataframe tbody tr th:only-of-type {\n        vertical-align: middle;\n    }\n\n    .dataframe tbody tr th {\n        vertical-align: top;\n    }\n\n    .dataframe thead th {\n        text-align: right;\n    }\n</style>\n<table border=\"1\" class=\"dataframe\">\n  <thead>\n    <tr style=\"text-align: right;\">\n      <th></th>\n      <th>0</th>\n    </tr>\n  </thead>\n  <tbody>\n    <tr>\n      <th>0</th>\n      <td>41</td>\n    </tr>\n    <tr>\n      <th>1</th>\n      <td>28</td>\n    </tr>\n    <tr>\n      <th>2</th>\n      <td>32</td>\n    </tr>\n    <tr>\n      <th>3</th>\n      <td>30</td>\n    </tr>\n    <tr>\n      <th>4</th>\n      <td>40</td>\n    </tr>\n  </tbody>\n</table>\n</div>"
     },
     "execution_count": 13,
     "metadata": {},
     "output_type": "execute_result"
    }
   ],
   "source": [
    "data = np.array([41, 28, 32, 30, 40, 47, 63, 31, 45, 60])\n",
    "pd = pd.DataFrame(data)\n",
    "pd.head()"
   ],
   "metadata": {
    "collapsed": false
   }
  },
  {
   "cell_type": "code",
   "execution_count": 16,
   "outputs": [
    {
     "ename": "ValueError",
     "evalue": "at least one array or dtype is required",
     "output_type": "error",
     "traceback": [
      "\u001B[1;31m---------------------------------------------------------------------------\u001B[0m",
      "\u001B[1;31mValueError\u001B[0m                                Traceback (most recent call last)",
      "Cell \u001B[1;32mIn[16], line 3\u001B[0m\n\u001B[0;32m      1\u001B[0m df_numerical \u001B[38;5;241m=\u001B[39m pd\u001B[38;5;241m.\u001B[39mselect_dtypes(include\u001B[38;5;241m=\u001B[39m[\u001B[38;5;124m'\u001B[39m\u001B[38;5;124mfloat64\u001B[39m\u001B[38;5;124m'\u001B[39m, \u001B[38;5;124m'\u001B[39m\u001B[38;5;124mint64\u001B[39m\u001B[38;5;124m'\u001B[39m])\n\u001B[0;32m      2\u001B[0m scaler \u001B[38;5;241m=\u001B[39m StandardScaler()\n\u001B[1;32m----> 3\u001B[0m \u001B[43mscaler\u001B[49m\u001B[38;5;241;43m.\u001B[39;49m\u001B[43mfit\u001B[49m\u001B[43m(\u001B[49m\u001B[43mdf_numerical\u001B[49m\u001B[43m)\u001B[49m\n\u001B[0;32m      4\u001B[0m df_numerical_scaled \u001B[38;5;241m=\u001B[39m scaler\u001B[38;5;241m.\u001B[39mtransform(df_numerical)\n\u001B[0;32m      5\u001B[0m df_numerical_scaled \u001B[38;5;241m=\u001B[39m pd\u001B[38;5;241m.\u001B[39mDataFrame(df_numerical_scaled, columns\u001B[38;5;241m=\u001B[39mdf_numerical\u001B[38;5;241m.\u001B[39mcolumns)\n",
      "File \u001B[1;32m~\\AppData\\Local\\Programs\\Python\\Python311\\Lib\\site-packages\\sklearn\\preprocessing\\_data.py:824\u001B[0m, in \u001B[0;36mStandardScaler.fit\u001B[1;34m(self, X, y, sample_weight)\u001B[0m\n\u001B[0;32m    822\u001B[0m \u001B[38;5;66;03m# Reset internal state before fitting\u001B[39;00m\n\u001B[0;32m    823\u001B[0m \u001B[38;5;28mself\u001B[39m\u001B[38;5;241m.\u001B[39m_reset()\n\u001B[1;32m--> 824\u001B[0m \u001B[38;5;28;01mreturn\u001B[39;00m \u001B[38;5;28;43mself\u001B[39;49m\u001B[38;5;241;43m.\u001B[39;49m\u001B[43mpartial_fit\u001B[49m\u001B[43m(\u001B[49m\u001B[43mX\u001B[49m\u001B[43m,\u001B[49m\u001B[43m \u001B[49m\u001B[43my\u001B[49m\u001B[43m,\u001B[49m\u001B[43m \u001B[49m\u001B[43msample_weight\u001B[49m\u001B[43m)\u001B[49m\n",
      "File \u001B[1;32m~\\AppData\\Local\\Programs\\Python\\Python311\\Lib\\site-packages\\sklearn\\preprocessing\\_data.py:861\u001B[0m, in \u001B[0;36mStandardScaler.partial_fit\u001B[1;34m(self, X, y, sample_weight)\u001B[0m\n\u001B[0;32m    858\u001B[0m \u001B[38;5;28mself\u001B[39m\u001B[38;5;241m.\u001B[39m_validate_params()\n\u001B[0;32m    860\u001B[0m first_call \u001B[38;5;241m=\u001B[39m \u001B[38;5;129;01mnot\u001B[39;00m \u001B[38;5;28mhasattr\u001B[39m(\u001B[38;5;28mself\u001B[39m, \u001B[38;5;124m\"\u001B[39m\u001B[38;5;124mn_samples_seen_\u001B[39m\u001B[38;5;124m\"\u001B[39m)\n\u001B[1;32m--> 861\u001B[0m X \u001B[38;5;241m=\u001B[39m \u001B[38;5;28;43mself\u001B[39;49m\u001B[38;5;241;43m.\u001B[39;49m\u001B[43m_validate_data\u001B[49m\u001B[43m(\u001B[49m\n\u001B[0;32m    862\u001B[0m \u001B[43m    \u001B[49m\u001B[43mX\u001B[49m\u001B[43m,\u001B[49m\n\u001B[0;32m    863\u001B[0m \u001B[43m    \u001B[49m\u001B[43maccept_sparse\u001B[49m\u001B[38;5;241;43m=\u001B[39;49m\u001B[43m(\u001B[49m\u001B[38;5;124;43m\"\u001B[39;49m\u001B[38;5;124;43mcsr\u001B[39;49m\u001B[38;5;124;43m\"\u001B[39;49m\u001B[43m,\u001B[49m\u001B[43m \u001B[49m\u001B[38;5;124;43m\"\u001B[39;49m\u001B[38;5;124;43mcsc\u001B[39;49m\u001B[38;5;124;43m\"\u001B[39;49m\u001B[43m)\u001B[49m\u001B[43m,\u001B[49m\n\u001B[0;32m    864\u001B[0m \u001B[43m    \u001B[49m\u001B[43mdtype\u001B[49m\u001B[38;5;241;43m=\u001B[39;49m\u001B[43mFLOAT_DTYPES\u001B[49m\u001B[43m,\u001B[49m\n\u001B[0;32m    865\u001B[0m \u001B[43m    \u001B[49m\u001B[43mforce_all_finite\u001B[49m\u001B[38;5;241;43m=\u001B[39;49m\u001B[38;5;124;43m\"\u001B[39;49m\u001B[38;5;124;43mallow-nan\u001B[39;49m\u001B[38;5;124;43m\"\u001B[39;49m\u001B[43m,\u001B[49m\n\u001B[0;32m    866\u001B[0m \u001B[43m    \u001B[49m\u001B[43mreset\u001B[49m\u001B[38;5;241;43m=\u001B[39;49m\u001B[43mfirst_call\u001B[49m\u001B[43m,\u001B[49m\n\u001B[0;32m    867\u001B[0m \u001B[43m\u001B[49m\u001B[43m)\u001B[49m\n\u001B[0;32m    868\u001B[0m n_features \u001B[38;5;241m=\u001B[39m X\u001B[38;5;241m.\u001B[39mshape[\u001B[38;5;241m1\u001B[39m]\n\u001B[0;32m    870\u001B[0m \u001B[38;5;28;01mif\u001B[39;00m sample_weight \u001B[38;5;129;01mis\u001B[39;00m \u001B[38;5;129;01mnot\u001B[39;00m \u001B[38;5;28;01mNone\u001B[39;00m:\n",
      "File \u001B[1;32m~\\AppData\\Local\\Programs\\Python\\Python311\\Lib\\site-packages\\sklearn\\base.py:565\u001B[0m, in \u001B[0;36mBaseEstimator._validate_data\u001B[1;34m(self, X, y, reset, validate_separately, **check_params)\u001B[0m\n\u001B[0;32m    563\u001B[0m     \u001B[38;5;28;01mraise\u001B[39;00m \u001B[38;5;167;01mValueError\u001B[39;00m(\u001B[38;5;124m\"\u001B[39m\u001B[38;5;124mValidation should be done on X, y or both.\u001B[39m\u001B[38;5;124m\"\u001B[39m)\n\u001B[0;32m    564\u001B[0m \u001B[38;5;28;01melif\u001B[39;00m \u001B[38;5;129;01mnot\u001B[39;00m no_val_X \u001B[38;5;129;01mand\u001B[39;00m no_val_y:\n\u001B[1;32m--> 565\u001B[0m     X \u001B[38;5;241m=\u001B[39m \u001B[43mcheck_array\u001B[49m\u001B[43m(\u001B[49m\u001B[43mX\u001B[49m\u001B[43m,\u001B[49m\u001B[43m \u001B[49m\u001B[43minput_name\u001B[49m\u001B[38;5;241;43m=\u001B[39;49m\u001B[38;5;124;43m\"\u001B[39;49m\u001B[38;5;124;43mX\u001B[39;49m\u001B[38;5;124;43m\"\u001B[39;49m\u001B[43m,\u001B[49m\u001B[43m \u001B[49m\u001B[38;5;241;43m*\u001B[39;49m\u001B[38;5;241;43m*\u001B[39;49m\u001B[43mcheck_params\u001B[49m\u001B[43m)\u001B[49m\n\u001B[0;32m    566\u001B[0m     out \u001B[38;5;241m=\u001B[39m X\n\u001B[0;32m    567\u001B[0m \u001B[38;5;28;01melif\u001B[39;00m no_val_X \u001B[38;5;129;01mand\u001B[39;00m \u001B[38;5;129;01mnot\u001B[39;00m no_val_y:\n",
      "File \u001B[1;32m~\\AppData\\Local\\Programs\\Python\\Python311\\Lib\\site-packages\\sklearn\\utils\\validation.py:778\u001B[0m, in \u001B[0;36mcheck_array\u001B[1;34m(array, accept_sparse, accept_large_sparse, dtype, order, copy, force_all_finite, ensure_2d, allow_nd, ensure_min_samples, ensure_min_features, estimator, input_name)\u001B[0m\n\u001B[0;32m    774\u001B[0m     pandas_requires_conversion \u001B[38;5;241m=\u001B[39m \u001B[38;5;28many\u001B[39m(\n\u001B[0;32m    775\u001B[0m         _pandas_dtype_needs_early_conversion(i) \u001B[38;5;28;01mfor\u001B[39;00m i \u001B[38;5;129;01min\u001B[39;00m dtypes_orig\n\u001B[0;32m    776\u001B[0m     )\n\u001B[0;32m    777\u001B[0m     \u001B[38;5;28;01mif\u001B[39;00m \u001B[38;5;28mall\u001B[39m(\u001B[38;5;28misinstance\u001B[39m(dtype_iter, np\u001B[38;5;241m.\u001B[39mdtype) \u001B[38;5;28;01mfor\u001B[39;00m dtype_iter \u001B[38;5;129;01min\u001B[39;00m dtypes_orig):\n\u001B[1;32m--> 778\u001B[0m         dtype_orig \u001B[38;5;241m=\u001B[39m \u001B[43mnp\u001B[49m\u001B[38;5;241;43m.\u001B[39;49m\u001B[43mresult_type\u001B[49m\u001B[43m(\u001B[49m\u001B[38;5;241;43m*\u001B[39;49m\u001B[43mdtypes_orig\u001B[49m\u001B[43m)\u001B[49m\n\u001B[0;32m    780\u001B[0m \u001B[38;5;28;01melif\u001B[39;00m \u001B[38;5;28mhasattr\u001B[39m(array, \u001B[38;5;124m\"\u001B[39m\u001B[38;5;124miloc\u001B[39m\u001B[38;5;124m\"\u001B[39m) \u001B[38;5;129;01mand\u001B[39;00m \u001B[38;5;28mhasattr\u001B[39m(array, \u001B[38;5;124m\"\u001B[39m\u001B[38;5;124mdtype\u001B[39m\u001B[38;5;124m\"\u001B[39m):\n\u001B[0;32m    781\u001B[0m     \u001B[38;5;66;03m# array is a pandas series\u001B[39;00m\n\u001B[0;32m    782\u001B[0m     pandas_requires_conversion \u001B[38;5;241m=\u001B[39m _pandas_dtype_needs_early_conversion(array\u001B[38;5;241m.\u001B[39mdtype)\n",
      "File \u001B[1;32m<__array_function__ internals>:200\u001B[0m, in \u001B[0;36mresult_type\u001B[1;34m(*args, **kwargs)\u001B[0m\n",
      "\u001B[1;31mValueError\u001B[0m: at least one array or dtype is required"
     ]
    }
   ],
   "source": [
    "df_numerical = pd.select_dtypes(include=['float64', 'int64'])\n",
    "scaler = StandardScaler()\n",
    "scaler.fit(df_numerical)\n",
    "df_numerical_scaled = scaler.transform(df_numerical)\n",
    "df_numerical_scaled = pd.DataFrame(df_numerical_scaled, columns=df_numerical.columns)"
   ],
   "metadata": {
    "collapsed": false
   }
  },
  {
   "cell_type": "code",
   "execution_count": 42,
   "outputs": [],
   "source": [
    "def miseE(list):\n",
    "\tprint(list)\n",
    "\n",
    "\tmin =list.min()\n",
    "\tmax =list.max()\n",
    "\n",
    "\n",
    "\tprint(min ,max)\n",
    "\n",
    "\tprint((list-min)/(max-min))\n",
    "\treturn (list-min)/(max-min)"
   ],
   "metadata": {
    "collapsed": false
   }
  },
  {
   "cell_type": "code",
   "execution_count": 43,
   "outputs": [
    {
     "name": "stdout",
     "output_type": "stream",
     "text": [
      "[41 28 32 30 40 47 63 31 45 60]\n",
      "28 63\n",
      "[0.37142857 0.         0.11428571 0.05714286 0.34285714 0.54285714\n",
      " 1.         0.08571429 0.48571429 0.91428571]\n"
     ]
    }
   ],
   "source": [
    "a = miseE(np.array([41, 28, 32, 30, 40, 47, 63, 31, 45, 60]))"
   ],
   "metadata": {
    "collapsed": false
   }
  },
  {
   "cell_type": "code",
   "execution_count": null,
   "outputs": [],
   "source": [],
   "metadata": {
    "collapsed": false
   }
  }
 ],
 "metadata": {
  "kernelspec": {
   "display_name": "Python 3",
   "language": "python",
   "name": "python3"
  },
  "language_info": {
   "codemirror_mode": {
    "name": "ipython",
    "version": 2
   },
   "file_extension": ".py",
   "mimetype": "text/x-python",
   "name": "python",
   "nbconvert_exporter": "python",
   "pygments_lexer": "ipython2",
   "version": "2.7.6"
  }
 },
 "nbformat": 4,
 "nbformat_minor": 0
}
