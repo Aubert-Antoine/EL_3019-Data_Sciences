{
 "cells": [
  {
   "cell_type": "code",
   "execution_count": 14,
   "outputs": [],
   "source": [
    "import pandas as pd\n",
    "import numpy as np"
   ],
   "metadata": {
    "collapsed": false
   }
  },
  {
   "cell_type": "code",
   "execution_count": 6,
   "metadata": {
    "collapsed": true
   },
   "outputs": [],
   "source": [
    "csv = pd.read_csv('../TP1 gapminder Life Expectancy/g1800s.csv')"
   ]
  },
  {
   "cell_type": "code",
   "execution_count": 7,
   "outputs": [
    {
     "data": {
      "text/plain": "   Unnamed: 0        Life expectancy   1800   1801   1802   1803   1804  \\\n0           0               Abkhazia    NaN    NaN    NaN    NaN    NaN   \n1           1            Afghanistan  28.21  28.20  28.19  28.18  28.17   \n2           2  Akrotiri and Dhekelia    NaN    NaN    NaN    NaN    NaN   \n3           3                Albania  35.40  35.40  35.40  35.40  35.40   \n4           4                Algeria  28.82  28.82  28.82  28.82  28.82   \n\n    1805   1806   1807  ...   1890   1891   1892   1893   1894   1895   1896  \\\n0    NaN    NaN    NaN  ...    NaN    NaN    NaN    NaN    NaN    NaN    NaN   \n1  28.16  28.15  28.14  ...  27.29  27.28  27.27  27.26  27.25  27.24  27.23   \n2    NaN    NaN    NaN  ...    NaN    NaN    NaN    NaN    NaN    NaN    NaN   \n3  35.40  35.40  35.40  ...  35.40  35.40  35.40  35.40  35.40  35.40  35.40   \n4  28.82  28.82  28.82  ...  28.82  28.82  28.82  28.82  28.82  28.82  28.82   \n\n    1897   1898   1899  \n0    NaN    NaN    NaN  \n1  27.22  27.21  27.20  \n2    NaN    NaN    NaN  \n3  35.40  35.40  35.40  \n4  28.82  28.82  28.82  \n\n[5 rows x 102 columns]",
      "text/html": "<div>\n<style scoped>\n    .dataframe tbody tr th:only-of-type {\n        vertical-align: middle;\n    }\n\n    .dataframe tbody tr th {\n        vertical-align: top;\n    }\n\n    .dataframe thead th {\n        text-align: right;\n    }\n</style>\n<table border=\"1\" class=\"dataframe\">\n  <thead>\n    <tr style=\"text-align: right;\">\n      <th></th>\n      <th>Unnamed: 0</th>\n      <th>Life expectancy</th>\n      <th>1800</th>\n      <th>1801</th>\n      <th>1802</th>\n      <th>1803</th>\n      <th>1804</th>\n      <th>1805</th>\n      <th>1806</th>\n      <th>1807</th>\n      <th>...</th>\n      <th>1890</th>\n      <th>1891</th>\n      <th>1892</th>\n      <th>1893</th>\n      <th>1894</th>\n      <th>1895</th>\n      <th>1896</th>\n      <th>1897</th>\n      <th>1898</th>\n      <th>1899</th>\n    </tr>\n  </thead>\n  <tbody>\n    <tr>\n      <th>0</th>\n      <td>0</td>\n      <td>Abkhazia</td>\n      <td>NaN</td>\n      <td>NaN</td>\n      <td>NaN</td>\n      <td>NaN</td>\n      <td>NaN</td>\n      <td>NaN</td>\n      <td>NaN</td>\n      <td>NaN</td>\n      <td>...</td>\n      <td>NaN</td>\n      <td>NaN</td>\n      <td>NaN</td>\n      <td>NaN</td>\n      <td>NaN</td>\n      <td>NaN</td>\n      <td>NaN</td>\n      <td>NaN</td>\n      <td>NaN</td>\n      <td>NaN</td>\n    </tr>\n    <tr>\n      <th>1</th>\n      <td>1</td>\n      <td>Afghanistan</td>\n      <td>28.21</td>\n      <td>28.20</td>\n      <td>28.19</td>\n      <td>28.18</td>\n      <td>28.17</td>\n      <td>28.16</td>\n      <td>28.15</td>\n      <td>28.14</td>\n      <td>...</td>\n      <td>27.29</td>\n      <td>27.28</td>\n      <td>27.27</td>\n      <td>27.26</td>\n      <td>27.25</td>\n      <td>27.24</td>\n      <td>27.23</td>\n      <td>27.22</td>\n      <td>27.21</td>\n      <td>27.20</td>\n    </tr>\n    <tr>\n      <th>2</th>\n      <td>2</td>\n      <td>Akrotiri and Dhekelia</td>\n      <td>NaN</td>\n      <td>NaN</td>\n      <td>NaN</td>\n      <td>NaN</td>\n      <td>NaN</td>\n      <td>NaN</td>\n      <td>NaN</td>\n      <td>NaN</td>\n      <td>...</td>\n      <td>NaN</td>\n      <td>NaN</td>\n      <td>NaN</td>\n      <td>NaN</td>\n      <td>NaN</td>\n      <td>NaN</td>\n      <td>NaN</td>\n      <td>NaN</td>\n      <td>NaN</td>\n      <td>NaN</td>\n    </tr>\n    <tr>\n      <th>3</th>\n      <td>3</td>\n      <td>Albania</td>\n      <td>35.40</td>\n      <td>35.40</td>\n      <td>35.40</td>\n      <td>35.40</td>\n      <td>35.40</td>\n      <td>35.40</td>\n      <td>35.40</td>\n      <td>35.40</td>\n      <td>...</td>\n      <td>35.40</td>\n      <td>35.40</td>\n      <td>35.40</td>\n      <td>35.40</td>\n      <td>35.40</td>\n      <td>35.40</td>\n      <td>35.40</td>\n      <td>35.40</td>\n      <td>35.40</td>\n      <td>35.40</td>\n    </tr>\n    <tr>\n      <th>4</th>\n      <td>4</td>\n      <td>Algeria</td>\n      <td>28.82</td>\n      <td>28.82</td>\n      <td>28.82</td>\n      <td>28.82</td>\n      <td>28.82</td>\n      <td>28.82</td>\n      <td>28.82</td>\n      <td>28.82</td>\n      <td>...</td>\n      <td>28.82</td>\n      <td>28.82</td>\n      <td>28.82</td>\n      <td>28.82</td>\n      <td>28.82</td>\n      <td>28.82</td>\n      <td>28.82</td>\n      <td>28.82</td>\n      <td>28.82</td>\n      <td>28.82</td>\n    </tr>\n  </tbody>\n</table>\n<p>5 rows × 102 columns</p>\n</div>"
     },
     "execution_count": 7,
     "metadata": {},
     "output_type": "execute_result"
    }
   ],
   "source": [
    "csv.head()"
   ],
   "metadata": {
    "collapsed": false
   }
  },
  {
   "cell_type": "code",
   "execution_count": 12,
   "outputs": [],
   "source": [
    "melt = pd.melt(frame=csv, id_vars='Life expectancy')"
   ],
   "metadata": {
    "collapsed": false
   }
  },
  {
   "cell_type": "code",
   "execution_count": 13,
   "outputs": [
    {
     "data": {
      "text/plain": "         Life expectancy    variable  value\n0               Abkhazia  Unnamed: 0    0.0\n1            Afghanistan  Unnamed: 0    1.0\n2  Akrotiri and Dhekelia  Unnamed: 0    2.0\n3                Albania  Unnamed: 0    3.0\n4                Algeria  Unnamed: 0    4.0",
      "text/html": "<div>\n<style scoped>\n    .dataframe tbody tr th:only-of-type {\n        vertical-align: middle;\n    }\n\n    .dataframe tbody tr th {\n        vertical-align: top;\n    }\n\n    .dataframe thead th {\n        text-align: right;\n    }\n</style>\n<table border=\"1\" class=\"dataframe\">\n  <thead>\n    <tr style=\"text-align: right;\">\n      <th></th>\n      <th>Life expectancy</th>\n      <th>variable</th>\n      <th>value</th>\n    </tr>\n  </thead>\n  <tbody>\n    <tr>\n      <th>0</th>\n      <td>Abkhazia</td>\n      <td>Unnamed: 0</td>\n      <td>0.0</td>\n    </tr>\n    <tr>\n      <th>1</th>\n      <td>Afghanistan</td>\n      <td>Unnamed: 0</td>\n      <td>1.0</td>\n    </tr>\n    <tr>\n      <th>2</th>\n      <td>Akrotiri and Dhekelia</td>\n      <td>Unnamed: 0</td>\n      <td>2.0</td>\n    </tr>\n    <tr>\n      <th>3</th>\n      <td>Albania</td>\n      <td>Unnamed: 0</td>\n      <td>3.0</td>\n    </tr>\n    <tr>\n      <th>4</th>\n      <td>Algeria</td>\n      <td>Unnamed: 0</td>\n      <td>4.0</td>\n    </tr>\n  </tbody>\n</table>\n</div>"
     },
     "execution_count": 13,
     "metadata": {},
     "output_type": "execute_result"
    }
   ],
   "source": [
    "melt.head()"
   ],
   "metadata": {
    "collapsed": false
   }
  },
  {
   "cell_type": "markdown",
   "source": [
    "### TEST :\n",
    "Cree un df avec des val random"
   ],
   "metadata": {
    "collapsed": false
   }
  },
  {
   "cell_type": "code",
   "execution_count": 65,
   "outputs": [],
   "source": [
    "data = np.array([[0,0.21,0.09,1.3,0.2,1.002,0.32,1.6,0.54,0.61], np.power([0,0.21,0.09,1.3,0.2,1.002,0.32,1.6,0.54,0.61],2)])\n",
    "index_name = [\"point : {}\".format(i) for i in range(data.shape[1])]\n",
    "col_mane = ['test-1', 'test-2']\n",
    "types = float\n",
    "df = pd.DataFrame(data.T, index=index_name, dtype=types, columns=col_mane)"
   ],
   "metadata": {
    "collapsed": false
   }
  },
  {
   "cell_type": "code",
   "execution_count": 66,
   "outputs": [
    {
     "data": {
      "text/plain": "           test-1  test-2\npoint : 0    0.00  0.0000\npoint : 1    0.21  0.0441\npoint : 2    0.09  0.0081\npoint : 3    1.30  1.6900\npoint : 4    0.20  0.0400",
      "text/html": "<div>\n<style scoped>\n    .dataframe tbody tr th:only-of-type {\n        vertical-align: middle;\n    }\n\n    .dataframe tbody tr th {\n        vertical-align: top;\n    }\n\n    .dataframe thead th {\n        text-align: right;\n    }\n</style>\n<table border=\"1\" class=\"dataframe\">\n  <thead>\n    <tr style=\"text-align: right;\">\n      <th></th>\n      <th>test-1</th>\n      <th>test-2</th>\n    </tr>\n  </thead>\n  <tbody>\n    <tr>\n      <th>point : 0</th>\n      <td>0.00</td>\n      <td>0.0000</td>\n    </tr>\n    <tr>\n      <th>point : 1</th>\n      <td>0.21</td>\n      <td>0.0441</td>\n    </tr>\n    <tr>\n      <th>point : 2</th>\n      <td>0.09</td>\n      <td>0.0081</td>\n    </tr>\n    <tr>\n      <th>point : 3</th>\n      <td>1.30</td>\n      <td>1.6900</td>\n    </tr>\n    <tr>\n      <th>point : 4</th>\n      <td>0.20</td>\n      <td>0.0400</td>\n    </tr>\n  </tbody>\n</table>\n</div>"
     },
     "execution_count": 66,
     "metadata": {},
     "output_type": "execute_result"
    }
   ],
   "source": [
    "df.head()"
   ],
   "metadata": {
    "collapsed": false
   }
  },
  {
   "cell_type": "code",
   "execution_count": 108,
   "outputs": [
    {
     "data": {
      "text/plain": "           test-1  test-2   somme  is_positive cat_size\npoint : 0    0.00  0.0000  0.0000         True    large\npoint : 1    0.21  0.0441  0.1659         True    large\npoint : 2    0.09  0.0081  0.0819         True    large\npoint : 3    1.30  1.6900 -0.3900        False      mid\npoint : 4    0.20  0.0400  0.1600         True    large",
      "text/html": "<div>\n<style scoped>\n    .dataframe tbody tr th:only-of-type {\n        vertical-align: middle;\n    }\n\n    .dataframe tbody tr th {\n        vertical-align: top;\n    }\n\n    .dataframe thead th {\n        text-align: right;\n    }\n</style>\n<table border=\"1\" class=\"dataframe\">\n  <thead>\n    <tr style=\"text-align: right;\">\n      <th></th>\n      <th>test-1</th>\n      <th>test-2</th>\n      <th>somme</th>\n      <th>is_positive</th>\n      <th>cat_size</th>\n    </tr>\n  </thead>\n  <tbody>\n    <tr>\n      <th>point : 0</th>\n      <td>0.00</td>\n      <td>0.0000</td>\n      <td>0.0000</td>\n      <td>True</td>\n      <td>large</td>\n    </tr>\n    <tr>\n      <th>point : 1</th>\n      <td>0.21</td>\n      <td>0.0441</td>\n      <td>0.1659</td>\n      <td>True</td>\n      <td>large</td>\n    </tr>\n    <tr>\n      <th>point : 2</th>\n      <td>0.09</td>\n      <td>0.0081</td>\n      <td>0.0819</td>\n      <td>True</td>\n      <td>large</td>\n    </tr>\n    <tr>\n      <th>point : 3</th>\n      <td>1.30</td>\n      <td>1.6900</td>\n      <td>-0.3900</td>\n      <td>False</td>\n      <td>mid</td>\n    </tr>\n    <tr>\n      <th>point : 4</th>\n      <td>0.20</td>\n      <td>0.0400</td>\n      <td>0.1600</td>\n      <td>True</td>\n      <td>large</td>\n    </tr>\n  </tbody>\n</table>\n</div>"
     },
     "execution_count": 108,
     "metadata": {},
     "output_type": "execute_result"
    }
   ],
   "source": [
    "df['somme'] = df['test-1'] - df['test-2']\n",
    "df['somme'] =df['somme'].astype(float)\n",
    "\n",
    "df['is_positive'] = df['somme']>=0\n",
    "df['is_positive'] = df['is_positive'].astype(bool)\n",
    "df.head()"
   ],
   "metadata": {
    "collapsed": false
   }
  },
  {
   "cell_type": "code",
   "execution_count": 109,
   "outputs": [],
   "source": [
    "df['cat_size'] = pd.cut(df['somme'], bins=3, labels=['low', 'mid', 'large']).astype('category')"
   ],
   "metadata": {
    "collapsed": false
   }
  },
  {
   "cell_type": "code",
   "execution_count": 116,
   "outputs": [],
   "source": [
    "groups = df.groupby('is_positive')['cat_size']"
   ],
   "metadata": {
    "collapsed": false
   }
  },
  {
   "cell_type": "code",
   "execution_count": 117,
   "outputs": [
    {
     "data": {
      "text/plain": "point : 0    large\npoint : 1    large\npoint : 2    large\npoint : 3      mid\npoint : 4    large\npoint : 5    large\npoint : 6    large\npoint : 7      low\nName: cat_size, dtype: category\nCategories (3, object): ['low' < 'mid' < 'large']"
     },
     "execution_count": 117,
     "metadata": {},
     "output_type": "execute_result"
    }
   ],
   "source": [
    "groups.head()"
   ],
   "metadata": {
    "collapsed": false
   }
  },
  {
   "cell_type": "code",
   "execution_count": null,
   "outputs": [],
   "source": [],
   "metadata": {
    "collapsed": false
   }
  },
  {
   "cell_type": "markdown",
   "source": [
    "## SQtandardiser :\n",
    "Pour standardiser des valeurs dans un DataFrame, il est possible d'utiliser la méthode StandardScaler de la bibliothèque scikit-learn. Voici les étapes à suivre :\n",
    "\n",
    "Importer la classe StandardScaler depuis la bibliothèque scikit-learn:\n",
    "```\n",
    "from sklearn.preprocessing import StandardScaler\n",
    "Sélectionner les colonnes à standardiser dans le DataFrame.\n",
    "```\n",
    "```\n",
    "df_numerical = df.select_dtypes(include=['float64', 'int64'])\n",
    "Créer une instance de la classe StandardScaler et ajuster-la sur les données sélectionnées.\n",
    "```\n",
    "\n",
    "```\n",
    "scaler = StandardScaler()\n",
    "scaler.fit(df_numerical\n",
    "```\n",
    "Transformer les données sélectionnées avec la méthode transform de la classe StandardScaler.\n",
    "\n",
    "```\n",
    "df_numerical_scaled = scaler.transform(df_numerical)\n",
    "```\n",
    "\n",
    "Créer un nouveau DataFrame avec les données standardisées et les noms de colonnes correspondants.\n",
    "```\n",
    "df_numerical_scaled = pd.DataFrame(df_numerical_scaled, columns=df_numerical.columns)\n",
    "```\n",
    "Le nouveau DataFrame df_numerical_scaled contiendra les données sélectionnées standardisées. Il est important de noter que la standardisation doit être effectuée sur les données numériques, et non sur les données catégorielles ou textuelles.\n",
    "\n",
    "\n",
    "\n"
   ],
   "metadata": {
    "collapsed": false
   }
  }
 ],
 "metadata": {
  "kernelspec": {
   "display_name": "Python 3",
   "language": "python",
   "name": "python3"
  },
  "language_info": {
   "codemirror_mode": {
    "name": "ipython",
    "version": 2
   },
   "file_extension": ".py",
   "mimetype": "text/x-python",
   "name": "python",
   "nbconvert_exporter": "python",
   "pygments_lexer": "ipython2",
   "version": "2.7.6"
  }
 },
 "nbformat": 4,
 "nbformat_minor": 0
}
